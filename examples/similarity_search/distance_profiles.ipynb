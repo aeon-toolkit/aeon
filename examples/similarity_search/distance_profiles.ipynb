{
 "cells": [
  {
   "cell_type": "markdown",
   "id": "2be06527-dbbe-4c32-af27-0b0ff904311d",
   "metadata": {},
   "source": [
    "# Deep dive in the distance profiles"
   ]
  },
  {
   "cell_type": "markdown",
   "id": "d778bc25-a0c4-46b5-a14b-b0c92a1e5f3a",
   "metadata": {},
   "source": [
    "In this notebook, we will talk more about the theory behind distance profile, how they are computed, and how they can be optimized. For practical experiments on the speedups implemented in aeon, refer to the notebook on the [Analysis of the speedups provided by similarity search module](code_speed.ipynb) notebook."
   ]
  },
  {
   "cell_type": "markdown",
   "id": "39d92f2c-e323-4f16-b1cf-d4ef09b15b05",
   "metadata": {},
   "source": [
    "## What are distance profiles ?"
   ]
  },
  {
   "cell_type": "markdown",
   "id": "fad95e02-3d0e-46d7-98bc-7ba6aac66bd3",
   "metadata": {},
   "source": [
    "In the context of similarity search, where we have as input a time series $X = \\{x_1, \\ldots, x_m\\}$ and a query $Q = \\{q_1, \\ldots, q_l\\}$, a distance profile is defined as a vector containing the similarity of $Q$ to every subsequence of size $l$ in $X$, with the $i^{th}$ subsequence denoted by $W_i = \\{x_i, \\ldots, x_{i+(l-1)}\\}$.\n",
    "\n",
    "Given a distance or dissimilarity function $dist$, such as the Euclidean distance, the distance profile $P(X,Q)$ is expressed as :\n",
    "$$P(X, Q) = \\{dist(W_1, Q), \\ldots, dist(W_{m-(l-1)}, Q)\\}$$\n",
    "\n",
    "We can then find the \"best match\" between $Q$ and $X$ by looking at the distance profile minimum value and extract the subsequence $W_{\\text{argmin} P(X,Q)}$ as the best match.\n",
    "\n",
    "### Trivial matches\n",
    "One should be careful of what is called \"trivial matches\" in this situation. If $Q$ is extracted from $X$, it is extremely likely that it will match with itself, as $dist(Q,Q)=0$. To avoid this, it is common to set the parts of the distance profile that are neighbors  to $Q$ to $\\infty$. This is the role of the `q_index` parameter in the similarity search `predict` methods. The `exclusion_factor` parameter is  used to define the neighbors of $Q$ that will also get $\\infty$ value.\n",
    "\n",
    "For example, if $Q$ was extracted at index $i$ in $X$ (i.e. $Q = \\{x_i, \\ldots, x_{i+(l-1)}\\}$), then all points in the interval `[i - l//exclusion_factor, i + l//exclusion_factor]` will the set to $\\infty$ in the distance profile to avoid a trivial match.\n",
    "\n",
    "The same reasoning can also be applied for the best matches of $Q$. It is highly likely that the two best matches will be neighbours, as if $W_i$ and $W_{i+/-1}$ share $l-1$ values. The `apply_exclusion_to_result` boolean parameter in `predict` allows you to apply the exclusion zone defined by `[i - l//exclusion_factor, i + l//exclusion_factor]` to the output of the algorithm.\n"
   ]
  },
  {
   "cell_type": "markdown",
   "id": "b8b578fb-fc8e-4a93-a968-c442a31a0c3f",
   "metadata": {},
   "source": [
    "## Optimizing the distance profile computation"
   ]
  },
  {
   "cell_type": "markdown",
   "id": "1ea5c47a-cf63-438f-8a5a-144a7d934a44",
   "metadata": {},
   "source": [
    "The main idea behind optimizing the distance profile computation, in the case where we want to obtain the exact results (i.e. make no approximation), is to avoid recomputations as much as possible. For example, when computing the mean and standard deviation of each subsequence $W_1, \\ldots, W_{m-l+1}$, instead of computing these statistics independently for each subsequence $W_i$, we can exploit the fact that these subsequences are extracted from the same time series.\n",
    "\n",
    "\n",
    "Consider the case of the mean of $W_i$ expressed as $\\displaystyle{\\mu_i = \\frac{1}{l}\\sum_{j=0}^{l-1} x_{i+j}}$. Instead of completly recomputing the mean of $W_{i+1}$, we can keep a rolling sum $S$ and update it as we go from $\\mu_1$ to $\\mu_{m-l+1}$. \n",
    "\n",
    "Let $\\displaystyle{S_1 = \\sum_{j=0}^{l-1} x_{1+j}}$, we compute the mean of $W_1$ as $\\displaystyle{\\mu_1 = \\frac{1}{l} S_1}$. Then we can compute $S_2$ as $S_2 = S_1 - x_1 + x_{2+l-1}$ and compute  $\\displaystyle{\\mu_2 = \\frac{1}{l} S_2}$. It can be generalized as $S_i = S_{i-1} - x_{i-1} + x_{i+l-1}$. \n",
    "\n",
    "\n",
    "We can apply the same reasoning for computing the standard deviation by keeping a rolling squared sum. For a code example, you can check the [sliding_mean_std_one_series](https://github.com/aeon-toolkit/aeon/blob/3ed8be70a1ff086af92fcdd2b98bf2ae6d4d8520/aeon/utils/numba/general.py#L522) function of aeon."
   ]
  },
  {
   "cell_type": "markdown",
   "id": "8f7dc598-bcd0-4aa1-a846-5ac6ec2cb5c2",
   "metadata": {},
   "source": [
    "### Optimization for the (squared) euclidean distance"
   ]
  },
  {
   "cell_type": "markdown",
   "id": "a2d64766-9b96-4000-bc67-6a9a643715fb",
   "metadata": {},
   "source": [
    "In this section, we consider the case of the **squared euclidean distance (i.e. no square root)**, but the following also holds for the euclidean distance by using $\\displaystyle{\\sqrt{d(W_i, Q)}}$. \n",
    "\n",
    "Applying the same reasoning as the computation of the mean, we can minimize recomputation in the case of the euclidean distance profile. If we consider the euclidean distance between a subsequence  $W_i = \\{x_i, \\ldots, x_{i+(l-1)}\\}$ extracted from a time series  $X = \\{x_1, \\ldots, x_m\\}$, and a query $Q = \\{q_1, \\ldots, q_l\\}$, we have :\n",
    "\n",
    "$\\displaystyle{d(W_i, Q) = \\sum_{j=1}^{l} (q_j - x_{i+j-1})^2}$\n",
    "\n",
    "$\\displaystyle{d(W_i, Q) = \\sum_{j=1}^{l} q_j^2 + \\sum_{j=1}^{l} x_{i+j-1}^2 - 2 \\times \\sum_{j=1}^{l} q_j \\times x_{i+j-1}}$"
   ]
  },
  {
   "cell_type": "markdown",
   "id": "5fc81a35-8243-4b7b-a6c9-8687cea53e3f",
   "metadata": {},
   "source": [
    "Seeing the euclidean distance as the second equation allows us to :\n",
    "- Compute the sum $\\sum_{j=1}^{l} q_j^2$ only once for all $W_i$\n",
    "- Keep a rolling sum to update $\\sum_{j=1}^{l} x_{i+j-1}^2$ as we go from $W_1$ to $W_{m-l+1}$\n",
    "- Use a cross-correlation operation efficiently to compute $\\sum_{j=1}^{l} q_j \\times x_{i+j-1}$ as $X*Q$. For large inputs, we can also compute this in the frequency domain with a convolution (see [scipy convolve function](https://docs.scipy.org/doc/scipy/reference/generated/scipy.signal.convolve.html)), in which case we need to flip the query Q before computing the convolution."
   ]
  },
  {
   "cell_type": "markdown",
   "id": "2b9d3f71-8c3e-4198-a556-2059d234d701",
   "metadata": {},
   "source": [
    "#### What about the normalized (squared) euclidean distance ?"
   ]
  },
  {
   "cell_type": "markdown",
   "id": "6ca03c85-0c68-4dc7-bafa-9c7a93b5242e",
   "metadata": {},
   "source": [
    "The trick we use for the non normalized euclidean distance cannot apply to the normalized distance, as we cannot keep the rolling sum between subsequences with different means and standard deviations. However, we can compute the normalized euclidean distance as the pearson correlation coefficient, as show in the paper [Matrix Profile I: All Pairs Similarity Joins for Time Series](https://www.cs.ucr.edu/~eamonn/PID4481997_extend_Matrix%20Profile_I.pdf).\n",
    "\n",
    "Consider the mean $\\mu_i$ and standard deviation $\\sigma_i$ of a subsequence $W_i$ (computed with rolling sums) and the mean $\\mu_q$ and standard deviation $\\sigma_q$ of the query. Given $QW_i$ the dot product obtained from a cross correlation or a convolution operation between $X$ and $Q$, we can compute the normalized squared euclidean distance as :\n",
    "\n",
    "$\\displaystyle{d(W_i, Q) = 2l (\\frac{QW_i - l.\\mu_q.\\mu_i}{l.\\sigma_q.\\sigma_i})}$"
   ]
  },
  {
   "cell_type": "code",
   "execution_count": null,
   "id": "46d3da1a-4323-44ff-91ac-a7681ebb2fd5",
   "metadata": {},
   "outputs": [],
   "source": []
  }
 ],
 "metadata": {
  "kernelspec": {
   "display_name": "Python 3 (Spyder)",
   "language": "python3",
   "name": "python3"
  },
  "language_info": {
   "codemirror_mode": {
    "name": "ipython",
    "version": 3
   },
   "file_extension": ".py",
   "mimetype": "text/x-python",
   "name": "python",
   "nbconvert_exporter": "python",
   "pygments_lexer": "ipython3",
   "version": "3.10.13"
  }
 },
 "nbformat": 4,
 "nbformat_minor": 5
}
