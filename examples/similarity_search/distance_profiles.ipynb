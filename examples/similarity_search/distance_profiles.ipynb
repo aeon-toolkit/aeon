{
 "cells": [
  {
   "cell_type": "markdown",
   "id": "2be06527-dbbe-4c32-af27-0b0ff904311d",
   "metadata": {},
   "source": [
    "# Deep dive in the distance profiles"
   ]
  },
  {
   "cell_type": "markdown",
   "id": "d778bc25-a0c4-46b5-a14b-b0c92a1e5f3a",
   "metadata": {},
   "source": [
    "In this notebook, we will talk more about the theory behind distance profile, how they are computed, and how they can be optimized. For practical experiments on the speedups implemented in aeon, refer to the notebook on the [Analysis of the speedups provided by similarity search module](code_speed.ipynb) notebook."
   ]
  },
  {
   "cell_type": "markdown",
   "id": "39d92f2c-e323-4f16-b1cf-d4ef09b15b05",
   "metadata": {},
   "source": [
    "## What are distance profiles ?"
   ]
  },
  {
   "cell_type": "markdown",
   "id": "fad95e02-3d0e-46d7-98bc-7ba6aac66bd3",
   "metadata": {},
   "source": [
    "In the context of similarity search, where we have as input a time series $X = \\{x_1, \\ldots, x_m\\}$ and a query $Q = \\{q_1, \\ldots, q_l\\}$, a distance profile is defined as a vector containing the similarity of $Q$ to every subsequence of size $l$ in $X$, with the $i^{th}$ subsequence denoted by $W_i = \\{x_i, \\ldots, x_{i+(l-1)}\\}$.\n",
    "\n",
    "Given a distance or dissimilarity function $dist$, such as the Euclidean distance, the distance profile $P(X,Q)$ is expressed as :\n",
    "$$P(X, Q) = \\{dist(W_1, Q), \\ldots, dist(W_{m-(l-1)}, Q)\\}$$\n",
    "\n",
    "We can then find the \"best match\" between $Q$ and $X$ by looking at the distance profile minimum value and extract the subsequence $W_{\\text{argmin} P(X,Q)}$ as the best match.\n",
    "\n",
    "### Trivial matches\n",
    "One should be careful of what is called \"trivial matches\" in this situation. If $Q$ is extracted from $X$, it is extremely likely that it will match with itself, as $dist(Q,Q)=0$. To avoid this, it is common to set the parts of the distance profile that are neighbors  to $Q$ to $\\infty$. This is the role of the `q_index` parameter in the similarity search `predict` methods. The `exclusion_factor` parameter is  used to define the neighbors of $Q$ that will also get $\\infty$ value.\n",
    "\n",
    "For example, if $Q$ was extracted at index $i$ in $X$ (i.e. $Q = \\{x_i, \\ldots, x_{i+(l-1)}\\}$), then all points in the interval `[i - l//exclusion_factor, i + l//exclusion_factor]` will the set to $\\infty$ in the distance profile to avoid a trivial match.\n"
   ]
  }
 ],
 "metadata": {
  "kernelspec": {
   "display_name": "Python 3 (Spyder)",
   "language": "python3",
   "name": "python3"
  },
  "language_info": {
   "codemirror_mode": {
    "name": "ipython",
    "version": 3
   },
   "file_extension": ".py",
   "mimetype": "text/x-python",
   "name": "python",
   "nbconvert_exporter": "python",
   "pygments_lexer": "ipython3",
   "version": "3.10.10"
  }
 },
 "nbformat": 4,
 "nbformat_minor": 5
}
