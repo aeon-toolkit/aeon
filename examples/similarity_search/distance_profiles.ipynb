{
 "cells": [
  {
   "cell_type": "markdown",
   "id": "2be06527-dbbe-4c32-af27-0b0ff904311d",
   "metadata": {},
   "source": [
    "# Deep dive in distance profile"
   ]
  },
  {
   "cell_type": "markdown",
   "id": "39d92f2c-e323-4f16-b1cf-d4ef09b15b05",
   "metadata": {},
   "source": [
    "## What are distance profiles ?"
   ]
  },
  {
   "cell_type": "markdown",
   "id": "e5ab1135-04bc-4367-8af6-426f07b53203",
   "metadata": {},
   "source": [
    "## Mueen's algorithm for normalized euclidean distance"
   ]
  }
 ],
 "metadata": {
  "kernelspec": {
   "display_name": "Python 3 (Spyder)",
   "language": "python3",
   "name": "python3"
  },
  "language_info": {
   "codemirror_mode": {
    "name": "ipython",
    "version": 3
   },
   "file_extension": ".py",
   "mimetype": "text/x-python",
   "name": "python",
   "nbconvert_exporter": "python",
   "pygments_lexer": "ipython3",
   "version": "3.10.10"
  }
 },
 "nbformat": 4,
 "nbformat_minor": 5
}
