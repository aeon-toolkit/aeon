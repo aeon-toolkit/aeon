{
 "cells": [
  {
   "cell_type": "markdown",
   "id": "5083d23c-e27f-4d14-a8d2-12e11a6aff42",
   "metadata": {},
   "source": [
    "# Time Series Similarity search with aeon\n",
    "\n",
    "The goal of Time Series Similarity search is to asses the similarities between a time series, denoted as a query `q` of length `l`, and a collection of time series, denoted as `X`, which lengths are superior or equal to `l`. In this context, the notion of similiarity between `q` and the other series in `X` is quantified by similarity functions. Those functions are most of the time defined as distance function, such as the Euclidean distance. Knowing the similarity between `q` and other admissible candidates, we can then perform many other tasks for \"free\", such as anomaly or motif detection.\n",
    "\n",
    "<img src=\"img/sim_search.png\" width=\"600\" alt=\"time series similarity search\">"
   ]
  },
  {
   "cell_type": "code",
   "execution_count": null,
   "id": "e4200cb0-2966-4bf9-a22b-922db192317c",
   "metadata": {},
   "outputs": [],
   "source": [
    "def plot_best_matches(top_k_search, best_matches):\n",
    "    fig, ax = plt.subplots(figsize=(20, 5), ncols=3)\n",
    "    for i_k, (id_sample, id_timestamp) in enumerate(best_matches):\n",
    "        # plot the sample of the best match\n",
    "        ax[i_k].plot(top_k_search.X_[id_sample, 0], linewidth=2)\n",
    "        # plot the location of the best match on it\n",
    "        ax[i_k].plot(\n",
    "            range(id_timestamp, id_timestamp + q.shape[1]),\n",
    "            top_k_search.X_[id_sample, 0, id_timestamp : id_timestamp + q.shape[1]],\n",
    "            linewidth=7,\n",
    "            alpha=0.5,\n",
    "            color=\"green\",\n",
    "            label=\"best match location\",\n",
    "        )\n",
    "        # plot the query on the location of the best match\n",
    "        ax[i_k].plot(\n",
    "            range(id_timestamp, id_timestamp + q.shape[1]),\n",
    "            q[0],\n",
    "            linewidth=5,\n",
    "            alpha=0.5,\n",
    "            color=\"red\",\n",
    "            label=\"query\",\n",
    "        )\n",
    "        ax[i_k].set_title(f\"best match {i_k}\")\n",
    "        ax[i_k].legend()\n",
    "    plt.show()\n",
    "\n",
    "\n",
    "def plot_matrix_profile(X, mp, i_k):\n",
    "    fig, ax = plt.subplots(figsize=(20, 5), nrows=2)\n",
    "    ax[0].set_title(\"series X used to build the matrix profile\")\n",
    "    ax[0].plot(X)\n",
    "    # This is necessary as mp is a list of arrays due to unequal length support\n",
    "    # as it can have different number of matches for each step when\n",
    "    # using threshold-based search.\n",
    "    ax[1].plot([mp[i][i_k] for i in range(len(mp))])\n",
    "    ax[1].set_title(f\"Top {i_k+1} matrix profile of X\")\n",
    "    ax[1].set_ylabel(f\"Dist to top {i_k+1} match\")\n",
    "    ax[1].set_xlabel(\"Starting index of the query in X\")\n",
    "    plt.show()"
   ]
  },
  {
   "cell_type": "markdown",
   "id": "7e06b213-6038-4901-b98e-2433625115c4",
   "metadata": {},
   "source": [
    "## Similarity search Notebooks\n",
    "\n",
    "This notebook gives an overview of similarity search module and the available estimators. The following notebooks are avaiable to go more in depth with specific subject of similarity search in aeon:\n",
    "\n",
    "- [Deep dive in the distance profiles](distance_profiles.ipynb)\n",
    "- [Analysis of the speedups provided by similarity search module](code_speed.ipynb)"
   ]
  },
  {
   "cell_type": "markdown",
   "id": "ca967c08-9a05-411a-a09a-ad8a13c0adb9",
   "metadata": {},
   "source": [
    "## Expected inputs and format\n",
    "For both `QuerySearch` and `SeriesSearch`, the `fit` method expects a time series dataset of shape `(n_cases, n_channels, n_timepoints)`. This can be 3D numpy array or a list of 2D numpy arrays if `n_timepoints` varies between cases (i.e. unequal length dataset). \n",
    "\n",
    "The `predict` method expects a 2D numpy array of shape `(n_channels, query_length)` for `QuerySearch`. In `SeriesSearch`, the predict methods also expects a 2D numpy array, but  of shape `(n_channels, n_timepoints)` (`n_timepoints` doesn't have to be the same as in fit) and a `query_length` parameter."
   ]
  },
  {
   "cell_type": "markdown",
   "id": "d1fd75ae-84c2-40be-95f6-bd7de409317d",
   "metadata": {},
   "source": [
    "## Available estimators\n",
    "\n",
    "All estimators of the similarity search module in aeon inherit from the `BaseSimilaritySearch` class, which requires the following arguments:\n",
    "- `distance` : a string indicating which distance function to use as similarity function. By default this is `\"euclidean\"`, which means that the Euclidean distance is used.\n",
    "- `normalize` : a boolean indicating whether this similarity function should be z-normalized. This means that the scale of the two series being compared will be ignored, and that, loosely speaking, we will only focus on their shape during the comparison. By default, this parameter is set `False`.\n",
    "\n",
    "Another parameter, which has no effect on the output of the estimators, is a boolean named `store_distance_profile`, set to `False` by default. If set to `True`, the estimators will expose an attribute named `_distance_profile` after the `predict` function is called. This attribute will contain the computed distance profile for query given as input to the `predict` function.\n",
    "\n",
    "To illustrate how to work with similarity search estimators in aeon, we will now present some example use cases."
   ]
  },
  {
   "cell_type": "markdown",
   "id": "01fa67c2-0126-4152-98a9-fa0df84c4629",
   "metadata": {},
   "source": [
    "### Query search"
   ]
  },
  {
   "cell_type": "markdown",
   "id": "8e99b251-d156-4989-b5a0-3a2c79cb75d4",
   "metadata": {},
   "source": [
    "We will use the GunPoint dataset for this example, which can be loaded using the `load_classification` function."
   ]
  },
  {
   "cell_type": "code",
   "execution_count": null,
   "id": "f8a6bb7e-b219-41f1-b508-b849c45672eb",
   "metadata": {},
   "outputs": [],
   "source": [
    "import numpy as np\n",
    "from matplotlib import pyplot as plt\n",
    "\n",
    "from aeon.datasets import load_classification\n",
    "\n",
    "# Load GunPoint dataset\n",
    "X, y = load_classification(\"GunPoint\")\n",
    "\n",
    "classes = np.unique(y)\n",
    "\n",
    "fig, ax = plt.subplots(figsize=(20, 5), ncols=len(classes))\n",
    "for i_class, _class in enumerate(classes):\n",
    "    for i_x in np.where(y == _class)[0][0:2]:\n",
    "        ax[i_class].plot(X[i_x, 0], label=f\"sample {i_x}\")\n",
    "    ax[i_class].legend()\n",
    "    ax[i_class].set_title(f\"class {_class}\")\n",
    "plt.suptitle(\"Example samples for the GunPoint dataset\")\n",
    "plt.show()"
   ]
  },
  {
   "cell_type": "markdown",
   "id": "5392f7f4-1825-4b15-9248-27eeecb1af3c",
   "metadata": {},
   "source": [
    "The GunPoint dataset is composed of two classes which are discriminated by the \"bumps\" located before and after the central peak. These bumps correspond to an actor drawing a fake gun from a holster before pointing it (hence the name \"GunPoint\" !). In the second class, the actor simply points his fingers without making the motion of taking the gun out of the holster.\n",
    "\n",
    "Suppose that we define our input query for the similarity search task as one of these bumps:"
   ]
  },
  {
   "cell_type": "code",
   "execution_count": null,
   "id": "a494a0be-4459-414d-9fc2-1400feefd171",
   "metadata": {},
   "outputs": [],
   "source": [
    "# We will use the fourth sample an testing data\n",
    "X_test = X[3]\n",
    "mask = np.ones(X.shape[0], dtype=bool)\n",
    "mask[3] = False\n",
    "# Use this mask to exluce the sample from which we will extract the query\n",
    "X_train = X[mask]\n",
    "\n",
    "q = X_test[:, 20:55]\n",
    "plt.plot(q[0])\n",
    "plt.show()"
   ]
  },
  {
   "cell_type": "markdown",
   "id": "fcf10a34-930a-4fce-86f8-4dfa207cad11",
   "metadata": {},
   "source": [
    "Then, we can use the `QuerySearch` class to search for the top `k` matches of this query in a collection of series. The training data for `QuerySearch` can be seen as the database in which want to search for the query on."
   ]
  },
  {
   "cell_type": "code",
   "execution_count": null,
   "id": "80eaab8f-204f-439f-84c8-ad3462f1575e",
   "metadata": {},
   "outputs": [],
   "source": [
    "from aeon.similarity_search import QuerySearch\n",
    "\n",
    "# Here, the distance function (distance and normalize arguments)\n",
    "top_k_search = QuerySearch(k=3, distance=\"euclidean\")\n",
    "# Call fit to store X_train as the database to search in\n",
    "top_k_search.fit(X_train)\n",
    "distances_to_matches, best_matches = top_k_search.predict(q)\n",
    "for i in range(len(best_matches)):\n",
    "    print(f\"match {i} : {best_matches[i]} with distance {distances_to_matches[i]} to q\")"
   ]
  },
  {
   "cell_type": "markdown",
   "id": "3dc402cf-80b7-4d0c-b07c-2f8e7822ac97",
   "metadata": {},
   "source": [
    "The similarity search estimators return a list of size `k`, which contains a tuple containing the location of the best matches as `(id_sample, id_timestamp)`. We can then plot the results as:"
   ]
  },
  {
   "cell_type": "code",
   "execution_count": null,
   "id": "23efe48e-8257-4ecc-93a2-d72f19024ab5",
   "metadata": {},
   "outputs": [],
   "source": [
    "plot_best_matches(top_k_search, best_matches)"
   ]
  },
  {
   "cell_type": "markdown",
   "id": "877b1b32-d978-4c54-a4e7-b475496f710a",
   "metadata": {},
   "source": [
    "You may also want to search not for the top-k matches, but for all matches below a threshold on the distance from the query to a candidate. To do so, you can use the `threshold` parameter of `QuerySearch` :"
   ]
  },
  {
   "cell_type": "code",
   "execution_count": null,
   "id": "23ad7adb-2b01-4425-a2e8-c393f3721a0f",
   "metadata": {},
   "outputs": [],
   "source": [
    "# Here, the distance function (distance and normalize arguments)\n",
    "top_k_search = QuerySearch(k=np.inf, threshold=0.25, distance=\"euclidean\")\n",
    "top_k_search.fit(X_train)\n",
    "distances_to_matches, best_matches = top_k_search.predict(q)\n",
    "for i in range(len(best_matches)):\n",
    "    print(f\"match {i} : {best_matches[i]} with distance {distances_to_matches[i]} to q\")"
   ]
  },
  {
   "cell_type": "markdown",
   "id": "0efd83a5-b36f-4809-be96-94de734d931c",
   "metadata": {},
   "source": [
    "You may also combine the `k` and `threshold` parameter :"
   ]
  },
  {
   "cell_type": "code",
   "execution_count": null,
   "id": "65db1593-3873-4a47-9e2a-d8dfcf42dd1a",
   "metadata": {},
   "outputs": [],
   "source": [
    "# Here, the distance function (distance and normalize arguments)\n",
    "top_k_search = QuerySearch(k=3, threshold=0.25, distance=\"euclidean\")\n",
    "top_k_search.fit(X_train)\n",
    "distances_to_matches, best_matches = top_k_search.predict(q)\n",
    "for i in range(len(best_matches)):\n",
    "    print(f\"match {i} : {best_matches[i]} with distance {distances_to_matches[i]} to q\")"
   ]
  },
  {
   "cell_type": "markdown",
   "id": "ff62a385-d58e-4fb1-95dd-eb0474711531",
   "metadata": {},
   "source": [
    "It is also possible to return the worst matches to the query, by using the `inverse_distance` parameter :"
   ]
  },
  {
   "cell_type": "code",
   "execution_count": null,
   "id": "6d6078ab-9104-462e-9856-1d0fc9594b24",
   "metadata": {},
   "outputs": [],
   "source": [
    "# Here, the distance function (distance and normalize arguments)\n",
    "top_k_search = QuerySearch(k=3, inverse_distance=True, distance=\"euclidean\")\n",
    "top_k_search.fit(X_train)\n",
    "distances_to_matches, best_matches = top_k_search.predict(q)\n",
    "plot_best_matches(top_k_search, best_matches)"
   ]
  },
  {
   "cell_type": "markdown",
   "id": "695b1378-e950-424f-b231-4791b4990d2c",
   "metadata": {},
   "source": [
    "## Using other distance functions"
   ]
  },
  {
   "cell_type": "markdown",
   "id": "891dd4ff-f4a6-435d-ba88-03c147d0f068",
   "metadata": {},
   "source": [
    "You can use any distance from the aeon distance module in the similarity search module. You can obtain a list of all available distances by using the following:"
   ]
  },
  {
   "cell_type": "code",
   "execution_count": null,
   "id": "0b187809-2555-4b56-894b-c4f00351b87f",
   "metadata": {},
   "outputs": [],
   "source": [
    "from aeon.distances import get_distance_function_names\n",
    "\n",
    "get_distance_function_names()"
   ]
  },
  {
   "cell_type": "markdown",
   "id": "8ba0867e-2378-401f-914f-65f853ced8ed",
   "metadata": {},
   "source": [
    "You can also specify keyword arguments using the `distance_args`parameter of any estimator inheriting from `BaseSimilaritySearch`, such as the `QuerySearch` estimator. For example using the `w` parameter for `dtw`, which specify the warping size:"
   ]
  },
  {
   "cell_type": "code",
   "execution_count": null,
   "id": "29bf094c-3d9e-4d46-813d-9bc0af0e8d3a",
   "metadata": {},
   "outputs": [],
   "source": [
    "top_k_search = QuerySearch(k=3, distance=\"dtw\", distance_args={\"w\": 0.2})\n",
    "\n",
    "q = X[3, :, 20:55]\n",
    "mask = np.ones(X.shape[0], dtype=bool)\n",
    "mask[3] = False\n",
    "# Use this mask to exluce the sample from which we extracted the query\n",
    "X_train = X[mask]\n",
    "# Call fit to store X_train as the database to search in\n",
    "top_k_search.fit(X_train)\n",
    "distances_to_matches, best_matches = top_k_search.predict(q)\n",
    "print(best_matches)"
   ]
  },
  {
   "cell_type": "code",
   "execution_count": null,
   "id": "0d4e3ad5-8cc4-4736-9b91-9a7d97d876c4",
   "metadata": {},
   "outputs": [],
   "source": [
    "plot_best_matches(top_k_search, best_matches)"
   ]
  },
  {
   "cell_type": "markdown",
   "id": "3030b8ea-c16f-4b4b-a419-dfbfd71757f2",
   "metadata": {},
   "source": [
    "## Using you own distance functions"
   ]
  },
  {
   "cell_type": "markdown",
   "id": "84cc9fa7-72ee-4c7e-908f-b438912a050e",
   "metadata": {},
   "source": [
    "You can also create you own distance funcion and pass it in the distance parameter :"
   ]
  },
  {
   "cell_type": "code",
   "execution_count": null,
   "id": "d31e4652-63a8-442e-b49e-14ebb406c0c9",
   "metadata": {},
   "outputs": [],
   "source": [
    "def my_dist(x, y):\n",
    "    return np.sum(np.abs(x - y))\n",
    "\n",
    "\n",
    "top_k_search = QuerySearch(k=3, distance=my_dist)\n",
    "\n",
    "q = X[3, :, 20:55]\n",
    "mask = np.ones(X.shape[0], dtype=bool)\n",
    "mask[3] = False\n",
    "# Use this mask to exluce the sample from which we extracted the query\n",
    "X_train = X[mask]\n",
    "# Call fit to store X_train as the database to search in\n",
    "top_k_search.fit(X_train)\n",
    "distances_to_matches, best_matches = top_k_search.predict(q)\n",
    "print(best_matches)"
   ]
  },
  {
   "cell_type": "code",
   "execution_count": null,
   "id": "2916ad96-2887-4c4b-aeba-93c9fd9bb886",
   "metadata": {},
   "outputs": [],
   "source": [
    "plot_best_matches(top_k_search, best_matches)"
   ]
  },
  {
   "cell_type": "markdown",
   "id": "b42846f6-589f-4ef2-bb29-9b86bccac352",
   "metadata": {},
   "source": [
    "Internally, we will try to compile this function using numba. Errors might appear if your function use operations unsported by numba (see  [numba docs](https://numba.readthedocs.io/en/stable/reference/numpysupported.html)). You could also disable numba using `numba.config.DISTABLE_JIT = True`, but the code will run a lot slower."
   ]
  },
  {
   "cell_type": "markdown",
   "id": "b5240535-5123-4ac5-a5e0-e0502ef80b3e",
   "metadata": {},
   "source": [
    "## Using the speed_up option for similarity search"
   ]
  },
  {
   "cell_type": "markdown",
   "id": "b5e13c31-2aa3-4987-8d44-8a296c81a318",
   "metadata": {},
   "source": [
    "In the similarity search module, we implement different kind of optimization to decrease the time necessary to extract the best matches to a query. You can find more information about these optimization in the other notebooks of the similarity search module. An utility function is available to list the optimizations currently implemented in aeon :  "
   ]
  },
  {
   "cell_type": "code",
   "execution_count": null,
   "id": "d22e2d74-f44d-4c81-ba1b-72d618bd5862",
   "metadata": {},
   "outputs": [],
   "source": [
    "QuerySearch.get_speedup_function_names()"
   ]
  },
  {
   "cell_type": "markdown",
   "id": "bf12616c-6ace-478b-806f-5419c2c19f2b",
   "metadata": {},
   "source": [
    "By default, the `fastest` option is used, which use the best optimisation available. You can change this behavior by using the values of t with the corresponding distance function and normalization options in the estimators, for example with a `QuerySearch` using the `normalized euclidean` distance:"
   ]
  },
  {
   "cell_type": "code",
   "execution_count": null,
   "id": "6313f26a-5788-42dc-881a-40746458414c",
   "metadata": {},
   "outputs": [],
   "source": [
    "top_k_search = QuerySearch(distance=\"euclidean\", normalize=True, speed_up=\"Mueen\")"
   ]
  },
  {
   "cell_type": "markdown",
   "id": "6ab51d84-7220-4333-b50e-2db695eaf45d",
   "metadata": {},
   "source": [
    "For more information on these optimizations you can refer to the [distance profile notebook](distance_profiles.ipynb) for the theory, and to the [analysis of the speedups provided by similarity search module](code_speed.ipynb) for a comparison of their performance."
   ]
  },
  {
   "cell_type": "markdown",
   "id": "4149c40f",
   "metadata": {},
   "source": [
    "# Series search\n",
    "For series search, we are not interest in exploring the relationship of the input dataset `X` (given in `fit`) and a single query, but to all queries of size `query_length` that exists in another time series `T`. For example, with using again our simple GunPoint dataset:"
   ]
  },
  {
   "cell_type": "code",
   "execution_count": null,
   "id": "d510c4cc",
   "metadata": {},
   "outputs": [],
   "source": [
    "from similarity_search import SeriesSearch\n",
    "\n",
    "query_length = 25\n",
    "estimator = SeriesSearch().fit(X_train)  # X_test is a 3D array\n",
    "mp, ip = estimator.predict(X_test, query_length)  # X_test is a 2D array\n",
    "plot_matrix_profile(X, mp, 0)\n",
    "print(f\"Index of the first query best matches : {ip[0]}\")"
   ]
  },
  {
   "cell_type": "markdown",
   "id": "0dca5122",
   "metadata": {},
   "source": [
    "`SeriesSearch` returns two lists, `mp` and `ip`, which respectively contain the distances to the best matches of all queries of size `query_length` in `X_test` (the `i-th` query being `X_test[:, i : i + query_length]`) and the indexes of these best matches in `X_train` in the `(ix_case, ix_timepoint)` format, such as `X_train[ix_case, :, ix_timepoint : ix_timepoint + query_length]` will be the matching subsquence. "
   ]
  }
 ],
 "metadata": {
  "kernelspec": {
   "display_name": "Python 3 (Spyder)",
   "language": "python3",
   "name": "python3"
  },
  "language_info": {
   "codemirror_mode": {
    "name": "ipython",
    "version": 3
   },
   "file_extension": ".py",
   "mimetype": "text/x-python",
   "name": "python",
   "nbconvert_exporter": "python",
   "pygments_lexer": "ipython3",
   "version": "3.10.14"
  }
 },
 "nbformat": 4,
 "nbformat_minor": 5
}
