{
 "cells": [
  {
   "cell_type": "markdown",
   "metadata": {},
   "source": [
    "# aeon transformers\n",
    "\n",
    "Transformers are objects that transform data from one representation to another. `aeon`\n",
    "contains time series specific transformers which can be used in\n",
    "pipelines in conjunction with other estimators.\n",
    "Note: the term \"transformer\" is used in deep learning to refer to specific neural\n",
    "network architectures. `aeon` transformers follow the `scikit-learn` design: they\n",
    "have `fit`, `transform` and `fit_transform`  methods that combine the two functions.\n",
    "\n",
    "`aeon` distinguishes different types of transformer, depending on the input type of\n",
    "`fit` and `transform`. The main distinction is whether the input is a single time\n",
    "series or a collection of time series."
   ]
  },
  {
   "cell_type": "markdown",
   "metadata": {},
   "source": [
    "### Series Transformers\n",
    "\n",
    "Single series transformers (in the package\n",
    "`aeon/transformers/series`) all extend the base class `BaseTransformer`. They are mostly\n",
    "used in forecasting and are best used with `pd.Series` or `pd.DataFrame` input.\n",
    "Collections are meant to be used with numpy arrays or lists\n",
    "of numpy arrays. See the [data storage](examples/datasets/data_Storage.ipynb)\n",
    "notebook for clarification of how best to store data with aeon.\n",
    "\n",
    "Transformers also differ in terms of whether they convert time series into\n",
    "(different) time series, or whether they  convert series into vectors.\n",
    "\n",
    "To illustrate the difference, we compare two series transformers with different output:\n",
    "\n",
    "* the Box-Cox transformer `BoxCoxTransformer`, which transforms a time series to a\n",
    "time series using the [Box Cox power transform](https://en.wikipedia.org/wiki/Power_transform#Box%E2%80%93Cox_transformation)\n",
    "* the summary transformer `SummaryTransformer`, which transforms a time series to a\n",
    "vector of summary statistics such as the mean an standard deviation.\n"
   ]
  },
  {
   "cell_type": "markdown",
   "metadata": {},
   "source": []
  },
  {
   "cell_type": "code",
   "execution_count": 88,
   "metadata": {},
   "outputs": [
    {
     "data": {
      "text/plain": "pandas.core.series.Series"
     },
     "execution_count": 88,
     "metadata": {},
     "output_type": "execute_result"
    }
   ],
   "source": [
    "from aeon.datasets import load_airline\n",
    "from aeon.transformations.series.boxcox import BoxCoxTransformer\n",
    "from aeon.transformations.series.summarize import SummaryTransformer\n",
    "\n",
    "airline = load_airline()\n",
    "boxcox_trans = BoxCoxTransformer()\n",
    "summary_trans = SummaryTransformer()\n",
    "# airline is a single time series stored in a pd.Series\n",
    "airline = load_airline()\n",
    "type(airline)"
   ]
  },
  {
   "cell_type": "code",
   "execution_count": 89,
   "outputs": [
    {
     "data": {
      "text/plain": "Period\n1949-01    112.0\n1949-02    118.0\n1949-03    132.0\n1949-04    129.0\n1949-05    121.0\nFreq: M, Name: Number of airline passengers, dtype: float64"
     },
     "execution_count": 89,
     "metadata": {},
     "output_type": "execute_result"
    }
   ],
   "source": [
    "airline[:5]"
   ],
   "metadata": {
    "collapsed": false
   }
  },
  {
   "cell_type": "code",
   "execution_count": 90,
   "metadata": {},
   "outputs": [
    {
     "data": {
      "text/plain": "pandas.core.series.Series"
     },
     "execution_count": 90,
     "metadata": {},
     "output_type": "execute_result"
    }
   ],
   "source": [
    "# this produces a pandas Series\n",
    "airline_bc = boxcox_trans.fit_transform(airline)\n",
    "type(airline_bc)"
   ]
  },
  {
   "cell_type": "code",
   "execution_count": 91,
   "outputs": [
    {
     "data": {
      "text/plain": "Period\n1949-01    6.827490\n1949-02    6.932822\n1949-03    7.161892\n1949-04    7.114611\n1949-05    6.983787\nFreq: M, dtype: float64"
     },
     "execution_count": 91,
     "metadata": {},
     "output_type": "execute_result"
    }
   ],
   "source": [
    "airline_bc[:5]"
   ],
   "metadata": {
    "collapsed": false
   }
  },
  {
   "cell_type": "code",
   "execution_count": 92,
   "metadata": {},
   "outputs": [
    {
     "data": {
      "text/plain": "pandas.core.frame.DataFrame"
     },
     "execution_count": 92,
     "metadata": {},
     "output_type": "execute_result"
    }
   ],
   "source": [
    "# this produces a pandas.DataFrame row\n",
    "airline_summary = summary_trans.fit_transform(airline)\n",
    "type(airline_summary)"
   ]
  },
  {
   "cell_type": "code",
   "execution_count": 87,
   "outputs": [
    {
     "data": {
      "text/plain": "         mean         std    min    max    0.1   0.25    0.5   0.75    0.9\n0  280.298611  119.966317  104.0  622.0  135.3  180.0  265.5  360.5  453.2",
      "text/html": "<div>\n<style scoped>\n    .dataframe tbody tr th:only-of-type {\n        vertical-align: middle;\n    }\n\n    .dataframe tbody tr th {\n        vertical-align: top;\n    }\n\n    .dataframe thead th {\n        text-align: right;\n    }\n</style>\n<table border=\"1\" class=\"dataframe\">\n  <thead>\n    <tr style=\"text-align: right;\">\n      <th></th>\n      <th>mean</th>\n      <th>std</th>\n      <th>min</th>\n      <th>max</th>\n      <th>0.1</th>\n      <th>0.25</th>\n      <th>0.5</th>\n      <th>0.75</th>\n      <th>0.9</th>\n    </tr>\n  </thead>\n  <tbody>\n    <tr>\n      <th>0</th>\n      <td>280.298611</td>\n      <td>119.966317</td>\n      <td>104.0</td>\n      <td>622.0</td>\n      <td>135.3</td>\n      <td>180.0</td>\n      <td>265.5</td>\n      <td>360.5</td>\n      <td>453.2</td>\n    </tr>\n  </tbody>\n</table>\n</div>"
     },
     "execution_count": 87,
     "metadata": {},
     "output_type": "execute_result"
    }
   ],
   "source": [
    "airline_summary[:5]"
   ],
   "metadata": {
    "collapsed": false
   }
  },
  {
   "cell_type": "markdown",
   "source": [
    "Some"
   ],
   "metadata": {
    "collapsed": false
   }
  },
  {
   "cell_type": "markdown",
   "source": [
    "You can get a list of all series-to-series and series-to-vector transformers as\n",
    "follows. Please consult the API for details on each"
   ],
   "metadata": {
    "collapsed": false
   }
  },
  {
   "cell_type": "code",
   "execution_count": 1,
   "outputs": [
    {
     "data": {
      "text/plain": "                          name  \\\n0                   Aggregator   \n1   AutoCorrelationTransformer   \n2                     BKFilter   \n3            BoxCoxTransformer   \n4             ClaSPTransformer   \n..                         ...   \n68         TransformerPipeline   \n69       TruncationTransformer   \n70         WhiteNoiseAugmenter   \n71            WindowSummarizer   \n72                        YtoX   \n\n                                            estimator  \n0   <class 'aeon.transformations.hierarchical.aggr...  \n1   <class 'aeon.transformations.series.acf.AutoCo...  \n2   <class 'aeon.transformations.series.bkfilter.B...  \n3   <class 'aeon.transformations.series.boxcox.Box...  \n4   <class 'aeon.transformations.series.clasp.ClaS...  \n..                                                ...  \n68  <class 'aeon.transformations.compose.Transform...  \n69  <class 'aeon.transformations.collection.trunca...  \n70  <class 'aeon.transformations.series.augmenter....  \n71  <class 'aeon.transformations.series.summarize....  \n72        <class 'aeon.transformations.compose.YtoX'>  \n\n[73 rows x 2 columns]",
      "text/html": "<div>\n<style scoped>\n    .dataframe tbody tr th:only-of-type {\n        vertical-align: middle;\n    }\n\n    .dataframe tbody tr th {\n        vertical-align: top;\n    }\n\n    .dataframe thead th {\n        text-align: right;\n    }\n</style>\n<table border=\"1\" class=\"dataframe\">\n  <thead>\n    <tr style=\"text-align: right;\">\n      <th></th>\n      <th>name</th>\n      <th>estimator</th>\n    </tr>\n  </thead>\n  <tbody>\n    <tr>\n      <th>0</th>\n      <td>Aggregator</td>\n      <td>&lt;class 'aeon.transformations.hierarchical.aggr...</td>\n    </tr>\n    <tr>\n      <th>1</th>\n      <td>AutoCorrelationTransformer</td>\n      <td>&lt;class 'aeon.transformations.series.acf.AutoCo...</td>\n    </tr>\n    <tr>\n      <th>2</th>\n      <td>BKFilter</td>\n      <td>&lt;class 'aeon.transformations.series.bkfilter.B...</td>\n    </tr>\n    <tr>\n      <th>3</th>\n      <td>BoxCoxTransformer</td>\n      <td>&lt;class 'aeon.transformations.series.boxcox.Box...</td>\n    </tr>\n    <tr>\n      <th>4</th>\n      <td>ClaSPTransformer</td>\n      <td>&lt;class 'aeon.transformations.series.clasp.ClaS...</td>\n    </tr>\n    <tr>\n      <th>...</th>\n      <td>...</td>\n      <td>...</td>\n    </tr>\n    <tr>\n      <th>68</th>\n      <td>TransformerPipeline</td>\n      <td>&lt;class 'aeon.transformations.compose.Transform...</td>\n    </tr>\n    <tr>\n      <th>69</th>\n      <td>TruncationTransformer</td>\n      <td>&lt;class 'aeon.transformations.collection.trunca...</td>\n    </tr>\n    <tr>\n      <th>70</th>\n      <td>WhiteNoiseAugmenter</td>\n      <td>&lt;class 'aeon.transformations.series.augmenter....</td>\n    </tr>\n    <tr>\n      <th>71</th>\n      <td>WindowSummarizer</td>\n      <td>&lt;class 'aeon.transformations.series.summarize....</td>\n    </tr>\n    <tr>\n      <th>72</th>\n      <td>YtoX</td>\n      <td>&lt;class 'aeon.transformations.compose.YtoX'&gt;</td>\n    </tr>\n  </tbody>\n</table>\n<p>73 rows × 2 columns</p>\n</div>"
     },
     "execution_count": 1,
     "metadata": {},
     "output_type": "execute_result"
    }
   ],
   "source": [
    "import warnings\n",
    "\n",
    "from aeon.registry import all_estimators\n",
    "\n",
    "warnings.filterwarnings(\"ignore\")\n",
    "all_estimators(\n",
    "    \"transformer\",\n",
    "    filter_tags={\n",
    "        \"scitype:transform-input\": \"Series\",\n",
    "        \"scitype:transform-output\": \"Series\",\n",
    "    },\n",
    "    as_dataframe=True,\n",
    ")"
   ],
   "metadata": {
    "collapsed": false
   }
  },
  {
   "cell_type": "code",
   "execution_count": 2,
   "outputs": [
    {
     "data": {
      "text/plain": "                              name  \\\n0                   Catch22Wrapper   \n1             FittedParamExtractor   \n2                    MatrixProfile   \n3                       MiniRocket   \n4           MiniRocketMultivariate   \n5   MiniRocketMultivariateVariable   \n6                      MultiRocket   \n7          MultiRocketMultivariate   \n8   RandomDilatedShapeletTransform   \n9   RandomIntervalFeatureExtractor   \n10                          Rocket   \n11            SignatureTransformer   \n12              SummaryTransformer   \n13             SupervisedIntervals   \n14                     Tabularizer   \n15                      TimeBinner   \n\n                                            estimator  \n0   <class 'aeon.transformations.collection.catch2...  \n1   <class 'aeon.transformations.collection.summar...  \n2   <class 'aeon.transformations.collection.matrix...  \n3   <class 'aeon.transformations.collection.rocket...  \n4   <class 'aeon.transformations.collection.rocket...  \n5   <class 'aeon.transformations.collection.rocket...  \n6   <class 'aeon.transformations.collection.rocket...  \n7   <class 'aeon.transformations.collection.rocket...  \n8   <class 'aeon.transformations.collection.dilate...  \n9   <class 'aeon.transformations.collection.summar...  \n10  <class 'aeon.transformations.collection.rocket...  \n11  <class 'aeon.transformations.collection.signat...  \n12  <class 'aeon.transformations.series.summarize....  \n13  <class 'aeon.transformations.collection.superv...  \n14  <class 'aeon.transformations.collection.reduce...  \n15  <class 'aeon.transformations.collection.reduce...  ",
      "text/html": "<div>\n<style scoped>\n    .dataframe tbody tr th:only-of-type {\n        vertical-align: middle;\n    }\n\n    .dataframe tbody tr th {\n        vertical-align: top;\n    }\n\n    .dataframe thead th {\n        text-align: right;\n    }\n</style>\n<table border=\"1\" class=\"dataframe\">\n  <thead>\n    <tr style=\"text-align: right;\">\n      <th></th>\n      <th>name</th>\n      <th>estimator</th>\n    </tr>\n  </thead>\n  <tbody>\n    <tr>\n      <th>0</th>\n      <td>Catch22Wrapper</td>\n      <td>&lt;class 'aeon.transformations.collection.catch2...</td>\n    </tr>\n    <tr>\n      <th>1</th>\n      <td>FittedParamExtractor</td>\n      <td>&lt;class 'aeon.transformations.collection.summar...</td>\n    </tr>\n    <tr>\n      <th>2</th>\n      <td>MatrixProfile</td>\n      <td>&lt;class 'aeon.transformations.collection.matrix...</td>\n    </tr>\n    <tr>\n      <th>3</th>\n      <td>MiniRocket</td>\n      <td>&lt;class 'aeon.transformations.collection.rocket...</td>\n    </tr>\n    <tr>\n      <th>4</th>\n      <td>MiniRocketMultivariate</td>\n      <td>&lt;class 'aeon.transformations.collection.rocket...</td>\n    </tr>\n    <tr>\n      <th>5</th>\n      <td>MiniRocketMultivariateVariable</td>\n      <td>&lt;class 'aeon.transformations.collection.rocket...</td>\n    </tr>\n    <tr>\n      <th>6</th>\n      <td>MultiRocket</td>\n      <td>&lt;class 'aeon.transformations.collection.rocket...</td>\n    </tr>\n    <tr>\n      <th>7</th>\n      <td>MultiRocketMultivariate</td>\n      <td>&lt;class 'aeon.transformations.collection.rocket...</td>\n    </tr>\n    <tr>\n      <th>8</th>\n      <td>RandomDilatedShapeletTransform</td>\n      <td>&lt;class 'aeon.transformations.collection.dilate...</td>\n    </tr>\n    <tr>\n      <th>9</th>\n      <td>RandomIntervalFeatureExtractor</td>\n      <td>&lt;class 'aeon.transformations.collection.summar...</td>\n    </tr>\n    <tr>\n      <th>10</th>\n      <td>Rocket</td>\n      <td>&lt;class 'aeon.transformations.collection.rocket...</td>\n    </tr>\n    <tr>\n      <th>11</th>\n      <td>SignatureTransformer</td>\n      <td>&lt;class 'aeon.transformations.collection.signat...</td>\n    </tr>\n    <tr>\n      <th>12</th>\n      <td>SummaryTransformer</td>\n      <td>&lt;class 'aeon.transformations.series.summarize....</td>\n    </tr>\n    <tr>\n      <th>13</th>\n      <td>SupervisedIntervals</td>\n      <td>&lt;class 'aeon.transformations.collection.superv...</td>\n    </tr>\n    <tr>\n      <th>14</th>\n      <td>Tabularizer</td>\n      <td>&lt;class 'aeon.transformations.collection.reduce...</td>\n    </tr>\n    <tr>\n      <th>15</th>\n      <td>TimeBinner</td>\n      <td>&lt;class 'aeon.transformations.collection.reduce...</td>\n    </tr>\n  </tbody>\n</table>\n</div>"
     },
     "execution_count": 2,
     "metadata": {},
     "output_type": "execute_result"
    }
   ],
   "source": [
    "all_estimators(\n",
    "    \"transformer\",\n",
    "    filter_tags={\n",
    "        \"scitype:transform-input\": \"Series\",\n",
    "        \"scitype:transform-output\": \"Primitives\",\n",
    "    },\n",
    "    as_dataframe=True,\n",
    ")"
   ],
   "metadata": {
    "collapsed": false
   }
  },
  {
   "cell_type": "markdown",
   "source": [
    "If your series is split into training and testing data, you should call `fit` and\n",
    "`transform` separately. `BoxCoxTransformer` has a parameter `lambda` that can be\n",
    "learned from the train data:"
   ],
   "metadata": {
    "collapsed": false
   }
  },
  {
   "cell_type": "code",
   "execution_count": 93,
   "metadata": {},
   "outputs": [
    {
     "data": {
      "text/plain": "Period\n1958-01    340.0\n1958-02    318.0\n1958-03    362.0\n1958-04    348.0\n1958-05    363.0\nFreq: M, Name: Number of airline passengers, dtype: float64"
     },
     "execution_count": 93,
     "metadata": {},
     "output_type": "execute_result"
    }
   ],
   "source": [
    "from aeon.forecasting.model_selection import temporal_train_test_split\n",
    "\n",
    "train, test = temporal_train_test_split(airline)\n",
    "boxcox = BoxCoxTransformer(method=\"mle\")\n",
    "test[:5]"
   ]
  },
  {
   "cell_type": "markdown",
   "source": [
    "You can then apply the model without refitting lambda using just `transform`:"
   ],
   "metadata": {
    "collapsed": false
   }
  },
  {
   "cell_type": "code",
   "execution_count": 95,
   "metadata": {},
   "outputs": [
    {
     "data": {
      "text/plain": "Period\n1958-01    5.597723\n1958-02    5.536036\n1958-03    5.655489\n1958-04    5.619156\n1958-05    5.658029\nFreq: M, dtype: float64"
     },
     "execution_count": 95,
     "metadata": {},
     "output_type": "execute_result"
    }
   ],
   "source": [
    "# fit the transformers\n",
    "boxcox.fit(train)\n",
    "# apply to test data\n",
    "test_new = boxcox.transform(test)\n",
    "test_new[:5]"
   ]
  },
  {
   "cell_type": "markdown",
   "metadata": {},
   "source": [
    "Fitted model components of transformers can be found with the `get_fitted_params()`\n",
    "method:"
   ]
  },
  {
   "cell_type": "code",
   "execution_count": 97,
   "metadata": {},
   "outputs": [
    {
     "data": {
      "text/plain": "{'lambda': -0.01398297802065717}"
     },
     "execution_count": 97,
     "metadata": {},
     "output_type": "execute_result"
    }
   ],
   "source": [
    "boxcox.get_fitted_params()\n",
    "# this is a pandas.DataFrame that contains the fitted transformers"
   ]
  },
  {
   "cell_type": "markdown",
   "metadata": {},
   "source": [
    "#### Forecasting pipeline with transformers\n",
    "\n",
    "Forecasting is not compatible with `sklearn` pipelines, because `fit` and `predict`\n",
    "are used differently"
   ]
  },
  {
   "cell_type": "code",
   "execution_count": 101,
   "metadata": {},
   "outputs": [
    {
     "data": {
      "text/plain": "ForecastingPipeline(steps=[Differencer(), NaiveForecaster(strategy='drift')])",
      "text/html": "<style>#sk-container-id-4 {color: black;background-color: white;}#sk-container-id-4 pre{padding: 0;}#sk-container-id-4 div.sk-toggleable {background-color: white;}#sk-container-id-4 label.sk-toggleable__label {cursor: pointer;display: block;width: 100%;margin-bottom: 0;padding: 0.3em;box-sizing: border-box;text-align: center;}#sk-container-id-4 label.sk-toggleable__label-arrow:before {content: \"▸\";float: left;margin-right: 0.25em;color: #696969;}#sk-container-id-4 label.sk-toggleable__label-arrow:hover:before {color: black;}#sk-container-id-4 div.sk-estimator:hover label.sk-toggleable__label-arrow:before {color: black;}#sk-container-id-4 div.sk-toggleable__content {max-height: 0;max-width: 0;overflow: hidden;text-align: left;background-color: #f0f8ff;}#sk-container-id-4 div.sk-toggleable__content pre {margin: 0.2em;color: black;border-radius: 0.25em;background-color: #f0f8ff;}#sk-container-id-4 input.sk-toggleable__control:checked~div.sk-toggleable__content {max-height: 200px;max-width: 100%;overflow: auto;}#sk-container-id-4 input.sk-toggleable__control:checked~label.sk-toggleable__label-arrow:before {content: \"▾\";}#sk-container-id-4 div.sk-estimator input.sk-toggleable__control:checked~label.sk-toggleable__label {background-color: #d4ebff;}#sk-container-id-4 div.sk-label input.sk-toggleable__control:checked~label.sk-toggleable__label {background-color: #d4ebff;}#sk-container-id-4 input.sk-hidden--visually {border: 0;clip: rect(1px 1px 1px 1px);clip: rect(1px, 1px, 1px, 1px);height: 1px;margin: -1px;overflow: hidden;padding: 0;position: absolute;width: 1px;}#sk-container-id-4 div.sk-estimator {font-family: monospace;background-color: #f0f8ff;border: 1px dotted black;border-radius: 0.25em;box-sizing: border-box;margin-bottom: 0.5em;}#sk-container-id-4 div.sk-estimator:hover {background-color: #d4ebff;}#sk-container-id-4 div.sk-parallel-item::after {content: \"\";width: 100%;border-bottom: 1px solid gray;flex-grow: 1;}#sk-container-id-4 div.sk-label:hover label.sk-toggleable__label {background-color: #d4ebff;}#sk-container-id-4 div.sk-serial::before {content: \"\";position: absolute;border-left: 1px solid gray;box-sizing: border-box;top: 0;bottom: 0;left: 50%;z-index: 0;}#sk-container-id-4 div.sk-serial {display: flex;flex-direction: column;align-items: center;background-color: white;padding-right: 0.2em;padding-left: 0.2em;position: relative;}#sk-container-id-4 div.sk-item {position: relative;z-index: 1;}#sk-container-id-4 div.sk-parallel {display: flex;align-items: stretch;justify-content: center;background-color: white;position: relative;}#sk-container-id-4 div.sk-item::before, #sk-container-id-4 div.sk-parallel-item::before {content: \"\";position: absolute;border-left: 1px solid gray;box-sizing: border-box;top: 0;bottom: 0;left: 50%;z-index: -1;}#sk-container-id-4 div.sk-parallel-item {display: flex;flex-direction: column;z-index: 1;position: relative;background-color: white;}#sk-container-id-4 div.sk-parallel-item:first-child::after {align-self: flex-end;width: 50%;}#sk-container-id-4 div.sk-parallel-item:last-child::after {align-self: flex-start;width: 50%;}#sk-container-id-4 div.sk-parallel-item:only-child::after {width: 0;}#sk-container-id-4 div.sk-dashed-wrapped {border: 1px dashed gray;margin: 0 0.4em 0.5em 0.4em;box-sizing: border-box;padding-bottom: 0.4em;background-color: white;}#sk-container-id-4 div.sk-label label {font-family: monospace;font-weight: bold;display: inline-block;line-height: 1.2em;}#sk-container-id-4 div.sk-label-container {text-align: center;}#sk-container-id-4 div.sk-container {/* jupyter's `normalize.less` sets `[hidden] { display: none; }` but bootstrap.min.css set `[hidden] { display: none !important; }` so we also need the `!important` here to be able to override the default hidden behavior on the sphinx rendered scikit-learn.org. See: https://github.com/scikit-learn/scikit-learn/issues/21755 */display: inline-block !important;position: relative;}#sk-container-id-4 div.sk-text-repr-fallback {display: none;}</style><div id=\"sk-container-id-4\" class=\"sk-top-container\"><div class=\"sk-text-repr-fallback\"><pre>ForecastingPipeline(steps=[Differencer(), NaiveForecaster(strategy=&#x27;drift&#x27;)])</pre><b>In a Jupyter environment, please rerun this cell to show the HTML representation or trust the notebook. <br />On GitHub, the HTML representation is unable to render, please try loading this page with nbviewer.org.</b></div><div class=\"sk-container\" hidden><div class=\"sk-item\"><div class=\"sk-estimator sk-toggleable\"><input class=\"sk-toggleable__control sk-hidden--visually\" id=\"sk-estimator-id-4\" type=\"checkbox\" checked><label for=\"sk-estimator-id-4\" class=\"sk-toggleable__label sk-toggleable__label-arrow\">ForecastingPipeline</label><div class=\"sk-toggleable__content\"><pre>ForecastingPipeline(steps=[Differencer(), NaiveForecaster(strategy=&#x27;drift&#x27;)])</pre></div></div></div></div></div>"
     },
     "execution_count": 101,
     "metadata": {},
     "output_type": "execute_result"
    }
   ],
   "source": [
    "from aeon.forecasting.compose import ForecastingPipeline\n",
    "from aeon.forecasting.naive import NaiveForecaster\n",
    "from aeon.transformations.series.difference import Differencer\n",
    "\n",
    "pipe = ForecastingPipeline([Differencer(), NaiveForecaster(strategy=\"drift\")])\n",
    "\n",
    "# this constructs a TransformedTargetForecaster, which is also a forecaster\n",
    "pipe"
   ]
  },
  {
   "cell_type": "code",
   "execution_count": 103,
   "metadata": {},
   "outputs": [
    {
     "data": {
      "text/plain": "1961-01    434.237762\nFreq: M, dtype: float64"
     },
     "execution_count": 103,
     "metadata": {},
     "output_type": "execute_result"
    }
   ],
   "source": [
    "# this is a forecaster with the same interface as NaiveForecaster\n",
    "# first applies differencer, then naive forecaster, then inverts differencing\n",
    "pipe.fit(airline, fh=1)\n",
    "pipe.predict()"
   ]
  },
  {
   "cell_type": "markdown",
   "metadata": {},
   "source": [
    "## Collection Transformers\n",
    "\n",
    "Collection transformers inherit from `BaseCollectionTransformer`, itself a subclass\n",
    "of `BaseTransformer`. A `BaseCollectionTransformer` works with the same datastructures\n",
    "used by clusterers, regressors and classifiers: 3D numpy of shape `(n_cases,\n",
    "n_channels, n_timepoints)` for equal length series or a list of 2D numpy `[n_cases]`.\n",
    " See [data storage notebook](examples/data_storage.ipynb) for more details.\n",
    "\n"
   ]
  }
 ],
 "metadata": {
  "hide_input": false,
  "kernelspec": {
   "display_name": "Python 3.8.12 ('aeon-baseobject')",
   "language": "python",
   "name": "python3"
  },
  "language_info": {
   "codemirror_mode": {
    "name": "ipython",
    "version": 3
   },
   "file_extension": ".py",
   "mimetype": "text/x-python",
   "name": "python",
   "nbconvert_exporter": "python",
   "pygments_lexer": "ipython3",
   "version": "3.8.12"
  },
  "latex_envs": {
   "LaTeX_envs_menu_present": true,
   "autoclose": false,
   "autocomplete": true,
   "bibliofile": "biblio.bib",
   "cite_by": "apalike",
   "current_citInitial": 1,
   "eqLabelWithNumbers": true,
   "eqNumInitial": 1,
   "hotkeys": {
    "equation": "Ctrl-E",
    "itemize": "Ctrl-I"
   },
   "labels_anchors": false,
   "latex_user_defs": false,
   "report_style_numbering": false,
   "user_envs_cfg": false
  },
  "toc": {
   "base_numbering": 1,
   "nav_menu": {},
   "number_sections": true,
   "sideBar": true,
   "skip_h1_title": false,
   "title_cell": "Table of Contents",
   "title_sidebar": "Contents",
   "toc_cell": false,
   "toc_position": {},
   "toc_section_display": true,
   "toc_window_display": false
  },
  "varInspector": {
   "cols": {
    "lenName": 16,
    "lenType": 16,
    "lenVar": 40
   },
   "kernels_config": {
    "python": {
     "delete_cmd_postfix": "",
     "delete_cmd_prefix": "del ",
     "library": "var_list.py",
     "varRefreshCmd": "print(var_dic_list())"
    },
    "r": {
     "delete_cmd_postfix": ") ",
     "delete_cmd_prefix": "rm(",
     "library": "var_list.r",
     "varRefreshCmd": "cat(var_dic_list()) "
    }
   },
   "types_to_exclude": [
    "module",
    "function",
    "builtin_function_or_method",
    "instance",
    "_Feature"
   ],
   "window_display": false
  },
  "vscode": {
   "interpreter": {
    "hash": "ff39becaf9fb8fe58d1d34fc2c63ee411a5dd80719d9cd02520236b9e8461a42"
   }
  }
 },
 "nbformat": 4,
 "nbformat_minor": 4
}
