{
 "cells": [
  {
   "cell_type": "markdown",
   "metadata": {},
   "source": [
    "# aeon transformers\n",
    "\n",
    "Transformers are objects that transform data from one representation to another. `aeon`\n",
    "contains time series specific transformers which can be used in\n",
    "pipelines in conjunction with other estimators.\n",
    "Note: the term \"transformer\" is used in deep learning to refer to specific neural\n",
    "network architectures. `aeon` transformers follow the `scikit-learn` design: they\n",
    "have `fit`, `transform` and `fit_transform`  methods that combine the two functions.\n",
    "\n",
    "`aeon` distinguishes different types of transformer, depending on the input type of\n",
    "`fit` and `transform`. The main distinction is whether the input is a single time\n",
    "series or a collection of time series."
   ]
  },
  {
   "cell_type": "markdown",
   "metadata": {},
   "source": [
    "### Series Transformers\n",
    "\n",
    "Single series transformers (in the package\n",
    "`aeon/transformers/series`) always act on each time series independently. They all\n",
    "extend the base class `BaseTransformer`. They are mostly\n",
    "used in forecasting and are best used with `pd.Series` or `pd.DataFrame` input.\n",
    "See the [data storage](examples/datasets/data_Storage.ipynb)\n",
    "notebook for clarification of how best to store data with aeon. If\n",
    "passed a collection, a separate instance of the transformer is applied independently\n",
    " to each series.\n",
    "\n",
    "Like collection transformers, series transformers also differ in terms of whether they\n",
    "convert time series into (different) time series, or whether they convert series\n",
    "into vectors.\n",
    "\n",
    "To illustrate the difference, we compare two series transformers with different output:\n",
    "\n",
    "* the Box-Cox transformer `BoxCoxTransformer`, a series-to-series transformer using the\n",
    "[Box Cox power transform](https://en.wikipedia.org/wiki/Power_transform#Box%E2%80%93Cox_transformation)\n",
    "* the summary transformer `SummaryTransformer`, a series-to-vector transformer that\n",
    "finds summary statistics such as the mean an standard deviation of each series.\n"
   ]
  },
  {
   "cell_type": "markdown",
   "metadata": {},
   "source": []
  },
  {
   "cell_type": "code",
   "execution_count": 1,
   "metadata": {},
   "outputs": [
    {
     "data": {
      "text/plain": "pandas.core.series.Series"
     },
     "execution_count": 1,
     "metadata": {},
     "output_type": "execute_result"
    }
   ],
   "source": [
    "from aeon.datasets import load_airline\n",
    "from aeon.transformations.series.boxcox import BoxCoxTransformer\n",
    "from aeon.transformations.series.summarize import SummaryTransformer\n",
    "\n",
    "airline = load_airline()\n",
    "boxcox_trans = BoxCoxTransformer()\n",
    "summary_trans = SummaryTransformer()\n",
    "# airline is a single time series stored in a pd.Series\n",
    "airline = load_airline()\n",
    "type(airline)"
   ]
  },
  {
   "cell_type": "code",
   "execution_count": 2,
   "outputs": [
    {
     "data": {
      "text/plain": "Period\n1949-01    112.0\n1949-02    118.0\n1949-03    132.0\n1949-04    129.0\n1949-05    121.0\nFreq: M, Name: Number of airline passengers, dtype: float64"
     },
     "execution_count": 2,
     "metadata": {},
     "output_type": "execute_result"
    }
   ],
   "source": [
    "airline[:5]"
   ],
   "metadata": {
    "collapsed": false
   }
  },
  {
   "cell_type": "code",
   "execution_count": 3,
   "metadata": {},
   "outputs": [
    {
     "data": {
      "text/plain": "pandas.core.series.Series"
     },
     "execution_count": 3,
     "metadata": {},
     "output_type": "execute_result"
    }
   ],
   "source": [
    "# this produces a pandas Series\n",
    "airline_bc = boxcox_trans.fit_transform(airline)\n",
    "type(airline_bc)"
   ]
  },
  {
   "cell_type": "code",
   "execution_count": 4,
   "outputs": [
    {
     "data": {
      "text/plain": "Period\n1949-01    6.827490\n1949-02    6.932822\n1949-03    7.161892\n1949-04    7.114611\n1949-05    6.983787\nFreq: M, dtype: float64"
     },
     "execution_count": 4,
     "metadata": {},
     "output_type": "execute_result"
    }
   ],
   "source": [
    "airline_bc[:5]"
   ],
   "metadata": {
    "collapsed": false
   }
  },
  {
   "cell_type": "code",
   "execution_count": 5,
   "metadata": {},
   "outputs": [
    {
     "data": {
      "text/plain": "pandas.core.frame.DataFrame"
     },
     "execution_count": 5,
     "metadata": {},
     "output_type": "execute_result"
    }
   ],
   "source": [
    "# this produces a pandas.DataFrame row\n",
    "airline_summary = summary_trans.fit_transform(airline)\n",
    "type(airline_summary)"
   ]
  },
  {
   "cell_type": "code",
   "execution_count": 6,
   "outputs": [
    {
     "data": {
      "text/plain": "         mean         std    min    max    0.1   0.25    0.5   0.75    0.9\n0  280.298611  119.966317  104.0  622.0  135.3  180.0  265.5  360.5  453.2",
      "text/html": "<div>\n<style scoped>\n    .dataframe tbody tr th:only-of-type {\n        vertical-align: middle;\n    }\n\n    .dataframe tbody tr th {\n        vertical-align: top;\n    }\n\n    .dataframe thead th {\n        text-align: right;\n    }\n</style>\n<table border=\"1\" class=\"dataframe\">\n  <thead>\n    <tr style=\"text-align: right;\">\n      <th></th>\n      <th>mean</th>\n      <th>std</th>\n      <th>min</th>\n      <th>max</th>\n      <th>0.1</th>\n      <th>0.25</th>\n      <th>0.5</th>\n      <th>0.75</th>\n      <th>0.9</th>\n    </tr>\n  </thead>\n  <tbody>\n    <tr>\n      <th>0</th>\n      <td>280.298611</td>\n      <td>119.966317</td>\n      <td>104.0</td>\n      <td>622.0</td>\n      <td>135.3</td>\n      <td>180.0</td>\n      <td>265.5</td>\n      <td>360.5</td>\n      <td>453.2</td>\n    </tr>\n  </tbody>\n</table>\n</div>"
     },
     "execution_count": 6,
     "metadata": {},
     "output_type": "execute_result"
    }
   ],
   "source": [
    "airline_summary[:5]"
   ],
   "metadata": {
    "collapsed": false
   }
  },
  {
   "cell_type": "markdown",
   "source": [
    "You can get a list of all series-to-series and series-to-vector transformers as\n",
    "follows. Please consult the API for details on each"
   ],
   "metadata": {
    "collapsed": false
   }
  },
  {
   "cell_type": "code",
   "execution_count": 7,
   "outputs": [
    {
     "data": {
      "text/plain": "                          name  \\\n0                   Aggregator   \n1   AutoCorrelationTransformer   \n2                     BKFilter   \n3            BoxCoxTransformer   \n4             ClaSPTransformer   \n..                         ...   \n68         TransformerPipeline   \n69       TruncationTransformer   \n70         WhiteNoiseAugmenter   \n71            WindowSummarizer   \n72                        YtoX   \n\n                                            estimator  \n0   <class 'aeon.transformations.hierarchical.aggr...  \n1   <class 'aeon.transformations.series.acf.AutoCo...  \n2   <class 'aeon.transformations.series.bkfilter.B...  \n3   <class 'aeon.transformations.series.boxcox.Box...  \n4   <class 'aeon.transformations.series.clasp.ClaS...  \n..                                                ...  \n68  <class 'aeon.transformations.compose.Transform...  \n69  <class 'aeon.transformations.collection.trunca...  \n70  <class 'aeon.transformations.series.augmenter....  \n71  <class 'aeon.transformations.series.summarize....  \n72        <class 'aeon.transformations.compose.YtoX'>  \n\n[73 rows x 2 columns]",
      "text/html": "<div>\n<style scoped>\n    .dataframe tbody tr th:only-of-type {\n        vertical-align: middle;\n    }\n\n    .dataframe tbody tr th {\n        vertical-align: top;\n    }\n\n    .dataframe thead th {\n        text-align: right;\n    }\n</style>\n<table border=\"1\" class=\"dataframe\">\n  <thead>\n    <tr style=\"text-align: right;\">\n      <th></th>\n      <th>name</th>\n      <th>estimator</th>\n    </tr>\n  </thead>\n  <tbody>\n    <tr>\n      <th>0</th>\n      <td>Aggregator</td>\n      <td>&lt;class 'aeon.transformations.hierarchical.aggr...</td>\n    </tr>\n    <tr>\n      <th>1</th>\n      <td>AutoCorrelationTransformer</td>\n      <td>&lt;class 'aeon.transformations.series.acf.AutoCo...</td>\n    </tr>\n    <tr>\n      <th>2</th>\n      <td>BKFilter</td>\n      <td>&lt;class 'aeon.transformations.series.bkfilter.B...</td>\n    </tr>\n    <tr>\n      <th>3</th>\n      <td>BoxCoxTransformer</td>\n      <td>&lt;class 'aeon.transformations.series.boxcox.Box...</td>\n    </tr>\n    <tr>\n      <th>4</th>\n      <td>ClaSPTransformer</td>\n      <td>&lt;class 'aeon.transformations.series.clasp.ClaS...</td>\n    </tr>\n    <tr>\n      <th>...</th>\n      <td>...</td>\n      <td>...</td>\n    </tr>\n    <tr>\n      <th>68</th>\n      <td>TransformerPipeline</td>\n      <td>&lt;class 'aeon.transformations.compose.Transform...</td>\n    </tr>\n    <tr>\n      <th>69</th>\n      <td>TruncationTransformer</td>\n      <td>&lt;class 'aeon.transformations.collection.trunca...</td>\n    </tr>\n    <tr>\n      <th>70</th>\n      <td>WhiteNoiseAugmenter</td>\n      <td>&lt;class 'aeon.transformations.series.augmenter....</td>\n    </tr>\n    <tr>\n      <th>71</th>\n      <td>WindowSummarizer</td>\n      <td>&lt;class 'aeon.transformations.series.summarize....</td>\n    </tr>\n    <tr>\n      <th>72</th>\n      <td>YtoX</td>\n      <td>&lt;class 'aeon.transformations.compose.YtoX'&gt;</td>\n    </tr>\n  </tbody>\n</table>\n<p>73 rows × 2 columns</p>\n</div>"
     },
     "execution_count": 7,
     "metadata": {},
     "output_type": "execute_result"
    }
   ],
   "source": [
    "import warnings\n",
    "\n",
    "from aeon.registry import all_estimators\n",
    "\n",
    "warnings.filterwarnings(\"ignore\")\n",
    "all_estimators(\n",
    "    \"transformer\",\n",
    "    filter_tags={\n",
    "        \"scitype:transform-input\": \"Series\",\n",
    "        \"scitype:transform-output\": \"Series\",\n",
    "    },\n",
    "    as_dataframe=True,\n",
    ")"
   ],
   "metadata": {
    "collapsed": false
   }
  },
  {
   "cell_type": "code",
   "execution_count": 8,
   "outputs": [
    {
     "data": {
      "text/plain": "                              name  \\\n0                   Catch22Wrapper   \n1             FittedParamExtractor   \n2                    MatrixProfile   \n3                       MiniRocket   \n4           MiniRocketMultivariate   \n5   MiniRocketMultivariateVariable   \n6                      MultiRocket   \n7          MultiRocketMultivariate   \n8   RandomDilatedShapeletTransform   \n9   RandomIntervalFeatureExtractor   \n10                          Rocket   \n11            SignatureTransformer   \n12              SummaryTransformer   \n13             SupervisedIntervals   \n14                     Tabularizer   \n15                      TimeBinner   \n\n                                            estimator  \n0   <class 'aeon.transformations.collection.catch2...  \n1   <class 'aeon.transformations.collection.summar...  \n2   <class 'aeon.transformations.collection.matrix...  \n3   <class 'aeon.transformations.collection.rocket...  \n4   <class 'aeon.transformations.collection.rocket...  \n5   <class 'aeon.transformations.collection.rocket...  \n6   <class 'aeon.transformations.collection.rocket...  \n7   <class 'aeon.transformations.collection.rocket...  \n8   <class 'aeon.transformations.collection.dilate...  \n9   <class 'aeon.transformations.collection.summar...  \n10  <class 'aeon.transformations.collection.rocket...  \n11  <class 'aeon.transformations.collection.signat...  \n12  <class 'aeon.transformations.series.summarize....  \n13  <class 'aeon.transformations.collection.superv...  \n14  <class 'aeon.transformations.collection.reduce...  \n15  <class 'aeon.transformations.collection.reduce...  ",
      "text/html": "<div>\n<style scoped>\n    .dataframe tbody tr th:only-of-type {\n        vertical-align: middle;\n    }\n\n    .dataframe tbody tr th {\n        vertical-align: top;\n    }\n\n    .dataframe thead th {\n        text-align: right;\n    }\n</style>\n<table border=\"1\" class=\"dataframe\">\n  <thead>\n    <tr style=\"text-align: right;\">\n      <th></th>\n      <th>name</th>\n      <th>estimator</th>\n    </tr>\n  </thead>\n  <tbody>\n    <tr>\n      <th>0</th>\n      <td>Catch22Wrapper</td>\n      <td>&lt;class 'aeon.transformations.collection.catch2...</td>\n    </tr>\n    <tr>\n      <th>1</th>\n      <td>FittedParamExtractor</td>\n      <td>&lt;class 'aeon.transformations.collection.summar...</td>\n    </tr>\n    <tr>\n      <th>2</th>\n      <td>MatrixProfile</td>\n      <td>&lt;class 'aeon.transformations.collection.matrix...</td>\n    </tr>\n    <tr>\n      <th>3</th>\n      <td>MiniRocket</td>\n      <td>&lt;class 'aeon.transformations.collection.rocket...</td>\n    </tr>\n    <tr>\n      <th>4</th>\n      <td>MiniRocketMultivariate</td>\n      <td>&lt;class 'aeon.transformations.collection.rocket...</td>\n    </tr>\n    <tr>\n      <th>5</th>\n      <td>MiniRocketMultivariateVariable</td>\n      <td>&lt;class 'aeon.transformations.collection.rocket...</td>\n    </tr>\n    <tr>\n      <th>6</th>\n      <td>MultiRocket</td>\n      <td>&lt;class 'aeon.transformations.collection.rocket...</td>\n    </tr>\n    <tr>\n      <th>7</th>\n      <td>MultiRocketMultivariate</td>\n      <td>&lt;class 'aeon.transformations.collection.rocket...</td>\n    </tr>\n    <tr>\n      <th>8</th>\n      <td>RandomDilatedShapeletTransform</td>\n      <td>&lt;class 'aeon.transformations.collection.dilate...</td>\n    </tr>\n    <tr>\n      <th>9</th>\n      <td>RandomIntervalFeatureExtractor</td>\n      <td>&lt;class 'aeon.transformations.collection.summar...</td>\n    </tr>\n    <tr>\n      <th>10</th>\n      <td>Rocket</td>\n      <td>&lt;class 'aeon.transformations.collection.rocket...</td>\n    </tr>\n    <tr>\n      <th>11</th>\n      <td>SignatureTransformer</td>\n      <td>&lt;class 'aeon.transformations.collection.signat...</td>\n    </tr>\n    <tr>\n      <th>12</th>\n      <td>SummaryTransformer</td>\n      <td>&lt;class 'aeon.transformations.series.summarize....</td>\n    </tr>\n    <tr>\n      <th>13</th>\n      <td>SupervisedIntervals</td>\n      <td>&lt;class 'aeon.transformations.collection.superv...</td>\n    </tr>\n    <tr>\n      <th>14</th>\n      <td>Tabularizer</td>\n      <td>&lt;class 'aeon.transformations.collection.reduce...</td>\n    </tr>\n    <tr>\n      <th>15</th>\n      <td>TimeBinner</td>\n      <td>&lt;class 'aeon.transformations.collection.reduce...</td>\n    </tr>\n  </tbody>\n</table>\n</div>"
     },
     "execution_count": 8,
     "metadata": {},
     "output_type": "execute_result"
    }
   ],
   "source": [
    "all_estimators(\n",
    "    \"transformer\",\n",
    "    filter_tags={\n",
    "        \"scitype:transform-input\": \"Series\",\n",
    "        \"scitype:transform-output\": \"Primitives\",\n",
    "    },\n",
    "    as_dataframe=True,\n",
    ")"
   ],
   "metadata": {
    "collapsed": false
   }
  },
  {
   "cell_type": "markdown",
   "source": [
    "If your series is split into training and testing data, you should call `fit` and\n",
    "`transform` separately. `BoxCoxTransformer` has a parameter `lambda` that can be\n",
    "learned from the train data:"
   ],
   "metadata": {
    "collapsed": false
   }
  },
  {
   "cell_type": "code",
   "execution_count": 9,
   "metadata": {},
   "outputs": [
    {
     "data": {
      "text/plain": "Period\n1958-01    340.0\n1958-02    318.0\n1958-03    362.0\n1958-04    348.0\n1958-05    363.0\nFreq: M, Name: Number of airline passengers, dtype: float64"
     },
     "execution_count": 9,
     "metadata": {},
     "output_type": "execute_result"
    }
   ],
   "source": [
    "from aeon.forecasting.model_selection import temporal_train_test_split\n",
    "\n",
    "train, test = temporal_train_test_split(airline)\n",
    "boxcox = BoxCoxTransformer(method=\"mle\")\n",
    "test[:5]"
   ]
  },
  {
   "cell_type": "markdown",
   "source": [
    "You can then apply the model without refitting lambda using just `transform`:"
   ],
   "metadata": {
    "collapsed": false
   }
  },
  {
   "cell_type": "code",
   "execution_count": 10,
   "metadata": {},
   "outputs": [
    {
     "data": {
      "text/plain": "Period\n1958-01    5.597723\n1958-02    5.536036\n1958-03    5.655489\n1958-04    5.619156\n1958-05    5.658029\nFreq: M, dtype: float64"
     },
     "execution_count": 10,
     "metadata": {},
     "output_type": "execute_result"
    }
   ],
   "source": [
    "# fit the transformers\n",
    "boxcox.fit(train)\n",
    "# apply to test data\n",
    "test_new = boxcox.transform(test)\n",
    "test_new[:5]"
   ]
  },
  {
   "cell_type": "markdown",
   "metadata": {},
   "source": [
    "Fitted model components of transformers can be found with the `get_fitted_params()`\n",
    "method:"
   ]
  },
  {
   "cell_type": "code",
   "execution_count": 11,
   "metadata": {},
   "outputs": [
    {
     "data": {
      "text/plain": "{'lambda': -0.01398297802065717}"
     },
     "execution_count": 11,
     "metadata": {},
     "output_type": "execute_result"
    }
   ],
   "source": [
    "boxcox.get_fitted_params()\n",
    "# this is a pandas.DataFrame that contains the fitted transformers"
   ]
  },
  {
   "cell_type": "markdown",
   "metadata": {},
   "source": [
    "#### Forecasting pipeline with transformers\n",
    "\n",
    "Forecasting is not compatible with `sklearn` pipelines, because `fit` and `predict`\n",
    "are used differently"
   ]
  },
  {
   "cell_type": "code",
   "execution_count": 12,
   "metadata": {},
   "outputs": [
    {
     "data": {
      "text/plain": "ForecastingPipeline(steps=[Differencer(), NaiveForecaster(strategy='drift')])",
      "text/html": "<style>#sk-container-id-1 {color: black;background-color: white;}#sk-container-id-1 pre{padding: 0;}#sk-container-id-1 div.sk-toggleable {background-color: white;}#sk-container-id-1 label.sk-toggleable__label {cursor: pointer;display: block;width: 100%;margin-bottom: 0;padding: 0.3em;box-sizing: border-box;text-align: center;}#sk-container-id-1 label.sk-toggleable__label-arrow:before {content: \"▸\";float: left;margin-right: 0.25em;color: #696969;}#sk-container-id-1 label.sk-toggleable__label-arrow:hover:before {color: black;}#sk-container-id-1 div.sk-estimator:hover label.sk-toggleable__label-arrow:before {color: black;}#sk-container-id-1 div.sk-toggleable__content {max-height: 0;max-width: 0;overflow: hidden;text-align: left;background-color: #f0f8ff;}#sk-container-id-1 div.sk-toggleable__content pre {margin: 0.2em;color: black;border-radius: 0.25em;background-color: #f0f8ff;}#sk-container-id-1 input.sk-toggleable__control:checked~div.sk-toggleable__content {max-height: 200px;max-width: 100%;overflow: auto;}#sk-container-id-1 input.sk-toggleable__control:checked~label.sk-toggleable__label-arrow:before {content: \"▾\";}#sk-container-id-1 div.sk-estimator input.sk-toggleable__control:checked~label.sk-toggleable__label {background-color: #d4ebff;}#sk-container-id-1 div.sk-label input.sk-toggleable__control:checked~label.sk-toggleable__label {background-color: #d4ebff;}#sk-container-id-1 input.sk-hidden--visually {border: 0;clip: rect(1px 1px 1px 1px);clip: rect(1px, 1px, 1px, 1px);height: 1px;margin: -1px;overflow: hidden;padding: 0;position: absolute;width: 1px;}#sk-container-id-1 div.sk-estimator {font-family: monospace;background-color: #f0f8ff;border: 1px dotted black;border-radius: 0.25em;box-sizing: border-box;margin-bottom: 0.5em;}#sk-container-id-1 div.sk-estimator:hover {background-color: #d4ebff;}#sk-container-id-1 div.sk-parallel-item::after {content: \"\";width: 100%;border-bottom: 1px solid gray;flex-grow: 1;}#sk-container-id-1 div.sk-label:hover label.sk-toggleable__label {background-color: #d4ebff;}#sk-container-id-1 div.sk-serial::before {content: \"\";position: absolute;border-left: 1px solid gray;box-sizing: border-box;top: 0;bottom: 0;left: 50%;z-index: 0;}#sk-container-id-1 div.sk-serial {display: flex;flex-direction: column;align-items: center;background-color: white;padding-right: 0.2em;padding-left: 0.2em;position: relative;}#sk-container-id-1 div.sk-item {position: relative;z-index: 1;}#sk-container-id-1 div.sk-parallel {display: flex;align-items: stretch;justify-content: center;background-color: white;position: relative;}#sk-container-id-1 div.sk-item::before, #sk-container-id-1 div.sk-parallel-item::before {content: \"\";position: absolute;border-left: 1px solid gray;box-sizing: border-box;top: 0;bottom: 0;left: 50%;z-index: -1;}#sk-container-id-1 div.sk-parallel-item {display: flex;flex-direction: column;z-index: 1;position: relative;background-color: white;}#sk-container-id-1 div.sk-parallel-item:first-child::after {align-self: flex-end;width: 50%;}#sk-container-id-1 div.sk-parallel-item:last-child::after {align-self: flex-start;width: 50%;}#sk-container-id-1 div.sk-parallel-item:only-child::after {width: 0;}#sk-container-id-1 div.sk-dashed-wrapped {border: 1px dashed gray;margin: 0 0.4em 0.5em 0.4em;box-sizing: border-box;padding-bottom: 0.4em;background-color: white;}#sk-container-id-1 div.sk-label label {font-family: monospace;font-weight: bold;display: inline-block;line-height: 1.2em;}#sk-container-id-1 div.sk-label-container {text-align: center;}#sk-container-id-1 div.sk-container {/* jupyter's `normalize.less` sets `[hidden] { display: none; }` but bootstrap.min.css set `[hidden] { display: none !important; }` so we also need the `!important` here to be able to override the default hidden behavior on the sphinx rendered scikit-learn.org. See: https://github.com/scikit-learn/scikit-learn/issues/21755 */display: inline-block !important;position: relative;}#sk-container-id-1 div.sk-text-repr-fallback {display: none;}</style><div id=\"sk-container-id-1\" class=\"sk-top-container\"><div class=\"sk-text-repr-fallback\"><pre>ForecastingPipeline(steps=[Differencer(), NaiveForecaster(strategy=&#x27;drift&#x27;)])</pre><b>In a Jupyter environment, please rerun this cell to show the HTML representation or trust the notebook. <br />On GitHub, the HTML representation is unable to render, please try loading this page with nbviewer.org.</b></div><div class=\"sk-container\" hidden><div class=\"sk-item\"><div class=\"sk-estimator sk-toggleable\"><input class=\"sk-toggleable__control sk-hidden--visually\" id=\"sk-estimator-id-1\" type=\"checkbox\" checked><label for=\"sk-estimator-id-1\" class=\"sk-toggleable__label sk-toggleable__label-arrow\">ForecastingPipeline</label><div class=\"sk-toggleable__content\"><pre>ForecastingPipeline(steps=[Differencer(), NaiveForecaster(strategy=&#x27;drift&#x27;)])</pre></div></div></div></div></div>"
     },
     "execution_count": 12,
     "metadata": {},
     "output_type": "execute_result"
    }
   ],
   "source": [
    "from aeon.forecasting.compose import ForecastingPipeline\n",
    "from aeon.forecasting.naive import NaiveForecaster\n",
    "from aeon.transformations.series.difference import Differencer\n",
    "\n",
    "pipe = ForecastingPipeline([Differencer(), NaiveForecaster(strategy=\"drift\")])\n",
    "\n",
    "# this constructs a TransformedTargetForecaster, which is also a forecaster\n",
    "pipe"
   ]
  },
  {
   "cell_type": "code",
   "execution_count": 13,
   "metadata": {},
   "outputs": [
    {
     "data": {
      "text/plain": "1961-01    434.237762\nFreq: M, dtype: float64"
     },
     "execution_count": 13,
     "metadata": {},
     "output_type": "execute_result"
    }
   ],
   "source": [
    "# this is a forecaster with the same interface as NaiveForecaster\n",
    "# first applies differencer, then naive forecaster, then inverts differencing\n",
    "pipe.fit(airline, fh=1)\n",
    "pipe.predict()"
   ]
  },
  {
   "cell_type": "markdown",
   "metadata": {},
   "source": [
    "## Collection Transformers\n",
    "\n",
    "Collection transformers inherit from `BaseCollectionTransformer`, itself a subclass\n",
    "of `BaseTransformer`. Collections transformers differ from series transformers in the\n",
    " fact that they do not necessarily transform each series independently.\n",
    "A `BaseCollectionTransformer` works with the same data structures\n",
    "used by clusterers, regressors and classifiers: 3D numpy of shape `(n_cases,\n",
    "n_channels, n_timepoints)` for equal length series or a list of 2D numpy `[n_cases]`.\n",
    " See [data storage notebook](examples/data_storage.ipynb) for more details.\n"
   ]
  },
  {
   "cell_type": "code",
   "execution_count": 14,
   "outputs": [],
   "source": [
    "from aeon.datasets import load_arrow_head, load_basic_motions, load_covid_3month\n",
    "\n",
    "# univariate classification\n",
    "arrows, arrows_labels = load_arrow_head()\n",
    "# multivariate classification\n",
    "motions, motions_labels = load_basic_motions()\n",
    "# univariate regression\n",
    "covid, covid_response = load_covid_3month()\n",
    "print(\"Arrows shape (n_cases, n_channels, n_timepoints) = \", arrows.shape)\n",
    "print(\"Motions shape (n_cases, n_channels, n_timepoints) = \", motions.shape)\n",
    "print(\"Covid shape (n_cases, n_channels, n_timepoints) = \", covid.shape)"
   ],
   "metadata": {
    "collapsed": false
   }
  },
  {
   "cell_type": "markdown",
   "source": [
    "Collections transformers can also be series-to-series or series-to-vector, but will\n",
    "always transform a collection of $n$ series into a collection of $n$ series or\n",
    "vectors. Series to vector transformers:"
   ],
   "metadata": {
    "collapsed": false
   }
  },
  {
   "cell_type": "code",
   "execution_count": 15,
   "outputs": [
    {
     "data": {
      "text/plain": "                              name  \\\n0                          Catch22   \n1                  RandomIntervals   \n2          RandomShapeletTransform   \n3                ShapeletTransform   \n4          TSFreshFeatureExtractor   \n5  TSFreshRelevantFeatureExtractor   \n\n                                           estimator  \n0  <class 'aeon.transformations.collection.catch2...  \n1  <class 'aeon.transformations.collection.random...  \n2  <class 'aeon.transformations.collection.shapel...  \n3  <class 'aeon.transformations.collection.shapel...  \n4  <class 'aeon.transformations.collection.tsfres...  \n5  <class 'aeon.transformations.collection.tsfres...  ",
      "text/html": "<div>\n<style scoped>\n    .dataframe tbody tr th:only-of-type {\n        vertical-align: middle;\n    }\n\n    .dataframe tbody tr th {\n        vertical-align: top;\n    }\n\n    .dataframe thead th {\n        text-align: right;\n    }\n</style>\n<table border=\"1\" class=\"dataframe\">\n  <thead>\n    <tr style=\"text-align: right;\">\n      <th></th>\n      <th>name</th>\n      <th>estimator</th>\n    </tr>\n  </thead>\n  <tbody>\n    <tr>\n      <th>0</th>\n      <td>Catch22</td>\n      <td>&lt;class 'aeon.transformations.collection.catch2...</td>\n    </tr>\n    <tr>\n      <th>1</th>\n      <td>RandomIntervals</td>\n      <td>&lt;class 'aeon.transformations.collection.random...</td>\n    </tr>\n    <tr>\n      <th>2</th>\n      <td>RandomShapeletTransform</td>\n      <td>&lt;class 'aeon.transformations.collection.shapel...</td>\n    </tr>\n    <tr>\n      <th>3</th>\n      <td>ShapeletTransform</td>\n      <td>&lt;class 'aeon.transformations.collection.shapel...</td>\n    </tr>\n    <tr>\n      <th>4</th>\n      <td>TSFreshFeatureExtractor</td>\n      <td>&lt;class 'aeon.transformations.collection.tsfres...</td>\n    </tr>\n    <tr>\n      <th>5</th>\n      <td>TSFreshRelevantFeatureExtractor</td>\n      <td>&lt;class 'aeon.transformations.collection.tsfres...</td>\n    </tr>\n  </tbody>\n</table>\n</div>"
     },
     "execution_count": 15,
     "metadata": {},
     "output_type": "execute_result"
    }
   ],
   "source": [
    "all_estimators(\n",
    "    \"transformer\",\n",
    "    filter_tags={\n",
    "        \"scitype:transform-input\": \"Panel\",\n",
    "        \"scitype:transform-output\": \"Primitives\",\n",
    "    },\n",
    "    as_dataframe=True,\n",
    ")"
   ],
   "metadata": {
    "collapsed": false
   }
  },
  {
   "cell_type": "markdown",
   "source": [
    "For example, `Catch22` transforms each channel of each series into 22 summary features"
   ],
   "metadata": {
    "collapsed": false
   }
  },
  {
   "cell_type": "code",
   "execution_count": 16,
   "outputs": [
    {
     "data": {
      "text/plain": "(211, 22)"
     },
     "execution_count": 16,
     "metadata": {},
     "output_type": "execute_result"
    }
   ],
   "source": [
    "from aeon.transformations.collection import Catch22\n",
    "\n",
    "c22 = Catch22()\n",
    "t = c22.fit_transform(arrows)\n",
    "print(f\" transformed arrows is type {type(t)}\")\n",
    "t.shape"
   ],
   "metadata": {
    "collapsed": false
   }
  },
  {
   "cell_type": "markdown",
   "source": [
    "Series-to-series transformers transform each series into a different series. This can\n",
    " mean it has a different number of channels and/or be different length. For example,\n",
    " `ElbowClassPairwise` performs a supervised channel selection to reduce\n",
    " dimensionality. It selects the best two channels from BasicMotions."
   ],
   "metadata": {
    "collapsed": false
   }
  },
  {
   "cell_type": "code",
   "execution_count": 17,
   "outputs": [
    {
     "data": {
      "text/plain": "                 name                                          estimator\n0  ElbowClassPairwise  <class 'aeon.transformations.collection.channe...\n1       ElbowClassSum  <class 'aeon.transformations.collection.channe...",
      "text/html": "<div>\n<style scoped>\n    .dataframe tbody tr th:only-of-type {\n        vertical-align: middle;\n    }\n\n    .dataframe tbody tr th {\n        vertical-align: top;\n    }\n\n    .dataframe thead th {\n        text-align: right;\n    }\n</style>\n<table border=\"1\" class=\"dataframe\">\n  <thead>\n    <tr style=\"text-align: right;\">\n      <th></th>\n      <th>name</th>\n      <th>estimator</th>\n    </tr>\n  </thead>\n  <tbody>\n    <tr>\n      <th>0</th>\n      <td>ElbowClassPairwise</td>\n      <td>&lt;class 'aeon.transformations.collection.channe...</td>\n    </tr>\n    <tr>\n      <th>1</th>\n      <td>ElbowClassSum</td>\n      <td>&lt;class 'aeon.transformations.collection.channe...</td>\n    </tr>\n  </tbody>\n</table>\n</div>"
     },
     "execution_count": 17,
     "metadata": {},
     "output_type": "execute_result"
    }
   ],
   "source": [
    "all_estimators(\n",
    "    \"transformer\",\n",
    "    filter_tags={\n",
    "        \"scitype:transform-input\": \"Panel\",\n",
    "        \"scitype:transform-output\": \"Panel\",\n",
    "    },\n",
    "    as_dataframe=True,\n",
    ")"
   ],
   "metadata": {
    "collapsed": false
   }
  },
  {
   "cell_type": "code",
   "execution_count": 18,
   "outputs": [
    {
     "data": {
      "text/plain": "(80, 2, 100)"
     },
     "execution_count": 18,
     "metadata": {},
     "output_type": "execute_result"
    }
   ],
   "source": [
    "from aeon.transformations.collection import ElbowClassPairwise\n",
    "\n",
    "ecp = ElbowClassPairwise()\n",
    "t2 = ecp.fit_transform(motions, motions_labels)\n",
    "t2.shape"
   ],
   "metadata": {
    "collapsed": false
   }
  },
  {
   "cell_type": "markdown",
   "source": [],
   "metadata": {
    "collapsed": false
   }
  },
  {
   "cell_type": "markdown",
   "source": [
    "series-to-vector Collections transformers retun numpy arrays of shape `(n_cases,\n",
    "n_features)`, so they can be used with sklearn classifiers or regressors directly or\n",
    "in a pipeline. The following are equivalent."
   ],
   "metadata": {
    "collapsed": false
   }
  },
  {
   "cell_type": "code",
   "execution_count": 25,
   "outputs": [
    {
     "data": {
      "text/plain": "0.6714285714285714"
     },
     "execution_count": 25,
     "metadata": {},
     "output_type": "execute_result"
    }
   ],
   "source": [
    "from sklearn.linear_model import LogisticRegression\n",
    "from sklearn.metrics import accuracy_score\n",
    "from sklearn.model_selection import train_test_split\n",
    "\n",
    "c22 = Catch22()\n",
    "arrows_train, arrows_test, y_train, y_test = train_test_split(\n",
    "    arrows, arrows_labels, test_size=0.33\n",
    ")\n",
    "c22_train = c22.fit_transform(arrows_train, y_train)\n",
    "c22_train.shape\n",
    "lr = LogisticRegression()\n",
    "lr.fit(c22_train, y_train)\n",
    "c22_test = c22.transform(arrows_test, y_test)\n",
    "preds = lr.predict(c22_test)\n",
    "accuracy_score(y_test, preds)"
   ],
   "metadata": {
    "collapsed": false
   }
  },
  {
   "cell_type": "code",
   "execution_count": 28,
   "outputs": [
    {
     "data": {
      "text/plain": "0.6714285714285714"
     },
     "execution_count": 28,
     "metadata": {},
     "output_type": "execute_result"
    }
   ],
   "source": [
    "from sklearn.pipeline import Pipeline\n",
    "\n",
    "pipe = Pipeline(steps=[(\"catch22\", c22), (\"logistic\", lr)])\n",
    "pipe.fit(arrows_train, y_train)\n",
    "preds = pipe.predict(arrows_test)\n",
    "accuracy_score(y_test, preds)"
   ],
   "metadata": {
    "collapsed": false
   }
  },
  {
   "cell_type": "markdown",
   "source": [
    "Series-to-series collection transformers can be used in an sklearn pipeline with an\n",
    "`aeon` classifier or regressor"
   ],
   "metadata": {
    "collapsed": false
   }
  },
  {
   "cell_type": "code",
   "execution_count": 38,
   "outputs": [
    {
     "data": {
      "text/plain": "Pipeline(steps=[('ECP', ElbowClassPairwise()),\n                ('knn', KNeighborsTimeSeriesRegressor(distance='euclidean'))])",
      "text/html": "<style>#sk-container-id-6 {color: black;background-color: white;}#sk-container-id-6 pre{padding: 0;}#sk-container-id-6 div.sk-toggleable {background-color: white;}#sk-container-id-6 label.sk-toggleable__label {cursor: pointer;display: block;width: 100%;margin-bottom: 0;padding: 0.3em;box-sizing: border-box;text-align: center;}#sk-container-id-6 label.sk-toggleable__label-arrow:before {content: \"▸\";float: left;margin-right: 0.25em;color: #696969;}#sk-container-id-6 label.sk-toggleable__label-arrow:hover:before {color: black;}#sk-container-id-6 div.sk-estimator:hover label.sk-toggleable__label-arrow:before {color: black;}#sk-container-id-6 div.sk-toggleable__content {max-height: 0;max-width: 0;overflow: hidden;text-align: left;background-color: #f0f8ff;}#sk-container-id-6 div.sk-toggleable__content pre {margin: 0.2em;color: black;border-radius: 0.25em;background-color: #f0f8ff;}#sk-container-id-6 input.sk-toggleable__control:checked~div.sk-toggleable__content {max-height: 200px;max-width: 100%;overflow: auto;}#sk-container-id-6 input.sk-toggleable__control:checked~label.sk-toggleable__label-arrow:before {content: \"▾\";}#sk-container-id-6 div.sk-estimator input.sk-toggleable__control:checked~label.sk-toggleable__label {background-color: #d4ebff;}#sk-container-id-6 div.sk-label input.sk-toggleable__control:checked~label.sk-toggleable__label {background-color: #d4ebff;}#sk-container-id-6 input.sk-hidden--visually {border: 0;clip: rect(1px 1px 1px 1px);clip: rect(1px, 1px, 1px, 1px);height: 1px;margin: -1px;overflow: hidden;padding: 0;position: absolute;width: 1px;}#sk-container-id-6 div.sk-estimator {font-family: monospace;background-color: #f0f8ff;border: 1px dotted black;border-radius: 0.25em;box-sizing: border-box;margin-bottom: 0.5em;}#sk-container-id-6 div.sk-estimator:hover {background-color: #d4ebff;}#sk-container-id-6 div.sk-parallel-item::after {content: \"\";width: 100%;border-bottom: 1px solid gray;flex-grow: 1;}#sk-container-id-6 div.sk-label:hover label.sk-toggleable__label {background-color: #d4ebff;}#sk-container-id-6 div.sk-serial::before {content: \"\";position: absolute;border-left: 1px solid gray;box-sizing: border-box;top: 0;bottom: 0;left: 50%;z-index: 0;}#sk-container-id-6 div.sk-serial {display: flex;flex-direction: column;align-items: center;background-color: white;padding-right: 0.2em;padding-left: 0.2em;position: relative;}#sk-container-id-6 div.sk-item {position: relative;z-index: 1;}#sk-container-id-6 div.sk-parallel {display: flex;align-items: stretch;justify-content: center;background-color: white;position: relative;}#sk-container-id-6 div.sk-item::before, #sk-container-id-6 div.sk-parallel-item::before {content: \"\";position: absolute;border-left: 1px solid gray;box-sizing: border-box;top: 0;bottom: 0;left: 50%;z-index: -1;}#sk-container-id-6 div.sk-parallel-item {display: flex;flex-direction: column;z-index: 1;position: relative;background-color: white;}#sk-container-id-6 div.sk-parallel-item:first-child::after {align-self: flex-end;width: 50%;}#sk-container-id-6 div.sk-parallel-item:last-child::after {align-self: flex-start;width: 50%;}#sk-container-id-6 div.sk-parallel-item:only-child::after {width: 0;}#sk-container-id-6 div.sk-dashed-wrapped {border: 1px dashed gray;margin: 0 0.4em 0.5em 0.4em;box-sizing: border-box;padding-bottom: 0.4em;background-color: white;}#sk-container-id-6 div.sk-label label {font-family: monospace;font-weight: bold;display: inline-block;line-height: 1.2em;}#sk-container-id-6 div.sk-label-container {text-align: center;}#sk-container-id-6 div.sk-container {/* jupyter's `normalize.less` sets `[hidden] { display: none; }` but bootstrap.min.css set `[hidden] { display: none !important; }` so we also need the `!important` here to be able to override the default hidden behavior on the sphinx rendered scikit-learn.org. See: https://github.com/scikit-learn/scikit-learn/issues/21755 */display: inline-block !important;position: relative;}#sk-container-id-6 div.sk-text-repr-fallback {display: none;}</style><div id=\"sk-container-id-6\" class=\"sk-top-container\"><div class=\"sk-text-repr-fallback\"><pre>Pipeline(steps=[(&#x27;ECP&#x27;, ElbowClassPairwise()),\n                (&#x27;knn&#x27;, KNeighborsTimeSeriesRegressor(distance=&#x27;euclidean&#x27;))])</pre><b>In a Jupyter environment, please rerun this cell to show the HTML representation or trust the notebook. <br />On GitHub, the HTML representation is unable to render, please try loading this page with nbviewer.org.</b></div><div class=\"sk-container\" hidden><div class=\"sk-item sk-dashed-wrapped\"><div class=\"sk-label-container\"><div class=\"sk-label sk-toggleable\"><input class=\"sk-toggleable__control sk-hidden--visually\" id=\"sk-estimator-id-12\" type=\"checkbox\" ><label for=\"sk-estimator-id-12\" class=\"sk-toggleable__label sk-toggleable__label-arrow\">Pipeline</label><div class=\"sk-toggleable__content\"><pre>Pipeline(steps=[(&#x27;ECP&#x27;, ElbowClassPairwise()),\n                (&#x27;knn&#x27;, KNeighborsTimeSeriesRegressor(distance=&#x27;euclidean&#x27;))])</pre></div></div></div><div class=\"sk-serial\"><div class=\"sk-item\"><div class=\"sk-estimator sk-toggleable\"><input class=\"sk-toggleable__control sk-hidden--visually\" id=\"sk-estimator-id-13\" type=\"checkbox\" ><label for=\"sk-estimator-id-13\" class=\"sk-toggleable__label sk-toggleable__label-arrow\">ElbowClassPairwise</label><div class=\"sk-toggleable__content\"><pre>ElbowClassPairwise()</pre></div></div></div><div class=\"sk-item\"><div class=\"sk-estimator sk-toggleable\"><input class=\"sk-toggleable__control sk-hidden--visually\" id=\"sk-estimator-id-14\" type=\"checkbox\" ><label for=\"sk-estimator-id-14\" class=\"sk-toggleable__label sk-toggleable__label-arrow\">KNeighborsTimeSeriesRegressor</label><div class=\"sk-toggleable__content\"><pre>KNeighborsTimeSeriesRegressor(distance=&#x27;euclidean&#x27;)</pre></div></div></div></div></div></div></div>"
     },
     "execution_count": 38,
     "metadata": {},
     "output_type": "execute_result"
    }
   ],
   "source": [
    "from sklearn.metrics import mean_squared_error\n",
    "\n",
    "from aeon.regression.distance_based import KNeighborsTimeSeriesRegressor\n",
    "\n",
    "knn = KNeighborsTimeSeriesRegressor(distance=\"euclidean\")\n",
    "pipe = Pipeline(steps=[(\"ECP\", ecp), (\"knn\", knn)])\n",
    "covid_train, covid_test, y_train, y_test = train_test_split(\n",
    "    covid, covid_response, test_size=0.75\n",
    ")\n",
    "pipe.fit(covid_train, y_train)"
   ],
   "metadata": {
    "collapsed": false
   }
  },
  {
   "cell_type": "code",
   "execution_count": 39,
   "outputs": [
    {
     "data": {
      "text/plain": "0.002887998996833484"
     },
     "execution_count": 39,
     "metadata": {},
     "output_type": "execute_result"
    }
   ],
   "source": [
    "preds = pipe.predict(covid_test)\n",
    "mean_squared_error(y_test, preds)"
   ],
   "metadata": {
    "collapsed": false
   }
  },
  {
   "cell_type": "code",
   "execution_count": null,
   "outputs": [],
   "source": [],
   "metadata": {
    "collapsed": false
   }
  }
 ],
 "metadata": {
  "hide_input": false,
  "kernelspec": {
   "display_name": "Python 3.8.12 ('aeon-baseobject')",
   "language": "python",
   "name": "python3"
  },
  "language_info": {
   "codemirror_mode": {
    "name": "ipython",
    "version": 3
   },
   "file_extension": ".py",
   "mimetype": "text/x-python",
   "name": "python",
   "nbconvert_exporter": "python",
   "pygments_lexer": "ipython3",
   "version": "3.8.12"
  },
  "latex_envs": {
   "LaTeX_envs_menu_present": true,
   "autoclose": false,
   "autocomplete": true,
   "bibliofile": "biblio.bib",
   "cite_by": "apalike",
   "current_citInitial": 1,
   "eqLabelWithNumbers": true,
   "eqNumInitial": 1,
   "hotkeys": {
    "equation": "Ctrl-E",
    "itemize": "Ctrl-I"
   },
   "labels_anchors": false,
   "latex_user_defs": false,
   "report_style_numbering": false,
   "user_envs_cfg": false
  },
  "toc": {
   "base_numbering": 1,
   "nav_menu": {},
   "number_sections": true,
   "sideBar": true,
   "skip_h1_title": false,
   "title_cell": "Table of Contents",
   "title_sidebar": "Contents",
   "toc_cell": false,
   "toc_position": {},
   "toc_section_display": true,
   "toc_window_display": false
  },
  "varInspector": {
   "cols": {
    "lenName": 16,
    "lenType": 16,
    "lenVar": 40
   },
   "kernels_config": {
    "python": {
     "delete_cmd_postfix": "",
     "delete_cmd_prefix": "del ",
     "library": "var_list.py",
     "varRefreshCmd": "print(var_dic_list())"
    },
    "r": {
     "delete_cmd_postfix": ") ",
     "delete_cmd_prefix": "rm(",
     "library": "var_list.r",
     "varRefreshCmd": "cat(var_dic_list()) "
    }
   },
   "types_to_exclude": [
    "module",
    "function",
    "builtin_function_or_method",
    "instance",
    "_Feature"
   ],
   "window_display": false
  },
  "vscode": {
   "interpreter": {
    "hash": "ff39becaf9fb8fe58d1d34fc2c63ee411a5dd80719d9cd02520236b9e8461a42"
   }
  }
 },
 "nbformat": 4,
 "nbformat_minor": 4
}
