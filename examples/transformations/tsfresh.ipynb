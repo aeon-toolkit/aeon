{
 "cells": [
  {
   "cell_type": "markdown",
   "metadata": {},
   "source": [
    "# Feature extraction with tsfresh transformer\n",
    "\n",
    "[tsfresh](https://tsfresh.readthedocs.io) is a tool for extacting summary features\n",
    "from a collection of time series. It is an unsupervised transformation, and as such\n",
    "can easily be used as a pipeline stage in classification, clustering and regression\n",
    "in conjunction with a scikit-learn compatible estimator.\n",
    "\n",
    "## Preliminaries\n",
    "You have to install tsfresh if you haven't already. To install it, uncomment the cell below:"
   ]
  },
  {
   "cell_type": "code",
   "execution_count": 1,
   "metadata": {
    "execution": {
     "iopub.execute_input": "2020-12-19T14:30:39.713903Z",
     "iopub.status.busy": "2020-12-19T14:30:39.713342Z",
     "iopub.status.idle": "2020-12-19T14:30:39.715128Z",
     "shell.execute_reply": "2020-12-19T14:30:39.715641Z"
    }
   },
   "outputs": [],
   "source": [
    "# !pip install --upgrade tsfresh"
   ]
  },
  {
   "cell_type": "code",
   "execution_count": 17,
   "metadata": {
    "execution": {
     "iopub.execute_input": "2020-12-19T14:30:39.719083Z",
     "iopub.status.busy": "2020-12-19T14:30:39.718586Z",
     "iopub.status.idle": "2020-12-19T14:30:40.743724Z",
     "shell.execute_reply": "2020-12-19T14:30:40.744213Z"
    }
   },
   "outputs": [],
   "source": [
    "from sklearn.ensemble import RandomForestClassifier\n",
    "from sklearn.pipeline import make_pipeline\n",
    "\n",
    "from aeon.datasets import load_arrow_head, load_basic_motions\n",
    "from aeon.transformations.collection.feature_based import (\n",
    "    TSFreshFeatureExtractor,\n",
    "    TSFreshRelevantFeatureExtractor,\n",
    ")"
   ]
  },
  {
   "cell_type": "markdown",
   "metadata": {},
   "source": [
    "## Example data set\n",
    "\n",
    "We use the ArrowHead data from the [UCR TSC archive](https://timeseriesclassification.com).\n",
    "as an example dataset. See\n",
    "[dataset notebook](https://github.com/aeon-toolkit/aeon/blob/main/examples/datasets\n",
    "/provided_data.ipynb) for more details."
   ]
  },
  {
   "cell_type": "code",
   "execution_count": 23,
   "metadata": {
    "execution": {
     "iopub.execute_input": "2020-12-19T14:30:40.748159Z",
     "iopub.status.busy": "2020-12-19T14:30:40.747656Z",
     "iopub.status.idle": "2020-12-19T14:30:40.795200Z",
     "shell.execute_reply": "2020-12-19T14:30:40.795889Z"
    }
   },
   "outputs": [
    {
     "name": "stdout",
     "output_type": "stream",
     "text": [
      "(36, 1, 251) (36,) (175, 1, 251) (175,)\n"
     ]
    }
   ],
   "source": [
    "X_train, y_train = load_arrow_head(split=\"train\")\n",
    "X_test, y_test = load_arrow_head(split=\"test\")\n",
    "print(X_train.shape, y_train.shape, X_test.shape, y_test.shape)"
   ]
  },
  {
   "cell_type": "code",
   "execution_count": 24,
   "metadata": {
    "execution": {
     "iopub.execute_input": "2020-12-19T14:30:40.808841Z",
     "iopub.status.busy": "2020-12-19T14:30:40.808198Z",
     "iopub.status.idle": "2020-12-19T14:30:40.816155Z",
     "shell.execute_reply": "2020-12-19T14:30:40.816682Z"
    },
    "jupyter": {
     "outputs_hidden": false
    }
   },
   "outputs": [
    {
     "data": {
      "text/plain": "array([[-1.9630089 , -1.9578249 , -1.9561449 , -1.9382889 , -1.8966569 ,\n        -1.8698569 , -1.8387049 , -1.8122888 , -1.7364328 , -1.6733288 ,\n        -1.6230727 , -1.5858727 , -1.5438407 , -1.4567846 , -1.3787206 ,\n        -1.2924965 , -1.2169605 , -1.1089764 , -0.96868834, -0.83160026,\n        -0.76030422, -0.59963213, -0.46625605, -0.30638396, -0.22684791,\n        -0.08975983,  0.04137625,  0.23203876,  0.38728525,  0.41471247,\n         0.51567412,  0.62614779,  0.72741025,  0.75345186,  0.78001988,\n         0.83840391,  0.88817034,  0.91981996,  0.93344237,  0.9834616 ,\n         1.04958   ,  1.1308921 ,  1.1898697 ,  1.2635882 ,  1.2976586 ,\n         1.4139322 ,  1.4014314 ,  1.4443339 ,  1.4868475 ,  1.4448603 ,\n         1.4448603 ,  1.4635131 ,  1.4635131 ,  1.4424827 ,  1.4822811 ,\n         1.5221659 ,  1.5411515 ,  1.5181995 ,  1.4952875 ,  1.4739563 ,\n         1.4479355 ,  1.3584794 ,  1.2685802 ,  1.2195033 ,  1.1558585 ,\n         1.0848617 ,  0.97762959,  0.94645038,  0.93098797,  0.80343589,\n         0.73402625,  0.67427262,  0.61799258,  0.49093171,  0.40673646,\n         0.34117002,  0.2967364 ,  0.27182598,  0.24302436,  0.25131557,\n         0.26468518,  0.28406759,  0.27179398,  0.23864996,  0.15689631,\n         0.09680028, -0.05662381, -0.16731187, -0.28022394, -0.34350398,\n        -0.41529602, -0.47657606, -0.53492809, -0.59041612, -0.57228811,\n        -0.62446414, -0.65118416, -0.67648017, -0.67852817, -0.7229122 ,\n        -0.80680025, -0.82627226, -0.82524826, -0.84297627, -0.86462428,\n        -0.84484827, -0.82256026, -0.84185627, -0.79542424, -0.74392021,\n        -0.68369618, -0.66182416, -0.62396814, -0.64110415, -0.57260811,\n        -0.53137609, -0.51996808, -0.47995206, -0.44576004, -0.37147199,\n        -0.33326397, -0.31019196, -0.40185601, -0.48315206, -0.53822409,\n        -0.62452814, -0.67971217, -0.65051216, -0.62288014, -0.5513601 ,\n        -0.50033607, -0.45872004, -0.46732805, -0.46492805, -0.50020807,\n        -0.48531206, -0.47755206, -0.48851206, -0.50958407, -0.53227209,\n        -0.57872011, -0.61390414, -0.65249616, -0.66310416, -0.67270417,\n        -0.70216019, -0.7296482 , -0.73483221, -0.74185621, -0.70041619,\n        -0.67758417, -0.67374417, -0.63001614, -0.57931212, -0.57552011,\n        -0.60944013, -0.5477921 , -0.51206408, -0.48196806, -0.44331204,\n        -0.42489602, -0.380352  , -0.32425597, -0.25411193, -0.15044786,\n        -0.13931186, -0.0467998 ,  0.04272025,  0.22662116,  0.42361647,\n         0.55557335,  0.56090295,  0.57435896,  0.53941494,  0.50561332,\n         0.49451091,  0.49604371,  0.57437016,  0.650055  ,  0.77233027,\n         0.76694467,  0.85275912,  0.86693353,  0.92638636,  0.94545038,\n         1.0648216 ,  1.1177545 ,  1.1461961 ,  1.1855593 ,  1.1950825 ,\n         1.2903274 ,  1.3201882 ,  1.3473434 ,  1.3915018 ,  1.4367611 ,\n         1.4191547 ,  1.4416795 ,  1.4416795 ,  1.4466619 ,  1.4690155 ,\n         1.5308843 ,  1.4739563 ,  1.4739563 ,  1.4397739 ,  1.3986362 ,\n         1.3962362 ,  1.3768282 ,  1.3597226 ,  1.2935594 ,  1.1855625 ,\n         1.1610233 ,  1.0883689 ,  1.0312904 ,  0.91713516,  0.79701509,\n         0.76474307,  0.67662462,  0.66052221,  0.63566299,  0.59247737,\n         0.56743895,  0.51975573,  0.43992688,  0.41277006,  0.25329957,\n         0.1350883 , -0.00903978, -0.11716785, -0.17430388, -0.31575996,\n        -0.48673606, -0.61859214, -0.68387218, -0.81899226, -0.95635234,\n        -1.0826724 , -1.1414404 , -1.2535525 , -1.3566566 , -1.4456006 ,\n        -1.5298087 , -1.5838567 , -1.6553287 , -1.7191528 , -1.7508808 ,\n        -1.7962728 , -1.8413449 , -1.8842889 , -1.9053929 , -1.9239049 ,\n        -1.9091529 ]])"
     },
     "execution_count": 24,
     "metadata": {},
     "output_type": "execute_result"
    }
   ],
   "source": [
    "X_train[0]"
   ]
  },
  {
   "cell_type": "markdown",
   "metadata": {},
   "source": [
    "## Using tsfresh to extract features\n",
    "\n",
    "There are two versions of TSFresh feature extractors wrapped in aeon. The\n",
    "first is the unsupervised\n",
    "`TSFreshFeatureExtractor` which by default extracts all 4662 features. See the\n",
    "documentation for parameter configuration."
   ]
  },
  {
   "cell_type": "code",
   "execution_count": 25,
   "metadata": {
    "execution": {
     "iopub.execute_input": "2020-12-19T14:30:40.829452Z",
     "iopub.status.busy": "2020-12-19T14:30:40.828907Z",
     "iopub.status.idle": "2020-12-19T14:30:53.049755Z",
     "shell.execute_reply": "2020-12-19T14:30:53.050249Z"
    }
   },
   "outputs": [
    {
     "data": {
      "text/plain": "(36, 777)"
     },
     "execution_count": 25,
     "metadata": {},
     "output_type": "execute_result"
    }
   ],
   "source": [
    "t = TSFreshFeatureExtractor()\n",
    "Xt = t.fit_transform(X_train)\n",
    "Xt.shape\n",
    "Xt2 = t.transform(X_test)"
   ]
  },
  {
   "cell_type": "markdown",
   "source": [
    "The second is `TSFreshRelevantFeatureExtractor` which uses `y` to select the most\n",
    "relevant features."
   ],
   "metadata": {
    "collapsed": false
   }
  },
  {
   "cell_type": "code",
   "execution_count": 26,
   "outputs": [
    {
     "data": {
      "text/plain": "(175, 147)"
     },
     "execution_count": 26,
     "metadata": {},
     "output_type": "execute_result"
    }
   ],
   "source": [
    "t = TSFreshRelevantFeatureExtractor()\n",
    "t.fit(X_train, y_train)\n",
    "Xt = t.transform(X_test)\n",
    "Xt.shape"
   ],
   "metadata": {
    "collapsed": false
   }
  },
  {
   "cell_type": "markdown",
   "metadata": {},
   "source": [
    "## Using tsfresh with aeon estimators\n",
    "\n",
    "You can use the tsfresh transformer with any scikit-learn compatible estimator.\n"
   ]
  },
  {
   "cell_type": "code",
   "execution_count": 7,
   "metadata": {
    "execution": {
     "iopub.execute_input": "2020-12-19T14:30:53.062147Z",
     "iopub.status.busy": "2020-12-19T14:30:53.061631Z",
     "iopub.status.idle": "2020-12-19T14:31:09.307275Z",
     "shell.execute_reply": "2020-12-19T14:31:09.307781Z"
    }
   },
   "outputs": [
    {
     "data": {
      "text/plain": "0.8490566037735849"
     },
     "execution_count": 7,
     "metadata": {},
     "output_type": "execute_result"
    }
   ],
   "source": [
    "classifier = make_pipeline(\n",
    "    TSFreshFeatureExtractor(default_fc_parameters=\"efficient\", show_warnings=False),\n",
    "    RandomForestClassifier(),\n",
    ")\n",
    "classifier.fit(X_train, y_train)\n",
    "classifier.score(X_test, y_test)"
   ]
  },
  {
   "cell_type": "markdown",
   "source": [
    "For convenience and consistency of use we also have hard coded TSFresh classifier,\n",
    "regressor and clusterer."
   ],
   "metadata": {
    "collapsed": false
   }
  },
  {
   "cell_type": "code",
   "execution_count": 29,
   "outputs": [
    {
     "name": "stdout",
     "output_type": "stream",
     "text": [
      "['0' '2' '0' '0' '0' '0' '2' '2' '0' '0' '0' '0' '0' '2' '2' '2' '0' '2'\n",
      " '0' '0' '1' '0' '0' '2' '1' '2' '0' '0' '0' '2' '2' '0' '2' '1' '0' '0'\n",
      " '2' '0' '0' '0' '0' '2' '0' '2' '0' '0' '0' '0' '0' '0' '0' '0' '0' '0'\n",
      " '0' '1' '0' '2' '0' '0' '0' '0' '2' '0' '0' '0' '0' '0' '0' '2' '1' '0'\n",
      " '0' '1' '1' '1' '1' '1' '1' '2' '1' '1' '2' '1' '1' '2' '0' '0' '1' '1'\n",
      " '1' '0' '1' '1' '1' '2' '2' '2' '1' '1' '2' '1' '1' '1' '1' '1' '2' '2'\n",
      " '1' '1' '1' '0' '2' '1' '2' '1' '2' '0' '1' '1' '1' '1' '2' '2' '2' '2'\n",
      " '1' '1' '1' '2' '2' '2' '1' '0' '2' '2' '2' '2' '2' '2' '1' '2' '2' '2'\n",
      " '2' '2' '2' '2' '2' '0' '2' '2' '2' '1' '2' '2' '2' '2' '2' '2' '2' '0'\n",
      " '2' '2' '2' '2' '2' '2' '1' '2' '2' '2' '2' '2' '2']\n",
      "[7 6 0 0 5 0 0 4 1 6 4 7 0 0 4 5 5 2 2 5 2 0 4 2 3 2 7 6 2 0 0 6 4 5 0 0 7\n",
      " 2 2 1 6 5 5 0 2 4 0 2 0 2 2 5 0 2 6 6 0 6 0 6 0 5 6 0 6 4 0 7 0 7 2 0 2 6\n",
      " 2 0 2 7 0 2 2 6 2 6 0 7 2 0 2 5 0 2 0 2 2 0 5 3 0 2 0 6 5 5 0 0 2 6 5 7 0\n",
      " 2 5 0 0 5 6 2 2 5 1 5 2 5 3 2 4 7 2 0 0 3 2 2 2 6 7 0 2 2 0 0 2 2 5 0 2 0\n",
      " 4 5 0 0 2 0 2 6 4 2 2 5 2 5 3 0 0 2 6 4 3 7 2 2 2 7 0]\n"
     ]
    }
   ],
   "source": [
    "from aeon.classification.feature_based import TSFreshClassifier\n",
    "from aeon.clustering.feature_based import TSFreshClusterer\n",
    "\n",
    "cls = TSFreshClassifier()\n",
    "clst = TSFreshClusterer()\n",
    "\n",
    "cls.fit(X_train, y_train)\n",
    "cls.score(X_test, y_test)\n",
    "clst.fit(X_train)\n",
    "print(cls.predict(X_test))\n",
    "print(clst.predict(X_test))"
   ],
   "metadata": {
    "collapsed": false
   }
  },
  {
   "cell_type": "markdown",
   "source": [
    "By default, the `TSFreshClassifier` uses the supervised\n",
    "`TSFreshRelevantFeatureExtractor` and the scitkit `RandomForestClassifier`.\n",
    " You can\n",
    "change this through the constructor"
   ],
   "metadata": {
    "collapsed": false
   }
  },
  {
   "cell_type": "code",
   "execution_count": null,
   "outputs": [],
   "source": [
    "from aeon.classification.sklearn import RotationForestClassifier\n",
    "\n",
    "cls = TSFreshClassifier(\n",
    "    relevant_feature_extractor=False, estimator=RotationForestClassifier(n_estimators=5)\n",
    ")  #\n",
    "cls.fit(X_train, y_train)\n",
    "cls.score(X_test, y_test)"
   ],
   "metadata": {
    "collapsed": false
   }
  },
  {
   "cell_type": "markdown",
   "source": [
    "By default, the `TSFreshClusterer` uses the unsupervised `TSFreshFeatureExtractor`\n",
    "and the `sklearn` clusterer `KMeans` with default parameters (which fits 8 clusters).\n",
    " You can also configure this through the constructor."
   ],
   "metadata": {
    "collapsed": false
   }
  },
  {
   "cell_type": "code",
   "execution_count": 30,
   "outputs": [
    {
     "name": "stdout",
     "output_type": "stream",
     "text": [
      "[0 1 0 0 0 0 0 1 2 1 1 0 0 0 1 0 0 1 1 0 1 0 1 1 1 1 0 1 1 0 0 1 1 0 0 0 0\n",
      " 1 1 2 1 0 0 0 1 1 0 1 0 1 1 0 0 1 1 1 0 1 0 1 0 0 1 0 1 1 0 0 0 0 1 0 1 1\n",
      " 1 0 1 0 0 1 1 1 1 1 0 2 1 0 1 0 0 1 0 1 1 0 0 1 0 1 0 1 0 0 0 0 1 1 0 0 0\n",
      " 1 0 0 0 0 1 1 1 0 2 0 1 0 1 1 1 0 1 0 0 1 1 1 1 1 0 0 1 1 0 0 1 1 0 0 1 0\n",
      " 1 0 0 0 1 0 1 1 1 1 1 0 1 0 1 0 0 1 1 1 1 0 1 1 1 0 0]\n"
     ]
    }
   ],
   "source": [
    "from sklearn.cluster import KMeans\n",
    "\n",
    "clst = TSFreshClusterer(estimator=KMeans(n_clusters=3))\n",
    "clst.fit(X_train)\n",
    "print(clst.predict(X_test))"
   ],
   "metadata": {
    "collapsed": false
   }
  },
  {
   "cell_type": "markdown",
   "source": [
    "The `TSFreshRegressor` uses the supervised\n",
    "`TSFreshRelevantFeatureExtractor` and the scitkit `RandomForestRegressor`."
   ],
   "metadata": {
    "collapsed": false
   }
  },
  {
   "cell_type": "code",
   "execution_count": null,
   "outputs": [],
   "source": [
    "from aeon.regression.feature_based import TSFreshRegressor\n",
    "\n",
    "reg = TSFreshRegressor()\n",
    "from aeon.datasets import load_covid_3month\n",
    "\n",
    "X, y = load_covid_3month()\n",
    "reg.fit(X, y)"
   ],
   "metadata": {
    "collapsed": false
   }
  },
  {
   "cell_type": "markdown",
   "source": [],
   "metadata": {
    "collapsed": false
   }
  },
  {
   "cell_type": "markdown",
   "metadata": {},
   "source": [
    "## TSFresh with multivariate time series data\n",
    "\n",
    "All three estimators can be used with multivariate time series. The estimators\n",
    "calculate the features on each channel independently then concatenate the results.\n",
    "The full transform creates `777*n_channels` features."
   ]
  },
  {
   "cell_type": "code",
   "execution_count": 31,
   "metadata": {
    "execution": {
     "iopub.execute_input": "2020-12-19T14:31:09.311742Z",
     "iopub.status.busy": "2020-12-19T14:31:09.311092Z",
     "iopub.status.idle": "2020-12-19T14:31:09.380791Z",
     "shell.execute_reply": "2020-12-19T14:31:09.381304Z"
    },
    "scrolled": true
   },
   "outputs": [
    {
     "name": "stdout",
     "output_type": "stream",
     "text": [
      "(40, 6, 100) (40,) (40, 6, 100) (40,)\n"
     ]
    }
   ],
   "source": [
    "X_train, y_train = load_basic_motions(split=\"train\")\n",
    "X_test, y_test = load_basic_motions(split=\"test\")\n",
    "print(X_train.shape, y_train.shape, X_test.shape, y_test.shape)"
   ]
  },
  {
   "cell_type": "code",
   "execution_count": 33,
   "outputs": [
    {
     "data": {
      "text/plain": "(40, 4662)"
     },
     "execution_count": 33,
     "metadata": {},
     "output_type": "execute_result"
    }
   ],
   "source": [
    "tsfresh = TSFreshFeatureExtractor()\n",
    "X = tsfresh.fit_transform(X_train, y_train)\n",
    "X.shape"
   ],
   "metadata": {
    "collapsed": false
   }
  },
  {
   "cell_type": "code",
   "execution_count": 34,
   "outputs": [
    {
     "name": "stdout",
     "output_type": "stream",
     "text": [
      "['standing' 'standing' 'standing' 'standing' 'standing' 'standing'\n",
      " 'standing' 'standing' 'standing' 'standing' 'running' 'running' 'running'\n",
      " 'running' 'running' 'running' 'running' 'running' 'running' 'running'\n",
      " 'walking' 'walking' 'walking' 'walking' 'walking' 'walking' 'walking'\n",
      " 'walking' 'walking' 'walking' 'badminton' 'badminton' 'badminton'\n",
      " 'badminton' 'badminton' 'badminton' 'badminton' 'badminton' 'badminton'\n",
      " 'badminton']\n"
     ]
    }
   ],
   "source": [
    "cls = TSFreshClassifier()\n",
    "clst = TSFreshClusterer(estimator=KMeans(n_clusters=4))\n",
    "cls.fit(X_train, y_train)\n",
    "cls.score(X_test, y_test)\n",
    "clst.fit(X_train)\n",
    "print(cls.predict(X_test))"
   ],
   "metadata": {
    "collapsed": false
   }
  }
 ],
 "metadata": {
  "kernelspec": {
   "display_name": "Python 3",
   "language": "python",
   "name": "python3"
  },
  "language_info": {
   "codemirror_mode": {
    "name": "ipython",
    "version": 3
   },
   "file_extension": ".py",
   "mimetype": "text/x-python",
   "name": "python",
   "nbconvert_exporter": "python",
   "pygments_lexer": "ipython3",
   "version": "3.7.8"
  }
 },
 "nbformat": 4,
 "nbformat_minor": 4
}
