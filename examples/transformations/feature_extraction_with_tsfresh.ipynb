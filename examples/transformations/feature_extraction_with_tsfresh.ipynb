{
 "cells": [
  {
   "cell_type": "markdown",
   "metadata": {},
   "source": [
    "# Feature extraction with tsfresh transformer\n",
    "\n",
    "In this tutorial, we show how you can use aeon with [tsfresh](https://tsfresh.readthedocs.io) to first extract features from time series, so that we can then use any scikit-learn estimator.\n",
    "\n",
    "## Preliminaries\n",
    "You have to install tsfresh if you haven't already. To install it, uncomment the cell below:"
   ]
  },
  {
   "cell_type": "code",
   "execution_count": 1,
   "metadata": {
    "execution": {
     "iopub.execute_input": "2020-12-19T14:30:39.713903Z",
     "iopub.status.busy": "2020-12-19T14:30:39.713342Z",
     "iopub.status.idle": "2020-12-19T14:30:39.715128Z",
     "shell.execute_reply": "2020-12-19T14:30:39.715641Z"
    }
   },
   "outputs": [],
   "source": [
    "# !pip install --upgrade tsfresh"
   ]
  },
  {
   "cell_type": "code",
   "execution_count": 2,
   "metadata": {
    "execution": {
     "iopub.execute_input": "2020-12-19T14:30:39.719083Z",
     "iopub.status.busy": "2020-12-19T14:30:39.718586Z",
     "iopub.status.idle": "2020-12-19T14:30:40.743724Z",
     "shell.execute_reply": "2020-12-19T14:30:40.744213Z"
    }
   },
   "outputs": [],
   "source": [
    "import numpy as np\n",
    "from sklearn.ensemble import RandomForestClassifier\n",
    "from sklearn.model_selection import train_test_split\n",
    "from sklearn.pipeline import make_pipeline\n",
    "\n",
    "from aeon.datasets import load_arrow_head, load_basic_motions\n",
    "from aeon.transformations.collection.feature_based import TSFreshFeatureExtractor"
   ]
  },
  {
   "cell_type": "markdown",
   "metadata": {},
   "source": [
    "## Univariate time series classification data\n",
    "\n",
    "For more details on the data set, see the [univariate time series classification notebook](https://github.com/aeon-toolkit/aeon/blob/main/examples/02_classification_univariate.ipynb)."
   ]
  },
  {
   "cell_type": "code",
   "execution_count": 3,
   "metadata": {
    "execution": {
     "iopub.execute_input": "2020-12-19T14:30:40.748159Z",
     "iopub.status.busy": "2020-12-19T14:30:40.747656Z",
     "iopub.status.idle": "2020-12-19T14:30:40.795200Z",
     "shell.execute_reply": "2020-12-19T14:30:40.795889Z"
    }
   },
   "outputs": [
    {
     "name": "stdout",
     "output_type": "stream",
     "text": [
      "(158, 1) (158,) (53, 1) (53,)\n"
     ]
    }
   ],
   "source": [
    "X, y = load_arrow_head()\n",
    "X_train, X_test, y_train, y_test = train_test_split(X, y)\n",
    "print(X_train.shape, y_train.shape, X_test.shape, y_test.shape)"
   ]
  },
  {
   "cell_type": "code",
   "execution_count": 4,
   "metadata": {
    "execution": {
     "iopub.execute_input": "2020-12-19T14:30:40.808841Z",
     "iopub.status.busy": "2020-12-19T14:30:40.808198Z",
     "iopub.status.idle": "2020-12-19T14:30:40.816155Z",
     "shell.execute_reply": "2020-12-19T14:30:40.816682Z"
    },
    "jupyter": {
     "outputs_hidden": false
    }
   },
   "outputs": [
    {
     "data": {
      "text/html": [
       "<div>\n",
       "<style scoped>\n",
       "    .dataframe tbody tr th:only-of-type {\n",
       "        vertical-align: middle;\n",
       "    }\n",
       "\n",
       "    .dataframe tbody tr th {\n",
       "        vertical-align: top;\n",
       "    }\n",
       "\n",
       "    .dataframe thead th {\n",
       "        text-align: right;\n",
       "    }\n",
       "</style>\n",
       "<table border=\"1\" class=\"dataframe\">\n",
       "  <thead>\n",
       "    <tr style=\"text-align: right;\">\n",
       "      <th></th>\n",
       "      <th>dim_0</th>\n",
       "    </tr>\n",
       "  </thead>\n",
       "  <tbody>\n",
       "    <tr>\n",
       "      <th>69</th>\n",
       "      <td>0     -1.7998\n",
       "1     -1.7987\n",
       "2     -1.7942\n",
       "3   ...</td>\n",
       "    </tr>\n",
       "    <tr>\n",
       "      <th>103</th>\n",
       "      <td>0     -1.8091\n",
       "1     -1.8067\n",
       "2     -1.7866\n",
       "3   ...</td>\n",
       "    </tr>\n",
       "    <tr>\n",
       "      <th>34</th>\n",
       "      <td>0     -2.0417\n",
       "1     -2.0572\n",
       "2     -2.0522\n",
       "3   ...</td>\n",
       "    </tr>\n",
       "    <tr>\n",
       "      <th>14</th>\n",
       "      <td>0     -2.1888\n",
       "1     -2.1855\n",
       "2     -2.1765\n",
       "3   ...</td>\n",
       "    </tr>\n",
       "    <tr>\n",
       "      <th>121</th>\n",
       "      <td>0     -1.9586\n",
       "1     -1.9371\n",
       "2     -1.8798\n",
       "3   ...</td>\n",
       "    </tr>\n",
       "  </tbody>\n",
       "</table>\n",
       "</div>"
      ],
      "text/plain": [
       "                                                 dim_0\n",
       "69   0     -1.7998\n",
       "1     -1.7987\n",
       "2     -1.7942\n",
       "3   ...\n",
       "103  0     -1.8091\n",
       "1     -1.8067\n",
       "2     -1.7866\n",
       "3   ...\n",
       "34   0     -2.0417\n",
       "1     -2.0572\n",
       "2     -2.0522\n",
       "3   ...\n",
       "14   0     -2.1888\n",
       "1     -2.1855\n",
       "2     -2.1765\n",
       "3   ...\n",
       "121  0     -1.9586\n",
       "1     -1.9371\n",
       "2     -1.8798\n",
       "3   ..."
      ]
     },
     "execution_count": 4,
     "metadata": {},
     "output_type": "execute_result"
    }
   ],
   "source": [
    "X_train.head()"
   ]
  },
  {
   "cell_type": "code",
   "execution_count": 5,
   "metadata": {
    "execution": {
     "iopub.execute_input": "2020-12-19T14:30:40.820002Z",
     "iopub.status.busy": "2020-12-19T14:30:40.819515Z",
     "iopub.status.idle": "2020-12-19T14:30:40.821979Z",
     "shell.execute_reply": "2020-12-19T14:30:40.822517Z"
    }
   },
   "outputs": [
    {
     "data": {
      "text/plain": [
       "array(['0', '1', '2'], dtype=object)"
      ]
     },
     "execution_count": 5,
     "metadata": {},
     "output_type": "execute_result"
    }
   ],
   "source": [
    "#  binary classification task\n",
    "np.unique(y_train)"
   ]
  },
  {
   "cell_type": "markdown",
   "metadata": {},
   "source": [
    "## Using tsfresh to extract features"
   ]
  },
  {
   "cell_type": "code",
   "execution_count": 6,
   "metadata": {
    "execution": {
     "iopub.execute_input": "2020-12-19T14:30:40.829452Z",
     "iopub.status.busy": "2020-12-19T14:30:40.828907Z",
     "iopub.status.idle": "2020-12-19T14:30:53.049755Z",
     "shell.execute_reply": "2020-12-19T14:30:53.050249Z"
    }
   },
   "outputs": [
    {
     "name": "stderr",
     "output_type": "stream",
     "text": [
      "/Users/mloning/Documents/Research/software/aeon/aeon/aeon/transformations/panel/tsfresh.py:164: UserWarning: tsfresh requires a unique index, but found non-unique. To avoid this warning, please make sure the index of X contains only unique values.\n",
      "  \"tsfresh requires a unique index, but found \"\n",
      "Feature Extraction: 100%|██████████| 5/5 [00:10<00:00,  2.05s/it]\n"
     ]
    },
    {
     "data": {
      "text/html": [
       "<div>\n",
       "<style scoped>\n",
       "    .dataframe tbody tr th:only-of-type {\n",
       "        vertical-align: middle;\n",
       "    }\n",
       "\n",
       "    .dataframe tbody tr th {\n",
       "        vertical-align: top;\n",
       "    }\n",
       "\n",
       "    .dataframe thead th {\n",
       "        text-align: right;\n",
       "    }\n",
       "</style>\n",
       "<table border=\"1\" class=\"dataframe\">\n",
       "  <thead>\n",
       "    <tr style=\"text-align: right;\">\n",
       "      <th></th>\n",
       "      <th>dim_0__variance_larger_than_standard_deviation</th>\n",
       "      <th>dim_0__has_duplicate_max</th>\n",
       "      <th>dim_0__has_duplicate_min</th>\n",
       "      <th>dim_0__has_duplicate</th>\n",
       "      <th>dim_0__sum_values</th>\n",
       "      <th>dim_0__abs_energy</th>\n",
       "      <th>dim_0__mean_abs_change</th>\n",
       "      <th>dim_0__mean_change</th>\n",
       "      <th>dim_0__mean_second_derivative_central</th>\n",
       "      <th>dim_0__median</th>\n",
       "      <th>...</th>\n",
       "      <th>dim_0__fourier_entropy__bins_2</th>\n",
       "      <th>dim_0__fourier_entropy__bins_3</th>\n",
       "      <th>dim_0__fourier_entropy__bins_5</th>\n",
       "      <th>dim_0__fourier_entropy__bins_10</th>\n",
       "      <th>dim_0__fourier_entropy__bins_100</th>\n",
       "      <th>dim_0__permutation_entropy__dimension_3__tau_1</th>\n",
       "      <th>dim_0__permutation_entropy__dimension_4__tau_1</th>\n",
       "      <th>dim_0__permutation_entropy__dimension_5__tau_1</th>\n",
       "      <th>dim_0__permutation_entropy__dimension_6__tau_1</th>\n",
       "      <th>dim_0__permutation_entropy__dimension_7__tau_1</th>\n",
       "    </tr>\n",
       "  </thead>\n",
       "  <tbody>\n",
       "    <tr>\n",
       "      <th>0</th>\n",
       "      <td>0.0</td>\n",
       "      <td>0.0</td>\n",
       "      <td>0.0</td>\n",
       "      <td>1.0</td>\n",
       "      <td>-0.000080</td>\n",
       "      <td>249.998516</td>\n",
       "      <td>0.052357</td>\n",
       "      <td>-0.000001</td>\n",
       "      <td>-0.000005</td>\n",
       "      <td>-0.024066</td>\n",
       "      <td>...</td>\n",
       "      <td>0.046288</td>\n",
       "      <td>0.092513</td>\n",
       "      <td>0.092513</td>\n",
       "      <td>0.092513</td>\n",
       "      <td>0.250609</td>\n",
       "      <td>1.323194</td>\n",
       "      <td>1.819631</td>\n",
       "      <td>2.183824</td>\n",
       "      <td>2.463220</td>\n",
       "      <td>2.707387</td>\n",
       "    </tr>\n",
       "    <tr>\n",
       "      <th>1</th>\n",
       "      <td>0.0</td>\n",
       "      <td>0.0</td>\n",
       "      <td>1.0</td>\n",
       "      <td>1.0</td>\n",
       "      <td>-0.000525</td>\n",
       "      <td>250.000756</td>\n",
       "      <td>0.049118</td>\n",
       "      <td>0.000000</td>\n",
       "      <td>-0.000006</td>\n",
       "      <td>-0.031622</td>\n",
       "      <td>...</td>\n",
       "      <td>0.046288</td>\n",
       "      <td>0.046288</td>\n",
       "      <td>0.092513</td>\n",
       "      <td>0.092513</td>\n",
       "      <td>0.184769</td>\n",
       "      <td>1.213529</td>\n",
       "      <td>1.668744</td>\n",
       "      <td>2.081159</td>\n",
       "      <td>2.418614</td>\n",
       "      <td>2.707518</td>\n",
       "    </tr>\n",
       "    <tr>\n",
       "      <th>2</th>\n",
       "      <td>0.0</td>\n",
       "      <td>0.0</td>\n",
       "      <td>0.0</td>\n",
       "      <td>1.0</td>\n",
       "      <td>-0.000034</td>\n",
       "      <td>249.998998</td>\n",
       "      <td>0.069971</td>\n",
       "      <td>0.000084</td>\n",
       "      <td>0.000025</td>\n",
       "      <td>0.018880</td>\n",
       "      <td>...</td>\n",
       "      <td>0.081510</td>\n",
       "      <td>0.092513</td>\n",
       "      <td>0.092513</td>\n",
       "      <td>0.138673</td>\n",
       "      <td>0.311663</td>\n",
       "      <td>1.116706</td>\n",
       "      <td>1.545256</td>\n",
       "      <td>1.889777</td>\n",
       "      <td>2.155644</td>\n",
       "      <td>2.374722</td>\n",
       "    </tr>\n",
       "    <tr>\n",
       "      <th>3</th>\n",
       "      <td>0.0</td>\n",
       "      <td>0.0</td>\n",
       "      <td>0.0</td>\n",
       "      <td>1.0</td>\n",
       "      <td>0.000202</td>\n",
       "      <td>249.999702</td>\n",
       "      <td>0.067601</td>\n",
       "      <td>-0.000002</td>\n",
       "      <td>-0.000010</td>\n",
       "      <td>0.384770</td>\n",
       "      <td>...</td>\n",
       "      <td>0.046288</td>\n",
       "      <td>0.092513</td>\n",
       "      <td>0.092513</td>\n",
       "      <td>0.204643</td>\n",
       "      <td>0.414263</td>\n",
       "      <td>1.323315</td>\n",
       "      <td>1.915330</td>\n",
       "      <td>2.406197</td>\n",
       "      <td>2.794719</td>\n",
       "      <td>3.117007</td>\n",
       "    </tr>\n",
       "    <tr>\n",
       "      <th>4</th>\n",
       "      <td>0.0</td>\n",
       "      <td>0.0</td>\n",
       "      <td>0.0</td>\n",
       "      <td>1.0</td>\n",
       "      <td>-0.000146</td>\n",
       "      <td>249.998674</td>\n",
       "      <td>0.050355</td>\n",
       "      <td>-0.000004</td>\n",
       "      <td>-0.000046</td>\n",
       "      <td>-0.045353</td>\n",
       "      <td>...</td>\n",
       "      <td>0.046288</td>\n",
       "      <td>0.092513</td>\n",
       "      <td>0.092513</td>\n",
       "      <td>0.092513</td>\n",
       "      <td>0.230801</td>\n",
       "      <td>1.173933</td>\n",
       "      <td>1.628543</td>\n",
       "      <td>2.003443</td>\n",
       "      <td>2.303091</td>\n",
       "      <td>2.559695</td>\n",
       "    </tr>\n",
       "  </tbody>\n",
       "</table>\n",
       "<p>5 rows × 773 columns</p>\n",
       "</div>"
      ],
      "text/plain": [
       "   dim_0__variance_larger_than_standard_deviation  dim_0__has_duplicate_max  \\\n",
       "0                                             0.0                       0.0   \n",
       "1                                             0.0                       0.0   \n",
       "2                                             0.0                       0.0   \n",
       "3                                             0.0                       0.0   \n",
       "4                                             0.0                       0.0   \n",
       "\n",
       "   dim_0__has_duplicate_min  dim_0__has_duplicate  dim_0__sum_values  \\\n",
       "0                       0.0                   1.0          -0.000080   \n",
       "1                       1.0                   1.0          -0.000525   \n",
       "2                       0.0                   1.0          -0.000034   \n",
       "3                       0.0                   1.0           0.000202   \n",
       "4                       0.0                   1.0          -0.000146   \n",
       "\n",
       "   dim_0__abs_energy  dim_0__mean_abs_change  dim_0__mean_change  \\\n",
       "0         249.998516                0.052357           -0.000001   \n",
       "1         250.000756                0.049118            0.000000   \n",
       "2         249.998998                0.069971            0.000084   \n",
       "3         249.999702                0.067601           -0.000002   \n",
       "4         249.998674                0.050355           -0.000004   \n",
       "\n",
       "   dim_0__mean_second_derivative_central  dim_0__median  ...  \\\n",
       "0                              -0.000005      -0.024066  ...   \n",
       "1                              -0.000006      -0.031622  ...   \n",
       "2                               0.000025       0.018880  ...   \n",
       "3                              -0.000010       0.384770  ...   \n",
       "4                              -0.000046      -0.045353  ...   \n",
       "\n",
       "   dim_0__fourier_entropy__bins_2  dim_0__fourier_entropy__bins_3  \\\n",
       "0                        0.046288                        0.092513   \n",
       "1                        0.046288                        0.046288   \n",
       "2                        0.081510                        0.092513   \n",
       "3                        0.046288                        0.092513   \n",
       "4                        0.046288                        0.092513   \n",
       "\n",
       "   dim_0__fourier_entropy__bins_5  dim_0__fourier_entropy__bins_10  \\\n",
       "0                        0.092513                         0.092513   \n",
       "1                        0.092513                         0.092513   \n",
       "2                        0.092513                         0.138673   \n",
       "3                        0.092513                         0.204643   \n",
       "4                        0.092513                         0.092513   \n",
       "\n",
       "   dim_0__fourier_entropy__bins_100  \\\n",
       "0                          0.250609   \n",
       "1                          0.184769   \n",
       "2                          0.311663   \n",
       "3                          0.414263   \n",
       "4                          0.230801   \n",
       "\n",
       "   dim_0__permutation_entropy__dimension_3__tau_1  \\\n",
       "0                                        1.323194   \n",
       "1                                        1.213529   \n",
       "2                                        1.116706   \n",
       "3                                        1.323315   \n",
       "4                                        1.173933   \n",
       "\n",
       "   dim_0__permutation_entropy__dimension_4__tau_1  \\\n",
       "0                                        1.819631   \n",
       "1                                        1.668744   \n",
       "2                                        1.545256   \n",
       "3                                        1.915330   \n",
       "4                                        1.628543   \n",
       "\n",
       "   dim_0__permutation_entropy__dimension_5__tau_1  \\\n",
       "0                                        2.183824   \n",
       "1                                        2.081159   \n",
       "2                                        1.889777   \n",
       "3                                        2.406197   \n",
       "4                                        2.003443   \n",
       "\n",
       "   dim_0__permutation_entropy__dimension_6__tau_1  \\\n",
       "0                                        2.463220   \n",
       "1                                        2.418614   \n",
       "2                                        2.155644   \n",
       "3                                        2.794719   \n",
       "4                                        2.303091   \n",
       "\n",
       "   dim_0__permutation_entropy__dimension_7__tau_1  \n",
       "0                                        2.707387  \n",
       "1                                        2.707518  \n",
       "2                                        2.374722  \n",
       "3                                        3.117007  \n",
       "4                                        2.559695  \n",
       "\n",
       "[5 rows x 773 columns]"
      ]
     },
     "execution_count": 6,
     "metadata": {},
     "output_type": "execute_result"
    }
   ],
   "source": [
    "# tf = TsFreshTransformer()\n",
    "t = TSFreshFeatureExtractor(default_fc_parameters=\"efficient\", show_warnings=False)\n",
    "Xt = t.fit_transform(X_train)\n",
    "Xt.head()"
   ]
  },
  {
   "cell_type": "markdown",
   "metadata": {},
   "source": [
    "## Using tsfresh with aeon"
   ]
  },
  {
   "cell_type": "code",
   "execution_count": 7,
   "metadata": {
    "execution": {
     "iopub.execute_input": "2020-12-19T14:30:53.062147Z",
     "iopub.status.busy": "2020-12-19T14:30:53.061631Z",
     "iopub.status.idle": "2020-12-19T14:31:09.307275Z",
     "shell.execute_reply": "2020-12-19T14:31:09.307781Z"
    }
   },
   "outputs": [
    {
     "name": "stderr",
     "output_type": "stream",
     "text": [
      "/Users/mloning/Documents/Research/software/aeon/aeon/aeon/transformations/panel/tsfresh.py:164: UserWarning: tsfresh requires a unique index, but found non-unique. To avoid this warning, please make sure the index of X contains only unique values.\n",
      "  \"tsfresh requires a unique index, but found \"\n",
      "Feature Extraction: 100%|██████████| 5/5 [00:11<00:00,  2.21s/it]\n",
      "/Users/mloning/Documents/Research/software/aeon/aeon/aeon/transformations/panel/tsfresh.py:164: UserWarning: tsfresh requires a unique index, but found non-unique. To avoid this warning, please make sure the index of X contains only unique values.\n",
      "  \"tsfresh requires a unique index, but found \"\n",
      "Feature Extraction: 100%|██████████| 5/5 [00:03<00:00,  1.45it/s]\n"
     ]
    },
    {
     "data": {
      "text/plain": [
       "0.8490566037735849"
      ]
     },
     "execution_count": 7,
     "metadata": {},
     "output_type": "execute_result"
    }
   ],
   "source": [
    "classifier = make_pipeline(\n",
    "    TSFreshFeatureExtractor(default_fc_parameters=\"efficient\", show_warnings=False),\n",
    "    RandomForestClassifier(),\n",
    ")\n",
    "classifier.fit(X_train, y_train)\n",
    "classifier.score(X_test, y_test)"
   ]
  },
  {
   "cell_type": "markdown",
   "metadata": {},
   "source": [
    "## Multivariate time series classification data"
   ]
  },
  {
   "cell_type": "code",
   "execution_count": 7,
   "metadata": {
    "execution": {
     "iopub.execute_input": "2020-12-19T14:31:09.311742Z",
     "iopub.status.busy": "2020-12-19T14:31:09.311092Z",
     "iopub.status.idle": "2020-12-19T14:31:09.380791Z",
     "shell.execute_reply": "2020-12-19T14:31:09.381304Z"
    },
    "scrolled": true
   },
   "outputs": [
    {
     "name": "stdout",
     "output_type": "stream",
     "text": [
      "(60, 6, 100) (60,) (20, 6, 100) (20,)\n"
     ]
    }
   ],
   "source": [
    "X, y = load_basic_motions()\n",
    "X_train, X_test, y_train, y_test = train_test_split(X, y)\n",
    "print(X_train.shape, y_train.shape, X_test.shape, y_test.shape)"
   ]
  },
  {
   "cell_type": "code",
   "execution_count": 9,
   "metadata": {
    "execution": {
     "iopub.execute_input": "2020-12-19T14:31:09.425476Z",
     "iopub.status.busy": "2020-12-19T14:31:09.424972Z",
     "iopub.status.idle": "2020-12-19T14:31:09.427185Z",
     "shell.execute_reply": "2020-12-19T14:31:09.427741Z"
    },
    "jupyter": {
     "outputs_hidden": false
    }
   },
   "outputs": [
    {
     "data": {
      "text/plain": "array([[-3.9606000e-01, -3.9606000e-01, -2.6802200e-01,  3.5369800e-01,\n         1.9509000e-02,  4.6675000e-02,  1.4739420e+00,  1.1125200e+00,\n         7.8866500e-01,  1.3313740e+00,  2.1749090e+00,  2.1749090e+00,\n         5.0339940e+00,  5.0339940e+00,  5.3231220e+00,  4.4124500e+00,\n         1.9780440e+00,  2.3526440e+00,  6.2446770e+00,  1.9513924e+01,\n         6.7642000e+00, -1.7881320e+00,  1.0757590e+00,  1.2332840e+00,\n        -4.5358600e-01, -4.5358600e-01, -3.3842900e-01, -6.4972600e-01,\n        -8.9578600e-01, -4.9298800e-01, -3.8119500e-01, -1.0570280e+00,\n        -1.5661520e+00, -3.0054600e-01,  1.0001540e+00,  1.0001540e+00,\n         2.9969570e+00,  1.9172228e+01,  6.2364740e+00,  6.2364740e+00,\n         2.0156710e+00, -1.6590800e+00, -1.6590800e+00, -2.6860770e+00,\n        -2.5598480e+00, -2.9207950e+00, -4.9697600e-01,  2.0360800e-01,\n         1.8681700e-01,  2.1576900e-01,  3.2038200e-01, -5.3663300e-01,\n        -1.0022830e+00, -1.7833800e-01,  4.4786190e+00,  3.4026540e+00,\n        -5.9270790e+00, -4.8543100e-01,  2.5916640e+00, -4.8473100e-01,\n         7.8273840e+00,  1.3909917e+01,  1.3909917e+01,  1.1749340e+00,\n         2.5648050e+00,  3.4957690e+00,  2.0142110e+00, -4.6731400e-01,\n        -4.6731400e-01, -4.5249700e-01, -4.5249700e-01, -2.9657230e+00,\n        -1.5559260e+00, -2.2960140e+00, -2.9667300e-01, -6.9303100e-01,\n         1.0815430e+00,  4.2289570e+00,  5.6149800e+00, -1.1996350e+00,\n         2.9685200e-01,  1.3316540e+00,  4.0085510e+00, -1.6814120e+00,\n        -4.3082690e+00, -6.8373200e-01,  5.9999990e+00,  9.0362910e+00,\n         9.0362910e+00,  2.9306435e+01,  8.2413140e+00, -4.2405490e+00,\n        -1.1400910e+00, -1.3938600e+00, -1.3938600e+00,  6.8569400e-01,\n         1.0152220e+00,  8.7336400e-01, -5.6070000e-03, -5.6070000e-03],\n       [-6.8687800e-01, -6.8687800e-01,  1.0351000e-01,  2.5185100e-01,\n         6.7980600e-01, -5.2123600e-01, -3.1158340e+00, -1.3153580e+00,\n        -9.3986400e-01, -4.2258850e+00, -6.1863720e+00, -6.1863720e+00,\n        -2.5497650e+00, -2.5497650e+00, -5.9063700e-01, -3.1067270e+00,\n        -7.6267000e-01,  1.6971760e+00,  1.0847278e+01, -7.0562830e+00,\n        -1.2887537e+01, -5.2184140e+00, -5.8204210e+00, -4.3841050e+00,\n        -2.6731530e+00, -2.6731530e+00, -2.2910760e+00, -2.7189320e+00,\n        -1.6029810e+00, -2.8043970e+00, -2.9929840e+00, -8.0991600e-01,\n        -4.8019200e-01,  1.7013500e-01, -4.5716170e+00, -4.5716170e+00,\n         1.4316679e+01, -9.4876710e+00, -1.9732403e+01, -1.9732403e+01,\n        -3.9016210e+00, -1.3772330e+00, -1.3772330e+00, -8.4373700e-01,\n        -1.4198120e+00, -1.3836520e+00, -1.7761850e+00, -1.2827150e+00,\n        -3.1796100e-01, -6.4321400e-01, -1.2512890e+00, -3.4850000e-03,\n        -6.6451000e-01,  3.8123200e-01,  3.7703000e-01, -1.6978000e-02,\n        -9.7019400e-01,  4.1147370e+00, -2.5118820e+00,  1.9535550e+00,\n         5.9967850e+00,  9.6101550e+00,  9.6101550e+00, -4.8501220e+00,\n        -1.7264570e+00, -1.7722580e+00, -6.4914100e-01, -4.0290900e-01,\n        -4.0290900e-01, -1.0679620e+00, -1.0679620e+00,  5.3579700e-01,\n        -9.3718200e-01,  8.6820000e-01, -6.9107000e-02,  8.5833000e-01,\n         4.9797700e-01, -3.8731770e+00, -4.9281670e+00, -4.9949900e-01,\n         2.4295880e+00,  5.9478970e+00,  8.2698100e-01, -4.2722040e+00,\n        -3.1938610e+00, -2.0910800e+00,  1.4256300e-01,  7.6129060e+00,\n         7.6129060e+00, -2.0892080e+01, -7.0911730e+00,  1.2478090e+00,\n        -8.4987960e+00, -5.7235970e+00, -5.7235970e+00, -2.1055190e+00,\n        -2.4116900e+00, -2.6832280e+00, -2.1858910e+00, -2.1858910e+00],\n       [-3.5032800e-01, -3.5032800e-01, -1.2814890e+00, -1.9334350e+00,\n        -1.0807100e+00, -7.5010000e-03,  4.8972000e-01,  5.3645800e-01,\n         6.8856700e-01,  1.7551780e+00,  3.5665150e+00,  3.5665150e+00,\n        -4.7514170e+00, -4.7514170e+00, -5.2368500e+00, -6.3566560e+00,\n        -3.2044380e+00, -3.8578220e+00, -1.5193860e+01, -8.6248240e+00,\n         7.0292800e+00,  2.6189040e+00,  1.2651900e-01,  4.3406200e-01,\n         2.1431120e+00,  2.1431120e+00, -5.0554900e-01, -1.4637750e+00,\n        -6.7276400e-01, -1.0810300e-01, -6.5005800e-01,  6.2858200e-01,\n        -6.4940000e-02,  5.2737500e-01, -3.3138230e+00, -3.3138230e+00,\n        -9.8073070e+00, -7.9736600e+00, -1.1961530e+00, -1.1961530e+00,\n        -9.8792700e-01, -1.9873500e-01, -1.9873500e-01, -6.4907900e-01,\n         4.4758700e-01, -4.6525100e-01, -1.0619430e+00, -3.9171100e-01,\n         4.3434100e-01, -1.3015000e-01, -4.4332000e-01,  1.9507700e-01,\n         9.2259300e-01,  8.2087600e-01,  7.8666070e+00, -1.0998787e+01,\n        -1.5947250e+00,  3.2061180e+00,  1.4570230e+00, -2.5920140e+00,\n        -1.6877910e+00, -5.8503870e+00, -5.8503870e+00,  6.8468300e-01,\n        -2.4757930e+00, -3.2417740e+00,  5.4692300e-01,  4.7825270e+00,\n         4.7825270e+00,  7.2244500e-01,  7.2244500e-01,  1.1293810e+00,\n         4.8657100e-01,  5.6626700e-01,  8.9070800e-01,  2.8752700e-01,\n         1.8905000e-01,  7.1778200e-01, -6.0547400e-01, -6.8460300e-01,\n         7.9705200e-01, -1.7455290e+00,  5.1320700e-01,  2.4965960e+00,\n         2.9604350e+00, -2.7762020e+00, -4.8506420e+00, -7.8211620e+00,\n        -7.8211620e+00, -1.2768056e+01,  5.7731610e+00,  6.1105670e+00,\n         9.2078500e-01,  2.2085080e+00,  2.2085080e+00,  1.1658850e+00,\n         8.7346000e-02,  5.5511900e-01,  1.2246470e+00,  1.2246470e+00],\n       [-1.5713900e-01, -1.5713900e-01,  2.7432700e-01, -3.1161500e-01,\n        -1.2251500e-01, -4.8739700e-01, -5.0604100e-01, -4.4478300e-01,\n         1.3583200e-01,  6.8715000e-01,  2.0108460e+00,  2.0108460e+00,\n         3.5902260e+00,  3.5902260e+00,  4.1149110e+00,  2.3570850e+00,\n         1.4195780e+00, -3.3558500e-01, -3.2999190e+00, -4.4584860e+00,\n         2.3411050e+00, -6.1258000e-02, -3.3558500e-01,  1.9442600e-01,\n         3.1960500e-01,  3.1960500e-01, -1.1985200e-01, -5.8594000e-02,\n        -4.7941000e-02,  2.6634000e-02, -1.0174080e+00,  3.5955500e-01,\n         2.6630000e-03,  5.2468400e-01,  6.5785300e-01,  6.5785300e-01,\n         1.2118350e+00, -4.6529120e+00, -2.2905000e-01, -2.2905000e-01,\n        -2.5275400e+00, -1.2304780e+00, -1.2304780e+00,  2.3704000e-01,\n        -1.5074690e+00, -1.4249040e+00, -2.0854210e+00, -1.6672710e+00,\n        -8.5494300e-01, -2.1307000e-01, -2.8231800e-01,  1.8644000e-02,\n        -1.4382200e-01,  3.3025800e-01,  1.1399240e+00,  7.4840800e-01,\n        -4.8207000e-01,  1.0227350e+00,  6.5519000e-01,  2.4343230e+00,\n         9.9343800e-01,  9.1353700e-01,  9.1353700e-01,  2.5302000e-01,\n        -2.1839650e+00, -3.7873160e+00, -3.8831970e+00, -3.7633460e+00,\n        -3.7633460e+00, -7.3242800e-01, -7.3242800e-01, -2.9030800e-01,\n        -5.6996200e-01, -1.6779200e-01,  2.6101000e-01,  9.5881000e-02,\n         5.3267500e-01,  8.1499200e-01,  7.4041800e-01,  3.4623800e-01,\n         2.2372300e-01, -7.1644700e-01, -4.0216900e-01,  3.6221900e-01,\n         3.4171070e+00,  3.9444550e+00,  2.8418190e+00,  1.2251500e-01,\n         1.2251500e-01, -5.7395680e+00, -1.1985200e-01, -6.8715000e-01,\n        -2.3011540e+00, -4.5543700e-01, -4.5543700e-01,  2.6101000e-01,\n        -5.8594000e-02,  4.3146600e-01,  1.1026360e+00,  1.1026360e+00],\n       [-5.8594000e-02, -5.8594000e-02, -4.7141700e-01, -5.3533800e-01,\n        -4.5011000e-01, -1.2784200e-01, -3.9951000e-02,  5.5664500e-01,\n         1.1452500e+00,  1.7232020e+00,  1.8830040e+00,  1.8830040e+00,\n         2.3064810e+00,  2.3064810e+00,  3.3158990e+00,  2.0108460e+00,\n         1.4861620e+00,  2.5648280e+00,  3.3851470e+00, -8.2111780e+00,\n         3.6754500e-01, -9.5082400e-01, -1.1159530e+00, -1.8696880e+00,\n        -9.1620000e-01, -9.1620000e-01, -7.5107100e-01, -9.2685400e-01,\n        -9.8544800e-01, -9.1087300e-01, -9.8278400e-01, -5.1669400e-01,\n        -5.6996200e-01, -6.1790200e-01, -8.2564600e-01, -8.2564600e-01,\n         6.3388300e-01, -1.0357856e+01,  2.3437700e-01,  2.3437700e-01,\n         2.9297100e-01,  5.6996200e-01,  5.6996200e-01, -1.1186200e-01,\n        -1.5447600e-01,  3.4091200e-01,  4.5277300e-01,  3.3292200e-01,\n        -1.7578300e-01, -2.2638700e-01, -3.1960500e-01, -2.7432700e-01,\n        -6.0991200e-01,  5.3270000e-03,  9.2152700e-01,  3.3345430e+00,\n        -1.2624390e+00, -1.3529930e+00, -1.6885780e+00, -2.3384410e+00,\n        -1.0520320e+00, -2.8125220e+00, -2.8125220e+00,  3.9951000e-02,\n         1.6246600e-01,  2.6367400e-01, -9.1620000e-01, -8.9755700e-01,\n        -8.9755700e-01,  1.6140040e+00,  1.6140040e+00,  1.4275680e+00,\n         1.0573590e+00,  5.8061500e-01,  3.7287000e-02, -1.7045600e-01,\n         7.4574000e-02,  1.1505770e+00,  1.5420930e+00,  1.4169140e+00,\n         1.1985200e-01,  8.8157600e-01,  1.4382200e-01,  1.8031030e+00,\n         1.3822900e+00,  2.9696600e+00,  2.9163930e+00,  1.2437950e+00,\n         1.2437950e+00, -1.2517900e-01, -3.3824800e-01, -1.5074690e+00,\n        -7.0046700e-01, -1.6539540e+00, -1.6539540e+00, -7.9368500e-01,\n        -6.9780400e-01, -6.1790200e-01, -1.2730920e+00, -1.2730920e+00],\n       [ 1.5181200e-01,  1.5181200e-01,  3.3292200e-01,  8.2565000e-02,\n         1.1452500e-01,  1.3583200e-01,  2.3171300e-01,  9.9610100e-01,\n         1.4408850e+00,  1.9202920e+00,  2.7992050e+00,  2.7992050e+00,\n         4.0456630e+00,  4.0456630e+00,  4.2693860e+00,  2.5195500e+00,\n         2.0268270e+00,  1.4169140e+00, -1.6406380e+00, -1.3716369e+01,\n         1.5048050e+00,  1.5980200e-01,  8.7891000e-02,  3.9951000e-02,\n         6.3654600e-01,  6.3654600e-01,  8.6026900e-01,  1.1452500e+00,\n         1.1559040e+00,  1.2677650e+00,  1.3476670e+00,  1.5687260e+00,\n         1.7977770e+00,  1.1665570e+00,  1.3796270e+00,  1.3796270e+00,\n         5.0604000e-02, -1.5285095e+01,  3.1800670e+00,  3.1800670e+00,\n         4.0190290e+00,  1.6486280e+00,  1.6486280e+00,  9.9343800e-01,\n         2.5035700e-01,  2.1839700e-01,  3.4623800e-01,  5.4066500e-01,\n         3.9151600e-01,  1.5447600e-01,  0.0000000e+00,  7.9901000e-02,\n         2.9297000e-02, -2.6101000e-01, -5.8860500e-01, -1.4781720e+00,\n        -6.7383300e-01,  3.3025800e-01,  1.1319330e+00,  1.9096380e+00,\n        -2.7699100e-01, -1.2997258e+01, -1.2997258e+01,  1.1852010e+00,\n         2.8631260e+00,  3.2306710e+00,  1.5793800e+00, -1.7311900e-01,\n        -1.7311900e-01, -2.8764400e-01, -2.8764400e-01,  5.3267000e-02,\n         2.3437700e-01,  3.2226800e-01, -4.5277000e-02,  3.4357500e-01,\n         5.6463500e-01,  9.3750700e-01,  1.2118350e+00,  1.7205390e+00,\n         1.2517850e+00,  8.6559600e-01,  9.4549700e-01,  2.1626590e+00,\n         3.5875630e+00,  4.9272390e+00,  5.1882500e+00,  9.7213100e-01,\n         9.7213100e-01, -1.0608212e+01,  4.1735050e+00,  1.4222410e+00,\n        -1.0999730e+00, -6.3388300e-01, -6.3388300e-01,  1.3317000e-02,\n         2.3970000e-02,  3.1960500e-01,  9.7745800e-01,  9.7745800e-01]])"
     },
     "execution_count": 9,
     "metadata": {},
     "output_type": "execute_result"
    }
   ],
   "source": [
    "#  multivariate input data\n",
    "X_train[0]"
   ]
  },
  {
   "cell_type": "code",
   "execution_count": 10,
   "metadata": {
    "execution": {
     "iopub.execute_input": "2020-12-19T14:31:09.516548Z",
     "iopub.status.busy": "2020-12-19T14:31:09.515810Z",
     "iopub.status.idle": "2020-12-19T14:31:32.787406Z",
     "shell.execute_reply": "2020-12-19T14:31:32.788316Z"
    },
    "scrolled": true
   },
   "outputs": [
    {
     "data": {
      "text/plain": "   dim_0__variance_larger_than_standard_deviation  dim_0__has_duplicate_max  \\\n0                                             1.0                       0.0   \n1                                             1.0                       0.0   \n2                                             1.0                       1.0   \n3                                             1.0                       0.0   \n4                                             1.0                       0.0   \n\n   dim_0__has_duplicate_min  dim_0__has_duplicate  dim_0__sum_values  \\\n0                       0.0                   1.0         188.420744   \n1                       0.0                   1.0         307.637735   \n2                       0.0                   1.0         335.029358   \n3                       0.0                   1.0         354.190525   \n4                       0.0                   1.0          97.414175   \n\n   dim_0__abs_energy  dim_0__mean_abs_change  dim_0__mean_change  \\\n0        2898.605554                2.760254            0.003944   \n1        5948.915061                4.407277            0.177750   \n2        5296.984407                3.394429            0.001664   \n3        5467.097350                3.464491            0.016783   \n4         380.452882                1.180756            0.004439   \n\n   dim_0__mean_second_derivative_central  dim_0__median  ...  \\\n0                               0.000000       0.256310  ...   \n1                               0.084208       0.722776  ...   \n2                               0.000000       0.858254  ...   \n3                               0.000000       1.083522  ...   \n4                              -0.003649       0.458890  ...   \n\n   dim_5__fourier_entropy__bins_5  dim_5__fourier_entropy__bins_10  \\\n0                        1.021704                         1.616277   \n1                        1.197552                         1.784950   \n2                        0.806540                         1.329515   \n3                        0.827677                         1.441878   \n4                        0.288342                         0.288342   \n\n   dim_5__fourier_entropy__bins_100  \\\n0                          3.328862   \n1                          3.313297   \n2                          2.997721   \n3                          3.255335   \n4                          0.733435   \n\n   dim_5__permutation_entropy__dimension_3__tau_1  \\\n0                                        1.491726   \n1                                        1.724168   \n2                                        1.563712   \n3                                        1.621399   \n4                                        1.361921   \n\n   dim_5__permutation_entropy__dimension_4__tau_1  \\\n0                                        2.411503   \n1                                        2.931721   \n2                                        2.557740   \n3                                        2.694620   \n4                                        2.056203   \n\n   dim_5__permutation_entropy__dimension_5__tau_1  \\\n0                                        3.303501   \n1                                        3.927239   \n2                                        3.505548   \n3                                        3.630462   \n4                                        2.707323   \n\n   dim_5__permutation_entropy__dimension_6__tau_1  \\\n0                                        3.900955   \n1                                        4.382343   \n2                                        4.037344   \n3                                        4.180166   \n4                                        3.275544   \n\n   dim_5__permutation_entropy__dimension_7__tau_1  \\\n0                                        4.167081   \n1                                        4.499051   \n2                                        4.334874   \n3                                        4.384684   \n4                                        3.775574   \n\n   dim_5__query_similarity_count__query_None__threshold_0.0  \\\n0                                                0.0          \n1                                                0.0          \n2                                                0.0          \n3                                                0.0          \n4                                                0.0          \n\n   dim_5__mean_n_absolute_max__number_of_maxima_7  \n0                                       10.817097  \n1                                       11.957401  \n2                                       10.854765  \n3                                       11.958162  \n4                                        3.471516  \n\n[5 rows x 4662 columns]",
      "text/html": "<div>\n<style scoped>\n    .dataframe tbody tr th:only-of-type {\n        vertical-align: middle;\n    }\n\n    .dataframe tbody tr th {\n        vertical-align: top;\n    }\n\n    .dataframe thead th {\n        text-align: right;\n    }\n</style>\n<table border=\"1\" class=\"dataframe\">\n  <thead>\n    <tr style=\"text-align: right;\">\n      <th></th>\n      <th>dim_0__variance_larger_than_standard_deviation</th>\n      <th>dim_0__has_duplicate_max</th>\n      <th>dim_0__has_duplicate_min</th>\n      <th>dim_0__has_duplicate</th>\n      <th>dim_0__sum_values</th>\n      <th>dim_0__abs_energy</th>\n      <th>dim_0__mean_abs_change</th>\n      <th>dim_0__mean_change</th>\n      <th>dim_0__mean_second_derivative_central</th>\n      <th>dim_0__median</th>\n      <th>...</th>\n      <th>dim_5__fourier_entropy__bins_5</th>\n      <th>dim_5__fourier_entropy__bins_10</th>\n      <th>dim_5__fourier_entropy__bins_100</th>\n      <th>dim_5__permutation_entropy__dimension_3__tau_1</th>\n      <th>dim_5__permutation_entropy__dimension_4__tau_1</th>\n      <th>dim_5__permutation_entropy__dimension_5__tau_1</th>\n      <th>dim_5__permutation_entropy__dimension_6__tau_1</th>\n      <th>dim_5__permutation_entropy__dimension_7__tau_1</th>\n      <th>dim_5__query_similarity_count__query_None__threshold_0.0</th>\n      <th>dim_5__mean_n_absolute_max__number_of_maxima_7</th>\n    </tr>\n  </thead>\n  <tbody>\n    <tr>\n      <th>0</th>\n      <td>1.0</td>\n      <td>0.0</td>\n      <td>0.0</td>\n      <td>1.0</td>\n      <td>188.420744</td>\n      <td>2898.605554</td>\n      <td>2.760254</td>\n      <td>0.003944</td>\n      <td>0.000000</td>\n      <td>0.256310</td>\n      <td>...</td>\n      <td>1.021704</td>\n      <td>1.616277</td>\n      <td>3.328862</td>\n      <td>1.491726</td>\n      <td>2.411503</td>\n      <td>3.303501</td>\n      <td>3.900955</td>\n      <td>4.167081</td>\n      <td>0.0</td>\n      <td>10.817097</td>\n    </tr>\n    <tr>\n      <th>1</th>\n      <td>1.0</td>\n      <td>0.0</td>\n      <td>0.0</td>\n      <td>1.0</td>\n      <td>307.637735</td>\n      <td>5948.915061</td>\n      <td>4.407277</td>\n      <td>0.177750</td>\n      <td>0.084208</td>\n      <td>0.722776</td>\n      <td>...</td>\n      <td>1.197552</td>\n      <td>1.784950</td>\n      <td>3.313297</td>\n      <td>1.724168</td>\n      <td>2.931721</td>\n      <td>3.927239</td>\n      <td>4.382343</td>\n      <td>4.499051</td>\n      <td>0.0</td>\n      <td>11.957401</td>\n    </tr>\n    <tr>\n      <th>2</th>\n      <td>1.0</td>\n      <td>1.0</td>\n      <td>0.0</td>\n      <td>1.0</td>\n      <td>335.029358</td>\n      <td>5296.984407</td>\n      <td>3.394429</td>\n      <td>0.001664</td>\n      <td>0.000000</td>\n      <td>0.858254</td>\n      <td>...</td>\n      <td>0.806540</td>\n      <td>1.329515</td>\n      <td>2.997721</td>\n      <td>1.563712</td>\n      <td>2.557740</td>\n      <td>3.505548</td>\n      <td>4.037344</td>\n      <td>4.334874</td>\n      <td>0.0</td>\n      <td>10.854765</td>\n    </tr>\n    <tr>\n      <th>3</th>\n      <td>1.0</td>\n      <td>0.0</td>\n      <td>0.0</td>\n      <td>1.0</td>\n      <td>354.190525</td>\n      <td>5467.097350</td>\n      <td>3.464491</td>\n      <td>0.016783</td>\n      <td>0.000000</td>\n      <td>1.083522</td>\n      <td>...</td>\n      <td>0.827677</td>\n      <td>1.441878</td>\n      <td>3.255335</td>\n      <td>1.621399</td>\n      <td>2.694620</td>\n      <td>3.630462</td>\n      <td>4.180166</td>\n      <td>4.384684</td>\n      <td>0.0</td>\n      <td>11.958162</td>\n    </tr>\n    <tr>\n      <th>4</th>\n      <td>1.0</td>\n      <td>0.0</td>\n      <td>0.0</td>\n      <td>1.0</td>\n      <td>97.414175</td>\n      <td>380.452882</td>\n      <td>1.180756</td>\n      <td>0.004439</td>\n      <td>-0.003649</td>\n      <td>0.458890</td>\n      <td>...</td>\n      <td>0.288342</td>\n      <td>0.288342</td>\n      <td>0.733435</td>\n      <td>1.361921</td>\n      <td>2.056203</td>\n      <td>2.707323</td>\n      <td>3.275544</td>\n      <td>3.775574</td>\n      <td>0.0</td>\n      <td>3.471516</td>\n    </tr>\n  </tbody>\n</table>\n<p>5 rows × 4662 columns</p>\n</div>"
     },
     "execution_count": 10,
     "metadata": {},
     "output_type": "execute_result"
    }
   ],
   "source": [
    "t = TSFreshFeatureExtractor(default_fc_parameters=\"efficient\", show_warnings=False)\n",
    "Xt = t.fit_transform(X_train)\n",
    "Xt.head()"
   ]
  },
  {
   "cell_type": "code",
   "execution_count": null,
   "outputs": [],
   "source": [],
   "metadata": {
    "collapsed": false
   }
  }
 ],
 "metadata": {
  "kernelspec": {
   "display_name": "Python 3",
   "language": "python",
   "name": "python3"
  },
  "language_info": {
   "codemirror_mode": {
    "name": "ipython",
    "version": 3
   },
   "file_extension": ".py",
   "mimetype": "text/x-python",
   "name": "python",
   "nbconvert_exporter": "python",
   "pygments_lexer": "ipython3",
   "version": "3.7.8"
  }
 },
 "nbformat": 4,
 "nbformat_minor": 4
}
