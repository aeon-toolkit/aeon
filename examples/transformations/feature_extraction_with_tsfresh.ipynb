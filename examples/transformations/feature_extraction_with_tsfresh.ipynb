{
 "cells": [
  {
   "cell_type": "markdown",
   "metadata": {},
   "source": [
    "# Feature extraction with tsfresh transformer\n",
    "\n",
    "In this tutorial, we show how you can use aeon with [tsfresh](https://tsfresh.readthedocs.io) to first extract features from time series, so that we can then use any scikit-learn estimator.\n",
    "\n",
    "## Preliminaries\n",
    "You have to install tsfresh if you haven't already. To install it, uncomment the cell below:"
   ]
  },
  {
   "cell_type": "code",
   "execution_count": 1,
   "metadata": {
    "execution": {
     "iopub.execute_input": "2020-12-19T14:30:39.713903Z",
     "iopub.status.busy": "2020-12-19T14:30:39.713342Z",
     "iopub.status.idle": "2020-12-19T14:30:39.715128Z",
     "shell.execute_reply": "2020-12-19T14:30:39.715641Z"
    }
   },
   "outputs": [],
   "source": [
    "# !pip install --upgrade tsfresh"
   ]
  },
  {
   "cell_type": "code",
   "execution_count": 2,
   "metadata": {
    "execution": {
     "iopub.execute_input": "2020-12-19T14:30:39.719083Z",
     "iopub.status.busy": "2020-12-19T14:30:39.718586Z",
     "iopub.status.idle": "2020-12-19T14:30:40.743724Z",
     "shell.execute_reply": "2020-12-19T14:30:40.744213Z"
    }
   },
   "outputs": [],
   "source": [
    "import numpy as np\n",
    "from sklearn.ensemble import RandomForestClassifier\n",
    "from sklearn.model_selection import train_test_split\n",
    "from sklearn.pipeline import make_pipeline\n",
    "\n",
    "from aeon.datasets import load_arrow_head, load_basic_motions\n",
    "from aeon.transformations.collection.feature_based import TSFreshFeatureExtractor"
   ]
  },
  {
   "cell_type": "markdown",
   "metadata": {},
   "source": [
    "## Univariate time series classification data\n",
    "\n",
    "For more details on the data set, see the [univariate time series classification notebook](https://github.com/aeon-toolkit/aeon/blob/main/examples/02_classification_univariate.ipynb)."
   ]
  },
  {
   "cell_type": "code",
   "execution_count": 4,
   "metadata": {
    "execution": {
     "iopub.execute_input": "2020-12-19T14:30:40.748159Z",
     "iopub.status.busy": "2020-12-19T14:30:40.747656Z",
     "iopub.status.idle": "2020-12-19T14:30:40.795200Z",
     "shell.execute_reply": "2020-12-19T14:30:40.795889Z"
    }
   },
   "outputs": [
    {
     "name": "stdout",
     "output_type": "stream",
     "text": [
      "(158, 1, 251) (158,) (53, 1, 251) (53,)\n"
     ]
    }
   ],
   "source": [
    "X, y = load_arrow_head(return_X_y=True)\n",
    "X_train, X_test, y_train, y_test = train_test_split(X, y)\n",
    "print(X_train.shape, y_train.shape, X_test.shape, y_test.shape)"
   ]
  },
  {
   "cell_type": "code",
   "execution_count": 5,
   "metadata": {
    "execution": {
     "iopub.execute_input": "2020-12-19T14:30:40.808841Z",
     "iopub.status.busy": "2020-12-19T14:30:40.808198Z",
     "iopub.status.idle": "2020-12-19T14:30:40.816155Z",
     "shell.execute_reply": "2020-12-19T14:30:40.816682Z"
    },
    "jupyter": {
     "outputs_hidden": false
    }
   },
   "outputs": [
    {
     "data": {
      "text/plain": "array([[-1.8289016e+00, -1.8414675e+00, -1.8063030e+00, -1.8032227e+00,\n        -1.7809696e+00, -1.7556218e+00, -1.7272368e+00, -1.6952102e+00,\n        -1.6687684e+00, -1.6126463e+00, -1.5336377e+00, -1.4651511e+00,\n        -1.4064236e+00, -1.3661493e+00, -1.2959210e+00, -1.2184957e+00,\n        -1.1503546e+00, -1.0955135e+00, -9.5094029e-01, -8.3878234e-01,\n        -6.9800914e-01, -5.6061853e-01, -5.0668426e-01, -3.8732931e-01,\n        -2.5157962e-01, -1.1146854e-01,  1.2804341e-04,  7.4199503e-02,\n         1.9386536e-01,  2.7104016e-01,  3.8894419e-01,  4.9771380e-01,\n         5.4054023e-01,  6.3830131e-01,  7.2890283e-01,  7.4029711e-01,\n         8.0125997e-01,  8.0969628e-01,  8.6046100e-01,  8.8470623e-01,\n         8.8200448e-01,  8.6337722e-01,  8.6697572e-01,  8.3599266e-01,\n         8.6452874e-01,  9.5284881e-01,  9.9656623e-01,  1.0399742e+00,\n         1.1242956e+00,  1.2033834e+00,  1.2849656e+00,  1.3243663e+00,\n         1.3866750e+00,  1.4440451e+00,  1.4040946e+00,  1.3816169e+00,\n         1.3366400e+00,  1.3366400e+00,  1.3366400e+00,  1.3316554e+00,\n         1.3492189e+00,  1.3893249e+00,  1.3668472e+00,  1.3267629e+00,\n         1.2399484e+00,  1.1919142e+00,  1.1657733e+00,  1.1525164e+00,\n         1.1131446e+00,  1.0285713e+00,  9.9718661e-01,  9.4983039e-01,\n         8.7169982e-01,  7.8737696e-01,  6.8577125e-01,  6.4671028e-01,\n         5.8313060e-01,  5.0324685e-01,  4.2207627e-01,  3.7928583e-01,\n         3.9469171e-01,  4.0849842e-01,  4.2266211e-01,  4.5905875e-01,\n         5.1688947e-01,  5.3711734e-01,  5.9934831e-01,  6.1964527e-01,\n         6.6058465e-01,  5.3074512e-01,  4.4824598e-01,  3.1151030e-01,\n         1.9073754e-01,  7.7481332e-02, -2.9322055e-02, -6.9409310e-02,\n        -1.6913086e-01, -2.5500539e-01, -3.2926397e-01, -3.5512996e-01,\n        -4.1988851e-01, -4.5639167e-01, -5.4418060e-01, -6.3001194e-01,\n        -6.5049459e-01, -7.3609563e-01, -8.4327326e-01, -8.8159006e-01,\n        -9.4590239e-01, -9.2517505e-01, -9.5138650e-01, -9.8588889e-01,\n        -9.8954496e-01, -9.4657891e-01, -9.1341516e-01, -8.9792723e-01,\n        -8.8644083e-01, -8.5851650e-01, -9.1210531e-01, -9.1758942e-01,\n        -9.7595704e-01, -9.4329708e-01, -8.8478552e-01, -8.0315722e-01,\n        -7.8353821e-01, -7.4247217e-01, -7.6301239e-01, -7.8300564e-01,\n        -8.2613002e-01, -9.1138561e-01, -9.9484195e-01, -1.0760240e+00,\n        -1.1323765e+00, -1.1477061e+00, -1.1121817e+00, -1.0613566e+00,\n        -1.0176852e+00, -1.0051193e+00, -1.0377792e+00, -1.0562035e+00,\n        -1.0742248e+00, -1.0518565e+00, -1.0450482e+00, -1.0207079e+00,\n        -9.9397831e-01, -9.1391895e-01, -8.7090972e-01, -7.8530867e-01,\n        -7.6472527e-01, -6.7889393e-01, -6.1599220e-01, -5.5421320e-01,\n        -4.7189399e-01, -4.2607793e-01, -3.5294208e-01, -2.9800023e-01,\n        -1.9827868e-01, -1.7854452e-01, -9.3562422e-02, -5.6871276e-03,\n         8.6247271e-02,  1.8449487e-01,  2.3712505e-01,  3.8563789e-01,\n         5.2291191e-01,  6.0002626e-01,  5.8273477e-01,  5.8538038e-01,\n         5.4648783e-01,  4.9115302e-01,  4.7686267e-01,  4.6287459e-01,\n         4.6502937e-01,  5.3318634e-01,  5.9986793e-01,  6.6455595e-01,\n         7.2681138e-01,  7.6570538e-01,  8.2364981e-01,  8.9594218e-01,\n         9.4738629e-01,  1.0129034e+00,  1.0269563e+00,  1.1723758e+00,\n         1.2458096e+00,  1.2808043e+00,  1.3058887e+00,  1.3188620e+00,\n         1.3468554e+00,  1.3520747e+00,  1.3917891e+00,  1.4142121e+00,\n         1.4142121e+00,  1.4193335e+00,  1.4416585e+00,  1.4244880e+00,\n         1.4639203e+00,  1.4467497e+00,  1.4126863e+00,  1.3958036e+00,\n         1.3567628e+00,  1.3160437e+00,  1.2748078e+00,  1.1925533e+00,\n         1.1064773e+00,  1.0213714e+00,  9.7835639e-01,  9.2771403e-01,\n         8.3145135e-01,  7.8076005e-01,  7.7460230e-01,  7.5230601e-01,\n         7.2645585e-01,  7.0093531e-01,  7.0336934e-01,  6.7711470e-01,\n         6.5212530e-01,  5.8799145e-01,  5.3411619e-01,  4.8951210e-01,\n         4.8133920e-01,  4.0817744e-01,  2.9456426e-01,  2.1906779e-01,\n         9.2120018e-02,  5.9992638e-02, -6.6688847e-02, -1.9397488e-01,\n        -3.6969668e-01, -5.0668426e-01, -5.5730791e-01, -6.7405755e-01,\n        -7.8630186e-01, -8.9881966e-01, -1.0184913e+00, -1.0921597e+00,\n        -1.1818486e+00, -1.2776262e+00, -1.3651561e+00, -1.4240707e+00,\n        -1.5013520e+00, -1.5885364e+00, -1.6326108e+00, -1.6892655e+00,\n        -1.7162398e+00, -1.7640279e+00, -1.8065045e+00, -1.8454834e+00,\n        -1.8357819e+00, -1.8387902e+00, -1.8251159e+00]])"
     },
     "execution_count": 5,
     "metadata": {},
     "output_type": "execute_result"
    }
   ],
   "source": [
    "X_train[0]"
   ]
  },
  {
   "cell_type": "code",
   "execution_count": 5,
   "metadata": {
    "execution": {
     "iopub.execute_input": "2020-12-19T14:30:40.820002Z",
     "iopub.status.busy": "2020-12-19T14:30:40.819515Z",
     "iopub.status.idle": "2020-12-19T14:30:40.821979Z",
     "shell.execute_reply": "2020-12-19T14:30:40.822517Z"
    }
   },
   "outputs": [
    {
     "data": {
      "text/plain": [
       "array(['0', '1', '2'], dtype=object)"
      ]
     },
     "execution_count": 5,
     "metadata": {},
     "output_type": "execute_result"
    }
   ],
   "source": [
    "#  binary classification task\n",
    "np.unique(y_train)"
   ]
  },
  {
   "cell_type": "markdown",
   "metadata": {},
   "source": [
    "## Using tsfresh to extract features"
   ]
  },
  {
   "cell_type": "code",
   "execution_count": 6,
   "metadata": {
    "execution": {
     "iopub.execute_input": "2020-12-19T14:30:40.829452Z",
     "iopub.status.busy": "2020-12-19T14:30:40.828907Z",
     "iopub.status.idle": "2020-12-19T14:30:53.049755Z",
     "shell.execute_reply": "2020-12-19T14:30:53.050249Z"
    }
   },
   "outputs": [
    {
     "data": {
      "text/plain": "   dim_0__variance_larger_than_standard_deviation  dim_0__has_duplicate_max  \\\n0                                             0.0                       0.0   \n1                                             0.0                       0.0   \n2                                             0.0                       0.0   \n3                                             0.0                       0.0   \n4                                             0.0                       1.0   \n\n   dim_0__has_duplicate_min  dim_0__has_duplicate  dim_0__sum_values  \\\n0                       0.0                   1.0       2.838100e-07   \n1                       0.0                   1.0       2.580000e-07   \n2                       0.0                   1.0      -6.070000e-08   \n3                       0.0                   1.0       2.280000e-07   \n4                       1.0                   1.0      -3.650000e-07   \n\n   dim_0__abs_energy  dim_0__mean_abs_change  dim_0__mean_change  \\\n0         250.000001                0.055389            0.000015   \n1         249.999999                0.045311           -0.000057   \n2         250.000001                0.047934            0.000003   \n3         250.000000                0.051441            0.000066   \n4         250.000001                0.051974            0.000161   \n\n   dim_0__mean_second_derivative_central  dim_0__median  ...  \\\n0                           5.269116e-05       0.193865  ...   \n1                           1.038153e-07       0.061629  ...   \n2                          -6.866426e-05       0.387035  ...   \n3                          -4.210402e-05      -0.166196  ...   \n4                          -4.272932e-05       0.019023  ...   \n\n   dim_0__fourier_entropy__bins_5  dim_0__fourier_entropy__bins_10  \\\n0                        0.092513                         0.138673   \n1                        0.092513                         0.092513   \n2                        0.127671                         0.138673   \n3                        0.092513                         0.138673   \n4                        0.092513                         0.138673   \n\n   dim_0__fourier_entropy__bins_100  \\\n0                          0.219798   \n1                          0.184769   \n2                          0.184769   \n3                          0.184769   \n4                          0.219798   \n\n   dim_0__permutation_entropy__dimension_3__tau_1  \\\n0                                        1.174119   \n1                                        1.137505   \n2                                        1.293223   \n3                                        1.090680   \n4                                        1.129314   \n\n   dim_0__permutation_entropy__dimension_4__tau_1  \\\n0                                        1.640270   \n1                                        1.468234   \n2                                        1.911246   \n3                                        1.494293   \n4                                        1.506024   \n\n   dim_0__permutation_entropy__dimension_5__tau_1  \\\n0                                        2.059800   \n1                                        1.721676   \n2                                        2.447956   \n3                                        1.797282   \n4                                        1.855356   \n\n   dim_0__permutation_entropy__dimension_6__tau_1  \\\n0                                        2.414733   \n1                                        1.902331   \n2                                        2.801935   \n3                                        2.033512   \n4                                        2.165993   \n\n   dim_0__permutation_entropy__dimension_7__tau_1  \\\n0                                        2.701776   \n1                                        2.054811   \n2                                        3.039187   \n3                                        2.261121   \n4                                        2.417581   \n\n   dim_0__query_similarity_count__query_None__threshold_0.0  \\\n0                                                0.0          \n1                                                0.0          \n2                                                0.0          \n3                                                0.0          \n4                                                0.0          \n\n   dim_0__mean_n_absolute_max__number_of_maxima_7  \n0                                        1.831721  \n1                                        1.804313  \n2                                        2.032458  \n3                                        1.892806  \n4                                        1.834574  \n\n[5 rows x 777 columns]",
      "text/html": "<div>\n<style scoped>\n    .dataframe tbody tr th:only-of-type {\n        vertical-align: middle;\n    }\n\n    .dataframe tbody tr th {\n        vertical-align: top;\n    }\n\n    .dataframe thead th {\n        text-align: right;\n    }\n</style>\n<table border=\"1\" class=\"dataframe\">\n  <thead>\n    <tr style=\"text-align: right;\">\n      <th></th>\n      <th>dim_0__variance_larger_than_standard_deviation</th>\n      <th>dim_0__has_duplicate_max</th>\n      <th>dim_0__has_duplicate_min</th>\n      <th>dim_0__has_duplicate</th>\n      <th>dim_0__sum_values</th>\n      <th>dim_0__abs_energy</th>\n      <th>dim_0__mean_abs_change</th>\n      <th>dim_0__mean_change</th>\n      <th>dim_0__mean_second_derivative_central</th>\n      <th>dim_0__median</th>\n      <th>...</th>\n      <th>dim_0__fourier_entropy__bins_5</th>\n      <th>dim_0__fourier_entropy__bins_10</th>\n      <th>dim_0__fourier_entropy__bins_100</th>\n      <th>dim_0__permutation_entropy__dimension_3__tau_1</th>\n      <th>dim_0__permutation_entropy__dimension_4__tau_1</th>\n      <th>dim_0__permutation_entropy__dimension_5__tau_1</th>\n      <th>dim_0__permutation_entropy__dimension_6__tau_1</th>\n      <th>dim_0__permutation_entropy__dimension_7__tau_1</th>\n      <th>dim_0__query_similarity_count__query_None__threshold_0.0</th>\n      <th>dim_0__mean_n_absolute_max__number_of_maxima_7</th>\n    </tr>\n  </thead>\n  <tbody>\n    <tr>\n      <th>0</th>\n      <td>0.0</td>\n      <td>0.0</td>\n      <td>0.0</td>\n      <td>1.0</td>\n      <td>2.838100e-07</td>\n      <td>250.000001</td>\n      <td>0.055389</td>\n      <td>0.000015</td>\n      <td>5.269116e-05</td>\n      <td>0.193865</td>\n      <td>...</td>\n      <td>0.092513</td>\n      <td>0.138673</td>\n      <td>0.219798</td>\n      <td>1.174119</td>\n      <td>1.640270</td>\n      <td>2.059800</td>\n      <td>2.414733</td>\n      <td>2.701776</td>\n      <td>0.0</td>\n      <td>1.831721</td>\n    </tr>\n    <tr>\n      <th>1</th>\n      <td>0.0</td>\n      <td>0.0</td>\n      <td>0.0</td>\n      <td>1.0</td>\n      <td>2.580000e-07</td>\n      <td>249.999999</td>\n      <td>0.045311</td>\n      <td>-0.000057</td>\n      <td>1.038153e-07</td>\n      <td>0.061629</td>\n      <td>...</td>\n      <td>0.092513</td>\n      <td>0.092513</td>\n      <td>0.184769</td>\n      <td>1.137505</td>\n      <td>1.468234</td>\n      <td>1.721676</td>\n      <td>1.902331</td>\n      <td>2.054811</td>\n      <td>0.0</td>\n      <td>1.804313</td>\n    </tr>\n    <tr>\n      <th>2</th>\n      <td>0.0</td>\n      <td>0.0</td>\n      <td>0.0</td>\n      <td>1.0</td>\n      <td>-6.070000e-08</td>\n      <td>250.000001</td>\n      <td>0.047934</td>\n      <td>0.000003</td>\n      <td>-6.866426e-05</td>\n      <td>0.387035</td>\n      <td>...</td>\n      <td>0.127671</td>\n      <td>0.138673</td>\n      <td>0.184769</td>\n      <td>1.293223</td>\n      <td>1.911246</td>\n      <td>2.447956</td>\n      <td>2.801935</td>\n      <td>3.039187</td>\n      <td>0.0</td>\n      <td>2.032458</td>\n    </tr>\n    <tr>\n      <th>3</th>\n      <td>0.0</td>\n      <td>0.0</td>\n      <td>0.0</td>\n      <td>1.0</td>\n      <td>2.280000e-07</td>\n      <td>250.000000</td>\n      <td>0.051441</td>\n      <td>0.000066</td>\n      <td>-4.210402e-05</td>\n      <td>-0.166196</td>\n      <td>...</td>\n      <td>0.092513</td>\n      <td>0.138673</td>\n      <td>0.184769</td>\n      <td>1.090680</td>\n      <td>1.494293</td>\n      <td>1.797282</td>\n      <td>2.033512</td>\n      <td>2.261121</td>\n      <td>0.0</td>\n      <td>1.892806</td>\n    </tr>\n    <tr>\n      <th>4</th>\n      <td>0.0</td>\n      <td>1.0</td>\n      <td>1.0</td>\n      <td>1.0</td>\n      <td>-3.650000e-07</td>\n      <td>250.000001</td>\n      <td>0.051974</td>\n      <td>0.000161</td>\n      <td>-4.272932e-05</td>\n      <td>0.019023</td>\n      <td>...</td>\n      <td>0.092513</td>\n      <td>0.138673</td>\n      <td>0.219798</td>\n      <td>1.129314</td>\n      <td>1.506024</td>\n      <td>1.855356</td>\n      <td>2.165993</td>\n      <td>2.417581</td>\n      <td>0.0</td>\n      <td>1.834574</td>\n    </tr>\n  </tbody>\n</table>\n<p>5 rows × 777 columns</p>\n</div>"
     },
     "execution_count": 6,
     "metadata": {},
     "output_type": "execute_result"
    }
   ],
   "source": [
    "# tf = TsFreshTransformer()\n",
    "t = TSFreshFeatureExtractor(default_fc_parameters=\"efficient\", show_warnings=False)\n",
    "Xt = t.fit_transform(X_train)\n",
    "Xt.head()"
   ]
  },
  {
   "cell_type": "markdown",
   "metadata": {},
   "source": [
    "## Using tsfresh with aeon"
   ]
  },
  {
   "cell_type": "code",
   "execution_count": 7,
   "metadata": {
    "execution": {
     "iopub.execute_input": "2020-12-19T14:30:53.062147Z",
     "iopub.status.busy": "2020-12-19T14:30:53.061631Z",
     "iopub.status.idle": "2020-12-19T14:31:09.307275Z",
     "shell.execute_reply": "2020-12-19T14:31:09.307781Z"
    }
   },
   "outputs": [
    {
     "name": "stderr",
     "output_type": "stream",
     "text": [
      "/Users/mloning/Documents/Research/software/aeon/aeon/aeon/transformations/panel/tsfresh.py:164: UserWarning: tsfresh requires a unique index, but found non-unique. To avoid this warning, please make sure the index of X contains only unique values.\n",
      "  \"tsfresh requires a unique index, but found \"\n",
      "Feature Extraction: 100%|██████████| 5/5 [00:11<00:00,  2.21s/it]\n",
      "/Users/mloning/Documents/Research/software/aeon/aeon/aeon/transformations/panel/tsfresh.py:164: UserWarning: tsfresh requires a unique index, but found non-unique. To avoid this warning, please make sure the index of X contains only unique values.\n",
      "  \"tsfresh requires a unique index, but found \"\n",
      "Feature Extraction: 100%|██████████| 5/5 [00:03<00:00,  1.45it/s]\n"
     ]
    },
    {
     "data": {
      "text/plain": [
       "0.8490566037735849"
      ]
     },
     "execution_count": 7,
     "metadata": {},
     "output_type": "execute_result"
    }
   ],
   "source": [
    "classifier = make_pipeline(\n",
    "    TSFreshFeatureExtractor(default_fc_parameters=\"efficient\", show_warnings=False),\n",
    "    RandomForestClassifier(),\n",
    ")\n",
    "classifier.fit(X_train, y_train)\n",
    "classifier.score(X_test, y_test)"
   ]
  },
  {
   "cell_type": "markdown",
   "metadata": {},
   "source": [
    "## Multivariate time series classification data"
   ]
  },
  {
   "cell_type": "code",
   "execution_count": 8,
   "metadata": {
    "execution": {
     "iopub.execute_input": "2020-12-19T14:31:09.311742Z",
     "iopub.status.busy": "2020-12-19T14:31:09.311092Z",
     "iopub.status.idle": "2020-12-19T14:31:09.380791Z",
     "shell.execute_reply": "2020-12-19T14:31:09.381304Z"
    },
    "scrolled": true
   },
   "outputs": [
    {
     "name": "stdout",
     "output_type": "stream",
     "text": [
      "(60, 6) (60,) (20, 6) (20,)\n"
     ]
    }
   ],
   "source": [
    "X, y = load_basic_motions(return_X_y=True)\n",
    "X_train, X_test, y_train, y_test = train_test_split(X, y)\n",
    "print(X_train.shape, y_train.shape, X_test.shape, y_test.shape)"
   ]
  },
  {
   "cell_type": "code",
   "execution_count": 9,
   "metadata": {
    "execution": {
     "iopub.execute_input": "2020-12-19T14:31:09.425476Z",
     "iopub.status.busy": "2020-12-19T14:31:09.424972Z",
     "iopub.status.idle": "2020-12-19T14:31:09.427185Z",
     "shell.execute_reply": "2020-12-19T14:31:09.427741Z"
    },
    "jupyter": {
     "outputs_hidden": false
    }
   },
   "outputs": [
    {
     "data": {
      "text/html": [
       "<div>\n",
       "<style scoped>\n",
       "    .dataframe tbody tr th:only-of-type {\n",
       "        vertical-align: middle;\n",
       "    }\n",
       "\n",
       "    .dataframe tbody tr th {\n",
       "        vertical-align: top;\n",
       "    }\n",
       "\n",
       "    .dataframe thead th {\n",
       "        text-align: right;\n",
       "    }\n",
       "</style>\n",
       "<table border=\"1\" class=\"dataframe\">\n",
       "  <thead>\n",
       "    <tr style=\"text-align: right;\">\n",
       "      <th></th>\n",
       "      <th>dim_0</th>\n",
       "      <th>dim_1</th>\n",
       "      <th>dim_2</th>\n",
       "      <th>dim_3</th>\n",
       "      <th>dim_4</th>\n",
       "      <th>dim_5</th>\n",
       "    </tr>\n",
       "  </thead>\n",
       "  <tbody>\n",
       "    <tr>\n",
       "      <th>20</th>\n",
       "      <td>0    -0.294498\n",
       "1    -0.294498\n",
       "2    -0.050044\n",
       "3...</td>\n",
       "      <td>0     0.540218\n",
       "1     0.540218\n",
       "2    -0.515245\n",
       "3...</td>\n",
       "      <td>0     0.218114\n",
       "1     0.218114\n",
       "2    -0.301108\n",
       "3...</td>\n",
       "      <td>0    -0.045277\n",
       "1    -0.045277\n",
       "2     0.103872\n",
       "3...</td>\n",
       "      <td>0    -0.002663\n",
       "1    -0.002663\n",
       "2    -0.183773\n",
       "3...</td>\n",
       "      <td>0     0.031960\n",
       "1     0.031960\n",
       "2     0.037287\n",
       "3...</td>\n",
       "    </tr>\n",
       "    <tr>\n",
       "      <th>26</th>\n",
       "      <td>0    -0.761604\n",
       "1    -0.761604\n",
       "2     0.121078\n",
       "3...</td>\n",
       "      <td>0     0.260125\n",
       "1     0.260125\n",
       "2    -1.423255\n",
       "3...</td>\n",
       "      <td>0    -0.064487\n",
       "1    -0.064487\n",
       "2     0.075600\n",
       "3...</td>\n",
       "      <td>0     0.069248\n",
       "1     0.069248\n",
       "2    -0.282318\n",
       "3...</td>\n",
       "      <td>0     0.242367\n",
       "1     0.242367\n",
       "2    -0.332922\n",
       "3...</td>\n",
       "      <td>0    -0.007990\n",
       "1    -0.007990\n",
       "2     0.239704\n",
       "3...</td>\n",
       "    </tr>\n",
       "    <tr>\n",
       "      <th>7</th>\n",
       "      <td>0    -0.352746\n",
       "1    -0.352746\n",
       "2    -1.354561\n",
       "3...</td>\n",
       "      <td>0     0.316845\n",
       "1     0.316845\n",
       "2     0.490525\n",
       "3...</td>\n",
       "      <td>0    -0.473779\n",
       "1    -0.473779\n",
       "2     1.454261\n",
       "3...</td>\n",
       "      <td>0    -0.327595\n",
       "1    -0.327595\n",
       "2    -0.269001\n",
       "3...</td>\n",
       "      <td>0     0.106535\n",
       "1     0.106535\n",
       "2     0.021307\n",
       "3...</td>\n",
       "      <td>0     0.197090\n",
       "1     0.197090\n",
       "2     0.460763\n",
       "3...</td>\n",
       "    </tr>\n",
       "    <tr>\n",
       "      <th>8</th>\n",
       "      <td>0    -0.342233\n",
       "1    -0.342233\n",
       "2    -0.298542\n",
       "3...</td>\n",
       "      <td>0     0.327415\n",
       "1     0.327415\n",
       "2    -0.527154\n",
       "3...</td>\n",
       "      <td>0     0.157229\n",
       "1     0.157229\n",
       "2     0.248585\n",
       "3...</td>\n",
       "      <td>0     0.394179\n",
       "1     0.394179\n",
       "2    -0.037287\n",
       "3...</td>\n",
       "      <td>0     0.074574\n",
       "1     0.074574\n",
       "2    -0.087891\n",
       "3...</td>\n",
       "      <td>0    -0.037287\n",
       "1    -0.037287\n",
       "2    -0.050604\n",
       "3...</td>\n",
       "    </tr>\n",
       "    <tr>\n",
       "      <th>10</th>\n",
       "      <td>0      0.206148\n",
       "1      0.206148\n",
       "2      6.53436...</td>\n",
       "      <td>0    -0.658294\n",
       "1    -0.658294\n",
       "2     4.597327\n",
       "3...</td>\n",
       "      <td>0     0.469612\n",
       "1     0.469612\n",
       "2    -2.723661\n",
       "3...</td>\n",
       "      <td>0    -0.106535\n",
       "1    -0.106535\n",
       "2    -0.439456\n",
       "3...</td>\n",
       "      <td>0     0.306288\n",
       "1     0.306288\n",
       "2     1.717875\n",
       "3...</td>\n",
       "      <td>0     0.950824\n",
       "1     0.950824\n",
       "2    -1.041379\n",
       "3...</td>\n",
       "    </tr>\n",
       "  </tbody>\n",
       "</table>\n",
       "</div>"
      ],
      "text/plain": [
       "                                                dim_0  \\\n",
       "20  0    -0.294498\n",
       "1    -0.294498\n",
       "2    -0.050044\n",
       "3...   \n",
       "26  0    -0.761604\n",
       "1    -0.761604\n",
       "2     0.121078\n",
       "3...   \n",
       "7   0    -0.352746\n",
       "1    -0.352746\n",
       "2    -1.354561\n",
       "3...   \n",
       "8   0    -0.342233\n",
       "1    -0.342233\n",
       "2    -0.298542\n",
       "3...   \n",
       "10  0      0.206148\n",
       "1      0.206148\n",
       "2      6.53436...   \n",
       "\n",
       "                                                dim_1  \\\n",
       "20  0     0.540218\n",
       "1     0.540218\n",
       "2    -0.515245\n",
       "3...   \n",
       "26  0     0.260125\n",
       "1     0.260125\n",
       "2    -1.423255\n",
       "3...   \n",
       "7   0     0.316845\n",
       "1     0.316845\n",
       "2     0.490525\n",
       "3...   \n",
       "8   0     0.327415\n",
       "1     0.327415\n",
       "2    -0.527154\n",
       "3...   \n",
       "10  0    -0.658294\n",
       "1    -0.658294\n",
       "2     4.597327\n",
       "3...   \n",
       "\n",
       "                                                dim_2  \\\n",
       "20  0     0.218114\n",
       "1     0.218114\n",
       "2    -0.301108\n",
       "3...   \n",
       "26  0    -0.064487\n",
       "1    -0.064487\n",
       "2     0.075600\n",
       "3...   \n",
       "7   0    -0.473779\n",
       "1    -0.473779\n",
       "2     1.454261\n",
       "3...   \n",
       "8   0     0.157229\n",
       "1     0.157229\n",
       "2     0.248585\n",
       "3...   \n",
       "10  0     0.469612\n",
       "1     0.469612\n",
       "2    -2.723661\n",
       "3...   \n",
       "\n",
       "                                                dim_3  \\\n",
       "20  0    -0.045277\n",
       "1    -0.045277\n",
       "2     0.103872\n",
       "3...   \n",
       "26  0     0.069248\n",
       "1     0.069248\n",
       "2    -0.282318\n",
       "3...   \n",
       "7   0    -0.327595\n",
       "1    -0.327595\n",
       "2    -0.269001\n",
       "3...   \n",
       "8   0     0.394179\n",
       "1     0.394179\n",
       "2    -0.037287\n",
       "3...   \n",
       "10  0    -0.106535\n",
       "1    -0.106535\n",
       "2    -0.439456\n",
       "3...   \n",
       "\n",
       "                                                dim_4  \\\n",
       "20  0    -0.002663\n",
       "1    -0.002663\n",
       "2    -0.183773\n",
       "3...   \n",
       "26  0     0.242367\n",
       "1     0.242367\n",
       "2    -0.332922\n",
       "3...   \n",
       "7   0     0.106535\n",
       "1     0.106535\n",
       "2     0.021307\n",
       "3...   \n",
       "8   0     0.074574\n",
       "1     0.074574\n",
       "2    -0.087891\n",
       "3...   \n",
       "10  0     0.306288\n",
       "1     0.306288\n",
       "2     1.717875\n",
       "3...   \n",
       "\n",
       "                                                dim_5  \n",
       "20  0     0.031960\n",
       "1     0.031960\n",
       "2     0.037287\n",
       "3...  \n",
       "26  0    -0.007990\n",
       "1    -0.007990\n",
       "2     0.239704\n",
       "3...  \n",
       "7   0     0.197090\n",
       "1     0.197090\n",
       "2     0.460763\n",
       "3...  \n",
       "8   0    -0.037287\n",
       "1    -0.037287\n",
       "2    -0.050604\n",
       "3...  \n",
       "10  0     0.950824\n",
       "1     0.950824\n",
       "2    -1.041379\n",
       "3...  "
      ]
     },
     "execution_count": 9,
     "metadata": {},
     "output_type": "execute_result"
    }
   ],
   "source": [
    "#  multivariate input data\n",
    "X_train[0]"
   ]
  },
  {
   "cell_type": "code",
   "execution_count": 10,
   "metadata": {
    "execution": {
     "iopub.execute_input": "2020-12-19T14:31:09.516548Z",
     "iopub.status.busy": "2020-12-19T14:31:09.515810Z",
     "iopub.status.idle": "2020-12-19T14:31:32.787406Z",
     "shell.execute_reply": "2020-12-19T14:31:32.788316Z"
    },
    "scrolled": true
   },
   "outputs": [
    {
     "name": "stderr",
     "output_type": "stream",
     "text": [
      "/Users/mloning/Documents/Research/software/aeon/aeon/aeon/transformations/panel/tsfresh.py:164: UserWarning: tsfresh requires a unique index, but found non-unique. To avoid this warning, please make sure the index of X contains only unique values.\n",
      "  \"tsfresh requires a unique index, but found \"\n",
      "Feature Extraction: 100%|██████████| 5/5 [00:18<00:00,  3.69s/it]\n"
     ]
    },
    {
     "data": {
      "text/html": [
       "<div>\n",
       "<style scoped>\n",
       "    .dataframe tbody tr th:only-of-type {\n",
       "        vertical-align: middle;\n",
       "    }\n",
       "\n",
       "    .dataframe tbody tr th {\n",
       "        vertical-align: top;\n",
       "    }\n",
       "\n",
       "    .dataframe thead th {\n",
       "        text-align: right;\n",
       "    }\n",
       "</style>\n",
       "<table border=\"1\" class=\"dataframe\">\n",
       "  <thead>\n",
       "    <tr style=\"text-align: right;\">\n",
       "      <th></th>\n",
       "      <th>dim_0__variance_larger_than_standard_deviation</th>\n",
       "      <th>dim_0__has_duplicate_max</th>\n",
       "      <th>dim_0__has_duplicate_min</th>\n",
       "      <th>dim_0__has_duplicate</th>\n",
       "      <th>dim_0__sum_values</th>\n",
       "      <th>dim_0__abs_energy</th>\n",
       "      <th>dim_0__mean_abs_change</th>\n",
       "      <th>dim_0__mean_change</th>\n",
       "      <th>dim_0__mean_second_derivative_central</th>\n",
       "      <th>dim_0__median</th>\n",
       "      <th>...</th>\n",
       "      <th>dim_5__fourier_entropy__bins_2</th>\n",
       "      <th>dim_5__fourier_entropy__bins_3</th>\n",
       "      <th>dim_5__fourier_entropy__bins_5</th>\n",
       "      <th>dim_5__fourier_entropy__bins_10</th>\n",
       "      <th>dim_5__fourier_entropy__bins_100</th>\n",
       "      <th>dim_5__permutation_entropy__dimension_3__tau_1</th>\n",
       "      <th>dim_5__permutation_entropy__dimension_4__tau_1</th>\n",
       "      <th>dim_5__permutation_entropy__dimension_5__tau_1</th>\n",
       "      <th>dim_5__permutation_entropy__dimension_6__tau_1</th>\n",
       "      <th>dim_5__permutation_entropy__dimension_7__tau_1</th>\n",
       "    </tr>\n",
       "  </thead>\n",
       "  <tbody>\n",
       "    <tr>\n",
       "      <th>0</th>\n",
       "      <td>0.0</td>\n",
       "      <td>0.0</td>\n",
       "      <td>0.0</td>\n",
       "      <td>1.0</td>\n",
       "      <td>33.334188</td>\n",
       "      <td>110.735119</td>\n",
       "      <td>0.822452</td>\n",
       "      <td>0.000639</td>\n",
       "      <td>0.001751</td>\n",
       "      <td>0.164096</td>\n",
       "      <td>...</td>\n",
       "      <td>0.165443</td>\n",
       "      <td>0.165443</td>\n",
       "      <td>0.165443</td>\n",
       "      <td>0.192626</td>\n",
       "      <td>0.545824</td>\n",
       "      <td>1.279774</td>\n",
       "      <td>1.910772</td>\n",
       "      <td>2.565051</td>\n",
       "      <td>3.096812</td>\n",
       "      <td>3.567632</td>\n",
       "    </tr>\n",
       "    <tr>\n",
       "      <th>1</th>\n",
       "      <td>1.0</td>\n",
       "      <td>0.0</td>\n",
       "      <td>0.0</td>\n",
       "      <td>1.0</td>\n",
       "      <td>73.888480</td>\n",
       "      <td>220.949429</td>\n",
       "      <td>0.964075</td>\n",
       "      <td>-0.002087</td>\n",
       "      <td>-0.003908</td>\n",
       "      <td>0.613719</td>\n",
       "      <td>...</td>\n",
       "      <td>0.096509</td>\n",
       "      <td>0.096509</td>\n",
       "      <td>0.261160</td>\n",
       "      <td>0.261160</td>\n",
       "      <td>0.451359</td>\n",
       "      <td>1.313299</td>\n",
       "      <td>1.987599</td>\n",
       "      <td>2.593635</td>\n",
       "      <td>3.173890</td>\n",
       "      <td>3.696247</td>\n",
       "    </tr>\n",
       "    <tr>\n",
       "      <th>2</th>\n",
       "      <td>0.0</td>\n",
       "      <td>0.0</td>\n",
       "      <td>0.0</td>\n",
       "      <td>1.0</td>\n",
       "      <td>-17.428760</td>\n",
       "      <td>7.940863</td>\n",
       "      <td>0.170422</td>\n",
       "      <td>0.002326</td>\n",
       "      <td>-0.000244</td>\n",
       "      <td>-0.152038</td>\n",
       "      <td>...</td>\n",
       "      <td>0.223718</td>\n",
       "      <td>0.261160</td>\n",
       "      <td>0.356468</td>\n",
       "      <td>0.545824</td>\n",
       "      <td>1.821690</td>\n",
       "      <td>1.438857</td>\n",
       "      <td>2.291659</td>\n",
       "      <td>3.140440</td>\n",
       "      <td>3.819994</td>\n",
       "      <td>4.207710</td>\n",
       "    </tr>\n",
       "    <tr>\n",
       "      <th>3</th>\n",
       "      <td>0.0</td>\n",
       "      <td>0.0</td>\n",
       "      <td>0.0</td>\n",
       "      <td>1.0</td>\n",
       "      <td>-18.154841</td>\n",
       "      <td>5.568890</td>\n",
       "      <td>0.135705</td>\n",
       "      <td>0.001051</td>\n",
       "      <td>0.000688</td>\n",
       "      <td>-0.196623</td>\n",
       "      <td>...</td>\n",
       "      <td>0.399949</td>\n",
       "      <td>0.705356</td>\n",
       "      <td>1.127853</td>\n",
       "      <td>1.742820</td>\n",
       "      <td>3.274497</td>\n",
       "      <td>1.683010</td>\n",
       "      <td>2.766048</td>\n",
       "      <td>3.748502</td>\n",
       "      <td>4.303872</td>\n",
       "      <td>4.449241</td>\n",
       "    </tr>\n",
       "    <tr>\n",
       "      <th>4</th>\n",
       "      <td>1.0</td>\n",
       "      <td>0.0</td>\n",
       "      <td>0.0</td>\n",
       "      <td>1.0</td>\n",
       "      <td>395.985445</td>\n",
       "      <td>11192.658970</td>\n",
       "      <td>6.583700</td>\n",
       "      <td>0.099344</td>\n",
       "      <td>0.000000</td>\n",
       "      <td>8.608970</td>\n",
       "      <td>...</td>\n",
       "      <td>0.165443</td>\n",
       "      <td>0.165443</td>\n",
       "      <td>0.165443</td>\n",
       "      <td>0.165443</td>\n",
       "      <td>0.706253</td>\n",
       "      <td>1.483926</td>\n",
       "      <td>2.279149</td>\n",
       "      <td>3.014130</td>\n",
       "      <td>3.525453</td>\n",
       "      <td>3.919983</td>\n",
       "    </tr>\n",
       "  </tbody>\n",
       "</table>\n",
       "<p>5 rows × 4638 columns</p>\n",
       "</div>"
      ],
      "text/plain": [
       "   dim_0__variance_larger_than_standard_deviation  dim_0__has_duplicate_max  \\\n",
       "0                                             0.0                       0.0   \n",
       "1                                             1.0                       0.0   \n",
       "2                                             0.0                       0.0   \n",
       "3                                             0.0                       0.0   \n",
       "4                                             1.0                       0.0   \n",
       "\n",
       "   dim_0__has_duplicate_min  dim_0__has_duplicate  dim_0__sum_values  \\\n",
       "0                       0.0                   1.0          33.334188   \n",
       "1                       0.0                   1.0          73.888480   \n",
       "2                       0.0                   1.0         -17.428760   \n",
       "3                       0.0                   1.0         -18.154841   \n",
       "4                       0.0                   1.0         395.985445   \n",
       "\n",
       "   dim_0__abs_energy  dim_0__mean_abs_change  dim_0__mean_change  \\\n",
       "0         110.735119                0.822452            0.000639   \n",
       "1         220.949429                0.964075           -0.002087   \n",
       "2           7.940863                0.170422            0.002326   \n",
       "3           5.568890                0.135705            0.001051   \n",
       "4       11192.658970                6.583700            0.099344   \n",
       "\n",
       "   dim_0__mean_second_derivative_central  dim_0__median  ...  \\\n",
       "0                               0.001751       0.164096  ...   \n",
       "1                              -0.003908       0.613719  ...   \n",
       "2                              -0.000244      -0.152038  ...   \n",
       "3                               0.000688      -0.196623  ...   \n",
       "4                               0.000000       8.608970  ...   \n",
       "\n",
       "   dim_5__fourier_entropy__bins_2  dim_5__fourier_entropy__bins_3  \\\n",
       "0                        0.165443                        0.165443   \n",
       "1                        0.096509                        0.096509   \n",
       "2                        0.223718                        0.261160   \n",
       "3                        0.399949                        0.705356   \n",
       "4                        0.165443                        0.165443   \n",
       "\n",
       "   dim_5__fourier_entropy__bins_5  dim_5__fourier_entropy__bins_10  \\\n",
       "0                        0.165443                         0.192626   \n",
       "1                        0.261160                         0.261160   \n",
       "2                        0.356468                         0.545824   \n",
       "3                        1.127853                         1.742820   \n",
       "4                        0.165443                         0.165443   \n",
       "\n",
       "   dim_5__fourier_entropy__bins_100  \\\n",
       "0                          0.545824   \n",
       "1                          0.451359   \n",
       "2                          1.821690   \n",
       "3                          3.274497   \n",
       "4                          0.706253   \n",
       "\n",
       "   dim_5__permutation_entropy__dimension_3__tau_1  \\\n",
       "0                                        1.279774   \n",
       "1                                        1.313299   \n",
       "2                                        1.438857   \n",
       "3                                        1.683010   \n",
       "4                                        1.483926   \n",
       "\n",
       "   dim_5__permutation_entropy__dimension_4__tau_1  \\\n",
       "0                                        1.910772   \n",
       "1                                        1.987599   \n",
       "2                                        2.291659   \n",
       "3                                        2.766048   \n",
       "4                                        2.279149   \n",
       "\n",
       "   dim_5__permutation_entropy__dimension_5__tau_1  \\\n",
       "0                                        2.565051   \n",
       "1                                        2.593635   \n",
       "2                                        3.140440   \n",
       "3                                        3.748502   \n",
       "4                                        3.014130   \n",
       "\n",
       "   dim_5__permutation_entropy__dimension_6__tau_1  \\\n",
       "0                                        3.096812   \n",
       "1                                        3.173890   \n",
       "2                                        3.819994   \n",
       "3                                        4.303872   \n",
       "4                                        3.525453   \n",
       "\n",
       "   dim_5__permutation_entropy__dimension_7__tau_1  \n",
       "0                                        3.567632  \n",
       "1                                        3.696247  \n",
       "2                                        4.207710  \n",
       "3                                        4.449241  \n",
       "4                                        3.919983  \n",
       "\n",
       "[5 rows x 4638 columns]"
      ]
     },
     "execution_count": 10,
     "metadata": {},
     "output_type": "execute_result"
    }
   ],
   "source": [
    "t = TSFreshFeatureExtractor(default_fc_parameters=\"efficient\", show_warnings=False)\n",
    "Xt = t.fit_transform(X_train)\n",
    "Xt.head()"
   ]
  }
 ],
 "metadata": {
  "kernelspec": {
   "display_name": "Python 3",
   "language": "python",
   "name": "python3"
  },
  "language_info": {
   "codemirror_mode": {
    "name": "ipython",
    "version": 3
   },
   "file_extension": ".py",
   "mimetype": "text/x-python",
   "name": "python",
   "nbconvert_exporter": "python",
   "pygments_lexer": "ipython3",
   "version": "3.7.8"
  }
 },
 "nbformat": 4,
 "nbformat_minor": 4
}
