{
 "cells": [
  {
   "cell_type": "markdown",
   "source": [
    "# Preprocessing time series with aeon\n",
    "\n",
    "It is common to need to preprocess time series data before applying machine learning\n",
    "algorithms. Transformers in `aeon` can be used to preprocess collections of time\n",
    "series. This notebook demonstrates three common use cases\n",
    "\n",
    "1. Rescaling time series\n",
    "2. Resizing time series\n"
   ],
   "metadata": {
    "collapsed": false
   }
  },
  {
   "cell_type": "markdown",
   "source": [
    "## Rescaling time series\n",
    "\n",
    "Different levels of scale and variance can mask discriminative patterns in time\n",
    "series. This is particularly true for methods that are based on distances. It common\n",
    "to rescale time series to have zero mean and unit variance. For example, the data in\n",
    "the `UnitTest` dataset is a subset of the [Chinatown dataset]\n",
    "(https://timeseriesclassification.com/description.php?Dataset=Chinatown. These are\n",
    "counts of pedestrians in Chinatown, Melbourne. The time series are of different means"
   ],
   "metadata": {
    "collapsed": false
   }
  },
  {
   "cell_type": "code",
   "execution_count": 2,
   "outputs": [
    {
     "data": {
      "text/plain": "array([[561.875     ],\n       [604.95833333],\n       [629.16666667],\n       [801.45833333],\n       [540.75      ]])"
     },
     "execution_count": 2,
     "metadata": {},
     "output_type": "execute_result"
    }
   ],
   "source": [
    "import numpy as np\n",
    "\n",
    "from aeon.datasets import load_unit_test\n",
    "\n",
    "X, y = load_unit_test(split=\"Train\")\n",
    "np.mean(X, axis=-1)[0:5]"
   ],
   "metadata": {
    "collapsed": false
   }
  },
  {
   "cell_type": "code",
   "execution_count": 3,
   "outputs": [
    {
     "data": {
      "text/plain": "array([[428.95224215],\n       [483.35481095],\n       [514.90052977],\n       [629.00847763],\n       [389.10059218]])"
     },
     "execution_count": 3,
     "metadata": {},
     "output_type": "execute_result"
    }
   ],
   "source": [
    "np.std(X, axis=-1)[0:5]"
   ],
   "metadata": {
    "collapsed": false
   }
  },
  {
   "cell_type": "markdown",
   "source": [
    "We can rescale the time series in three ways:\n",
    "1. Normalise: subtract the mean and divide by the standard deviation to make all\n",
    "series have zero mean and unit variance."
   ],
   "metadata": {
    "collapsed": false
   }
  },
  {
   "cell_type": "code",
   "execution_count": 4,
   "outputs": [
    {
     "data": {
      "text/plain": "array([[ 0.],\n       [-0.],\n       [ 0.],\n       [-0.],\n       [-0.]])"
     },
     "execution_count": 4,
     "metadata": {},
     "output_type": "execute_result"
    }
   ],
   "source": [
    "from aeon.transformations.collection import Normalizer\n",
    "\n",
    "normalizer = Normalizer()\n",
    "X2 = normalizer.fit_transform(X)\n",
    "np.round(np.mean(X2, axis=-1)[0:5], 6)"
   ],
   "metadata": {
    "collapsed": false
   }
  },
  {
   "cell_type": "code",
   "execution_count": 5,
   "outputs": [
    {
     "data": {
      "text/plain": "array([[1.],\n       [1.],\n       [1.],\n       [1.],\n       [1.]])"
     },
     "execution_count": 5,
     "metadata": {},
     "output_type": "execute_result"
    }
   ],
   "source": [
    "np.round(np.std(X2, axis=-1)[0:5], 6)"
   ],
   "metadata": {
    "collapsed": false
   }
  },
  {
   "cell_type": "markdown",
   "source": [
    "2. Re-center: Recentering involves subtracting the mean of each series"
   ],
   "metadata": {
    "collapsed": false
   }
  },
  {
   "cell_type": "code",
   "execution_count": 6,
   "outputs": [
    {
     "data": {
      "text/plain": "array([[ 0.],\n       [-0.],\n       [ 0.],\n       [-0.],\n       [ 0.]])"
     },
     "execution_count": 6,
     "metadata": {},
     "output_type": "execute_result"
    }
   ],
   "source": [
    "from aeon.transformations.collection import Centerer\n",
    "\n",
    "c = Centerer()\n",
    "X3 = c.fit_transform(X)\n",
    "np.round(np.mean(X3, axis=-1)[0:5], 6)"
   ],
   "metadata": {
    "collapsed": false
   }
  },
  {
   "cell_type": "markdown",
   "source": [
    "3. Min-Max: Scale the data to be between 0 and 1"
   ],
   "metadata": {
    "collapsed": false
   }
  },
  {
   "cell_type": "code",
   "execution_count": 7,
   "outputs": [
    {
     "data": {
      "text/plain": "array([[0.],\n       [0.],\n       [0.],\n       [0.],\n       [0.]])"
     },
     "execution_count": 7,
     "metadata": {},
     "output_type": "execute_result"
    }
   ],
   "source": [
    "from aeon.transformations.collection import MinMaxScaler\n",
    "\n",
    "minmax = MinMaxScaler()\n",
    "X4 = minmax.fit_transform(X)\n",
    "np.round(np.min(X4, axis=-1)[0:5], 6)"
   ],
   "metadata": {
    "collapsed": false
   }
  },
  {
   "cell_type": "code",
   "execution_count": 8,
   "outputs": [
    {
     "data": {
      "text/plain": "array([[1.],\n       [1.],\n       [1.],\n       [1.],\n       [1.]])"
     },
     "execution_count": 8,
     "metadata": {},
     "output_type": "execute_result"
    }
   ],
   "source": [
    "np.round(np.max(X4, axis=-1)[0:5], 6)"
   ],
   "metadata": {
    "collapsed": false
   }
  },
  {
   "cell_type": "markdown",
   "source": [
    "There is no best way to do this, although for counts such as this it is more common\n",
    "to MinMax scale, so that the data still has some interpretation as proportions."
   ],
   "metadata": {
    "collapsed": false
   }
  },
  {
   "cell_type": "markdown",
   "metadata": {},
   "source": [
    "# Resizing time series\n",
    "\n",
    "Suppose we have a collections of time series with different lengths, i.e. different\n",
    "number of time points. Currently, most of aeon's collection estimators\n",
    "(classification, clustering or regression) require equal-length time\n",
    "series. Those that can handle unequal length series are tagged with\n",
    "\"capability:unequal\"."
   ]
  },
  {
   "cell_type": "code",
   "execution_count": null,
   "metadata": {
    "execution": {
     "iopub.execute_input": "2020-12-19T14:31:58.456171Z",
     "iopub.status.busy": "2020-12-19T14:31:58.455565Z",
     "iopub.status.idle": "2020-12-19T14:31:59.189497Z",
     "shell.execute_reply": "2020-12-19T14:31:59.190005Z"
    },
    "pycharm": {
     "is_executing": true
    }
   },
   "outputs": [],
   "source": [
    "from aeon.classification.convolution_based import RocketClassifier\n",
    "from aeon.datasets import load_basic_motions, load_plaid"
   ]
  },
  {
   "cell_type": "markdown",
   "source": [
    "If you want to use an estimator that cannot internally handle missing values, one\n",
    "option is to convert unequal length series into equal length. This can be\n",
    " done through padding, truncation or resizing through fitting a function and\n",
    " resampling."
   ],
   "metadata": {
    "collapsed": false
   }
  },
  {
   "cell_type": "markdown",
   "metadata": {},
   "source": [
    "## Unequal or equal length collections time series\n",
    "\n",
    "If a collection contains all equal length series, it will store the data in a 3D\n",
    "numpy of shape `(n_cases, n_channels, n_timepoints)`. If it is unequal length, it is\n",
    "stored in a list of 2D numpy arrays:"
   ]
  },
  {
   "cell_type": "code",
   "execution_count": null,
   "metadata": {
    "execution": {
     "iopub.execute_input": "2020-12-19T14:31:59.194445Z",
     "iopub.status.busy": "2020-12-19T14:31:59.193903Z",
     "iopub.status.idle": "2020-12-19T14:32:01.019896Z",
     "shell.execute_reply": "2020-12-19T14:32:01.020463Z"
    },
    "pycharm": {
     "is_executing": true
    }
   },
   "outputs": [],
   "source": [
    "# Equal length multivariate data\n",
    "bm_X, bm_y = load_basic_motions()\n",
    "print(type(bm_X), \"\\n\", bm_X.shape)"
   ]
  },
  {
   "cell_type": "code",
   "execution_count": null,
   "outputs": [],
   "source": [
    "# Unequal length univariate data\n",
    "plaid_X, plaid_y = load_plaid()\n",
    "print(type(plaid_X), \"\\n\", plaid_X[0].shape, \"\\n\", plaid_X[10].shape)"
   ],
   "metadata": {
    "collapsed": false,
    "pycharm": {
     "is_executing": true
    }
   }
  },
  {
   "cell_type": "markdown",
   "metadata": {},
   "source": [
    "If time series are unequal length, collection estimators will raise an error if they\n",
    "do not have the capability to handle this characteristic.\n"
   ]
  },
  {
   "cell_type": "code",
   "execution_count": null,
   "metadata": {
    "execution": {
     "iopub.execute_input": "2020-12-19T14:32:01.026183Z",
     "iopub.status.busy": "2020-12-19T14:32:01.025650Z",
     "iopub.status.idle": "2020-12-19T14:32:01.239714Z",
     "shell.execute_reply": "2020-12-19T14:32:01.240542Z"
    },
    "pycharm": {
     "is_executing": true
    }
   },
   "outputs": [],
   "source": [
    "rc = RocketClassifier()\n",
    "try:\n",
    "    rc.fit(plaid_X, plaid_y)\n",
    "except ValueError as e:\n",
    "    print(f\"ValueError: {e}\")"
   ]
  },
  {
   "cell_type": "code",
   "execution_count": null,
   "outputs": [],
   "source": [
    "series_lengths = [array.shape[1] for array in plaid_X]\n",
    "\n",
    "# Find the minimum and maximum of the second dimensions\n",
    "min_length = min(series_lengths)\n",
    "max_length = max(series_lengths)\n",
    "print(\" Min length = \", min_length, \" max length = \", max_length)"
   ],
   "metadata": {
    "collapsed": false,
    "pycharm": {
     "is_executing": true
    }
   }
  },
  {
   "cell_type": "markdown",
   "metadata": {},
   "source": [
    "# Padding, truncating or resizing.\n",
    "\n",
    "We can pad, truncate or resize. By default, pad adds zeros to make all series the\n",
    "length of the longest, truncate removes all values beyond the length of the shortest\n",
    "and resize stretches or shrinks the series."
   ]
  },
  {
   "cell_type": "code",
   "execution_count": null,
   "metadata": {
    "execution": {
     "iopub.execute_input": "2020-12-19T14:32:01.245270Z",
     "iopub.status.busy": "2020-12-19T14:32:01.244733Z",
     "iopub.status.idle": "2020-12-19T14:32:02.911970Z",
     "shell.execute_reply": "2020-12-19T14:32:02.912833Z"
    },
    "pycharm": {
     "is_executing": true
    }
   },
   "outputs": [],
   "source": [
    "from aeon.transformations.collection import Padder, Resizer, Truncator\n",
    "\n",
    "pad = Padder()\n",
    "truncate = Truncator()\n",
    "resize = Resizer(length=600)\n",
    "X2 = pad.fit_transform(plaid_X)\n",
    "X3 = truncate.fit_transform(plaid_X)\n",
    "X4 = resize.fit_transform(plaid_X)\n",
    "print(X2.shape, \"\\n\", X3.shape, \"\\n\", X4.shape)"
   ]
  },
  {
   "cell_type": "markdown",
   "source": [
    "You can put these transformers in a pipeline to apply to both train/test split\n"
   ],
   "metadata": {
    "collapsed": false
   }
  },
  {
   "cell_type": "code",
   "execution_count": null,
   "outputs": [],
   "source": [
    "from sklearn.metrics import accuracy_score\n",
    "\n",
    "# Unequal length univariate data\n",
    "from aeon.pipeline import make_pipeline\n",
    "\n",
    "train_X, train_y = load_plaid(split=\"Train\")\n",
    "test_X, test_y = load_plaid(split=\"Test\")\n",
    "steps = [truncate, rc]\n",
    "pipe = make_pipeline(steps)\n",
    "pipe.fit(train_X, train_y)\n",
    "preds = pipe.predict(test_X)\n",
    "accuracy_score(train_y, preds)"
   ],
   "metadata": {
    "collapsed": false,
    "pycharm": {
     "is_executing": true
    }
   }
  }
 ],
 "metadata": {
  "kernelspec": {
   "display_name": "Python 3",
   "language": "python",
   "name": "python3"
  },
  "language_info": {
   "codemirror_mode": {
    "name": "ipython",
    "version": 3
   },
   "file_extension": ".py",
   "mimetype": "text/x-python",
   "name": "python",
   "nbconvert_exporter": "python",
   "pygments_lexer": "ipython3",
   "version": "3.7.8"
  }
 },
 "nbformat": 4,
 "nbformat_minor": 4
}
