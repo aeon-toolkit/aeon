{
 "cells": [
  {
   "cell_type": "markdown",
   "metadata": {},
   "source": [
    "# Piecewise Linear Approximation (PLA) Transform"
   ]
  },
  {
   "cell_type": "markdown",
   "metadata": {},
   "source": [
    "Piecewise Linear Approximation (PLA) transform \\[1\\] is a transformer that approxiates a time series using a series of connected linear segments. PLA continuously applies linear regression to fit lines to subsequences of a time series. This approach is widely used to support clustering, classification and indexing. PLA has transformed over the years and has many different algorithms implemented within."
   ]
  },
  {
   "cell_type": "markdown",
   "metadata": {},
   "source": [
    "## 1. PLA Transform"
   ]
  },
  {
   "cell_type": "markdown",
   "metadata": {},
   "source": [
    "### 1.1 Import & Load Data"
   ]
  },
  {
   "cell_type": "markdown",
   "metadata": {},
   "source": [
    "For this example we will be working with eletric devices segmentation and cut down the data for easier understanding of the plot."
   ]
  },
  {
   "cell_type": "code",
   "execution_count": 9,
   "metadata": {},
   "outputs": [
    {
     "name": "stdout",
     "output_type": "stream",
     "text": [
      "Data Shape: (50,)\n"
     ]
    }
   ],
   "source": [
    "from aeon.datasets import load_electric_devices_segmentation\n",
    "\n",
    "ts, _, _ = load_electric_devices_segmentation()\n",
    "ts = ts.values\n",
    "ts = ts[:50]\n",
    "print(f\"Data Shape: {ts.shape}\")"
   ]
  },
  {
   "cell_type": "markdown",
   "metadata": {},
   "source": [
    "### 1.2 Transform & Plot Data"
   ]
  },
  {
   "cell_type": "markdown",
   "metadata": {},
   "source": [
    "PLA offers four different transformation algorithms to use: sliding window, top down, bottom up and SWAB. Refer to the pla [documentation](../../docs/api_reference/transformations.rst) to understand the difference of each algorithm.Results of each algorithm will be shown below, these results can be affected by changing the 'max_error' parameter.\n"
   ]
  },
  {
   "cell_type": "code",
   "execution_count": 7,
   "metadata": {},
   "outputs": [],
   "source": [
    "\"\"\"\n",
    "import matplotlib.pyplot as plt\n",
    "\n",
    "from aeon.transformations.series._pla import PLASeriesTransformer\n",
    "\n",
    "# Create the transformers\n",
    "pla_sw = PLASeriesTransformer(max_error=0.02, transformer=\"sliding window\")\n",
    "pla_td = PLASeriesTransformer(max_error=0.02, transformer=\"top down\")\n",
    "pla_bu = PLASeriesTransformer(max_error=0.02, transformer=\"bottom up\")\n",
    "pla_swab = PLASeriesTransformer(max_error=0.02, transformer=\"swab\")\n",
    "\n",
    "# Get the results of the transformers\n",
    "result_sw = pla_sw.fit_transform(ts)\n",
    "result_td = pla_td.fit_transform(ts)\n",
    "result_bu = pla_bu.fit_transform(ts)\n",
    "result_swab = pla_swab.fit_transform(ts)\n",
    "\n",
    "# Loop through results\n",
    "results = [results_sw, results_td, results_bu, results_swab]\n",
    "results_text = [\"sw\", \"td\", \"bu\", \"swab\"]\n",
    "\n",
    "# Create plot\n",
    "plt.subplot(2, 1, 1)  # (rows, columns, subplot_number)\n",
    "plt.plot(np.arange(len(ts)), ts)\n",
    "plt.title(\"Original\")\n",
    "plt.xlabel(\"x\")\n",
    "plt.ylabel(\"y1\")\n",
    "\n",
    "for i in range(len(results)):\n",
    "    plt.subplot(2, 1, 2 + i)\n",
    "    plt.plot(np.arange(len(results[i])), results[i])\n",
    "    plt.title(results_text[i])\n",
    "    plt.xlabel(\"x\")\n",
    "    plt.ylabel(\"y2\")\n",
    "\n",
    "plt.tight_layout()\n",
    "\"\"\""
   ]
  },
  {
   "cell_type": "markdown",
   "metadata": {},
   "source": [
    "## 2. References"
   ]
  },
  {
   "cell_type": "markdown",
   "metadata": {},
   "source": [
    "\\[1\\] Keogh, E., Chu, S., Hart, D. and Pazzani, M., 2001, November. An online algorithm for segmenting time series. In Proceedings 2001 IEEE international conference on data mining (pp. 289-296). IEEE."
   ]
  }
 ],
 "metadata": {
  "kernelspec": {
   "display_name": ".venv",
   "language": "python",
   "name": "python3"
  },
  "language_info": {
   "codemirror_mode": {
    "name": "ipython",
    "version": 3
   },
   "file_extension": ".py",
   "mimetype": "text/x-python",
   "name": "python",
   "nbconvert_exporter": "python",
   "pygments_lexer": "ipython3",
   "version": "3.11.9"
  }
 },
 "nbformat": 4,
 "nbformat_minor": 2
}
