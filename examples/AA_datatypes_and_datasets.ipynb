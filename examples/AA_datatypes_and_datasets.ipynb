{
 "cells": [
  {
   "cell_type": "markdown",
   "metadata": {},
   "source": [
    "**Abstract:** this notebook give an introduction to `aeon` in-memory data containers and data sets, with associated functionality such as in-memory format validation, conversion, and data set loading.\n",
    "\n",
    "**Set-up instructions:** on binder, this notebook should run out-of-the-box.\n",
    "\n",
    "To run this notebook as intended, ensure that `aeon` with basic dependency requirements is installed in your python environment.\n",
    "\n",
    "To run this notebook with a local development version of aeon, either uncomment and run the below, or `pip install -e` a local clone of the `aeon` `main` branch."
   ]
  },
  {
   "cell_type": "code",
   "execution_count": 1,
   "metadata": {},
   "outputs": [],
   "source": [
    "# from os import sys\n",
    "# sys.path.append(\"..\")"
   ]
  },
  {
   "cell_type": "markdown",
   "metadata": {},
   "source": [
    "# In-memory data representations and data loading\n",
    "\n",
    "`aeon` provides modules for a number of time series related learning tasks.\n",
    "\n",
    "These modules use `aeon` specific in-memory (i.e., python workspace) representations for time series and related objects, most importantly individual time series and time series panels. `aeon`'s in-memory representations rely on `pandas` and `numpy`, with additional conventions on the `pandas` and `numpy` object.\n",
    "\n",
    "Users of `aeon` should be aware of these representations, since presenting the data in an `aeon` compatible representation is usually the first step in using any of the `aeon` modules.\n",
    "\n",
    "This notebook introduces the data types used in `aeon`, related functionality such as converters and validity checkers, and common workflows for loading and conversion:\n",
    "\n",
    "**Section 1** introduces in-memory data containers used in `aeon`, with examples.\n",
    "\n",
    "**Section 2** introduces validity checkers and conversion functionality for in-memory data containers.\n",
    "\n",
    "**Section 3** introduces common workflows to load data from file formats"
   ]
  },
  {
   "cell_type": "markdown",
   "metadata": {},
   "source": [
    "## Section 1: in-memory data containers\n",
    "\n",
    "This section provides a reference to data containers used for time series and related objets in `aeon`.\n",
    "\n",
    "Conceptually, `aeon` distinguishes:\n",
    "\n",
    "* the *data scientific abstract data type* - or short: **scitype** - of a data container, defined by relational and statistical properties of the data being represented and common operations on it - for instance, an abstract \"time series\" or an abstract \"time series panel\", without specifying a particular machine implementation in python\n",
    "* the *machine implementation type* - or short: **mtype** - of a data container, which, for a defined *scitype*, specifies the python type and conventions on structure and value of the python in-memory object. For instance, a concrete (mathematical) time series is represented by a concrete `pandas.DataFrame` in `aeon`, subject to certain conventions on the `pandas.DataFrame`. Formally, these conventions form a specific mtype, i.e., a way to represent the (abstract) \"time series\" scitype.\n",
    "\n",
    "In `aeon`, the same scitype can be implemented by multiple mtypes. For instance, `aeon` allows the user to specify time series as `pandas.DataFrame`, as `pandas.Series`, or as a `numpy.ndarray`. These are different mtypes which are admissible representations of the same scitype, \"time series\". Also, not all mtypes are equally rich in metadata - for instance, `pandas.DataFrame` can store column names, while this is not possible in `numpy.ndarray`.\n",
    "\n",
    "Scitypes and mtypes are encoded by strings in `aeon`, for easy reference.\n",
    "\n",
    "This section introduces the mtypes for the following scitypes:\n",
    "* `\"Series\"`, the `aeon` scitype for time series of any kind\n",
    "* `\"Panel\"`, the `aeon` scitype for time series panels of any kind\n",
    "* `\"Hierarchical\"`, the `aeon` scitype for hierarchical time series"
   ]
  },
  {
   "cell_type": "markdown",
   "metadata": {},
   "source": [
    "### Section 1.1: Time series - the `\"Series\"` scitype\n",
    "\n",
    "The major representations of time series in `aeon` are:\n",
    "\n",
    "* `\"pd.DataFrame\"` - a uni- or multivariate `pandas.DataFrame`, with rows = time points, cols = variables\n",
    "* `\"pd.Series\"` - a (univariate) `pandas.Series`, with entries corresponding to different time points\n",
    "* `\"np.ndarray\"` - a 2D `numpy.ndarray`, with rows = time points, cols = variables\n",
    "\n",
    "`pandas` objects must have one of the following `pandas` index types:\n",
    "`Int64Index`, `RangeIndex`, `DatetimeIndex`, `PeriodIndex`; if `DatetimeIndex`, the `freq` attribute must be set.\n",
    "\n",
    "`numpy.ndarray` 2D arrays are interpreted as having an `RangeIndex` on the rows, and generally equivalent to the `pandas.DataFrame` obtained after default coercion using the `pandas.DataFrame` constructor.\n"
   ]
  },
  {
   "cell_type": "code",
   "execution_count": 2,
   "metadata": {},
   "outputs": [],
   "source": [
    "# import to retrieve examples\n",
    "from aeon.datatypes import get_examples"
   ]
  },
  {
   "cell_type": "markdown",
   "metadata": {},
   "source": [
    "### Section 1.1.1: Time series - the `\"pd.DataFrame\"` mtype\n",
    "\n",
    "In the `\"pd.DataFrame\"` mtype, time series are represented by an in-memory container `obj: pandas.DataFrame` as follows.\n",
    "\n",
    "* structure convention: `obj.index` must be monotonous, and one of `Int64Index`, `RangeIndex`, `DatetimeIndex`, `PeriodIndex`.\n",
    "* variables: columns of `obj` correspond to different variables\n",
    "* variable names: column names `obj.columns`\n",
    "* time points: rows of `obj` correspond to different, distinct time points\n",
    "* time index: `obj.index` is interpreted as a time index.\n",
    "* capabilities: can represent multivariate series; can represent unequally spaced series"
   ]
  },
  {
   "cell_type": "markdown",
   "metadata": {},
   "source": [
    "Example of a univariate series in `\"pd.DataFrame\"` representation.\n",
    "The single variable has name `\"a\"`, and is observed at four time points 0, 1, 2, 3."
   ]
  },
  {
   "cell_type": "code",
   "execution_count": 3,
   "metadata": {},
   "outputs": [
    {
     "data": {
      "text/plain": "     a\n0  1.0\n1  4.0\n2  0.5\n3 -3.0",
      "text/html": "<div>\n<style scoped>\n    .dataframe tbody tr th:only-of-type {\n        vertical-align: middle;\n    }\n\n    .dataframe tbody tr th {\n        vertical-align: top;\n    }\n\n    .dataframe thead th {\n        text-align: right;\n    }\n</style>\n<table border=\"1\" class=\"dataframe\">\n  <thead>\n    <tr style=\"text-align: right;\">\n      <th></th>\n      <th>a</th>\n    </tr>\n  </thead>\n  <tbody>\n    <tr>\n      <th>0</th>\n      <td>1.0</td>\n    </tr>\n    <tr>\n      <th>1</th>\n      <td>4.0</td>\n    </tr>\n    <tr>\n      <th>2</th>\n      <td>0.5</td>\n    </tr>\n    <tr>\n      <th>3</th>\n      <td>-3.0</td>\n    </tr>\n  </tbody>\n</table>\n</div>"
     },
     "execution_count": 3,
     "metadata": {},
     "output_type": "execute_result"
    }
   ],
   "source": [
    "get_examples(mtype=\"pd.DataFrame\", as_scitype=\"Series\")[0]"
   ]
  },
  {
   "cell_type": "markdown",
   "metadata": {},
   "source": [
    "Example of a bivariate series in `\"pd.DataFrame\"` representation.\n",
    "This series has two variables, named `\"a\"` and `\"b\"`. Both are observed at the same four time points 0, 1, 2, 3."
   ]
  },
  {
   "cell_type": "code",
   "execution_count": 4,
   "metadata": {},
   "outputs": [
    {
     "data": {
      "text/plain": "     a         b\n0  1.0  3.000000\n1  4.0  7.000000\n2  0.5  2.000000\n3 -3.0 -0.428571",
      "text/html": "<div>\n<style scoped>\n    .dataframe tbody tr th:only-of-type {\n        vertical-align: middle;\n    }\n\n    .dataframe tbody tr th {\n        vertical-align: top;\n    }\n\n    .dataframe thead th {\n        text-align: right;\n    }\n</style>\n<table border=\"1\" class=\"dataframe\">\n  <thead>\n    <tr style=\"text-align: right;\">\n      <th></th>\n      <th>a</th>\n      <th>b</th>\n    </tr>\n  </thead>\n  <tbody>\n    <tr>\n      <th>0</th>\n      <td>1.0</td>\n      <td>3.000000</td>\n    </tr>\n    <tr>\n      <th>1</th>\n      <td>4.0</td>\n      <td>7.000000</td>\n    </tr>\n    <tr>\n      <th>2</th>\n      <td>0.5</td>\n      <td>2.000000</td>\n    </tr>\n    <tr>\n      <th>3</th>\n      <td>-3.0</td>\n      <td>-0.428571</td>\n    </tr>\n  </tbody>\n</table>\n</div>"
     },
     "execution_count": 4,
     "metadata": {},
     "output_type": "execute_result"
    }
   ],
   "source": [
    "get_examples(mtype=\"pd.DataFrame\", as_scitype=\"Series\")[1]"
   ]
  },
  {
   "cell_type": "markdown",
   "metadata": {},
   "source": [
    "### Section 1.1.2: Time series - the `\"pd.Series\"` mtype\n",
    "\n",
    "In the `\"pd.Series\"` mtype, time series are represented by an in-memory container `obj: pandas.Series` as follows.\n",
    "\n",
    "* structure convention: `obj.index` must be monotonous, and one of `Int64Index`, `RangeIndex`, `DatetimeIndex`, `PeriodIndex`.\n",
    "* variables: there is a single variable, corresponding to the values of `obj`. Only univariate series can be represented.\n",
    "* variable names: by default, there is no column name. If needed, a variable name can be provided as `obj.name`.\n",
    "* time points: entries of `obj` correspond to different, distinct time points\n",
    "* time index: `obj.index` is interpreted as a time index.\n",
    "* capabilities: cannot represent multivariate series; can represent unequally spaced series"
   ]
  },
  {
   "cell_type": "markdown",
   "metadata": {},
   "source": [
    "Example of a univariate series in `\"pd.Series\"` mtype representation.\n",
    "The single variable has name `\"a\"`, and is observed at four time points 0, 1, 2, 3."
   ]
  },
  {
   "cell_type": "code",
   "execution_count": 5,
   "metadata": {},
   "outputs": [
    {
     "data": {
      "text/plain": "0    1.0\n1    4.0\n2    0.5\n3   -3.0\nName: a, dtype: float64"
     },
     "execution_count": 5,
     "metadata": {},
     "output_type": "execute_result"
    }
   ],
   "source": [
    "get_examples(mtype=\"pd.Series\", as_scitype=\"Series\")[0]"
   ]
  },
  {
   "cell_type": "markdown",
   "metadata": {},
   "source": [
    "### Section 1.1.3: Time series - the `\"np.ndarray\"` mtype\n",
    "\n",
    "In the `\"np.ndarray\"` mtype, time series are represented by an in-memory container `obj: np.ndarray` as follows.\n",
    "\n",
    "* structure convention: `obj` must be 2D, i.e., `obj.shape` must have length 2. This is also true for univariate time series.\n",
    "* variables: variables correspond to columns of `obj`.\n",
    "* variable names: the `\"np.ndarray\"` mtype cannot represent variable names.\n",
    "* time points: the rows of `obj` correspond to different, distinct time points.\n",
    "* time index: The time index is implicit and by-convention. The `i`-th row (for an integer `i`) is interpreted as an observation at the time point `i`.\n",
    "* capabilities: cannot represent multivariate series; cannot represent unequally spaced series"
   ]
  },
  {
   "cell_type": "markdown",
   "metadata": {},
   "source": [
    "Example of a univariate series in `\"np.ndarray\"` mtype representation.\n",
    "There is a single (unnamed) variable, it is observed at four time points 0, 1, 2, 3."
   ]
  },
  {
   "cell_type": "code",
   "execution_count": 6,
   "metadata": {},
   "outputs": [
    {
     "data": {
      "text/plain": "array([[ 1. ],\n       [ 4. ],\n       [ 0.5],\n       [-3. ]])"
     },
     "execution_count": 6,
     "metadata": {},
     "output_type": "execute_result"
    }
   ],
   "source": [
    "get_examples(mtype=\"np.ndarray\", as_scitype=\"Series\")[0]"
   ]
  },
  {
   "cell_type": "markdown",
   "metadata": {},
   "source": [
    "Example of a bivariate series in `\"np.ndarray\"` mtype representation.\n",
    "There are two (unnamed) variables, they are both observed at four time points 0, 1, 2, 3."
   ]
  },
  {
   "cell_type": "code",
   "execution_count": 7,
   "metadata": {},
   "outputs": [
    {
     "data": {
      "text/plain": "array([[ 1.        ,  3.        ],\n       [ 4.        ,  7.        ],\n       [ 0.5       ,  2.        ],\n       [-3.        , -0.42857143]])"
     },
     "execution_count": 7,
     "metadata": {},
     "output_type": "execute_result"
    }
   ],
   "source": [
    "get_examples(mtype=\"np.ndarray\", as_scitype=\"Series\")[1]"
   ]
  },
  {
   "cell_type": "markdown",
   "metadata": {},
   "source": [
    "### Section 1.2: Time series panels - the `\"Panel\"` scitype\n",
    "\n",
    "The major representations of time series panels in `aeon` are:\n",
    "\n",
    "* `\"pd-multiindex\"` - a `pandas.DataFrame`, with row multi-index (instances, time), cols = variables\n",
    "* `\"numpy3D\"` - a 3D `np.ndarray`, with axis 0 = instances, axis 1 = variables, axis 2 = time points\n",
    "* `\"df-list\"` - a `list` of `pandas.DataFrame`, with list index = instances, data frame rows = time points, data frame cols = variables\n",
    "\n",
    "These representations are considered primary representations in `aeon` and are core to internal computations.\n",
    "\n",
    "There are further, minor representations of time series panels in `aeon`:\n",
    "\n",
    "* `\"nested_univ\"` - a `pandas.DataFrame`, with `pandas.Series` in cells. data frame rows = instances, data frame cols = variables, and series axis = time points\n",
    "* `\"numpyflat\"` - a 2D `np.ndarray` with rows = instances, and columns indexed by a pair index of (variables, time points). This format is only being converted to and cannot be converted from (since number of variables and time points may be ambiguous).\n",
    "* `\"pd-wide\"` - a `pandas.DataFrame` in wide format: has column multi-index (variables, time points), rows = instances; the \"variables\" index can be omitted for univariate time series\n",
    "* `\"pd-long\"` - a `pandas.DataFrame` in long format: has cols `instances`, `timepoints`, `variable`, `value`; entries in `value` are indexed by tuples of values in (`instances`, `timepoints`, `variable`).\n",
    "\n",
    "The minor representations are currently not fully consolidated in-code and are not discussed further below. Contributions are appreciated."
   ]
  },
  {
   "cell_type": "markdown",
   "metadata": {},
   "source": [
    "### Section 1.2.1: Time series panels - the `\"pd-multiindex\"` mtype\n",
    "\n",
    "In the `\"pd-multiindex\"` mtype, time series panels are represented by an in-memory container `obj: pandas.DataFrame` as follows.\n",
    "\n",
    "* structure convention: `obj.index` must be a pair multi-index of type `(Index, t)`, where `t` is one of `Int64Index`, `RangeIndex`, `DatetimeIndex`, `PeriodIndex` and monotonous. `obj.index` must have two levels (can be named or not).\n",
    "* instance index: the first element of pairs in `obj.index` (0-th level value) is interpreted as an instance index, we call it \"instance index\" below.\n",
    "* instances: rows with the same \"instance index\" index value correspond to the same instance; rows with different \"instance index\" values correspond to different instances.\n",
    "* time index: the second element of pairs in `obj.index` (1-st level value) is interpreted as a time index, we call it \"time index\" below.\n",
    "* time points: rows of `obj` with the same \"time index\" value correspond correspond to the same time point; rows of `obj` with different \"time index\" index correspond correspond to the different time points.\n",
    "* variables: columns of `obj` correspond to different variables\n",
    "* variable names: column names `obj.columns`\n",
    "* capabilities: can represent panels of multivariate series; can represent unequally spaced series; can represent panels of unequally supported series; cannot represent panels of series with different sets of variables."
   ]
  },
  {
   "cell_type": "markdown",
   "metadata": {},
   "source": [
    "Example of a panel of multivariate series in `\"pd-multiindex\"` mtype representation.\n",
    "The panel contains three multivariate series, with instance indices 0, 1, 2. All series have two variables with names `\"var_0\"`, `\"var_1\"`. All series are observed at three time points 0, 1, 2."
   ]
  },
  {
   "cell_type": "code",
   "execution_count": 8,
   "metadata": {},
   "outputs": [
    {
     "data": {
      "text/plain": "                      var_0  var_1\ninstances timepoints              \n0         0               1      4\n          1               2      5\n          2               3      6\n1         0               1      4\n          1               2     55\n          2               3      6\n2         0               1     42\n          1               2      5\n          2               3      6",
      "text/html": "<div>\n<style scoped>\n    .dataframe tbody tr th:only-of-type {\n        vertical-align: middle;\n    }\n\n    .dataframe tbody tr th {\n        vertical-align: top;\n    }\n\n    .dataframe thead th {\n        text-align: right;\n    }\n</style>\n<table border=\"1\" class=\"dataframe\">\n  <thead>\n    <tr style=\"text-align: right;\">\n      <th></th>\n      <th></th>\n      <th>var_0</th>\n      <th>var_1</th>\n    </tr>\n    <tr>\n      <th>instances</th>\n      <th>timepoints</th>\n      <th></th>\n      <th></th>\n    </tr>\n  </thead>\n  <tbody>\n    <tr>\n      <th rowspan=\"3\" valign=\"top\">0</th>\n      <th>0</th>\n      <td>1</td>\n      <td>4</td>\n    </tr>\n    <tr>\n      <th>1</th>\n      <td>2</td>\n      <td>5</td>\n    </tr>\n    <tr>\n      <th>2</th>\n      <td>3</td>\n      <td>6</td>\n    </tr>\n    <tr>\n      <th rowspan=\"3\" valign=\"top\">1</th>\n      <th>0</th>\n      <td>1</td>\n      <td>4</td>\n    </tr>\n    <tr>\n      <th>1</th>\n      <td>2</td>\n      <td>55</td>\n    </tr>\n    <tr>\n      <th>2</th>\n      <td>3</td>\n      <td>6</td>\n    </tr>\n    <tr>\n      <th rowspan=\"3\" valign=\"top\">2</th>\n      <th>0</th>\n      <td>1</td>\n      <td>42</td>\n    </tr>\n    <tr>\n      <th>1</th>\n      <td>2</td>\n      <td>5</td>\n    </tr>\n    <tr>\n      <th>2</th>\n      <td>3</td>\n      <td>6</td>\n    </tr>\n  </tbody>\n</table>\n</div>"
     },
     "execution_count": 8,
     "metadata": {},
     "output_type": "execute_result"
    }
   ],
   "source": [
    "get_examples(mtype=\"pd-multiindex\", as_scitype=\"Panel\")[0]"
   ]
  },
  {
   "cell_type": "markdown",
   "metadata": {},
   "source": [
    "### Section 1.2.2: Time series panels - the `\"numpy3D\"` mtype\n",
    "\n",
    "In the `\"numpy3D\"` mtype, time series panels are represented by an in-memory container `obj: np.ndarray` as follows.\n",
    "\n",
    "* structure convention: `obj` must be 3D, i.e., `obj.shape` must have length 3.\n",
    "* instances: instances correspond to axis 0 elements of `obj`.\n",
    "* instance index: the instance index is implicit and by-convention. The `i`-th element of axis 0 (for an integer `i`) is interpreted as indicative of observing instance `i`.\n",
    "* variables: variables correspond to axis 1 elements of `obj`.\n",
    "* variable names: the `\"numpy3D\"` mtype cannot represent variable names.\n",
    "* time points: time points correspond to axis 2 elements of `obj`.\n",
    "* time index: the time index is implicit and by-convention. The `i`-th elemtn of axis 2 (for an integer `i`) is interpreted as an observation at the time point `i`.\n",
    "* capabilities: can represent panels of multivariate series; cannot represent unequally spaced series; cannot represent panels of unequally supported series; cannot represent panels of series with different sets of variables."
   ]
  },
  {
   "cell_type": "markdown",
   "metadata": {},
   "source": [
    "Example of a panel of multivariate series in `\"numpy3D\"` mtype representation.\n",
    "The panel contains three multivariate series, with instance indices 0, 1, 2. All series have two variables (unnamed). All series are observed at three time points 0, 1, 2."
   ]
  },
  {
   "cell_type": "code",
   "execution_count": 9,
   "metadata": {},
   "outputs": [
    {
     "data": {
      "text/plain": "array([[[ 1,  2,  3],\n        [ 4,  5,  6]],\n\n       [[ 1,  2,  3],\n        [ 4, 55,  6]],\n\n       [[ 1,  2,  3],\n        [42,  5,  6]]], dtype=int64)"
     },
     "execution_count": 9,
     "metadata": {},
     "output_type": "execute_result"
    }
   ],
   "source": [
    "get_examples(mtype=\"numpy3D\", as_scitype=\"Panel\")[0]"
   ]
  },
  {
   "cell_type": "markdown",
   "metadata": {},
   "source": [
    "### Section 1.2.3: Time series panels - the `\"df-list\"` mtype\n",
    "\n",
    "In the `\"df-list\"` mtype, time series panels are represented by an in-memory container `obj: List[pandas.DataFrame]` as follows.\n",
    "\n",
    "* structure convention: `obj` must be a list of `pandas.DataFrames`. Individual list elements of `obj` must follow the `\"pd.DataFrame\"` mtype convention for the `\"Series\"` scitype.\n",
    "* instances: instances correspond to different list elements of `obj`.\n",
    "* instance index: the instance index of an instance is the list index at which it is located in `obj`. That is, the data at `obj[i]` correspond to observations of the instance with index `i`.\n",
    "* time points: rows of `obj[i]` correspond to different, distinct time points, at which instance `i` is observed.\n",
    "* time index: `obj[i].index` is interpreted as the time index for instance `i`.\n",
    "* variables: columns of `obj[i]` correspond to different variables available for instance `i`.\n",
    "* variable names: column names `obj[i].columns` are the names of variables available for instance `i`.\n",
    "* capabilities: can represent panels of multivariate series; can represent unequally spaced series; can represent panels of unequally supported series; can represent panels of series with different sets of variables."
   ]
  },
  {
   "cell_type": "markdown",
   "metadata": {},
   "source": [
    "Example of a panel of multivariate series in `\"df-list\"` mtype representation.\n",
    "The panel contains three multivariate series, with instance indices 0, 1, 2. All series have two variables with names `\"var_0\"`, `\"var_1\"`. All series are observed at three time points 0, 1, 2."
   ]
  },
  {
   "cell_type": "code",
   "execution_count": 10,
   "metadata": {},
   "outputs": [
    {
     "data": {
      "text/plain": "[   var_0  var_1\n 0      1      4\n 1      2      5\n 2      3      6,\n    var_0  var_1\n 0      1      4\n 1      2     55\n 2      3      6,\n    var_0  var_1\n 0      1     42\n 1      2      5\n 2      3      6]"
     },
     "execution_count": 10,
     "metadata": {},
     "output_type": "execute_result"
    }
   ],
   "source": [
    "get_examples(mtype=\"df-list\", as_scitype=\"Panel\")[0]"
   ]
  },
  {
   "cell_type": "markdown",
   "metadata": {},
   "source": [
    "### Section 1.3: Hierarchical time series - the `\"Hierarchical\"` scitype\n",
    "\n",
    "There is currently only one representation for hierarchical time series in `aeon`:\n",
    "\n",
    "* `\"pd_multiindex_hier\"` - a `pandas.DataFrame`, with row multi-index, last level interpreted as time, others as hierarchy, cols = variables"
   ]
  },
  {
   "cell_type": "markdown",
   "metadata": {},
   "source": [
    "#### Hierarchical time series - the `\"pd_multiindex_hier\"` mtype\n",
    "\n",
    "* structure convention: `obj.index` must be a 3 or more level multi-index of type `(Index, ..., Index, t)`, where `t` is one of `Int64Index`, `RangeIndex`, `DatetimeIndex`, `PeriodIndex` and monotonous. We call the last index the \"time-like\" index.\n",
    "* hierarchy level: rows with the same non-time-like index values correspond to the same hierarchy unit; rows with different non-time-like index combination correspond to different hierarchy unit.\n",
    "* hierarchy: the non-time-like indices in `obj.index` are interpreted as a hierarchy identifying index.\n",
    "* time index: the last element of tuples in `obj.index` is interpreted as a time index.\n",
    "* time points: rows of `obj` with the same `\"timepoints\"` index correspond correspond to the same time point; rows of `obj` with different `\"timepoints\"` index correspond correspond to the different time points.\n",
    "* variables: columns of `obj` correspond to different variables\n",
    "* variable names: column names `obj.columns`\n",
    "* capabilities: can represent hierarchical series; can represent unequally spaced series; can represent unequally supported hierarchical series; cannot represent hierarchical series with different sets of variables."
   ]
  },
  {
   "cell_type": "code",
   "execution_count": 11,
   "metadata": {},
   "outputs": [
    {
     "data": {
      "text/plain": "                    var_0  var_1\nfoo bar timepoints              \na   0   0               1      4\n        1               2      5\n        2               3      6\n    1   0               1      4\n        1               2     55\n        2               3      6\n    2   0               1     42\n        1               2      5\n        2               3      6\nb   0   0               1      4\n        1               2      5\n        2               3      6\n    1   0               1      4\n        1               2     55\n        2               3      6\n    2   0               1     42\n        1               2      5\n        2               3      6",
      "text/html": "<div>\n<style scoped>\n    .dataframe tbody tr th:only-of-type {\n        vertical-align: middle;\n    }\n\n    .dataframe tbody tr th {\n        vertical-align: top;\n    }\n\n    .dataframe thead th {\n        text-align: right;\n    }\n</style>\n<table border=\"1\" class=\"dataframe\">\n  <thead>\n    <tr style=\"text-align: right;\">\n      <th></th>\n      <th></th>\n      <th></th>\n      <th>var_0</th>\n      <th>var_1</th>\n    </tr>\n    <tr>\n      <th>foo</th>\n      <th>bar</th>\n      <th>timepoints</th>\n      <th></th>\n      <th></th>\n    </tr>\n  </thead>\n  <tbody>\n    <tr>\n      <th rowspan=\"9\" valign=\"top\">a</th>\n      <th rowspan=\"3\" valign=\"top\">0</th>\n      <th>0</th>\n      <td>1</td>\n      <td>4</td>\n    </tr>\n    <tr>\n      <th>1</th>\n      <td>2</td>\n      <td>5</td>\n    </tr>\n    <tr>\n      <th>2</th>\n      <td>3</td>\n      <td>6</td>\n    </tr>\n    <tr>\n      <th rowspan=\"3\" valign=\"top\">1</th>\n      <th>0</th>\n      <td>1</td>\n      <td>4</td>\n    </tr>\n    <tr>\n      <th>1</th>\n      <td>2</td>\n      <td>55</td>\n    </tr>\n    <tr>\n      <th>2</th>\n      <td>3</td>\n      <td>6</td>\n    </tr>\n    <tr>\n      <th rowspan=\"3\" valign=\"top\">2</th>\n      <th>0</th>\n      <td>1</td>\n      <td>42</td>\n    </tr>\n    <tr>\n      <th>1</th>\n      <td>2</td>\n      <td>5</td>\n    </tr>\n    <tr>\n      <th>2</th>\n      <td>3</td>\n      <td>6</td>\n    </tr>\n    <tr>\n      <th rowspan=\"9\" valign=\"top\">b</th>\n      <th rowspan=\"3\" valign=\"top\">0</th>\n      <th>0</th>\n      <td>1</td>\n      <td>4</td>\n    </tr>\n    <tr>\n      <th>1</th>\n      <td>2</td>\n      <td>5</td>\n    </tr>\n    <tr>\n      <th>2</th>\n      <td>3</td>\n      <td>6</td>\n    </tr>\n    <tr>\n      <th rowspan=\"3\" valign=\"top\">1</th>\n      <th>0</th>\n      <td>1</td>\n      <td>4</td>\n    </tr>\n    <tr>\n      <th>1</th>\n      <td>2</td>\n      <td>55</td>\n    </tr>\n    <tr>\n      <th>2</th>\n      <td>3</td>\n      <td>6</td>\n    </tr>\n    <tr>\n      <th rowspan=\"3\" valign=\"top\">2</th>\n      <th>0</th>\n      <td>1</td>\n      <td>42</td>\n    </tr>\n    <tr>\n      <th>1</th>\n      <td>2</td>\n      <td>5</td>\n    </tr>\n    <tr>\n      <th>2</th>\n      <td>3</td>\n      <td>6</td>\n    </tr>\n  </tbody>\n</table>\n</div>"
     },
     "execution_count": 11,
     "metadata": {},
     "output_type": "execute_result"
    }
   ],
   "source": [
    "get_examples(mtype=\"pd_multiindex_hier\", as_scitype=\"Hierarchical\")[0]"
   ]
  },
  {
   "cell_type": "markdown",
   "metadata": {},
   "source": [
    "## Section 2: validity checking and mtype conversion\n",
    "\n",
    "`aeon`'s `datatypes` module provides users with generic functionality for:\n",
    "\n",
    "* checking in-memory containers against mtype conventions, with informative error messages that help moving data to the right format\n",
    "* converting different mtypes to each other, for a given scitype\n",
    "\n",
    "In this section, this functionality and intended usage worfklows are presented."
   ]
  },
  {
   "cell_type": "markdown",
   "metadata": {},
   "source": [
    "### Section 2.1: Preparing data, checking in-memory containers for validity\n",
    "\n",
    "`aeon`'s `datatypes` module provides convenient functionality for users to check validity of their in-memory data containers, using the `check_is_mtype` and `check_raise` functions. Both functions provide generic validity checking functionality, `check_is_mtype` returns metadata and potential issues as return arguments, while `check_raise` directly produces informative error messages in case a container does not comply with a given `mtype`.\n",
    "\n",
    "A recommended notebook workflow to ensure that a given data container is compliant with `aeon` `mtype` specification is as follows:\n",
    "\n",
    "1. load the data in an in-memory data container\n",
    "2. identify the `scitype`, e.g., is this supposed to be a time series (`Series`) or a panel of time series (`Panel`)\n",
    "3. select the target `mtype` (see Section 1 for a list), and attempt to manually reformat the data to comply with the `mtype` specification if it is not already compliant\n",
    "4. run `check_raise` on the data container, to check whether it complies with the `mtype` and `scitype`\n",
    "5. if an error is raised, repeat 3 and 4 until no error is raised"
   ]
  },
  {
   "cell_type": "markdown",
   "metadata": {},
   "source": [
    "### Section 2.1.1: validity checking, example 1 (simple mistake)\n",
    "\n",
    "Suppose we have the following `numpy.ndarray` representing a univariate time series:"
   ]
  },
  {
   "cell_type": "code",
   "execution_count": 12,
   "metadata": {},
   "outputs": [],
   "source": [
    "import numpy as np\n",
    "\n",
    "y = np.array([1, 6, 3, 7, 2])"
   ]
  },
  {
   "cell_type": "markdown",
   "metadata": {},
   "source": [
    "to check compatibility with aeon:\n",
    "\n",
    "(instruction: uncomment and run the code to see the informative error message)"
   ]
  },
  {
   "cell_type": "code",
   "execution_count": 13,
   "metadata": {},
   "outputs": [],
   "source": [
    "from aeon.datatypes import check_raise\n",
    "\n",
    "# check_raise(y, mtype=\"np.ndarray\")"
   ]
  },
  {
   "cell_type": "markdown",
   "metadata": {},
   "source": [
    "this tells us that `aeon` uses 2D numpy arrays for time series, if the `np.ndarray` mtype is used. While most methods provide convenience functionality to do this coercion automatically, the \"correct\" format would be 2D as follows:"
   ]
  },
  {
   "cell_type": "code",
   "execution_count": 14,
   "metadata": {},
   "outputs": [
    {
     "data": {
      "text/plain": "True"
     },
     "execution_count": 14,
     "metadata": {},
     "output_type": "execute_result"
    }
   ],
   "source": [
    "check_raise(y.reshape(-1, 1), mtype=\"np.ndarray\")"
   ]
  },
  {
   "cell_type": "markdown",
   "metadata": {},
   "source": [
    "For use in own code or additional metadata, the error message can be obtained using the `check_is_mtype` function:"
   ]
  },
  {
   "cell_type": "code",
   "execution_count": 15,
   "metadata": {},
   "outputs": [
    {
     "data": {
      "text/plain": "(True,\n None,\n {'is_empty': False,\n  'is_univariate': True,\n  'is_equally_spaced': True,\n  'has_nans': False,\n  'mtype': 'np.ndarray',\n  'scitype': 'Series'})"
     },
     "execution_count": 15,
     "metadata": {},
     "output_type": "execute_result"
    }
   ],
   "source": [
    "from aeon.datatypes import check_is_mtype\n",
    "\n",
    "check_is_mtype(y, mtype=\"np.ndarray\", return_metadata=True)"
   ]
  },
  {
   "cell_type": "markdown",
   "metadata": {},
   "source": [
    "and metadata is produced if the argument passes the validity check:"
   ]
  },
  {
   "cell_type": "code",
   "execution_count": 16,
   "metadata": {},
   "outputs": [
    {
     "data": {
      "text/plain": "(True,\n None,\n {'is_empty': False,\n  'is_univariate': True,\n  'is_equally_spaced': True,\n  'has_nans': False,\n  'mtype': 'np.ndarray',\n  'scitype': 'Series'})"
     },
     "execution_count": 16,
     "metadata": {},
     "output_type": "execute_result"
    }
   ],
   "source": [
    "check_is_mtype(y.reshape(-1, 1), mtype=\"np.ndarray\", return_metadata=True)"
   ]
  },
  {
   "cell_type": "markdown",
   "metadata": {},
   "source": [
    "Note: if the name of the mtype is ambiguous and can refer to multiple scitypes, the additional argument `scitype` must be provided. This should not be the case for any common in-memory containers, we mention this for completeness."
   ]
  },
  {
   "cell_type": "code",
   "execution_count": 17,
   "metadata": {},
   "outputs": [
    {
     "data": {
      "text/plain": "True"
     },
     "execution_count": 17,
     "metadata": {},
     "output_type": "execute_result"
    }
   ],
   "source": [
    "check_is_mtype(y, mtype=\"np.ndarray\", scitype=\"Series\")"
   ]
  },
  {
   "cell_type": "markdown",
   "metadata": {},
   "source": [
    "### Section 2.1.2: validity checking, example 2 (non-obvious mistake)\n",
    "\n",
    "Suppose we have converted our data into a multi-index panel, i.e., we want to have a `Panel` of mtype `pd-multiindex`."
   ]
  },
  {
   "cell_type": "code",
   "execution_count": 18,
   "metadata": {},
   "outputs": [],
   "source": [
    "import pandas as pd\n",
    "\n",
    "cols = [\"instances\", \"time points\"] + [f\"var_{i}\" for i in range(2)]\n",
    "X = pd.concat(\n",
    "    [\n",
    "        pd.DataFrame([[0, 0, 1, 4], [0, 1, 2, 5], [0, 2, 3, 6]], columns=cols),\n",
    "        pd.DataFrame([[1, 0, 1, 4], [1, 1, 2, 55], [1, 2, 3, 6]], columns=cols),\n",
    "        pd.DataFrame([[2, 0, 1, 42], [2, 1, 2, 5], [2, 2, 3, 6]], columns=cols),\n",
    "    ]\n",
    ").set_index([\"instances\", \"time points\"])"
   ]
  },
  {
   "cell_type": "markdown",
   "metadata": {},
   "source": [
    "It is not obvious whether `X` satisfies the `pd-multiindex` specification, so let's check:\n",
    "\n",
    "(instruction: uncomment and run the code to see the informative error message)"
   ]
  },
  {
   "cell_type": "code",
   "execution_count": 19,
   "metadata": {},
   "outputs": [],
   "source": [
    "from aeon.datatypes import check_raise\n",
    "\n",
    "# check_raise(X, mtype=\"pd-multiindex\")"
   ]
  },
  {
   "cell_type": "markdown",
   "metadata": {},
   "source": [
    "The informative error message highlights a typo in one of the multi-index columns, so we do this:"
   ]
  },
  {
   "cell_type": "code",
   "execution_count": 20,
   "metadata": {},
   "outputs": [],
   "source": [
    "X.index.names = [\"instances\", \"timepoints\"]"
   ]
  },
  {
   "cell_type": "markdown",
   "metadata": {},
   "source": [
    "Now the validity check passes:"
   ]
  },
  {
   "cell_type": "code",
   "execution_count": 21,
   "metadata": {},
   "outputs": [
    {
     "data": {
      "text/plain": "True"
     },
     "execution_count": 21,
     "metadata": {},
     "output_type": "execute_result"
    }
   ],
   "source": [
    "check_raise(X, mtype=\"pd-multiindex\")"
   ]
  },
  {
   "cell_type": "markdown",
   "metadata": {},
   "source": [
    "### Section 2.1.3: inferring the mtype\n",
    "\n",
    "`aeon` also provides functionality to infer the mtype of an in-memory data container, which is useful in case one is sure that the container is compliant but one has forgotten the exact string, or in a case where one would like to know whether an in-memory container is already in some supported, compliant format. For this, only the scitype needs to be specified:"
   ]
  },
  {
   "cell_type": "code",
   "execution_count": 22,
   "metadata": {},
   "outputs": [
    {
     "data": {
      "text/plain": "'pd-multiindex'"
     },
     "execution_count": 22,
     "metadata": {},
     "output_type": "execute_result"
    }
   ],
   "source": [
    "from aeon.datatypes import mtype\n",
    "\n",
    "mtype(X, as_scitype=\"Panel\")"
   ]
  },
  {
   "cell_type": "markdown",
   "metadata": {},
   "source": [
    "### Section 2.2: conversion between mtypes\n",
    "\n",
    "`aeon`'s `datatypes` module also offers uninfied conversion functionality between mtypes. This is useful for users as well as for method developers.\n",
    "\n",
    "The `convert` function requires to specify the mtype to convert from, and the mtype to convert to. The `convert_to` function only requires to specify the mtype to convert to, automatically inferring the mtype of the input if it can be inferred. `convert_to` should be used if the input can have multiple mtypes."
   ]
  },
  {
   "cell_type": "markdown",
   "metadata": {},
   "source": [
    "#### Section 2.2.1: simple conversion\n",
    "\n",
    "Example: converting a `numpy3D` panel of time series to `pd-multiindex` mtype:"
   ]
  },
  {
   "cell_type": "code",
   "execution_count": 23,
   "metadata": {},
   "outputs": [
    {
     "data": {
      "text/plain": "array([[[ 1,  2,  3],\n        [ 4,  5,  6]],\n\n       [[ 1,  2,  3],\n        [ 4, 55,  6]],\n\n       [[ 1,  2,  3],\n        [42,  5,  6]]], dtype=int64)"
     },
     "execution_count": 23,
     "metadata": {},
     "output_type": "execute_result"
    }
   ],
   "source": [
    "from aeon.datatypes import get_examples\n",
    "\n",
    "X = get_examples(mtype=\"numpy3D\", as_scitype=\"Panel\")[0]\n",
    "X"
   ]
  },
  {
   "cell_type": "code",
   "execution_count": 24,
   "metadata": {},
   "outputs": [
    {
     "data": {
      "text/plain": "                      var_0  var_1\ninstances timepoints              \n0         0               1      4\n          1               2      5\n          2               3      6\n1         0               1      4\n          1               2     55\n          2               3      6\n2         0               1     42\n          1               2      5\n          2               3      6",
      "text/html": "<div>\n<style scoped>\n    .dataframe tbody tr th:only-of-type {\n        vertical-align: middle;\n    }\n\n    .dataframe tbody tr th {\n        vertical-align: top;\n    }\n\n    .dataframe thead th {\n        text-align: right;\n    }\n</style>\n<table border=\"1\" class=\"dataframe\">\n  <thead>\n    <tr style=\"text-align: right;\">\n      <th></th>\n      <th></th>\n      <th>var_0</th>\n      <th>var_1</th>\n    </tr>\n    <tr>\n      <th>instances</th>\n      <th>timepoints</th>\n      <th></th>\n      <th></th>\n    </tr>\n  </thead>\n  <tbody>\n    <tr>\n      <th rowspan=\"3\" valign=\"top\">0</th>\n      <th>0</th>\n      <td>1</td>\n      <td>4</td>\n    </tr>\n    <tr>\n      <th>1</th>\n      <td>2</td>\n      <td>5</td>\n    </tr>\n    <tr>\n      <th>2</th>\n      <td>3</td>\n      <td>6</td>\n    </tr>\n    <tr>\n      <th rowspan=\"3\" valign=\"top\">1</th>\n      <th>0</th>\n      <td>1</td>\n      <td>4</td>\n    </tr>\n    <tr>\n      <th>1</th>\n      <td>2</td>\n      <td>55</td>\n    </tr>\n    <tr>\n      <th>2</th>\n      <td>3</td>\n      <td>6</td>\n    </tr>\n    <tr>\n      <th rowspan=\"3\" valign=\"top\">2</th>\n      <th>0</th>\n      <td>1</td>\n      <td>42</td>\n    </tr>\n    <tr>\n      <th>1</th>\n      <td>2</td>\n      <td>5</td>\n    </tr>\n    <tr>\n      <th>2</th>\n      <td>3</td>\n      <td>6</td>\n    </tr>\n  </tbody>\n</table>\n</div>"
     },
     "execution_count": 24,
     "metadata": {},
     "output_type": "execute_result"
    }
   ],
   "source": [
    "from aeon.datatypes import convert\n",
    "\n",
    "convert(X, from_type=\"numpy3D\", to_type=\"pd-multiindex\")"
   ]
  },
  {
   "cell_type": "code",
   "execution_count": 25,
   "metadata": {},
   "outputs": [
    {
     "data": {
      "text/plain": "                      var_0  var_1\ninstances timepoints              \n0         0               1      4\n          1               2      5\n          2               3      6\n1         0               1      4\n          1               2     55\n          2               3      6\n2         0               1     42\n          1               2      5\n          2               3      6",
      "text/html": "<div>\n<style scoped>\n    .dataframe tbody tr th:only-of-type {\n        vertical-align: middle;\n    }\n\n    .dataframe tbody tr th {\n        vertical-align: top;\n    }\n\n    .dataframe thead th {\n        text-align: right;\n    }\n</style>\n<table border=\"1\" class=\"dataframe\">\n  <thead>\n    <tr style=\"text-align: right;\">\n      <th></th>\n      <th></th>\n      <th>var_0</th>\n      <th>var_1</th>\n    </tr>\n    <tr>\n      <th>instances</th>\n      <th>timepoints</th>\n      <th></th>\n      <th></th>\n    </tr>\n  </thead>\n  <tbody>\n    <tr>\n      <th rowspan=\"3\" valign=\"top\">0</th>\n      <th>0</th>\n      <td>1</td>\n      <td>4</td>\n    </tr>\n    <tr>\n      <th>1</th>\n      <td>2</td>\n      <td>5</td>\n    </tr>\n    <tr>\n      <th>2</th>\n      <td>3</td>\n      <td>6</td>\n    </tr>\n    <tr>\n      <th rowspan=\"3\" valign=\"top\">1</th>\n      <th>0</th>\n      <td>1</td>\n      <td>4</td>\n    </tr>\n    <tr>\n      <th>1</th>\n      <td>2</td>\n      <td>55</td>\n    </tr>\n    <tr>\n      <th>2</th>\n      <td>3</td>\n      <td>6</td>\n    </tr>\n    <tr>\n      <th rowspan=\"3\" valign=\"top\">2</th>\n      <th>0</th>\n      <td>1</td>\n      <td>42</td>\n    </tr>\n    <tr>\n      <th>1</th>\n      <td>2</td>\n      <td>5</td>\n    </tr>\n    <tr>\n      <th>2</th>\n      <td>3</td>\n      <td>6</td>\n    </tr>\n  </tbody>\n</table>\n</div>"
     },
     "execution_count": 25,
     "metadata": {},
     "output_type": "execute_result"
    }
   ],
   "source": [
    "from aeon.datatypes import convert_to\n",
    "\n",
    "convert_to(X, to_type=\"pd-multiindex\")"
   ]
  },
  {
   "cell_type": "markdown",
   "metadata": {},
   "source": [
    "#### Section 2.2.2: advanced conversion features\n",
    "\n",
    "`convert_to` also allows to specify multiple output types. The `to_type` argument can be a list of mtypes. In that case, the input passed through unchanged if its mtype is on the list; if the mtype of the input is not on the list, it is converted to the mtype which is the first element of the list.\n",
    "\n",
    "Example: converting a panel of time series of to either `\"pd-multiindex\"` or `\"numpy3D\"`. If the input is `\"numpy3D\"`, it remains unchanged. If the input is `\"df-list\"`, it is converted to `\"pd-multiindex\"`."
   ]
  },
  {
   "cell_type": "code",
   "execution_count": 26,
   "metadata": {},
   "outputs": [
    {
     "data": {
      "text/plain": "array([[[ 1,  2,  3],\n        [ 4,  5,  6]],\n\n       [[ 1,  2,  3],\n        [ 4, 55,  6]],\n\n       [[ 1,  2,  3],\n        [42,  5,  6]]], dtype=int64)"
     },
     "execution_count": 26,
     "metadata": {},
     "output_type": "execute_result"
    }
   ],
   "source": [
    "from aeon.datatypes import get_examples\n",
    "\n",
    "X = get_examples(mtype=\"numpy3D\", as_scitype=\"Panel\")[0]\n",
    "X"
   ]
  },
  {
   "cell_type": "code",
   "execution_count": 27,
   "metadata": {},
   "outputs": [
    {
     "data": {
      "text/plain": "array([[[ 1,  2,  3],\n        [ 4,  5,  6]],\n\n       [[ 1,  2,  3],\n        [ 4, 55,  6]],\n\n       [[ 1,  2,  3],\n        [42,  5,  6]]], dtype=int64)"
     },
     "execution_count": 27,
     "metadata": {},
     "output_type": "execute_result"
    }
   ],
   "source": [
    "from aeon.datatypes import convert_to\n",
    "\n",
    "convert_to(X, to_type=[\"pd-multiindex\", \"numpy3D\"])"
   ]
  },
  {
   "cell_type": "code",
   "execution_count": 28,
   "metadata": {},
   "outputs": [
    {
     "data": {
      "text/plain": "[   var_0  var_1\n 0      1      4\n 1      2      5\n 2      3      6,\n    var_0  var_1\n 0      1      4\n 1      2     55\n 2      3      6,\n    var_0  var_1\n 0      1     42\n 1      2      5\n 2      3      6]"
     },
     "execution_count": 28,
     "metadata": {},
     "output_type": "execute_result"
    }
   ],
   "source": [
    "X = get_examples(mtype=\"df-list\", as_scitype=\"Panel\")[0]\n",
    "X"
   ]
  },
  {
   "cell_type": "code",
   "execution_count": 29,
   "metadata": {},
   "outputs": [
    {
     "data": {
      "text/plain": "                      var_0  var_1\ninstances timepoints              \n0         0               1      4\n          1               2      5\n          2               3      6\n1         0               1      4\n          1               2     55\n          2               3      6\n2         0               1     42\n          1               2      5\n          2               3      6",
      "text/html": "<div>\n<style scoped>\n    .dataframe tbody tr th:only-of-type {\n        vertical-align: middle;\n    }\n\n    .dataframe tbody tr th {\n        vertical-align: top;\n    }\n\n    .dataframe thead th {\n        text-align: right;\n    }\n</style>\n<table border=\"1\" class=\"dataframe\">\n  <thead>\n    <tr style=\"text-align: right;\">\n      <th></th>\n      <th></th>\n      <th>var_0</th>\n      <th>var_1</th>\n    </tr>\n    <tr>\n      <th>instances</th>\n      <th>timepoints</th>\n      <th></th>\n      <th></th>\n    </tr>\n  </thead>\n  <tbody>\n    <tr>\n      <th rowspan=\"3\" valign=\"top\">0</th>\n      <th>0</th>\n      <td>1</td>\n      <td>4</td>\n    </tr>\n    <tr>\n      <th>1</th>\n      <td>2</td>\n      <td>5</td>\n    </tr>\n    <tr>\n      <th>2</th>\n      <td>3</td>\n      <td>6</td>\n    </tr>\n    <tr>\n      <th rowspan=\"3\" valign=\"top\">1</th>\n      <th>0</th>\n      <td>1</td>\n      <td>4</td>\n    </tr>\n    <tr>\n      <th>1</th>\n      <td>2</td>\n      <td>55</td>\n    </tr>\n    <tr>\n      <th>2</th>\n      <td>3</td>\n      <td>6</td>\n    </tr>\n    <tr>\n      <th rowspan=\"3\" valign=\"top\">2</th>\n      <th>0</th>\n      <td>1</td>\n      <td>42</td>\n    </tr>\n    <tr>\n      <th>1</th>\n      <td>2</td>\n      <td>5</td>\n    </tr>\n    <tr>\n      <th>2</th>\n      <td>3</td>\n      <td>6</td>\n    </tr>\n  </tbody>\n</table>\n</div>"
     },
     "execution_count": 29,
     "metadata": {},
     "output_type": "execute_result"
    }
   ],
   "source": [
    "convert_to(X, to_type=[\"pd-multiindex\", \"numpy3D\"])"
   ]
  },
  {
   "cell_type": "markdown",
   "metadata": {},
   "source": [
    "#### Section 2.2.3: inspecting implemented conversions\n",
    "\n",
    "Currently, conversions are work in progress, and not all possible conversions are available - contributions are welcome.\n",
    "To see which conversions are currently implemented for a scitype, use the `_conversions_defined` developer method from the `datatypes._convert` module. This produces a table with a \"1\" if conversion from mtype in row row to mtypw in column is implemented."
   ]
  },
  {
   "cell_type": "code",
   "execution_count": 30,
   "metadata": {},
   "outputs": [
    {
     "data": {
      "text/plain": "               dask_panel  df-list  nested_univ  np-list  numpy3D  numpyflat  \\\ndask_panel              1        1            1        1        1          1   \ndf-list                 1        1            1        1        1          1   \nnested_univ             1        1            1        1        1          1   \nnp-list                 1        1            1        1        0          0   \nnumpy3D                 1        1            1        1        1          1   \nnumpyflat               1        1            1        1        1          1   \npd-long                 0        0            1        0        1          1   \npd-multiindex           1        1            1        1        1          1   \npd-wide                 0        0            1        0        0          0   \npd_multiindex           0        0            0        1        0          0   \n\n               pd-long  pd-multiindex  pd-wide  pd_multiindex  \ndask_panel           0              1        0              0  \ndf-list              0              1        0              0  \nnested_univ          1              1        1              0  \nnp-list              0              1        0              0  \nnumpy3D              1              1        0              0  \nnumpyflat            1              1        0              0  \npd-long              1              0        0              0  \npd-multiindex        0              1        0              0  \npd-wide              0              0        1              0  \npd_multiindex        0              0        0              0  ",
      "text/html": "<div>\n<style scoped>\n    .dataframe tbody tr th:only-of-type {\n        vertical-align: middle;\n    }\n\n    .dataframe tbody tr th {\n        vertical-align: top;\n    }\n\n    .dataframe thead th {\n        text-align: right;\n    }\n</style>\n<table border=\"1\" class=\"dataframe\">\n  <thead>\n    <tr style=\"text-align: right;\">\n      <th></th>\n      <th>dask_panel</th>\n      <th>df-list</th>\n      <th>nested_univ</th>\n      <th>np-list</th>\n      <th>numpy3D</th>\n      <th>numpyflat</th>\n      <th>pd-long</th>\n      <th>pd-multiindex</th>\n      <th>pd-wide</th>\n      <th>pd_multiindex</th>\n    </tr>\n  </thead>\n  <tbody>\n    <tr>\n      <th>dask_panel</th>\n      <td>1</td>\n      <td>1</td>\n      <td>1</td>\n      <td>1</td>\n      <td>1</td>\n      <td>1</td>\n      <td>0</td>\n      <td>1</td>\n      <td>0</td>\n      <td>0</td>\n    </tr>\n    <tr>\n      <th>df-list</th>\n      <td>1</td>\n      <td>1</td>\n      <td>1</td>\n      <td>1</td>\n      <td>1</td>\n      <td>1</td>\n      <td>0</td>\n      <td>1</td>\n      <td>0</td>\n      <td>0</td>\n    </tr>\n    <tr>\n      <th>nested_univ</th>\n      <td>1</td>\n      <td>1</td>\n      <td>1</td>\n      <td>1</td>\n      <td>1</td>\n      <td>1</td>\n      <td>1</td>\n      <td>1</td>\n      <td>1</td>\n      <td>0</td>\n    </tr>\n    <tr>\n      <th>np-list</th>\n      <td>1</td>\n      <td>1</td>\n      <td>1</td>\n      <td>1</td>\n      <td>0</td>\n      <td>0</td>\n      <td>0</td>\n      <td>1</td>\n      <td>0</td>\n      <td>0</td>\n    </tr>\n    <tr>\n      <th>numpy3D</th>\n      <td>1</td>\n      <td>1</td>\n      <td>1</td>\n      <td>1</td>\n      <td>1</td>\n      <td>1</td>\n      <td>1</td>\n      <td>1</td>\n      <td>0</td>\n      <td>0</td>\n    </tr>\n    <tr>\n      <th>numpyflat</th>\n      <td>1</td>\n      <td>1</td>\n      <td>1</td>\n      <td>1</td>\n      <td>1</td>\n      <td>1</td>\n      <td>1</td>\n      <td>1</td>\n      <td>0</td>\n      <td>0</td>\n    </tr>\n    <tr>\n      <th>pd-long</th>\n      <td>0</td>\n      <td>0</td>\n      <td>1</td>\n      <td>0</td>\n      <td>1</td>\n      <td>1</td>\n      <td>1</td>\n      <td>0</td>\n      <td>0</td>\n      <td>0</td>\n    </tr>\n    <tr>\n      <th>pd-multiindex</th>\n      <td>1</td>\n      <td>1</td>\n      <td>1</td>\n      <td>1</td>\n      <td>1</td>\n      <td>1</td>\n      <td>0</td>\n      <td>1</td>\n      <td>0</td>\n      <td>0</td>\n    </tr>\n    <tr>\n      <th>pd-wide</th>\n      <td>0</td>\n      <td>0</td>\n      <td>1</td>\n      <td>0</td>\n      <td>0</td>\n      <td>0</td>\n      <td>0</td>\n      <td>0</td>\n      <td>1</td>\n      <td>0</td>\n    </tr>\n    <tr>\n      <th>pd_multiindex</th>\n      <td>0</td>\n      <td>0</td>\n      <td>0</td>\n      <td>1</td>\n      <td>0</td>\n      <td>0</td>\n      <td>0</td>\n      <td>0</td>\n      <td>0</td>\n      <td>0</td>\n    </tr>\n  </tbody>\n</table>\n</div>"
     },
     "execution_count": 30,
     "metadata": {},
     "output_type": "execute_result"
    }
   ],
   "source": [
    "from aeon.datatypes._convert import _conversions_defined\n",
    "\n",
    "_conversions_defined(scitype=\"Panel\")"
   ]
  },
  {
   "cell_type": "markdown",
   "metadata": {},
   "source": [
    "## Section 3: loading data sets\n",
    "\n",
    "`aeon`'s `datasets` module allows to load datasets for testing and benchmarking. This includes:\n",
    "\n",
    "* example data sets that ship directly with `aeon`\n",
    "* downloaders for data sets from common repositories\n",
    "\n",
    "All data retrieved in this way are in `aeon` compatible in-memory and/or file formats.\n",
    "\n",
    "Currently, no systematic tagging and registry retrieval for the available data sets is implemented - contributions to this would be very welcome."
   ]
  },
  {
   "cell_type": "markdown",
   "metadata": {},
   "source": [
    "### Section 3.1: forecasting data sets\n",
    "\n",
    "`aeon`'s `datasets` module currently allows to load a the following forecasting example data sets:\n",
    "\n",
    "| dataset name | loader function | properties |\n",
    "|----------|:-------------:|------:|\n",
    "| Box/Jenkins airline data | `load_airline` | univariate |\n",
    "| Lynx sales data | `load_lynx` | univariate |\n",
    "| Shampoo sales data | `load_shampoo_sales` | univariate |\n",
    "| Pharmaceutical Benefit Scheme data | `load_PBS_dataset` | univariate |\n",
    "| Longley US macroeconomic data | `load_longley` | multivariate |\n",
    "| MTS consumption/income data | `load_uschange` | multivariate |\n",
    "\n",
    "`aeon` currently has no connectors to forecasting data repositories - contributions are much appreciated.\n"
   ]
  },
  {
   "cell_type": "markdown",
   "metadata": {},
   "source": [
    "Forecasting data sets are all of `Series` scitype, they can be univariate or multivariate.\n",
    "\n",
    "Loaders for univariate data have no arguments, and always return the data in the `\"pd.Series\"` mtype:"
   ]
  },
  {
   "cell_type": "code",
   "execution_count": 31,
   "metadata": {},
   "outputs": [
    {
     "data": {
      "text/plain": "Period\n1949-01    112.0\n1949-02    118.0\n1949-03    132.0\n1949-04    129.0\n1949-05    121.0\n           ...  \n1960-08    606.0\n1960-09    508.0\n1960-10    461.0\n1960-11    390.0\n1960-12    432.0\nFreq: M, Name: Number of airline passengers, Length: 144, dtype: float64"
     },
     "execution_count": 31,
     "metadata": {},
     "output_type": "execute_result"
    }
   ],
   "source": [
    "from aeon.datasets import load_airline\n",
    "\n",
    "load_airline()"
   ]
  },
  {
   "cell_type": "markdown",
   "metadata": {},
   "source": [
    "Loaders for multivariate data can be called in two ways:\n",
    "\n",
    "* without an argument, in which case a multivariate series of `\"pd.DataFrame\"` mtype is returned:"
   ]
  },
  {
   "cell_type": "code",
   "execution_count": 32,
   "metadata": {},
   "outputs": [
    {
     "data": {
      "text/plain": "(Period\n 1947    60323.0\n 1948    61122.0\n 1949    60171.0\n 1950    61187.0\n 1951    63221.0\n 1952    63639.0\n 1953    64989.0\n 1954    63761.0\n 1955    66019.0\n 1956    67857.0\n 1957    68169.0\n 1958    66513.0\n 1959    68655.0\n 1960    69564.0\n 1961    69331.0\n 1962    70551.0\n Freq: A-DEC, Name: TOTEMP, dtype: float64,\n         GNPDEFL       GNP   UNEMP   ARMED       POP\n Period                                             \n 1947       83.0  234289.0  2356.0  1590.0  107608.0\n 1948       88.5  259426.0  2325.0  1456.0  108632.0\n 1949       88.2  258054.0  3682.0  1616.0  109773.0\n 1950       89.5  284599.0  3351.0  1650.0  110929.0\n 1951       96.2  328975.0  2099.0  3099.0  112075.0\n 1952       98.1  346999.0  1932.0  3594.0  113270.0\n 1953       99.0  365385.0  1870.0  3547.0  115094.0\n 1954      100.0  363112.0  3578.0  3350.0  116219.0\n 1955      101.2  397469.0  2904.0  3048.0  117388.0\n 1956      104.6  419180.0  2822.0  2857.0  118734.0\n 1957      108.4  442769.0  2936.0  2798.0  120445.0\n 1958      110.8  444546.0  4681.0  2637.0  121950.0\n 1959      112.6  482704.0  3813.0  2552.0  123366.0\n 1960      114.2  502601.0  3931.0  2514.0  125368.0\n 1961      115.7  518173.0  4806.0  2572.0  127852.0\n 1962      116.9  554894.0  4007.0  2827.0  130081.0)"
     },
     "execution_count": 32,
     "metadata": {},
     "output_type": "execute_result"
    }
   ],
   "source": [
    "from aeon.datasets import load_longley\n",
    "\n",
    "load_longley()"
   ]
  },
  {
   "cell_type": "markdown",
   "metadata": {},
   "source": [
    "* with an argument `y_name` that must coincide with one of the column/variable names, in which a pair of series `y`, `X` is returned, with `y` of `\"pd.Series\"` mtype, and `X` of `\"pd.DataFrame\"` mtype - this is convenient for univariate forecasting with exogeneous variables."
   ]
  },
  {
   "cell_type": "code",
   "execution_count": 33,
   "metadata": {},
   "outputs": [],
   "source": [
    "y, X = load_longley(y_name=\"TOTEMP\")"
   ]
  },
  {
   "cell_type": "code",
   "execution_count": 34,
   "metadata": {},
   "outputs": [
    {
     "data": {
      "text/plain": "Period\n1947    60323.0\n1948    61122.0\n1949    60171.0\n1950    61187.0\n1951    63221.0\n1952    63639.0\n1953    64989.0\n1954    63761.0\n1955    66019.0\n1956    67857.0\n1957    68169.0\n1958    66513.0\n1959    68655.0\n1960    69564.0\n1961    69331.0\n1962    70551.0\nFreq: A-DEC, Name: TOTEMP, dtype: float64"
     },
     "execution_count": 34,
     "metadata": {},
     "output_type": "execute_result"
    }
   ],
   "source": [
    "y"
   ]
  },
  {
   "cell_type": "code",
   "execution_count": 35,
   "metadata": {},
   "outputs": [
    {
     "data": {
      "text/plain": "        GNPDEFL       GNP   UNEMP   ARMED       POP\nPeriod                                             \n1947       83.0  234289.0  2356.0  1590.0  107608.0\n1948       88.5  259426.0  2325.0  1456.0  108632.0\n1949       88.2  258054.0  3682.0  1616.0  109773.0\n1950       89.5  284599.0  3351.0  1650.0  110929.0\n1951       96.2  328975.0  2099.0  3099.0  112075.0\n1952       98.1  346999.0  1932.0  3594.0  113270.0\n1953       99.0  365385.0  1870.0  3547.0  115094.0\n1954      100.0  363112.0  3578.0  3350.0  116219.0\n1955      101.2  397469.0  2904.0  3048.0  117388.0\n1956      104.6  419180.0  2822.0  2857.0  118734.0\n1957      108.4  442769.0  2936.0  2798.0  120445.0\n1958      110.8  444546.0  4681.0  2637.0  121950.0\n1959      112.6  482704.0  3813.0  2552.0  123366.0\n1960      114.2  502601.0  3931.0  2514.0  125368.0\n1961      115.7  518173.0  4806.0  2572.0  127852.0\n1962      116.9  554894.0  4007.0  2827.0  130081.0",
      "text/html": "<div>\n<style scoped>\n    .dataframe tbody tr th:only-of-type {\n        vertical-align: middle;\n    }\n\n    .dataframe tbody tr th {\n        vertical-align: top;\n    }\n\n    .dataframe thead th {\n        text-align: right;\n    }\n</style>\n<table border=\"1\" class=\"dataframe\">\n  <thead>\n    <tr style=\"text-align: right;\">\n      <th></th>\n      <th>GNPDEFL</th>\n      <th>GNP</th>\n      <th>UNEMP</th>\n      <th>ARMED</th>\n      <th>POP</th>\n    </tr>\n    <tr>\n      <th>Period</th>\n      <th></th>\n      <th></th>\n      <th></th>\n      <th></th>\n      <th></th>\n    </tr>\n  </thead>\n  <tbody>\n    <tr>\n      <th>1947</th>\n      <td>83.0</td>\n      <td>234289.0</td>\n      <td>2356.0</td>\n      <td>1590.0</td>\n      <td>107608.0</td>\n    </tr>\n    <tr>\n      <th>1948</th>\n      <td>88.5</td>\n      <td>259426.0</td>\n      <td>2325.0</td>\n      <td>1456.0</td>\n      <td>108632.0</td>\n    </tr>\n    <tr>\n      <th>1949</th>\n      <td>88.2</td>\n      <td>258054.0</td>\n      <td>3682.0</td>\n      <td>1616.0</td>\n      <td>109773.0</td>\n    </tr>\n    <tr>\n      <th>1950</th>\n      <td>89.5</td>\n      <td>284599.0</td>\n      <td>3351.0</td>\n      <td>1650.0</td>\n      <td>110929.0</td>\n    </tr>\n    <tr>\n      <th>1951</th>\n      <td>96.2</td>\n      <td>328975.0</td>\n      <td>2099.0</td>\n      <td>3099.0</td>\n      <td>112075.0</td>\n    </tr>\n    <tr>\n      <th>1952</th>\n      <td>98.1</td>\n      <td>346999.0</td>\n      <td>1932.0</td>\n      <td>3594.0</td>\n      <td>113270.0</td>\n    </tr>\n    <tr>\n      <th>1953</th>\n      <td>99.0</td>\n      <td>365385.0</td>\n      <td>1870.0</td>\n      <td>3547.0</td>\n      <td>115094.0</td>\n    </tr>\n    <tr>\n      <th>1954</th>\n      <td>100.0</td>\n      <td>363112.0</td>\n      <td>3578.0</td>\n      <td>3350.0</td>\n      <td>116219.0</td>\n    </tr>\n    <tr>\n      <th>1955</th>\n      <td>101.2</td>\n      <td>397469.0</td>\n      <td>2904.0</td>\n      <td>3048.0</td>\n      <td>117388.0</td>\n    </tr>\n    <tr>\n      <th>1956</th>\n      <td>104.6</td>\n      <td>419180.0</td>\n      <td>2822.0</td>\n      <td>2857.0</td>\n      <td>118734.0</td>\n    </tr>\n    <tr>\n      <th>1957</th>\n      <td>108.4</td>\n      <td>442769.0</td>\n      <td>2936.0</td>\n      <td>2798.0</td>\n      <td>120445.0</td>\n    </tr>\n    <tr>\n      <th>1958</th>\n      <td>110.8</td>\n      <td>444546.0</td>\n      <td>4681.0</td>\n      <td>2637.0</td>\n      <td>121950.0</td>\n    </tr>\n    <tr>\n      <th>1959</th>\n      <td>112.6</td>\n      <td>482704.0</td>\n      <td>3813.0</td>\n      <td>2552.0</td>\n      <td>123366.0</td>\n    </tr>\n    <tr>\n      <th>1960</th>\n      <td>114.2</td>\n      <td>502601.0</td>\n      <td>3931.0</td>\n      <td>2514.0</td>\n      <td>125368.0</td>\n    </tr>\n    <tr>\n      <th>1961</th>\n      <td>115.7</td>\n      <td>518173.0</td>\n      <td>4806.0</td>\n      <td>2572.0</td>\n      <td>127852.0</td>\n    </tr>\n    <tr>\n      <th>1962</th>\n      <td>116.9</td>\n      <td>554894.0</td>\n      <td>4007.0</td>\n      <td>2827.0</td>\n      <td>130081.0</td>\n    </tr>\n  </tbody>\n</table>\n</div>"
     },
     "execution_count": 35,
     "metadata": {},
     "output_type": "execute_result"
    }
   ],
   "source": [
    "X"
   ]
  },
  {
   "cell_type": "markdown",
   "metadata": {},
   "source": [
    "### Section 3.2: time series classification data sets\n",
    "\n",
    "`aeon`'s `datasets` module currently allows to load a the following time series classification example data sets:\n",
    "\n",
    "| dataset name | loader function | properties |\n",
    "|----------|:-------------:|------:|\n",
    "| Appliance power consumption data | `load_acsf1` | univariate, equal length/index |\n",
    "| Arrowhead shape data | `load_arrow_head` | univariate, equal length/index |\n",
    "| Gunpoint motion data | `load_gunpoint` | univariate, equal length/index |\n",
    "| Italy power demand data | `load_italy_power_demand` | univariate, equal length/index |\n",
    "| Japanese vowels data | `load_japanese_vowels` | univariate, equal length/index |\n",
    "| OSUleaf leaf shape data | `load_osuleaf` | univariate, equal length/index |\n",
    "| Basic motions data | `load_basic_motions` | multivariate, equal length/index |\n",
    "\n",
    "Currently, there are no unequal length or unequal index time series classification example data directly in `aeon`.\n",
    "\n"
   ]
  },
  {
   "cell_type": "markdown",
   "metadata": {},
   "source": [
    "### Section 3.2.2: time series classification data sets in `aeon`\n",
    "\n",
    "Time series classification data sets consists of a panel of time series of `Panel` scitype, together with classification labels, one per time series.\n",
    "\n",
    "If a loader is invoked with minimal arguments, the data are returned as `\"nested_univ\"` mtype, with labels and series to classify in the same `pd.DataFrame`. Using the `return_X_y=True` argument, the data are returned separated into features `X` and labels `y`, with `X` a `Panel` of `nested_univ` mtype, and `y` and a `sklearn` compatible numpy vector of labels:\n"
   ]
  },
  {
   "cell_type": "code",
   "execution_count": 36,
   "metadata": {},
   "outputs": [],
   "source": [
    "from aeon.datasets import load_arrow_head\n",
    "\n",
    "X, y = load_arrow_head(return_X_y=True)"
   ]
  },
  {
   "cell_type": "code",
   "execution_count": 37,
   "metadata": {},
   "outputs": [
    {
     "data": {
      "text/plain": "array([[[-1.9630089, -1.9578249, -1.9561449, ..., -1.9053929,\n         -1.9239049, -1.9091529]],\n\n       [[-1.7745713, -1.7740359, -1.7765863, ..., -1.7292269,\n         -1.7756704, -1.7893245]],\n\n       [[-1.8660211, -1.8419912, -1.8350253, ..., -1.8625124,\n         -1.8633682, -1.8464925]],\n\n       ...,\n\n       [[-1.6032789, -1.5873654, -1.5774074, ..., -1.6030858,\n         -1.6053821, -1.6055967]],\n\n       [[-1.7390199, -1.7415336, -1.7328633, ..., -1.6998703,\n         -1.7131185, -1.7281761]],\n\n       [[-1.6307269, -1.6299183, -1.6205557, ..., -1.5815764,\n         -1.5952728, -1.6207831]]])"
     },
     "execution_count": 37,
     "metadata": {},
     "output_type": "execute_result"
    }
   ],
   "source": [
    "X"
   ]
  },
  {
   "cell_type": "code",
   "execution_count": 38,
   "metadata": {},
   "outputs": [
    {
     "data": {
      "text/plain": "array(['0', '1', '2', '0', '1', '2', '0', '1', '2', '0', '1', '2', '0',\n       '1', '2', '0', '1', '2', '0', '1', '2', '0', '1', '2', '0', '1',\n       '2', '0', '1', '2', '0', '1', '2', '0', '1', '2', '0', '0', '0',\n       '0', '0', '0', '0', '0', '0', '0', '0', '0', '0', '0', '0', '0',\n       '0', '0', '0', '0', '0', '0', '0', '0', '0', '0', '0', '0', '0',\n       '0', '0', '0', '0', '0', '0', '0', '0', '0', '0', '0', '0', '0',\n       '0', '0', '0', '0', '0', '0', '0', '0', '0', '0', '0', '0', '0',\n       '0', '0', '0', '0', '0', '0', '0', '0', '0', '0', '0', '0', '0',\n       '0', '1', '1', '1', '1', '1', '1', '1', '1', '1', '1', '1', '1',\n       '1', '1', '1', '1', '1', '1', '1', '1', '1', '1', '1', '1', '1',\n       '1', '1', '1', '1', '1', '1', '1', '1', '1', '1', '1', '1', '1',\n       '1', '1', '1', '1', '1', '1', '1', '1', '1', '1', '1', '1', '1',\n       '1', '1', '2', '2', '2', '2', '2', '2', '2', '2', '2', '2', '2',\n       '2', '2', '2', '2', '2', '2', '2', '2', '2', '2', '2', '2', '2',\n       '2', '2', '2', '2', '2', '2', '2', '2', '2', '2', '2', '2', '2',\n       '2', '2', '2', '2', '2', '2', '2', '2', '2', '2', '2', '2', '2',\n       '2', '2', '2'], dtype='<U1')"
     },
     "execution_count": 38,
     "metadata": {},
     "output_type": "execute_result"
    }
   ],
   "source": [
    "y"
   ]
  },
  {
   "cell_type": "markdown",
   "metadata": {},
   "source": [
    "The panel can be converted from `\"nested_univ\"` mtype to other mtype formats, using `datatypes.convert` or `convert_to` (see above):"
   ]
  },
  {
   "cell_type": "code",
   "execution_count": 39,
   "metadata": {},
   "outputs": [
    {
     "data": {
      "text/plain": "                         var_0\ninstances timepoints          \n0         0          -1.963009\n          1          -1.957825\n          2          -1.956145\n          3          -1.938289\n          4          -1.896657\n...                        ...\n210       246        -1.513637\n          247        -1.550431\n          248        -1.581576\n          249        -1.595273\n          250        -1.620783\n\n[52961 rows x 1 columns]",
      "text/html": "<div>\n<style scoped>\n    .dataframe tbody tr th:only-of-type {\n        vertical-align: middle;\n    }\n\n    .dataframe tbody tr th {\n        vertical-align: top;\n    }\n\n    .dataframe thead th {\n        text-align: right;\n    }\n</style>\n<table border=\"1\" class=\"dataframe\">\n  <thead>\n    <tr style=\"text-align: right;\">\n      <th></th>\n      <th></th>\n      <th>var_0</th>\n    </tr>\n    <tr>\n      <th>instances</th>\n      <th>timepoints</th>\n      <th></th>\n    </tr>\n  </thead>\n  <tbody>\n    <tr>\n      <th rowspan=\"5\" valign=\"top\">0</th>\n      <th>0</th>\n      <td>-1.963009</td>\n    </tr>\n    <tr>\n      <th>1</th>\n      <td>-1.957825</td>\n    </tr>\n    <tr>\n      <th>2</th>\n      <td>-1.956145</td>\n    </tr>\n    <tr>\n      <th>3</th>\n      <td>-1.938289</td>\n    </tr>\n    <tr>\n      <th>4</th>\n      <td>-1.896657</td>\n    </tr>\n    <tr>\n      <th>...</th>\n      <th>...</th>\n      <td>...</td>\n    </tr>\n    <tr>\n      <th rowspan=\"5\" valign=\"top\">210</th>\n      <th>246</th>\n      <td>-1.513637</td>\n    </tr>\n    <tr>\n      <th>247</th>\n      <td>-1.550431</td>\n    </tr>\n    <tr>\n      <th>248</th>\n      <td>-1.581576</td>\n    </tr>\n    <tr>\n      <th>249</th>\n      <td>-1.595273</td>\n    </tr>\n    <tr>\n      <th>250</th>\n      <td>-1.620783</td>\n    </tr>\n  </tbody>\n</table>\n<p>52961 rows × 1 columns</p>\n</div>"
     },
     "execution_count": 39,
     "metadata": {},
     "output_type": "execute_result"
    }
   ],
   "source": [
    "from aeon.datatypes import convert_to\n",
    "\n",
    "convert_to(X, to_type=\"pd-multiindex\")"
   ]
  },
  {
   "cell_type": "markdown",
   "metadata": {},
   "source": [
    "Data set loaders can be invoked with the `split` parameter to obtain reproducible training and test sets for comparison across studies. If `split=\"train\"`, a pre-defined training set is retrieved; if `split=\"test\"`, a pre-defined test set is retrieved."
   ]
  },
  {
   "cell_type": "code",
   "execution_count": 40,
   "metadata": {},
   "outputs": [],
   "source": [
    "X_train, y_train = load_arrow_head(return_X_y=True, split=\"train\")\n",
    "X_test, y_test = load_arrow_head(return_X_y=True, split=\"test\")\n",
    "# this retrieves training and test X/y for reproducible use in studies"
   ]
  },
  {
   "cell_type": "markdown",
   "metadata": {},
   "source": [
    "The imported variables are all lists of strings which contain the unique string identifiers of datasets with certain properties, as follows:\n",
    "\n",
    "| register name | uni-/multivariate | equal/unequal length | with/without missing values |\n",
    "|----------|:-------------:|------:|------:|\n",
    "| `univariate` | only univariate | both included | both included |\n",
    "| `multivariate` | only multivariate | both included | both included |\n",
    "| `univariate_equal_length` | only univariate | only equal length | both included |\n",
    "| `univariate_variable_length` | only univariate | only unequal length | both included |\n",
    "| `univariate_missing_values` | only univariate | both included | only with missing values |\n",
    "| `multivariate_equal_length` | only multivariate | only equal length | both included |\n",
    "| `multivariate_unequal_length` | only multivariate | only unequal length | both included |\n",
    "\n",
    "Lookup and retrieval using these lists is, admittedly, a bit inconvenient - contributions to `aeon` to write a lookup functions such as `all_estimators` or `all_tags`, based on capability or property tags attached to datasets would be very much appreciated.\n",
    "\n",
    "An example list is displayed below:"
   ]
  }
 ],
 "metadata": {
  "hide_input": false,
  "interpreter": {
   "hash": "bc250fec99d1b72e5bb23d9fb06e1f1ac90e860438a1535c061277d2caf5ebfc"
  },
  "kernelspec": {
   "display_name": "Python 3.7.10 64-bit ('aeon': conda)",
   "name": "python3"
  },
  "language_info": {
   "name": "python",
   "version": ""
  },
  "latex_envs": {
   "LaTeX_envs_menu_present": true,
   "autoclose": false,
   "autocomplete": true,
   "bibliofile": "biblio.bib",
   "cite_by": "apalike",
   "current_citInitial": 1,
   "eqLabelWithNumbers": true,
   "eqNumInitial": 1,
   "hotkeys": {
    "equation": "Ctrl-E",
    "itemize": "Ctrl-I"
   },
   "labels_anchors": false,
   "latex_user_defs": false,
   "report_style_numbering": false,
   "user_envs_cfg": false
  },
  "toc": {
   "base_numbering": 1,
   "nav_menu": {},
   "number_sections": true,
   "sideBar": true,
   "skip_h1_title": false,
   "title_cell": "Table of Contents",
   "title_sidebar": "Contents",
   "toc_cell": false,
   "toc_position": {},
   "toc_section_display": true,
   "toc_window_display": false
  },
  "varInspector": {
   "cols": {
    "lenName": 16,
    "lenType": 16,
    "lenVar": 40
   },
   "kernels_config": {
    "python": {
     "delete_cmd_postfix": "",
     "delete_cmd_prefix": "del ",
     "library": "var_list.py",
     "varRefreshCmd": "print(var_dic_list())"
    },
    "r": {
     "delete_cmd_postfix": ") ",
     "delete_cmd_prefix": "rm(",
     "library": "var_list.r",
     "varRefreshCmd": "cat(var_dic_list()) "
    }
   },
   "types_to_exclude": [
    "module",
    "function",
    "builtin_function_or_method",
    "instance",
    "_Feature"
   ],
   "window_display": false
  }
 },
 "nbformat": 4,
 "nbformat_minor": 4
}
