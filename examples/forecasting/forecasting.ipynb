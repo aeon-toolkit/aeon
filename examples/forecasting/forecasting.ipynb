{
 "cells": [
  {
   "cell_type": "markdown",
   "metadata": {},
   "source": [
    "# Time series forecasting with aeon\n",
    "\n",
    "This notebook describes the new, experimental, forecasting module in aeon. We have\n",
    "recently removed a lot of legacy code that was almost entirely wrappers around other\n",
    "projects, mostly statsmodels. Most of the contributors to aeon are from a computer\n",
    "science/machine learning background rather than stats and forecasting, and our\n",
    "objectives for forecasting have changed to reflect this. Our focus is on:\n",
    "\n",
    "1. not attempting to be a comprehensive forecasting package.\n",
    "\n",
    "Forecasting is a wide field with lots of specific variants and use cases. The open\n",
    "source landscape is crowded with packages that focus primarily or exclusively on\n",
    "forecasting. We are not trying to do all things in forecasting. We want to focus on a\n",
    " few key use cases that reflect our research interests.\n",
    "\n",
    "2. fast forecasting with numpy arrays.\n",
    "\n",
    "Whilst our forecasters will work with data frames, our design principle is to write\n",
    "code optimised with numba and numpy. We found that extensive use of data frames in\n",
    "the internal calculations of forecasters makes them much slower and harder to\n",
    "understand for those not used to using dataframes daily.\n",
    "\n",
    "3. forecasting using machine learning and deep learning.\n",
    "\n",
    "we want to implement and assess the latest machine learning and deep learning\n",
    "forecasting for scenarios where it makes sense to use them. Our initial experimental\n",
    "focus will be on forecasting with long series for a single forecasting horizon.\n"
   ]
  },
  {
   "cell_type": "markdown",
   "metadata": {},
   "source": [
    "## Base Class\n",
    "\n",
    "Our first design choice for forecasting is to pass the forecasting horizon in the\n",
    "constructor (default is 1). This is because we want a simpler use case: a forecaster\n",
    "trains to predict so many places in the future, then for unseen data, it predicts the\n",
    " same number of steps ahead. We recognise there are other scenarios, but this is the\n",
    " cleanest way to start.\n",
    "\n",
    " The base class for all forecasters is `BaseForecaster`. It inherits from\n",
    " `BaseSeriesEstimator`, which is also the base class for the other series estimators\n",
    " in aeon: `BaseSegmenter`, `BaseAnomalyDetector` and `BaseSeriesTransformer`. The\n",
    " base class  `BaseSeriesEstimator` contains a method to validate and possibly convert\n",
    "  an input series.\n",
    "The `BaseForecaster` has three core methods: `fit`,  `predict` and `forecast`. It is\n",
    "an abstract class, and each of these methods calls a protected method `_fit`,\n",
    "`_predict` and `_forecast`.\n",
    "\n"
   ]
  },
  {
   "cell_type": "code",
   "execution_count": null,
   "metadata": {},
   "outputs": [],
   "source": [
    "import inspect\n",
    "\n",
    "from aeon.forecasting import BaseForecaster\n",
    "\n",
    "# List methods\n",
    "public_methods = [\n",
    "    func[0]\n",
    "    for func in inspect.getmembers(BaseForecaster, predicate=inspect.isfunction)\n",
    "    if not func[0].startswith(\"_\")\n",
    "]\n",
    "print(public_methods)"
   ]
  },
  {
   "cell_type": "markdown",
   "metadata": {},
   "source": [
    " All estimators in `aeon` have tags. One specific to\n",
    "forecasting is `y_inner_type`. This specifies the inner type the sub class of\n",
    "BaseForecaster needs to input the method `_fit` and `_predict`. The default is `np\n",
    ".ndarray` but it can also be `pd.DataFrame` or `pd.Series`. You can pass\n",
    "forecaster and of `SERIES_DATA_TYPES` and it will be converted to  `y_inner_type` in\n",
    "`fit`, `predict` and `forecast`."
   ]
  },
  {
   "cell_type": "code",
   "execution_count": null,
   "metadata": {},
   "outputs": [],
   "source": [
    "from aeon.utils.data_types import SERIES_DATA_TYPES\n",
    "\n",
    "print(\" Possible data structures for input to forecaster \", SERIES_DATA_TYPES)\n",
    "print(\"\\n Tags for BaseForecaster: \", BaseForecaster.get_class_tags())"
   ]
  },
  {
   "cell_type": "markdown",
   "metadata": {},
   "source": [
    "We use the standard airline dataset for examples. This can be stored as a pd.Series,\n",
    "pd.DataFrame or np.ndarray."
   ]
  },
  {
   "cell_type": "code",
   "execution_count": null,
   "metadata": {},
   "outputs": [],
   "source": [
    "import pandas as pd\n",
    "\n",
    "from aeon.datasets import load_airline\n",
    "\n",
    "y = load_airline()\n",
    "print(type(y))\n",
    "y2 = pd.Series(y)\n",
    "y3 = pd.DataFrame(y)"
   ]
  },
  {
   "cell_type": "markdown",
   "metadata": {},
   "source": [
    "## NaiveForecaster\n",
    "\n",
    "The NaiveForecaster provides simple benchmark predictions based on common-sense strategies. It can use the `last` strategy to predict the last seen value, use the `mean` strategy to predict the mean of the training data, or use the `seasonal_last` strategy to repeat the last seasonal cycle.\n",
    "By default, it uses the last strategy, which repeats the very last observation from the training series.\n",
    "\n",
    "The NaiveForecaster currently does not support new input time series in the `predict` function, and only predicts the next horizon value after series seen in fit."
   ]
  },
  {
   "cell_type": "code",
   "execution_count": 1,
   "metadata": {},
   "outputs": [
    {
     "ename": "NameError",
     "evalue": "name 'y' is not defined",
     "output_type": "error",
     "traceback": [
      "\u001b[31m---------------------------------------------------------------------------\u001b[39m",
      "\u001b[31mNameError\u001b[39m                                 Traceback (most recent call last)",
      "\u001b[36mCell\u001b[39m\u001b[36m \u001b[39m\u001b[32mIn[1]\u001b[39m\u001b[32m, line 5\u001b[39m\n\u001b[32m      2\u001b[39m \u001b[38;5;28;01mfrom\u001b[39;00m\u001b[38;5;250m \u001b[39m\u001b[34;01maeon\u001b[39;00m\u001b[34;01m.\u001b[39;00m\u001b[34;01mforecasting\u001b[39;00m\u001b[38;5;250m \u001b[39m\u001b[38;5;28;01mimport\u001b[39;00m NaiveForecaster\n\u001b[32m      4\u001b[39m d = NaiveForecaster(strategy=\u001b[33m\"\u001b[39m\u001b[33mlast\u001b[39m\u001b[33m\"\u001b[39m)\n\u001b[32m----> \u001b[39m\u001b[32m5\u001b[39m d.fit(\u001b[43my\u001b[49m)\n\u001b[32m      6\u001b[39m p = d.predict()\n\u001b[32m      7\u001b[39m \u001b[38;5;28mprint\u001b[39m(p)\n",
      "\u001b[31mNameError\u001b[39m: name 'y' is not defined"
     ]
    }
   ],
   "source": [
    "# Fit then predict\n",
    "from aeon.forecasting import NaiveForecaster\n",
    "\n",
    "d = NaiveForecaster(strategy=\"last\")\n",
    "d.fit(y)\n",
    "p = d.predict()\n",
    "print(p)"
   ]
  },
  {
   "cell_type": "code",
   "execution_count": null,
   "metadata": {},
   "outputs": [],
   "source": [
    "# forecast is equivalent to fit_predict in other estimators\n",
    "p2 = d.forecast(y)\n",
    "print(p2)"
   ]
  },
  {
   "cell_type": "markdown",
   "metadata": {},
   "source": [
    "To use a seasonal strategy, set the strategy to seasonal_last and provide the seasonal_period. The forecaster will then repeat the last full season from the training data."
   ]
  },
  {
   "cell_type": "code",
   "execution_count": null,
   "metadata": {},
   "outputs": [],
   "source": [
    "s = NaiveForecaster(strategy=\"seasonal_last\", horizon=2, seasonal_period=4)\n",
    "s.fit(y)\n",
    "p = s.predict()\n",
    "print(f\"Last season: {y[-4:]}\")\n",
    "print(f\"Forecast: {p}\")"
   ]
  },
  {
   "cell_type": "markdown",
   "metadata": {},
   "source": [
    "## Regression based forecasting\n",
    "\n",
    "Our main focus will be forecasting through a sliding window and a regressor. We\n",
    "provide a basic implementation of this in `RegressionForecaster`. This class can take\n",
    " a regressor as a constructor parameter. It will train the regressor on the windowed\n",
    " series, then apply the data to new series. There will be a notebook for more details\n",
    "  of the use of RegressionForecaster. By default it just uses a linear regressor, but\n",
    "   our goal is to use it with `aeon` time series regressors."
   ]
  },
  {
   "cell_type": "code",
   "execution_count": null,
   "metadata": {},
   "outputs": [],
   "source": [
    "from aeon.forecasting import RegressionForecaster\n",
    "\n",
    "r = RegressionForecaster(window=20)\n",
    "r.fit(y)\n",
    "p = r.predict()\n",
    "print(p)\n",
    "r2 = RegressionForecaster(window=10, horizon=5)\n",
    "r2.fit(y)\n",
    "p = r2.predict(y)\n",
    "print(p)"
   ]
  },
  {
   "cell_type": "markdown",
   "metadata": {},
   "source": [
    "With our set up, we can make predictions with previously unseen data, thus more\n",
    "closely modelling machine learning approaches. Or we can use the forecast method to\n",
    "fit/predict at the same time."
   ]
  },
  {
   "cell_type": "code",
   "execution_count": null,
   "metadata": {},
   "outputs": [],
   "source": [
    "p1 = r.forecast(y)\n",
    "p2 = r2.forecast(y)\n",
    "print(p1, \",\\n\", p2)"
   ]
  },
  {
   "cell_type": "markdown",
   "metadata": {},
   "source": [
    "## Exponential Smoothing\n",
    "\n",
    "The base exponential smoothing module is implemented in stripped down code with\n",
    "numba, and is very fast"
   ]
  },
  {
   "cell_type": "code",
   "execution_count": 20,
   "metadata": {
    "ExecuteTime": {
     "end_time": "2024-11-16T19:21:26.225501Z",
     "start_time": "2024-11-16T19:21:26.204872Z"
    },
    "collapsed": false
   },
   "outputs": [
    {
     "data": {
      "text/plain": [
       "460.302772481884"
      ]
     },
     "execution_count": 20,
     "metadata": {},
     "output_type": "execute_result"
    }
   ],
   "source": [
    "from aeon.forecasting import ETSForecaster\n",
    "\n",
    "ets = ETSForecaster()\n",
    "ets.fit(y)\n",
    "ets.predict()"
   ]
  },
  {
   "cell_type": "code",
   "execution_count": null,
   "metadata": {
    "ExecuteTime": {
     "end_time": "2024-11-16T19:21:27.095665Z",
     "start_time": "2024-11-16T19:21:27.077715Z"
    }
   },
   "outputs": [],
   "source": []
  },
  {
   "cell_type": "code",
   "execution_count": null,
   "metadata": {},
   "outputs": [],
   "source": []
  }
 ],
 "metadata": {
  "kernelspec": {
   "display_name": "aeon-venv",
   "language": "python",
   "name": "python3"
  },
  "language_info": {
   "codemirror_mode": {
    "name": "ipython",
    "version": 3
   },
   "file_extension": ".py",
   "mimetype": "text/x-python",
   "name": "python",
   "nbconvert_exporter": "python",
   "pygments_lexer": "ipython3",
   "version": "3.11.9"
  }
 },
 "nbformat": 4,
 "nbformat_minor": 0
}
