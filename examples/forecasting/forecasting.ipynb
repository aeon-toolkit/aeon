{
 "cells": [
  {
   "cell_type": "markdown",
   "source": [
    "# Time series forecasting with aeon\n",
    "\n",
    "This notebook describes the new, experimental, forecasting module in aeon. We have\n",
    "recently removed a lot of legacy code that was almost entirely wrappers around other\n",
    "projects, mostly statsmodels. Most of the contributors to aeon are from a computer\n",
    "science/machine learning background rather than stats and forecasting, and our\n",
    "objectives for forecasting have changed to reflect this. Our focus is on:\n",
    "\n",
    "1. not attempting to be a comprehensive forecasting package.\n",
    "\n",
    "Forecasting is a wide field with lots of specific variants and use cases. The open\n",
    "source landscape is crowded with packages that focus primarily or exclusively on\n",
    "forecasting. We are not trying to do all things in forecasting. We want to focus on a\n",
    " few key use cases that reflect our research interests.\n",
    "\n",
    "2. fast forecasting with numpy arrays.\n",
    "\n",
    "Whilst our forecasters will work with data frames, our design principle is to write\n",
    "code optimised with numba and numpy. We found that extensive use of data frames in\n",
    "the internal calculations of forecasters makes them much slower and harder to\n",
    "understand for those not used to using dataframes daily.\n",
    "\n",
    "3. forecasting using machine learning and deep learning.\n",
    "\n",
    "we want to implement and assess the latest machine learning and deep learning\n",
    "forecasting for scenarios where it makes sense to use them. Our initial experimental\n",
    "focus will be on forecasting with long series for a single forecasting horizon.\n"
   ],
   "metadata": {
    "collapsed": false
   }
  },
  {
   "cell_type": "markdown",
   "source": [
    "## Base Class\n",
    "\n",
    "Our first design choice for forecasting is to pass the forecasting horizon in the\n",
    "constructor (default is 1). This is because we want a simpler use case: a forecaster\n",
    "trains to predict so many places in the future, then for unseen data, it predicts the\n",
    " same number of steps ahead. We recognise there are other scenarios, but this is the\n",
    " cleanest way to start.\n",
    "\n",
    " The base class for all forecasters is `BaseForecaster`. It inherits from\n",
    " `BaseSeriesEstimator`, which is also the base class for the other series estimators\n",
    " in aeon: `BaseSegmenter`, `BaseAnomalyDetector` and `BaseSeriesTransformer`. The\n",
    " base class  `BaseSeriesEstimator` contains a method to validate and possibly convert\n",
    "  an input series.\n",
    "The `BaseForecaster` has three core methods: `fit`,  `predict` and `forecast`. It is\n",
    "an abstract class, and each of these methods calls a protected method `_fit`,\n",
    "`_predict` and `_forecast`.\n"
   ],
   "metadata": {
    "collapsed": false
   }
  },
  {
   "cell_type": "code",
   "execution_count": 1,
   "outputs": [
    {
     "name": "stdout",
     "output_type": "stream",
     "text": [
      "['clone', 'fit', 'forecast', 'get_fitted_params', 'get_metadata_routing', 'get_params', 'get_tag', 'get_tags', 'predict', 'reset', 'set_params', 'set_tags']\n"
     ]
    }
   ],
   "source": [
    "import inspect\n",
    "\n",
    "from aeon.forecasting import BaseForecaster\n",
    "\n",
    "# List methods\n",
    "public_methods = [\n",
    "    func[0]\n",
    "    for func in inspect.getmembers(BaseForecaster, predicate=inspect.isfunction)\n",
    "    if not func[0].startswith(\"_\")\n",
    "]\n",
    "print(public_methods)"
   ],
   "metadata": {
    "collapsed": false
   }
  },
  {
   "cell_type": "markdown",
   "source": [
    " All estimators in `aeon` have tags. One specific to\n",
    "forecasting is `y_inner_type`. This specifies the inner type the sub class of\n",
    "BaseForecaster needs to input the method `_fit` and `_predict`. The default is `np\n",
    ".ndarray` but it can also be `pd.DataFrame` or `pd.Series`. You can pass\n",
    "forecaster and of `SERIES_DATA_TYPES` and it will be converted to  `y_inner_type` in\n",
    "`fit`, `predict` and `forecast`."
   ],
   "metadata": {
    "collapsed": false
   }
  },
  {
   "cell_type": "code",
   "execution_count": 2,
   "outputs": [
    {
     "name": "stdout",
     "output_type": "stream",
     "text": [
      " Possible data structures for input to forecaster  ['pd.Series', 'pd.DataFrame', 'np.ndarray']\n",
      "\n",
      " Tags for BaseForecaster:  {'python_version': None, 'python_dependencies': None, 'cant_pickle': False, 'non_deterministic': False, 'algorithm_type': None, 'capability:missing_values': False, 'capability:multithreading': False, 'capability:univariate': True, 'capability:multivariate': False, 'X_inner_type': 'np.ndarray', 'fit_is_empty': False}\n"
     ]
    }
   ],
   "source": [
    "from aeon.utils import SERIES_DATA_TYPES\n",
    "\n",
    "print(\" Possible data structures for input to forecaster \", SERIES_DATA_TYPES)\n",
    "print(\"\\n Tags for BaseForecaster: \", BaseForecaster.get_class_tags())"
   ],
   "metadata": {
    "collapsed": false
   }
  },
  {
   "cell_type": "markdown",
   "source": [
    "We use the standard airline dataset for examples. This can be stored as a pd.Series,\n",
    "pd.DataFrame or np.ndarray."
   ],
   "metadata": {
    "collapsed": false
   }
  },
  {
   "cell_type": "code",
   "execution_count": 3,
   "outputs": [
    {
     "name": "stdout",
     "output_type": "stream",
     "text": [
      "<class 'numpy.ndarray'>\n"
     ]
    }
   ],
   "source": [
    "import pandas as pd\n",
    "\n",
    "from aeon.datasets import load_airline\n",
    "\n",
    "y = load_airline()\n",
    "print(type(y))\n",
    "y2 = pd.Series(y)\n",
    "y3 = pd.DataFrame(y)"
   ],
   "metadata": {
    "collapsed": false
   }
  },
  {
   "cell_type": "markdown",
   "source": [
    "## DummyForecaster\n",
    "\n",
    "A dummy forecaster can illustrate the use cases for forecasting. This\n",
    "forecaster simply returns the last value of the train data for the forecast. By\n",
    "default the horizon is 1. It makes no difference for this forecaster. It's inner type\n",
    " is `np.ndarray` so all three allowable input types are internally converted to numpy\n",
    "  arrays."
   ],
   "metadata": {
    "collapsed": false
   }
  },
  {
   "cell_type": "code",
   "execution_count": 4,
   "outputs": [
    {
     "ename": "ValueError",
     "evalue": "Tag with name y_inner_type could not be found.",
     "output_type": "error",
     "traceback": [
      "\u001B[1;31m---------------------------------------------------------------------------\u001B[0m",
      "\u001B[1;31mValueError\u001B[0m                                Traceback (most recent call last)",
      "Cell \u001B[1;32mIn[4], line 5\u001B[0m\n\u001B[0;32m      2\u001B[0m \u001B[38;5;28;01mfrom\u001B[39;00m \u001B[38;5;21;01maeon\u001B[39;00m\u001B[38;5;21;01m.\u001B[39;00m\u001B[38;5;21;01mforecasting\u001B[39;00m \u001B[38;5;28;01mimport\u001B[39;00m DummyForecaster\n\u001B[0;32m      4\u001B[0m d \u001B[38;5;241m=\u001B[39m DummyForecaster()\n\u001B[1;32m----> 5\u001B[0m \u001B[38;5;28mprint\u001B[39m(\u001B[43md\u001B[49m\u001B[38;5;241;43m.\u001B[39;49m\u001B[43mget_tag\u001B[49m\u001B[43m(\u001B[49m\u001B[38;5;124;43m\"\u001B[39;49m\u001B[38;5;124;43my_inner_type\u001B[39;49m\u001B[38;5;124;43m\"\u001B[39;49m\u001B[43m)\u001B[49m)\n\u001B[0;32m      6\u001B[0m d\u001B[38;5;241m.\u001B[39mfit(y)\n\u001B[0;32m      7\u001B[0m p \u001B[38;5;241m=\u001B[39m d\u001B[38;5;241m.\u001B[39mpredict()\n",
      "File \u001B[1;32mC:\\Code\\aeon\\aeon\\base\\_base.py:269\u001B[0m, in \u001B[0;36mBaseAeonEstimator.get_tag\u001B[1;34m(self, tag_name, raise_error, tag_value_default)\u001B[0m\n\u001B[0;32m    266\u001B[0m tag_value \u001B[38;5;241m=\u001B[39m collected_tags\u001B[38;5;241m.\u001B[39mget(tag_name, tag_value_default)\n\u001B[0;32m    268\u001B[0m \u001B[38;5;28;01mif\u001B[39;00m raise_error \u001B[38;5;129;01mand\u001B[39;00m tag_name \u001B[38;5;129;01mnot\u001B[39;00m \u001B[38;5;129;01min\u001B[39;00m collected_tags\u001B[38;5;241m.\u001B[39mkeys():\n\u001B[1;32m--> 269\u001B[0m     \u001B[38;5;28;01mraise\u001B[39;00m \u001B[38;5;167;01mValueError\u001B[39;00m(\u001B[38;5;124mf\u001B[39m\u001B[38;5;124m\"\u001B[39m\u001B[38;5;124mTag with name \u001B[39m\u001B[38;5;132;01m{\u001B[39;00mtag_name\u001B[38;5;132;01m}\u001B[39;00m\u001B[38;5;124m could not be found.\u001B[39m\u001B[38;5;124m\"\u001B[39m)\n\u001B[0;32m    271\u001B[0m \u001B[38;5;28;01mreturn\u001B[39;00m tag_value\n",
      "\u001B[1;31mValueError\u001B[0m: Tag with name y_inner_type could not be found."
     ]
    }
   ],
   "source": [
    "# Fit then predict\n",
    "from aeon.forecasting import DummyForecaster\n",
    "\n",
    "d = DummyForecaster()\n",
    "print(d.get_tag(\"y_inner_type\"))\n",
    "d.fit(y)\n",
    "p = d.predict()\n",
    "print(p)"
   ],
   "metadata": {
    "collapsed": false
   }
  },
  {
   "cell_type": "code",
   "execution_count": null,
   "outputs": [],
   "source": [
    "# forecast is equivalent to fit_predict in other estimators\n",
    "p2 = d.forecast(y)\n",
    "print(p2)"
   ],
   "metadata": {
    "collapsed": false
   }
  },
  {
   "cell_type": "markdown",
   "source": [
    "## Regression based forecasting\n",
    "\n",
    "Our main focus will be forecasting through a sliding window and a regressor. We\n",
    "provide a basic implementation of this in `RegressionForecaster`. This class can take\n",
    " a regressor as a constructor parameter. It will train the regressor on the windowed\n",
    " series, then apply the data to new series. There will be a notebook for more details\n",
    "  of the use of RegressionForecaster. We just use it to demonstrate different horizons"
   ],
   "metadata": {
    "collapsed": false
   }
  },
  {
   "cell_type": "code",
   "execution_count": null,
   "outputs": [],
   "source": [
    "from aeon.forecasting import RegressionForecaster\n",
    "\n",
    "r = RegressionForecaster(window=20)\n",
    "r.fit(y)\n",
    "p = r.predict()\n",
    "print(p)\n",
    "r2 = RegressionForecaster(window=20, horizon=5)\n",
    "r2.fit(y)\n",
    "p = r2.predict()\n",
    "print(p)\n",
    "p = r2.forecast(y)\n",
    "print(p)"
   ],
   "metadata": {
    "collapsed": false
   }
  },
  {
   "cell_type": "markdown",
   "source": [
    "With our set up, we can make predictions with previously unseen data, thus more\n",
    "closely modelling machine learning approaches. Or we can use the forecast method to\n",
    "fit/predict at the same time."
   ],
   "metadata": {
    "collapsed": false
   }
  },
  {
   "cell_type": "code",
   "execution_count": null,
   "outputs": [],
   "source": [
    "import numpy as np\n",
    "\n",
    "y = np.random.rand(20)\n",
    "p1 = r.predict(y)\n",
    "p2 = r2.predict(y)\n",
    "print(p1, \",\\n\", p2)"
   ],
   "metadata": {
    "collapsed": false
   }
  },
  {
   "cell_type": "markdown",
   "source": [
    "## Exponential Smoothing\n",
    "\n",
    "The base exponential smoothing module is implemented in stripped down code with \n",
    "numba, and is very fast"
   ],
   "metadata": {
    "collapsed": false
   }
  },
  {
   "cell_type": "code",
   "execution_count": null,
   "outputs": [],
   "source": [
    "from aeon.forecasting import ETSForecaster\n",
    "\n",
    "ets = ETSForecaster()\n",
    "ets.fit(y)\n",
    "p = ets.predict()\n",
    "print(p, \",\\n\", p2)\n",
    "\n"
   ],
   "metadata": {
    "collapsed": false
   }
  }
 ],
 "metadata": {
  "kernelspec": {
   "display_name": "Python 3",
   "language": "python",
   "name": "python3"
  },
  "language_info": {
   "codemirror_mode": {
    "name": "ipython",
    "version": 2
   },
   "file_extension": ".py",
   "mimetype": "text/x-python",
   "name": "python",
   "nbconvert_exporter": "python",
   "pygments_lexer": "ipython2",
   "version": "2.7.6"
  }
 },
 "nbformat": 4,
 "nbformat_minor": 0
}
