{
 "cells": [
  {
   "metadata": {},
   "cell_type": "markdown",
   "source": [
    "# Iterative forecasting\n",
    "\n",
    "Iterative forecasting (sometimes called recursive) involves repeatedly predicting\n",
    "with a forecaster by adding predicted values to the actual values. Suppose you have a series of length $n$ and\n",
    "you want to forecast the next 20 steps, the pseudocode for this is as follows.\n",
    "\n",
    "```\n",
    "call f.fit(y)\n",
    "for i ← 1 to predictive_horizon do\n",
    "    preds[i - 1] ← f.predict(y)\n",
    "    y.append(preds[i - 1])\n",
    "end for\n",
    "```\n",
    " In contrast to [direct forecasting](./direct.ipynb), the iterative forecast only\n",
    " ever fits a single model. You can visualise the process as follows\n",
    "\n",
    "<img src=\"./img/iterative.png\" width=\"600\" alt=\"iterative forecasting\">\n",
    "\n",
    "\n",
    "We will demonstrate direct forecasting with the airline data"
   ],
   "id": "719611871cb4703e"
  },
  {
   "metadata": {},
   "cell_type": "code",
   "outputs": [],
   "execution_count": null,
   "source": [
    "from aeon.datasets import load_airline\n",
    "from aeon.visualisation import plot_series\n",
    "\n",
    "airline = load_airline()\n",
    "_ = plot_series(airline)"
   ],
   "id": "f32071b620802ac4"
  },
  {
   "metadata": {},
   "cell_type": "code",
   "outputs": [],
   "execution_count": null,
   "source": [
    "import matplotlib.pyplot as plt\n",
    "import numpy as np\n",
    "\n",
    "y_train = airline[:100]\n",
    "y_test = airline[100:120]\n",
    "plt.plot(np.arange(0, len(y_train)), y_train, label=\"Train\", color=\"blue\")\n",
    "plt.plot(\n",
    "    np.arange(len(y_train), len(y_train) + len(y_test)),\n",
    "    y_test,\n",
    "    label=\"Test\",\n",
    "    color=\"orange\",\n",
    ")\n",
    "plt.legend()\n",
    "plt.xlabel(\"Time\")\n",
    "plt.ylabel(\"Value\")\n",
    "plt.title(\"Train/Test Split of Time Series\")\n",
    "plt.show()"
   ],
   "id": "832c18cea5cbda5a"
  },
  {
   "metadata": {},
   "cell_type": "markdown",
   "source": [
    "We want to train a forecaster on the train set and forecast predictions for the\n",
    "subsequent test steps. The `RegressionForecaster` is a window based forecaster that\n",
    "by default uses linear regression to predict one step ahead. It requires a window\n",
    "parameter. See the [forecasting with regression](./regression.ipynb) notebook for\n",
    "details. The `forecast()` method makes a single forecast `horizon` steps ahead."
   ],
   "id": "dd1f93ccadb8d3d2"
  },
  {
   "metadata": {},
   "cell_type": "code",
   "outputs": [],
   "execution_count": null,
   "source": [
    "from aeon.forecasting import RegressionForecaster\n",
    "\n",
    "reg = RegressionForecaster(horizon=1, window=10)\n",
    "p1 = reg.forecast(y_train)\n",
    "print(\" First forecast = \", p1)"
   ],
   "id": "14f7c8cf4c01d9ff"
  },
  {
   "metadata": {},
   "cell_type": "markdown",
   "source": [
    "what if we want to predict further ahead? The direct strategy, described [here](./direct.ipynb)\n",
    "retrains the model for each set, changing the forecasting horizon. This can\n",
    " be computationally intensive. As an alternative, the iterative\n",
    " strategy uses the predicted value and predicts without refitting."
   ],
   "id": "138307e51f440ac4"
  },
  {
   "metadata": {},
   "cell_type": "code",
   "outputs": [],
   "execution_count": null,
   "source": [
    "y_new = np.append(y_train, p1)\n",
    "p2 = reg.predict(y_new)\n",
    "y_new = np.append(y_new, p2)\n",
    "p3 = reg.predict(y_new)\n",
    "print(f\" second forecast = {p2} third forecast = {p3}\")"
   ],
   "id": "8004e44812825ccd"
  },
  {
   "metadata": {},
   "cell_type": "markdown",
   "source": "there is a function in the base class to make iterative forecasting easier.",
   "id": "799932bd07bd2fe0"
  },
  {
   "metadata": {},
   "cell_type": "code",
   "outputs": [],
   "execution_count": null,
   "source": [
    "y_hat = reg.iterative_forecast(y=y_train, prediction_horizon=20)\n",
    "\n",
    "plt.plot(np.arange(0, len(y_train)), y_train, label=\"Train\", color=\"blue\")\n",
    "plt.plot(\n",
    "    np.arange(len(y_train), len(y_train) + len(y_test)),\n",
    "    y_test,\n",
    "    label=\"Actual\",\n",
    "    color=\"orange\",\n",
    ")\n",
    "plt.plot(\n",
    "    np.arange(len(y_train), len(y_train) + len(y_hat)),\n",
    "    y_hat,\n",
    "    label=\"Predicted\",\n",
    "    color=\"green\",\n",
    "    linestyle=\":\",\n",
    ")\n",
    "plt.legend()\n",
    "plt.xlabel(\"Time\")\n",
    "plt.ylabel(\"Value\")\n",
    "plt.title(\"Train/Test/Pedicted\")\n",
    "plt.show()"
   ],
   "id": "ea622fab1e005a0a"
  },
  {
   "metadata": {},
   "cell_type": "markdown",
   "source": "Looking closer, we can see the errors our forecaster is making.",
   "id": "e5618ccf611b1ee3"
  },
  {
   "metadata": {},
   "cell_type": "code",
   "outputs": [],
   "execution_count": null,
   "source": [
    "plt.plot(y_test, label=\"Actual\", color=\"orange\")\n",
    "plt.plot(y_hat, label=\"Predicted iterative\", color=\"green\", linestyle=\":\")\n",
    "plt.legend()\n",
    "plt.xlabel(\"Time\")\n",
    "plt.ylabel(\"Value\")\n",
    "plt.title(\"Pedicted and Actual over the test interval\")\n",
    "plt.show()"
   ],
   "id": "cf58a5e25bda0d8a"
  },
  {
   "metadata": {},
   "cell_type": "markdown",
   "source": [
    "It seems to be underestimating the peaks and troughs. Contrast this to the direct\n",
    "strategy which results in very different forecasts"
   ],
   "id": "1d51be43aeac0859"
  },
  {
   "metadata": {},
   "cell_type": "code",
   "outputs": [],
   "execution_count": null,
   "source": [
    "y_hat2 = reg.direct_forecast(y=y_train, prediction_horizon=20)\n",
    "plt.plot(y_hat2, label=\"Predicted direct\", color=\"blue\", linestyle=\":\")\n",
    "plt.plot(y_test, label=\"Actual\", color=\"orange\")\n",
    "plt.plot(y_hat, label=\"Predicted iterative\", color=\"green\", linestyle=\":\")\n",
    "plt.show()"
   ],
   "id": "8bf67ba4ca4dc638"
  },
  {
   "metadata": {},
   "cell_type": "code",
   "outputs": [],
   "execution_count": null,
   "source": [
    "import matplotlib.pyplot as plt\n",
    "import numpy as np\n",
    "from statsmodels.tsa.exponential_smoothing.ets import ETSModel\n",
    "\n",
    "from aeon.datasets import load_airline\n",
    "from aeon.forecasting.stats import ETS\n",
    "\n",
    "airline = load_airline()\n",
    "y_train = airline[:100]\n",
    "y_test = airline[100:120]\n",
    "\n",
    "ets = ETS(\n",
    "    error_type=\"additive\",\n",
    "    trend_type=\"additive\",\n",
    "    seasonality_type=\"additive\",\n",
    "    seasonal_period=12,\n",
    "    alpha=0.2550646708489574,\n",
    "    beta=2.550646708489574e-02,\n",
    "    gamma=0.7448608356181274,\n",
    "    phi=1.0,\n",
    ")\n",
    "statsmodels_ets = ETSModel(\n",
    "    endog=y_train,\n",
    "    error=\"add\",\n",
    "    trend=\"add\",\n",
    "    seasonal=\"add\",\n",
    "    seasonal_periods=12,\n",
    "    damped_trend=False,\n",
    ")\n",
    "\n",
    "ets_forecasts = ets.iterative_forecast(y_train, 20)\n",
    "sm_model = statsmodels_ets.fit()\n",
    "statsmodels_forecasts = sm_model.forecast(steps=20)\n",
    "print(f\"Alpha: {ets.alpha}, Beta: {ets.beta}, Gamma: {ets.gamma}, Phi: {ets.phi}\")\n",
    "print(\n",
    "    f\"Alpha: {sm_model.alpha}, Beta: {sm_model.beta if sm_model.has_trend else 'N/A'}, \\\n",
    "        Gamma: {sm_model.gamma if sm_model.has_seasonal else 'N/A'}, \\\n",
    "            Phi: {sm_model.phi if sm_model.damped_trend else 'N/A'}\"\n",
    ")\n",
    "# plt.plot(np.arange(0, len(y_train)), y_train, label=\"Train\", color=\"blue\")\n",
    "plt.plot(\n",
    "    # np.arange(len(y_train), len(y_train) + len(y_test)),\n",
    "    y_test,\n",
    "    label=\"Actual\",\n",
    "    color=\"orange\",\n",
    ")\n",
    "plt.plot(\n",
    "    # np.arange(len(y_train), len(y_train) + len(ets_forecasts)),\n",
    "    ets_forecasts,\n",
    "    label=\"Aeon\",\n",
    "    color=\"red\",\n",
    "    linestyle=\":\",\n",
    ")\n",
    "plt.plot(\n",
    "    # np.arange(len(y_train), len(y_train) + len(statsmodels_forecasts)),\n",
    "    statsmodels_forecasts,\n",
    "    label=\"Statsmodels\",\n",
    "    color=\"green\",\n",
    "    linestyle=\":\",\n",
    ")\n",
    "plt.legend()\n",
    "plt.show()"
   ],
   "id": "5df42f33db2a1fc4"
  },
  {
   "metadata": {},
   "cell_type": "code",
   "outputs": [],
   "execution_count": null,
   "source": "",
   "id": "d6c25b89e7bfb60a"
  },
  {
   "metadata": {},
   "cell_type": "code",
   "outputs": [],
   "execution_count": null,
   "source": "",
   "id": "16daa98ba602f01e"
  }
 ],
 "metadata": {
  "kernelspec": {
   "display_name": "aeon-venv",
   "language": "python",
   "name": "python3"
  },
  "language_info": {
   "codemirror_mode": {
    "name": "ipython",
    "version": 3
   },
   "file_extension": ".py",
   "mimetype": "text/x-python",
   "name": "python",
   "nbconvert_exporter": "python",
   "pygments_lexer": "ipython3",
   "version": "3.13.5"
  }
 },
 "nbformat": 4,
 "nbformat_minor": 5
}
