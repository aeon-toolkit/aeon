{
 "cells": [
  {
   "metadata": {},
   "cell_type": "markdown",
   "source": [
    "# ETS Forecasting\n",
    "\n",
    "Examples for ETS notebook here\n",
    "\n",
    "`aeon` has native a implementation of ETS and will soon add Auto ETS. Details on this\n",
    " will be forthcoming when the implementation is stable"
   ],
   "id": "70dcc762ca5e1b6c"
  },
  {
   "metadata": {},
   "cell_type": "markdown",
   "source": "",
   "id": "f1fa7d726479eff9"
  }
 ],
 "metadata": {
  "kernelspec": {
   "display_name": "Python 3",
   "language": "python",
   "name": "python3"
  },
  "language_info": {
   "codemirror_mode": {
    "name": "ipython",
    "version": 2
   },
   "file_extension": ".py",
   "mimetype": "text/x-python",
   "name": "python",
   "nbconvert_exporter": "python",
   "pygments_lexer": "ipython2",
   "version": "2.7.6"
  }
 },
 "nbformat": 4,
 "nbformat_minor": 5
}
