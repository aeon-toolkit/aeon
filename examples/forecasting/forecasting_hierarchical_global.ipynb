{
 "cells": [
  {
   "cell_type": "markdown",
   "metadata": {},
   "source": [
    "# Hierarchical, Global, and Panel Forecasting with `aeon`"
   ]
  },
  {
   "cell_type": "markdown",
   "metadata": {},
   "source": [
    "## Overview of this notebook\n",
    "\n",
    "* introduction - hierarchical time series\n",
    "* hierarchical and panel data format in aeon\n",
    "* automated vectorization of forecasters and transformers\n",
    "* hierarchical reconciliation in aeon\n",
    "* hierarchical/global forecasting using summarization/reduction models, \"M5 winner\"\n",
    "* extender guide"
   ]
  },
  {
   "cell_type": "markdown",
   "metadata": {},
   "source": [
    "## Hierarchical time series\n",
    "\n",
    "Time series are often present in \"hierarchical\" form, example:\n",
    "\n",
    "<img src=\"./img/hierarchytree.png\" width=\"1200\" alt=\"arrow heads\">\n",
    "\n",
    "Examples include:\n",
    "* Product sales in different categories (e.g. M5 time series competition)\n",
    "* Tourism demand in different regions\n",
    "* Balance sheet structures across cost centers / accounts\n",
    "\n",
    "Many hierarchical time series datasets can be found here:\n",
    "https://forecastingdata.org/\n",
    "(access loader in development)\n",
    "\n",
    "For literature see also:\n",
    "https://otexts.com/fpp2/hierarchical.html\n",
    "\n",
    "A time series can also exhibit multiple independent hierarchies:\n",
    "\n",
    "<img src=\"./img/hierarchytree_grouped.png\" width=\"1200\" alt=\"arrow heads\">"
   ]
  },
  {
   "cell_type": "markdown",
   "metadata": {},
   "source": [
    "---\n",
    "\n",
    "### Representation of hierarchical and panel datatypes\n",
    "\n",
    "`aeon` distinguishes as abstract scientific data types for time series (=\"scitypes\"):\n",
    "\n",
    "* `Series` type = one time series (uni or multivariate)\n",
    "* `Panel` type = collection of multiple time series, flat hierarchy\n",
    "* `Hierarchical` type = hierarchical collection of time series, as above\n",
    "\n",
    "Each scitype has multiple mtype representations.\n",
    "\n",
    "For simplicitly, we focus only on `pandas.DataFrame` based representations below."
   ]
  },
  {
   "cell_type": "code",
   "execution_count": 1,
   "metadata": {
    "ExecuteTime": {
     "end_time": "2023-08-24T17:25:33.438428100Z",
     "start_time": "2023-08-24T17:25:31.788325300Z"
    }
   },
   "outputs": [],
   "source": [
    "# import to retrieve examples\n",
    "import warnings\n",
    "\n",
    "warnings.filterwarnings(\"ignore\")\n",
    "from aeon.datatypes import get_examples"
   ]
  },
  {
   "cell_type": "markdown",
   "metadata": {},
   "source": [
    "#### Individual time series - `Series` scitype, `\"pd.DataFrame\"` mtype\n",
    "\n",
    "In the `\"pd.DataFrame\"` mtype, time series are represented by an in-memory container `obj: pandas.DataFrame` as follows.\n",
    "\n",
    "* structure convention: `obj.index` must be monotonous, and one of `Int64Index`, `RangeIndex`, `DatetimeIndex`, `PeriodIndex`.\n",
    "* variables: columns of `obj` correspond to different variables\n",
    "* variable names: column names `obj.columns`\n",
    "* time points: rows of `obj` correspond to different, distinct time points\n",
    "* time index: `obj.index` is interpreted as a time index.\n",
    "* capabilities: can represent multivariate series; can represent unequally spaced series"
   ]
  },
  {
   "cell_type": "markdown",
   "metadata": {},
   "source": [
    "Example of a univariate series in `\"pd.DataFrame\"` representation.\\\n",
    "This series has two variables, named `\"a\"` and `\"b\"`. Both are observed at the same four timepoints 0, 1, 2, 3."
   ]
  },
  {
   "cell_type": "code",
   "execution_count": 2,
   "metadata": {
    "ExecuteTime": {
     "end_time": "2023-08-24T17:25:33.497271700Z",
     "start_time": "2023-08-24T17:25:32.353813500Z"
    }
   },
   "outputs": [
    {
     "data": {
      "text/plain": "     a\n0  1.0\n1  4.0\n2  0.5\n3 -3.0",
      "text/html": "<div>\n<style scoped>\n    .dataframe tbody tr th:only-of-type {\n        vertical-align: middle;\n    }\n\n    .dataframe tbody tr th {\n        vertical-align: top;\n    }\n\n    .dataframe thead th {\n        text-align: right;\n    }\n</style>\n<table border=\"1\" class=\"dataframe\">\n  <thead>\n    <tr style=\"text-align: right;\">\n      <th></th>\n      <th>a</th>\n    </tr>\n  </thead>\n  <tbody>\n    <tr>\n      <th>0</th>\n      <td>1.0</td>\n    </tr>\n    <tr>\n      <th>1</th>\n      <td>4.0</td>\n    </tr>\n    <tr>\n      <th>2</th>\n      <td>0.5</td>\n    </tr>\n    <tr>\n      <th>3</th>\n      <td>-3.0</td>\n    </tr>\n  </tbody>\n</table>\n</div>"
     },
     "execution_count": 2,
     "metadata": {},
     "output_type": "execute_result"
    }
   ],
   "source": [
    "get_examples(mtype=\"pd.DataFrame\")[0]"
   ]
  },
  {
   "cell_type": "markdown",
   "metadata": {},
   "source": [
    "Example of a bivariate series in `\"pd.DataFrame\"` representation.\\\n",
    "This series has two variables, named `\"a\"` and `\"b\"`. Both are observed at the same four timepoints 0, 1, 2, 3."
   ]
  },
  {
   "cell_type": "code",
   "execution_count": 3,
   "metadata": {
    "ExecuteTime": {
     "end_time": "2023-08-24T17:25:33.497271700Z",
     "start_time": "2023-08-24T17:25:32.373760900Z"
    }
   },
   "outputs": [
    {
     "data": {
      "text/plain": "     a         b\n0  1.0  3.000000\n1  4.0  7.000000\n2  0.5  2.000000\n3 -3.0 -0.428571",
      "text/html": "<div>\n<style scoped>\n    .dataframe tbody tr th:only-of-type {\n        vertical-align: middle;\n    }\n\n    .dataframe tbody tr th {\n        vertical-align: top;\n    }\n\n    .dataframe thead th {\n        text-align: right;\n    }\n</style>\n<table border=\"1\" class=\"dataframe\">\n  <thead>\n    <tr style=\"text-align: right;\">\n      <th></th>\n      <th>a</th>\n      <th>b</th>\n    </tr>\n  </thead>\n  <tbody>\n    <tr>\n      <th>0</th>\n      <td>1.0</td>\n      <td>3.000000</td>\n    </tr>\n    <tr>\n      <th>1</th>\n      <td>4.0</td>\n      <td>7.000000</td>\n    </tr>\n    <tr>\n      <th>2</th>\n      <td>0.5</td>\n      <td>2.000000</td>\n    </tr>\n    <tr>\n      <th>3</th>\n      <td>-3.0</td>\n      <td>-0.428571</td>\n    </tr>\n  </tbody>\n</table>\n</div>"
     },
     "execution_count": 3,
     "metadata": {},
     "output_type": "execute_result"
    }
   ],
   "source": [
    "get_examples(mtype=\"pd.DataFrame\")[1]"
   ]
  },
  {
   "cell_type": "markdown",
   "metadata": {},
   "source": [
    "#### Panels (= flat collections) of time series - `Panel` scitype, `\"pd-multiindex\"` mtype\n",
    "\n",
    "In the `\"pd-multiindex\"` mtype, time series panels are represented by an in-memory container `obj: pandas.DataFrame` as follows.\n",
    "\n",
    "* structure convention: `obj.index` must be a pair multi-index of type `(RangeIndex, t)`, where `t` is one of `Int64Index`, `RangeIndex`, `DatetimeIndex`, `PeriodIndex` and monotonous.\n",
    "* instances: rows with the same `\"instances\"` index correspond to the same instance; rows with different `\"instances\"` index correspond to different instances.\n",
    "* instance index: the first element of pairs in `obj.index` is interpreted as an instance index.\n",
    "* variables: columns of `obj` correspond to different variables\n",
    "* variable names: column names `obj.columns`\n",
    "* time points: rows of `obj` with the same `\"timepoints\"` index correspond to the same time point; rows of `obj` with different `\"timepoints\"` index correspond correspond to the different time points.\n",
    "* time index: the second element of pairs in `obj.index` is interpreted as a time index.\n",
    "* capabilities: can represent panels of multivariate series; can represent unequally spaced series; can represent panels of unequally supported series; cannot represent panels of series with different sets of variables."
   ]
  },
  {
   "cell_type": "markdown",
   "metadata": {},
   "source": [
    "Example of a panel of multivariate series in `\"pd-multiindex\"` mtype representation.\n",
    "The panel contains three multivariate series, with instance indices 0, 1, 2. All series have two variables with names `\"var_0\"`, `\"var_1\"`. All series are observed at three time points 0, 1, 2."
   ]
  },
  {
   "cell_type": "code",
   "execution_count": 4,
   "metadata": {
    "ExecuteTime": {
     "end_time": "2023-08-24T17:25:33.498269200Z",
     "start_time": "2023-08-24T17:25:32.390715100Z"
    }
   },
   "outputs": [
    {
     "data": {
      "text/plain": "                      var_0  var_1\ninstances timepoints              \n0         0               1      4\n          1               2      5\n          2               3      6\n1         0               1      4\n          1               2     55\n          2               3      6\n2         0               1     42\n          1               2      5\n          2               3      6",
      "text/html": "<div>\n<style scoped>\n    .dataframe tbody tr th:only-of-type {\n        vertical-align: middle;\n    }\n\n    .dataframe tbody tr th {\n        vertical-align: top;\n    }\n\n    .dataframe thead th {\n        text-align: right;\n    }\n</style>\n<table border=\"1\" class=\"dataframe\">\n  <thead>\n    <tr style=\"text-align: right;\">\n      <th></th>\n      <th></th>\n      <th>var_0</th>\n      <th>var_1</th>\n    </tr>\n    <tr>\n      <th>instances</th>\n      <th>timepoints</th>\n      <th></th>\n      <th></th>\n    </tr>\n  </thead>\n  <tbody>\n    <tr>\n      <th rowspan=\"3\" valign=\"top\">0</th>\n      <th>0</th>\n      <td>1</td>\n      <td>4</td>\n    </tr>\n    <tr>\n      <th>1</th>\n      <td>2</td>\n      <td>5</td>\n    </tr>\n    <tr>\n      <th>2</th>\n      <td>3</td>\n      <td>6</td>\n    </tr>\n    <tr>\n      <th rowspan=\"3\" valign=\"top\">1</th>\n      <th>0</th>\n      <td>1</td>\n      <td>4</td>\n    </tr>\n    <tr>\n      <th>1</th>\n      <td>2</td>\n      <td>55</td>\n    </tr>\n    <tr>\n      <th>2</th>\n      <td>3</td>\n      <td>6</td>\n    </tr>\n    <tr>\n      <th rowspan=\"3\" valign=\"top\">2</th>\n      <th>0</th>\n      <td>1</td>\n      <td>42</td>\n    </tr>\n    <tr>\n      <th>1</th>\n      <td>2</td>\n      <td>5</td>\n    </tr>\n    <tr>\n      <th>2</th>\n      <td>3</td>\n      <td>6</td>\n    </tr>\n  </tbody>\n</table>\n</div>"
     },
     "execution_count": 4,
     "metadata": {},
     "output_type": "execute_result"
    }
   ],
   "source": [
    "get_examples(mtype=\"pd-multiindex\")[0]"
   ]
  },
  {
   "cell_type": "markdown",
   "metadata": {},
   "source": [
    "#### Hierarchical time series - `Hierarchical` scitype, `\"pd_multiindex_hier\"` mtype\n",
    "\n",
    "* structure convention: `obj.index` must be a 3 or more level multi-index of type `(RangeIndex, ..., RangeIndex, t)`, where `t` is one of `Int64Index`, `RangeIndex`, `DatetimeIndex`, `PeriodIndex` and monotonous. We call the last index the \"time-like\" index\n",
    "* hierarchy level: rows with the same non-time-like indices correspond to the same hierarchy unit; rows with different non-time-like index combination correspond to different hierarchy unit.\n",
    "* hierarchy: the non-time-like indices in `obj.index` are interpreted as a hierarchy identifying index.\n",
    "* variables: columns of `obj` correspond to different variables\n",
    "* variable names: column names `obj.columns`\n",
    "* time points: rows of `obj` with the same `\"timepoints\"` index correspond to the same time point; rows of `obj` with different `\"timepoints\"` index correspond correspond to the different time points.\n",
    "* time index: the last element of tuples in `obj.index` is interpreted as a time index.\n",
    "* capabilities: can represent hierarchical series; can represent unequally spaced series; can represent unequally supported hierarchical series; cannot represent hierarchical series with different sets of variables."
   ]
  },
  {
   "cell_type": "code",
   "execution_count": 5,
   "metadata": {
    "ExecuteTime": {
     "end_time": "2023-08-24T17:25:33.498269200Z",
     "start_time": "2023-08-24T17:25:32.407669700Z"
    }
   },
   "outputs": [
    {
     "data": {
      "text/plain": "                    var_0  var_1\nfoo bar timepoints              \na   0   0               1      4\n        1               2      5\n        2               3      6\n    1   0               1      4\n        1               2     55\n        2               3      6\n    2   0               1     42\n        1               2      5\n        2               3      6\nb   0   0               1      4\n        1               2      5\n        2               3      6\n    1   0               1      4\n        1               2     55\n        2               3      6\n    2   0               1     42\n        1               2      5\n        2               3      6",
      "text/html": "<div>\n<style scoped>\n    .dataframe tbody tr th:only-of-type {\n        vertical-align: middle;\n    }\n\n    .dataframe tbody tr th {\n        vertical-align: top;\n    }\n\n    .dataframe thead th {\n        text-align: right;\n    }\n</style>\n<table border=\"1\" class=\"dataframe\">\n  <thead>\n    <tr style=\"text-align: right;\">\n      <th></th>\n      <th></th>\n      <th></th>\n      <th>var_0</th>\n      <th>var_1</th>\n    </tr>\n    <tr>\n      <th>foo</th>\n      <th>bar</th>\n      <th>timepoints</th>\n      <th></th>\n      <th></th>\n    </tr>\n  </thead>\n  <tbody>\n    <tr>\n      <th rowspan=\"9\" valign=\"top\">a</th>\n      <th rowspan=\"3\" valign=\"top\">0</th>\n      <th>0</th>\n      <td>1</td>\n      <td>4</td>\n    </tr>\n    <tr>\n      <th>1</th>\n      <td>2</td>\n      <td>5</td>\n    </tr>\n    <tr>\n      <th>2</th>\n      <td>3</td>\n      <td>6</td>\n    </tr>\n    <tr>\n      <th rowspan=\"3\" valign=\"top\">1</th>\n      <th>0</th>\n      <td>1</td>\n      <td>4</td>\n    </tr>\n    <tr>\n      <th>1</th>\n      <td>2</td>\n      <td>55</td>\n    </tr>\n    <tr>\n      <th>2</th>\n      <td>3</td>\n      <td>6</td>\n    </tr>\n    <tr>\n      <th rowspan=\"3\" valign=\"top\">2</th>\n      <th>0</th>\n      <td>1</td>\n      <td>42</td>\n    </tr>\n    <tr>\n      <th>1</th>\n      <td>2</td>\n      <td>5</td>\n    </tr>\n    <tr>\n      <th>2</th>\n      <td>3</td>\n      <td>6</td>\n    </tr>\n    <tr>\n      <th rowspan=\"9\" valign=\"top\">b</th>\n      <th rowspan=\"3\" valign=\"top\">0</th>\n      <th>0</th>\n      <td>1</td>\n      <td>4</td>\n    </tr>\n    <tr>\n      <th>1</th>\n      <td>2</td>\n      <td>5</td>\n    </tr>\n    <tr>\n      <th>2</th>\n      <td>3</td>\n      <td>6</td>\n    </tr>\n    <tr>\n      <th rowspan=\"3\" valign=\"top\">1</th>\n      <th>0</th>\n      <td>1</td>\n      <td>4</td>\n    </tr>\n    <tr>\n      <th>1</th>\n      <td>2</td>\n      <td>55</td>\n    </tr>\n    <tr>\n      <th>2</th>\n      <td>3</td>\n      <td>6</td>\n    </tr>\n    <tr>\n      <th rowspan=\"3\" valign=\"top\">2</th>\n      <th>0</th>\n      <td>1</td>\n      <td>42</td>\n    </tr>\n    <tr>\n      <th>1</th>\n      <td>2</td>\n      <td>5</td>\n    </tr>\n    <tr>\n      <th>2</th>\n      <td>3</td>\n      <td>6</td>\n    </tr>\n  </tbody>\n</table>\n</div>"
     },
     "execution_count": 5,
     "metadata": {},
     "output_type": "execute_result"
    }
   ],
   "source": [
    "X = get_examples(mtype=\"pd_multiindex_hier\")[0]\n",
    "X"
   ]
  },
  {
   "cell_type": "code",
   "execution_count": 6,
   "metadata": {
    "ExecuteTime": {
     "end_time": "2023-08-24T17:25:33.506248100Z",
     "start_time": "2023-08-24T17:25:32.425621800Z"
    }
   },
   "outputs": [
    {
     "data": {
      "text/plain": "Index([0, 1, 2, 0, 1, 2, 0, 1, 2, 0, 1, 2, 0, 1, 2, 0, 1, 2], dtype='int64', name='timepoints')"
     },
     "execution_count": 6,
     "metadata": {},
     "output_type": "execute_result"
    }
   ],
   "source": [
    "X.index.get_level_values(level=-1)"
   ]
  },
  {
   "cell_type": "markdown",
   "metadata": {},
   "source": [
    "---\n",
    "\n",
    "### Automated vectorization (casting) of forecasters and transformers\n",
    "\n",
    "Many transformers and forecasters implemented for single series\n",
    "\n",
    "`aeon` automatically vectorizes/\"up-casts\" them to hierarchical data\n",
    "\n",
    "\"apply by individual series/panel in the hierarchical structure\""
   ]
  },
  {
   "cell_type": "markdown",
   "metadata": {},
   "source": [
    "constructing a hierarchical time series:"
   ]
  },
  {
   "cell_type": "code",
   "execution_count": 7,
   "metadata": {
    "ExecuteTime": {
     "end_time": "2023-08-24T17:25:33.534172500Z",
     "start_time": "2023-08-24T17:25:32.438587100Z"
    }
   },
   "outputs": [
    {
     "data": {
      "text/plain": "                            c0\nh0   h1   time                \nh0_0 h1_0 2000-01-01  3.301873\n          2000-01-02  1.492983\n          2000-01-03  4.268365\n          2000-01-04  4.203874\n          2000-01-05  2.914449\n...                        ...\nh0_1 h1_3 2000-01-08  1.620166\n          2000-01-09  2.440667\n          2000-01-10  3.040694\n          2000-01-11  3.604727\n          2000-01-12  3.087189\n\n[96 rows x 1 columns]",
      "text/html": "<div>\n<style scoped>\n    .dataframe tbody tr th:only-of-type {\n        vertical-align: middle;\n    }\n\n    .dataframe tbody tr th {\n        vertical-align: top;\n    }\n\n    .dataframe thead th {\n        text-align: right;\n    }\n</style>\n<table border=\"1\" class=\"dataframe\">\n  <thead>\n    <tr style=\"text-align: right;\">\n      <th></th>\n      <th></th>\n      <th></th>\n      <th>c0</th>\n    </tr>\n    <tr>\n      <th>h0</th>\n      <th>h1</th>\n      <th>time</th>\n      <th></th>\n    </tr>\n  </thead>\n  <tbody>\n    <tr>\n      <th rowspan=\"5\" valign=\"top\">h0_0</th>\n      <th rowspan=\"5\" valign=\"top\">h1_0</th>\n      <th>2000-01-01</th>\n      <td>3.301873</td>\n    </tr>\n    <tr>\n      <th>2000-01-02</th>\n      <td>1.492983</td>\n    </tr>\n    <tr>\n      <th>2000-01-03</th>\n      <td>4.268365</td>\n    </tr>\n    <tr>\n      <th>2000-01-04</th>\n      <td>4.203874</td>\n    </tr>\n    <tr>\n      <th>2000-01-05</th>\n      <td>2.914449</td>\n    </tr>\n    <tr>\n      <th>...</th>\n      <th>...</th>\n      <th>...</th>\n      <td>...</td>\n    </tr>\n    <tr>\n      <th rowspan=\"5\" valign=\"top\">h0_1</th>\n      <th rowspan=\"5\" valign=\"top\">h1_3</th>\n      <th>2000-01-08</th>\n      <td>1.620166</td>\n    </tr>\n    <tr>\n      <th>2000-01-09</th>\n      <td>2.440667</td>\n    </tr>\n    <tr>\n      <th>2000-01-10</th>\n      <td>3.040694</td>\n    </tr>\n    <tr>\n      <th>2000-01-11</th>\n      <td>3.604727</td>\n    </tr>\n    <tr>\n      <th>2000-01-12</th>\n      <td>3.087189</td>\n    </tr>\n  </tbody>\n</table>\n<p>96 rows × 1 columns</p>\n</div>"
     },
     "execution_count": 7,
     "metadata": {},
     "output_type": "execute_result"
    }
   ],
   "source": [
    "from aeon.utils._testing.hierarchical import _make_hierarchical\n",
    "\n",
    "y = _make_hierarchical()\n",
    "y"
   ]
  },
  {
   "cell_type": "markdown",
   "metadata": {},
   "source": [
    "all forecasters and non-collection transformers are applicable to this!\n",
    "if forecaster implements logic for single series only, \"apply to all hierarchy units\""
   ]
  },
  {
   "cell_type": "code",
   "execution_count": 8,
   "metadata": {
    "ExecuteTime": {
     "end_time": "2023-08-24T17:25:40.030722700Z",
     "start_time": "2023-08-24T17:25:32.775685900Z"
    }
   },
   "outputs": [
    {
     "data": {
      "text/plain": "                            c0\nh0   h1   time                \nh0_0 h1_0 2000-01-13  3.201959\n          2000-01-14  3.282870\n     h1_1 2000-01-13  2.830715\n          2000-01-14  2.773978\n     h1_2 2000-01-13  2.749768\n          2000-01-14  2.710692\n     h1_3 2000-01-13  2.985117\n          2000-01-14  3.809428\nh0_1 h1_0 2000-01-13  3.268662\n          2000-01-14  3.318407\n     h1_1 2000-01-13  3.059982\n          2000-01-14  2.953092\n     h1_2 2000-01-13  3.043599\n          2000-01-14  3.486864\n     h1_3 2000-01-13  2.799584\n          2000-01-14  2.745003",
      "text/html": "<div>\n<style scoped>\n    .dataframe tbody tr th:only-of-type {\n        vertical-align: middle;\n    }\n\n    .dataframe tbody tr th {\n        vertical-align: top;\n    }\n\n    .dataframe thead th {\n        text-align: right;\n    }\n</style>\n<table border=\"1\" class=\"dataframe\">\n  <thead>\n    <tr style=\"text-align: right;\">\n      <th></th>\n      <th></th>\n      <th></th>\n      <th>c0</th>\n    </tr>\n    <tr>\n      <th>h0</th>\n      <th>h1</th>\n      <th>time</th>\n      <th></th>\n    </tr>\n  </thead>\n  <tbody>\n    <tr>\n      <th rowspan=\"8\" valign=\"top\">h0_0</th>\n      <th rowspan=\"2\" valign=\"top\">h1_0</th>\n      <th>2000-01-13</th>\n      <td>3.201959</td>\n    </tr>\n    <tr>\n      <th>2000-01-14</th>\n      <td>3.282870</td>\n    </tr>\n    <tr>\n      <th rowspan=\"2\" valign=\"top\">h1_1</th>\n      <th>2000-01-13</th>\n      <td>2.830715</td>\n    </tr>\n    <tr>\n      <th>2000-01-14</th>\n      <td>2.773978</td>\n    </tr>\n    <tr>\n      <th rowspan=\"2\" valign=\"top\">h1_2</th>\n      <th>2000-01-13</th>\n      <td>2.749768</td>\n    </tr>\n    <tr>\n      <th>2000-01-14</th>\n      <td>2.710692</td>\n    </tr>\n    <tr>\n      <th rowspan=\"2\" valign=\"top\">h1_3</th>\n      <th>2000-01-13</th>\n      <td>2.985117</td>\n    </tr>\n    <tr>\n      <th>2000-01-14</th>\n      <td>3.809428</td>\n    </tr>\n    <tr>\n      <th rowspan=\"8\" valign=\"top\">h0_1</th>\n      <th rowspan=\"2\" valign=\"top\">h1_0</th>\n      <th>2000-01-13</th>\n      <td>3.268662</td>\n    </tr>\n    <tr>\n      <th>2000-01-14</th>\n      <td>3.318407</td>\n    </tr>\n    <tr>\n      <th rowspan=\"2\" valign=\"top\">h1_1</th>\n      <th>2000-01-13</th>\n      <td>3.059982</td>\n    </tr>\n    <tr>\n      <th>2000-01-14</th>\n      <td>2.953092</td>\n    </tr>\n    <tr>\n      <th rowspan=\"2\" valign=\"top\">h1_2</th>\n      <th>2000-01-13</th>\n      <td>3.043599</td>\n    </tr>\n    <tr>\n      <th>2000-01-14</th>\n      <td>3.486864</td>\n    </tr>\n    <tr>\n      <th rowspan=\"2\" valign=\"top\">h1_3</th>\n      <th>2000-01-13</th>\n      <td>2.799584</td>\n    </tr>\n    <tr>\n      <th>2000-01-14</th>\n      <td>2.745003</td>\n    </tr>\n  </tbody>\n</table>\n</div>"
     },
     "execution_count": 8,
     "metadata": {},
     "output_type": "execute_result"
    }
   ],
   "source": [
    "from aeon.forecasting.arima import ARIMA\n",
    "\n",
    "forecaster = ARIMA()\n",
    "\n",
    "y_pred = forecaster.fit(y, fh=[1, 2]).predict()\n",
    "y_pred"
   ]
  },
  {
   "cell_type": "markdown",
   "metadata": {},
   "source": [
    "individual forecasters fitted per hierarchy level are stored in the  `forecasters_` attribute\n",
    "this contains a `pandas.DataFrame` in the same format as the hierarchy levels, and fitted forecasters inside\n",
    "(for transformers, the attribute is called `transformers_`)"
   ]
  },
  {
   "cell_type": "code",
   "execution_count": 9,
   "metadata": {
    "ExecuteTime": {
     "end_time": "2023-08-24T17:25:40.054658800Z",
     "start_time": "2023-08-24T17:25:40.024739900Z"
    }
   },
   "outputs": [
    {
     "data": {
      "text/plain": "          forecasters\nh0   h1              \nh0_0 h1_0     ARIMA()\n     h1_1     ARIMA()\n     h1_2     ARIMA()\n     h1_3     ARIMA()\nh0_1 h1_0     ARIMA()\n     h1_1     ARIMA()\n     h1_2     ARIMA()\n     h1_3     ARIMA()",
      "text/html": "<div>\n<style scoped>\n    .dataframe tbody tr th:only-of-type {\n        vertical-align: middle;\n    }\n\n    .dataframe tbody tr th {\n        vertical-align: top;\n    }\n\n    .dataframe thead th {\n        text-align: right;\n    }\n</style>\n<table border=\"1\" class=\"dataframe\">\n  <thead>\n    <tr style=\"text-align: right;\">\n      <th></th>\n      <th></th>\n      <th>forecasters</th>\n    </tr>\n    <tr>\n      <th>h0</th>\n      <th>h1</th>\n      <th></th>\n    </tr>\n  </thead>\n  <tbody>\n    <tr>\n      <th rowspan=\"4\" valign=\"top\">h0_0</th>\n      <th>h1_0</th>\n      <td>ARIMA()</td>\n    </tr>\n    <tr>\n      <th>h1_1</th>\n      <td>ARIMA()</td>\n    </tr>\n    <tr>\n      <th>h1_2</th>\n      <td>ARIMA()</td>\n    </tr>\n    <tr>\n      <th>h1_3</th>\n      <td>ARIMA()</td>\n    </tr>\n    <tr>\n      <th rowspan=\"4\" valign=\"top\">h0_1</th>\n      <th>h1_0</th>\n      <td>ARIMA()</td>\n    </tr>\n    <tr>\n      <th>h1_1</th>\n      <td>ARIMA()</td>\n    </tr>\n    <tr>\n      <th>h1_2</th>\n      <td>ARIMA()</td>\n    </tr>\n    <tr>\n      <th>h1_3</th>\n      <td>ARIMA()</td>\n    </tr>\n  </tbody>\n</table>\n</div>"
     },
     "execution_count": 9,
     "metadata": {},
     "output_type": "execute_result"
    }
   ],
   "source": [
    "forecaster.forecasters_"
   ]
  },
  {
   "cell_type": "markdown",
   "metadata": {},
   "source": [
    "to access or inspect individual forecasters, access elements of the `forecasters_` data frame:"
   ]
  },
  {
   "cell_type": "code",
   "execution_count": 10,
   "metadata": {
    "ExecuteTime": {
     "end_time": "2023-08-24T17:25:40.183012600Z",
     "start_time": "2023-08-24T17:25:40.038701800Z"
    }
   },
   "outputs": [
    {
     "data": {
      "text/plain": "<class 'statsmodels.iolib.summary.Summary'>\n\"\"\"\n                               SARIMAX Results                                \n==============================================================================\nDep. Variable:                      y   No. Observations:                   12\nModel:               SARIMAX(1, 0, 0)   Log Likelihood                 -14.602\nDate:                Thu, 12 Oct 2023   AIC                             35.205\nTime:                        14:21:08   BIC                             36.660\nSample:                    01-01-2000   HQIC                            34.666\n                         - 01-12-2000                                         \nCovariance Type:                  opg                                         \n==============================================================================\n                 coef    std err          z      P>|z|      [0.025      0.975]\n------------------------------------------------------------------------------\nintercept      4.2318      1.778      2.380      0.017       0.747       7.716\nar.L1         -0.2964      0.479     -0.618      0.536      -1.236       0.643\nsigma2         0.6625      0.321      2.066      0.039       0.034       1.291\n===================================================================================\nLjung-Box (L1) (Q):                   0.27   Jarque-Bera (JB):                 0.11\nProb(Q):                              0.60   Prob(JB):                         0.94\nHeteroskedasticity (H):               0.18   Skew:                            -0.24\nProb(H) (two-sided):                  0.13   Kurtosis:                         3.02\n===================================================================================\n\nWarnings:\n[1] Covariance matrix calculated using the outer product of gradients (complex-step).\n\"\"\"",
      "text/html": "<table class=\"simpletable\">\n<caption>SARIMAX Results</caption>\n<tr>\n  <th>Dep. Variable:</th>           <td>y</td>        <th>  No. Observations:  </th>   <td>12</td>   \n</tr>\n<tr>\n  <th>Model:</th>           <td>SARIMAX(1, 0, 0)</td> <th>  Log Likelihood     </th> <td>-14.602</td>\n</tr>\n<tr>\n  <th>Date:</th>            <td>Thu, 12 Oct 2023</td> <th>  AIC                </th> <td>35.205</td> \n</tr>\n<tr>\n  <th>Time:</th>                <td>14:21:08</td>     <th>  BIC                </th> <td>36.660</td> \n</tr>\n<tr>\n  <th>Sample:</th>             <td>01-01-2000</td>    <th>  HQIC               </th> <td>34.666</td> \n</tr>\n<tr>\n  <th></th>                   <td>- 01-12-2000</td>   <th>                     </th>    <td> </td>   \n</tr>\n<tr>\n  <th>Covariance Type:</th>        <td>opg</td>       <th>                     </th>    <td> </td>   \n</tr>\n</table>\n<table class=\"simpletable\">\n<tr>\n      <td></td>         <th>coef</th>     <th>std err</th>      <th>z</th>      <th>P>|z|</th>  <th>[0.025</th>    <th>0.975]</th>  \n</tr>\n<tr>\n  <th>intercept</th> <td>    4.2318</td> <td>    1.778</td> <td>    2.380</td> <td> 0.017</td> <td>    0.747</td> <td>    7.716</td>\n</tr>\n<tr>\n  <th>ar.L1</th>     <td>   -0.2964</td> <td>    0.479</td> <td>   -0.618</td> <td> 0.536</td> <td>   -1.236</td> <td>    0.643</td>\n</tr>\n<tr>\n  <th>sigma2</th>    <td>    0.6625</td> <td>    0.321</td> <td>    2.066</td> <td> 0.039</td> <td>    0.034</td> <td>    1.291</td>\n</tr>\n</table>\n<table class=\"simpletable\">\n<tr>\n  <th>Ljung-Box (L1) (Q):</th>     <td>0.27</td> <th>  Jarque-Bera (JB):  </th> <td>0.11</td> \n</tr>\n<tr>\n  <th>Prob(Q):</th>                <td>0.60</td> <th>  Prob(JB):          </th> <td>0.94</td> \n</tr>\n<tr>\n  <th>Heteroskedasticity (H):</th> <td>0.18</td> <th>  Skew:              </th> <td>-0.24</td>\n</tr>\n<tr>\n  <th>Prob(H) (two-sided):</th>    <td>0.13</td> <th>  Kurtosis:          </th> <td>3.02</td> \n</tr>\n</table><br/><br/>Warnings:<br/>[1] Covariance matrix calculated using the outer product of gradients (complex-step)."
     },
     "execution_count": 10,
     "metadata": {},
     "output_type": "execute_result"
    }
   ],
   "source": [
    "forecaster.forecasters_.iloc[0, 0].summary()"
   ]
  },
  {
   "cell_type": "markdown",
   "metadata": {},
   "source": [
    "auto-vectorization is also performed for probabilistic forecasts (see notebook 2):"
   ]
  },
  {
   "cell_type": "code",
   "execution_count": 11,
   "metadata": {
    "ExecuteTime": {
     "end_time": "2023-08-24T17:25:40.339103100Z",
     "start_time": "2023-08-24T17:25:40.075602400Z"
    }
   },
   "outputs": [
    {
     "data": {
      "text/plain": "                      Coverage          \n                           0.9          \n                         lower     upper\nh0   h1   time                          \nh0_0 h1_0 2000-01-13  1.863195  4.540724\n          2000-01-14  1.886552  4.679187\n     h1_1 2000-01-13  1.245132  4.416298\n          2000-01-14  1.158928  4.389029\n     h1_2 2000-01-13  0.943287  4.556249\n          2000-01-14  0.887113  4.534272\n     h1_3 2000-01-13  1.770420  4.199814\n          2000-01-14  2.424275  5.194582\nh0_1 h1_0 2000-01-13  1.900063  4.637260\n          2000-01-14  1.884217  4.752598\n     h1_1 2000-01-13  2.057670  4.062294\n          2000-01-14  1.923455  3.982729\n     h1_2 2000-01-13  1.712396  4.374801\n          2000-01-14  2.023090  4.950639\n     h1_3 2000-01-13  1.555702  4.043467\n          2000-01-14  1.478920  4.011087",
      "text/html": "<div>\n<style scoped>\n    .dataframe tbody tr th:only-of-type {\n        vertical-align: middle;\n    }\n\n    .dataframe tbody tr th {\n        vertical-align: top;\n    }\n\n    .dataframe thead tr th {\n        text-align: left;\n    }\n\n    .dataframe thead tr:last-of-type th {\n        text-align: right;\n    }\n</style>\n<table border=\"1\" class=\"dataframe\">\n  <thead>\n    <tr>\n      <th></th>\n      <th></th>\n      <th></th>\n      <th colspan=\"2\" halign=\"left\">Coverage</th>\n    </tr>\n    <tr>\n      <th></th>\n      <th></th>\n      <th></th>\n      <th colspan=\"2\" halign=\"left\">0.9</th>\n    </tr>\n    <tr>\n      <th></th>\n      <th></th>\n      <th></th>\n      <th>lower</th>\n      <th>upper</th>\n    </tr>\n    <tr>\n      <th>h0</th>\n      <th>h1</th>\n      <th>time</th>\n      <th></th>\n      <th></th>\n    </tr>\n  </thead>\n  <tbody>\n    <tr>\n      <th rowspan=\"8\" valign=\"top\">h0_0</th>\n      <th rowspan=\"2\" valign=\"top\">h1_0</th>\n      <th>2000-01-13</th>\n      <td>1.863195</td>\n      <td>4.540724</td>\n    </tr>\n    <tr>\n      <th>2000-01-14</th>\n      <td>1.886552</td>\n      <td>4.679187</td>\n    </tr>\n    <tr>\n      <th rowspan=\"2\" valign=\"top\">h1_1</th>\n      <th>2000-01-13</th>\n      <td>1.245132</td>\n      <td>4.416298</td>\n    </tr>\n    <tr>\n      <th>2000-01-14</th>\n      <td>1.158928</td>\n      <td>4.389029</td>\n    </tr>\n    <tr>\n      <th rowspan=\"2\" valign=\"top\">h1_2</th>\n      <th>2000-01-13</th>\n      <td>0.943287</td>\n      <td>4.556249</td>\n    </tr>\n    <tr>\n      <th>2000-01-14</th>\n      <td>0.887113</td>\n      <td>4.534272</td>\n    </tr>\n    <tr>\n      <th rowspan=\"2\" valign=\"top\">h1_3</th>\n      <th>2000-01-13</th>\n      <td>1.770420</td>\n      <td>4.199814</td>\n    </tr>\n    <tr>\n      <th>2000-01-14</th>\n      <td>2.424275</td>\n      <td>5.194582</td>\n    </tr>\n    <tr>\n      <th rowspan=\"8\" valign=\"top\">h0_1</th>\n      <th rowspan=\"2\" valign=\"top\">h1_0</th>\n      <th>2000-01-13</th>\n      <td>1.900063</td>\n      <td>4.637260</td>\n    </tr>\n    <tr>\n      <th>2000-01-14</th>\n      <td>1.884217</td>\n      <td>4.752598</td>\n    </tr>\n    <tr>\n      <th rowspan=\"2\" valign=\"top\">h1_1</th>\n      <th>2000-01-13</th>\n      <td>2.057670</td>\n      <td>4.062294</td>\n    </tr>\n    <tr>\n      <th>2000-01-14</th>\n      <td>1.923455</td>\n      <td>3.982729</td>\n    </tr>\n    <tr>\n      <th rowspan=\"2\" valign=\"top\">h1_2</th>\n      <th>2000-01-13</th>\n      <td>1.712396</td>\n      <td>4.374801</td>\n    </tr>\n    <tr>\n      <th>2000-01-14</th>\n      <td>2.023090</td>\n      <td>4.950639</td>\n    </tr>\n    <tr>\n      <th rowspan=\"2\" valign=\"top\">h1_3</th>\n      <th>2000-01-13</th>\n      <td>1.555702</td>\n      <td>4.043467</td>\n    </tr>\n    <tr>\n      <th>2000-01-14</th>\n      <td>1.478920</td>\n      <td>4.011087</td>\n    </tr>\n  </tbody>\n</table>\n</div>"
     },
     "execution_count": 11,
     "metadata": {},
     "output_type": "execute_result"
    }
   ],
   "source": [
    "forecaster.predict_interval()"
   ]
  },
  {
   "cell_type": "markdown",
   "metadata": {},
   "source": [
    "which level a forecaster/natively implements and when vectorization occurs is determined by the \"inner type\" attributes.\n",
    "\n",
    "For forecasters, inspect `y_inner_type`, this is a list of internally supported data\n",
    "types:"
   ]
  },
  {
   "cell_type": "code",
   "execution_count": 12,
   "metadata": {
    "ExecuteTime": {
     "end_time": "2023-08-24T17:25:40.339103100Z",
     "start_time": "2023-08-24T17:25:40.201962Z"
    }
   },
   "outputs": [
    {
     "data": {
      "text/plain": "'pd.Series'"
     },
     "execution_count": 12,
     "metadata": {},
     "output_type": "execute_result"
    }
   ],
   "source": [
    "forecaster.get_tag(\"y_inner_type\")"
   ]
  },
  {
   "cell_type": "markdown",
   "metadata": {},
   "source": [
    "ARIMA supports only one `Series` level mtype.\n",
    "For a register of all mtype codes and their corresponding scitype (series, panel or hierarchical),\\\n",
    "see `aeon.datatypes.MTYPE_REGISTER` (convert to `pandas.DataFrame` for pretty-printing)"
   ]
  },
  {
   "cell_type": "code",
   "execution_count": 13,
   "metadata": {
    "ExecuteTime": {
     "end_time": "2023-08-24T17:25:40.340100500Z",
     "start_time": "2023-08-24T17:25:40.206948700Z"
    }
   },
   "outputs": [
    {
     "data": {
      "text/plain": "                     0             1  \\\n0            pd.Series        Series   \n1         pd.DataFrame        Series   \n2           np.ndarray        Series   \n3         xr.DataArray        Series   \n4          dask_series        Series   \n5          nested_univ         Panel   \n6              numpy3D         Panel   \n7            numpy2D         Panel   \n8        pd-multiindex         Panel   \n9              pd-wide         Panel   \n10             pd-long         Panel   \n11             df-list         Panel   \n12          dask_panel         Panel   \n13             np-list         Panel   \n14  pd_multiindex_hier  Hierarchical   \n15   dask_hierarchical  Hierarchical   \n16           alignment     Alignment   \n17       alignment_loc     Alignment   \n18  pd_DataFrame_Table         Table   \n19             numpy1D         Table   \n20             numpy2D         Table   \n21     pd_Series_Table         Table   \n22        list_of_dict         Table   \n23       pred_interval         Proba   \n24      pred_quantiles         Proba   \n25            pred_var         Proba   \n\n                                                    2  \n0     pd.Series representation of a univariate series  \n1   pd.DataFrame representation of a uni- or multi...  \n2   2D numpy.ndarray with rows=samples, cols=varia...  \n3   xr.DataArray representation of a uni- or multi...  \n4   xdas representation of a uni- or multivariate ...  \n5   pd.DataFrame with one column per channel, pd.S...  \n6   3D np.ndarray of format (n_cases, n_channels, ...  \n7   2D np.ndarray of format (n_cases, n_channels*n...  \n8   pd.DataFrame with multi-index (instances, time...  \n9   pd.DataFrame in wide format, cols = (instance*...  \n10  pd.DataFrame in long format, cols = (index, ti...  \n11                               list of pd.DataFrame  \n12  dask frame with one instance and one time inde...  \n13  list of length [n_cases], each case a 2D np.nd...  \n14                       pd.DataFrame with MultiIndex  \n15  dask frame with multiple hierarchical indices,...  \n16  pd.DataFrame in alignment format, values are i...  \n17  pd.DataFrame in alignment format, values are l...  \n18        pd.DataFrame representation of a data table  \n19  1D np.narray representation of a univariate table  \n20  2D np.narray representation of a univariate table  \n21           pd.Series representation of a data table  \n22        list of dictionaries with primitive entries  \n23                               predictive intervals  \n24                               quantile predictions  \n25                               variance predictions  ",
      "text/html": "<div>\n<style scoped>\n    .dataframe tbody tr th:only-of-type {\n        vertical-align: middle;\n    }\n\n    .dataframe tbody tr th {\n        vertical-align: top;\n    }\n\n    .dataframe thead th {\n        text-align: right;\n    }\n</style>\n<table border=\"1\" class=\"dataframe\">\n  <thead>\n    <tr style=\"text-align: right;\">\n      <th></th>\n      <th>0</th>\n      <th>1</th>\n      <th>2</th>\n    </tr>\n  </thead>\n  <tbody>\n    <tr>\n      <th>0</th>\n      <td>pd.Series</td>\n      <td>Series</td>\n      <td>pd.Series representation of a univariate series</td>\n    </tr>\n    <tr>\n      <th>1</th>\n      <td>pd.DataFrame</td>\n      <td>Series</td>\n      <td>pd.DataFrame representation of a uni- or multi...</td>\n    </tr>\n    <tr>\n      <th>2</th>\n      <td>np.ndarray</td>\n      <td>Series</td>\n      <td>2D numpy.ndarray with rows=samples, cols=varia...</td>\n    </tr>\n    <tr>\n      <th>3</th>\n      <td>xr.DataArray</td>\n      <td>Series</td>\n      <td>xr.DataArray representation of a uni- or multi...</td>\n    </tr>\n    <tr>\n      <th>4</th>\n      <td>dask_series</td>\n      <td>Series</td>\n      <td>xdas representation of a uni- or multivariate ...</td>\n    </tr>\n    <tr>\n      <th>5</th>\n      <td>nested_univ</td>\n      <td>Panel</td>\n      <td>pd.DataFrame with one column per channel, pd.S...</td>\n    </tr>\n    <tr>\n      <th>6</th>\n      <td>numpy3D</td>\n      <td>Panel</td>\n      <td>3D np.ndarray of format (n_cases, n_channels, ...</td>\n    </tr>\n    <tr>\n      <th>7</th>\n      <td>numpy2D</td>\n      <td>Panel</td>\n      <td>2D np.ndarray of format (n_cases, n_channels*n...</td>\n    </tr>\n    <tr>\n      <th>8</th>\n      <td>pd-multiindex</td>\n      <td>Panel</td>\n      <td>pd.DataFrame with multi-index (instances, time...</td>\n    </tr>\n    <tr>\n      <th>9</th>\n      <td>pd-wide</td>\n      <td>Panel</td>\n      <td>pd.DataFrame in wide format, cols = (instance*...</td>\n    </tr>\n    <tr>\n      <th>10</th>\n      <td>pd-long</td>\n      <td>Panel</td>\n      <td>pd.DataFrame in long format, cols = (index, ti...</td>\n    </tr>\n    <tr>\n      <th>11</th>\n      <td>df-list</td>\n      <td>Panel</td>\n      <td>list of pd.DataFrame</td>\n    </tr>\n    <tr>\n      <th>12</th>\n      <td>dask_panel</td>\n      <td>Panel</td>\n      <td>dask frame with one instance and one time inde...</td>\n    </tr>\n    <tr>\n      <th>13</th>\n      <td>np-list</td>\n      <td>Panel</td>\n      <td>list of length [n_cases], each case a 2D np.nd...</td>\n    </tr>\n    <tr>\n      <th>14</th>\n      <td>pd_multiindex_hier</td>\n      <td>Hierarchical</td>\n      <td>pd.DataFrame with MultiIndex</td>\n    </tr>\n    <tr>\n      <th>15</th>\n      <td>dask_hierarchical</td>\n      <td>Hierarchical</td>\n      <td>dask frame with multiple hierarchical indices,...</td>\n    </tr>\n    <tr>\n      <th>16</th>\n      <td>alignment</td>\n      <td>Alignment</td>\n      <td>pd.DataFrame in alignment format, values are i...</td>\n    </tr>\n    <tr>\n      <th>17</th>\n      <td>alignment_loc</td>\n      <td>Alignment</td>\n      <td>pd.DataFrame in alignment format, values are l...</td>\n    </tr>\n    <tr>\n      <th>18</th>\n      <td>pd_DataFrame_Table</td>\n      <td>Table</td>\n      <td>pd.DataFrame representation of a data table</td>\n    </tr>\n    <tr>\n      <th>19</th>\n      <td>numpy1D</td>\n      <td>Table</td>\n      <td>1D np.narray representation of a univariate table</td>\n    </tr>\n    <tr>\n      <th>20</th>\n      <td>numpy2D</td>\n      <td>Table</td>\n      <td>2D np.narray representation of a univariate table</td>\n    </tr>\n    <tr>\n      <th>21</th>\n      <td>pd_Series_Table</td>\n      <td>Table</td>\n      <td>pd.Series representation of a data table</td>\n    </tr>\n    <tr>\n      <th>22</th>\n      <td>list_of_dict</td>\n      <td>Table</td>\n      <td>list of dictionaries with primitive entries</td>\n    </tr>\n    <tr>\n      <th>23</th>\n      <td>pred_interval</td>\n      <td>Proba</td>\n      <td>predictive intervals</td>\n    </tr>\n    <tr>\n      <th>24</th>\n      <td>pred_quantiles</td>\n      <td>Proba</td>\n      <td>quantile predictions</td>\n    </tr>\n    <tr>\n      <th>25</th>\n      <td>pred_var</td>\n      <td>Proba</td>\n      <td>variance predictions</td>\n    </tr>\n  </tbody>\n</table>\n</div>"
     },
     "execution_count": 13,
     "metadata": {},
     "output_type": "execute_result"
    }
   ],
   "source": [
    "import pandas as pd\n",
    "\n",
    "from aeon.datatypes import MTYPE_REGISTER\n",
    "\n",
    "pd.DataFrame(MTYPE_REGISTER)"
   ]
  },
  {
   "cell_type": "markdown",
   "metadata": {},
   "source": [
    "roadmap items:\n",
    "\n",
    "* interfacing and implementing common methods with native hierarchical support\n",
    "    * ARIMA using hierarchy factors, GEE, mixed effects\n",
    "* wrappers for \"using hierarchy levels\" as covariates or exogeneous features\n",
    "* full vectorization over variables to render univariate forecasters multivariate\n",
    "\n",
    "contributions are appreciated!"
   ]
  },
  {
   "cell_type": "markdown",
   "metadata": {},
   "source": [
    "---\n",
    "\n",
    "### Hierarchical reconciliation\n",
    "\n",
    "#### Why do we need hierarchical reconciliation?\n",
    "\n",
    "forecast reconciliation = ensuring that linear hierarchy dependencies are met,\n",
    "e.g., \"sum of individual shop sales in Berlin must equal sum of total sales in Berlin\"\n",
    "requires hierarchical (or panel) data, usually involves totals\n",
    "\n",
    "**Bottom up reconciliation** works by producing only forecasts at the lowest level and then adding up to totals across all higher levels.\n",
    "\n",
    "    * Arguably the most simple of all algorithms to reconcile across hierarchies.\n",
    "    * Advantages: easy to implement\n",
    "    * Disadvantages: lower levels of hierarchy are prone to excess volatility. This excess volatility is aggregated up, often producing much less accurate top level forecasts.\n",
    "\n",
    "**Top down reconciliation** works by producing top level forecasts and breaking them down to  the lowest level based e.g. on relative proportions of those lower levels.\n",
    "\n",
    "    * Advantages: still easy to implement, top level is stable\n",
    "    * Disadvantages: peculiarities of lower levels of hierarchy ignored\n",
    "\n",
    "**Optimal forecast reconciliation** works by producing forecasts at all levels of the hierarchy and adjusting all of them in a way that seeks to minimize the forecast errors\n",
    "\n",
    "    * Advantages: often found to be most accurate implementation\n",
    "    * Disadvantages: more difficult to implement"
   ]
  },
  {
   "cell_type": "markdown",
   "metadata": {},
   "source": [
    "`aeon` provides functionality for reconciliation:\n",
    "\n",
    "* data container convention for node-wise aggregates\n",
    "* functionality to compute node-wise aggregates - `Aggregator`\n",
    "    * can be used for bottom-up reconciliation\n",
    "* transformer implementing reconiliation logic - `Reconciler`\n",
    "    * implements top-down reconciliation\n",
    "    * implements transformer-like optimal forecast reconciliation"
   ]
  },
  {
   "cell_type": "markdown",
   "metadata": {},
   "source": [
    "#### The node-wise aggregate data format"
   ]
  },
  {
   "cell_type": "markdown",
   "metadata": {},
   "source": [
    "`aeon` uses a special case of the `pd_multiindex_hier` format to store node-wise aggregates:\n",
    "\n",
    "* a `__total` index element in an instance (non-time-like) level indicates summation over all instances below that level\n",
    "* the `__total` index element is reserved and cannot be used for anything else\n",
    "* entries below a `__total` index element are sums of entries over all other instances in the same levels where a `__total` element is found"
   ]
  },
  {
   "cell_type": "markdown",
   "metadata": {},
   "source": [
    "#### The aggregation transformer\n",
    "\n",
    "The node-wise aggregated format can be obtained by applying the `Aggregator` transformer.\n",
    "\n",
    "In a pipeline with non-aggregate dinput, this allows making forecasts by totals."
   ]
  },
  {
   "cell_type": "code",
   "execution_count": 14,
   "metadata": {
    "ExecuteTime": {
     "end_time": "2023-08-24T17:25:40.340100500Z",
     "start_time": "2023-08-24T17:25:40.215924800Z"
    }
   },
   "outputs": [
    {
     "data": {
      "text/plain": "                    var_0\nfoo bar timepoints       \na   0   0               1\n        1               2\n        2               3\n    1   0               1\n        1               2\n        2               3\n    2   0               1\n        1               2\n        2               3\nb   0   0               1\n        1               2\n        2               3\n    1   0               1\n        1               2\n        2               3\n    2   0               1\n        1               2\n        2               3",
      "text/html": "<div>\n<style scoped>\n    .dataframe tbody tr th:only-of-type {\n        vertical-align: middle;\n    }\n\n    .dataframe tbody tr th {\n        vertical-align: top;\n    }\n\n    .dataframe thead th {\n        text-align: right;\n    }\n</style>\n<table border=\"1\" class=\"dataframe\">\n  <thead>\n    <tr style=\"text-align: right;\">\n      <th></th>\n      <th></th>\n      <th></th>\n      <th>var_0</th>\n    </tr>\n    <tr>\n      <th>foo</th>\n      <th>bar</th>\n      <th>timepoints</th>\n      <th></th>\n    </tr>\n  </thead>\n  <tbody>\n    <tr>\n      <th rowspan=\"9\" valign=\"top\">a</th>\n      <th rowspan=\"3\" valign=\"top\">0</th>\n      <th>0</th>\n      <td>1</td>\n    </tr>\n    <tr>\n      <th>1</th>\n      <td>2</td>\n    </tr>\n    <tr>\n      <th>2</th>\n      <td>3</td>\n    </tr>\n    <tr>\n      <th rowspan=\"3\" valign=\"top\">1</th>\n      <th>0</th>\n      <td>1</td>\n    </tr>\n    <tr>\n      <th>1</th>\n      <td>2</td>\n    </tr>\n    <tr>\n      <th>2</th>\n      <td>3</td>\n    </tr>\n    <tr>\n      <th rowspan=\"3\" valign=\"top\">2</th>\n      <th>0</th>\n      <td>1</td>\n    </tr>\n    <tr>\n      <th>1</th>\n      <td>2</td>\n    </tr>\n    <tr>\n      <th>2</th>\n      <td>3</td>\n    </tr>\n    <tr>\n      <th rowspan=\"9\" valign=\"top\">b</th>\n      <th rowspan=\"3\" valign=\"top\">0</th>\n      <th>0</th>\n      <td>1</td>\n    </tr>\n    <tr>\n      <th>1</th>\n      <td>2</td>\n    </tr>\n    <tr>\n      <th>2</th>\n      <td>3</td>\n    </tr>\n    <tr>\n      <th rowspan=\"3\" valign=\"top\">1</th>\n      <th>0</th>\n      <td>1</td>\n    </tr>\n    <tr>\n      <th>1</th>\n      <td>2</td>\n    </tr>\n    <tr>\n      <th>2</th>\n      <td>3</td>\n    </tr>\n    <tr>\n      <th rowspan=\"3\" valign=\"top\">2</th>\n      <th>0</th>\n      <td>1</td>\n    </tr>\n    <tr>\n      <th>1</th>\n      <td>2</td>\n    </tr>\n    <tr>\n      <th>2</th>\n      <td>3</td>\n    </tr>\n  </tbody>\n</table>\n</div>"
     },
     "execution_count": 14,
     "metadata": {},
     "output_type": "execute_result"
    }
   ],
   "source": [
    "from aeon.datatypes import get_examples\n",
    "\n",
    "y_hier = get_examples(\"pd_multiindex_hier\")[1]\n",
    "y_hier"
   ]
  },
  {
   "cell_type": "code",
   "execution_count": 15,
   "metadata": {
    "ExecuteTime": {
     "end_time": "2023-08-24T17:25:40.357562800Z",
     "start_time": "2023-08-24T17:25:40.224900300Z"
    }
   },
   "outputs": [
    {
     "data": {
      "text/plain": "                            var_0\nfoo     bar     timepoints       \n__total __total 0               6\n                1              12\n                2              18\na       0       0               1\n                1               2\n                2               3\n        1       0               1\n                1               2\n                2               3\n        2       0               1\n                1               2\n                2               3\n        __total 0               3\n                1               6\n                2               9\nb       0       0               1\n                1               2\n                2               3\n        1       0               1\n                1               2\n                2               3\n        2       0               1\n                1               2\n                2               3\n        __total 0               3\n                1               6\n                2               9",
      "text/html": "<div>\n<style scoped>\n    .dataframe tbody tr th:only-of-type {\n        vertical-align: middle;\n    }\n\n    .dataframe tbody tr th {\n        vertical-align: top;\n    }\n\n    .dataframe thead th {\n        text-align: right;\n    }\n</style>\n<table border=\"1\" class=\"dataframe\">\n  <thead>\n    <tr style=\"text-align: right;\">\n      <th></th>\n      <th></th>\n      <th></th>\n      <th>var_0</th>\n    </tr>\n    <tr>\n      <th>foo</th>\n      <th>bar</th>\n      <th>timepoints</th>\n      <th></th>\n    </tr>\n  </thead>\n  <tbody>\n    <tr>\n      <th rowspan=\"3\" valign=\"top\">__total</th>\n      <th rowspan=\"3\" valign=\"top\">__total</th>\n      <th>0</th>\n      <td>6</td>\n    </tr>\n    <tr>\n      <th>1</th>\n      <td>12</td>\n    </tr>\n    <tr>\n      <th>2</th>\n      <td>18</td>\n    </tr>\n    <tr>\n      <th rowspan=\"12\" valign=\"top\">a</th>\n      <th rowspan=\"3\" valign=\"top\">0</th>\n      <th>0</th>\n      <td>1</td>\n    </tr>\n    <tr>\n      <th>1</th>\n      <td>2</td>\n    </tr>\n    <tr>\n      <th>2</th>\n      <td>3</td>\n    </tr>\n    <tr>\n      <th rowspan=\"3\" valign=\"top\">1</th>\n      <th>0</th>\n      <td>1</td>\n    </tr>\n    <tr>\n      <th>1</th>\n      <td>2</td>\n    </tr>\n    <tr>\n      <th>2</th>\n      <td>3</td>\n    </tr>\n    <tr>\n      <th rowspan=\"3\" valign=\"top\">2</th>\n      <th>0</th>\n      <td>1</td>\n    </tr>\n    <tr>\n      <th>1</th>\n      <td>2</td>\n    </tr>\n    <tr>\n      <th>2</th>\n      <td>3</td>\n    </tr>\n    <tr>\n      <th rowspan=\"3\" valign=\"top\">__total</th>\n      <th>0</th>\n      <td>3</td>\n    </tr>\n    <tr>\n      <th>1</th>\n      <td>6</td>\n    </tr>\n    <tr>\n      <th>2</th>\n      <td>9</td>\n    </tr>\n    <tr>\n      <th rowspan=\"12\" valign=\"top\">b</th>\n      <th rowspan=\"3\" valign=\"top\">0</th>\n      <th>0</th>\n      <td>1</td>\n    </tr>\n    <tr>\n      <th>1</th>\n      <td>2</td>\n    </tr>\n    <tr>\n      <th>2</th>\n      <td>3</td>\n    </tr>\n    <tr>\n      <th rowspan=\"3\" valign=\"top\">1</th>\n      <th>0</th>\n      <td>1</td>\n    </tr>\n    <tr>\n      <th>1</th>\n      <td>2</td>\n    </tr>\n    <tr>\n      <th>2</th>\n      <td>3</td>\n    </tr>\n    <tr>\n      <th rowspan=\"3\" valign=\"top\">2</th>\n      <th>0</th>\n      <td>1</td>\n    </tr>\n    <tr>\n      <th>1</th>\n      <td>2</td>\n    </tr>\n    <tr>\n      <th>2</th>\n      <td>3</td>\n    </tr>\n    <tr>\n      <th rowspan=\"3\" valign=\"top\">__total</th>\n      <th>0</th>\n      <td>3</td>\n    </tr>\n    <tr>\n      <th>1</th>\n      <td>6</td>\n    </tr>\n    <tr>\n      <th>2</th>\n      <td>9</td>\n    </tr>\n  </tbody>\n</table>\n</div>"
     },
     "execution_count": 15,
     "metadata": {},
     "output_type": "execute_result"
    }
   ],
   "source": [
    "from aeon.transformations.hierarchical.aggregate import Aggregator\n",
    "\n",
    "Aggregator().fit_transform(y_hier)"
   ]
  },
  {
   "cell_type": "markdown",
   "metadata": {},
   "source": [
    "If used at the start of a pipeline, forecasts are made for node `__total`-s as well as individual instances.\n",
    "\n",
    "Note: in general, this does not result in a reconciled forecast, i.e., forecast totals will not add up."
   ]
  },
  {
   "cell_type": "code",
   "execution_count": 16,
   "metadata": {
    "ExecuteTime": {
     "end_time": "2023-08-24T17:25:40.776973300Z",
     "start_time": "2023-08-24T17:25:40.312176200Z"
    }
   },
   "outputs": [
    {
     "data": {
      "text/plain": "                            var_0\nfoo     bar     timepoints       \n__total __total 3              18\n                4              18\na       0       3               3\n                4               3\n        1       3               3\n                4               3\n        2       3               3\n                4               3\n        __total 3               9\n                4               9\nb       0       3               3\n                4               3\n        1       3               3\n                4               3\n        2       3               3\n                4               3\n        __total 3               9\n                4               9",
      "text/html": "<div>\n<style scoped>\n    .dataframe tbody tr th:only-of-type {\n        vertical-align: middle;\n    }\n\n    .dataframe tbody tr th {\n        vertical-align: top;\n    }\n\n    .dataframe thead th {\n        text-align: right;\n    }\n</style>\n<table border=\"1\" class=\"dataframe\">\n  <thead>\n    <tr style=\"text-align: right;\">\n      <th></th>\n      <th></th>\n      <th></th>\n      <th>var_0</th>\n    </tr>\n    <tr>\n      <th>foo</th>\n      <th>bar</th>\n      <th>timepoints</th>\n      <th></th>\n    </tr>\n  </thead>\n  <tbody>\n    <tr>\n      <th rowspan=\"2\" valign=\"top\">__total</th>\n      <th rowspan=\"2\" valign=\"top\">__total</th>\n      <th>3</th>\n      <td>18</td>\n    </tr>\n    <tr>\n      <th>4</th>\n      <td>18</td>\n    </tr>\n    <tr>\n      <th rowspan=\"8\" valign=\"top\">a</th>\n      <th rowspan=\"2\" valign=\"top\">0</th>\n      <th>3</th>\n      <td>3</td>\n    </tr>\n    <tr>\n      <th>4</th>\n      <td>3</td>\n    </tr>\n    <tr>\n      <th rowspan=\"2\" valign=\"top\">1</th>\n      <th>3</th>\n      <td>3</td>\n    </tr>\n    <tr>\n      <th>4</th>\n      <td>3</td>\n    </tr>\n    <tr>\n      <th rowspan=\"2\" valign=\"top\">2</th>\n      <th>3</th>\n      <td>3</td>\n    </tr>\n    <tr>\n      <th>4</th>\n      <td>3</td>\n    </tr>\n    <tr>\n      <th rowspan=\"2\" valign=\"top\">__total</th>\n      <th>3</th>\n      <td>9</td>\n    </tr>\n    <tr>\n      <th>4</th>\n      <td>9</td>\n    </tr>\n    <tr>\n      <th rowspan=\"8\" valign=\"top\">b</th>\n      <th rowspan=\"2\" valign=\"top\">0</th>\n      <th>3</th>\n      <td>3</td>\n    </tr>\n    <tr>\n      <th>4</th>\n      <td>3</td>\n    </tr>\n    <tr>\n      <th rowspan=\"2\" valign=\"top\">1</th>\n      <th>3</th>\n      <td>3</td>\n    </tr>\n    <tr>\n      <th>4</th>\n      <td>3</td>\n    </tr>\n    <tr>\n      <th rowspan=\"2\" valign=\"top\">2</th>\n      <th>3</th>\n      <td>3</td>\n    </tr>\n    <tr>\n      <th>4</th>\n      <td>3</td>\n    </tr>\n    <tr>\n      <th rowspan=\"2\" valign=\"top\">__total</th>\n      <th>3</th>\n      <td>9</td>\n    </tr>\n    <tr>\n      <th>4</th>\n      <td>9</td>\n    </tr>\n  </tbody>\n</table>\n</div>"
     },
     "execution_count": 16,
     "metadata": {},
     "output_type": "execute_result"
    }
   ],
   "source": [
    "from aeon.forecasting.naive import NaiveForecaster\n",
    "\n",
    "pipeline_to_forecast_totals = Aggregator() * NaiveForecaster()\n",
    "\n",
    "pipeline_to_forecast_totals.fit(y_hier, fh=[1, 2])\n",
    "pipeline_to_forecast_totals.predict()"
   ]
  },
  {
   "cell_type": "markdown",
   "metadata": {},
   "source": [
    "If used at the end of a pipeline, forecasts are reconciled bottom-up.\n",
    "\n",
    "That will result in a reconciled forecast, although bottom-up may not be the method of choice."
   ]
  },
  {
   "cell_type": "code",
   "execution_count": 17,
   "metadata": {
    "ExecuteTime": {
     "end_time": "2023-08-24T17:25:40.997866800Z",
     "start_time": "2023-08-24T17:25:40.758996600Z"
    }
   },
   "outputs": [
    {
     "data": {
      "text/plain": "                            var_0\nfoo     bar     timepoints       \n__total __total 3              18\n                4              18\na       0       3               3\n                4               3\n        1       3               3\n                4               3\n        2       3               3\n                4               3\n        __total 3               9\n                4               9\nb       0       3               3\n                4               3\n        1       3               3\n                4               3\n        2       3               3\n                4               3\n        __total 3               9\n                4               9",
      "text/html": "<div>\n<style scoped>\n    .dataframe tbody tr th:only-of-type {\n        vertical-align: middle;\n    }\n\n    .dataframe tbody tr th {\n        vertical-align: top;\n    }\n\n    .dataframe thead th {\n        text-align: right;\n    }\n</style>\n<table border=\"1\" class=\"dataframe\">\n  <thead>\n    <tr style=\"text-align: right;\">\n      <th></th>\n      <th></th>\n      <th></th>\n      <th>var_0</th>\n    </tr>\n    <tr>\n      <th>foo</th>\n      <th>bar</th>\n      <th>timepoints</th>\n      <th></th>\n    </tr>\n  </thead>\n  <tbody>\n    <tr>\n      <th rowspan=\"2\" valign=\"top\">__total</th>\n      <th rowspan=\"2\" valign=\"top\">__total</th>\n      <th>3</th>\n      <td>18</td>\n    </tr>\n    <tr>\n      <th>4</th>\n      <td>18</td>\n    </tr>\n    <tr>\n      <th rowspan=\"8\" valign=\"top\">a</th>\n      <th rowspan=\"2\" valign=\"top\">0</th>\n      <th>3</th>\n      <td>3</td>\n    </tr>\n    <tr>\n      <th>4</th>\n      <td>3</td>\n    </tr>\n    <tr>\n      <th rowspan=\"2\" valign=\"top\">1</th>\n      <th>3</th>\n      <td>3</td>\n    </tr>\n    <tr>\n      <th>4</th>\n      <td>3</td>\n    </tr>\n    <tr>\n      <th rowspan=\"2\" valign=\"top\">2</th>\n      <th>3</th>\n      <td>3</td>\n    </tr>\n    <tr>\n      <th>4</th>\n      <td>3</td>\n    </tr>\n    <tr>\n      <th rowspan=\"2\" valign=\"top\">__total</th>\n      <th>3</th>\n      <td>9</td>\n    </tr>\n    <tr>\n      <th>4</th>\n      <td>9</td>\n    </tr>\n    <tr>\n      <th rowspan=\"8\" valign=\"top\">b</th>\n      <th rowspan=\"2\" valign=\"top\">0</th>\n      <th>3</th>\n      <td>3</td>\n    </tr>\n    <tr>\n      <th>4</th>\n      <td>3</td>\n    </tr>\n    <tr>\n      <th rowspan=\"2\" valign=\"top\">1</th>\n      <th>3</th>\n      <td>3</td>\n    </tr>\n    <tr>\n      <th>4</th>\n      <td>3</td>\n    </tr>\n    <tr>\n      <th rowspan=\"2\" valign=\"top\">2</th>\n      <th>3</th>\n      <td>3</td>\n    </tr>\n    <tr>\n      <th>4</th>\n      <td>3</td>\n    </tr>\n    <tr>\n      <th rowspan=\"2\" valign=\"top\">__total</th>\n      <th>3</th>\n      <td>9</td>\n    </tr>\n    <tr>\n      <th>4</th>\n      <td>9</td>\n    </tr>\n  </tbody>\n</table>\n</div>"
     },
     "execution_count": 17,
     "metadata": {},
     "output_type": "execute_result"
    }
   ],
   "source": [
    "from aeon.forecasting.naive import NaiveForecaster\n",
    "\n",
    "pipeline_to_forecast_totals = NaiveForecaster() * Aggregator()\n",
    "\n",
    "pipeline_to_forecast_totals.fit(y_hier, fh=[1, 2])\n",
    "pipeline_to_forecast_totals.predict()"
   ]
  },
  {
   "cell_type": "markdown",
   "metadata": {},
   "source": [
    "#### Advanced reconciliation"
   ]
  },
  {
   "cell_type": "markdown",
   "metadata": {},
   "source": [
    "For transformer-like reconciliation, use the `Reconciler`.\n",
    "It supports advanced techniques such as OLS and WLS:"
   ]
  },
  {
   "cell_type": "code",
   "execution_count": 18,
   "metadata": {
    "ExecuteTime": {
     "end_time": "2023-08-24T17:25:41.002853600Z",
     "start_time": "2023-08-24T17:25:40.924554400Z"
    }
   },
   "outputs": [],
   "source": [
    "from aeon.transformations.hierarchical.reconcile import Reconciler\n",
    "\n",
    "pipeline_with_reconciliation = (\n",
    "    Aggregator() * NaiveForecaster() * Reconciler(method=\"ols\")\n",
    ")"
   ]
  },
  {
   "cell_type": "code",
   "execution_count": 19,
   "metadata": {
    "ExecuteTime": {
     "end_time": "2023-08-24T17:25:41.216283Z",
     "start_time": "2023-08-24T17:25:40.986814700Z"
    }
   },
   "outputs": [
    {
     "data": {
      "text/plain": "                            var_0\nfoo     bar     timepoints       \n__total __total 3              18\n                4              18\na       0       3               3\n                4               3\n        1       3               3\n                4               3\n        2       3               3\n                4               3\n        __total 3               9\n                4               9\nb       0       3               3\n                4               3\n        1       3               3\n                4               3\n        2       3               3\n                4               3\n        __total 3               9\n                4               9",
      "text/html": "<div>\n<style scoped>\n    .dataframe tbody tr th:only-of-type {\n        vertical-align: middle;\n    }\n\n    .dataframe tbody tr th {\n        vertical-align: top;\n    }\n\n    .dataframe thead th {\n        text-align: right;\n    }\n</style>\n<table border=\"1\" class=\"dataframe\">\n  <thead>\n    <tr style=\"text-align: right;\">\n      <th></th>\n      <th></th>\n      <th></th>\n      <th>var_0</th>\n    </tr>\n    <tr>\n      <th>foo</th>\n      <th>bar</th>\n      <th>timepoints</th>\n      <th></th>\n    </tr>\n  </thead>\n  <tbody>\n    <tr>\n      <th rowspan=\"2\" valign=\"top\">__total</th>\n      <th rowspan=\"2\" valign=\"top\">__total</th>\n      <th>3</th>\n      <td>18</td>\n    </tr>\n    <tr>\n      <th>4</th>\n      <td>18</td>\n    </tr>\n    <tr>\n      <th rowspan=\"8\" valign=\"top\">a</th>\n      <th rowspan=\"2\" valign=\"top\">0</th>\n      <th>3</th>\n      <td>3</td>\n    </tr>\n    <tr>\n      <th>4</th>\n      <td>3</td>\n    </tr>\n    <tr>\n      <th rowspan=\"2\" valign=\"top\">1</th>\n      <th>3</th>\n      <td>3</td>\n    </tr>\n    <tr>\n      <th>4</th>\n      <td>3</td>\n    </tr>\n    <tr>\n      <th rowspan=\"2\" valign=\"top\">2</th>\n      <th>3</th>\n      <td>3</td>\n    </tr>\n    <tr>\n      <th>4</th>\n      <td>3</td>\n    </tr>\n    <tr>\n      <th rowspan=\"2\" valign=\"top\">__total</th>\n      <th>3</th>\n      <td>9</td>\n    </tr>\n    <tr>\n      <th>4</th>\n      <td>9</td>\n    </tr>\n    <tr>\n      <th rowspan=\"8\" valign=\"top\">b</th>\n      <th rowspan=\"2\" valign=\"top\">0</th>\n      <th>3</th>\n      <td>3</td>\n    </tr>\n    <tr>\n      <th>4</th>\n      <td>3</td>\n    </tr>\n    <tr>\n      <th rowspan=\"2\" valign=\"top\">1</th>\n      <th>3</th>\n      <td>3</td>\n    </tr>\n    <tr>\n      <th>4</th>\n      <td>3</td>\n    </tr>\n    <tr>\n      <th rowspan=\"2\" valign=\"top\">2</th>\n      <th>3</th>\n      <td>3</td>\n    </tr>\n    <tr>\n      <th>4</th>\n      <td>3</td>\n    </tr>\n    <tr>\n      <th rowspan=\"2\" valign=\"top\">__total</th>\n      <th>3</th>\n      <td>9</td>\n    </tr>\n    <tr>\n      <th>4</th>\n      <td>9</td>\n    </tr>\n  </tbody>\n</table>\n</div>"
     },
     "execution_count": 19,
     "metadata": {},
     "output_type": "execute_result"
    }
   ],
   "source": [
    "pipeline_to_forecast_totals.fit(y_hier, fh=[1, 2])\n",
    "pipeline_to_forecast_totals.predict()"
   ]
  },
  {
   "cell_type": "markdown",
   "metadata": {},
   "source": [
    "Roadmap items:\n",
    "\n",
    "* reconciliation of wrapper type\n",
    "* reconciliation & global forecasting\n",
    "* probabilistic reconciliation"
   ]
  },
  {
   "cell_type": "markdown",
   "metadata": {},
   "source": [
    "---\n",
    "\n",
    "### Global/panel forecasting - introduction\n",
    "\n",
    "Global forecasting = training **across sets of time series**, i.e., on time series **panels**.\n",
    "Typically better than \"fit one forecaster per time series instance\".\n",
    "\n",
    "Also called \"panel forecasting\" for homogeneous/contemporaneous index sets.\n",
    "\n",
    " Why does global forecasting matter?\n",
    " * In practice, we often have time series of limited range\n",
    " * Estimation is difficult, and we cannot model complex dependencies\n",
    " * Assumption of global forecasting: We can observe the identical data generating process (DGP) multiple times\n",
    " * Non-identical DGPs can be fine too, as long as the degree of dissimilarity is captured by exogeneous information\n",
    " * Now we have much more information and can estimate more reliably and more complex models (caveat: unless complexity is purely driven by time dynamics)\n",
    "\n",
    "As a result of these advantages, global forecasting models have been very successful in competition, e.g.\n",
    "* Rossmann Store Sales\n",
    "* Walmart Sales in Stormy Weather\n",
    "* M5 competition\n",
    "\n",
    "Many business problems in practice are essentially global forecasting problem - often also reflecting hierarchical information (see above)\n",
    "* Product sales in different categories (e.g. M5 time series competition)\n",
    "* Balance sheet structures across cost centers / accounts\n",
    "* Dynamics of pandemics observed at different points in time\n",
    "\n",
    "Distinction to multivariate forecasting\n",
    "* Multivariate forecasting focuses on modeling interdependence between time series\n",
    "* Global can model interdependence, but focus lies on enhancing observation space\n",
    "\n",
    "Implementation in aeon\n",
    "* Multivariate forecasting models are supported in aeon via ? VAR...*\n",
    "* Global forecasting"
   ]
  },
  {
   "cell_type": "markdown",
   "metadata": {},
   "source": [
    "For the following example we will use the `\"pd-multiindex\"` representation of the `\"Panel\"` scitype (see above)\n",
    "\n",
    "Row multiindex level 0 is the unique identifier for the individual time series, level 1 contains the time index."
   ]
  },
  {
   "cell_type": "code",
   "execution_count": 20,
   "metadata": {
    "ExecuteTime": {
     "end_time": "2023-08-24T17:25:41.318010700Z",
     "start_time": "2023-08-24T17:25:41.095605800Z"
    }
   },
   "outputs": [],
   "source": [
    "import pandas as pd\n",
    "from sklearn.ensemble import RandomForestRegressor\n",
    "from sklearn.pipeline import make_pipeline\n",
    "\n",
    "from aeon.forecasting.compose import make_reduction\n",
    "from aeon.forecasting.model_selection import temporal_train_test_split\n",
    "from aeon.transformations.date import DateTimeFeatures\n",
    "\n",
    "pd.options.mode.chained_assignment = None\n",
    "pd.set_option(\"display.max_columns\", None)\n",
    "\n",
    "# %%\n",
    "# Load M5 Data and prepare\n",
    "y = pd.read_pickle(\"global_fc/y.pkl\")\n",
    "X = pd.read_pickle(\"global_fc/X.pkl\")"
   ]
  },
  {
   "cell_type": "markdown",
   "metadata": {},
   "source": [
    "`y`/`X` are based on the M5 competition.\n",
    "The data features sales of products in different stores, different states and different product categories.\n",
    "\n",
    "For a detailed analysis of the competition, please take a look at the paper\n",
    "\"M5 accuracy competition: Results, findings, and conclusions\".\n",
    "\n",
    "https://doi.org/10.1016/j.ijforecast.2021.11.013"
   ]
  },
  {
   "cell_type": "markdown",
   "metadata": {},
   "source": [
    "You can see\n",
    "a glimpse of the data here:"
   ]
  },
  {
   "cell_type": "code",
   "execution_count": 21,
   "metadata": {
    "ExecuteTime": {
     "end_time": "2023-08-24T17:25:41.324992300Z",
     "start_time": "2023-08-24T17:25:41.249195600Z"
    }
   },
   "outputs": [
    {
     "name": "stdout",
     "output_type": "stream",
     "text": [
      "                            y\n",
      "instances timepoints         \n",
      "1         2016-03-15   756.67\n",
      "          2016-03-16   679.13\n",
      "          2016-03-17   633.40\n",
      "          2016-03-18  1158.04\n",
      "          2016-03-19   914.24\n",
      "                      dept_id  cat_id  store_id  state_id  event_name_1  \\\n",
      "instances timepoints                                                      \n",
      "1         2016-03-15        1       1        10         3             1   \n",
      "          2016-03-16        1       1        10         3             1   \n",
      "          2016-03-17        1       1        10         3             7   \n",
      "          2016-03-18        1       1        10         3             1   \n",
      "          2016-03-19        1       1        10         3             1   \n",
      "\n",
      "                      event_type_1  event_name_2  event_type_2  snap  \\\n",
      "instances timepoints                                                   \n",
      "1         2016-03-15             1             1             1     3   \n",
      "          2016-03-16             1             1             1     0   \n",
      "          2016-03-17             3             1             1     0   \n",
      "          2016-03-18             1             1             1     0   \n",
      "          2016-03-19             1             1             1     0   \n",
      "\n",
      "                      no_stock_days  \n",
      "instances timepoints                 \n",
      "1         2016-03-15              0  \n",
      "          2016-03-16              0  \n",
      "          2016-03-17              0  \n",
      "          2016-03-18              0  \n",
      "          2016-03-19              0  \n"
     ]
    }
   ],
   "source": [
    "print(y.head())\n",
    "print(X.head())"
   ]
  },
  {
   "cell_type": "markdown",
   "metadata": {},
   "source": [
    "\n",
    "* time series grouped via the instances argument in the first column = Panel\n",
    "* focus on modeling individual products\n",
    "* hierarchical information is provided as exgoneous information.\n",
    "\n",
    "For the M5 competition, winning solution used exogeneous features about the hierarchies like `\"dept_id\"`, `\"store_id\"` etc. to capture similarities and dissimilarities of the products. Other features include holiday events and snap days (specific assisstance program of US social security paid on certain days)."
   ]
  },
  {
   "cell_type": "markdown",
   "metadata": {},
   "source": [
    "now split into test and train sets using `temporal_train_test_split`.\n",
    "We can cut every instance of the time series individually:\n"
   ]
  },
  {
   "cell_type": "code",
   "execution_count": 22,
   "metadata": {
    "ExecuteTime": {
     "end_time": "2023-08-24T17:25:41.375857500Z",
     "start_time": "2023-08-24T17:25:41.260165900Z"
    }
   },
   "outputs": [
    {
     "name": "stdout",
     "output_type": "stream",
     "text": [
      "                            y\n",
      "instances timepoints         \n",
      "1         2016-03-15   756.67\n",
      "          2016-03-16   679.13\n",
      "          2016-03-17   633.40\n",
      "          2016-03-18  1158.04\n",
      "          2016-03-19   914.24\n",
      "                            y\n",
      "instances timepoints         \n",
      "1         2016-04-14   874.57\n",
      "          2016-04-15   895.29\n",
      "          2016-04-16  1112.63\n",
      "          2016-04-17  1014.86\n",
      "          2016-04-18   691.91\n"
     ]
    }
   ],
   "source": [
    "y_train, y_test, X_train, X_test = temporal_train_test_split(y, X)\n",
    "print(y_train.head(5))\n",
    "print(y_test.head(5))"
   ]
  },
  {
   "cell_type": "markdown",
   "metadata": {},
   "source": [
    "both `y` and `X` are split in the same way, and hierarchy structures are preserved."
   ]
  },
  {
   "cell_type": "markdown",
   "metadata": {},
   "source": [
    "### Rationale for tree-based models\n",
    "\n",
    "Tree ensembles exploit complex non-linear relationships / dependencies between time series and covariates.\n",
    "\n",
    "In **univariate time series forecasting**, tree-based models often do not perform well due to lack of data.\n",
    "\n",
    "Due to large effective sample sizes in **global forecasting** , tree ensembles can become a good choice (e.g., 42,840 time series in the M5 competition).\n",
    "\n",
    "aeon can interface any sklearn compatible model via reduction, e.g., `RandomForestRegressor`."
   ]
  },
  {
   "cell_type": "code",
   "execution_count": 23,
   "metadata": {
    "ExecuteTime": {
     "end_time": "2023-08-24T17:25:41.376855Z",
     "start_time": "2023-08-24T17:25:41.282108500Z"
    }
   },
   "outputs": [],
   "source": [
    "regressor = make_pipeline(\n",
    "    RandomForestRegressor(random_state=1),\n",
    ")"
   ]
  },
  {
   "cell_type": "markdown",
   "metadata": {},
   "source": [
    "Caveat: reduction applies a supervised regressor to a time series, i.e., to a task for which they were not originally designed.\n",
    "\n",
    "This issue can be addressed by generating features that capture the dynamics of the time series.\\\n",
    "`\"WindowSummarizer\"` can be used to generate features useful for time series forecasting,\\\n",
    " based on a provided dictionary of functions, window shifts and window lengths:"
   ]
  },
  {
   "cell_type": "code",
   "execution_count": 24,
   "metadata": {
    "ExecuteTime": {
     "end_time": "2023-08-24T17:25:44.359470900Z",
     "start_time": "2023-08-24T17:25:41.287095100Z"
    }
   },
   "outputs": [
    {
     "data": {
      "text/plain": "                      y_lag_1   y_mean_1_3  y_mean_3_6   y_std_1_4\ninstances timepoints                                              \n1         2016-03-15      NaN          NaN         NaN         NaN\n          2016-03-16   756.67          NaN         NaN         NaN\n          2016-03-17   679.13          NaN         NaN         NaN\n          2016-03-18   633.40   689.733333         NaN         NaN\n          2016-03-19  1158.04   823.523333         NaN  239.617572\n          2016-03-20   914.24   901.893333         NaN  241.571143\n          2016-03-21   965.27  1012.516667         NaN  216.690775\n          2016-03-22   630.77   836.760000         NaN  217.842052\n          2016-03-23   702.79   766.276667  851.125000  161.669232\n          2016-03-24   728.15   687.236667  830.141667  145.007117",
      "text/html": "<div>\n<style scoped>\n    .dataframe tbody tr th:only-of-type {\n        vertical-align: middle;\n    }\n\n    .dataframe tbody tr th {\n        vertical-align: top;\n    }\n\n    .dataframe thead th {\n        text-align: right;\n    }\n</style>\n<table border=\"1\" class=\"dataframe\">\n  <thead>\n    <tr style=\"text-align: right;\">\n      <th></th>\n      <th></th>\n      <th>y_lag_1</th>\n      <th>y_mean_1_3</th>\n      <th>y_mean_3_6</th>\n      <th>y_std_1_4</th>\n    </tr>\n    <tr>\n      <th>instances</th>\n      <th>timepoints</th>\n      <th></th>\n      <th></th>\n      <th></th>\n      <th></th>\n    </tr>\n  </thead>\n  <tbody>\n    <tr>\n      <th rowspan=\"10\" valign=\"top\">1</th>\n      <th>2016-03-15</th>\n      <td>NaN</td>\n      <td>NaN</td>\n      <td>NaN</td>\n      <td>NaN</td>\n    </tr>\n    <tr>\n      <th>2016-03-16</th>\n      <td>756.67</td>\n      <td>NaN</td>\n      <td>NaN</td>\n      <td>NaN</td>\n    </tr>\n    <tr>\n      <th>2016-03-17</th>\n      <td>679.13</td>\n      <td>NaN</td>\n      <td>NaN</td>\n      <td>NaN</td>\n    </tr>\n    <tr>\n      <th>2016-03-18</th>\n      <td>633.40</td>\n      <td>689.733333</td>\n      <td>NaN</td>\n      <td>NaN</td>\n    </tr>\n    <tr>\n      <th>2016-03-19</th>\n      <td>1158.04</td>\n      <td>823.523333</td>\n      <td>NaN</td>\n      <td>239.617572</td>\n    </tr>\n    <tr>\n      <th>2016-03-20</th>\n      <td>914.24</td>\n      <td>901.893333</td>\n      <td>NaN</td>\n      <td>241.571143</td>\n    </tr>\n    <tr>\n      <th>2016-03-21</th>\n      <td>965.27</td>\n      <td>1012.516667</td>\n      <td>NaN</td>\n      <td>216.690775</td>\n    </tr>\n    <tr>\n      <th>2016-03-22</th>\n      <td>630.77</td>\n      <td>836.760000</td>\n      <td>NaN</td>\n      <td>217.842052</td>\n    </tr>\n    <tr>\n      <th>2016-03-23</th>\n      <td>702.79</td>\n      <td>766.276667</td>\n      <td>851.125000</td>\n      <td>161.669232</td>\n    </tr>\n    <tr>\n      <th>2016-03-24</th>\n      <td>728.15</td>\n      <td>687.236667</td>\n      <td>830.141667</td>\n      <td>145.007117</td>\n    </tr>\n  </tbody>\n</table>\n</div>"
     },
     "execution_count": 24,
     "metadata": {},
     "output_type": "execute_result"
    }
   ],
   "source": [
    "import pandas as pd\n",
    "\n",
    "from aeon.forecasting.base import ForecastingHorizon\n",
    "from aeon.forecasting.compose import ForecastingPipeline\n",
    "from aeon.transformations.summarize import WindowSummarizer\n",
    "\n",
    "kwargs = {\n",
    "    \"lag_feature\": {\n",
    "        \"lag\": [1],\n",
    "        \"mean\": [[1, 3], [3, 6]],\n",
    "        \"std\": [[1, 4]],\n",
    "    }\n",
    "}\n",
    "\n",
    "transformer = WindowSummarizer(**kwargs)\n",
    "y_transformed = transformer.fit_transform(y_train)\n",
    "\n",
    "y_transformed.head(10)"
   ]
  },
  {
   "cell_type": "markdown",
   "metadata": {},
   "source": [
    "The notation `\"mean\": [[1, 3]]` (captured in the column `\"y_mean_1_3\"`) is read as:\n",
    "\n",
    "summarization function `\"mean\": [[1, 3]]` is applied to:\n",
    "\n",
    "* window of length 3\n",
    "* start (inclusive) is lagged by one period\n",
    "\n",
    "Visualization:\n",
    "\n",
    "For z = target time stamp:\n",
    "\n",
    "`window = [1, 3]`, means a `lag` of 1 and `window_length` of 3, selecting the three last days (exclusive z).\n",
    "\n",
    "Summarization is done across windows like this:\n",
    "\n",
    "| x x x x x x x x * * * z x |\n",
    "|---------------------------|"
   ]
  },
  {
   "cell_type": "markdown",
   "metadata": {},
   "source": [
    "By default, `\"WindowSummarizer\"` uses pandas rolling window functions to allow for a speedy generation of features.\n",
    "* \"sum\",\n",
    "* \"mean\",\n",
    "* \"median\",\n",
    "* \"std\",\n",
    "* \"var\",\n",
    "* \"kurt\",\n",
    "* \"min\",\n",
    "* \"max\",\n",
    "* \"corr\",\n",
    "* \"cov\",\n",
    "* \"skew\",\n",
    "* \"sem\"\n",
    "\n",
    "typically very fast since optimized for rolling, grouped operations\n",
    "\n",
    "In the M5 competition, arguably the most relevant features were:\n",
    "\n",
    "* **mean** calculations to capture level shifts, e.g. last week sales, sales of the week prior to the last month etc.\n",
    "* **standard deviation** to capture increases / decreases in volatility in sales, and how it impacts future sales\n",
    "* rolling **skewness** / **kurtosis** calculations, to capture changes in store sales tendencies.\n",
    "* various different calculations to capture periods of zero sales (e.g. out of stock scenarios)\n",
    "\n",
    "First three are available via native pandas functions.\\\n",
    "`WindowSummarizer` can also be provided with arbitrary summarizer functions.\n",
    "\n",
    "Example: function `count_gt130` to count how many observations lie above the threshold of 130 within a window of length 3, lagged by 2 periods."
   ]
  },
  {
   "cell_type": "code",
   "execution_count": 25,
   "metadata": {
    "ExecuteTime": {
     "end_time": "2023-08-24T17:25:46.414554300Z",
     "start_time": "2023-08-24T17:25:44.352488700Z"
    }
   },
   "outputs": [
    {
     "data": {
      "text/plain": "                      y_lag_1  y_count_gt130_2_3   y_std_1_4\ninstances timepoints                                        \n1         2016-03-15      NaN                NaN         NaN\n          2016-03-16   756.67                NaN         NaN\n          2016-03-17   679.13                NaN         NaN\n          2016-03-18   633.40                NaN         NaN\n          2016-03-19  1158.04                1.0  239.617572\n          2016-03-20   914.24                1.0  241.571143\n          2016-03-21   965.27                2.0  216.690775\n          2016-03-22   630.77                3.0  217.842052\n          2016-03-23   702.79                2.0  161.669232\n          2016-03-24   728.15                2.0  145.007117",
      "text/html": "<div>\n<style scoped>\n    .dataframe tbody tr th:only-of-type {\n        vertical-align: middle;\n    }\n\n    .dataframe tbody tr th {\n        vertical-align: top;\n    }\n\n    .dataframe thead th {\n        text-align: right;\n    }\n</style>\n<table border=\"1\" class=\"dataframe\">\n  <thead>\n    <tr style=\"text-align: right;\">\n      <th></th>\n      <th></th>\n      <th>y_lag_1</th>\n      <th>y_count_gt130_2_3</th>\n      <th>y_std_1_4</th>\n    </tr>\n    <tr>\n      <th>instances</th>\n      <th>timepoints</th>\n      <th></th>\n      <th></th>\n      <th></th>\n    </tr>\n  </thead>\n  <tbody>\n    <tr>\n      <th rowspan=\"10\" valign=\"top\">1</th>\n      <th>2016-03-15</th>\n      <td>NaN</td>\n      <td>NaN</td>\n      <td>NaN</td>\n    </tr>\n    <tr>\n      <th>2016-03-16</th>\n      <td>756.67</td>\n      <td>NaN</td>\n      <td>NaN</td>\n    </tr>\n    <tr>\n      <th>2016-03-17</th>\n      <td>679.13</td>\n      <td>NaN</td>\n      <td>NaN</td>\n    </tr>\n    <tr>\n      <th>2016-03-18</th>\n      <td>633.40</td>\n      <td>NaN</td>\n      <td>NaN</td>\n    </tr>\n    <tr>\n      <th>2016-03-19</th>\n      <td>1158.04</td>\n      <td>1.0</td>\n      <td>239.617572</td>\n    </tr>\n    <tr>\n      <th>2016-03-20</th>\n      <td>914.24</td>\n      <td>1.0</td>\n      <td>241.571143</td>\n    </tr>\n    <tr>\n      <th>2016-03-21</th>\n      <td>965.27</td>\n      <td>2.0</td>\n      <td>216.690775</td>\n    </tr>\n    <tr>\n      <th>2016-03-22</th>\n      <td>630.77</td>\n      <td>3.0</td>\n      <td>217.842052</td>\n    </tr>\n    <tr>\n      <th>2016-03-23</th>\n      <td>702.79</td>\n      <td>2.0</td>\n      <td>161.669232</td>\n    </tr>\n    <tr>\n      <th>2016-03-24</th>\n      <td>728.15</td>\n      <td>2.0</td>\n      <td>145.007117</td>\n    </tr>\n  </tbody>\n</table>\n</div>"
     },
     "execution_count": 25,
     "metadata": {},
     "output_type": "execute_result"
    }
   ],
   "source": [
    "import numpy as np\n",
    "\n",
    "\n",
    "def count_gt130(x):\n",
    "    \"\"\"Count how many observations lie above threshold 130.\"\"\"\n",
    "    return np.sum((x > 700)[::-1])\n",
    "\n",
    "\n",
    "kwargs = {\n",
    "    \"lag_feature\": {\n",
    "        \"lag\": [1],\n",
    "        count_gt130: [[2, 3]],\n",
    "        \"std\": [[1, 4]],\n",
    "    }\n",
    "}\n",
    "\n",
    "transformer = WindowSummarizer(**kwargs)\n",
    "y_transformed = transformer.fit_transform(y_train)\n",
    "\n",
    "y_transformed.head(10)"
   ]
  },
  {
   "cell_type": "markdown",
   "metadata": {},
   "source": [
    "Above applies `\"WindowSummarizer\"` to the forecasting targey `y`.\n",
    "\n",
    "To apply `\"WindowSummarizer\"` to columns in `X`, use `\"WindowSummarizer\"` within a `\"ForecastingPipeline\"` and specify `\"target_cols\"`.\n",
    "\n",
    "In the M5 competition, lagging of exogeneous features was especially useful for lags around holiday dummies (often sales are affected for a few days before and after major holidays) as well as changes in item prices (discounts as well as persistent price changes)"
   ]
  },
  {
   "cell_type": "code",
   "execution_count": 26,
   "metadata": {
    "ExecuteTime": {
     "end_time": "2023-08-24T17:25:46.584606800Z",
     "start_time": "2023-08-24T17:25:46.404581700Z"
    }
   },
   "outputs": [
    {
     "data": {
      "text/plain": "Period\n1959    67075.727273\n1960    67638.454545\n1961    68201.181818\n1962    68763.909091\nFreq: A-DEC, dtype: float64"
     },
     "execution_count": 26,
     "metadata": {},
     "output_type": "execute_result"
    }
   ],
   "source": [
    "from aeon.datasets import load_longley\n",
    "from aeon.forecasting.naive import NaiveForecaster\n",
    "\n",
    "y_ll, X_ll = load_longley()\n",
    "y_train_ll, y_test_ll, X_train_ll, X_test_ll = temporal_train_test_split(y_ll, X_ll)\n",
    "fh = ForecastingHorizon(X_test_ll.index, is_relative=False)\n",
    "# Example transforming only X\n",
    "pipe = ForecastingPipeline(\n",
    "    steps=[\n",
    "        (\"a\", WindowSummarizer(n_jobs=1, target_cols=[\"POP\", \"GNPDEFL\"])),\n",
    "        (\"b\", WindowSummarizer(n_jobs=1, target_cols=[\"GNP\"], **kwargs)),\n",
    "        (\"forecaster\", NaiveForecaster(strategy=\"drift\")),\n",
    "    ]\n",
    ")\n",
    "pipe_return = pipe.fit(y_train_ll, X_train_ll)\n",
    "y_pred1 = pipe_return.predict(fh=fh, X=X_test_ll)\n",
    "\n",
    "y_pred1"
   ]
  },
  {
   "cell_type": "markdown",
   "metadata": {},
   "source": [
    "For efficiency, relevant features are computed in a parallel way.\\\n",
    "For maximum parallelization, pass `WindowSummarizer` as a single transformer within `make_reduction`.\n",
    "\n",
    "In this case, `window_length` is inferred from the `WindowSummarizer` and need not be passed to `make_reduction`."
   ]
  },
  {
   "cell_type": "code",
   "execution_count": 27,
   "metadata": {
    "ExecuteTime": {
     "end_time": "2023-08-24T17:25:46.584606800Z",
     "start_time": "2023-08-24T17:25:46.577624900Z"
    }
   },
   "outputs": [],
   "source": [
    "forecaster = make_reduction(\n",
    "    regressor,\n",
    "    transformers=[WindowSummarizer(**kwargs, n_jobs=1)],\n",
    "    window_length=None,\n",
    "    strategy=\"recursive\",\n",
    "    pooling=\"global\",\n",
    ")"
   ]
  },
  {
   "cell_type": "markdown",
   "metadata": {},
   "source": [
    "Concepts relating to calendar seasonalities need to be provided by means of feature engineering to most models. Examples:\n",
    "\n",
    "* day of the week effects historically observed for stock prices (prices on Fridays used to differ from Monday prices).\n",
    "* used car prices being higher in spring than in summer\n",
    "* spendings at the beginning of the month differing from end of month due to salary effects.\n",
    "\n",
    "Calendar seasonalities can be modeled by means of dummy variables or fourier terms. As a rule of thumb, use dummy variables for discontinous effects and fourier/period/seasonality terms when you believe there is a certain degree of smoothness in the seasonality.\n",
    "\n",
    "`aeon` supports calendar dummy features via the `DateTimeFeatures` transformer. Manually specify the desired seasonality, or provide base frequency of the time series (daily, weekly etc.) and the desired complexity (few vs many features), `DateTimeFeatures` can infer sensible seasonality."
   ]
  },
  {
   "cell_type": "code",
   "execution_count": 28,
   "metadata": {
    "ExecuteTime": {
     "end_time": "2023-08-24T17:25:46.683949400Z",
     "start_time": "2023-08-24T17:25:46.585603700Z"
    }
   },
   "outputs": [
    {
     "data": {
      "text/plain": "                      year  month_of_year  day_of_week\ninstances timepoints                                  \n1         2016-03-15  2016              3            1\n          2016-03-16  2016              3            2\n          2016-03-17  2016              3            3\n          2016-03-18  2016              3            4\n          2016-03-19  2016              3            5\n          2016-03-20  2016              3            6\n          2016-03-21  2016              3            0\n          2016-03-22  2016              3            1\n          2016-03-23  2016              3            2\n          2016-03-24  2016              3            3\n          2016-03-25  2016              3            4\n          2016-03-26  2016              3            5\n          2016-03-27  2016              3            6\n          2016-03-28  2016              3            0\n          2016-03-29  2016              3            1\n          2016-03-30  2016              3            2\n          2016-03-31  2016              3            3\n          2016-04-01  2016              4            4\n          2016-04-02  2016              4            5\n          2016-04-03  2016              4            6\n          2016-04-04  2016              4            0\n          2016-04-05  2016              4            1\n          2016-04-06  2016              4            2\n          2016-04-07  2016              4            3\n          2016-04-08  2016              4            4\n          2016-04-09  2016              4            5\n          2016-04-10  2016              4            6\n          2016-04-11  2016              4            0\n          2016-04-12  2016              4            1\n          2016-04-13  2016              4            2\n2         2016-03-15  2016              3            1\n          2016-03-16  2016              3            2\n          2016-03-17  2016              3            3\n          2016-03-18  2016              3            4\n          2016-03-19  2016              3            5\n          2016-03-20  2016              3            6\n          2016-03-21  2016              3            0\n          2016-03-22  2016              3            1\n          2016-03-23  2016              3            2\n          2016-03-24  2016              3            3\n          2016-03-25  2016              3            4\n          2016-03-26  2016              3            5\n          2016-03-27  2016              3            6\n          2016-03-28  2016              3            0\n          2016-03-29  2016              3            1\n          2016-03-30  2016              3            2\n          2016-03-31  2016              3            3\n          2016-04-01  2016              4            4\n          2016-04-02  2016              4            5\n          2016-04-03  2016              4            6\n          2016-04-04  2016              4            0\n          2016-04-05  2016              4            1\n          2016-04-06  2016              4            2\n          2016-04-07  2016              4            3\n          2016-04-08  2016              4            4\n          2016-04-09  2016              4            5\n          2016-04-10  2016              4            6\n          2016-04-11  2016              4            0\n          2016-04-12  2016              4            1\n          2016-04-13  2016              4            2",
      "text/html": "<div>\n<style scoped>\n    .dataframe tbody tr th:only-of-type {\n        vertical-align: middle;\n    }\n\n    .dataframe tbody tr th {\n        vertical-align: top;\n    }\n\n    .dataframe thead th {\n        text-align: right;\n    }\n</style>\n<table border=\"1\" class=\"dataframe\">\n  <thead>\n    <tr style=\"text-align: right;\">\n      <th></th>\n      <th></th>\n      <th>year</th>\n      <th>month_of_year</th>\n      <th>day_of_week</th>\n    </tr>\n    <tr>\n      <th>instances</th>\n      <th>timepoints</th>\n      <th></th>\n      <th></th>\n      <th></th>\n    </tr>\n  </thead>\n  <tbody>\n    <tr>\n      <th rowspan=\"30\" valign=\"top\">1</th>\n      <th>2016-03-15</th>\n      <td>2016</td>\n      <td>3</td>\n      <td>1</td>\n    </tr>\n    <tr>\n      <th>2016-03-16</th>\n      <td>2016</td>\n      <td>3</td>\n      <td>2</td>\n    </tr>\n    <tr>\n      <th>2016-03-17</th>\n      <td>2016</td>\n      <td>3</td>\n      <td>3</td>\n    </tr>\n    <tr>\n      <th>2016-03-18</th>\n      <td>2016</td>\n      <td>3</td>\n      <td>4</td>\n    </tr>\n    <tr>\n      <th>2016-03-19</th>\n      <td>2016</td>\n      <td>3</td>\n      <td>5</td>\n    </tr>\n    <tr>\n      <th>2016-03-20</th>\n      <td>2016</td>\n      <td>3</td>\n      <td>6</td>\n    </tr>\n    <tr>\n      <th>2016-03-21</th>\n      <td>2016</td>\n      <td>3</td>\n      <td>0</td>\n    </tr>\n    <tr>\n      <th>2016-03-22</th>\n      <td>2016</td>\n      <td>3</td>\n      <td>1</td>\n    </tr>\n    <tr>\n      <th>2016-03-23</th>\n      <td>2016</td>\n      <td>3</td>\n      <td>2</td>\n    </tr>\n    <tr>\n      <th>2016-03-24</th>\n      <td>2016</td>\n      <td>3</td>\n      <td>3</td>\n    </tr>\n    <tr>\n      <th>2016-03-25</th>\n      <td>2016</td>\n      <td>3</td>\n      <td>4</td>\n    </tr>\n    <tr>\n      <th>2016-03-26</th>\n      <td>2016</td>\n      <td>3</td>\n      <td>5</td>\n    </tr>\n    <tr>\n      <th>2016-03-27</th>\n      <td>2016</td>\n      <td>3</td>\n      <td>6</td>\n    </tr>\n    <tr>\n      <th>2016-03-28</th>\n      <td>2016</td>\n      <td>3</td>\n      <td>0</td>\n    </tr>\n    <tr>\n      <th>2016-03-29</th>\n      <td>2016</td>\n      <td>3</td>\n      <td>1</td>\n    </tr>\n    <tr>\n      <th>2016-03-30</th>\n      <td>2016</td>\n      <td>3</td>\n      <td>2</td>\n    </tr>\n    <tr>\n      <th>2016-03-31</th>\n      <td>2016</td>\n      <td>3</td>\n      <td>3</td>\n    </tr>\n    <tr>\n      <th>2016-04-01</th>\n      <td>2016</td>\n      <td>4</td>\n      <td>4</td>\n    </tr>\n    <tr>\n      <th>2016-04-02</th>\n      <td>2016</td>\n      <td>4</td>\n      <td>5</td>\n    </tr>\n    <tr>\n      <th>2016-04-03</th>\n      <td>2016</td>\n      <td>4</td>\n      <td>6</td>\n    </tr>\n    <tr>\n      <th>2016-04-04</th>\n      <td>2016</td>\n      <td>4</td>\n      <td>0</td>\n    </tr>\n    <tr>\n      <th>2016-04-05</th>\n      <td>2016</td>\n      <td>4</td>\n      <td>1</td>\n    </tr>\n    <tr>\n      <th>2016-04-06</th>\n      <td>2016</td>\n      <td>4</td>\n      <td>2</td>\n    </tr>\n    <tr>\n      <th>2016-04-07</th>\n      <td>2016</td>\n      <td>4</td>\n      <td>3</td>\n    </tr>\n    <tr>\n      <th>2016-04-08</th>\n      <td>2016</td>\n      <td>4</td>\n      <td>4</td>\n    </tr>\n    <tr>\n      <th>2016-04-09</th>\n      <td>2016</td>\n      <td>4</td>\n      <td>5</td>\n    </tr>\n    <tr>\n      <th>2016-04-10</th>\n      <td>2016</td>\n      <td>4</td>\n      <td>6</td>\n    </tr>\n    <tr>\n      <th>2016-04-11</th>\n      <td>2016</td>\n      <td>4</td>\n      <td>0</td>\n    </tr>\n    <tr>\n      <th>2016-04-12</th>\n      <td>2016</td>\n      <td>4</td>\n      <td>1</td>\n    </tr>\n    <tr>\n      <th>2016-04-13</th>\n      <td>2016</td>\n      <td>4</td>\n      <td>2</td>\n    </tr>\n    <tr>\n      <th rowspan=\"30\" valign=\"top\">2</th>\n      <th>2016-03-15</th>\n      <td>2016</td>\n      <td>3</td>\n      <td>1</td>\n    </tr>\n    <tr>\n      <th>2016-03-16</th>\n      <td>2016</td>\n      <td>3</td>\n      <td>2</td>\n    </tr>\n    <tr>\n      <th>2016-03-17</th>\n      <td>2016</td>\n      <td>3</td>\n      <td>3</td>\n    </tr>\n    <tr>\n      <th>2016-03-18</th>\n      <td>2016</td>\n      <td>3</td>\n      <td>4</td>\n    </tr>\n    <tr>\n      <th>2016-03-19</th>\n      <td>2016</td>\n      <td>3</td>\n      <td>5</td>\n    </tr>\n    <tr>\n      <th>2016-03-20</th>\n      <td>2016</td>\n      <td>3</td>\n      <td>6</td>\n    </tr>\n    <tr>\n      <th>2016-03-21</th>\n      <td>2016</td>\n      <td>3</td>\n      <td>0</td>\n    </tr>\n    <tr>\n      <th>2016-03-22</th>\n      <td>2016</td>\n      <td>3</td>\n      <td>1</td>\n    </tr>\n    <tr>\n      <th>2016-03-23</th>\n      <td>2016</td>\n      <td>3</td>\n      <td>2</td>\n    </tr>\n    <tr>\n      <th>2016-03-24</th>\n      <td>2016</td>\n      <td>3</td>\n      <td>3</td>\n    </tr>\n    <tr>\n      <th>2016-03-25</th>\n      <td>2016</td>\n      <td>3</td>\n      <td>4</td>\n    </tr>\n    <tr>\n      <th>2016-03-26</th>\n      <td>2016</td>\n      <td>3</td>\n      <td>5</td>\n    </tr>\n    <tr>\n      <th>2016-03-27</th>\n      <td>2016</td>\n      <td>3</td>\n      <td>6</td>\n    </tr>\n    <tr>\n      <th>2016-03-28</th>\n      <td>2016</td>\n      <td>3</td>\n      <td>0</td>\n    </tr>\n    <tr>\n      <th>2016-03-29</th>\n      <td>2016</td>\n      <td>3</td>\n      <td>1</td>\n    </tr>\n    <tr>\n      <th>2016-03-30</th>\n      <td>2016</td>\n      <td>3</td>\n      <td>2</td>\n    </tr>\n    <tr>\n      <th>2016-03-31</th>\n      <td>2016</td>\n      <td>3</td>\n      <td>3</td>\n    </tr>\n    <tr>\n      <th>2016-04-01</th>\n      <td>2016</td>\n      <td>4</td>\n      <td>4</td>\n    </tr>\n    <tr>\n      <th>2016-04-02</th>\n      <td>2016</td>\n      <td>4</td>\n      <td>5</td>\n    </tr>\n    <tr>\n      <th>2016-04-03</th>\n      <td>2016</td>\n      <td>4</td>\n      <td>6</td>\n    </tr>\n    <tr>\n      <th>2016-04-04</th>\n      <td>2016</td>\n      <td>4</td>\n      <td>0</td>\n    </tr>\n    <tr>\n      <th>2016-04-05</th>\n      <td>2016</td>\n      <td>4</td>\n      <td>1</td>\n    </tr>\n    <tr>\n      <th>2016-04-06</th>\n      <td>2016</td>\n      <td>4</td>\n      <td>2</td>\n    </tr>\n    <tr>\n      <th>2016-04-07</th>\n      <td>2016</td>\n      <td>4</td>\n      <td>3</td>\n    </tr>\n    <tr>\n      <th>2016-04-08</th>\n      <td>2016</td>\n      <td>4</td>\n      <td>4</td>\n    </tr>\n    <tr>\n      <th>2016-04-09</th>\n      <td>2016</td>\n      <td>4</td>\n      <td>5</td>\n    </tr>\n    <tr>\n      <th>2016-04-10</th>\n      <td>2016</td>\n      <td>4</td>\n      <td>6</td>\n    </tr>\n    <tr>\n      <th>2016-04-11</th>\n      <td>2016</td>\n      <td>4</td>\n      <td>0</td>\n    </tr>\n    <tr>\n      <th>2016-04-12</th>\n      <td>2016</td>\n      <td>4</td>\n      <td>1</td>\n    </tr>\n    <tr>\n      <th>2016-04-13</th>\n      <td>2016</td>\n      <td>4</td>\n      <td>2</td>\n    </tr>\n  </tbody>\n</table>\n</div>"
     },
     "execution_count": 28,
     "metadata": {},
     "output_type": "execute_result"
    }
   ],
   "source": [
    "transformer = DateTimeFeatures(ts_freq=\"D\")\n",
    "X_hat = transformer.fit_transform(X_train)\n",
    "\n",
    "new_cols = [i for i in X_hat if i not in X_train.columns]\n",
    "X_hat[new_cols]"
   ]
  },
  {
   "cell_type": "markdown",
   "metadata": {},
   "source": [
    "DateTimeFeatures supports the following frequencies:\n",
    "* Y - year\n",
    "* Q - quarter\n",
    "* M - month\n",
    "* W - week\n",
    "* D - day\n",
    "* H - hour\n",
    "* T - minute\n",
    "* S - second\n",
    "* L - millisecond\n",
    "\n",
    "You can specify the manual generation of dummy features with the notation e.g. \"day_of_month\", \"day_of_week\", \"week_of_quarter\"."
   ]
  },
  {
   "cell_type": "code",
   "execution_count": 29,
   "metadata": {
    "ExecuteTime": {
     "end_time": "2023-08-24T17:25:46.843824300Z",
     "start_time": "2023-08-24T17:25:46.682951300Z"
    }
   },
   "outputs": [
    {
     "data": {
      "text/plain": "                      day_of_quarter  week_of_month\ninstances timepoints                               \n1         2016-03-15              75              3\n          2016-03-16              76              3\n          2016-03-17              77              3\n          2016-03-18              78              3\n          2016-03-19              79              3\n          2016-03-20              80              3\n          2016-03-21              81              3\n          2016-03-22              82              4\n          2016-03-23              83              4\n          2016-03-24              84              4\n          2016-03-25              85              4\n          2016-03-26              86              4\n          2016-03-27              87              4\n          2016-03-28              88              4\n          2016-03-29              89              5\n          2016-03-30              90              5\n          2016-03-31              91              5\n          2016-04-01               1              1\n          2016-04-02               2              1\n          2016-04-03               3              1\n          2016-04-04               4              1\n          2016-04-05               5              1\n          2016-04-06               6              1\n          2016-04-07               7              1\n          2016-04-08               8              2\n          2016-04-09               9              2\n          2016-04-10              10              2\n          2016-04-11              11              2\n          2016-04-12              12              2\n          2016-04-13              13              2\n2         2016-03-15              75              3\n          2016-03-16              76              3\n          2016-03-17              77              3\n          2016-03-18              78              3\n          2016-03-19              79              3\n          2016-03-20              80              3\n          2016-03-21              81              3\n          2016-03-22              82              4\n          2016-03-23              83              4\n          2016-03-24              84              4\n          2016-03-25              85              4\n          2016-03-26              86              4\n          2016-03-27              87              4\n          2016-03-28              88              4\n          2016-03-29              89              5\n          2016-03-30              90              5\n          2016-03-31              91              5\n          2016-04-01               1              1\n          2016-04-02               2              1\n          2016-04-03               3              1\n          2016-04-04               4              1\n          2016-04-05               5              1\n          2016-04-06               6              1\n          2016-04-07               7              1\n          2016-04-08               8              2\n          2016-04-09               9              2\n          2016-04-10              10              2\n          2016-04-11              11              2\n          2016-04-12              12              2\n          2016-04-13              13              2",
      "text/html": "<div>\n<style scoped>\n    .dataframe tbody tr th:only-of-type {\n        vertical-align: middle;\n    }\n\n    .dataframe tbody tr th {\n        vertical-align: top;\n    }\n\n    .dataframe thead th {\n        text-align: right;\n    }\n</style>\n<table border=\"1\" class=\"dataframe\">\n  <thead>\n    <tr style=\"text-align: right;\">\n      <th></th>\n      <th></th>\n      <th>day_of_quarter</th>\n      <th>week_of_month</th>\n    </tr>\n    <tr>\n      <th>instances</th>\n      <th>timepoints</th>\n      <th></th>\n      <th></th>\n    </tr>\n  </thead>\n  <tbody>\n    <tr>\n      <th rowspan=\"30\" valign=\"top\">1</th>\n      <th>2016-03-15</th>\n      <td>75</td>\n      <td>3</td>\n    </tr>\n    <tr>\n      <th>2016-03-16</th>\n      <td>76</td>\n      <td>3</td>\n    </tr>\n    <tr>\n      <th>2016-03-17</th>\n      <td>77</td>\n      <td>3</td>\n    </tr>\n    <tr>\n      <th>2016-03-18</th>\n      <td>78</td>\n      <td>3</td>\n    </tr>\n    <tr>\n      <th>2016-03-19</th>\n      <td>79</td>\n      <td>3</td>\n    </tr>\n    <tr>\n      <th>2016-03-20</th>\n      <td>80</td>\n      <td>3</td>\n    </tr>\n    <tr>\n      <th>2016-03-21</th>\n      <td>81</td>\n      <td>3</td>\n    </tr>\n    <tr>\n      <th>2016-03-22</th>\n      <td>82</td>\n      <td>4</td>\n    </tr>\n    <tr>\n      <th>2016-03-23</th>\n      <td>83</td>\n      <td>4</td>\n    </tr>\n    <tr>\n      <th>2016-03-24</th>\n      <td>84</td>\n      <td>4</td>\n    </tr>\n    <tr>\n      <th>2016-03-25</th>\n      <td>85</td>\n      <td>4</td>\n    </tr>\n    <tr>\n      <th>2016-03-26</th>\n      <td>86</td>\n      <td>4</td>\n    </tr>\n    <tr>\n      <th>2016-03-27</th>\n      <td>87</td>\n      <td>4</td>\n    </tr>\n    <tr>\n      <th>2016-03-28</th>\n      <td>88</td>\n      <td>4</td>\n    </tr>\n    <tr>\n      <th>2016-03-29</th>\n      <td>89</td>\n      <td>5</td>\n    </tr>\n    <tr>\n      <th>2016-03-30</th>\n      <td>90</td>\n      <td>5</td>\n    </tr>\n    <tr>\n      <th>2016-03-31</th>\n      <td>91</td>\n      <td>5</td>\n    </tr>\n    <tr>\n      <th>2016-04-01</th>\n      <td>1</td>\n      <td>1</td>\n    </tr>\n    <tr>\n      <th>2016-04-02</th>\n      <td>2</td>\n      <td>1</td>\n    </tr>\n    <tr>\n      <th>2016-04-03</th>\n      <td>3</td>\n      <td>1</td>\n    </tr>\n    <tr>\n      <th>2016-04-04</th>\n      <td>4</td>\n      <td>1</td>\n    </tr>\n    <tr>\n      <th>2016-04-05</th>\n      <td>5</td>\n      <td>1</td>\n    </tr>\n    <tr>\n      <th>2016-04-06</th>\n      <td>6</td>\n      <td>1</td>\n    </tr>\n    <tr>\n      <th>2016-04-07</th>\n      <td>7</td>\n      <td>1</td>\n    </tr>\n    <tr>\n      <th>2016-04-08</th>\n      <td>8</td>\n      <td>2</td>\n    </tr>\n    <tr>\n      <th>2016-04-09</th>\n      <td>9</td>\n      <td>2</td>\n    </tr>\n    <tr>\n      <th>2016-04-10</th>\n      <td>10</td>\n      <td>2</td>\n    </tr>\n    <tr>\n      <th>2016-04-11</th>\n      <td>11</td>\n      <td>2</td>\n    </tr>\n    <tr>\n      <th>2016-04-12</th>\n      <td>12</td>\n      <td>2</td>\n    </tr>\n    <tr>\n      <th>2016-04-13</th>\n      <td>13</td>\n      <td>2</td>\n    </tr>\n    <tr>\n      <th rowspan=\"30\" valign=\"top\">2</th>\n      <th>2016-03-15</th>\n      <td>75</td>\n      <td>3</td>\n    </tr>\n    <tr>\n      <th>2016-03-16</th>\n      <td>76</td>\n      <td>3</td>\n    </tr>\n    <tr>\n      <th>2016-03-17</th>\n      <td>77</td>\n      <td>3</td>\n    </tr>\n    <tr>\n      <th>2016-03-18</th>\n      <td>78</td>\n      <td>3</td>\n    </tr>\n    <tr>\n      <th>2016-03-19</th>\n      <td>79</td>\n      <td>3</td>\n    </tr>\n    <tr>\n      <th>2016-03-20</th>\n      <td>80</td>\n      <td>3</td>\n    </tr>\n    <tr>\n      <th>2016-03-21</th>\n      <td>81</td>\n      <td>3</td>\n    </tr>\n    <tr>\n      <th>2016-03-22</th>\n      <td>82</td>\n      <td>4</td>\n    </tr>\n    <tr>\n      <th>2016-03-23</th>\n      <td>83</td>\n      <td>4</td>\n    </tr>\n    <tr>\n      <th>2016-03-24</th>\n      <td>84</td>\n      <td>4</td>\n    </tr>\n    <tr>\n      <th>2016-03-25</th>\n      <td>85</td>\n      <td>4</td>\n    </tr>\n    <tr>\n      <th>2016-03-26</th>\n      <td>86</td>\n      <td>4</td>\n    </tr>\n    <tr>\n      <th>2016-03-27</th>\n      <td>87</td>\n      <td>4</td>\n    </tr>\n    <tr>\n      <th>2016-03-28</th>\n      <td>88</td>\n      <td>4</td>\n    </tr>\n    <tr>\n      <th>2016-03-29</th>\n      <td>89</td>\n      <td>5</td>\n    </tr>\n    <tr>\n      <th>2016-03-30</th>\n      <td>90</td>\n      <td>5</td>\n    </tr>\n    <tr>\n      <th>2016-03-31</th>\n      <td>91</td>\n      <td>5</td>\n    </tr>\n    <tr>\n      <th>2016-04-01</th>\n      <td>1</td>\n      <td>1</td>\n    </tr>\n    <tr>\n      <th>2016-04-02</th>\n      <td>2</td>\n      <td>1</td>\n    </tr>\n    <tr>\n      <th>2016-04-03</th>\n      <td>3</td>\n      <td>1</td>\n    </tr>\n    <tr>\n      <th>2016-04-04</th>\n      <td>4</td>\n      <td>1</td>\n    </tr>\n    <tr>\n      <th>2016-04-05</th>\n      <td>5</td>\n      <td>1</td>\n    </tr>\n    <tr>\n      <th>2016-04-06</th>\n      <td>6</td>\n      <td>1</td>\n    </tr>\n    <tr>\n      <th>2016-04-07</th>\n      <td>7</td>\n      <td>1</td>\n    </tr>\n    <tr>\n      <th>2016-04-08</th>\n      <td>8</td>\n      <td>2</td>\n    </tr>\n    <tr>\n      <th>2016-04-09</th>\n      <td>9</td>\n      <td>2</td>\n    </tr>\n    <tr>\n      <th>2016-04-10</th>\n      <td>10</td>\n      <td>2</td>\n    </tr>\n    <tr>\n      <th>2016-04-11</th>\n      <td>11</td>\n      <td>2</td>\n    </tr>\n    <tr>\n      <th>2016-04-12</th>\n      <td>12</td>\n      <td>2</td>\n    </tr>\n    <tr>\n      <th>2016-04-13</th>\n      <td>13</td>\n      <td>2</td>\n    </tr>\n  </tbody>\n</table>\n</div>"
     },
     "execution_count": 29,
     "metadata": {},
     "output_type": "execute_result"
    }
   ],
   "source": [
    "transformer = DateTimeFeatures(manual_selection=[\"week_of_month\", \"day_of_quarter\"])\n",
    "X_hat = transformer.fit_transform(X_train)\n",
    "\n",
    "new_cols = [i for i in X_hat if i not in X_train.columns]\n",
    "X_hat[new_cols]"
   ]
  },
  {
   "cell_type": "markdown",
   "metadata": {},
   "source": [
    "### Putting it all together\n",
    "\n",
    "Using the `\"WindowSummarizer\"`, `\"DateTimeFeatures\"` and the `\"make_reduction\"` function we can now set up a working example of a an end to end global forecasting pipeline based on a sample of the M5 competition data:"
   ]
  },
  {
   "cell_type": "code",
   "execution_count": 30,
   "metadata": {
    "ExecuteTime": {
     "end_time": "2023-08-24T17:25:49.422925700Z",
     "start_time": "2023-08-24T17:25:46.738801900Z"
    }
   },
   "outputs": [
    {
     "data": {
      "text/plain": "                              y\ninstances timepoints           \n1         2016-04-14   873.6690\n2         2016-04-14  1979.3916",
      "text/html": "<div>\n<style scoped>\n    .dataframe tbody tr th:only-of-type {\n        vertical-align: middle;\n    }\n\n    .dataframe tbody tr th {\n        vertical-align: top;\n    }\n\n    .dataframe thead th {\n        text-align: right;\n    }\n</style>\n<table border=\"1\" class=\"dataframe\">\n  <thead>\n    <tr style=\"text-align: right;\">\n      <th></th>\n      <th></th>\n      <th>y</th>\n    </tr>\n    <tr>\n      <th>instances</th>\n      <th>timepoints</th>\n      <th></th>\n    </tr>\n  </thead>\n  <tbody>\n    <tr>\n      <th>1</th>\n      <th>2016-04-14</th>\n      <td>873.6690</td>\n    </tr>\n    <tr>\n      <th>2</th>\n      <th>2016-04-14</th>\n      <td>1979.3916</td>\n    </tr>\n  </tbody>\n</table>\n</div>"
     },
     "execution_count": 30,
     "metadata": {},
     "output_type": "execute_result"
    }
   ],
   "source": [
    "pipe = ForecastingPipeline(\n",
    "    steps=[\n",
    "        (\n",
    "            \"event_dynamics\",\n",
    "            WindowSummarizer(\n",
    "                n_jobs=-1, **kwargs, target_cols=[\"event_type_1\", \"event_type_2\"]\n",
    "            ),\n",
    "        ),\n",
    "        (\"snap_dynamics\", WindowSummarizer(n_jobs=-1, target_cols=[\"snap\"])),\n",
    "        (\"daily_season\", DateTimeFeatures(ts_freq=\"D\")),\n",
    "        (\"forecaster\", forecaster),\n",
    "    ]\n",
    ")\n",
    "\n",
    "pipe_return = pipe.fit(y_train, X_train)\n",
    "y_pred1 = pipe_return.predict(fh=1, X=X_test)\n",
    "\n",
    "y_pred1"
   ]
  },
  {
   "cell_type": "markdown",
   "metadata": {},
   "source": [
    "---\n",
    "## Building your own hierarchical forecaster\n",
    "\n",
    "Getting started:\n",
    "\n",
    "* follow the [\"implementing estimator\" developer guide](https://www.aeon-toolkit.org/en/stable/developer_guide/add_estimators.html)\n",
    "* use the advanced [forecasting extension template](https://github.com/aeon-toolkit/aeon/blob/main/extension_templates/forecasting.py)\n",
    "\n",
    "Extension template = python \"fill-in\" template with to-do blocks that allow you to implement your own, aeon-compatible forecasting algorithm.\n",
    "\n",
    "Check estimators using `check_estimator`\n",
    "\n",
    "For hierarchical forecasting:\n",
    "\n",
    "* ensure to pick supported mtypes for panel and hierarchical data\n",
    "* recommended: `y_inner_type = [\"pd.DataFrame\", \"pd-multiindex\", \"pd_multiindex_hier\"]`, same for `X_inner_type`\n",
    "    * this ensures the inputs `y`, `X` seen in `_fit`, `_predict` are `pd.DataFrame`, with 1, 2, 3 or more row levels\n",
    "* you can implement vectorization over rows if efficient implementation is available\n",
    "    * but: automated vectorization already loops over row index sets, don't implement that if that's what \"hierarchical\" is\n",
    "    * to ensure automated vectorization, do *not* include Hierarchical or Panel types in `y_inner_type`, `X_inner_type`\n",
    "* think carefully whether your estimator is a forecaster, or can be decomposed in a transformer\n",
    "    * \"do X and then apply forecaster already in aeon\" is a strong hint that you actually want to implement a transformer"
   ]
  }
 ],
 "metadata": {
  "kernelspec": {
   "display_name": "Python 3 (ipykernel)",
   "language": "python",
   "name": "python3"
  },
  "language_info": {
   "codemirror_mode": {
    "name": "ipython",
    "version": 3
   },
   "file_extension": ".py",
   "mimetype": "text/x-python",
   "name": "python",
   "nbconvert_exporter": "python",
   "pygments_lexer": "ipython3",
   "version": "3.8.12"
  }
 },
 "nbformat": 4,
 "nbformat_minor": 4
}
