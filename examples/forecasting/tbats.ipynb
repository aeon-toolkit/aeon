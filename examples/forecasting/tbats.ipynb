{
 "cells": [
  {
   "cell_type": "markdown",
   "id": "f699de36",
   "metadata": {},
   "source": [
    "TBATS: Trigonometric seasonality with Box–Cox transformation, ARMA errors and optional (damped) trend. "
   ]
  },
  {
   "cell_type": "code",
   "execution_count": 4,
   "id": "28a2b783",
   "metadata": {},
   "outputs": [
    {
     "name": "stdout",
     "output_type": "stream",
     "text": [
      "AIC: 1027.65\n",
      "Chosen harmonics per season: [1 5]\n",
      "ARMA orders (p, q): (3, 1)\n",
      "First 5 forecasts: [32.943 29.258 25.752 23.602 23.323]\n",
      "levels: [80. 95.]\n",
      "95% interval for first step: 30.372051438589196 35.53978281379878\n"
     ]
    }
   ],
   "source": [
    "# sample usage\n",
    "import numpy as np\n",
    "\n",
    "from aeon.forecasting.machine_learning._tbats import TBATSForecaster\n",
    "\n",
    "# Synthetic series with two seasonalities and a gentle trend\n",
    "rng = np.random.default_rng(2342)\n",
    "t = np.arange(160, dtype=float)\n",
    "y = (\n",
    "    5 * np.sin(2 * np.pi * t / 14)  # s=14\n",
    "    + 2 * np.cos(2 * np.pi * t / 30.5)  # s≈30.5\n",
    "    + (t / 20.0) ** 1.5  # trend\n",
    "    + rng.normal(scale=t / 50.0, size=t.size)  # heteroskedastic noise\n",
    "    + 10.0\n",
    ")\n",
    "\n",
    "# Create the estimator (auto-select harmonics; grid ARMA selection)\n",
    "f = TBATSForecaster(\n",
    "    horizon=14,\n",
    "    seasonal_periods=[14, 30.5],\n",
    "    use_box_cox=True,  # will be compared to no-BC and chosen by AIC\n",
    "    use_trend=None,  # try with/without trend\n",
    "    use_damped_trend=None,  # try damped/undamped when trend is on\n",
    "    use_arma_errors=True,\n",
    "    arma_selection=\"grid\",  # or \"auto_arima\" (requires pmdarima)\n",
    "    max_arma_order=3,\n",
    "    show_warnings=True,\n",
    ")\n",
    "\n",
    "# Fit model\n",
    "f.fit(y)\n",
    "\n",
    "# Forecast 14 steps ahead (point forecasts)\n",
    "y_forecast = f.fitted_forecast(steps=14)\n",
    "\n",
    "# Forecast intervals (80% and 95%), with Box–Cox bias adjustment if applicable\n",
    "mean, lower, upper, levels = f.predict_interval(steps=14, levels=(80, 95), biasadj=True)\n",
    "\n",
    "\n",
    "# Summarize a few fitted artifacts\n",
    "print(f\"AIC: {f.aic_:.2f}\")\n",
    "print(\n",
    "    \"Chosen harmonics per season:\",\n",
    "    getattr(f.params_.components, \"seasonal_harmonics\", None),\n",
    ")\n",
    "print(\"ARMA orders (p, q):\", (f.params_.components.p, f.params_.components.q))\n",
    "print(\"First 5 forecasts:\", np.round(mean[:5], 3))\n",
    "# print(\"95% /interval for first step:\", lower[0, 1], upper[0, 1])\n",
    "\n",
    "print(\"levels:\", levels)\n",
    "print(\"lower.shape:\", np.shape(lower), \"upper.shape:\", np.shape(upper))\n",
    "\n",
    "# pick the 95% column if present, otherwise use the only column\n",
    "if np.ndim(lower) == 1:\n",
    "    # only one level returned\n",
    "    lo95 = lower[0]\n",
    "    up95 = upper[0]\n",
    "else:\n",
    "    # find the column for 95 (or nearest)\n",
    "    i95 = int(np.argmin(np.abs(np.asarray(levels, float) - 95.0)))\n",
    "    lo95 = lower[0, i95]\n",
    "    up95 = upper[0, i95]\n",
    "\n",
    "print(\"95% interval for first step:\", lo95, up95)"
   ]
  }
 ],
 "metadata": {
  "kernelspec": {
   "display_name": "aeon-venv",
   "language": "python",
   "name": "python3"
  },
  "language_info": {
   "codemirror_mode": {
    "name": "ipython",
    "version": 3
   },
   "file_extension": ".py",
   "mimetype": "text/x-python",
   "name": "python",
   "nbconvert_exporter": "python",
   "pygments_lexer": "ipython3",
   "version": "3.11.9"
  }
 },
 "nbformat": 4,
 "nbformat_minor": 5
}
