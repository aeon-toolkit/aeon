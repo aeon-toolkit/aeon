{
 "cells": [
  {
   "cell_type": "code",
   "execution_count": null,
   "id": "6a52c15d",
   "metadata": {},
   "outputs": [
    {
     "name": "stdout",
     "output_type": "stream",
     "text": [
      "[ 10.  13.  15.  14.  20. 100.  33.   5.]\n",
      "[ 10.  13.  15.  14.  20. 100.  33.   5.]\n",
      "True\n"
     ]
    }
   ],
   "source": [
    "import numpy as np\n",
    "from numba import njit\n",
    "\n",
    "\n",
    "@njit(cache=True, fastmath=True)\n",
    "def comb(n, k):\n",
    "    \"\"\"Implement comb(n,k) mathematical function.\"\"\"\n",
    "    if k < 0 or k > n:\n",
    "        return 0\n",
    "    if k > n - k:\n",
    "        k = n - k  # Take advantage of symmetry\n",
    "    c = 1\n",
    "    for i in range(k):\n",
    "        c = c * (n - i) // (i + 1)\n",
    "    return c\n",
    "\n",
    "\n",
    "@njit(cache=True, fastmath=True)\n",
    "def undifference(diff, initial_values):\n",
    "    \"\"\"\n",
    "    Reconstruct original time series from an n-th order differenced series.\n",
    "\n",
    "    Parameters\n",
    "    ----------\n",
    "    diff : array-like\n",
    "        n-th order differenced series of length N - n\n",
    "    initial_values : array-like\n",
    "        The first n values of the original series before differencing (length n)\n",
    "\n",
    "    Returns\n",
    "    -------\n",
    "    original : np.ndarray\n",
    "        Reconstructed original series of length N\n",
    "    \"\"\"\n",
    "    n = len(initial_values)\n",
    "    kernel = np.array(\n",
    "        [(-1) ** (k + 1) * comb(n, k) for k in range(1, n + 1)],\n",
    "        dtype=initial_values.dtype,\n",
    "    )\n",
    "    original = np.empty((n + len(diff)), dtype=initial_values.dtype)\n",
    "    original[:n] = initial_values\n",
    "\n",
    "    for i, d in enumerate(diff):\n",
    "        original[n + i] = np.dot(kernel, original[i : n + i][::-1]) + d\n",
    "\n",
    "    return original\n",
    "\n",
    "\n",
    "x = np.array([10, 13, 15, 14, 20, 100, 33, 5], dtype=np.float64)\n",
    "d2 = x  # np.diff(x, n=3)\n",
    "print(d2)\n",
    "x_recovered = undifference(d2, x[:0])\n",
    "print(x_recovered)\n",
    "print(np.allclose(x, x_recovered))  # True"
   ]
  },
  {
   "cell_type": "code",
   "execution_count": null,
   "id": "d407f110",
   "metadata": {},
   "outputs": [
    {
     "name": "stdout",
     "output_type": "stream",
     "text": [
      "Time taken for ARIMA model: 0.011441848278045653 seconds\n"
     ]
    }
   ],
   "source": [
    "import time\n",
    "\n",
    "import numpy as np\n",
    "\n",
    "from aeon.forecasting.stats import ARIMAForecaster\n",
    "\n",
    "aeon_model = ARIMAForecaster(p=1, d=0, q=1, use_constant=True)\n",
    "with open(\"temp.txt\", \"r\") as f:\n",
    "    model = np.fromfile(f, dtype=np.float64, count=750, sep=\",\")\n",
    "aeon_model.fit(np.random.normal(loc=0, scale=1, size=750))\n",
    "forecast = aeon_model.forecast_\n",
    "t0 = time.time()\n",
    "for _ in range(1000):\n",
    "    aeon_model = ARIMAForecaster(p=1, d=0, q=1, use_constant=True)\n",
    "    aeon_model.fit(model)\n",
    "    forecast = aeon_model.forecast_\n",
    "t1 = time.time()\n",
    "time_per_cycle = (t1 - t0) / 100\n",
    "print(f\"Time taken for ARIMA model: {time_per_cycle} seconds\")"
   ]
  },
  {
   "cell_type": "code",
   "execution_count": null,
   "id": "c23b7ed4",
   "metadata": {},
   "outputs": [],
   "source": [
    "from math import comb as math_comb\n",
    "\n",
    "from numba import njit\n",
    "\n",
    "for n in range(10):\n",
    "    for k in range(n - 1):\n",
    "        assert comb(n, k) == math_comb(n, k)"
   ]
  },
  {
   "cell_type": "code",
   "execution_count": 11,
   "id": "a68796fd",
   "metadata": {},
   "outputs": [
    {
     "name": "stdout",
     "output_type": "stream",
     "text": [
      "[[  3   2  -1   6  80 -67 -28]\n",
      " [ 41 -53 101  -5   1 -56   7]]\n",
      "[[ 10.  13.  15.  14.  20. 100.  33.   5.]\n",
      " [ 15.  56.   3. 104.  99. 100.  44.  51.]]\n"
     ]
    }
   ],
   "source": [
    "import numpy as np\n",
    "\n",
    "from aeon.transformations.series import DifferenceTransformer\n",
    "\n",
    "X = np.array([[10, 13, 15, 14, 20, 100, 33, 5], [15, 56, 3, 104, 99, 100, 44, 51]])\n",
    "transformer = DifferenceTransformer(order=1)\n",
    "Xt = transformer.fit_transform(X)\n",
    "print(Xt)\n",
    "X_hat = transformer.inverse_transform(Xt, X)\n",
    "print(X_hat)\n",
    "assert np.allclose(X, X_hat)"
   ]
  },
  {
   "cell_type": "code",
   "execution_count": null,
   "id": "094e660d",
   "metadata": {},
   "outputs": [
    {
     "name": "stderr",
     "output_type": "stream",
     "text": [
      "C:\\Users\\alexb\\Documents\\University\\PhD\\aeon\\aeon\\aeon\\forecasting\\utils\\_undifference.py:62: NumbaPerformanceWarning: \u001b[1m\u001b[1mnp.dot() is faster on contiguous arrays, called on (Array(float64, 1, 'C', False, aligned=True), Array(float64, 1, 'A', False, aligned=True))\u001b[0m\u001b[0m\n",
      "  original[n + i] = np.dot(kernel, original[i : n + i][::-1]) + d\n"
     ]
    },
    {
     "name": "stdout",
     "output_type": "stream",
     "text": [
      "(3,)\n",
      "ARIMA Forecast: [122.68454429 124.95567095 126.23839578]\n"
     ]
    }
   ],
   "source": [
    "import numpy as np\n",
    "\n",
    "from aeon.forecasting.stats import ARIMA\n",
    "\n",
    "y = np.array(\n",
    "    [112, 118, 132, 129, 121, 135, 148, 148, 136, 119, 104, 118], dtype=np.float64\n",
    ")\n",
    "model = ARIMA(p=1, d=1, q=1)\n",
    "horizon = 3\n",
    "preds = model.iterative_forecast(y, prediction_horizon=horizon)\n",
    "assert preds.shape == (horizon,)\n",
    "assert np.all(np.isfinite(preds))\n",
    "model = ARIMA(p=1, d=0, q=1, use_constant=True)\n",
    "preds = model.iterative_forecast(y, prediction_horizon=horizon)\n",
    "print(preds.shape)\n",
    "assert preds.shape == (horizon,)\n",
    "print(f\"ARIMA Forecast: {preds}\")"
   ]
  },
  {
   "cell_type": "code",
   "execution_count": 2,
   "id": "423d4514",
   "metadata": {},
   "outputs": [
    {
     "name": "stderr",
     "output_type": "stream",
     "text": [
      "C:\\Users\\alexb\\Documents\\University\\PhD\\aeon\\aeon\\aeon\\forecasting\\utils\\_undifference.py:62: NumbaPerformanceWarning: \u001b[1m\u001b[1mnp.dot() is faster on contiguous arrays, called on (Array(float64, 1, 'C', False, aligned=True), Array(float64, 1, 'A', False, aligned=True))\u001b[0m\u001b[0m\n",
      "  original[n + i] = np.dot(kernel, original[i : n + i][::-1]) + d\n"
     ]
    },
    {
     "data": {
      "text/plain": [
       "482.1873214419662"
      ]
     },
     "execution_count": 2,
     "metadata": {},
     "output_type": "execute_result"
    }
   ],
   "source": [
    "from aeon.datasets import load_airline\n",
    "from aeon.forecasting.stats import AutoARIMA\n",
    "\n",
    "y = load_airline()\n",
    "forecaster = AutoARIMA()\n",
    "forecaster.forecast(y)"
   ]
  },
  {
   "cell_type": "code",
   "execution_count": 1,
   "id": "3a68994b",
   "metadata": {},
   "outputs": [
    {
     "data": {
      "text/plain": [
       "435.9312382780535"
      ]
     },
     "execution_count": 1,
     "metadata": {},
     "output_type": "execute_result"
    }
   ],
   "source": [
    "from aeon.datasets import load_airline\n",
    "from aeon.forecasting.stats import AutoETS\n",
    "\n",
    "y = load_airline()\n",
    "forecaster = AutoETS()\n",
    "forecaster.forecast(y)"
   ]
  }
 ],
 "metadata": {
  "kernelspec": {
   "display_name": ".venv",
   "language": "python",
   "name": "python3"
  },
  "language_info": {
   "codemirror_mode": {
    "name": "ipython",
    "version": 3
   },
   "file_extension": ".py",
   "mimetype": "text/x-python",
   "name": "python",
   "nbconvert_exporter": "python",
   "pygments_lexer": "ipython3",
   "version": "3.13.5"
  }
 },
 "nbformat": 4,
 "nbformat_minor": 5
}
