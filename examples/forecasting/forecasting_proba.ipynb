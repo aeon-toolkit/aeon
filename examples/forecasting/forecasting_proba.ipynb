{
 "cells": [
  {
   "cell_type": "markdown",
   "id": "2bf7ad11",
   "metadata": {},
   "source": [
    "# Probabilistic Forecasting with `aeon`\n",
    "\n",
    "## Overview of this notebook\n",
    "\n",
    "* quick start - probabilistic forecasting\n",
    "* disambiguation - types of probabilistic forecasts\n",
    "* details: probabilistic forecasting interfaces\n",
    "* metrics for, and evaluation of probabilistic forecasts\n",
    "* advanced composition: pipelines, tuning, reduction\n",
    "* extender guide"
   ]
  },
  {
   "cell_type": "markdown",
   "id": "6586a019",
   "metadata": {},
   "source": [
    "---\n",
    "### Quick Start - Probabilistic Forecasting with `aeon`\n",
    "\n",
    "... works exactly like the basic forecasting workflow, replace `predict` by a probabilistic method!"
   ]
  },
  {
   "cell_type": "code",
   "execution_count": 1,
   "id": "painted-sullivan",
   "metadata": {
    "ExecuteTime": {
     "end_time": "2023-08-24T18:26:27.017442400Z",
     "start_time": "2023-08-24T18:26:24.145874Z"
    }
   },
   "outputs": [
    {
     "data": {
      "text/plain": "           Coverage            \n                0.9            \n              lower       upper\n1961-01  371.535093  481.554608\n1961-02  344.853206  497.712761\n1961-03  324.223996  508.191104",
      "text/html": "<div>\n<style scoped>\n    .dataframe tbody tr th:only-of-type {\n        vertical-align: middle;\n    }\n\n    .dataframe tbody tr th {\n        vertical-align: top;\n    }\n\n    .dataframe thead tr th {\n        text-align: left;\n    }\n</style>\n<table border=\"1\" class=\"dataframe\">\n  <thead>\n    <tr>\n      <th></th>\n      <th colspan=\"2\" halign=\"left\">Coverage</th>\n    </tr>\n    <tr>\n      <th></th>\n      <th colspan=\"2\" halign=\"left\">0.9</th>\n    </tr>\n    <tr>\n      <th></th>\n      <th>lower</th>\n      <th>upper</th>\n    </tr>\n  </thead>\n  <tbody>\n    <tr>\n      <th>1961-01</th>\n      <td>371.535093</td>\n      <td>481.554608</td>\n    </tr>\n    <tr>\n      <th>1961-02</th>\n      <td>344.853206</td>\n      <td>497.712761</td>\n    </tr>\n    <tr>\n      <th>1961-03</th>\n      <td>324.223996</td>\n      <td>508.191104</td>\n    </tr>\n  </tbody>\n</table>\n</div>"
     },
     "execution_count": 1,
     "metadata": {},
     "output_type": "execute_result"
    }
   ],
   "source": [
    "import warnings\n",
    "\n",
    "warnings.filterwarnings(\"ignore\")\n",
    "from aeon.datasets import load_airline\n",
    "from aeon.forecasting.arima import ARIMA\n",
    "\n",
    "# step 1: data specification\n",
    "y = load_airline()\n",
    "# step 2: specifying forecasting horizon\n",
    "fh = [1, 2, 3]\n",
    "# step 3: specifying the forecasting algorithm\n",
    "forecaster = ARIMA()\n",
    "# step 4: fitting the forecaster\n",
    "forecaster.fit(y, fh=[1, 2, 3])\n",
    "# step 5: querying predictions\n",
    "y_pred = forecaster.predict()\n",
    "\n",
    "# for probabilistic forecasting:\n",
    "#   call a probabilistic forecasting method after or instead of step 5\n",
    "y_pred_int = forecaster.predict_interval(coverage=0.9)\n",
    "y_pred_int"
   ]
  },
  {
   "cell_type": "markdown",
   "id": "a864b9c1",
   "metadata": {},
   "source": [
    "**probabilistic forecasting methods in `aeon`**:\n",
    "\n",
    "* forecast intervals    - `predict_interval(fh=None, X=None, coverage=0.90)`\n",
    "* forecast quantiles    - `predict_quantiles(fh=None, X=None, alpha=[0.05, 0.95])`\n",
    "* forecast variance     - `predict_var(fh=None, X=None, cov=False)`\n",
    "* distribution forecast - `predict_proba(fh=None, X=None, marginal=True)`"
   ]
  },
  {
   "cell_type": "markdown",
   "id": "b57a3be0",
   "metadata": {},
   "source": [
    "To check which forecasters in `aeon` support probabilistic forecasting, use the `registry.all_estimators` utility and search for estimators which have the `capability:pred_int` tag (value `True`).\n",
    "\n",
    "For composites such as pipelines, a positive tag means that logic is implemented if (some or all) components support it."
   ]
  },
  {
   "cell_type": "code",
   "execution_count": 2,
   "id": "a7490769",
   "metadata": {
    "ExecuteTime": {
     "end_time": "2023-08-24T18:26:29.680029800Z",
     "start_time": "2023-08-24T18:26:25.323595Z"
    }
   },
   "outputs": [
    {
     "data": {
      "text/plain": "                             name  \\\n0                           ARIMA   \n1                       AutoARIMA   \n2                         AutoETS   \n3                            BATS   \n4               BaggingForecaster   \n5        ColumnEnsembleForecaster   \n6              ConformalIntervals   \n7                   DynamicFactor   \n8                       ForecastX   \n9         ForecastingGridSearchCV   \n10            ForecastingPipeline   \n11  ForecastingRandomizedSearchCV   \n12                NaiveForecaster   \n13                  NaiveVariance   \n14                        Permute   \n15                        Prophet   \n16              SquaringResiduals   \n17         StatsForecastAutoARIMA   \n18                          TBATS   \n19                ThetaForecaster   \n20    TransformedTargetForecaster   \n21           UnobservedComponents   \n22                            VAR   \n23                           VECM   \n\n                                            estimator  \n0              <class 'aeon.forecasting.arima.ARIMA'>  \n1          <class 'aeon.forecasting.arima.AutoARIMA'>  \n2              <class 'aeon.forecasting.ets.AutoETS'>  \n3                <class 'aeon.forecasting.bats.BATS'>  \n4   <class 'aeon.forecasting.compose._bagging.Bagg...  \n5   <class 'aeon.forecasting.compose._column_ensem...  \n6   <class 'aeon.forecasting.conformal.ConformalIn...  \n7   <class 'aeon.forecasting.dynamic_factor.Dynami...  \n8   <class 'aeon.forecasting.compose._pipeline.For...  \n9   <class 'aeon.forecasting.model_selection._tune...  \n10  <class 'aeon.forecasting.compose._pipeline.For...  \n11  <class 'aeon.forecasting.model_selection._tune...  \n12   <class 'aeon.forecasting.naive.NaiveForecaster'>  \n13     <class 'aeon.forecasting.naive.NaiveVariance'>  \n14  <class 'aeon.forecasting.compose._pipeline.Per...  \n15       <class 'aeon.forecasting.fbprophet.Prophet'>  \n16  <class 'aeon.forecasting.squaring_residuals.Sq...  \n17  <class 'aeon.forecasting.statsforecast.StatsFo...  \n18             <class 'aeon.forecasting.tbats.TBATS'>  \n19   <class 'aeon.forecasting.theta.ThetaForecaster'>  \n20  <class 'aeon.forecasting.compose._pipeline.Tra...  \n21  <class 'aeon.forecasting.structural.Unobserved...  \n22                 <class 'aeon.forecasting.var.VAR'>  \n23               <class 'aeon.forecasting.vecm.VECM'>  ",
      "text/html": "<div>\n<style scoped>\n    .dataframe tbody tr th:only-of-type {\n        vertical-align: middle;\n    }\n\n    .dataframe tbody tr th {\n        vertical-align: top;\n    }\n\n    .dataframe thead th {\n        text-align: right;\n    }\n</style>\n<table border=\"1\" class=\"dataframe\">\n  <thead>\n    <tr style=\"text-align: right;\">\n      <th></th>\n      <th>name</th>\n      <th>estimator</th>\n    </tr>\n  </thead>\n  <tbody>\n    <tr>\n      <th>0</th>\n      <td>ARIMA</td>\n      <td>&lt;class 'aeon.forecasting.arima.ARIMA'&gt;</td>\n    </tr>\n    <tr>\n      <th>1</th>\n      <td>AutoARIMA</td>\n      <td>&lt;class 'aeon.forecasting.arima.AutoARIMA'&gt;</td>\n    </tr>\n    <tr>\n      <th>2</th>\n      <td>AutoETS</td>\n      <td>&lt;class 'aeon.forecasting.ets.AutoETS'&gt;</td>\n    </tr>\n    <tr>\n      <th>3</th>\n      <td>BATS</td>\n      <td>&lt;class 'aeon.forecasting.bats.BATS'&gt;</td>\n    </tr>\n    <tr>\n      <th>4</th>\n      <td>BaggingForecaster</td>\n      <td>&lt;class 'aeon.forecasting.compose._bagging.Bagg...</td>\n    </tr>\n    <tr>\n      <th>5</th>\n      <td>ColumnEnsembleForecaster</td>\n      <td>&lt;class 'aeon.forecasting.compose._column_ensem...</td>\n    </tr>\n    <tr>\n      <th>6</th>\n      <td>ConformalIntervals</td>\n      <td>&lt;class 'aeon.forecasting.conformal.ConformalIn...</td>\n    </tr>\n    <tr>\n      <th>7</th>\n      <td>DynamicFactor</td>\n      <td>&lt;class 'aeon.forecasting.dynamic_factor.Dynami...</td>\n    </tr>\n    <tr>\n      <th>8</th>\n      <td>ForecastX</td>\n      <td>&lt;class 'aeon.forecasting.compose._pipeline.For...</td>\n    </tr>\n    <tr>\n      <th>9</th>\n      <td>ForecastingGridSearchCV</td>\n      <td>&lt;class 'aeon.forecasting.model_selection._tune...</td>\n    </tr>\n    <tr>\n      <th>10</th>\n      <td>ForecastingPipeline</td>\n      <td>&lt;class 'aeon.forecasting.compose._pipeline.For...</td>\n    </tr>\n    <tr>\n      <th>11</th>\n      <td>ForecastingRandomizedSearchCV</td>\n      <td>&lt;class 'aeon.forecasting.model_selection._tune...</td>\n    </tr>\n    <tr>\n      <th>12</th>\n      <td>NaiveForecaster</td>\n      <td>&lt;class 'aeon.forecasting.naive.NaiveForecaster'&gt;</td>\n    </tr>\n    <tr>\n      <th>13</th>\n      <td>NaiveVariance</td>\n      <td>&lt;class 'aeon.forecasting.naive.NaiveVariance'&gt;</td>\n    </tr>\n    <tr>\n      <th>14</th>\n      <td>Permute</td>\n      <td>&lt;class 'aeon.forecasting.compose._pipeline.Per...</td>\n    </tr>\n    <tr>\n      <th>15</th>\n      <td>Prophet</td>\n      <td>&lt;class 'aeon.forecasting.fbprophet.Prophet'&gt;</td>\n    </tr>\n    <tr>\n      <th>16</th>\n      <td>SquaringResiduals</td>\n      <td>&lt;class 'aeon.forecasting.squaring_residuals.Sq...</td>\n    </tr>\n    <tr>\n      <th>17</th>\n      <td>StatsForecastAutoARIMA</td>\n      <td>&lt;class 'aeon.forecasting.statsforecast.StatsFo...</td>\n    </tr>\n    <tr>\n      <th>18</th>\n      <td>TBATS</td>\n      <td>&lt;class 'aeon.forecasting.tbats.TBATS'&gt;</td>\n    </tr>\n    <tr>\n      <th>19</th>\n      <td>ThetaForecaster</td>\n      <td>&lt;class 'aeon.forecasting.theta.ThetaForecaster'&gt;</td>\n    </tr>\n    <tr>\n      <th>20</th>\n      <td>TransformedTargetForecaster</td>\n      <td>&lt;class 'aeon.forecasting.compose._pipeline.Tra...</td>\n    </tr>\n    <tr>\n      <th>21</th>\n      <td>UnobservedComponents</td>\n      <td>&lt;class 'aeon.forecasting.structural.Unobserved...</td>\n    </tr>\n    <tr>\n      <th>22</th>\n      <td>VAR</td>\n      <td>&lt;class 'aeon.forecasting.var.VAR'&gt;</td>\n    </tr>\n    <tr>\n      <th>23</th>\n      <td>VECM</td>\n      <td>&lt;class 'aeon.forecasting.vecm.VECM'&gt;</td>\n    </tr>\n  </tbody>\n</table>\n</div>"
     },
     "execution_count": 2,
     "metadata": {},
     "output_type": "execute_result"
    }
   ],
   "source": [
    "from aeon.registry import all_estimators\n",
    "\n",
    "all_estimators(\n",
    "    \"forecaster\", filter_tags={\"capability:pred_int\": True}, as_dataframe=True\n",
    ")"
   ]
  },
  {
   "cell_type": "markdown",
   "id": "impressive-deviation",
   "metadata": {},
   "source": [
    "---\n",
    "### What is probabilistic forecasting?\n",
    "\n",
    "#### Intuition\n",
    "\n",
    "* produce low/high scenarios of forecasts\n",
    "* quantify uncertainty around forecasts\n",
    "* produce expected range of variation of forecasts"
   ]
  },
  {
   "cell_type": "markdown",
   "id": "435f59bf",
   "metadata": {},
   "source": [
    "#### Interface view\n",
    "\n",
    "**Want** to produce \"distribution\" or \"range\" of forecast values,\n",
    "\n",
    "at time stamps defined by **forecasting horizon** `fh`\n",
    "\n",
    "given **past data** `y` (series), and possibly exogeneous data `X`\n",
    "\n",
    "Input, to `fit` or `predict`: `fh`, `y`, `X`\n",
    "\n",
    "Output, from `predict_probabilistic`: some \"distribution\" or \"range\" object"
   ]
  },
  {
   "cell_type": "markdown",
   "id": "5daec146",
   "metadata": {},
   "source": [
    "**Big caveat**: there are multiple possible ways to model \"distribution\" or \"range\"!\n",
    "\n",
    "Used in practice and easily confused! (and often, practically, confused!)"
   ]
  },
  {
   "cell_type": "markdown",
   "id": "a1c0f1dc",
   "metadata": {},
   "source": [
    "#### Formal view (endogeneous, one forecast time stamp)\n",
    "\n",
    "Let $y(t_1), \\dots, y(t_n)$ be observations at fixed time stamps $t_1, \\dots, t_n$.\n",
    "\n",
    "(we consider $y$ as an $\\mathbb{R}^n$-valued random variable)\n",
    "\n",
    "Let $y'$ be a (true) value, which will be observed at a future time stamp $\\tau$.\n",
    "\n",
    "(we consider $y'$ as an $\\mathbb{R}$-valued random variable)\n",
    "\n",
    "We have the following \"types of forecasts\" of $y'$:\n",
    "\n",
    "| Name                  | param             | prediction/estimate of                      | `aeon`              |\n",
    "|-----------------------|-------------------|---------------------------------------------|---------------------|\n",
    "| point forecast        |                   | conditional expectation $\\mathbb{E}[y'\\|y]$ | `predict`           |\n",
    "| variance forecast     |                   | conditional variance $Var[y'\\|y]$           | `predict_var`       |\n",
    "| quantile forecast     | $\\alpha\\in (0,1)$ | $\\alpha$-quantile of $y'\\|y$                | `predict_quantiles` |\n",
    "| interval forecast     | $c\\in (0,1)$      | $[a,b]$ s.t. $P(a\\le y' \\le b\\| y) = c$     | `predict_interval`  |\n",
    "| distribution forecast |                   | the law/distribution of $y'\\|y$             | `predict_proba`     |\n",
    "\n",
    "Notes:\n",
    "\n",
    "* different forecasters have different capabilities!\n",
    "* metrics, evaluation & tuning are different by \"type of forecast\"\n",
    "* compositors can \"add\" type of forecast! Example: bootstrap\n",
    "\n",
    "##### More formal details & intuition:\n",
    "\n",
    "* a **\"point forecast\"** is a prediction/estimate of the conditional expectation $\\mathbb{E}[y'|y]$.\\\n",
    " **Intuition**: \"out of many repetitions/worlds, this value is the arithmetic average of all observations\".\n",
    "* a **\"variance forecast\"** is a prediction/estimate of the conditional expectation $Var[y'|y]$.\\\n",
    " **Intuition:** \"out of many repetitions/worlds, this value is the average squared distance of the observation to the perfect point forecast\".\n",
    "* a **\"quantile forecast\"**, at quantile point $\\alpha\\in (0,1)$ is a prediction/estimate of the $\\alpha$-quantile of $y'|y$, i.e., of $F^{-1}_{y'|y}(\\alpha)$, where $F^{-1}$ is the (generalized) inverse cdf = quantile function of the random variable $y'|y$.\\\n",
    " **Intuition**: \"out of many repetitions/worlds, a fraction of exactly $\\alpha$ will have equal or smaller than this value.\"\n",
    "* an **\"interval forecast\"** or \"predictive interval\" with (symmetric) coverage $c\\in (0,1)$ is a prediction/estimate pair of lower bound $a$ and upper bound $b$ such that $P(a\\le y' \\le b| y) = c$ and $P(y' \\gneq b| y) = P(y' \\lneq a| y) = (1 - c) /2$.\\\n",
    " **Intuition**: \"out of many repetitions/worlds, a fraction of exactly $c$ will be contained in the interval $[a,b]$, and being above is equally likely as being below\".\n",
    "* a **\"distribution forecast\"** or \"full probabilistic forecast\" is a prediction/estimate of the distribution of $y'|y$, e.g., \"it's a normal distribution with mean 42 and variance 1\".\\\n",
    "**Intuition**: exhaustive description of the generating mechanism of many repetitions/worlds."
   ]
  },
  {
   "cell_type": "markdown",
   "id": "425bccbe",
   "metadata": {},
   "source": [
    "Notes:\n",
    "\n",
    "* lower/upper of interval forecasts are quantile forecasts at quantile points $0.5 - c/2$ and $0.5 + c/2$ (as long as forecast distributions are absolutely continuous).\n",
    "* all other forecasts can be obtained from a full probabilistic forecasts; a full probabilistic forecast can be obtained from all quantile forecasts or all interval forecasts.\n",
    "* there is no exact relation between the other types of forecasts (point or variance vs quantile)\n",
    "* in particular, point forecast does not need to be median forecast aka 0.5-quantile forecast. Can be $\\alpha$-quantile for any $\\alpha$!"
   ]
  },
  {
   "cell_type": "markdown",
   "id": "7f5b10b6",
   "metadata": {},
   "source": [
    "Frequent confusion in literature & python packages:\n",
    "* coverage `c` vs quantile `\\alpha`\n",
    "* coverage `c` vs significance `p = 1-c`\n",
    "* quantile of lower interval bound, `p/2`, vs `p`\n",
    "* interval forecasts vs related, but substantially different concepts: confidence interval on predictive mean; Bayesian posterior or credibility interval of the predictive mean\n",
    "* all forecasts above can be Bayesian, confusion: \"posteriors are different\" or \"have to be evaluted differently\""
   ]
  },
  {
   "cell_type": "markdown",
   "id": "4d944c96",
   "metadata": {},
   "source": [
    "---\n",
    "### Probabilistic forecasting interfaces in `aeon`\n",
    "\n",
    "This section:\n",
    "\n",
    "* walkthrough of probabilistic predict methods\n",
    "* use in update/predict workflow\n",
    "* multivariate and hierarchical data\n",
    "\n",
    "All forecasters with tag `capability:pred_int` provide the following:\n",
    "\n",
    "* forecast intervals    - `predict_interval(fh=None, X=None, coverage=0.90)`\n",
    "* forecast quantiles    - `predict_quantiles(fh=None, X=None, alpha=[0.05, 0.95])`\n",
    "* forecast variance     - `predict_var(fh=None, X=None, cov=False)`\n",
    "* distribution forecast - `predict_proba(fh=None, X=None, marginal=True)`\n",
    "\n",
    "Generalities:\n",
    "\n",
    "* methods do not change state, multiple can be called\n",
    "* `fh` is optional, if passed late\n",
    "* exogeneous data `X` can be passed"
   ]
  },
  {
   "cell_type": "code",
   "execution_count": 3,
   "id": "85f32fff",
   "metadata": {
    "ExecuteTime": {
     "end_time": "2023-08-24T18:26:29.720919300Z",
     "start_time": "2023-08-24T18:26:29.670545700Z"
    }
   },
   "outputs": [
    {
     "data": {
      "text/plain": "ThetaForecaster(sp=12)",
      "text/html": "<style>#sk-container-id-1 {color: black;background-color: white;}#sk-container-id-1 pre{padding: 0;}#sk-container-id-1 div.sk-toggleable {background-color: white;}#sk-container-id-1 label.sk-toggleable__label {cursor: pointer;display: block;width: 100%;margin-bottom: 0;padding: 0.3em;box-sizing: border-box;text-align: center;}#sk-container-id-1 label.sk-toggleable__label-arrow:before {content: \"▸\";float: left;margin-right: 0.25em;color: #696969;}#sk-container-id-1 label.sk-toggleable__label-arrow:hover:before {color: black;}#sk-container-id-1 div.sk-estimator:hover label.sk-toggleable__label-arrow:before {color: black;}#sk-container-id-1 div.sk-toggleable__content {max-height: 0;max-width: 0;overflow: hidden;text-align: left;background-color: #f0f8ff;}#sk-container-id-1 div.sk-toggleable__content pre {margin: 0.2em;color: black;border-radius: 0.25em;background-color: #f0f8ff;}#sk-container-id-1 input.sk-toggleable__control:checked~div.sk-toggleable__content {max-height: 200px;max-width: 100%;overflow: auto;}#sk-container-id-1 input.sk-toggleable__control:checked~label.sk-toggleable__label-arrow:before {content: \"▾\";}#sk-container-id-1 div.sk-estimator input.sk-toggleable__control:checked~label.sk-toggleable__label {background-color: #d4ebff;}#sk-container-id-1 div.sk-label input.sk-toggleable__control:checked~label.sk-toggleable__label {background-color: #d4ebff;}#sk-container-id-1 input.sk-hidden--visually {border: 0;clip: rect(1px 1px 1px 1px);clip: rect(1px, 1px, 1px, 1px);height: 1px;margin: -1px;overflow: hidden;padding: 0;position: absolute;width: 1px;}#sk-container-id-1 div.sk-estimator {font-family: monospace;background-color: #f0f8ff;border: 1px dotted black;border-radius: 0.25em;box-sizing: border-box;margin-bottom: 0.5em;}#sk-container-id-1 div.sk-estimator:hover {background-color: #d4ebff;}#sk-container-id-1 div.sk-parallel-item::after {content: \"\";width: 100%;border-bottom: 1px solid gray;flex-grow: 1;}#sk-container-id-1 div.sk-label:hover label.sk-toggleable__label {background-color: #d4ebff;}#sk-container-id-1 div.sk-serial::before {content: \"\";position: absolute;border-left: 1px solid gray;box-sizing: border-box;top: 0;bottom: 0;left: 50%;z-index: 0;}#sk-container-id-1 div.sk-serial {display: flex;flex-direction: column;align-items: center;background-color: white;padding-right: 0.2em;padding-left: 0.2em;position: relative;}#sk-container-id-1 div.sk-item {position: relative;z-index: 1;}#sk-container-id-1 div.sk-parallel {display: flex;align-items: stretch;justify-content: center;background-color: white;position: relative;}#sk-container-id-1 div.sk-item::before, #sk-container-id-1 div.sk-parallel-item::before {content: \"\";position: absolute;border-left: 1px solid gray;box-sizing: border-box;top: 0;bottom: 0;left: 50%;z-index: -1;}#sk-container-id-1 div.sk-parallel-item {display: flex;flex-direction: column;z-index: 1;position: relative;background-color: white;}#sk-container-id-1 div.sk-parallel-item:first-child::after {align-self: flex-end;width: 50%;}#sk-container-id-1 div.sk-parallel-item:last-child::after {align-self: flex-start;width: 50%;}#sk-container-id-1 div.sk-parallel-item:only-child::after {width: 0;}#sk-container-id-1 div.sk-dashed-wrapped {border: 1px dashed gray;margin: 0 0.4em 0.5em 0.4em;box-sizing: border-box;padding-bottom: 0.4em;background-color: white;}#sk-container-id-1 div.sk-label label {font-family: monospace;font-weight: bold;display: inline-block;line-height: 1.2em;}#sk-container-id-1 div.sk-label-container {text-align: center;}#sk-container-id-1 div.sk-container {/* jupyter's `normalize.less` sets `[hidden] { display: none; }` but bootstrap.min.css set `[hidden] { display: none !important; }` so we also need the `!important` here to be able to override the default hidden behavior on the sphinx rendered scikit-learn.org. See: https://github.com/scikit-learn/scikit-learn/issues/21755 */display: inline-block !important;position: relative;}#sk-container-id-1 div.sk-text-repr-fallback {display: none;}</style><div id=\"sk-container-id-1\" class=\"sk-top-container\"><div class=\"sk-text-repr-fallback\"><pre>ThetaForecaster(sp=12)</pre><b>In a Jupyter environment, please rerun this cell to show the HTML representation or trust the notebook. <br />On GitHub, the HTML representation is unable to render, please try loading this page with nbviewer.org.</b></div><div class=\"sk-container\" hidden><div class=\"sk-item\"><div class=\"sk-estimator sk-toggleable\"><input class=\"sk-toggleable__control sk-hidden--visually\" id=\"sk-estimator-id-1\" type=\"checkbox\" checked><label for=\"sk-estimator-id-1\" class=\"sk-toggleable__label sk-toggleable__label-arrow\">ThetaForecaster</label><div class=\"sk-toggleable__content\"><pre>ThetaForecaster(sp=12)</pre></div></div></div></div></div>"
     },
     "execution_count": 3,
     "metadata": {},
     "output_type": "execute_result"
    }
   ],
   "source": [
    "import numpy as np\n",
    "\n",
    "from aeon.datasets import load_airline\n",
    "from aeon.forecasting.theta import ThetaForecaster\n",
    "\n",
    "# until fit, identical with the simple workflow\n",
    "y = load_airline()\n",
    "\n",
    "fh = np.arange(1, 13)\n",
    "\n",
    "forecaster = ThetaForecaster(sp=12)\n",
    "forecaster.fit(y, fh=fh)"
   ]
  },
  {
   "cell_type": "markdown",
   "id": "52ff10e6",
   "metadata": {},
   "source": [
    "##### `predict_interval` - interval predictions"
   ]
  },
  {
   "cell_type": "markdown",
   "id": "4995fbc2",
   "metadata": {},
   "source": [
    "Inputs:\\\n",
    "`fh` - forecasting horizon (not necessary if seen in `fit`)\\\n",
    "`coverage`, float or list of floats, default=`0.9`\\\n",
    "nominal coverage(s) of the prediction interval(s) queried\n",
    "\n",
    "Output: `pandas.DataFrame`\\\n",
    "Row index is `fh`\\\n",
    "Column has multi-index:\\\n",
    "1st level = variable name from y in fit\\\n",
    "2nd level = coverage fractions in `coverage`\\\n",
    "3rd level = string \"lower\" or \"upper\"\\\n",
    "\n",
    "Entries = forecasts of lower/upper interval at nominal coverage in 2nd lvl, for var in 1st lvl, for time in row"
   ]
  },
  {
   "cell_type": "code",
   "execution_count": 4,
   "id": "f81bcc0c",
   "metadata": {
    "ExecuteTime": {
     "end_time": "2023-08-24T18:26:29.866550600Z",
     "start_time": "2023-08-24T18:26:29.696983800Z"
    }
   },
   "outputs": [
    {
     "data": {
      "text/plain": "           Coverage            \n                0.9            \n              lower       upper\n1961-01  418.280121  464.281951\n1961-02  402.215881  456.888055\n1961-03  459.966113  522.110500\n1961-04  442.589309  511.399214\n1961-05  443.525027  518.409480\n1961-06  506.585814  587.087737\n1961-07  561.496768  647.248956\n1961-08  557.363322  648.062363\n1961-09  477.658056  573.047752\n1961-10  407.915090  507.775355\n1961-11  346.942924  451.082016\n1961-12  394.708221  502.957142",
      "text/html": "<div>\n<style scoped>\n    .dataframe tbody tr th:only-of-type {\n        vertical-align: middle;\n    }\n\n    .dataframe tbody tr th {\n        vertical-align: top;\n    }\n\n    .dataframe thead tr th {\n        text-align: left;\n    }\n</style>\n<table border=\"1\" class=\"dataframe\">\n  <thead>\n    <tr>\n      <th></th>\n      <th colspan=\"2\" halign=\"left\">Coverage</th>\n    </tr>\n    <tr>\n      <th></th>\n      <th colspan=\"2\" halign=\"left\">0.9</th>\n    </tr>\n    <tr>\n      <th></th>\n      <th>lower</th>\n      <th>upper</th>\n    </tr>\n  </thead>\n  <tbody>\n    <tr>\n      <th>1961-01</th>\n      <td>418.280121</td>\n      <td>464.281951</td>\n    </tr>\n    <tr>\n      <th>1961-02</th>\n      <td>402.215881</td>\n      <td>456.888055</td>\n    </tr>\n    <tr>\n      <th>1961-03</th>\n      <td>459.966113</td>\n      <td>522.110500</td>\n    </tr>\n    <tr>\n      <th>1961-04</th>\n      <td>442.589309</td>\n      <td>511.399214</td>\n    </tr>\n    <tr>\n      <th>1961-05</th>\n      <td>443.525027</td>\n      <td>518.409480</td>\n    </tr>\n    <tr>\n      <th>1961-06</th>\n      <td>506.585814</td>\n      <td>587.087737</td>\n    </tr>\n    <tr>\n      <th>1961-07</th>\n      <td>561.496768</td>\n      <td>647.248956</td>\n    </tr>\n    <tr>\n      <th>1961-08</th>\n      <td>557.363322</td>\n      <td>648.062363</td>\n    </tr>\n    <tr>\n      <th>1961-09</th>\n      <td>477.658056</td>\n      <td>573.047752</td>\n    </tr>\n    <tr>\n      <th>1961-10</th>\n      <td>407.915090</td>\n      <td>507.775355</td>\n    </tr>\n    <tr>\n      <th>1961-11</th>\n      <td>346.942924</td>\n      <td>451.082016</td>\n    </tr>\n    <tr>\n      <th>1961-12</th>\n      <td>394.708221</td>\n      <td>502.957142</td>\n    </tr>\n  </tbody>\n</table>\n</div>"
     },
     "execution_count": 4,
     "metadata": {},
     "output_type": "execute_result"
    }
   ],
   "source": [
    "coverage = 0.9\n",
    "y_pred_ints = forecaster.predict_interval(coverage=coverage)\n",
    "y_pred_ints"
   ]
  },
  {
   "cell_type": "markdown",
   "id": "3f9f840e",
   "metadata": {},
   "source": [
    "pretty-plotting the predictive interval forecasts:"
   ]
  },
  {
   "cell_type": "code",
   "execution_count": 5,
   "id": "efa4f7a6",
   "metadata": {
    "ExecuteTime": {
     "end_time": "2023-08-24T18:26:31.137434900Z",
     "start_time": "2023-08-24T18:26:29.729895700Z"
    }
   },
   "outputs": [
    {
     "data": {
      "text/plain": "<Figure size 1600x400 with 1 Axes>",
      "image/png": "[encoded data removed]"
     },
     "metadata": {},
     "output_type": "display_data"
    }
   ],
   "source": [
    "from aeon.visualisation import plot_series\n",
    "\n",
    "# also requires predictions\n",
    "y_pred = forecaster.predict()\n",
    "\n",
    "fig, ax = plot_series(y, y_pred, labels=[\"y\", \"y_pred\"])\n",
    "ax.fill_between(\n",
    "    ax.get_lines()[-1].get_xdata(),\n",
    "    y_pred_ints[\"Coverage\"][coverage][\"lower\"],\n",
    "    y_pred_ints[\"Coverage\"][coverage][\"upper\"],\n",
    "    alpha=0.2,\n",
    "    color=ax.get_lines()[-1].get_c(),\n",
    "    label=f\"{coverage} cov.pred.intervals\",\n",
    ")\n",
    "ax.legend();"
   ]
  },
  {
   "cell_type": "markdown",
   "id": "3afcdc20",
   "metadata": {},
   "source": [
    "multiple coverages:"
   ]
  },
  {
   "cell_type": "code",
   "execution_count": 6,
   "id": "534f4490",
   "metadata": {
    "ExecuteTime": {
     "end_time": "2023-08-24T18:26:31.168859600Z",
     "start_time": "2023-08-24T18:26:31.127461800Z"
    }
   },
   "outputs": [
    {
     "data": {
      "text/plain": "           Coverage                                                  \\\n               0.50                    0.90                    0.95   \n              lower       upper       lower       upper       lower   \n1961-01  431.849266  450.712806  418.280121  464.281951  413.873755   \n1961-02  418.342514  440.761421  402.215881  456.888055  396.979011   \n1961-03  478.296822  503.779790  459.966113  522.110500  454.013504   \n1961-04  462.886144  491.102379  442.589309  511.399214  435.998232   \n1961-05  465.613670  496.320837  443.525027  518.409480  436.352089   \n1961-06  530.331440  563.342111  506.585814  587.087737  498.874797   \n1961-07  586.791063  621.954661  561.496768  647.248956  553.282845   \n1961-08  584.116789  621.308897  557.363322  648.062363  548.675556   \n1961-09  505.795123  544.910684  477.658056  573.047752  468.520987   \n1961-10  437.370840  478.319605  407.915090  507.775355  398.349800   \n1961-11  377.660798  420.364142  346.942924  451.082016  336.967779   \n1961-12  426.638370  471.026993  394.708221  502.957142  384.339409   \n\n                     \n                     \n              upper  \n1961-01  468.688317  \n1961-02  462.124925  \n1961-03  528.063109  \n1961-04  517.990291  \n1961-05  525.582418  \n1961-06  594.798754  \n1961-07  655.462879  \n1961-08  656.750129  \n1961-09  582.184821  \n1961-10  517.340645  \n1961-11  461.057161  \n1961-12  513.325954  ",
      "text/html": "<div>\n<style scoped>\n    .dataframe tbody tr th:only-of-type {\n        vertical-align: middle;\n    }\n\n    .dataframe tbody tr th {\n        vertical-align: top;\n    }\n\n    .dataframe thead tr th {\n        text-align: left;\n    }\n</style>\n<table border=\"1\" class=\"dataframe\">\n  <thead>\n    <tr>\n      <th></th>\n      <th colspan=\"6\" halign=\"left\">Coverage</th>\n    </tr>\n    <tr>\n      <th></th>\n      <th colspan=\"2\" halign=\"left\">0.50</th>\n      <th colspan=\"2\" halign=\"left\">0.90</th>\n      <th colspan=\"2\" halign=\"left\">0.95</th>\n    </tr>\n    <tr>\n      <th></th>\n      <th>lower</th>\n      <th>upper</th>\n      <th>lower</th>\n      <th>upper</th>\n      <th>lower</th>\n      <th>upper</th>\n    </tr>\n  </thead>\n  <tbody>\n    <tr>\n      <th>1961-01</th>\n      <td>431.849266</td>\n      <td>450.712806</td>\n      <td>418.280121</td>\n      <td>464.281951</td>\n      <td>413.873755</td>\n      <td>468.688317</td>\n    </tr>\n    <tr>\n      <th>1961-02</th>\n      <td>418.342514</td>\n      <td>440.761421</td>\n      <td>402.215881</td>\n      <td>456.888055</td>\n      <td>396.979011</td>\n      <td>462.124925</td>\n    </tr>\n    <tr>\n      <th>1961-03</th>\n      <td>478.296822</td>\n      <td>503.779790</td>\n      <td>459.966113</td>\n      <td>522.110500</td>\n      <td>454.013504</td>\n      <td>528.063109</td>\n    </tr>\n    <tr>\n      <th>1961-04</th>\n      <td>462.886144</td>\n      <td>491.102379</td>\n      <td>442.589309</td>\n      <td>511.399214</td>\n      <td>435.998232</td>\n      <td>517.990291</td>\n    </tr>\n    <tr>\n      <th>1961-05</th>\n      <td>465.613670</td>\n      <td>496.320837</td>\n      <td>443.525027</td>\n      <td>518.409480</td>\n      <td>436.352089</td>\n      <td>525.582418</td>\n    </tr>\n    <tr>\n      <th>1961-06</th>\n      <td>530.331440</td>\n      <td>563.342111</td>\n      <td>506.585814</td>\n      <td>587.087737</td>\n      <td>498.874797</td>\n      <td>594.798754</td>\n    </tr>\n    <tr>\n      <th>1961-07</th>\n      <td>586.791063</td>\n      <td>621.954661</td>\n      <td>561.496768</td>\n      <td>647.248956</td>\n      <td>553.282845</td>\n      <td>655.462879</td>\n    </tr>\n    <tr>\n      <th>1961-08</th>\n      <td>584.116789</td>\n      <td>621.308897</td>\n      <td>557.363322</td>\n      <td>648.062363</td>\n      <td>548.675556</td>\n      <td>656.750129</td>\n    </tr>\n    <tr>\n      <th>1961-09</th>\n      <td>505.795123</td>\n      <td>544.910684</td>\n      <td>477.658056</td>\n      <td>573.047752</td>\n      <td>468.520987</td>\n      <td>582.184821</td>\n    </tr>\n    <tr>\n      <th>1961-10</th>\n      <td>437.370840</td>\n      <td>478.319605</td>\n      <td>407.915090</td>\n      <td>507.775355</td>\n      <td>398.349800</td>\n      <td>517.340645</td>\n    </tr>\n    <tr>\n      <th>1961-11</th>\n      <td>377.660798</td>\n      <td>420.364142</td>\n      <td>346.942924</td>\n      <td>451.082016</td>\n      <td>336.967779</td>\n      <td>461.057161</td>\n    </tr>\n    <tr>\n      <th>1961-12</th>\n      <td>426.638370</td>\n      <td>471.026993</td>\n      <td>394.708221</td>\n      <td>502.957142</td>\n      <td>384.339409</td>\n      <td>513.325954</td>\n    </tr>\n  </tbody>\n</table>\n</div>"
     },
     "execution_count": 6,
     "metadata": {},
     "output_type": "execute_result"
    }
   ],
   "source": [
    "coverage = [0.5, 0.9, 0.95]\n",
    "y_pred_ints = forecaster.predict_interval(coverage=coverage)\n",
    "y_pred_ints"
   ]
  },
  {
   "cell_type": "markdown",
   "id": "d00f1db2",
   "metadata": {},
   "source": [
    "##### `predict_quantiles` - quantile forecasts"
   ]
  },
  {
   "cell_type": "markdown",
   "id": "9468c5f4",
   "metadata": {},
   "source": [
    "Inputs:\\\n",
    "`fh` - forecasting horizon (not necessary if seen in `fit`)\\\n",
    "`alpha`, float or list of floats, default = `[0.1, 0.9]`\\\n",
    "quantile points at which quantiles are queried\n",
    "\n",
    "Output: `pandas.DataFrame`\\\n",
    "Row index is `fh`\\\n",
    "Column has multi-index:\\\n",
    "1st level = variable name from y in fit\\\n",
    "2nd level = quantile points in `alpha`\\\n",
    "\n",
    "Entries = forecasts of quantiles at quantile point in 2nd lvl, for var in 1st lvl, for time in row"
   ]
  },
  {
   "cell_type": "code",
   "execution_count": 7,
   "id": "76770945",
   "metadata": {
    "ExecuteTime": {
     "end_time": "2023-08-24T18:26:31.293526400Z",
     "start_time": "2023-08-24T18:26:31.154389400Z"
    }
   },
   "outputs": [
    {
     "data": {
      "text/plain": "          Quantiles                                                \n               0.10        0.25        0.50        0.75        0.90\n1961-01  423.360378  431.849266  441.281036  450.712806  459.201694\n1961-02  408.253656  418.342514  429.551968  440.761421  450.850279\n1961-03  466.829089  478.296822  491.038306  503.779790  515.247523\n1961-04  450.188398  462.886144  476.994261  491.102379  503.800124\n1961-05  451.794965  465.613670  480.967253  496.320837  510.139542\n1961-06  515.476124  530.331440  546.836776  563.342111  578.197428\n1961-07  570.966896  586.791063  604.372862  621.954661  637.778829\n1961-08  567.379760  584.116789  602.712843  621.308897  638.045925\n1961-09  488.192511  505.795123  525.352904  544.910684  562.513297\n1961-10  418.943257  437.370840  457.845222  478.319605  496.747188\n1961-11  358.443627  377.660798  399.012470  420.364142  439.581313\n1961-12  406.662797  426.638370  448.832681  471.026993  491.002565",
      "text/html": "<div>\n<style scoped>\n    .dataframe tbody tr th:only-of-type {\n        vertical-align: middle;\n    }\n\n    .dataframe tbody tr th {\n        vertical-align: top;\n    }\n\n    .dataframe thead tr th {\n        text-align: left;\n    }\n</style>\n<table border=\"1\" class=\"dataframe\">\n  <thead>\n    <tr>\n      <th></th>\n      <th colspan=\"5\" halign=\"left\">Quantiles</th>\n    </tr>\n    <tr>\n      <th></th>\n      <th>0.10</th>\n      <th>0.25</th>\n      <th>0.50</th>\n      <th>0.75</th>\n      <th>0.90</th>\n    </tr>\n  </thead>\n  <tbody>\n    <tr>\n      <th>1961-01</th>\n      <td>423.360378</td>\n      <td>431.849266</td>\n      <td>441.281036</td>\n      <td>450.712806</td>\n      <td>459.201694</td>\n    </tr>\n    <tr>\n      <th>1961-02</th>\n      <td>408.253656</td>\n      <td>418.342514</td>\n      <td>429.551968</td>\n      <td>440.761421</td>\n      <td>450.850279</td>\n    </tr>\n    <tr>\n      <th>1961-03</th>\n      <td>466.829089</td>\n      <td>478.296822</td>\n      <td>491.038306</td>\n      <td>503.779790</td>\n      <td>515.247523</td>\n    </tr>\n    <tr>\n      <th>1961-04</th>\n      <td>450.188398</td>\n      <td>462.886144</td>\n      <td>476.994261</td>\n      <td>491.102379</td>\n      <td>503.800124</td>\n    </tr>\n    <tr>\n      <th>1961-05</th>\n      <td>451.794965</td>\n      <td>465.613670</td>\n      <td>480.967253</td>\n      <td>496.320837</td>\n      <td>510.139542</td>\n    </tr>\n    <tr>\n      <th>1961-06</th>\n      <td>515.476124</td>\n      <td>530.331440</td>\n      <td>546.836776</td>\n      <td>563.342111</td>\n      <td>578.197428</td>\n    </tr>\n    <tr>\n      <th>1961-07</th>\n      <td>570.966896</td>\n      <td>586.791063</td>\n      <td>604.372862</td>\n      <td>621.954661</td>\n      <td>637.778829</td>\n    </tr>\n    <tr>\n      <th>1961-08</th>\n      <td>567.379760</td>\n      <td>584.116789</td>\n      <td>602.712843</td>\n      <td>621.308897</td>\n      <td>638.045925</td>\n    </tr>\n    <tr>\n      <th>1961-09</th>\n      <td>488.192511</td>\n      <td>505.795123</td>\n      <td>525.352904</td>\n      <td>544.910684</td>\n      <td>562.513297</td>\n    </tr>\n    <tr>\n      <th>1961-10</th>\n      <td>418.943257</td>\n      <td>437.370840</td>\n      <td>457.845222</td>\n      <td>478.319605</td>\n      <td>496.747188</td>\n    </tr>\n    <tr>\n      <th>1961-11</th>\n      <td>358.443627</td>\n      <td>377.660798</td>\n      <td>399.012470</td>\n      <td>420.364142</td>\n      <td>439.581313</td>\n    </tr>\n    <tr>\n      <th>1961-12</th>\n      <td>406.662797</td>\n      <td>426.638370</td>\n      <td>448.832681</td>\n      <td>471.026993</td>\n      <td>491.002565</td>\n    </tr>\n  </tbody>\n</table>\n</div>"
     },
     "execution_count": 7,
     "metadata": {},
     "output_type": "execute_result"
    }
   ],
   "source": [
    "alpha = [0.1, 0.25, 0.5, 0.75, 0.9]\n",
    "y_pred_quantiles = forecaster.predict_quantiles(alpha=alpha)\n",
    "y_pred_quantiles"
   ]
  },
  {
   "cell_type": "markdown",
   "id": "ef0fb2b9",
   "metadata": {},
   "source": [
    "pretty-plotting the quantile interval forecasts:"
   ]
  },
  {
   "cell_type": "code",
   "execution_count": 8,
   "id": "00f9cb39",
   "metadata": {
    "ExecuteTime": {
     "end_time": "2023-08-24T18:26:31.619654300Z",
     "start_time": "2023-08-24T18:26:31.176838600Z"
    }
   },
   "outputs": [
    {
     "data": {
      "text/plain": "<Figure size 1600x400 with 1 Axes>",
      "image/png": "[encoded data removed]"
     },
     "metadata": {},
     "output_type": "display_data"
    }
   ],
   "source": [
    "from aeon.visualisation import plot_series\n",
    "\n",
    "_, columns = zip(*y_pred_quantiles.items())\n",
    "fig, ax = plot_series(y[-50:], *columns)"
   ]
  },
  {
   "cell_type": "markdown",
   "id": "c0002de5",
   "metadata": {},
   "source": [
    "##### `predict_var` - variance forecasts"
   ]
  },
  {
   "cell_type": "markdown",
   "id": "8566c184",
   "metadata": {},
   "source": [
    "Inputs:\\\n",
    "`fh` - forecasting horizon (not necessary if seen in `fit`)\\\n",
    "`cov`, boolean, default=False\\\n",
    "whether covariance forecasts should also be returned (not all estimators support this)\n",
    "\n",
    "Output: `pandas.DataFrame`, for cov=False:\\\n",
    "Row index is `fh`\\\n",
    "Column is equal to column index of `y` (variables)\n",
    "\n",
    "Entries = variance forecast for variable in col, for time in row"
   ]
  },
  {
   "cell_type": "code",
   "execution_count": 9,
   "id": "4e997945",
   "metadata": {
    "ExecuteTime": {
     "end_time": "2023-08-24T18:26:31.643589700Z",
     "start_time": "2023-08-24T18:26:31.554828100Z"
    }
   },
   "outputs": [
    {
     "data": {
      "text/plain": "                   0\n1961-01   195.540049\n1961-02   276.196509\n1961-03   356.852968\n1961-04   437.509428\n1961-05   518.165887\n1961-06   598.822347\n1961-07   679.478807\n1961-08   760.135266\n1961-09   840.791726\n1961-10   921.448185\n1961-11  1002.104645\n1961-12  1082.761105",
      "text/html": "<div>\n<style scoped>\n    .dataframe tbody tr th:only-of-type {\n        vertical-align: middle;\n    }\n\n    .dataframe tbody tr th {\n        vertical-align: top;\n    }\n\n    .dataframe thead th {\n        text-align: right;\n    }\n</style>\n<table border=\"1\" class=\"dataframe\">\n  <thead>\n    <tr style=\"text-align: right;\">\n      <th></th>\n      <th>0</th>\n    </tr>\n  </thead>\n  <tbody>\n    <tr>\n      <th>1961-01</th>\n      <td>195.540049</td>\n    </tr>\n    <tr>\n      <th>1961-02</th>\n      <td>276.196509</td>\n    </tr>\n    <tr>\n      <th>1961-03</th>\n      <td>356.852968</td>\n    </tr>\n    <tr>\n      <th>1961-04</th>\n      <td>437.509428</td>\n    </tr>\n    <tr>\n      <th>1961-05</th>\n      <td>518.165887</td>\n    </tr>\n    <tr>\n      <th>1961-06</th>\n      <td>598.822347</td>\n    </tr>\n    <tr>\n      <th>1961-07</th>\n      <td>679.478807</td>\n    </tr>\n    <tr>\n      <th>1961-08</th>\n      <td>760.135266</td>\n    </tr>\n    <tr>\n      <th>1961-09</th>\n      <td>840.791726</td>\n    </tr>\n    <tr>\n      <th>1961-10</th>\n      <td>921.448185</td>\n    </tr>\n    <tr>\n      <th>1961-11</th>\n      <td>1002.104645</td>\n    </tr>\n    <tr>\n      <th>1961-12</th>\n      <td>1082.761105</td>\n    </tr>\n  </tbody>\n</table>\n</div>"
     },
     "execution_count": 9,
     "metadata": {},
     "output_type": "execute_result"
    }
   ],
   "source": [
    "y_pred_variance = forecaster.predict_var()\n",
    "y_pred_variance"
   ]
  },
  {
   "cell_type": "markdown",
   "id": "8df8ea93",
   "metadata": {},
   "source": [
    "with covariance, using a forecaster which can return covariance forecasts:\n",
    "\n",
    "return is `pandas.DataFrame` with `fh` indexing rows and columns;\\\n",
    "entries are forecast covariance between row and column time\\\n",
    "(diagonal = forecast variances)"
   ]
  },
  {
   "cell_type": "markdown",
   "id": "3dd5fd21",
   "metadata": {},
   "source": [
    "#### Using probabilistic forecasts with update/predict stream workflow"
   ]
  },
  {
   "cell_type": "markdown",
   "id": "a32f8732",
   "metadata": {},
   "source": [
    "Example:\n",
    "* data observed monthly\n",
    "* make probabilistic forecasts for an entire year ahead\n",
    "* update forecasts every month\n",
    "* start in Dec 1950"
   ]
  },
  {
   "cell_type": "code",
   "execution_count": 10,
   "id": "be8a133f",
   "metadata": {
    "ExecuteTime": {
     "end_time": "2023-08-24T18:26:31.643589700Z",
     "start_time": "2023-08-24T18:26:31.581755200Z"
    }
   },
   "outputs": [],
   "source": [
    "# 1949 and 1950\n",
    "y_start = y[:24]\n",
    "# Jan 1951 etc\n",
    "y_update_batch_1 = y.loc[[\"1951-01\"]]\n",
    "y_update_batch_2 = y.loc[[\"1951-02\"]]\n",
    "y_update_batch_3 = y.loc[[\"1951-03\"]]"
   ]
  },
  {
   "cell_type": "code",
   "execution_count": 11,
   "id": "38dad2c6",
   "metadata": {
    "ExecuteTime": {
     "end_time": "2023-08-24T18:26:31.725371300Z",
     "start_time": "2023-08-24T18:26:31.588736700Z"
    }
   },
   "outputs": [
    {
     "data": {
      "text/plain": "           Coverage            \n                0.9            \n              lower       upper\n1951-01  125.707998  141.744251\n1951-02  135.554586  154.422381\n1951-03  149.921348  171.247998\n1951-04  140.807417  164.337362\n1951-05  127.941097  153.484993\n1951-06  152.968277  180.378548\n1951-07  167.193935  196.351356\n1951-08  166.316512  197.122153\n1951-09  150.425516  182.795561\n1951-10  128.623033  162.485285\n1951-11  109.567283  144.858705\n1951-12  125.641292  162.306217",
      "text/html": "<div>\n<style scoped>\n    .dataframe tbody tr th:only-of-type {\n        vertical-align: middle;\n    }\n\n    .dataframe tbody tr th {\n        vertical-align: top;\n    }\n\n    .dataframe thead tr th {\n        text-align: left;\n    }\n</style>\n<table border=\"1\" class=\"dataframe\">\n  <thead>\n    <tr>\n      <th></th>\n      <th colspan=\"2\" halign=\"left\">Coverage</th>\n    </tr>\n    <tr>\n      <th></th>\n      <th colspan=\"2\" halign=\"left\">0.9</th>\n    </tr>\n    <tr>\n      <th></th>\n      <th>lower</th>\n      <th>upper</th>\n    </tr>\n  </thead>\n  <tbody>\n    <tr>\n      <th>1951-01</th>\n      <td>125.707998</td>\n      <td>141.744251</td>\n    </tr>\n    <tr>\n      <th>1951-02</th>\n      <td>135.554586</td>\n      <td>154.422381</td>\n    </tr>\n    <tr>\n      <th>1951-03</th>\n      <td>149.921348</td>\n      <td>171.247998</td>\n    </tr>\n    <tr>\n      <th>1951-04</th>\n      <td>140.807417</td>\n      <td>164.337362</td>\n    </tr>\n    <tr>\n      <th>1951-05</th>\n      <td>127.941097</td>\n      <td>153.484993</td>\n    </tr>\n    <tr>\n      <th>1951-06</th>\n      <td>152.968277</td>\n      <td>180.378548</td>\n    </tr>\n    <tr>\n      <th>1951-07</th>\n      <td>167.193935</td>\n      <td>196.351356</td>\n    </tr>\n    <tr>\n      <th>1951-08</th>\n      <td>166.316512</td>\n      <td>197.122153</td>\n    </tr>\n    <tr>\n      <th>1951-09</th>\n      <td>150.425516</td>\n      <td>182.795561</td>\n    </tr>\n    <tr>\n      <th>1951-10</th>\n      <td>128.623033</td>\n      <td>162.485285</td>\n    </tr>\n    <tr>\n      <th>1951-11</th>\n      <td>109.567283</td>\n      <td>144.858705</td>\n    </tr>\n    <tr>\n      <th>1951-12</th>\n      <td>125.641292</td>\n      <td>162.306217</td>\n    </tr>\n  </tbody>\n</table>\n</div>"
     },
     "execution_count": 11,
     "metadata": {},
     "output_type": "execute_result"
    }
   ],
   "source": [
    "# now = Dec 1950\n",
    "\n",
    "# 1a. fit to data available in Dec 1950\n",
    "#   fh = [1, 2, ..., 12] for all 12 months ahead\n",
    "forecaster.fit(y_start, fh=1 + np.arange(12))\n",
    "\n",
    "# 1b. predict 1951, in Dec 1950\n",
    "forecaster.predict_interval()\n",
    "# or other proba predict functions"
   ]
  },
  {
   "cell_type": "code",
   "execution_count": 12,
   "id": "07c5c221",
   "metadata": {
    "ExecuteTime": {
     "end_time": "2023-08-24T18:26:31.901409500Z",
     "start_time": "2023-08-24T18:26:31.626635600Z"
    }
   },
   "outputs": [
    {
     "data": {
      "text/plain": "           Coverage            \n                0.9            \n              lower       upper\n1951-02  136.659398  152.695651\n1951-03  150.894540  169.762336\n1951-04  141.748826  163.075476\n1951-05  128.876521  152.406466\n1951-06  153.906406  179.450302\n1951-07  168.170069  195.580339\n1951-08  167.339648  196.497069\n1951-09  151.478088  182.283729\n1951-10  129.681615  162.051660\n1951-11  110.621201  144.483453\n1951-12  126.786551  162.077973\n1952-01  121.345120  158.010045",
      "text/html": "<div>\n<style scoped>\n    .dataframe tbody tr th:only-of-type {\n        vertical-align: middle;\n    }\n\n    .dataframe tbody tr th {\n        vertical-align: top;\n    }\n\n    .dataframe thead tr th {\n        text-align: left;\n    }\n</style>\n<table border=\"1\" class=\"dataframe\">\n  <thead>\n    <tr>\n      <th></th>\n      <th colspan=\"2\" halign=\"left\">Coverage</th>\n    </tr>\n    <tr>\n      <th></th>\n      <th colspan=\"2\" halign=\"left\">0.9</th>\n    </tr>\n    <tr>\n      <th></th>\n      <th>lower</th>\n      <th>upper</th>\n    </tr>\n  </thead>\n  <tbody>\n    <tr>\n      <th>1951-02</th>\n      <td>136.659398</td>\n      <td>152.695651</td>\n    </tr>\n    <tr>\n      <th>1951-03</th>\n      <td>150.894540</td>\n      <td>169.762336</td>\n    </tr>\n    <tr>\n      <th>1951-04</th>\n      <td>141.748826</td>\n      <td>163.075476</td>\n    </tr>\n    <tr>\n      <th>1951-05</th>\n      <td>128.876521</td>\n      <td>152.406466</td>\n    </tr>\n    <tr>\n      <th>1951-06</th>\n      <td>153.906406</td>\n      <td>179.450302</td>\n    </tr>\n    <tr>\n      <th>1951-07</th>\n      <td>168.170069</td>\n      <td>195.580339</td>\n    </tr>\n    <tr>\n      <th>1951-08</th>\n      <td>167.339648</td>\n      <td>196.497069</td>\n    </tr>\n    <tr>\n      <th>1951-09</th>\n      <td>151.478088</td>\n      <td>182.283729</td>\n    </tr>\n    <tr>\n      <th>1951-10</th>\n      <td>129.681615</td>\n      <td>162.051660</td>\n    </tr>\n    <tr>\n      <th>1951-11</th>\n      <td>110.621201</td>\n      <td>144.483453</td>\n    </tr>\n    <tr>\n      <th>1951-12</th>\n      <td>126.786551</td>\n      <td>162.077973</td>\n    </tr>\n    <tr>\n      <th>1952-01</th>\n      <td>121.345120</td>\n      <td>158.010045</td>\n    </tr>\n  </tbody>\n</table>\n</div>"
     },
     "execution_count": 12,
     "metadata": {},
     "output_type": "execute_result"
    }
   ],
   "source": [
    "# time passes, now = Jan 1951\n",
    "\n",
    "# 2a. update forecaster with new data\n",
    "forecaster.update(y_update_batch_1)\n",
    "\n",
    "# 2b. make new prediction - year ahead = Feb 1951 to Jan 1952\n",
    "forecaster.predict_interval()\n",
    "# forecaster remembers relative forecasting horizon"
   ]
  },
  {
   "cell_type": "markdown",
   "id": "d3f81c58",
   "metadata": {},
   "source": [
    "repeat the same commands with further data batches:"
   ]
  },
  {
   "cell_type": "code",
   "execution_count": 13,
   "id": "2736566d",
   "metadata": {
    "ExecuteTime": {
     "end_time": "2023-08-24T18:26:31.902406300Z",
     "start_time": "2023-08-24T18:26:31.652566100Z"
    }
   },
   "outputs": [
    {
     "data": {
      "text/plain": "           Coverage            \n                0.9            \n              lower       upper\n1951-03  151.754366  167.790619\n1951-04  142.481687  161.349482\n1951-05  129.549186  150.875836\n1951-06  154.439360  177.969305\n1951-07  168.623239  194.167135\n1951-08  167.770039  195.180310\n1951-09  151.929281  181.086702\n1951-10  130.167033  160.972675\n1951-11  111.133102  143.503147\n1951-12  127.264390  161.126643\n1952-01  121.830227  157.121649\n1952-02  132.976436  169.641361",
      "text/html": "<div>\n<style scoped>\n    .dataframe tbody tr th:only-of-type {\n        vertical-align: middle;\n    }\n\n    .dataframe tbody tr th {\n        vertical-align: top;\n    }\n\n    .dataframe thead tr th {\n        text-align: left;\n    }\n</style>\n<table border=\"1\" class=\"dataframe\">\n  <thead>\n    <tr>\n      <th></th>\n      <th colspan=\"2\" halign=\"left\">Coverage</th>\n    </tr>\n    <tr>\n      <th></th>\n      <th colspan=\"2\" halign=\"left\">0.9</th>\n    </tr>\n    <tr>\n      <th></th>\n      <th>lower</th>\n      <th>upper</th>\n    </tr>\n  </thead>\n  <tbody>\n    <tr>\n      <th>1951-03</th>\n      <td>151.754366</td>\n      <td>167.790619</td>\n    </tr>\n    <tr>\n      <th>1951-04</th>\n      <td>142.481687</td>\n      <td>161.349482</td>\n    </tr>\n    <tr>\n      <th>1951-05</th>\n      <td>129.549186</td>\n      <td>150.875836</td>\n    </tr>\n    <tr>\n      <th>1951-06</th>\n      <td>154.439360</td>\n      <td>177.969305</td>\n    </tr>\n    <tr>\n      <th>1951-07</th>\n      <td>168.623239</td>\n      <td>194.167135</td>\n    </tr>\n    <tr>\n      <th>1951-08</th>\n      <td>167.770039</td>\n      <td>195.180310</td>\n    </tr>\n    <tr>\n      <th>1951-09</th>\n      <td>151.929281</td>\n      <td>181.086702</td>\n    </tr>\n    <tr>\n      <th>1951-10</th>\n      <td>130.167033</td>\n      <td>160.972675</td>\n    </tr>\n    <tr>\n      <th>1951-11</th>\n      <td>111.133102</td>\n      <td>143.503147</td>\n    </tr>\n    <tr>\n      <th>1951-12</th>\n      <td>127.264390</td>\n      <td>161.126643</td>\n    </tr>\n    <tr>\n      <th>1952-01</th>\n      <td>121.830227</td>\n      <td>157.121649</td>\n    </tr>\n    <tr>\n      <th>1952-02</th>\n      <td>132.976436</td>\n      <td>169.641361</td>\n    </tr>\n  </tbody>\n</table>\n</div>"
     },
     "execution_count": 13,
     "metadata": {},
     "output_type": "execute_result"
    }
   ],
   "source": [
    "# time passes, now = Feb 1951\n",
    "\n",
    "# 3a. update forecaster with new data\n",
    "forecaster.update(y_update_batch_2)\n",
    "\n",
    "# 3b. make new prediction - year ahead = Feb 1951 to Jan 1952\n",
    "forecaster.predict_interval()"
   ]
  },
  {
   "cell_type": "code",
   "execution_count": 14,
   "id": "483c84c5",
   "metadata": {
    "ExecuteTime": {
     "end_time": "2023-08-24T18:26:31.915371800Z",
     "start_time": "2023-08-24T18:26:31.676502300Z"
    }
   },
   "outputs": [
    {
     "data": {
      "text/plain": "           Coverage            \n                0.9            \n              lower       upper\n1951-04  143.421741  159.457994\n1951-05  130.401488  149.269284\n1951-06  155.166803  176.493453\n1951-07  169.300650  192.830595\n1951-08  168.451755  193.995651\n1951-09  152.643333  180.053604\n1951-10  130.913435  160.070856\n1951-11  111.900919  142.706560\n1951-12  128.054402  160.424448\n1952-01  122.645052  156.507304\n1952-02  133.834107  169.125529\n1952-03  149.605277  186.270202",
      "text/html": "<div>\n<style scoped>\n    .dataframe tbody tr th:only-of-type {\n        vertical-align: middle;\n    }\n\n    .dataframe tbody tr th {\n        vertical-align: top;\n    }\n\n    .dataframe thead tr th {\n        text-align: left;\n    }\n</style>\n<table border=\"1\" class=\"dataframe\">\n  <thead>\n    <tr>\n      <th></th>\n      <th colspan=\"2\" halign=\"left\">Coverage</th>\n    </tr>\n    <tr>\n      <th></th>\n      <th colspan=\"2\" halign=\"left\">0.9</th>\n    </tr>\n    <tr>\n      <th></th>\n      <th>lower</th>\n      <th>upper</th>\n    </tr>\n  </thead>\n  <tbody>\n    <tr>\n      <th>1951-04</th>\n      <td>143.421741</td>\n      <td>159.457994</td>\n    </tr>\n    <tr>\n      <th>1951-05</th>\n      <td>130.401488</td>\n      <td>149.269284</td>\n    </tr>\n    <tr>\n      <th>1951-06</th>\n      <td>155.166803</td>\n      <td>176.493453</td>\n    </tr>\n    <tr>\n      <th>1951-07</th>\n      <td>169.300650</td>\n      <td>192.830595</td>\n    </tr>\n    <tr>\n      <th>1951-08</th>\n      <td>168.451755</td>\n      <td>193.995651</td>\n    </tr>\n    <tr>\n      <th>1951-09</th>\n      <td>152.643333</td>\n      <td>180.053604</td>\n    </tr>\n    <tr>\n      <th>1951-10</th>\n      <td>130.913435</td>\n      <td>160.070856</td>\n    </tr>\n    <tr>\n      <th>1951-11</th>\n      <td>111.900919</td>\n      <td>142.706560</td>\n    </tr>\n    <tr>\n      <th>1951-12</th>\n      <td>128.054402</td>\n      <td>160.424448</td>\n    </tr>\n    <tr>\n      <th>1952-01</th>\n      <td>122.645052</td>\n      <td>156.507304</td>\n    </tr>\n    <tr>\n      <th>1952-02</th>\n      <td>133.834107</td>\n      <td>169.125529</td>\n    </tr>\n    <tr>\n      <th>1952-03</th>\n      <td>149.605277</td>\n      <td>186.270202</td>\n    </tr>\n  </tbody>\n</table>\n</div>"
     },
     "execution_count": 14,
     "metadata": {},
     "output_type": "execute_result"
    }
   ],
   "source": [
    "# time passes, now = Feb 1951\n",
    "\n",
    "# 4a. update forecaster with new data\n",
    "forecaster.update(y_update_batch_3)\n",
    "\n",
    "# 4b. make new prediction - year ahead = Feb 1951 to Jan 1952\n",
    "forecaster.predict_interval()"
   ]
  },
  {
   "cell_type": "markdown",
   "id": "cbcf39af",
   "metadata": {},
   "source": [
    "... and so on."
   ]
  },
  {
   "cell_type": "code",
   "execution_count": 15,
   "id": "0f2ddebc",
   "metadata": {
    "ExecuteTime": {
     "end_time": "2023-08-24T18:26:32.492375900Z",
     "start_time": "2023-08-24T18:26:31.713404200Z"
    }
   },
   "outputs": [
    {
     "data": {
      "text/plain": "<Figure size 1600x480 with 1 Axes>",
      "image/png": "[encoded data removed]"
     },
     "metadata": {},
     "output_type": "display_data"
    }
   ],
   "source": [
    "from aeon.forecasting.model_selection import ExpandingWindowSplitter\n",
    "from aeon.visualisation import plot_windows\n",
    "\n",
    "cv = ExpandingWindowSplitter(step_length=1, fh=fh, initial_window=24)\n",
    "plot_windows(cv, y.iloc[:50])"
   ]
  },
  {
   "cell_type": "markdown",
   "id": "1bf857cd",
   "metadata": {},
   "source": [
    "##### `predict_proba` - distribution forecasts aka \"full\" probabilistic forecasts#"
   ]
  },
  {
   "cell_type": "markdown",
   "source": [
    "Inputs:\\\n",
    "`fh` - forecasting horizon (not necessary if seen in `fit`)\\\n",
    "`marginal`, bool, optional, default=True\\\n",
    "whether returned distribution is marginal over time points (True), or joint over time points (False)\\\n",
    "(not all forecasters support `marginal=False`)\n",
    "\n",
    "Output: `tensorflow-probability` `Distribution` object (requires `tensorflow` installed)\\\n",
    "if `marginal=True`: batch shape 1D, `len(fh)` (time); event shape 1D, `len(y.columns)` (variables)\\\n",
    "if `marginal=False`: event shape 2D, `[len(fh), len(y.columns)]`"
   ],
   "metadata": {
    "collapsed": false
   },
   "id": "20f4a2c190ae44a6"
  },
  {
   "cell_type": "code",
   "execution_count": 16,
   "outputs": [
    {
     "data": {
      "text/plain": "            1961-01     1961-02     1961-03     1961-04     1961-05  \\\n1961-01  292.337338  255.743002  264.805454  227.703065  146.093860   \n1961-02  255.743002  422.704619  402.539279  353.437066  291.205423   \n1961-03  264.805454  402.539279  588.085358  506.095484  426.997535   \n1961-04  227.703065  353.437066  506.095484  634.350469  526.180900   \n1961-05  146.093860  291.205423  426.997535  526.180900  628.659359   \n1961-06  154.452835  236.587887  394.503941  482.653111  570.277532   \n1961-07  157.976801  227.199386  311.457854  422.777319  499.460195   \n1961-08  105.160769  205.653016  282.072157  323.453753  419.166450   \n1961-09   78.330257  152.067422  243.688600  280.749314  325.582777   \n1961-10   81.835803  121.629136  185.938841  242.065791  281.608607   \n1961-11   78.048880  156.199113  185.070365  211.397170  269.847443   \n1961-12  197.364513  245.437913  305.461220  294.971041  318.534683   \n\n            1961-06     1961-07     1961-08     1961-09     1961-10  \\\n1961-01  154.452835  157.976801  105.160769   78.330257   81.835803   \n1961-02  236.587887  227.199386  205.653016  152.067422  121.629136   \n1961-03  394.503941  311.457854  282.072157  243.688600  185.938841   \n1961-04  482.653111  422.777319  323.453753  280.749314  242.065791   \n1961-05  570.277532  499.460195  419.166450  325.582777  281.608607   \n1961-06  728.132505  629.184846  527.767036  444.690514  330.643653   \n1961-07  629.184846  753.550007  629.138725  536.407564  441.998603   \n1961-08  527.767036  629.138725  729.423302  615.142484  506.155610   \n1961-09  444.690514  536.407564  615.142484  744.225555  609.227136   \n1961-10  330.643653  441.998603  506.155610  609.227136  697.805477   \n1961-11  313.248427  352.570968  439.994837  527.489574  590.542045   \n1961-12  382.803221  415.110922  430.992295  546.637590  604.681136   \n\n            1961-11     1961-12  \n1961-01   78.048880  197.364513  \n1961-02  156.199113  245.437913  \n1961-03  185.070365  305.461220  \n1961-04  211.397170  294.971041  \n1961-05  269.847443  318.534683  \n1961-06  313.248427  382.803221  \n1961-07  352.570968  415.110922  \n1961-08  439.994837  430.992295  \n1961-09  527.489574  546.637590  \n1961-10  590.542045  604.681136  \n1961-11  706.960631  698.982589  \n1961-12  698.982589  913.698243  ",
      "text/html": "<div>\n<style scoped>\n    .dataframe tbody tr th:only-of-type {\n        vertical-align: middle;\n    }\n\n    .dataframe tbody tr th {\n        vertical-align: top;\n    }\n\n    .dataframe thead th {\n        text-align: right;\n    }\n</style>\n<table border=\"1\" class=\"dataframe\">\n  <thead>\n    <tr style=\"text-align: right;\">\n      <th></th>\n      <th>1961-01</th>\n      <th>1961-02</th>\n      <th>1961-03</th>\n      <th>1961-04</th>\n      <th>1961-05</th>\n      <th>1961-06</th>\n      <th>1961-07</th>\n      <th>1961-08</th>\n      <th>1961-09</th>\n      <th>1961-10</th>\n      <th>1961-11</th>\n      <th>1961-12</th>\n    </tr>\n  </thead>\n  <tbody>\n    <tr>\n      <th>1961-01</th>\n      <td>292.337338</td>\n      <td>255.743002</td>\n      <td>264.805454</td>\n      <td>227.703065</td>\n      <td>146.093860</td>\n      <td>154.452835</td>\n      <td>157.976801</td>\n      <td>105.160769</td>\n      <td>78.330257</td>\n      <td>81.835803</td>\n      <td>78.048880</td>\n      <td>197.364513</td>\n    </tr>\n    <tr>\n      <th>1961-02</th>\n      <td>255.743002</td>\n      <td>422.704619</td>\n      <td>402.539279</td>\n      <td>353.437066</td>\n      <td>291.205423</td>\n      <td>236.587887</td>\n      <td>227.199386</td>\n      <td>205.653016</td>\n      <td>152.067422</td>\n      <td>121.629136</td>\n      <td>156.199113</td>\n      <td>245.437913</td>\n    </tr>\n    <tr>\n      <th>1961-03</th>\n      <td>264.805454</td>\n      <td>402.539279</td>\n      <td>588.085358</td>\n      <td>506.095484</td>\n      <td>426.997535</td>\n      <td>394.503941</td>\n      <td>311.457854</td>\n      <td>282.072157</td>\n      <td>243.688600</td>\n      <td>185.938841</td>\n      <td>185.070365</td>\n      <td>305.461220</td>\n    </tr>\n    <tr>\n      <th>1961-04</th>\n      <td>227.703065</td>\n      <td>353.437066</td>\n      <td>506.095484</td>\n      <td>634.350469</td>\n      <td>526.180900</td>\n      <td>482.653111</td>\n      <td>422.777319</td>\n      <td>323.453753</td>\n      <td>280.749314</td>\n      <td>242.065791</td>\n      <td>211.397170</td>\n      <td>294.971041</td>\n    </tr>\n    <tr>\n      <th>1961-05</th>\n      <td>146.093860</td>\n      <td>291.205423</td>\n      <td>426.997535</td>\n      <td>526.180900</td>\n      <td>628.659359</td>\n      <td>570.277532</td>\n      <td>499.460195</td>\n      <td>419.166450</td>\n      <td>325.582777</td>\n      <td>281.608607</td>\n      <td>269.847443</td>\n      <td>318.534683</td>\n    </tr>\n    <tr>\n      <th>1961-06</th>\n      <td>154.452835</td>\n      <td>236.587887</td>\n      <td>394.503941</td>\n      <td>482.653111</td>\n      <td>570.277532</td>\n      <td>728.132505</td>\n      <td>629.184846</td>\n      <td>527.767036</td>\n      <td>444.690514</td>\n      <td>330.643653</td>\n      <td>313.248427</td>\n      <td>382.803221</td>\n    </tr>\n    <tr>\n      <th>1961-07</th>\n      <td>157.976801</td>\n      <td>227.199386</td>\n      <td>311.457854</td>\n      <td>422.777319</td>\n      <td>499.460195</td>\n      <td>629.184846</td>\n      <td>753.550007</td>\n      <td>629.138725</td>\n      <td>536.407564</td>\n      <td>441.998603</td>\n      <td>352.570968</td>\n      <td>415.110922</td>\n    </tr>\n    <tr>\n      <th>1961-08</th>\n      <td>105.160769</td>\n      <td>205.653016</td>\n      <td>282.072157</td>\n      <td>323.453753</td>\n      <td>419.166450</td>\n      <td>527.767036</td>\n      <td>629.138725</td>\n      <td>729.423302</td>\n      <td>615.142484</td>\n      <td>506.155610</td>\n      <td>439.994837</td>\n      <td>430.992295</td>\n    </tr>\n    <tr>\n      <th>1961-09</th>\n      <td>78.330257</td>\n      <td>152.067422</td>\n      <td>243.688600</td>\n      <td>280.749314</td>\n      <td>325.582777</td>\n      <td>444.690514</td>\n      <td>536.407564</td>\n      <td>615.142484</td>\n      <td>744.225555</td>\n      <td>609.227136</td>\n      <td>527.489574</td>\n      <td>546.637590</td>\n    </tr>\n    <tr>\n      <th>1961-10</th>\n      <td>81.835803</td>\n      <td>121.629136</td>\n      <td>185.938841</td>\n      <td>242.065791</td>\n      <td>281.608607</td>\n      <td>330.643653</td>\n      <td>441.998603</td>\n      <td>506.155610</td>\n      <td>609.227136</td>\n      <td>697.805477</td>\n      <td>590.542045</td>\n      <td>604.681136</td>\n    </tr>\n    <tr>\n      <th>1961-11</th>\n      <td>78.048880</td>\n      <td>156.199113</td>\n      <td>185.070365</td>\n      <td>211.397170</td>\n      <td>269.847443</td>\n      <td>313.248427</td>\n      <td>352.570968</td>\n      <td>439.994837</td>\n      <td>527.489574</td>\n      <td>590.542045</td>\n      <td>706.960631</td>\n      <td>698.982589</td>\n    </tr>\n    <tr>\n      <th>1961-12</th>\n      <td>197.364513</td>\n      <td>245.437913</td>\n      <td>305.461220</td>\n      <td>294.971041</td>\n      <td>318.534683</td>\n      <td>382.803221</td>\n      <td>415.110922</td>\n      <td>430.992295</td>\n      <td>546.637590</td>\n      <td>604.681136</td>\n      <td>698.982589</td>\n      <td>913.698243</td>\n    </tr>\n  </tbody>\n</table>\n</div>"
     },
     "execution_count": 16,
     "metadata": {},
     "output_type": "execute_result"
    }
   ],
   "source": [
    "from aeon.forecasting.naive import NaiveVariance\n",
    "\n",
    "forecaster_with_covariance = NaiveVariance(forecaster)\n",
    "forecaster_with_covariance.fit(y=y, fh=fh)\n",
    "forecaster_with_covariance.predict_var(cov=True)"
   ],
   "metadata": {
    "collapsed": false,
    "ExecuteTime": {
     "end_time": "2023-08-24T18:26:35.749623700Z",
     "start_time": "2023-08-24T18:26:32.324824900Z"
    }
   },
   "id": "1d2ced98dc0d248d"
  },
  {
   "cell_type": "code",
   "execution_count": 17,
   "outputs": [
    {
     "data": {
      "text/plain": "<tfp.distributions.Normal 'Normal' batch_shape=[12, 1] event_shape=[] dtype=float32>"
     },
     "execution_count": 17,
     "metadata": {},
     "output_type": "execute_result"
    }
   ],
   "source": [
    "from aeon.forecasting.naive import NaiveForecaster\n",
    "\n",
    "forecaster = NaiveForecaster(sp=12)\n",
    "forecaster.fit(y, fh=fh)\n",
    "\n",
    "y_pred_dist = forecaster.predict_proba()\n",
    "y_pred_dist"
   ],
   "metadata": {
    "collapsed": false,
    "ExecuteTime": {
     "end_time": "2023-08-24T18:26:38.822904600Z",
     "start_time": "2023-08-24T18:26:35.742642500Z"
    }
   },
   "id": "ba058557d04249d7"
  },
  {
   "cell_type": "code",
   "execution_count": 18,
   "outputs": [
    {
     "data": {
      "text/plain": "<tf.Tensor: shape=(12, 2), dtype=float32, numpy=\narray([[370.4595 , 463.5405 ],\n       [344.4595 , 437.5405 ],\n       [372.4595 , 465.5405 ],\n       [414.4595 , 507.5405 ],\n       [425.4595 , 518.54047],\n       [488.4595 , 581.54047],\n       [575.4595 , 668.54047],\n       [559.4595 , 652.54047],\n       [461.4595 , 554.54047],\n       [414.4595 , 507.5405 ],\n       [343.4595 , 436.5405 ],\n       [385.4595 , 478.5405 ]], dtype=float32)>"
     },
     "execution_count": 18,
     "metadata": {},
     "output_type": "execute_result"
    }
   ],
   "source": [
    "# obtaining quantiles\n",
    "y_pred_dist.quantile([0.1, 0.9])"
   ],
   "metadata": {
    "collapsed": false,
    "ExecuteTime": {
     "end_time": "2023-08-24T18:26:38.833846900Z",
     "start_time": "2023-08-24T18:26:38.806412800Z"
    }
   },
   "id": "e91fe16fe8062b37"
  },
  {
   "cell_type": "code",
   "execution_count": 19,
   "outputs": [
    {
     "data": {
      "text/plain": "{'loc':              0\n 1961-01  417.0\n 1961-02  391.0\n 1961-03  419.0\n 1961-04  461.0\n 1961-05  472.0\n 1961-06  535.0\n 1961-07  622.0\n 1961-08  606.0\n 1961-09  508.0\n 1961-10  461.0\n 1961-11  390.0\n 1961-12  432.0,\n 'scale':                  0\n 1961-01  36.315745\n 1961-02  36.315745\n 1961-03  36.315745\n 1961-04  36.315745\n 1961-05  36.315745\n 1961-06  36.315745\n 1961-07  36.315745\n 1961-08  36.315745\n 1961-09  36.315745\n 1961-10  36.315745\n 1961-11  36.315745\n 1961-12  36.315745,\n 'validate_args': False,\n 'allow_nan_stats': True,\n 'name': 'Normal'}"
     },
     "execution_count": 19,
     "metadata": {},
     "output_type": "execute_result"
    }
   ],
   "source": [
    "# obtaining distribution parameters\n",
    "y_pred_dist.parameters"
   ],
   "metadata": {
    "collapsed": false,
    "ExecuteTime": {
     "end_time": "2023-08-24T18:26:38.833846900Z",
     "start_time": "2023-08-24T18:26:38.818887700Z"
    }
   },
   "id": "923f581ba3be7e9e"
  },
  {
   "cell_type": "markdown",
   "source": [
    "##### a note on consistence of methods\n",
    "\n",
    "Outputs of `predict_interval`, `predict_quantiles`, `predict_var`, `predict_proba` are *typically* but not *necessarily* consistent with each other!\n",
    "\n",
    "Consistency is a weak interface requirement but not strictly enforced."
   ],
   "metadata": {
    "collapsed": false
   },
   "id": "64e61c157cea5787"
  },
  {
   "cell_type": "markdown",
   "id": "da797a68",
   "metadata": {},
   "source": [
    "#### Probabilistic forecasting for multivariate and hierarchical data"
   ]
  },
  {
   "cell_type": "markdown",
   "id": "0b2ce785",
   "metadata": {},
   "source": [
    "multivariate data: first column index for different variables"
   ]
  },
  {
   "cell_type": "code",
   "execution_count": 20,
   "id": "553d2e2b",
   "metadata": {
    "ExecuteTime": {
     "end_time": "2023-08-24T18:26:38.981630300Z",
     "start_time": "2023-08-24T18:26:38.823873900Z"
    }
   },
   "outputs": [
    {
     "data": {
      "text/plain": "VAR()",
      "text/html": "<style>#sk-container-id-2 {color: black;background-color: white;}#sk-container-id-2 pre{padding: 0;}#sk-container-id-2 div.sk-toggleable {background-color: white;}#sk-container-id-2 label.sk-toggleable__label {cursor: pointer;display: block;width: 100%;margin-bottom: 0;padding: 0.3em;box-sizing: border-box;text-align: center;}#sk-container-id-2 label.sk-toggleable__label-arrow:before {content: \"▸\";float: left;margin-right: 0.25em;color: #696969;}#sk-container-id-2 label.sk-toggleable__label-arrow:hover:before {color: black;}#sk-container-id-2 div.sk-estimator:hover label.sk-toggleable__label-arrow:before {color: black;}#sk-container-id-2 div.sk-toggleable__content {max-height: 0;max-width: 0;overflow: hidden;text-align: left;background-color: #f0f8ff;}#sk-container-id-2 div.sk-toggleable__content pre {margin: 0.2em;color: black;border-radius: 0.25em;background-color: #f0f8ff;}#sk-container-id-2 input.sk-toggleable__control:checked~div.sk-toggleable__content {max-height: 200px;max-width: 100%;overflow: auto;}#sk-container-id-2 input.sk-toggleable__control:checked~label.sk-toggleable__label-arrow:before {content: \"▾\";}#sk-container-id-2 div.sk-estimator input.sk-toggleable__control:checked~label.sk-toggleable__label {background-color: #d4ebff;}#sk-container-id-2 div.sk-label input.sk-toggleable__control:checked~label.sk-toggleable__label {background-color: #d4ebff;}#sk-container-id-2 input.sk-hidden--visually {border: 0;clip: rect(1px 1px 1px 1px);clip: rect(1px, 1px, 1px, 1px);height: 1px;margin: -1px;overflow: hidden;padding: 0;position: absolute;width: 1px;}#sk-container-id-2 div.sk-estimator {font-family: monospace;background-color: #f0f8ff;border: 1px dotted black;border-radius: 0.25em;box-sizing: border-box;margin-bottom: 0.5em;}#sk-container-id-2 div.sk-estimator:hover {background-color: #d4ebff;}#sk-container-id-2 div.sk-parallel-item::after {content: \"\";width: 100%;border-bottom: 1px solid gray;flex-grow: 1;}#sk-container-id-2 div.sk-label:hover label.sk-toggleable__label {background-color: #d4ebff;}#sk-container-id-2 div.sk-serial::before {content: \"\";position: absolute;border-left: 1px solid gray;box-sizing: border-box;top: 0;bottom: 0;left: 50%;z-index: 0;}#sk-container-id-2 div.sk-serial {display: flex;flex-direction: column;align-items: center;background-color: white;padding-right: 0.2em;padding-left: 0.2em;position: relative;}#sk-container-id-2 div.sk-item {position: relative;z-index: 1;}#sk-container-id-2 div.sk-parallel {display: flex;align-items: stretch;justify-content: center;background-color: white;position: relative;}#sk-container-id-2 div.sk-item::before, #sk-container-id-2 div.sk-parallel-item::before {content: \"\";position: absolute;border-left: 1px solid gray;box-sizing: border-box;top: 0;bottom: 0;left: 50%;z-index: -1;}#sk-container-id-2 div.sk-parallel-item {display: flex;flex-direction: column;z-index: 1;position: relative;background-color: white;}#sk-container-id-2 div.sk-parallel-item:first-child::after {align-self: flex-end;width: 50%;}#sk-container-id-2 div.sk-parallel-item:last-child::after {align-self: flex-start;width: 50%;}#sk-container-id-2 div.sk-parallel-item:only-child::after {width: 0;}#sk-container-id-2 div.sk-dashed-wrapped {border: 1px dashed gray;margin: 0 0.4em 0.5em 0.4em;box-sizing: border-box;padding-bottom: 0.4em;background-color: white;}#sk-container-id-2 div.sk-label label {font-family: monospace;font-weight: bold;display: inline-block;line-height: 1.2em;}#sk-container-id-2 div.sk-label-container {text-align: center;}#sk-container-id-2 div.sk-container {/* jupyter's `normalize.less` sets `[hidden] { display: none; }` but bootstrap.min.css set `[hidden] { display: none !important; }` so we also need the `!important` here to be able to override the default hidden behavior on the sphinx rendered scikit-learn.org. See: https://github.com/scikit-learn/scikit-learn/issues/21755 */display: inline-block !important;position: relative;}#sk-container-id-2 div.sk-text-repr-fallback {display: none;}</style><div id=\"sk-container-id-2\" class=\"sk-top-container\"><div class=\"sk-text-repr-fallback\"><pre>VAR()</pre><b>In a Jupyter environment, please rerun this cell to show the HTML representation or trust the notebook. <br />On GitHub, the HTML representation is unable to render, please try loading this page with nbviewer.org.</b></div><div class=\"sk-container\" hidden><div class=\"sk-item\"><div class=\"sk-estimator sk-toggleable\"><input class=\"sk-toggleable__control sk-hidden--visually\" id=\"sk-estimator-id-2\" type=\"checkbox\" checked><label for=\"sk-estimator-id-2\" class=\"sk-toggleable__label sk-toggleable__label-arrow\">VAR</label><div class=\"sk-toggleable__content\"><pre>VAR()</pre></div></div></div></div></div>"
     },
     "execution_count": 20,
     "metadata": {},
     "output_type": "execute_result"
    }
   ],
   "source": [
    "from aeon.datasets import load_longley\n",
    "from aeon.forecasting.var import VAR\n",
    "\n",
    "_, y = load_longley()\n",
    "\n",
    "mv_forecaster = VAR()\n",
    "\n",
    "mv_forecaster.fit(y, fh=[1, 2, 3])\n",
    "# mv_forecaster.predict_var()"
   ]
  },
  {
   "cell_type": "markdown",
   "id": "bd466ddc",
   "metadata": {},
   "source": [
    "hierarchical data: probabilistic forecasts per level are row-concatenated with a row hierarchy index"
   ]
  },
  {
   "cell_type": "code",
   "execution_count": 21,
   "id": "040ee090",
   "metadata": {
    "ExecuteTime": {
     "end_time": "2023-08-24T18:26:38.982626100Z",
     "start_time": "2023-08-24T18:26:38.837837100Z"
    }
   },
   "outputs": [
    {
     "data": {
      "text/plain": "                            c0\nh0   h1   time                \nh0_0 h1_0 2000-01-01  3.545774\n          2000-01-02  2.660936\n          2000-01-03  2.178390\n          2000-01-04  3.234562\n          2000-01-05  2.495339\n...                        ...\nh0_1 h1_3 2000-01-08  3.204147\n          2000-01-09  2.829823\n          2000-01-10  5.398147\n          2000-01-11  4.131425\n          2000-01-12  2.589843\n\n[96 rows x 1 columns]",
      "text/html": "<div>\n<style scoped>\n    .dataframe tbody tr th:only-of-type {\n        vertical-align: middle;\n    }\n\n    .dataframe tbody tr th {\n        vertical-align: top;\n    }\n\n    .dataframe thead th {\n        text-align: right;\n    }\n</style>\n<table border=\"1\" class=\"dataframe\">\n  <thead>\n    <tr style=\"text-align: right;\">\n      <th></th>\n      <th></th>\n      <th></th>\n      <th>c0</th>\n    </tr>\n    <tr>\n      <th>h0</th>\n      <th>h1</th>\n      <th>time</th>\n      <th></th>\n    </tr>\n  </thead>\n  <tbody>\n    <tr>\n      <th rowspan=\"5\" valign=\"top\">h0_0</th>\n      <th rowspan=\"5\" valign=\"top\">h1_0</th>\n      <th>2000-01-01</th>\n      <td>3.545774</td>\n    </tr>\n    <tr>\n      <th>2000-01-02</th>\n      <td>2.660936</td>\n    </tr>\n    <tr>\n      <th>2000-01-03</th>\n      <td>2.178390</td>\n    </tr>\n    <tr>\n      <th>2000-01-04</th>\n      <td>3.234562</td>\n    </tr>\n    <tr>\n      <th>2000-01-05</th>\n      <td>2.495339</td>\n    </tr>\n    <tr>\n      <th>...</th>\n      <th>...</th>\n      <th>...</th>\n      <td>...</td>\n    </tr>\n    <tr>\n      <th rowspan=\"5\" valign=\"top\">h0_1</th>\n      <th rowspan=\"5\" valign=\"top\">h1_3</th>\n      <th>2000-01-08</th>\n      <td>3.204147</td>\n    </tr>\n    <tr>\n      <th>2000-01-09</th>\n      <td>2.829823</td>\n    </tr>\n    <tr>\n      <th>2000-01-10</th>\n      <td>5.398147</td>\n    </tr>\n    <tr>\n      <th>2000-01-11</th>\n      <td>4.131425</td>\n    </tr>\n    <tr>\n      <th>2000-01-12</th>\n      <td>2.589843</td>\n    </tr>\n  </tbody>\n</table>\n<p>96 rows × 1 columns</p>\n</div>"
     },
     "execution_count": 21,
     "metadata": {},
     "output_type": "execute_result"
    }
   ],
   "source": [
    "from aeon.forecasting.arima import ARIMA\n",
    "from aeon.utils._testing.hierarchical import _make_hierarchical\n",
    "\n",
    "y_hier = _make_hierarchical()\n",
    "y_hier"
   ]
  },
  {
   "cell_type": "code",
   "execution_count": 22,
   "id": "a49a126f",
   "metadata": {
    "ExecuteTime": {
     "end_time": "2023-08-24T18:26:39.251022400Z",
     "start_time": "2023-08-24T18:26:38.852920800Z"
    }
   },
   "outputs": [
    {
     "data": {
      "text/plain": "                      Coverage          \n                           0.9          \n                         lower     upper\nh0   h1   time                          \nh0_0 h1_0 2000-01-13  1.370903  4.230472\n          2000-01-14  1.212458  4.266042\n          2000-01-15  1.222349  4.302176\n     h1_1 2000-01-13  1.430371  4.043716\n          2000-01-14  1.406717  4.021383\n          2000-01-15  1.405984  4.020652\n     h1_2 2000-01-13 -0.146232  3.408927\n          2000-01-14  0.914039  4.707082\n          2000-01-15  0.459634  4.284412\n     h1_3 2000-01-13  1.649513  3.703384\n          2000-01-14  2.662898  4.962243\n          2000-01-15  2.062013  4.419487\nh0_1 h1_0 2000-01-13  1.628481  3.987152\n          2000-01-14  1.622851  3.998343\n          2000-01-15  1.622399  3.998130\n     h1_1 2000-01-13  1.114336  4.552159\n          2000-01-14  1.435265  4.943128\n          2000-01-15  1.361622  4.872338\n     h1_2 2000-01-13  2.058490  5.068176\n          2000-01-14  2.116019  5.376039\n          2000-01-15  2.019247  5.320714\n     h1_3 2000-01-13  1.717268  4.544524\n          2000-01-14  1.748902  4.581902\n          2000-01-15  1.751091  4.584114",
      "text/html": "<div>\n<style scoped>\n    .dataframe tbody tr th:only-of-type {\n        vertical-align: middle;\n    }\n\n    .dataframe tbody tr th {\n        vertical-align: top;\n    }\n\n    .dataframe thead tr th {\n        text-align: left;\n    }\n\n    .dataframe thead tr:last-of-type th {\n        text-align: right;\n    }\n</style>\n<table border=\"1\" class=\"dataframe\">\n  <thead>\n    <tr>\n      <th></th>\n      <th></th>\n      <th></th>\n      <th colspan=\"2\" halign=\"left\">Coverage</th>\n    </tr>\n    <tr>\n      <th></th>\n      <th></th>\n      <th></th>\n      <th colspan=\"2\" halign=\"left\">0.9</th>\n    </tr>\n    <tr>\n      <th></th>\n      <th></th>\n      <th></th>\n      <th>lower</th>\n      <th>upper</th>\n    </tr>\n    <tr>\n      <th>h0</th>\n      <th>h1</th>\n      <th>time</th>\n      <th></th>\n      <th></th>\n    </tr>\n  </thead>\n  <tbody>\n    <tr>\n      <th rowspan=\"12\" valign=\"top\">h0_0</th>\n      <th rowspan=\"3\" valign=\"top\">h1_0</th>\n      <th>2000-01-13</th>\n      <td>1.370903</td>\n      <td>4.230472</td>\n    </tr>\n    <tr>\n      <th>2000-01-14</th>\n      <td>1.212458</td>\n      <td>4.266042</td>\n    </tr>\n    <tr>\n      <th>2000-01-15</th>\n      <td>1.222349</td>\n      <td>4.302176</td>\n    </tr>\n    <tr>\n      <th rowspan=\"3\" valign=\"top\">h1_1</th>\n      <th>2000-01-13</th>\n      <td>1.430371</td>\n      <td>4.043716</td>\n    </tr>\n    <tr>\n      <th>2000-01-14</th>\n      <td>1.406717</td>\n      <td>4.021383</td>\n    </tr>\n    <tr>\n      <th>2000-01-15</th>\n      <td>1.405984</td>\n      <td>4.020652</td>\n    </tr>\n    <tr>\n      <th rowspan=\"3\" valign=\"top\">h1_2</th>\n      <th>2000-01-13</th>\n      <td>-0.146232</td>\n      <td>3.408927</td>\n    </tr>\n    <tr>\n      <th>2000-01-14</th>\n      <td>0.914039</td>\n      <td>4.707082</td>\n    </tr>\n    <tr>\n      <th>2000-01-15</th>\n      <td>0.459634</td>\n      <td>4.284412</td>\n    </tr>\n    <tr>\n      <th rowspan=\"3\" valign=\"top\">h1_3</th>\n      <th>2000-01-13</th>\n      <td>1.649513</td>\n      <td>3.703384</td>\n    </tr>\n    <tr>\n      <th>2000-01-14</th>\n      <td>2.662898</td>\n      <td>4.962243</td>\n    </tr>\n    <tr>\n      <th>2000-01-15</th>\n      <td>2.062013</td>\n      <td>4.419487</td>\n    </tr>\n    <tr>\n      <th rowspan=\"12\" valign=\"top\">h0_1</th>\n      <th rowspan=\"3\" valign=\"top\">h1_0</th>\n      <th>2000-01-13</th>\n      <td>1.628481</td>\n      <td>3.987152</td>\n    </tr>\n    <tr>\n      <th>2000-01-14</th>\n      <td>1.622851</td>\n      <td>3.998343</td>\n    </tr>\n    <tr>\n      <th>2000-01-15</th>\n      <td>1.622399</td>\n      <td>3.998130</td>\n    </tr>\n    <tr>\n      <th rowspan=\"3\" valign=\"top\">h1_1</th>\n      <th>2000-01-13</th>\n      <td>1.114336</td>\n      <td>4.552159</td>\n    </tr>\n    <tr>\n      <th>2000-01-14</th>\n      <td>1.435265</td>\n      <td>4.943128</td>\n    </tr>\n    <tr>\n      <th>2000-01-15</th>\n      <td>1.361622</td>\n      <td>4.872338</td>\n    </tr>\n    <tr>\n      <th rowspan=\"3\" valign=\"top\">h1_2</th>\n      <th>2000-01-13</th>\n      <td>2.058490</td>\n      <td>5.068176</td>\n    </tr>\n    <tr>\n      <th>2000-01-14</th>\n      <td>2.116019</td>\n      <td>5.376039</td>\n    </tr>\n    <tr>\n      <th>2000-01-15</th>\n      <td>2.019247</td>\n      <td>5.320714</td>\n    </tr>\n    <tr>\n      <th rowspan=\"3\" valign=\"top\">h1_3</th>\n      <th>2000-01-13</th>\n      <td>1.717268</td>\n      <td>4.544524</td>\n    </tr>\n    <tr>\n      <th>2000-01-14</th>\n      <td>1.748902</td>\n      <td>4.581902</td>\n    </tr>\n    <tr>\n      <th>2000-01-15</th>\n      <td>1.751091</td>\n      <td>4.584114</td>\n    </tr>\n  </tbody>\n</table>\n</div>"
     },
     "execution_count": 22,
     "metadata": {},
     "output_type": "execute_result"
    }
   ],
   "source": [
    "forecaster = ARIMA()\n",
    "forecaster.fit(y_hier, fh=[1, 2, 3])\n",
    "forecaster.predict_interval()"
   ]
  },
  {
   "cell_type": "markdown",
   "id": "74763c48",
   "metadata": {},
   "source": [
    "(more about this in the hierarchical forecasting notebook)"
   ]
  },
  {
   "cell_type": "markdown",
   "id": "illegal-legend",
   "metadata": {},
   "source": [
    "---\n",
    "### Metrics for probabilistic forecasts and evaluation\n"
   ]
  },
  {
   "cell_type": "markdown",
   "id": "1f8cb021",
   "metadata": {},
   "source": [
    "#### overview - theory\n",
    "\n",
    "Predicted `y` has different form from true `y`, so metrics have form\n",
    "\n",
    "`metric(y_true: series, y_pred: proba_prediction) -> float`\n",
    "\n",
    "where `proba_prediction` is the type of the specific \"probabilistic prediction type\".\n",
    "\n",
    "I.e., we have the following function signature for a loss/metric $L$:\n",
    "\n",
    "| Name | param | prediction/estimate of | general form |\n",
    "| ---- | ----- | ---------------------- | -------- |\n",
    "| point forecast | | conditional expectation $\\mathbb{E}[y'\\|y]$ | `metric(y_true, y_pred)` |\n",
    "| variance forecast | | conditional variance $Var[y'\\|y]$ | `metric(y_pred, y_pt, y_var)` (requires point forecast too) |\n",
    "| quantile forecast | $\\alpha\\in (0,1)$ | $\\alpha$-quantile of $y'\\|y$ | `metric(y_true, y_quantiles, alpha)` |\n",
    "| interval forecast | $c\\in (0,1)$| $[a,b]$ s.t. $P(a\\le y' \\le b\\| y) = c$ | `metric(y_true, y_interval, c)` |\n",
    "| distribution forecast | | the law/distribution of $y'\\|y$ | `metric(y_true, y_distribution)` |\n"
   ]
  },
  {
   "cell_type": "markdown",
   "id": "6c20bd6e",
   "metadata": {},
   "source": [
    "#### metrics: general signature and averaging"
   ]
  },
  {
   "cell_type": "markdown",
   "id": "31435c23",
   "metadata": {},
   "source": [
    "intro using the example of the quantile loss aka interval loss aka pinball loss, in the univariate case.\n",
    "\n",
    "For one quantile value $\\alpha$, the (per-sample) pinball loss function is defined as\\\n",
    "$L_{\\alpha}(\\widehat{y}, y) := \\alpha \\cdot \\Theta (y - \\widehat{y}) + (1-\\alpha) \\cdot \\Theta (\\widehat{y} - y)$,\\\n",
    "where $\\Theta (x) := [1$ if $x\\ge 0$ and $0$ otherwise $]$ is the Heaviside function.\n",
    "\n",
    "This can be used to evaluate:\n",
    "\n",
    "* *multiple quantile* forecasts $\\widehat{\\bf y}:=\\widehat{y}_1, \\dots, \\widehat{y}_k$ for quantiles ${\\bf \\alpha} = \\alpha_1,\\dots, \\alpha_k$ via\\\n",
    "$L_{{\\bf \\alpha}}(\\widehat{\\bf y}, y) := \\frac{1}{k}\\sum_{i=1}^k L_{\\alpha_i}(\\widehat{y}_i, y)$\n",
    "* *interval forecasts* $[\\widehat{a}, \\widehat{b}]$ at symmetric coverage $c$ via\\\n",
    "$L_c([\\widehat{a},\\widehat{b}], y) := \\frac{1}{2} L_{\\alpha_{low}}(\\widehat{a}, y) + \\frac{1}{2}L_{\\alpha_{high}}(\\widehat{b}, y)$ where $\\alpha_{low} = \\frac{1-c}{2}, \\alpha_{high} = \\frac{1+c}{2}$\n",
    "\n",
    "(all are known to be strictly proper losses for their respective prediction object)\n",
    "\n",
    "There are *three things we can choose to average over*:\n",
    "\n",
    "* quantile values, if multiple are predicted - elements of `alpha` in `predict_interval(fh, alpha)`\n",
    "* time stamps in the forecasting horizon `fh` - elements of `fh` in `fit(fh)` resp `predict_interval(fh, alpha)`\n",
    "* variables in `y`, in case of multivariate (later, first we look at univariate)\n",
    "\n",
    "We will show quantile values and time stamps first:\n",
    "\n",
    "1. averaging by `fh` time stamps only -> one number per quantile value in `alpha`\n",
    "\n",
    "2. averaging over nothing -> one number per quantile value in `alpha` and `fh` time stamp\n",
    "\n",
    "3. averaging over both `fh` and quantile values in `alpha` -> one number\n"
   ]
  },
  {
   "cell_type": "markdown",
   "id": "49c020c0",
   "metadata": {},
   "source": [
    "first, generating some quantile predictions.\n",
    "`pred_quantiles` now contains quantile forecasts\\\n",
    "formally, forecasts $\\widehat{y}_j(t_i)$ where $\\widehat{y_j}$ are forecasts at quantile $\\alpha_j$, with range $i=1\\dots N, j=1\\dots k$\\\n",
    "$\\alpha_j$ are the elements of `alpha`, and $t_i$ are the future time stamps indexed by `fh`"
   ]
  },
  {
   "cell_type": "code",
   "execution_count": 23,
   "id": "660fc4ef",
   "metadata": {
    "ExecuteTime": {
     "end_time": "2023-08-24T18:26:39.328836600Z",
     "start_time": "2023-08-24T18:26:39.206633Z"
    }
   },
   "outputs": [
    {
     "data": {
      "text/plain": "          Quantiles                                                \n               0.10        0.25        0.50        0.75        0.90\n1951-01  127.478978  130.438207  133.726125  137.014043  139.973272\n1951-02  137.638269  141.120013  144.988483  148.856953  152.338697\n1951-03  152.276577  156.212063  160.584673  164.957283  168.892768\n1951-04  143.405969  147.748037  152.572389  157.396741  161.738809\n1951-05  130.762062  135.475772  140.713045  145.950318  150.664027\n1951-06  155.995358  161.053476  166.673412  172.293349  177.351467\n1951-07  170.413963  175.794490  181.772645  187.750801  193.131328\n1951-08  169.718563  175.403241  181.719332  188.035423  193.720101\n1951-09  154.000334  159.973698  166.610539  173.247380  179.220743\n1951-10  132.362644  138.611370  145.554159  152.496947  158.745674\n1951-11  113.464726  119.977182  127.212994  134.448805  140.961262\n1951-12  129.690419  136.456333  143.973754  151.491176  158.257090",
      "text/html": "<div>\n<style scoped>\n    .dataframe tbody tr th:only-of-type {\n        vertical-align: middle;\n    }\n\n    .dataframe tbody tr th {\n        vertical-align: top;\n    }\n\n    .dataframe thead tr th {\n        text-align: left;\n    }\n</style>\n<table border=\"1\" class=\"dataframe\">\n  <thead>\n    <tr>\n      <th></th>\n      <th colspan=\"5\" halign=\"left\">Quantiles</th>\n    </tr>\n    <tr>\n      <th></th>\n      <th>0.10</th>\n      <th>0.25</th>\n      <th>0.50</th>\n      <th>0.75</th>\n      <th>0.90</th>\n    </tr>\n  </thead>\n  <tbody>\n    <tr>\n      <th>1951-01</th>\n      <td>127.478978</td>\n      <td>130.438207</td>\n      <td>133.726125</td>\n      <td>137.014043</td>\n      <td>139.973272</td>\n    </tr>\n    <tr>\n      <th>1951-02</th>\n      <td>137.638269</td>\n      <td>141.120013</td>\n      <td>144.988483</td>\n      <td>148.856953</td>\n      <td>152.338697</td>\n    </tr>\n    <tr>\n      <th>1951-03</th>\n      <td>152.276577</td>\n      <td>156.212063</td>\n      <td>160.584673</td>\n      <td>164.957283</td>\n      <td>168.892768</td>\n    </tr>\n    <tr>\n      <th>1951-04</th>\n      <td>143.405969</td>\n      <td>147.748037</td>\n      <td>152.572389</td>\n      <td>157.396741</td>\n      <td>161.738809</td>\n    </tr>\n    <tr>\n      <th>1951-05</th>\n      <td>130.762062</td>\n      <td>135.475772</td>\n      <td>140.713045</td>\n      <td>145.950318</td>\n      <td>150.664027</td>\n    </tr>\n    <tr>\n      <th>1951-06</th>\n      <td>155.995358</td>\n      <td>161.053476</td>\n      <td>166.673412</td>\n      <td>172.293349</td>\n      <td>177.351467</td>\n    </tr>\n    <tr>\n      <th>1951-07</th>\n      <td>170.413963</td>\n      <td>175.794490</td>\n      <td>181.772645</td>\n      <td>187.750801</td>\n      <td>193.131328</td>\n    </tr>\n    <tr>\n      <th>1951-08</th>\n      <td>169.718563</td>\n      <td>175.403241</td>\n      <td>181.719332</td>\n      <td>188.035423</td>\n      <td>193.720101</td>\n    </tr>\n    <tr>\n      <th>1951-09</th>\n      <td>154.000334</td>\n      <td>159.973698</td>\n      <td>166.610539</td>\n      <td>173.247380</td>\n      <td>179.220743</td>\n    </tr>\n    <tr>\n      <th>1951-10</th>\n      <td>132.362644</td>\n      <td>138.611370</td>\n      <td>145.554159</td>\n      <td>152.496947</td>\n      <td>158.745674</td>\n    </tr>\n    <tr>\n      <th>1951-11</th>\n      <td>113.464726</td>\n      <td>119.977182</td>\n      <td>127.212994</td>\n      <td>134.448805</td>\n      <td>140.961262</td>\n    </tr>\n    <tr>\n      <th>1951-12</th>\n      <td>129.690419</td>\n      <td>136.456333</td>\n      <td>143.973754</td>\n      <td>151.491176</td>\n      <td>158.257090</td>\n    </tr>\n  </tbody>\n</table>\n</div>"
     },
     "execution_count": 23,
     "metadata": {},
     "output_type": "execute_result"
    }
   ],
   "source": [
    "import numpy as np\n",
    "\n",
    "from aeon.datasets import load_airline\n",
    "from aeon.forecasting.theta import ThetaForecaster\n",
    "\n",
    "y_train = load_airline()[0:24]  # train on 24 months, 1949 and 1950\n",
    "y_test = load_airline()[24:36]  # ground truth for 12 months in 1951\n",
    "\n",
    "# try to forecast 12 months ahead, from y_train\n",
    "fh = np.arange(1, 13)\n",
    "\n",
    "forecaster = ThetaForecaster(sp=12)\n",
    "forecaster.fit(y_train, fh=fh)\n",
    "\n",
    "pred_quantiles = forecaster.predict_quantiles(alpha=[0.1, 0.25, 0.5, 0.75, 0.9])\n",
    "pred_quantiles"
   ]
  },
  {
   "cell_type": "markdown",
   "id": "ca086cc1",
   "metadata": {},
   "source": [
    "1. computing the loss by quantile point or interval end, averaged over `fh` time stamps\\\n",
    "i.e., $\\frac{1}{N} \\sum_{i=1}^N L_{\\alpha}(\\widehat{y}(t_i), y(t_i))$ for $t_i$ in the `fh`, and every `alpha`,\n",
    "this is one number per quantile value in `alpha`"
   ]
  },
  {
   "cell_type": "code",
   "execution_count": 24,
   "id": "induced-shakespeare",
   "metadata": {
    "ExecuteTime": {
     "end_time": "2023-08-24T18:26:39.332826Z",
     "start_time": "2023-08-24T18:26:39.281455100Z"
    }
   },
   "outputs": [
    {
     "data": {
      "text/plain": "0.10    2.706601\n0.25    5.494502\n0.50    8.162435\n0.75    8.003799\n0.90    5.220249\nName: 0, dtype: float64"
     },
     "execution_count": 24,
     "metadata": {},
     "output_type": "execute_result"
    }
   ],
   "source": [
    "from aeon.performance_metrics.forecasting.probabilistic import PinballLoss\n",
    "\n",
    "loss = PinballLoss(score_average=False)\n",
    "loss(y_true=y_test, y_pred=pred_quantiles)"
   ]
  },
  {
   "cell_type": "markdown",
   "id": "b4537b68",
   "metadata": {},
   "source": [
    "2. computing the the individual loss values, by sample, no averaging,\\\n",
    "i.e., $L_{\\alpha}(\\widehat{y}(t_i), y(t_i))$ for every $t_i$ in `fh` and every $\\alpha$ in `alpha`\\\n",
    "this is one number per quantile value $\\alpha$ in `alpha` and time point $t_i$ in `fh`"
   ]
  },
  {
   "cell_type": "code",
   "execution_count": 25,
   "id": "c033800d",
   "metadata": {
    "ExecuteTime": {
     "end_time": "2023-08-24T18:26:39.387679300Z",
     "start_time": "2023-08-24T18:26:39.303396600Z"
    }
   },
   "outputs": [
    {
     "data": {
      "text/plain": "        0.10      0.25       0.50       0.75       0.90\n0   1.752102  3.640448   5.636938   5.989468   4.524056\n1   1.236173  2.219997   2.505758   0.857285   0.233870\n2   2.572342  5.446984   8.707664   9.782038   8.196509\n3   1.959403  3.812991   5.213805   4.202444   1.135072\n4   4.123794  9.131057  15.643478  19.537261  19.202375\n5   2.200464  4.236631   5.663294   4.279988   0.583679\n6   2.858604  5.801378   8.613677   8.436899   5.281805\n7   2.928144  5.899190   8.640334   8.223433   4.751909\n8   2.999967  6.006576   8.694731   8.064465   4.301331\n9   2.963736  5.847157   8.222921   7.127290   2.928894\n10  3.253527  6.505704   9.393503   8.663396   4.534864\n11  3.630958  7.385917  11.013123  10.881618   6.968619",
      "text/html": "<div>\n<style scoped>\n    .dataframe tbody tr th:only-of-type {\n        vertical-align: middle;\n    }\n\n    .dataframe tbody tr th {\n        vertical-align: top;\n    }\n\n    .dataframe thead th {\n        text-align: right;\n    }\n</style>\n<table border=\"1\" class=\"dataframe\">\n  <thead>\n    <tr style=\"text-align: right;\">\n      <th></th>\n      <th>0.10</th>\n      <th>0.25</th>\n      <th>0.50</th>\n      <th>0.75</th>\n      <th>0.90</th>\n    </tr>\n  </thead>\n  <tbody>\n    <tr>\n      <th>0</th>\n      <td>1.752102</td>\n      <td>3.640448</td>\n      <td>5.636938</td>\n      <td>5.989468</td>\n      <td>4.524056</td>\n    </tr>\n    <tr>\n      <th>1</th>\n      <td>1.236173</td>\n      <td>2.219997</td>\n      <td>2.505758</td>\n      <td>0.857285</td>\n      <td>0.233870</td>\n    </tr>\n    <tr>\n      <th>2</th>\n      <td>2.572342</td>\n      <td>5.446984</td>\n      <td>8.707664</td>\n      <td>9.782038</td>\n      <td>8.196509</td>\n    </tr>\n    <tr>\n      <th>3</th>\n      <td>1.959403</td>\n      <td>3.812991</td>\n      <td>5.213805</td>\n      <td>4.202444</td>\n      <td>1.135072</td>\n    </tr>\n    <tr>\n      <th>4</th>\n      <td>4.123794</td>\n      <td>9.131057</td>\n      <td>15.643478</td>\n      <td>19.537261</td>\n      <td>19.202375</td>\n    </tr>\n    <tr>\n      <th>5</th>\n      <td>2.200464</td>\n      <td>4.236631</td>\n      <td>5.663294</td>\n      <td>4.279988</td>\n      <td>0.583679</td>\n    </tr>\n    <tr>\n      <th>6</th>\n      <td>2.858604</td>\n      <td>5.801378</td>\n      <td>8.613677</td>\n      <td>8.436899</td>\n      <td>5.281805</td>\n    </tr>\n    <tr>\n      <th>7</th>\n      <td>2.928144</td>\n      <td>5.899190</td>\n      <td>8.640334</td>\n      <td>8.223433</td>\n      <td>4.751909</td>\n    </tr>\n    <tr>\n      <th>8</th>\n      <td>2.999967</td>\n      <td>6.006576</td>\n      <td>8.694731</td>\n      <td>8.064465</td>\n      <td>4.301331</td>\n    </tr>\n    <tr>\n      <th>9</th>\n      <td>2.963736</td>\n      <td>5.847157</td>\n      <td>8.222921</td>\n      <td>7.127290</td>\n      <td>2.928894</td>\n    </tr>\n    <tr>\n      <th>10</th>\n      <td>3.253527</td>\n      <td>6.505704</td>\n      <td>9.393503</td>\n      <td>8.663396</td>\n      <td>4.534864</td>\n    </tr>\n    <tr>\n      <th>11</th>\n      <td>3.630958</td>\n      <td>7.385917</td>\n      <td>11.013123</td>\n      <td>10.881618</td>\n      <td>6.968619</td>\n    </tr>\n  </tbody>\n</table>\n</div>"
     },
     "execution_count": 25,
     "metadata": {},
     "output_type": "execute_result"
    }
   ],
   "source": [
    "loss.evaluate_by_index(y_true=y_test, y_pred=pred_quantiles)"
   ]
  },
  {
   "cell_type": "markdown",
   "id": "1bf5aac3",
   "metadata": {},
   "source": [
    "3. computing the loss for a multiple quantile forecast, averaged over `fh` time stamps and quantile values `alpha`\\\n",
    "i.e., $\\frac{1}{Nk} \\sum_{j=1}^k\\sum_{i=1}^N L_{\\alpha_j}(\\widehat{y_j}(t_i), y(t_i))$ for $t_i$ in `fh`, and quantile values $\\alpha_j$,\\\n",
    "this is a single number that can be used in tuning (e.g., grid search) or evaluation overall"
   ]
  },
  {
   "cell_type": "code",
   "execution_count": 26,
   "id": "97479196",
   "metadata": {
    "ExecuteTime": {
     "end_time": "2023-08-24T18:26:39.488818200Z",
     "start_time": "2023-08-24T18:26:39.322852800Z"
    }
   },
   "outputs": [
    {
     "data": {
      "text/plain": "5.917517291566615"
     },
     "execution_count": 26,
     "metadata": {},
     "output_type": "execute_result"
    }
   ],
   "source": [
    "from aeon.performance_metrics.forecasting.probabilistic import PinballLoss\n",
    "\n",
    "loss_multi = PinballLoss(score_average=True)\n",
    "loss_multi(y_true=y_test, y_pred=pred_quantiles)"
   ]
  },
  {
   "cell_type": "markdown",
   "id": "759cc7f8",
   "metadata": {},
   "source": [
    "4. computing the loss for a multiple quantile forecast, averaged quantile values `alpha`, for individual time stamps\\\n",
    "i.e., $\\frac{1}{k} \\sum_{j=1}^k L_{\\alpha_j}(\\widehat{y_j}(t_i), y(t_i))$ for $t_i$ in `fh`, and quantile values $\\alpha_j$,\\\n",
    "this is a univariate time series at `fh` times $t_i$, it can be used for tuning or evaluation by horizon index"
   ]
  },
  {
   "cell_type": "code",
   "execution_count": 27,
   "id": "16a6d687",
   "metadata": {
    "ExecuteTime": {
     "end_time": "2023-08-24T18:26:39.490813200Z",
     "start_time": "2023-08-24T18:26:39.335818100Z"
    }
   },
   "outputs": [
    {
     "data": {
      "text/plain": "0      4.308602\n1      1.410617\n2      6.941107\n3      3.264743\n4     13.527593\n5      3.392811\n6      6.198473\n7      6.088602\n8      6.013414\n9      5.417999\n10     6.470199\n11     7.976047\ndtype: float64"
     },
     "execution_count": 27,
     "metadata": {},
     "output_type": "execute_result"
    }
   ],
   "source": [
    "loss_multi.evaluate_by_index(y_true=y_test, y_pred=pred_quantiles)"
   ]
  },
  {
   "cell_type": "markdown",
   "id": "68c94017",
   "metadata": {},
   "source": [
    "Question: why is `score_average` a constructor flag, and `evaluate_by_index` a method?\n",
    "\n",
    "* not all losses are \"by index\", so `evaluate_by_index` logic can vary (e.g., pseudo-samples)\n",
    "* constructor args define \"mathematical object\" of scientific signature: series -> non-temporal object\\\n",
    "methods define action or \"way to apply\", e.g., as used in tuning or reporting\n",
    "\n",
    "Compare `score_average` to `multioutput` arg in `scikit-learn` metrics and `aeon`."
   ]
  },
  {
   "cell_type": "markdown",
   "id": "d15ecf62",
   "metadata": {},
   "source": [
    "#### metrics: interval vs quantile metrics"
   ]
  },
  {
   "cell_type": "markdown",
   "id": "9e18fcf9",
   "metadata": {},
   "source": [
    "Interval and quantile metrics can be used interchangeably:\n",
    "\n",
    "internally, these are easily convertible to each other\\\n",
    "recall: lower/upper interval = quantiles at $\\frac{1}{2} \\pm \\frac{1}2$ `coverage`"
   ]
  },
  {
   "cell_type": "code",
   "execution_count": 28,
   "id": "c7d0df6d",
   "metadata": {
    "ExecuteTime": {
     "end_time": "2023-08-24T18:26:39.762659500Z",
     "start_time": "2023-08-24T18:26:39.353770400Z"
    }
   },
   "outputs": [
    {
     "data": {
      "text/plain": "           Coverage            \n                0.8            \n              lower       upper\n1951-01  127.478978  139.973272\n1951-02  137.638269  152.338697\n1951-03  152.276577  168.892768\n1951-04  143.405969  161.738809\n1951-05  130.762062  150.664027\n1951-06  155.995358  177.351467\n1951-07  170.413963  193.131328\n1951-08  169.718563  193.720101\n1951-09  154.000334  179.220743\n1951-10  132.362644  158.745674\n1951-11  113.464726  140.961262\n1951-12  129.690419  158.257090",
      "text/html": "<div>\n<style scoped>\n    .dataframe tbody tr th:only-of-type {\n        vertical-align: middle;\n    }\n\n    .dataframe tbody tr th {\n        vertical-align: top;\n    }\n\n    .dataframe thead tr th {\n        text-align: left;\n    }\n</style>\n<table border=\"1\" class=\"dataframe\">\n  <thead>\n    <tr>\n      <th></th>\n      <th colspan=\"2\" halign=\"left\">Coverage</th>\n    </tr>\n    <tr>\n      <th></th>\n      <th colspan=\"2\" halign=\"left\">0.8</th>\n    </tr>\n    <tr>\n      <th></th>\n      <th>lower</th>\n      <th>upper</th>\n    </tr>\n  </thead>\n  <tbody>\n    <tr>\n      <th>1951-01</th>\n      <td>127.478978</td>\n      <td>139.973272</td>\n    </tr>\n    <tr>\n      <th>1951-02</th>\n      <td>137.638269</td>\n      <td>152.338697</td>\n    </tr>\n    <tr>\n      <th>1951-03</th>\n      <td>152.276577</td>\n      <td>168.892768</td>\n    </tr>\n    <tr>\n      <th>1951-04</th>\n      <td>143.405969</td>\n      <td>161.738809</td>\n    </tr>\n    <tr>\n      <th>1951-05</th>\n      <td>130.762062</td>\n      <td>150.664027</td>\n    </tr>\n    <tr>\n      <th>1951-06</th>\n      <td>155.995358</td>\n      <td>177.351467</td>\n    </tr>\n    <tr>\n      <th>1951-07</th>\n      <td>170.413963</td>\n      <td>193.131328</td>\n    </tr>\n    <tr>\n      <th>1951-08</th>\n      <td>169.718563</td>\n      <td>193.720101</td>\n    </tr>\n    <tr>\n      <th>1951-09</th>\n      <td>154.000334</td>\n      <td>179.220743</td>\n    </tr>\n    <tr>\n      <th>1951-10</th>\n      <td>132.362644</td>\n      <td>158.745674</td>\n    </tr>\n    <tr>\n      <th>1951-11</th>\n      <td>113.464726</td>\n      <td>140.961262</td>\n    </tr>\n    <tr>\n      <th>1951-12</th>\n      <td>129.690419</td>\n      <td>158.257090</td>\n    </tr>\n  </tbody>\n</table>\n</div>"
     },
     "execution_count": 28,
     "metadata": {},
     "output_type": "execute_result"
    }
   ],
   "source": [
    "pred_interval = forecaster.predict_interval(coverage=0.8)\n",
    "pred_interval"
   ]
  },
  {
   "cell_type": "markdown",
   "id": "6142c0af",
   "metadata": {},
   "source": [
    "loss object recognizes an input type automatically and computes the corresponding interval loss"
   ]
  },
  {
   "cell_type": "code",
   "execution_count": 29,
   "id": "4857f09d",
   "metadata": {
    "ExecuteTime": {
     "end_time": "2023-08-24T18:26:39.762659500Z",
     "start_time": "2023-08-24T18:26:39.375711700Z"
    }
   },
   "outputs": [
    {
     "data": {
      "text/plain": "0.1    2.706601\n0.9    5.220249\nName: 0, dtype: float64"
     },
     "execution_count": 29,
     "metadata": {},
     "output_type": "execute_result"
    }
   ],
   "source": [
    "loss(y_true=y_test, y_pred=pred_interval)"
   ]
  },
  {
   "cell_type": "code",
   "execution_count": 30,
   "id": "fa588117",
   "metadata": {
    "ExecuteTime": {
     "end_time": "2023-08-24T18:26:39.783771700Z",
     "start_time": "2023-08-24T18:26:39.387679300Z"
    }
   },
   "outputs": [
    {
     "data": {
      "text/plain": "3.9634248763342055"
     },
     "execution_count": 30,
     "metadata": {},
     "output_type": "execute_result"
    }
   ],
   "source": [
    "loss_multi(y_true=y_test, y_pred=pred_interval)"
   ]
  },
  {
   "cell_type": "markdown",
   "id": "5dac797f",
   "metadata": {},
   "source": [
    "#### evaluation by backtesting"
   ]
  },
  {
   "cell_type": "code",
   "execution_count": 31,
   "id": "15e0f857",
   "metadata": {
    "ExecuteTime": {
     "end_time": "2023-08-24T18:26:39.919464100Z",
     "start_time": "2023-08-24T18:26:39.405016100Z"
    }
   },
   "outputs": [
    {
     "data": {
      "text/plain": "   test_PinballLoss  fit_time  pred_time  len_train_window   cutoff\n0          0.865788  0.009816   0.008589                72  1954-12\n1          0.958340  0.010023   0.009634                84  1955-12\n2          0.981744  0.012141   0.009949                96  1956-12\n3          1.411309  0.009330   0.009291               108  1957-12\n4          1.187198  0.008799   0.007878               120  1958-12",
      "text/html": "<div>\n<style scoped>\n    .dataframe tbody tr th:only-of-type {\n        vertical-align: middle;\n    }\n\n    .dataframe tbody tr th {\n        vertical-align: top;\n    }\n\n    .dataframe thead th {\n        text-align: right;\n    }\n</style>\n<table border=\"1\" class=\"dataframe\">\n  <thead>\n    <tr style=\"text-align: right;\">\n      <th></th>\n      <th>test_PinballLoss</th>\n      <th>fit_time</th>\n      <th>pred_time</th>\n      <th>len_train_window</th>\n      <th>cutoff</th>\n    </tr>\n  </thead>\n  <tbody>\n    <tr>\n      <th>0</th>\n      <td>0.865788</td>\n      <td>0.009816</td>\n      <td>0.008589</td>\n      <td>72</td>\n      <td>1954-12</td>\n    </tr>\n    <tr>\n      <th>1</th>\n      <td>0.958340</td>\n      <td>0.010023</td>\n      <td>0.009634</td>\n      <td>84</td>\n      <td>1955-12</td>\n    </tr>\n    <tr>\n      <th>2</th>\n      <td>0.981744</td>\n      <td>0.012141</td>\n      <td>0.009949</td>\n      <td>96</td>\n      <td>1956-12</td>\n    </tr>\n    <tr>\n      <th>3</th>\n      <td>1.411309</td>\n      <td>0.009330</td>\n      <td>0.009291</td>\n      <td>108</td>\n      <td>1957-12</td>\n    </tr>\n    <tr>\n      <th>4</th>\n      <td>1.187198</td>\n      <td>0.008799</td>\n      <td>0.007878</td>\n      <td>120</td>\n      <td>1958-12</td>\n    </tr>\n  </tbody>\n</table>\n</div>"
     },
     "execution_count": 31,
     "metadata": {},
     "output_type": "execute_result"
    }
   ],
   "source": [
    "from aeon.datasets import load_airline\n",
    "from aeon.forecasting.model_evaluation import evaluate\n",
    "from aeon.forecasting.model_selection import ExpandingWindowSplitter\n",
    "from aeon.forecasting.theta import ThetaForecaster\n",
    "from aeon.performance_metrics.forecasting.probabilistic import PinballLoss\n",
    "\n",
    "# 1. define data\n",
    "y = load_airline()\n",
    "\n",
    "# 2. define splitting/backtesting regime\n",
    "fh = [1, 2, 3]\n",
    "cv = ExpandingWindowSplitter(step_length=12, fh=fh, initial_window=72)\n",
    "\n",
    "# 3. define loss to use\n",
    "loss = PinballLoss()\n",
    "# default is score_average=True and multi_output=\"uniform_average\", so gives a number\n",
    "\n",
    "forecaster = ThetaForecaster(sp=12)\n",
    "results = evaluate(\n",
    "    forecaster=forecaster, y=y, cv=cv, strategy=\"refit\", return_data=True, scoring=loss\n",
    ")\n",
    "results.iloc[:, :5].head()"
   ]
  },
  {
   "cell_type": "markdown",
   "id": "d2b98ad3",
   "metadata": {},
   "source": [
    "* each row is one train/test split in the walkforward setting\n",
    "* first col is the loss on the test fold\n",
    "* last two columns summarise length of training window, cutoff between train/test"
   ]
  },
  {
   "cell_type": "markdown",
   "id": "4d3ab695",
   "metadata": {},
   "source": [
    "roadmap items:\n",
    "\n",
    "implementing further metrics\n",
    "\n",
    "* distribution prediction metrics - may need tfp extension\n",
    "* advanced evaluation set-ups\n",
    "* variance loss\n",
    "\n",
    "contributions are appreciated!"
   ]
  },
  {
   "cell_type": "markdown",
   "id": "public-union",
   "metadata": {},
   "source": [
    "---\n",
    "### Advanced composition: pipelines, tuning, reduction, adding proba forecasts to any estimator\n"
   ]
  },
  {
   "cell_type": "markdown",
   "id": "02d2367c",
   "metadata": {},
   "source": [
    "composition = constructing \"composite\" estimators out of multiple \"component\" estimators\n",
    "\n",
    "* **reduction** = building estimator type A using estimator type B\n",
    "    * special case: adding proba forecasting capability to non-proba forecaster\n",
    "    * special case: using proba supervised learner for  proba forecasting\n",
    "* **pipelining** = chaining estimators, here: transformers to a forecaster\n",
    "* **tuning** = automated hyperparameter fitting, usually via internal evaluation loop\n",
    "    * special case: grid parameter search and random parameter search tuning\n",
    "    * special case: \"Auto-ML\", optimising not just estimator hyperparameter but also choice of estimator"
   ]
  },
  {
   "cell_type": "markdown",
   "id": "88e72a7e",
   "metadata": {},
   "source": [
    "#### Adding probabilistic forecasts to non-probabilistic forecasters"
   ]
  },
  {
   "cell_type": "markdown",
   "id": "ea37cf77",
   "metadata": {},
   "source": [
    "start with a forecaster that does not produce probabilistic predictions:"
   ]
  },
  {
   "cell_type": "code",
   "execution_count": 32,
   "id": "6abda0ed",
   "metadata": {
    "ExecuteTime": {
     "end_time": "2023-08-24T18:26:39.919464100Z",
     "start_time": "2023-08-24T18:26:39.663909100Z"
    }
   },
   "outputs": [
    {
     "data": {
      "text/plain": "False"
     },
     "execution_count": 32,
     "metadata": {},
     "output_type": "execute_result"
    }
   ],
   "source": [
    "from aeon.forecasting.exp_smoothing import ExponentialSmoothing\n",
    "\n",
    "my_forecaster = ExponentialSmoothing()\n",
    "\n",
    "# does the forecaster support probabilistic predictions?\n",
    "my_forecaster.get_tag(\"capability:pred_int\")"
   ]
  },
  {
   "cell_type": "markdown",
   "id": "0cd78bfe",
   "metadata": {},
   "source": [
    "adding probabilistic predictions is possible via reduction wrappers:"
   ]
  },
  {
   "cell_type": "code",
   "execution_count": 33,
   "id": "60b0664a",
   "metadata": {
    "ExecuteTime": {
     "end_time": "2023-08-24T18:26:39.919464100Z",
     "start_time": "2023-08-24T18:26:39.663909100Z"
    }
   },
   "outputs": [
    {
     "data": {
      "text/plain": "True"
     },
     "execution_count": 33,
     "metadata": {},
     "output_type": "execute_result"
    }
   ],
   "source": [
    "# NaiveVariance adds intervals & variance via collecting past residuals\n",
    "from aeon.forecasting.naive import NaiveVariance\n",
    "\n",
    "# create a composite forecaster like this:\n",
    "my_forecaster_with_proba = NaiveVariance(my_forecaster)\n",
    "\n",
    "# does it support probabilistic predictions now?\n",
    "my_forecaster_with_proba.get_tag(\"capability:pred_int\")"
   ]
  },
  {
   "cell_type": "markdown",
   "id": "8a47135c",
   "metadata": {},
   "source": [
    "the composite can now be used like any probabilistic forecaster:"
   ]
  },
  {
   "cell_type": "code",
   "execution_count": 34,
   "id": "99e6bc89",
   "metadata": {
    "ExecuteTime": {
     "end_time": "2023-08-24T18:26:42.042126700Z",
     "start_time": "2023-08-24T18:26:39.663909100Z"
    }
   },
   "outputs": [
    {
     "data": {
      "text/plain": "           Coverage            \n                0.9            \n              lower       upper\n1961-01  341.950660  522.049339\n1961-02  319.828426  544.171573\n1961-03  307.334366  556.665632",
      "text/html": "<div>\n<style scoped>\n    .dataframe tbody tr th:only-of-type {\n        vertical-align: middle;\n    }\n\n    .dataframe tbody tr th {\n        vertical-align: top;\n    }\n\n    .dataframe thead tr th {\n        text-align: left;\n    }\n</style>\n<table border=\"1\" class=\"dataframe\">\n  <thead>\n    <tr>\n      <th></th>\n      <th colspan=\"2\" halign=\"left\">Coverage</th>\n    </tr>\n    <tr>\n      <th></th>\n      <th colspan=\"2\" halign=\"left\">0.9</th>\n    </tr>\n    <tr>\n      <th></th>\n      <th>lower</th>\n      <th>upper</th>\n    </tr>\n  </thead>\n  <tbody>\n    <tr>\n      <th>1961-01</th>\n      <td>341.950660</td>\n      <td>522.049339</td>\n    </tr>\n    <tr>\n      <th>1961-02</th>\n      <td>319.828426</td>\n      <td>544.171573</td>\n    </tr>\n    <tr>\n      <th>1961-03</th>\n      <td>307.334366</td>\n      <td>556.665632</td>\n    </tr>\n  </tbody>\n</table>\n</div>"
     },
     "execution_count": 34,
     "metadata": {},
     "output_type": "execute_result"
    }
   ],
   "source": [
    "y = load_airline()\n",
    "\n",
    "my_forecaster_with_proba.fit(y, fh=[1, 2, 3])\n",
    "my_forecaster_with_proba.predict_interval()"
   ]
  },
  {
   "cell_type": "markdown",
   "id": "64e6326f",
   "metadata": {},
   "source": [
    "roadmap items:\n",
    "\n",
    "more compositors to enable probabilistic forecasting\n",
    "\n",
    "* bootstrap forecast intervals\n",
    "* reduction to probabilistic supervised learning\n",
    "* popular \"add probabilistic capability\" wrappers\n",
    "\n",
    "contributions are appreciated!"
   ]
  },
  {
   "cell_type": "markdown",
   "id": "outstanding-campus",
   "metadata": {},
   "source": [
    "#### Tuning and AutoML"
   ]
  },
  {
   "cell_type": "markdown",
   "id": "4e913454",
   "metadata": {},
   "source": [
    "tuning and autoML with probabilistic forecasters works exactly like with \"ordinary\" forecasters\\\n",
    "via `ForecastingGridSearchCV` or `ForecastingRandomSearchCV`\n",
    "\n",
    "* change metric to tune to a probabilistic metric\n",
    "* use a corresponding probabilistic metric or loss function\n",
    "\n",
    "Internally, evaluation will be done using probabilistic metric, via backtesting evaluation.\n",
    "\n",
    "**important**: to evaluate the tuned estimator, use it in `evaluate` or a separate benchmarking workflow.\\\n",
    "Using internal metric/loss values amounts to in-sample evaluation, which is over-optimistic."
   ]
  },
  {
   "cell_type": "code",
   "execution_count": 35,
   "id": "difficult-belarus",
   "metadata": {
    "ExecuteTime": {
     "end_time": "2023-08-24T18:26:42.043124300Z",
     "start_time": "2023-08-24T18:26:42.038137700Z"
    }
   },
   "outputs": [],
   "source": [
    "from aeon.forecasting.model_selection import (\n",
    "    ForecastingGridSearchCV,\n",
    "    SlidingWindowSplitter,\n",
    ")\n",
    "from aeon.forecasting.theta import ThetaForecaster\n",
    "from aeon.performance_metrics.forecasting.probabilistic import PinballLoss\n",
    "\n",
    "# forecaster we want to tune\n",
    "forecaster = ThetaForecaster()\n",
    "\n",
    "# parameter grid to search over\n",
    "param_grid = {\"sp\": [1, 6, 12]}\n",
    "\n",
    "# evaluation/backtesting regime for *tuning*\n",
    "fh = [1, 2, 3]  # fh for tuning regime, does not need to be same as in fit/predict!\n",
    "cv = SlidingWindowSplitter(window_length=36, fh=fh)\n",
    "scoring = PinballLoss()\n",
    "\n",
    "# construct the composite forecaster with grid search compositor\n",
    "gscv = ForecastingGridSearchCV(\n",
    "    forecaster, cv=cv, param_grid=param_grid, scoring=scoring, strategy=\"refit\"\n",
    ")"
   ]
  },
  {
   "cell_type": "code",
   "execution_count": 36,
   "id": "562b301e",
   "metadata": {
    "ExecuteTime": {
     "end_time": "2023-08-24T18:26:44.508766Z",
     "start_time": "2023-08-24T18:26:42.044121400Z"
    }
   },
   "outputs": [
    {
     "data": {
      "text/plain": "ForecastingGridSearchCV(cv=SlidingWindowSplitter(fh=[1, 2, 3],\n                                                 window_length=36),\n                        forecaster=ThetaForecaster(),\n                        param_grid={'sp': [1, 6, 12]}, scoring=PinballLoss())",
      "text/html": "<style>#sk-container-id-3 {color: black;background-color: white;}#sk-container-id-3 pre{padding: 0;}#sk-container-id-3 div.sk-toggleable {background-color: white;}#sk-container-id-3 label.sk-toggleable__label {cursor: pointer;display: block;width: 100%;margin-bottom: 0;padding: 0.3em;box-sizing: border-box;text-align: center;}#sk-container-id-3 label.sk-toggleable__label-arrow:before {content: \"▸\";float: left;margin-right: 0.25em;color: #696969;}#sk-container-id-3 label.sk-toggleable__label-arrow:hover:before {color: black;}#sk-container-id-3 div.sk-estimator:hover label.sk-toggleable__label-arrow:before {color: black;}#sk-container-id-3 div.sk-toggleable__content {max-height: 0;max-width: 0;overflow: hidden;text-align: left;background-color: #f0f8ff;}#sk-container-id-3 div.sk-toggleable__content pre {margin: 0.2em;color: black;border-radius: 0.25em;background-color: #f0f8ff;}#sk-container-id-3 input.sk-toggleable__control:checked~div.sk-toggleable__content {max-height: 200px;max-width: 100%;overflow: auto;}#sk-container-id-3 input.sk-toggleable__control:checked~label.sk-toggleable__label-arrow:before {content: \"▾\";}#sk-container-id-3 div.sk-estimator input.sk-toggleable__control:checked~label.sk-toggleable__label {background-color: #d4ebff;}#sk-container-id-3 div.sk-label input.sk-toggleable__control:checked~label.sk-toggleable__label {background-color: #d4ebff;}#sk-container-id-3 input.sk-hidden--visually {border: 0;clip: rect(1px 1px 1px 1px);clip: rect(1px, 1px, 1px, 1px);height: 1px;margin: -1px;overflow: hidden;padding: 0;position: absolute;width: 1px;}#sk-container-id-3 div.sk-estimator {font-family: monospace;background-color: #f0f8ff;border: 1px dotted black;border-radius: 0.25em;box-sizing: border-box;margin-bottom: 0.5em;}#sk-container-id-3 div.sk-estimator:hover {background-color: #d4ebff;}#sk-container-id-3 div.sk-parallel-item::after {content: \"\";width: 100%;border-bottom: 1px solid gray;flex-grow: 1;}#sk-container-id-3 div.sk-label:hover label.sk-toggleable__label {background-color: #d4ebff;}#sk-container-id-3 div.sk-serial::before {content: \"\";position: absolute;border-left: 1px solid gray;box-sizing: border-box;top: 0;bottom: 0;left: 50%;z-index: 0;}#sk-container-id-3 div.sk-serial {display: flex;flex-direction: column;align-items: center;background-color: white;padding-right: 0.2em;padding-left: 0.2em;position: relative;}#sk-container-id-3 div.sk-item {position: relative;z-index: 1;}#sk-container-id-3 div.sk-parallel {display: flex;align-items: stretch;justify-content: center;background-color: white;position: relative;}#sk-container-id-3 div.sk-item::before, #sk-container-id-3 div.sk-parallel-item::before {content: \"\";position: absolute;border-left: 1px solid gray;box-sizing: border-box;top: 0;bottom: 0;left: 50%;z-index: -1;}#sk-container-id-3 div.sk-parallel-item {display: flex;flex-direction: column;z-index: 1;position: relative;background-color: white;}#sk-container-id-3 div.sk-parallel-item:first-child::after {align-self: flex-end;width: 50%;}#sk-container-id-3 div.sk-parallel-item:last-child::after {align-self: flex-start;width: 50%;}#sk-container-id-3 div.sk-parallel-item:only-child::after {width: 0;}#sk-container-id-3 div.sk-dashed-wrapped {border: 1px dashed gray;margin: 0 0.4em 0.5em 0.4em;box-sizing: border-box;padding-bottom: 0.4em;background-color: white;}#sk-container-id-3 div.sk-label label {font-family: monospace;font-weight: bold;display: inline-block;line-height: 1.2em;}#sk-container-id-3 div.sk-label-container {text-align: center;}#sk-container-id-3 div.sk-container {/* jupyter's `normalize.less` sets `[hidden] { display: none; }` but bootstrap.min.css set `[hidden] { display: none !important; }` so we also need the `!important` here to be able to override the default hidden behavior on the sphinx rendered scikit-learn.org. See: https://github.com/scikit-learn/scikit-learn/issues/21755 */display: inline-block !important;position: relative;}#sk-container-id-3 div.sk-text-repr-fallback {display: none;}</style><div id=\"sk-container-id-3\" class=\"sk-top-container\"><div class=\"sk-text-repr-fallback\"><pre>ForecastingGridSearchCV(cv=SlidingWindowSplitter(fh=[1, 2, 3],\n                                                 window_length=36),\n                        forecaster=ThetaForecaster(),\n                        param_grid={&#x27;sp&#x27;: [1, 6, 12]}, scoring=PinballLoss())</pre><b>In a Jupyter environment, please rerun this cell to show the HTML representation or trust the notebook. <br />On GitHub, the HTML representation is unable to render, please try loading this page with nbviewer.org.</b></div><div class=\"sk-container\" hidden><div class=\"sk-item sk-dashed-wrapped\"><div class=\"sk-label-container\"><div class=\"sk-label sk-toggleable\"><input class=\"sk-toggleable__control sk-hidden--visually\" id=\"sk-estimator-id-3\" type=\"checkbox\" ><label for=\"sk-estimator-id-3\" class=\"sk-toggleable__label sk-toggleable__label-arrow\">ForecastingGridSearchCV</label><div class=\"sk-toggleable__content\"><pre>ForecastingGridSearchCV(cv=SlidingWindowSplitter(fh=[1, 2, 3],\n                                                 window_length=36),\n                        forecaster=ThetaForecaster(),\n                        param_grid={&#x27;sp&#x27;: [1, 6, 12]}, scoring=PinballLoss())</pre></div></div></div><div class=\"sk-parallel\"><div class=\"sk-parallel-item\"><div class=\"sk-item\"><div class=\"sk-label-container\"><div class=\"sk-label sk-toggleable\"><input class=\"sk-toggleable__control sk-hidden--visually\" id=\"sk-estimator-id-4\" type=\"checkbox\" ><label for=\"sk-estimator-id-4\" class=\"sk-toggleable__label sk-toggleable__label-arrow\">forecaster: ThetaForecaster</label><div class=\"sk-toggleable__content\"><pre>ThetaForecaster()</pre></div></div></div><div class=\"sk-serial\"><div class=\"sk-item\"><div class=\"sk-estimator sk-toggleable\"><input class=\"sk-toggleable__control sk-hidden--visually\" id=\"sk-estimator-id-5\" type=\"checkbox\" ><label for=\"sk-estimator-id-5\" class=\"sk-toggleable__label sk-toggleable__label-arrow\">ThetaForecaster</label><div class=\"sk-toggleable__content\"><pre>ThetaForecaster()</pre></div></div></div></div></div></div></div></div></div></div>"
     },
     "execution_count": 36,
     "metadata": {},
     "output_type": "execute_result"
    }
   ],
   "source": [
    "from aeon.datasets import load_airline\n",
    "\n",
    "y = load_airline()[:60]\n",
    "\n",
    "gscv.fit(y, fh=fh)"
   ]
  },
  {
   "cell_type": "markdown",
   "id": "69a297df",
   "metadata": {},
   "source": [
    "inspect hyperparameter fit obtained by tuning:"
   ]
  },
  {
   "cell_type": "code",
   "execution_count": 37,
   "id": "comparative-sampling",
   "metadata": {
    "ExecuteTime": {
     "end_time": "2023-08-24T18:26:44.524152600Z",
     "start_time": "2023-08-24T18:26:44.502782900Z"
    }
   },
   "outputs": [
    {
     "data": {
      "text/plain": "{'sp': 12}"
     },
     "execution_count": 37,
     "metadata": {},
     "output_type": "execute_result"
    }
   ],
   "source": [
    "gscv.best_params_"
   ]
  },
  {
   "cell_type": "markdown",
   "id": "ca5245bb",
   "metadata": {},
   "source": [
    "obtain predictions:"
   ]
  },
  {
   "cell_type": "code",
   "execution_count": 38,
   "id": "133d779e",
   "metadata": {
    "ExecuteTime": {
     "end_time": "2023-08-24T18:26:44.614993200Z",
     "start_time": "2023-08-24T18:26:44.508354800Z"
    }
   },
   "outputs": [
    {
     "data": {
      "text/plain": "           Coverage            \n                0.9            \n              lower       upper\n1954-01  190.832917  217.164705\n1954-02  195.638436  226.620354\n1954-03  221.947953  256.967883",
      "text/html": "<div>\n<style scoped>\n    .dataframe tbody tr th:only-of-type {\n        vertical-align: middle;\n    }\n\n    .dataframe tbody tr th {\n        vertical-align: top;\n    }\n\n    .dataframe thead tr th {\n        text-align: left;\n    }\n</style>\n<table border=\"1\" class=\"dataframe\">\n  <thead>\n    <tr>\n      <th></th>\n      <th colspan=\"2\" halign=\"left\">Coverage</th>\n    </tr>\n    <tr>\n      <th></th>\n      <th colspan=\"2\" halign=\"left\">0.9</th>\n    </tr>\n    <tr>\n      <th></th>\n      <th>lower</th>\n      <th>upper</th>\n    </tr>\n  </thead>\n  <tbody>\n    <tr>\n      <th>1954-01</th>\n      <td>190.832917</td>\n      <td>217.164705</td>\n    </tr>\n    <tr>\n      <th>1954-02</th>\n      <td>195.638436</td>\n      <td>226.620354</td>\n    </tr>\n    <tr>\n      <th>1954-03</th>\n      <td>221.947953</td>\n      <td>256.967883</td>\n    </tr>\n  </tbody>\n</table>\n</div>"
     },
     "execution_count": 38,
     "metadata": {},
     "output_type": "execute_result"
    }
   ],
   "source": [
    "gscv.predict_interval()"
   ]
  },
  {
   "cell_type": "markdown",
   "id": "a287cf6e",
   "metadata": {},
   "source": [
    "for AutoML, use the `MultiplexForecaster` to select among multiple forecasters:"
   ]
  },
  {
   "cell_type": "code",
   "execution_count": 39,
   "id": "differential-growth",
   "metadata": {
    "ExecuteTime": {
     "end_time": "2023-08-24T18:26:46.338805Z",
     "start_time": "2023-08-24T18:26:44.525149200Z"
    }
   },
   "outputs": [
    {
     "data": {
      "text/plain": "{'selected_forecaster': 'naive'}"
     },
     "execution_count": 39,
     "metadata": {},
     "output_type": "execute_result"
    }
   ],
   "source": [
    "from aeon.forecasting.compose import MultiplexForecaster\n",
    "from aeon.forecasting.exp_smoothing import ExponentialSmoothing\n",
    "\n",
    "forecaster = MultiplexForecaster(\n",
    "    forecasters=[\n",
    "        (\"naive\", NaiveForecaster(strategy=\"last\")),\n",
    "        (\"ets\", ExponentialSmoothing(trend=\"add\", sp=12)),\n",
    "    ],\n",
    ")\n",
    "\n",
    "forecaster_param_grid = {\"selected_forecaster\": [\"ets\", \"naive\"]}\n",
    "gscv = ForecastingGridSearchCV(forecaster, cv=cv, param_grid=forecaster_param_grid)\n",
    "\n",
    "gscv.fit(y)\n",
    "gscv.best_params_"
   ]
  },
  {
   "cell_type": "markdown",
   "id": "severe-belize",
   "metadata": {},
   "source": [
    "#### Pipelines with probabilistic forecasters"
   ]
  },
  {
   "cell_type": "markdown",
   "id": "dd70b6a2",
   "metadata": {},
   "source": [
    "`aeon` pipelines are compatible with probabilistic forecasters:\n",
    "\n",
    "* `ForecastingPipeline` applies transformers to the exogeneous `X` argument before passing them to the forecaster\n",
    "* `TransformedTargetForecaster` transforms `y` and back-transforms forecasts, including interval or quantile forecasts"
   ]
  },
  {
   "cell_type": "markdown",
   "id": "3ce8b6f1",
   "metadata": {},
   "source": [
    "`ForecastingPipeline` takes a chain of transformers and forecasters, say,\n",
    "\n",
    "`[t1, t2, ..., tn, f]`,\n",
    "\n",
    "where `t[i]` are forecasters that pre-process, and `tp[i]` are forecasters that postprocess\n",
    "\n",
    "##### `fit(y, X, fh)` does:\n",
    "\n",
    "`X1 = t1.fit_transform(X)`\\\n",
    "`X2 = t2.fit_transform(X1)`\\\n",
    "etc\\\n",
    "`X[n] = t3.fit_transform(X[n-1])`\\\n",
    "\n",
    "`f.fit(y=y, x=X[n])`\n",
    "\n",
    "##### `predict_[sth](X, fh)` does:\n",
    "\n",
    "`X1 = t1.transform(X)`\\\n",
    "`X2 = t2.transform(X1)`\\\n",
    "etc\\\n",
    "`X[n] = t3.transform(X[n-1])`\n",
    "\n",
    "`f.predict_[sth](X=X[n], fh)`"
   ]
  },
  {
   "cell_type": "code",
   "execution_count": 40,
   "id": "dcab36a8",
   "metadata": {
    "ExecuteTime": {
     "end_time": "2023-08-24T18:26:46.338805Z",
     "start_time": "2023-08-24T18:26:46.326837400Z"
    }
   },
   "outputs": [],
   "source": [
    "from aeon.datasets import load_macroeconomic\n",
    "from aeon.forecasting.arima import ARIMA\n",
    "from aeon.forecasting.compose import ForecastingPipeline\n",
    "from aeon.forecasting.model_selection import temporal_train_test_split\n",
    "from aeon.transformations.impute import Imputer"
   ]
  },
  {
   "cell_type": "code",
   "execution_count": 41,
   "id": "610257c8",
   "metadata": {
    "ExecuteTime": {
     "end_time": "2023-08-24T18:26:46.385679900Z",
     "start_time": "2023-08-24T18:26:46.333818600Z"
    }
   },
   "outputs": [],
   "source": [
    "data = load_macroeconomic()\n",
    "y = data[\"unemp\"]\n",
    "X = data.drop(columns=[\"unemp\"])\n",
    "\n",
    "y_train, y_test, X_train, X_test = temporal_train_test_split(y, X)"
   ]
  },
  {
   "cell_type": "code",
   "execution_count": 42,
   "id": "1c04ef29",
   "metadata": {
    "ExecuteTime": {
     "end_time": "2023-08-24T18:26:46.521397200Z",
     "start_time": "2023-08-24T18:26:46.347781200Z"
    }
   },
   "outputs": [
    {
     "data": {
      "text/plain": "        Coverage          \n             0.9          \n           lower     upper\nPeriod                    \n1997Q1  5.042704  6.119990\n1997Q2  3.948564  5.235163\n1997Q3  3.887471  5.253592\n1997Q4  4.108211  5.506862\n1998Q1  4.501319  5.913611",
      "text/html": "<div>\n<style scoped>\n    .dataframe tbody tr th:only-of-type {\n        vertical-align: middle;\n    }\n\n    .dataframe tbody tr th {\n        vertical-align: top;\n    }\n\n    .dataframe thead tr th {\n        text-align: left;\n    }\n\n    .dataframe thead tr:last-of-type th {\n        text-align: right;\n    }\n</style>\n<table border=\"1\" class=\"dataframe\">\n  <thead>\n    <tr>\n      <th></th>\n      <th colspan=\"2\" halign=\"left\">Coverage</th>\n    </tr>\n    <tr>\n      <th></th>\n      <th colspan=\"2\" halign=\"left\">0.9</th>\n    </tr>\n    <tr>\n      <th></th>\n      <th>lower</th>\n      <th>upper</th>\n    </tr>\n    <tr>\n      <th>Period</th>\n      <th></th>\n      <th></th>\n    </tr>\n  </thead>\n  <tbody>\n    <tr>\n      <th>1997Q1</th>\n      <td>5.042704</td>\n      <td>6.119990</td>\n    </tr>\n    <tr>\n      <th>1997Q2</th>\n      <td>3.948564</td>\n      <td>5.235163</td>\n    </tr>\n    <tr>\n      <th>1997Q3</th>\n      <td>3.887471</td>\n      <td>5.253592</td>\n    </tr>\n    <tr>\n      <th>1997Q4</th>\n      <td>4.108211</td>\n      <td>5.506862</td>\n    </tr>\n    <tr>\n      <th>1998Q1</th>\n      <td>4.501319</td>\n      <td>5.913611</td>\n    </tr>\n  </tbody>\n</table>\n</div>"
     },
     "execution_count": 42,
     "metadata": {},
     "output_type": "execute_result"
    }
   ],
   "source": [
    "forecaster = ForecastingPipeline(\n",
    "    steps=[\n",
    "        (\"imputer\", Imputer(method=\"mean\")),\n",
    "        (\"forecaster\", ARIMA(suppress_warnings=True)),\n",
    "    ]\n",
    ")\n",
    "forecaster.fit(y=y_train, X=X_train, fh=X_test.index[:5])\n",
    "forecaster.predict_interval(X=X_test[:5])"
   ]
  },
  {
   "cell_type": "markdown",
   "id": "0081f4b9",
   "metadata": {},
   "source": [
    "`TransformedTargetForecaster` takes a chain of transformers and forecasters, say,\n",
    "\n",
    "`[t1, t2, ..., tn, f, tp1, tp2, ..., tk]`,\n",
    "\n",
    "where `t[i]` are forecasters that pre-process, and `tp[i]` are forecasters that postprocess\n",
    "\n",
    "##### `fit(y, X, fh)` does:\\\n",
    "`y1 = t1.fit_transform(y)`\\\n",
    "`y2 = t2.fit_transform(y1)`\\\n",
    "`y3 = t3.fit_transform(y2)`\\\n",
    "etc\\\n",
    "`y[n] = t3.fit_transform(y[n-1])`\n",
    "\n",
    "`f.fit(y[n])`\n",
    "\n",
    "`yp1 = tp1.fit_transform(yn)`\\\n",
    "`yp2 = tp2.fit_transform(yp1)`\\\n",
    "`yp3 = tp3.fit_transform(yp2)`\\\n",
    "etc\n",
    "\n",
    "##### `predict_quantiles(y, X, fh)` does:\n",
    "\n",
    "`y1 = t1.transform(y)`\\\n",
    "`y2 = t2.transform(y1)`\\\n",
    "etc\\\n",
    "`y[n] = t3.transform(y[n-1])`\n",
    "\n",
    "`y_pred = f.predict_quantiles(y[n])`\n",
    "\n",
    "`y_pred = t[n].inverse_transform(y_pred)`\\\n",
    "`y_pred = t[n-1].inverse_transform(y_pred)`\\\n",
    "etc\\\n",
    "`y_pred = t1.inverse_transform(y_pred)`\\\n",
    "`y_pred = tp1.transform(y_pred)`\\\n",
    "`y_pred = tp2.transform(y_pred)`\\\n",
    "etc\\\n",
    "`y_pred = tp[n].transform(y_pred)`\\\n",
    "\n",
    "**Note**: the remaining proba predictions are inferred from `predict_quantiles`."
   ]
  },
  {
   "cell_type": "code",
   "execution_count": 43,
   "id": "behavioral-anger",
   "metadata": {
    "ExecuteTime": {
     "end_time": "2023-08-24T18:26:46.523391700Z",
     "start_time": "2023-08-24T18:26:46.518404800Z"
    }
   },
   "outputs": [],
   "source": [
    "from aeon.datasets import load_macroeconomic\n",
    "from aeon.forecasting.arima import ARIMA\n",
    "from aeon.forecasting.compose import TransformedTargetForecaster\n",
    "from aeon.transformations.detrend import Deseasonalizer, Detrender"
   ]
  },
  {
   "cell_type": "code",
   "execution_count": 44,
   "id": "5b4f08da",
   "metadata": {
    "ExecuteTime": {
     "end_time": "2023-08-24T18:26:46.553817200Z",
     "start_time": "2023-08-24T18:26:46.522394600Z"
    }
   },
   "outputs": [],
   "source": [
    "data = load_macroeconomic()\n",
    "y = data[[\"unemp\"]]"
   ]
  },
  {
   "cell_type": "code",
   "execution_count": 45,
   "id": "underlying-australia",
   "metadata": {
    "ExecuteTime": {
     "end_time": "2023-08-24T18:26:46.720895900Z",
     "start_time": "2023-08-24T18:26:46.532873800Z"
    }
   },
   "outputs": [
    {
     "data": {
      "text/plain": "        Coverage           \n             0.9           \n           lower      upper\n2009Q4  8.949103  10.068284\n2010Q1  8.639806  10.206350\n2010Q2  8.438112  10.337207",
      "text/html": "<div>\n<style scoped>\n    .dataframe tbody tr th:only-of-type {\n        vertical-align: middle;\n    }\n\n    .dataframe tbody tr th {\n        vertical-align: top;\n    }\n\n    .dataframe thead tr th {\n        text-align: left;\n    }\n</style>\n<table border=\"1\" class=\"dataframe\">\n  <thead>\n    <tr>\n      <th></th>\n      <th colspan=\"2\" halign=\"left\">Coverage</th>\n    </tr>\n    <tr>\n      <th></th>\n      <th colspan=\"2\" halign=\"left\">0.9</th>\n    </tr>\n    <tr>\n      <th></th>\n      <th>lower</th>\n      <th>upper</th>\n    </tr>\n  </thead>\n  <tbody>\n    <tr>\n      <th>2009Q4</th>\n      <td>8.949103</td>\n      <td>10.068284</td>\n    </tr>\n    <tr>\n      <th>2010Q1</th>\n      <td>8.639806</td>\n      <td>10.206350</td>\n    </tr>\n    <tr>\n      <th>2010Q2</th>\n      <td>8.438112</td>\n      <td>10.337207</td>\n    </tr>\n  </tbody>\n</table>\n</div>"
     },
     "execution_count": 45,
     "metadata": {},
     "output_type": "execute_result"
    }
   ],
   "source": [
    "forecaster = TransformedTargetForecaster(\n",
    "    [\n",
    "        (\"deseasonalize\", Deseasonalizer(sp=12)),\n",
    "        (\"detrend\", Detrender()),\n",
    "        (\"forecast\", ARIMA()),\n",
    "    ]\n",
    ")\n",
    "\n",
    "forecaster.fit(y, fh=[1, 2, 3])\n",
    "forecaster.predict_interval()"
   ]
  },
  {
   "cell_type": "code",
   "execution_count": 46,
   "id": "8c47e57b",
   "metadata": {
    "ExecuteTime": {
     "end_time": "2023-08-24T18:26:46.793700700Z",
     "start_time": "2023-08-24T18:26:46.630627800Z"
    }
   },
   "outputs": [
    {
     "data": {
      "text/plain": "       Quantiles           \n            0.05       0.95\n2009Q4  8.949103  10.068284\n2010Q1  8.639806  10.206350\n2010Q2  8.438112  10.337207",
      "text/html": "<div>\n<style scoped>\n    .dataframe tbody tr th:only-of-type {\n        vertical-align: middle;\n    }\n\n    .dataframe tbody tr th {\n        vertical-align: top;\n    }\n\n    .dataframe thead tr th {\n        text-align: left;\n    }\n</style>\n<table border=\"1\" class=\"dataframe\">\n  <thead>\n    <tr>\n      <th></th>\n      <th colspan=\"2\" halign=\"left\">Quantiles</th>\n    </tr>\n    <tr>\n      <th></th>\n      <th>0.05</th>\n      <th>0.95</th>\n    </tr>\n  </thead>\n  <tbody>\n    <tr>\n      <th>2009Q4</th>\n      <td>8.949103</td>\n      <td>10.068284</td>\n    </tr>\n    <tr>\n      <th>2010Q1</th>\n      <td>8.639806</td>\n      <td>10.206350</td>\n    </tr>\n    <tr>\n      <th>2010Q2</th>\n      <td>8.438112</td>\n      <td>10.337207</td>\n    </tr>\n  </tbody>\n</table>\n</div>"
     },
     "execution_count": 46,
     "metadata": {},
     "output_type": "execute_result"
    }
   ],
   "source": [
    "forecaster.predict_quantiles()"
   ]
  },
  {
   "cell_type": "markdown",
   "id": "15246bc7",
   "metadata": {},
   "source": [
    "quick creation is also possible via the `*` dunder method, same pipeline:"
   ]
  },
  {
   "cell_type": "code",
   "execution_count": 47,
   "id": "07deb7ec",
   "metadata": {
    "ExecuteTime": {
     "end_time": "2023-08-24T18:26:46.793700700Z",
     "start_time": "2023-08-24T18:26:46.697956200Z"
    }
   },
   "outputs": [],
   "source": [
    "forecaster = Deseasonalizer(sp=12) * Detrender() * ARIMA()"
   ]
  },
  {
   "cell_type": "code",
   "execution_count": 48,
   "id": "4c9e9228",
   "metadata": {
    "ExecuteTime": {
     "end_time": "2023-08-24T18:26:46.962615100Z",
     "start_time": "2023-08-24T18:26:46.711920Z"
    }
   },
   "outputs": [
    {
     "data": {
      "text/plain": "        Coverage           \n             0.9           \n           lower      upper\n2009Q4  8.949103  10.068284\n2010Q1  8.639806  10.206350\n2010Q2  8.438112  10.337207",
      "text/html": "<div>\n<style scoped>\n    .dataframe tbody tr th:only-of-type {\n        vertical-align: middle;\n    }\n\n    .dataframe tbody tr th {\n        vertical-align: top;\n    }\n\n    .dataframe thead tr th {\n        text-align: left;\n    }\n</style>\n<table border=\"1\" class=\"dataframe\">\n  <thead>\n    <tr>\n      <th></th>\n      <th colspan=\"2\" halign=\"left\">Coverage</th>\n    </tr>\n    <tr>\n      <th></th>\n      <th colspan=\"2\" halign=\"left\">0.9</th>\n    </tr>\n    <tr>\n      <th></th>\n      <th>lower</th>\n      <th>upper</th>\n    </tr>\n  </thead>\n  <tbody>\n    <tr>\n      <th>2009Q4</th>\n      <td>8.949103</td>\n      <td>10.068284</td>\n    </tr>\n    <tr>\n      <th>2010Q1</th>\n      <td>8.639806</td>\n      <td>10.206350</td>\n    </tr>\n    <tr>\n      <th>2010Q2</th>\n      <td>8.438112</td>\n      <td>10.337207</td>\n    </tr>\n  </tbody>\n</table>\n</div>"
     },
     "execution_count": 48,
     "metadata": {},
     "output_type": "execute_result"
    }
   ],
   "source": [
    "forecaster.fit(y, fh=[1, 2, 3])\n",
    "forecaster.predict_interval()"
   ]
  },
  {
   "cell_type": "markdown",
   "id": "yellow-guarantee",
   "metadata": {},
   "source": [
    "---\n",
    "## Building your own probabilistic forecaster\n",
    "\n",
    "Getting started:\n",
    "\n",
    "* follow the [\"implementing estimator\" developer guide](https://www.aeon-toolkit.org/en/stable/developer_guide/add_estimators.html)\n",
    "* use the advanced [forecasting extension template](https://github.com/aeon-toolkit/aeon/blob/main/extension_templates/forecasting.py)\n",
    "\n",
    "Extension template = python \"fill-in\" template with to-do blocks that allow you to implement your own, aeon-compatible forecasting algorithm.\n",
    "\n",
    "Check estimators using `check_estimator`\n",
    "\n",
    "For probabilistic forecasting:\n",
    "\n",
    "* implement at least one of `predict_quantiles`, `predict_interval`, `predict_var`, `predict_proba`\n",
    "* optimally, implement all, unless identical with defaulting behaviour as below\n",
    "* if only one is implemented, others use the following defaults (in this sequence, dependent availability):\n",
    "    * `predict_interval` uses quantiles from `predict_quantiles` and vice versa\n",
    "    * `predict_var` uses variance from `predict_proba`, or variance of normal with IQR as obtained from `predict_quantiles`\n",
    "    * `predict_interval` or `predict_quantiles` uses quantiles from `predict_proba` distribution\n",
    "    * `predict_proba` returns normal with mean `predict` and variance `predict_var`\n",
    "* so if predictive residuals not normal, implement `predict_proba` or `predict_quantiles`\n",
    "* if interfacing, implement the ones where least \"conversion\" is necessary\n",
    "* ensure to set the `capability:pred_int` tag to `True`\n"
   ]
  },
  {
   "cell_type": "code",
   "execution_count": 49,
   "id": "59af90ce",
   "metadata": {
    "ExecuteTime": {
     "end_time": "2023-08-24T18:26:47.167664500Z",
     "start_time": "2023-08-24T18:26:46.839421500Z"
    }
   },
   "outputs": [
    {
     "name": "stdout",
     "output_type": "stream",
     "text": [
      "All tests PASSED!\n"
     ]
    },
    {
     "data": {
      "text/plain": "{'test_constructor[NaiveForecaster]': 'PASSED'}"
     },
     "execution_count": 49,
     "metadata": {},
     "output_type": "execute_result"
    }
   ],
   "source": [
    "# estimator checking on the fly using check_estimator\n",
    "\n",
    "# suppose this is your new estimator\n",
    "from aeon.forecasting.naive import NaiveForecaster\n",
    "from aeon.utils.estimator_checks import check_estimator\n",
    "\n",
    "# check the estimator like this:\n",
    "check_estimator(NaiveForecaster, tests_to_run=[\"test_constructor\"])\n",
    "# this prints any failed tests, and returns dictionary with\n",
    "#   keys of test runs and results from the test run\n",
    "# run individual tests using the tests_to_run arg or the fixtures_to_run_arg\n",
    "#   these need to be identical to test or test/fixture names, see docstring\n",
    "#   runs all tests by default\n",
    "# to raise errors for use in traceback debugging, set raise_exceptions=True"
   ]
  },
  {
   "cell_type": "markdown",
   "id": "sunrise-eleven",
   "metadata": {},
   "source": [
    "---\n",
    "## Summary"
   ]
  },
  {
   "cell_type": "markdown",
   "id": "imperial-narrow",
   "metadata": {},
   "source": [
    "* unified API for probabilistic forecasting and probabilistic metrics\n",
    "* integrating other packages (e.g. scikit-learn, statsmodels, pmdarima, prophet)\n",
    "* interface for composite model building is same, proba or not (pipelining, ensembling, tuning, reduction)\n",
    "* easily extensible with custom estimators\n",
    "\n",
    "### Useful resources\n",
    "* For a good introduction to forecasting, see [Hyndman, Rob J., and George Athanasopoulos. Forecasting: principles and practice. OTexts, 2018](https://otexts.com/fpp2/).\n",
    "* For comparative benchmarking studies/forecasting competitions, see the [M4 competition](https://www.sciencedirect.com/science/article/pii/S0169207019301128) and the [M5 competition](https://www.kaggle.com/c/m5-forecasting-accuracy/overview)."
   ]
  }
 ],
 "metadata": {
  "kernelspec": {
   "display_name": "venv",
   "language": "python",
   "name": "python3"
  },
  "language_info": {
   "codemirror_mode": {
    "name": "ipython",
    "version": 3
   },
   "file_extension": ".py",
   "mimetype": "text/x-python",
   "name": "python",
   "nbconvert_exporter": "python",
   "pygments_lexer": "ipython3",
   "version": "3.9.13"
  },
  "vscode": {
   "interpreter": {
    "hash": "57068280af7f6672c724b71d6b32f81d2675f352b93fdaa01d4ac5d80189e075"
   }
  }
 },
 "nbformat": 4,
 "nbformat_minor": 5
}
