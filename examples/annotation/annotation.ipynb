{
 "cells": [
  {
   "cell_type": "markdown",
   "source": [
    "# Annotation with aeon\n",
    "\n",
    "The annotation module is still in early development, and the documentation may\n",
    "reflect that.\n",
    "\n",
    "Annotation covers a range of tasks, including\n",
    "\n",
    "- segmentation (splitting a series into segments)\n",
    "\n",
    "- anomaly/outlier detection (identifying \"unusual\" observations or intervals)\n",
    "\n",
    "- state modelling: creating a model to identify different underlying models\n",
    "\n",
    "We are currently splitting annotation, segmentation and anomaly_detection into separate\n",
    "modules and will update here when this is complete.\n"
   ],
   "metadata": {
    "collapsed": false
   },
   "id": "aafb58205ef861c9"
  }
 ],
 "metadata": {
  "kernelspec": {
   "display_name": "Python 3",
   "language": "python",
   "name": "python3"
  },
  "language_info": {
   "codemirror_mode": {
    "name": "ipython",
    "version": 2
   },
   "file_extension": ".py",
   "mimetype": "text/x-python",
   "name": "python",
   "nbconvert_exporter": "python",
   "pygments_lexer": "ipython2",
   "version": "2.7.6"
  }
 },
 "nbformat": 4,
 "nbformat_minor": 5
}
