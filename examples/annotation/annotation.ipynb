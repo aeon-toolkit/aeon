{
 "cells": [
  {
   "cell_type": "markdown",
   "source": [
    "# Annotation with aeon\n",
    "\n",
    "The annotation module is still in early development, and the documentation may\n",
    "reflect that.\n",
    "\n",
    "Annotation covers a range of tasks, including\n",
    "\n",
    "- segmentation (splitting a series into segments)\n",
    "\n",
    "- anomaly/outlier detection (identifying \"unusual\" observations or intervals)\n",
    "\n",
    "- state modelling: creating a model to identify different underlying models\n",
    "\n",
    "We currently have two notebooks on segmentation\n",
    "\n",
    "- [ClaSP (Classification Score Profile) Segmentation](./segmentation_with_clasp.ipynb)\n",
    "\n",
    "- [Heteregeneous Intrinsic Dimensionality Algorithm (Hidalgo) Segmentation](./hidalgo_segmentation.ipynb)\n",
    "\n"
   ],
   "metadata": {
    "collapsed": false
   }
  }
 ],
 "metadata": {
  "kernelspec": {
   "display_name": "Python 3",
   "language": "python",
   "name": "python3"
  },
  "language_info": {
   "codemirror_mode": {
    "name": "ipython",
    "version": 2
   },
   "file_extension": ".py",
   "mimetype": "text/x-python",
   "name": "python",
   "nbconvert_exporter": "python",
   "pygments_lexer": "ipython2",
   "version": "2.7.6"
  }
 },
 "nbformat": 4,
 "nbformat_minor": 0
}
