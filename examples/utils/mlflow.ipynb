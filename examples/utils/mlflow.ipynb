{
 "cells": [
  {
   "cell_type": "markdown",
   "metadata": {},
   "source": [
    "# MLflow\n",
    "\n",
    "The aeon custom model flavor enables logging of aeon models in MLflow format via the `aeon.utils.mlflow_aeon.save_model()` and `aeon.utils.mlflow_aeon.log_model()` methods. These methods also add the `pyfunc` flavor to the MLflow Models that they produce, allowing the model to be interpreted as generic Python functions for inference via `aeon.utils.mlflow_aeon.pyfunc.load_model()`. This loaded PyFunc model can only be scored with a DataFrame input. You can also use the `aeon.utils.mlflow_aeon.load_model()` method to load MLflow Models with the aeon model flavor in native aeon formats.\n",
    "\n",
    "The `pyfunc` flavor of the model supports aeon predict methods `predict`,  `predict_interval`, `predict_proba`, `predict_quantiles`, `predict_var`.\n",
    "\n",
    "The interface for utilizing a aeon model loaded as a `pyfunc` type for generating forecasts requires passing an exogenous regressor as Pandas DataFrame to the `pyfunc.predict()` method (an empty DataFrame must be passed if no exogenous regressor is used). The configuration of predict methods and parameter values passed to the predict methods is defined by a dictionary to be saved as an attribute of the fitted aeon model instance. If no prediction configuration is defined `pyfunc.predict()` will return output from aeon `predict` method. Note that for `pyfunc` flavor the forecasting horizon `fh` must be passed to the fit method.\n",
    "\n",
    "Predict methods and parameter values for `pyfunc` flavor can be defined in two ways:\n",
    "- `Dict[str, dict]` if parameter values are passed to `pyfunc.predict()`, for example  `{\"predict_method\": {\"predict\": {}, \"predict_interval\": {\"coverage\": [0.1, 0.9]}}`\n",
    "- `Dict[str, list]`, with default parameters in predict method, for example  `{\"predict_method\": [\"predict\", \"predict_interval\"}` (Note: when including `predict_proba` method the former appraoch must be followed as `quantiles` parameter has to be provided by the user)\n",
    "- If no prediction config is defined `pyfunc.predict()` will return output from aeon `predict()` method\n",
    "\n",
    "Signature logging for aeon from a non-pyfunc artifact will not function correctly for `predict_interval` or `predict_quantiles`. The output of the native aeon model flavor for these methods is not a recognized signature type due to the MultiIndex column structure of the returned DataFrame. MLflow's ``infer_schema`` will function correctly if using the ``pyfunc`` flavor of the model, though."
   ]
  },
  {
   "cell_type": "markdown",
   "metadata": {},
   "source": [
    "## 1. Setup\n",
    "### 1.1 Config"
   ]
  },
  {
   "cell_type": "code",
   "execution_count": 11,
   "metadata": {},
   "outputs": [],
   "source": [
    "model_path = \"model\""
   ]
  },
  {
   "cell_type": "markdown",
   "metadata": {},
   "source": [
    "### 1.2 Imports"
   ]
  },
  {
   "cell_type": "code",
   "execution_count": 12,
   "metadata": {},
   "outputs": [],
   "source": [
    "import mlflow\n",
    "import pandas as pd\n",
    "\n",
    "from aeon.datasets import load_longley\n",
    "from aeon.forecasting.model_selection import temporal_train_test_split\n",
    "from aeon.forecasting.naive import NaiveForecaster\n",
    "from aeon.utils import mlflow_aeon"
   ]
  },
  {
   "cell_type": "markdown",
   "metadata": {},
   "source": [
    "### 1.3 Load sample data"
   ]
  },
  {
   "cell_type": "code",
   "execution_count": 13,
   "metadata": {},
   "outputs": [],
   "source": [
    "y, X = load_longley()\n",
    "y_train, y_test, X_train, X_test = temporal_train_test_split(y, X)"
   ]
  },
  {
   "cell_type": "markdown",
   "metadata": {},
   "source": [
    "## 2. Example usage of native `aeon flavor` and `pyfunc flavor`\n",
    "\n",
    "### 2.1 Create prediction config for pyfunc flavor"
   ]
  },
  {
   "cell_type": "code",
   "execution_count": 14,
   "metadata": {},
   "outputs": [],
   "source": [
    "coverage = [0.8, 0.9]\n",
    "quantiles = [0.1, 0.9]\n",
    "\n",
    "pyfunc_predict_conf = {\n",
    "    \"predict_method\": {\n",
    "        \"predict\": {},\n",
    "        \"predict_interval\": {\"coverage\": coverage},\n",
    "        \"predict_proba\": {\"quantiles\": quantiles},\n",
    "        \"predict_quantiles\": {},\n",
    "        \"predict_var\": {},\n",
    "    }\n",
    "}"
   ]
  },
  {
   "cell_type": "markdown",
   "metadata": {},
   "source": [
    "### 2.2 Train and save model"
   ]
  },
  {
   "cell_type": "code",
   "execution_count": 15,
   "metadata": {},
   "outputs": [
    {
     "ename": "Exception",
     "evalue": "'C:\\Code\\aeon\\examples\\utils\\mlruns' does not exist.",
     "output_type": "error",
     "traceback": [
      "\u001B[1;31m---------------------------------------------------------------------------\u001B[0m",
      "\u001B[1;31mException\u001B[0m                                 Traceback (most recent call last)",
      "Cell \u001B[1;32mIn[15], line 1\u001B[0m\n\u001B[1;32m----> 1\u001B[0m \u001B[38;5;28;01mwith\u001B[39;00m \u001B[43mmlflow\u001B[49m\u001B[38;5;241;43m.\u001B[39;49m\u001B[43mstart_run\u001B[49m\u001B[43m(\u001B[49m\u001B[43m)\u001B[49m:\n\u001B[0;32m      3\u001B[0m     forecaster \u001B[38;5;241m=\u001B[39m NaiveForecaster()\n\u001B[0;32m      4\u001B[0m     forecaster\u001B[38;5;241m.\u001B[39mfit(\n\u001B[0;32m      5\u001B[0m         y_train,\n\u001B[0;32m      6\u001B[0m         X\u001B[38;5;241m=\u001B[39mX_train,\n\u001B[0;32m      7\u001B[0m         fh\u001B[38;5;241m=\u001B[39m[\u001B[38;5;241m1\u001B[39m, \u001B[38;5;241m2\u001B[39m, \u001B[38;5;241m3\u001B[39m],\n\u001B[0;32m      8\u001B[0m     )\n",
      "File \u001B[1;32mC:\\Code\\aeon\\venv\\lib\\site-packages\\mlflow\\tracking\\fluent.py:363\u001B[0m, in \u001B[0;36mstart_run\u001B[1;34m(run_id, experiment_id, run_name, nested, tags, description)\u001B[0m\n\u001B[0;32m    359\u001B[0m         user_specified_tags[MLFLOW_RUN_NAME] \u001B[38;5;241m=\u001B[39m run_name\n\u001B[0;32m    361\u001B[0m     resolved_tags \u001B[38;5;241m=\u001B[39m context_registry\u001B[38;5;241m.\u001B[39mresolve_tags(user_specified_tags)\n\u001B[1;32m--> 363\u001B[0m     active_run_obj \u001B[38;5;241m=\u001B[39m \u001B[43mclient\u001B[49m\u001B[38;5;241;43m.\u001B[39;49m\u001B[43mcreate_run\u001B[49m\u001B[43m(\u001B[49m\n\u001B[0;32m    364\u001B[0m \u001B[43m        \u001B[49m\u001B[43mexperiment_id\u001B[49m\u001B[38;5;241;43m=\u001B[39;49m\u001B[43mexp_id_for_run\u001B[49m\u001B[43m,\u001B[49m\u001B[43m \u001B[49m\u001B[43mtags\u001B[49m\u001B[38;5;241;43m=\u001B[39;49m\u001B[43mresolved_tags\u001B[49m\u001B[43m,\u001B[49m\u001B[43m \u001B[49m\u001B[43mrun_name\u001B[49m\u001B[38;5;241;43m=\u001B[39;49m\u001B[43mrun_name\u001B[49m\n\u001B[0;32m    365\u001B[0m \u001B[43m    \u001B[49m\u001B[43m)\u001B[49m\n\u001B[0;32m    367\u001B[0m _active_run_stack\u001B[38;5;241m.\u001B[39mappend(ActiveRun(active_run_obj))\n\u001B[0;32m    368\u001B[0m \u001B[38;5;28;01mreturn\u001B[39;00m _active_run_stack[\u001B[38;5;241m-\u001B[39m\u001B[38;5;241m1\u001B[39m]\n",
      "File \u001B[1;32mC:\\Code\\aeon\\venv\\lib\\site-packages\\mlflow\\tracking\\client.py:326\u001B[0m, in \u001B[0;36mMlflowClient.create_run\u001B[1;34m(self, experiment_id, start_time, tags, run_name)\u001B[0m\n\u001B[0;32m    275\u001B[0m \u001B[38;5;28;01mdef\u001B[39;00m \u001B[38;5;21mcreate_run\u001B[39m(\n\u001B[0;32m    276\u001B[0m     \u001B[38;5;28mself\u001B[39m,\n\u001B[0;32m    277\u001B[0m     experiment_id: \u001B[38;5;28mstr\u001B[39m,\n\u001B[1;32m   (...)\u001B[0m\n\u001B[0;32m    280\u001B[0m     run_name: Optional[\u001B[38;5;28mstr\u001B[39m] \u001B[38;5;241m=\u001B[39m \u001B[38;5;28;01mNone\u001B[39;00m,\n\u001B[0;32m    281\u001B[0m ) \u001B[38;5;241m-\u001B[39m\u001B[38;5;241m>\u001B[39m Run:\n\u001B[0;32m    282\u001B[0m \u001B[38;5;250m    \u001B[39m\u001B[38;5;124;03m\"\"\"\u001B[39;00m\n\u001B[0;32m    283\u001B[0m \u001B[38;5;124;03m    Create a :py:class:`mlflow.entities.Run` object that can be associated with\u001B[39;00m\n\u001B[0;32m    284\u001B[0m \u001B[38;5;124;03m    metrics, parameters, artifacts, etc.\u001B[39;00m\n\u001B[1;32m   (...)\u001B[0m\n\u001B[0;32m    324\u001B[0m \u001B[38;5;124;03m        status: RUNNING\u001B[39;00m\n\u001B[0;32m    325\u001B[0m \u001B[38;5;124;03m    \"\"\"\u001B[39;00m\n\u001B[1;32m--> 326\u001B[0m     \u001B[38;5;28;01mreturn\u001B[39;00m \u001B[38;5;28;43mself\u001B[39;49m\u001B[38;5;241;43m.\u001B[39;49m\u001B[43m_tracking_client\u001B[49m\u001B[38;5;241;43m.\u001B[39;49m\u001B[43mcreate_run\u001B[49m\u001B[43m(\u001B[49m\u001B[43mexperiment_id\u001B[49m\u001B[43m,\u001B[49m\u001B[43m \u001B[49m\u001B[43mstart_time\u001B[49m\u001B[43m,\u001B[49m\u001B[43m \u001B[49m\u001B[43mtags\u001B[49m\u001B[43m,\u001B[49m\u001B[43m \u001B[49m\u001B[43mrun_name\u001B[49m\u001B[43m)\u001B[49m\n",
      "File \u001B[1;32mC:\\Code\\aeon\\venv\\lib\\site-packages\\mlflow\\tracking\\_tracking_service\\client.py:133\u001B[0m, in \u001B[0;36mTrackingServiceClient.create_run\u001B[1;34m(self, experiment_id, start_time, tags, run_name)\u001B[0m\n\u001B[0;32m    128\u001B[0m \u001B[38;5;66;03m# Extract user from tags\u001B[39;00m\n\u001B[0;32m    129\u001B[0m \u001B[38;5;66;03m# This logic is temporary; the user_id attribute of runs is deprecated and will be removed\u001B[39;00m\n\u001B[0;32m    130\u001B[0m \u001B[38;5;66;03m# in a later release.\u001B[39;00m\n\u001B[0;32m    131\u001B[0m user_id \u001B[38;5;241m=\u001B[39m tags\u001B[38;5;241m.\u001B[39mget(MLFLOW_USER, \u001B[38;5;124m\"\u001B[39m\u001B[38;5;124munknown\u001B[39m\u001B[38;5;124m\"\u001B[39m)\n\u001B[1;32m--> 133\u001B[0m \u001B[38;5;28;01mreturn\u001B[39;00m \u001B[38;5;28;43mself\u001B[39;49m\u001B[38;5;241;43m.\u001B[39;49m\u001B[43mstore\u001B[49m\u001B[38;5;241;43m.\u001B[39;49m\u001B[43mcreate_run\u001B[49m\u001B[43m(\u001B[49m\n\u001B[0;32m    134\u001B[0m \u001B[43m    \u001B[49m\u001B[43mexperiment_id\u001B[49m\u001B[38;5;241;43m=\u001B[39;49m\u001B[43mexperiment_id\u001B[49m\u001B[43m,\u001B[49m\n\u001B[0;32m    135\u001B[0m \u001B[43m    \u001B[49m\u001B[43muser_id\u001B[49m\u001B[38;5;241;43m=\u001B[39;49m\u001B[43muser_id\u001B[49m\u001B[43m,\u001B[49m\n\u001B[0;32m    136\u001B[0m \u001B[43m    \u001B[49m\u001B[43mstart_time\u001B[49m\u001B[38;5;241;43m=\u001B[39;49m\u001B[43mstart_time\u001B[49m\u001B[43m \u001B[49m\u001B[38;5;129;43;01mor\u001B[39;49;00m\u001B[43m \u001B[49m\u001B[43mget_current_time_millis\u001B[49m\u001B[43m(\u001B[49m\u001B[43m)\u001B[49m\u001B[43m,\u001B[49m\n\u001B[0;32m    137\u001B[0m \u001B[43m    \u001B[49m\u001B[43mtags\u001B[49m\u001B[38;5;241;43m=\u001B[39;49m\u001B[43m[\u001B[49m\u001B[43mRunTag\u001B[49m\u001B[43m(\u001B[49m\u001B[43mkey\u001B[49m\u001B[43m,\u001B[49m\u001B[43m \u001B[49m\u001B[43mvalue\u001B[49m\u001B[43m)\u001B[49m\u001B[43m \u001B[49m\u001B[38;5;28;43;01mfor\u001B[39;49;00m\u001B[43m \u001B[49m\u001B[43m(\u001B[49m\u001B[43mkey\u001B[49m\u001B[43m,\u001B[49m\u001B[43m \u001B[49m\u001B[43mvalue\u001B[49m\u001B[43m)\u001B[49m\u001B[43m \u001B[49m\u001B[38;5;129;43;01min\u001B[39;49;00m\u001B[43m \u001B[49m\u001B[43mtags\u001B[49m\u001B[38;5;241;43m.\u001B[39;49m\u001B[43mitems\u001B[49m\u001B[43m(\u001B[49m\u001B[43m)\u001B[49m\u001B[43m]\u001B[49m\u001B[43m,\u001B[49m\n\u001B[0;32m    138\u001B[0m \u001B[43m    \u001B[49m\u001B[43mrun_name\u001B[49m\u001B[38;5;241;43m=\u001B[39;49m\u001B[43mrun_name\u001B[49m\u001B[43m,\u001B[49m\n\u001B[0;32m    139\u001B[0m \u001B[43m\u001B[49m\u001B[43m)\u001B[49m\n",
      "File \u001B[1;32mC:\\Code\\aeon\\venv\\lib\\site-packages\\mlflow\\store\\tracking\\file_store.py:601\u001B[0m, in \u001B[0;36mFileStore.create_run\u001B[1;34m(self, experiment_id, user_id, start_time, tags, run_name)\u001B[0m\n\u001B[0;32m    597\u001B[0m \u001B[38;5;250m\u001B[39m\u001B[38;5;124;03m\"\"\"\u001B[39;00m\n\u001B[0;32m    598\u001B[0m \u001B[38;5;124;03mCreates a run with the specified attributes.\u001B[39;00m\n\u001B[0;32m    599\u001B[0m \u001B[38;5;124;03m\"\"\"\u001B[39;00m\n\u001B[0;32m    600\u001B[0m experiment_id \u001B[38;5;241m=\u001B[39m FileStore\u001B[38;5;241m.\u001B[39mDEFAULT_EXPERIMENT_ID \u001B[38;5;28;01mif\u001B[39;00m experiment_id \u001B[38;5;129;01mis\u001B[39;00m \u001B[38;5;28;01mNone\u001B[39;00m \u001B[38;5;28;01melse\u001B[39;00m experiment_id\n\u001B[1;32m--> 601\u001B[0m experiment \u001B[38;5;241m=\u001B[39m \u001B[38;5;28;43mself\u001B[39;49m\u001B[38;5;241;43m.\u001B[39;49m\u001B[43mget_experiment\u001B[49m\u001B[43m(\u001B[49m\u001B[43mexperiment_id\u001B[49m\u001B[43m)\u001B[49m\n\u001B[0;32m    602\u001B[0m \u001B[38;5;28;01mif\u001B[39;00m experiment \u001B[38;5;129;01mis\u001B[39;00m \u001B[38;5;28;01mNone\u001B[39;00m:\n\u001B[0;32m    603\u001B[0m     \u001B[38;5;28;01mraise\u001B[39;00m MlflowException(\n\u001B[0;32m    604\u001B[0m         \u001B[38;5;124m\"\u001B[39m\u001B[38;5;124mCould not create run under experiment with ID \u001B[39m\u001B[38;5;132;01m%s\u001B[39;00m\u001B[38;5;124m - no such experiment \u001B[39m\u001B[38;5;124m\"\u001B[39m\n\u001B[0;32m    605\u001B[0m         \u001B[38;5;124m\"\u001B[39m\u001B[38;5;124mexists.\u001B[39m\u001B[38;5;124m\"\u001B[39m \u001B[38;5;241m%\u001B[39m experiment_id,\n\u001B[0;32m    606\u001B[0m         databricks_pb2\u001B[38;5;241m.\u001B[39mRESOURCE_DOES_NOT_EXIST,\n\u001B[0;32m    607\u001B[0m     )\n",
      "File \u001B[1;32mC:\\Code\\aeon\\venv\\lib\\site-packages\\mlflow\\store\\tracking\\file_store.py:415\u001B[0m, in \u001B[0;36mFileStore.get_experiment\u001B[1;34m(self, experiment_id)\u001B[0m\n\u001B[0;32m    407\u001B[0m \u001B[38;5;250m\u001B[39m\u001B[38;5;124;03m\"\"\"\u001B[39;00m\n\u001B[0;32m    408\u001B[0m \u001B[38;5;124;03mFetch the experiment.\u001B[39;00m\n\u001B[0;32m    409\u001B[0m \u001B[38;5;124;03mNote: This API will search for active as well as deleted experiments.\u001B[39;00m\n\u001B[1;32m   (...)\u001B[0m\n\u001B[0;32m    412\u001B[0m \u001B[38;5;124;03m:return: A single Experiment object if it exists, otherwise raises an Exception.\u001B[39;00m\n\u001B[0;32m    413\u001B[0m \u001B[38;5;124;03m\"\"\"\u001B[39;00m\n\u001B[0;32m    414\u001B[0m experiment_id \u001B[38;5;241m=\u001B[39m FileStore\u001B[38;5;241m.\u001B[39mDEFAULT_EXPERIMENT_ID \u001B[38;5;28;01mif\u001B[39;00m experiment_id \u001B[38;5;129;01mis\u001B[39;00m \u001B[38;5;28;01mNone\u001B[39;00m \u001B[38;5;28;01melse\u001B[39;00m experiment_id\n\u001B[1;32m--> 415\u001B[0m experiment \u001B[38;5;241m=\u001B[39m \u001B[38;5;28;43mself\u001B[39;49m\u001B[38;5;241;43m.\u001B[39;49m\u001B[43m_get_experiment\u001B[49m\u001B[43m(\u001B[49m\u001B[43mexperiment_id\u001B[49m\u001B[43m)\u001B[49m\n\u001B[0;32m    416\u001B[0m \u001B[38;5;28;01mif\u001B[39;00m experiment \u001B[38;5;129;01mis\u001B[39;00m \u001B[38;5;28;01mNone\u001B[39;00m:\n\u001B[0;32m    417\u001B[0m     \u001B[38;5;28;01mraise\u001B[39;00m MlflowException(\n\u001B[0;32m    418\u001B[0m         \u001B[38;5;124m\"\u001B[39m\u001B[38;5;124mExperiment \u001B[39m\u001B[38;5;124m'\u001B[39m\u001B[38;5;132;01m%s\u001B[39;00m\u001B[38;5;124m'\u001B[39m\u001B[38;5;124m does not exist.\u001B[39m\u001B[38;5;124m\"\u001B[39m \u001B[38;5;241m%\u001B[39m experiment_id,\n\u001B[0;32m    419\u001B[0m         databricks_pb2\u001B[38;5;241m.\u001B[39mRESOURCE_DOES_NOT_EXIST,\n\u001B[0;32m    420\u001B[0m     )\n",
      "File \u001B[1;32mC:\\Code\\aeon\\venv\\lib\\site-packages\\mlflow\\store\\tracking\\file_store.py:384\u001B[0m, in \u001B[0;36mFileStore._get_experiment\u001B[1;34m(self, experiment_id, view_type)\u001B[0m\n\u001B[0;32m    383\u001B[0m \u001B[38;5;28;01mdef\u001B[39;00m \u001B[38;5;21m_get_experiment\u001B[39m(\u001B[38;5;28mself\u001B[39m, experiment_id, view_type\u001B[38;5;241m=\u001B[39mViewType\u001B[38;5;241m.\u001B[39mALL):\n\u001B[1;32m--> 384\u001B[0m     \u001B[38;5;28;43mself\u001B[39;49m\u001B[38;5;241;43m.\u001B[39;49m\u001B[43m_check_root_dir\u001B[49m\u001B[43m(\u001B[49m\u001B[43m)\u001B[49m\n\u001B[0;32m    385\u001B[0m     _validate_experiment_id(experiment_id)\n\u001B[0;32m    386\u001B[0m     experiment_dir \u001B[38;5;241m=\u001B[39m \u001B[38;5;28mself\u001B[39m\u001B[38;5;241m.\u001B[39m_get_experiment_path(experiment_id, view_type)\n",
      "File \u001B[1;32mC:\\Code\\aeon\\venv\\lib\\site-packages\\mlflow\\store\\tracking\\file_store.py:188\u001B[0m, in \u001B[0;36mFileStore._check_root_dir\u001B[1;34m(self)\u001B[0m\n\u001B[0;32m    184\u001B[0m \u001B[38;5;250m\u001B[39m\u001B[38;5;124;03m\"\"\"\u001B[39;00m\n\u001B[0;32m    185\u001B[0m \u001B[38;5;124;03mRun checks before running directory operations.\u001B[39;00m\n\u001B[0;32m    186\u001B[0m \u001B[38;5;124;03m\"\"\"\u001B[39;00m\n\u001B[0;32m    187\u001B[0m \u001B[38;5;28;01mif\u001B[39;00m \u001B[38;5;129;01mnot\u001B[39;00m exists(\u001B[38;5;28mself\u001B[39m\u001B[38;5;241m.\u001B[39mroot_directory):\n\u001B[1;32m--> 188\u001B[0m     \u001B[38;5;28;01mraise\u001B[39;00m \u001B[38;5;167;01mException\u001B[39;00m(\u001B[38;5;124m\"\u001B[39m\u001B[38;5;124m'\u001B[39m\u001B[38;5;132;01m%s\u001B[39;00m\u001B[38;5;124m'\u001B[39m\u001B[38;5;124m does not exist.\u001B[39m\u001B[38;5;124m\"\u001B[39m \u001B[38;5;241m%\u001B[39m \u001B[38;5;28mself\u001B[39m\u001B[38;5;241m.\u001B[39mroot_directory)\n\u001B[0;32m    189\u001B[0m \u001B[38;5;28;01mif\u001B[39;00m \u001B[38;5;129;01mnot\u001B[39;00m is_directory(\u001B[38;5;28mself\u001B[39m\u001B[38;5;241m.\u001B[39mroot_directory):\n\u001B[0;32m    190\u001B[0m     \u001B[38;5;28;01mraise\u001B[39;00m \u001B[38;5;167;01mException\u001B[39;00m(\u001B[38;5;124m\"\u001B[39m\u001B[38;5;124m'\u001B[39m\u001B[38;5;132;01m%s\u001B[39;00m\u001B[38;5;124m'\u001B[39m\u001B[38;5;124m is not a directory.\u001B[39m\u001B[38;5;124m\"\u001B[39m \u001B[38;5;241m%\u001B[39m \u001B[38;5;28mself\u001B[39m\u001B[38;5;241m.\u001B[39mroot_directory)\n",
      "\u001B[1;31mException\u001B[0m: 'C:\\Code\\aeon\\examples\\utils\\mlruns' does not exist."
     ]
    }
   ],
   "source": [
    "with mlflow.start_run():\n",
    "\n",
    "    forecaster = NaiveForecaster()\n",
    "    forecaster.fit(\n",
    "        y_train,\n",
    "        X=X_train,\n",
    "        fh=[1, 2, 3],\n",
    "    )\n",
    "    forecaster.pyfunc_predict_conf = pyfunc_predict_conf\n",
    "\n",
    "    mlflow_aeon.save_model(forecaster, model_path)"
   ]
  },
  {
   "cell_type": "markdown",
   "metadata": {},
   "source": [
    "### 2.3 Load model\n",
    "\n",
    "#### 2.3.1 Native aeon flavor"
   ]
  },
  {
   "cell_type": "code",
   "execution_count": 6,
   "metadata": {},
   "outputs": [
    {
     "ename": "MlflowException",
     "evalue": "Could not find an \"MLmodel\" configuration file at \"C:\\Code\\aeon\\examples\\utils\\model\"",
     "output_type": "error",
     "traceback": [
      "\u001B[1;31m---------------------------------------------------------------------------\u001B[0m",
      "\u001B[1;31mMlflowException\u001B[0m                           Traceback (most recent call last)",
      "Cell \u001B[1;32mIn[6], line 1\u001B[0m\n\u001B[1;32m----> 1\u001B[0m loaded_model \u001B[38;5;241m=\u001B[39m \u001B[43mmlflow_aeon\u001B[49m\u001B[38;5;241;43m.\u001B[39;49m\u001B[43mload_model\u001B[49m\u001B[43m(\u001B[49m\u001B[43mmodel_path\u001B[49m\u001B[43m)\u001B[49m\n",
      "File \u001B[1;32mC:\\Code\\aeon\\aeon\\utils\\mlflow_aeon.py:505\u001B[0m, in \u001B[0;36mload_model\u001B[1;34m(model_uri, dst_path)\u001B[0m\n\u001B[0;32m    497\u001B[0m \u001B[38;5;28;01mfrom\u001B[39;00m \u001B[38;5;21;01mmlflow\u001B[39;00m\u001B[38;5;21;01m.\u001B[39;00m\u001B[38;5;21;01mutils\u001B[39;00m\u001B[38;5;21;01m.\u001B[39;00m\u001B[38;5;21;01mmodel_utils\u001B[39;00m \u001B[38;5;28;01mimport\u001B[39;00m (\n\u001B[0;32m    498\u001B[0m     _add_code_from_conf_to_system_path,\n\u001B[0;32m    499\u001B[0m     _get_flavor_configuration,\n\u001B[0;32m    500\u001B[0m )\n\u001B[0;32m    502\u001B[0m local_model_path \u001B[38;5;241m=\u001B[39m _download_artifact_from_uri(\n\u001B[0;32m    503\u001B[0m     artifact_uri\u001B[38;5;241m=\u001B[39mmodel_uri, output_path\u001B[38;5;241m=\u001B[39mdst_path\n\u001B[0;32m    504\u001B[0m )\n\u001B[1;32m--> 505\u001B[0m flavor_conf \u001B[38;5;241m=\u001B[39m \u001B[43m_get_flavor_configuration\u001B[49m\u001B[43m(\u001B[49m\n\u001B[0;32m    506\u001B[0m \u001B[43m    \u001B[49m\u001B[43mmodel_path\u001B[49m\u001B[38;5;241;43m=\u001B[39;49m\u001B[43mlocal_model_path\u001B[49m\u001B[43m,\u001B[49m\u001B[43m \u001B[49m\u001B[43mflavor_name\u001B[49m\u001B[38;5;241;43m=\u001B[39;49m\u001B[43mFLAVOR_NAME\u001B[49m\n\u001B[0;32m    507\u001B[0m \u001B[43m\u001B[49m\u001B[43m)\u001B[49m\n\u001B[0;32m    508\u001B[0m _add_code_from_conf_to_system_path(local_model_path, flavor_conf)\n\u001B[0;32m    509\u001B[0m estimator_file_path \u001B[38;5;241m=\u001B[39m os\u001B[38;5;241m.\u001B[39mpath\u001B[38;5;241m.\u001B[39mjoin(local_model_path, flavor_conf[\u001B[38;5;124m\"\u001B[39m\u001B[38;5;124mpickled_model\u001B[39m\u001B[38;5;124m\"\u001B[39m])\n",
      "File \u001B[1;32mC:\\Code\\aeon\\venv\\lib\\site-packages\\mlflow\\utils\\model_utils.py:31\u001B[0m, in \u001B[0;36m_get_flavor_configuration\u001B[1;34m(model_path, flavor_name)\u001B[0m\n\u001B[0;32m     29\u001B[0m model_configuration_path \u001B[38;5;241m=\u001B[39m os\u001B[38;5;241m.\u001B[39mpath\u001B[38;5;241m.\u001B[39mjoin(model_path, MLMODEL_FILE_NAME)\n\u001B[0;32m     30\u001B[0m \u001B[38;5;28;01mif\u001B[39;00m \u001B[38;5;129;01mnot\u001B[39;00m os\u001B[38;5;241m.\u001B[39mpath\u001B[38;5;241m.\u001B[39mexists(model_configuration_path):\n\u001B[1;32m---> 31\u001B[0m     \u001B[38;5;28;01mraise\u001B[39;00m MlflowException(\n\u001B[0;32m     32\u001B[0m         \u001B[38;5;124mf\u001B[39m\u001B[38;5;124m'\u001B[39m\u001B[38;5;124mCould not find an \u001B[39m\u001B[38;5;124m\"\u001B[39m\u001B[38;5;132;01m{\u001B[39;00mMLMODEL_FILE_NAME\u001B[38;5;132;01m}\u001B[39;00m\u001B[38;5;124m\"\u001B[39m\u001B[38;5;124m configuration file at \u001B[39m\u001B[38;5;124m\"\u001B[39m\u001B[38;5;132;01m{\u001B[39;00mmodel_path\u001B[38;5;132;01m}\u001B[39;00m\u001B[38;5;124m\"\u001B[39m\u001B[38;5;124m'\u001B[39m,\n\u001B[0;32m     33\u001B[0m         RESOURCE_DOES_NOT_EXIST,\n\u001B[0;32m     34\u001B[0m     )\n\u001B[0;32m     36\u001B[0m model_conf \u001B[38;5;241m=\u001B[39m Model\u001B[38;5;241m.\u001B[39mload(model_configuration_path)\n\u001B[0;32m     37\u001B[0m \u001B[38;5;28;01mif\u001B[39;00m flavor_name \u001B[38;5;129;01mnot\u001B[39;00m \u001B[38;5;129;01min\u001B[39;00m model_conf\u001B[38;5;241m.\u001B[39mflavors:\n",
      "\u001B[1;31mMlflowException\u001B[0m: Could not find an \"MLmodel\" configuration file at \"C:\\Code\\aeon\\examples\\utils\\model\""
     ]
    }
   ],
   "source": [
    "loaded_model = mlflow_aeon.load_model(model_path)"
   ]
  },
  {
   "cell_type": "markdown",
   "metadata": {},
   "source": [
    "#### 2.3.2 Pyfunc flavor"
   ]
  },
  {
   "cell_type": "code",
   "execution_count": 7,
   "metadata": {},
   "outputs": [
    {
     "ename": "MlflowException",
     "evalue": "Could not find a registered artifact repository for: c:. Currently registered schemes are: ['', 'file', 's3', 'gs', 'wasbs', 'ftp', 'sftp', 'dbfs', 'hdfs', 'viewfs', 'runs', 'models', 'http', 'https', 'mlflow-artifacts']",
     "output_type": "error",
     "traceback": [
      "\u001B[1;31m---------------------------------------------------------------------------\u001B[0m",
      "\u001B[1;31mMlflowException\u001B[0m                           Traceback (most recent call last)",
      "Cell \u001B[1;32mIn[7], line 1\u001B[0m\n\u001B[1;32m----> 1\u001B[0m loaded_pyfunc \u001B[38;5;241m=\u001B[39m \u001B[43mmlflow_aeon\u001B[49m\u001B[38;5;241;43m.\u001B[39;49m\u001B[43mpyfunc\u001B[49m\u001B[38;5;241;43m.\u001B[39;49m\u001B[43mload_model\u001B[49m\u001B[43m(\u001B[49m\u001B[43mmodel_path\u001B[49m\u001B[43m)\u001B[49m\n",
      "File \u001B[1;32mC:\\Code\\aeon\\venv\\lib\\site-packages\\mlflow\\pyfunc\\__init__.py:583\u001B[0m, in \u001B[0;36mload_model\u001B[1;34m(model_uri, suppress_warnings, dst_path)\u001B[0m\n\u001B[0;32m    580\u001B[0m \u001B[38;5;28;01mif\u001B[39;00m \u001B[38;5;129;01mnot\u001B[39;00m suppress_warnings:\n\u001B[0;32m    581\u001B[0m     _warn_dependency_requirement_mismatches(local_path)\n\u001B[1;32m--> 583\u001B[0m model_meta \u001B[38;5;241m=\u001B[39m \u001B[43mModel\u001B[49m\u001B[38;5;241;43m.\u001B[39;49m\u001B[43mload\u001B[49m\u001B[43m(\u001B[49m\u001B[43mos\u001B[49m\u001B[38;5;241;43m.\u001B[39;49m\u001B[43mpath\u001B[49m\u001B[38;5;241;43m.\u001B[39;49m\u001B[43mjoin\u001B[49m\u001B[43m(\u001B[49m\u001B[43mlocal_path\u001B[49m\u001B[43m,\u001B[49m\u001B[43m \u001B[49m\u001B[43mMLMODEL_FILE_NAME\u001B[49m\u001B[43m)\u001B[49m\u001B[43m)\u001B[49m\n\u001B[0;32m    585\u001B[0m conf \u001B[38;5;241m=\u001B[39m model_meta\u001B[38;5;241m.\u001B[39mflavors\u001B[38;5;241m.\u001B[39mget(FLAVOR_NAME)\n\u001B[0;32m    586\u001B[0m \u001B[38;5;28;01mif\u001B[39;00m conf \u001B[38;5;129;01mis\u001B[39;00m \u001B[38;5;28;01mNone\u001B[39;00m:\n",
      "File \u001B[1;32mC:\\Code\\aeon\\venv\\lib\\site-packages\\mlflow\\models\\model.py:479\u001B[0m, in \u001B[0;36mModel.load\u001B[1;34m(cls, path)\u001B[0m\n\u001B[0;32m    457\u001B[0m \u001B[38;5;129m@classmethod\u001B[39m\n\u001B[0;32m    458\u001B[0m \u001B[38;5;28;01mdef\u001B[39;00m \u001B[38;5;21mload\u001B[39m(\u001B[38;5;28mcls\u001B[39m, path):\n\u001B[0;32m    459\u001B[0m \u001B[38;5;250m    \u001B[39m\u001B[38;5;124;03m\"\"\"\u001B[39;00m\n\u001B[0;32m    460\u001B[0m \u001B[38;5;124;03m    Load a model from its YAML representation.\u001B[39;00m\n\u001B[0;32m    461\u001B[0m \n\u001B[1;32m   (...)\u001B[0m\n\u001B[0;32m    477\u001B[0m \u001B[38;5;124;03m        model2 = Model.load(\"s3://mybucket/path/to/my/model\")\u001B[39;00m\n\u001B[0;32m    478\u001B[0m \u001B[38;5;124;03m    \"\"\"\u001B[39;00m\n\u001B[1;32m--> 479\u001B[0m     path \u001B[38;5;241m=\u001B[39m \u001B[43mdownload_artifacts\u001B[49m\u001B[43m(\u001B[49m\u001B[43martifact_uri\u001B[49m\u001B[38;5;241;43m=\u001B[39;49m\u001B[43mpath\u001B[49m\u001B[43m)\u001B[49m\n\u001B[0;32m    480\u001B[0m     \u001B[38;5;28;01mif\u001B[39;00m os\u001B[38;5;241m.\u001B[39mpath\u001B[38;5;241m.\u001B[39misdir(path):\n\u001B[0;32m    481\u001B[0m         path \u001B[38;5;241m=\u001B[39m os\u001B[38;5;241m.\u001B[39mpath\u001B[38;5;241m.\u001B[39mjoin(path, MLMODEL_FILE_NAME)\n",
      "File \u001B[1;32mC:\\Code\\aeon\\venv\\lib\\site-packages\\mlflow\\artifacts\\__init__.py:60\u001B[0m, in \u001B[0;36mdownload_artifacts\u001B[1;34m(artifact_uri, run_id, artifact_path, dst_path, tracking_uri)\u001B[0m\n\u001B[0;32m     57\u001B[0m     pathlib\u001B[38;5;241m.\u001B[39mPath(dst_path)\u001B[38;5;241m.\u001B[39mmkdir(exist_ok\u001B[38;5;241m=\u001B[39m\u001B[38;5;28;01mTrue\u001B[39;00m, parents\u001B[38;5;241m=\u001B[39m\u001B[38;5;28;01mTrue\u001B[39;00m)\n\u001B[0;32m     59\u001B[0m \u001B[38;5;28;01mif\u001B[39;00m artifact_uri \u001B[38;5;129;01mis\u001B[39;00m \u001B[38;5;129;01mnot\u001B[39;00m \u001B[38;5;28;01mNone\u001B[39;00m:\n\u001B[1;32m---> 60\u001B[0m     \u001B[38;5;28;01mreturn\u001B[39;00m \u001B[43m_download_artifact_from_uri\u001B[49m\u001B[43m(\u001B[49m\u001B[43martifact_uri\u001B[49m\u001B[43m,\u001B[49m\u001B[43m \u001B[49m\u001B[43moutput_path\u001B[49m\u001B[38;5;241;43m=\u001B[39;49m\u001B[43mdst_path\u001B[49m\u001B[43m)\u001B[49m\n\u001B[0;32m     62\u001B[0m artifact_path \u001B[38;5;241m=\u001B[39m artifact_path \u001B[38;5;28;01mif\u001B[39;00m artifact_path \u001B[38;5;129;01mis\u001B[39;00m \u001B[38;5;129;01mnot\u001B[39;00m \u001B[38;5;28;01mNone\u001B[39;00m \u001B[38;5;28;01melse\u001B[39;00m \u001B[38;5;124m\"\u001B[39m\u001B[38;5;124m\"\u001B[39m\n\u001B[0;32m     64\u001B[0m store \u001B[38;5;241m=\u001B[39m _get_store(store_uri\u001B[38;5;241m=\u001B[39mtracking_uri)\n",
      "File \u001B[1;32mC:\\Code\\aeon\\venv\\lib\\site-packages\\mlflow\\tracking\\artifact_utils.py:100\u001B[0m, in \u001B[0;36m_download_artifact_from_uri\u001B[1;34m(artifact_uri, output_path)\u001B[0m\n\u001B[0;32m     94\u001B[0m \u001B[38;5;250m\u001B[39m\u001B[38;5;124;03m\"\"\"\u001B[39;00m\n\u001B[0;32m     95\u001B[0m \u001B[38;5;124;03m:param artifact_uri: The *absolute* URI of the artifact to download.\u001B[39;00m\n\u001B[0;32m     96\u001B[0m \u001B[38;5;124;03m:param output_path: The local filesystem path to which to download the artifact. If unspecified,\u001B[39;00m\n\u001B[0;32m     97\u001B[0m \u001B[38;5;124;03m                    a local output path will be created.\u001B[39;00m\n\u001B[0;32m     98\u001B[0m \u001B[38;5;124;03m\"\"\"\u001B[39;00m\n\u001B[0;32m     99\u001B[0m root_uri, artifact_path \u001B[38;5;241m=\u001B[39m _get_root_uri_and_artifact_path(artifact_uri)\n\u001B[1;32m--> 100\u001B[0m \u001B[38;5;28;01mreturn\u001B[39;00m \u001B[43mget_artifact_repository\u001B[49m\u001B[43m(\u001B[49m\u001B[43martifact_uri\u001B[49m\u001B[38;5;241;43m=\u001B[39;49m\u001B[43mroot_uri\u001B[49m\u001B[43m)\u001B[49m\u001B[38;5;241m.\u001B[39mdownload_artifacts(\n\u001B[0;32m    101\u001B[0m     artifact_path\u001B[38;5;241m=\u001B[39martifact_path, dst_path\u001B[38;5;241m=\u001B[39moutput_path\n\u001B[0;32m    102\u001B[0m )\n",
      "File \u001B[1;32mC:\\Code\\aeon\\venv\\lib\\site-packages\\mlflow\\store\\artifact\\artifact_repository_registry.py:114\u001B[0m, in \u001B[0;36mget_artifact_repository\u001B[1;34m(artifact_uri)\u001B[0m\n\u001B[0;32m    104\u001B[0m \u001B[38;5;28;01mdef\u001B[39;00m \u001B[38;5;21mget_artifact_repository\u001B[39m(artifact_uri):\n\u001B[0;32m    105\u001B[0m \u001B[38;5;250m    \u001B[39m\u001B[38;5;124;03m\"\"\"Get an artifact repository from the registry based on the scheme of artifact_uri\u001B[39;00m\n\u001B[0;32m    106\u001B[0m \n\u001B[0;32m    107\u001B[0m \u001B[38;5;124;03m    :param artifact_uri: The artifact store URI. This URI is used to select which artifact\u001B[39;00m\n\u001B[1;32m   (...)\u001B[0m\n\u001B[0;32m    112\u001B[0m \u001B[38;5;124;03m             requirements.\u001B[39;00m\n\u001B[0;32m    113\u001B[0m \u001B[38;5;124;03m    \"\"\"\u001B[39;00m\n\u001B[1;32m--> 114\u001B[0m     \u001B[38;5;28;01mreturn\u001B[39;00m \u001B[43m_artifact_repository_registry\u001B[49m\u001B[38;5;241;43m.\u001B[39;49m\u001B[43mget_artifact_repository\u001B[49m\u001B[43m(\u001B[49m\u001B[43martifact_uri\u001B[49m\u001B[43m)\u001B[49m\n",
      "File \u001B[1;32mC:\\Code\\aeon\\venv\\lib\\site-packages\\mlflow\\store\\artifact\\artifact_repository_registry.py:66\u001B[0m, in \u001B[0;36mArtifactRepositoryRegistry.get_artifact_repository\u001B[1;34m(self, artifact_uri)\u001B[0m\n\u001B[0;32m     64\u001B[0m repository \u001B[38;5;241m=\u001B[39m \u001B[38;5;28mself\u001B[39m\u001B[38;5;241m.\u001B[39m_registry\u001B[38;5;241m.\u001B[39mget(scheme)\n\u001B[0;32m     65\u001B[0m \u001B[38;5;28;01mif\u001B[39;00m repository \u001B[38;5;129;01mis\u001B[39;00m \u001B[38;5;28;01mNone\u001B[39;00m:\n\u001B[1;32m---> 66\u001B[0m     \u001B[38;5;28;01mraise\u001B[39;00m MlflowException(\n\u001B[0;32m     67\u001B[0m         \u001B[38;5;124m\"\u001B[39m\u001B[38;5;124mCould not find a registered artifact repository for: \u001B[39m\u001B[38;5;132;01m{}\u001B[39;00m\u001B[38;5;124m. \u001B[39m\u001B[38;5;124m\"\u001B[39m\n\u001B[0;32m     68\u001B[0m         \u001B[38;5;124m\"\u001B[39m\u001B[38;5;124mCurrently registered schemes are: \u001B[39m\u001B[38;5;132;01m{}\u001B[39;00m\u001B[38;5;124m\"\u001B[39m\u001B[38;5;241m.\u001B[39mformat(\n\u001B[0;32m     69\u001B[0m             artifact_uri, \u001B[38;5;28mlist\u001B[39m(\u001B[38;5;28mself\u001B[39m\u001B[38;5;241m.\u001B[39m_registry\u001B[38;5;241m.\u001B[39mkeys())\n\u001B[0;32m     70\u001B[0m         )\n\u001B[0;32m     71\u001B[0m     )\n\u001B[0;32m     72\u001B[0m \u001B[38;5;28;01mreturn\u001B[39;00m repository(artifact_uri)\n",
      "\u001B[1;31mMlflowException\u001B[0m: Could not find a registered artifact repository for: c:. Currently registered schemes are: ['', 'file', 's3', 'gs', 'wasbs', 'ftp', 'sftp', 'dbfs', 'hdfs', 'viewfs', 'runs', 'models', 'http', 'https', 'mlflow-artifacts']"
     ]
    }
   ],
   "source": [
    "loaded_pyfunc = mlflow_aeon.pyfunc.load_model(model_path)"
   ]
  },
  {
   "cell_type": "markdown",
   "metadata": {},
   "source": [
    "### 2.4 Generate predictions\n",
    "\n",
    "#### 2.4.1 Native aeon flavor"
   ]
  },
  {
   "cell_type": "code",
   "execution_count": 8,
   "metadata": {},
   "outputs": [
    {
     "ename": "NameError",
     "evalue": "name 'loaded_model' is not defined",
     "output_type": "error",
     "traceback": [
      "\u001B[1;31m---------------------------------------------------------------------------\u001B[0m",
      "\u001B[1;31mNameError\u001B[0m                                 Traceback (most recent call last)",
      "Cell \u001B[1;32mIn[8], line 1\u001B[0m\n\u001B[1;32m----> 1\u001B[0m \u001B[43mloaded_model\u001B[49m\u001B[38;5;241m.\u001B[39mpredict(X\u001B[38;5;241m=\u001B[39mX_test)\n",
      "\u001B[1;31mNameError\u001B[0m: name 'loaded_model' is not defined"
     ]
    }
   ],
   "source": [
    "loaded_model.predict(X=X_test)"
   ]
  },
  {
   "cell_type": "code",
   "execution_count": 9,
   "metadata": {},
   "outputs": [
    {
     "ename": "NameError",
     "evalue": "name 'loaded_model' is not defined",
     "output_type": "error",
     "traceback": [
      "\u001B[1;31m---------------------------------------------------------------------------\u001B[0m",
      "\u001B[1;31mNameError\u001B[0m                                 Traceback (most recent call last)",
      "Cell \u001B[1;32mIn[9], line 1\u001B[0m\n\u001B[1;32m----> 1\u001B[0m \u001B[43mloaded_model\u001B[49m\u001B[38;5;241m.\u001B[39mpredict_interval(X\u001B[38;5;241m=\u001B[39mX_test, coverage\u001B[38;5;241m=\u001B[39mcoverage)\n",
      "\u001B[1;31mNameError\u001B[0m: name 'loaded_model' is not defined"
     ]
    }
   ],
   "source": [
    "loaded_model.predict_interval(X=X_test, coverage=coverage)"
   ]
  },
  {
   "cell_type": "code",
   "execution_count": 10,
   "metadata": {},
   "outputs": [
    {
     "ename": "NameError",
     "evalue": "name 'loaded_model' is not defined",
     "output_type": "error",
     "traceback": [
      "\u001B[1;31m---------------------------------------------------------------------------\u001B[0m",
      "\u001B[1;31mNameError\u001B[0m                                 Traceback (most recent call last)",
      "Cell \u001B[1;32mIn[10], line 1\u001B[0m\n\u001B[1;32m----> 1\u001B[0m y_pred_dist \u001B[38;5;241m=\u001B[39m \u001B[43mloaded_model\u001B[49m\u001B[38;5;241m.\u001B[39mpredict_proba(X\u001B[38;5;241m=\u001B[39mX)\n\u001B[0;32m      2\u001B[0m preds\u001B[38;5;241m=\u001B[39m[]\n\u001B[0;32m      3\u001B[0m preds\u001B[38;5;241m.\u001B[39mappend(y_pred_dist\u001B[38;5;241m.\u001B[39mppf(quantiles[\u001B[38;5;241m0\u001B[39m]))\n",
      "\u001B[1;31mNameError\u001B[0m: name 'loaded_model' is not defined"
     ]
    }
   ],
   "source": [
    "y_pred_dist = loaded_model.predict_quantiles(X=X)\n",
    "y_pred_dist_quantiles = pd.DataFrame(y_pred_dist)\n",
    "y_pred_dist_quantiles.columns = [f\"Quantiles_{q}\" for q in quantiles]\n",
    "y_pred_dist_quantiles.index = y_pred_dist.parameters[\"loc\"].index\n",
    "y_pred_dist_quantiles"
   ]
  },
  {
   "cell_type": "code",
   "execution_count": null,
   "metadata": {},
   "outputs": [],
   "source": [
    "loaded_model.predict_quantiles(X=X_test)"
   ]
  },
  {
   "cell_type": "code",
   "execution_count": null,
   "metadata": {},
   "outputs": [],
   "source": [
    "loaded_model.predict_var(X=X_test)"
   ]
  },
  {
   "cell_type": "markdown",
   "metadata": {},
   "source": [
    "#### 2.4.2 Pyfunc flavor"
   ]
  },
  {
   "cell_type": "code",
   "execution_count": null,
   "metadata": {},
   "outputs": [],
   "source": [
    "loaded_pyfunc.predict(X_test)"
   ]
  },
  {
   "cell_type": "markdown",
   "metadata": {},
   "source": [
    "## 3. Model deployment example\n",
    "\n",
    "### 3.1 Create experiment"
   ]
  },
  {
   "cell_type": "code",
   "execution_count": null,
   "metadata": {},
   "outputs": [],
   "source": [
    "artifact_path = \"model\"\n",
    "\n",
    "mlflow.set_experiment(\"Test aeon\")\n",
    "\n",
    "with mlflow.start_run() as run:\n",
    "\n",
    "    forecaster = NaiveForecaster()\n",
    "    forecaster.fit(y_train, X=X_train, fh=[1, 2, 3])\n",
    "    forecaster.pyfunc_predict_conf = pyfunc_predict_conf\n",
    "\n",
    "    mlflow_aeon.log_model(estimator=forecaster, artifact_path=artifact_path)\n",
    "\n",
    "run_id = run.info.run_id\n",
    "print(f\"MLflow run id: {run_id}\")"
   ]
  },
  {
   "cell_type": "markdown",
   "metadata": {},
   "source": [
    "### 3.2 Deploy pyfunc model to local REST API endpoint\n",
    "- Open a terminal window and cd into `examples`directory\n",
    "- In the terminal run: `mlflow models serve -m runs:/<RUN_ID>/model --env-manager local --host <HOST>`\n",
    "    - where you substitute `<RUN_ID>` by the `run_id` and `<HOST>` by the network address to listen on (e.g. `127.0.0.1`)\n",
    "- More details here: https://www.mlflow.org/docs/latest/cli.html#mlflow-models-serve"
   ]
  },
  {
   "cell_type": "markdown",
   "metadata": {},
   "source": [
    "### 3.3 Request predictions from local REST API endpoint\n",
    "\n",
    "- For more details see: https://www.mlflow.org/docs/latest/models.html#built-in-deployment-tools\n",
    "\n",
    "#### 3.3.1 JSON input using `dataframe_split` field with pandas DataFrame in the `split` orientation"
   ]
  },
  {
   "cell_type": "code",
   "execution_count": null,
   "metadata": {},
   "outputs": [],
   "source": [
    "host = \"127.0.0.1\"\n",
    "url = f\"http://{host}:5000/invocations\"\n",
    "\n",
    "X_test = X_test.reset_index(drop=True)\n",
    "json_data = {\"dataframe_split\": X_test.to_dict(orient=\"split\")}\n",
    "print(json_data)\n",
    "\n",
    "# # Comment in the below lines to run the prediction request\n",
    "# import requests\n",
    "# response = requests.post(url, json=json_data)\n",
    "# response.json()"
   ]
  },
  {
   "cell_type": "markdown",
   "metadata": {},
   "source": [
    "#### 3.3.2 JSON input using `dataframe_records` field with pandas DataFrame in the `records` orientation"
   ]
  },
  {
   "cell_type": "code",
   "execution_count": null,
   "metadata": {},
   "outputs": [],
   "source": [
    "json_data = {\"dataframe_records\": X_test.to_dict(orient=\"records\")}\n",
    "print(json_data)\n",
    "\n",
    "# # Comment in the below lines to run the prediction request\n",
    "# response = requests.post(url, json=json_data)\n",
    "# response.json()"
   ]
  },
  {
   "cell_type": "markdown",
   "metadata": {},
   "source": [
    "#### 3.3.3 CSV input using valid `pd.DataFrame` csv representation"
   ]
  },
  {
   "cell_type": "code",
   "execution_count": null,
   "metadata": {},
   "outputs": [],
   "source": [
    "headers = {\n",
    "    \"Content-Type\": \"text/csv\",\n",
    "}\n",
    "data = X_test.to_csv()\n",
    "print(data)\n",
    "\n",
    "# # Comment in the below lines to run the prediction request\n",
    "# response = requests.post(url, headers=headers, data=data)\n",
    "# response.json()"
   ]
  }
 ],
 "metadata": {
  "kernelspec": {
   "display_name": "Python 3 (ipykernel)",
   "language": "python",
   "name": "python3"
  },
  "language_info": {
   "codemirror_mode": {
    "name": "ipython",
    "version": 3
   },
   "file_extension": ".py",
   "mimetype": "text/x-python",
   "name": "python",
   "nbconvert_exporter": "python",
   "pygments_lexer": "ipython3",
   "version": "3.8.15"
  }
 },
 "nbformat": 4,
 "nbformat_minor": 2
}
