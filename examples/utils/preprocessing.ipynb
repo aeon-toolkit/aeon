{
 "cells": [
  {
   "cell_type": "markdown",
   "source": [
    "# Preprocessing data prior to machine learning\n",
    "\n",
    "For machine learning, we assume that data is in shape `(n_cases, n_channels,\n",
    "n_timepoints)` for equal length series or a python list with `len` of `[n_cases]` if\n",
    "the series are unequal length. However, in reality, there are often many steps to get\n",
    " your data into this format. We introduce some common uses cases that may be handled\n",
    " with preprocessing, and give some suggestions about how to handle them.\n"
   ],
   "metadata": {
    "collapsed": false
   }
  },
  {
   "cell_type": "code",
   "execution_count": 23,
   "outputs": [],
   "source": [
    "import numpy as np\n",
    "\n",
    "from aeon.classification.distance_based import KNeighborsTimeSeriesClassifier\n",
    "from aeon.datasets import load_japanese_vowels, load_plaid\n",
    "from aeon.registry import all_estimators\n",
    "from aeon.utils.validation import has_missing, is_equal_length, is_univariate"
   ],
   "metadata": {
    "collapsed": false
   }
  },
  {
   "cell_type": "markdown",
   "source": [
    "## Missing values\n",
    "\n",
    "Missing values are indicated by `NaN` in numpy array. You can test whether any `aeon`\n",
    " data structure contains missing values using the utility function\n",
    "\n"
   ],
   "metadata": {
    "collapsed": false
   }
  },
  {
   "cell_type": "code",
   "execution_count": 26,
   "outputs": [
    {
     "data": {
      "text/plain": "False"
     },
     "execution_count": 26,
     "metadata": {},
     "output_type": "execute_result"
    }
   ],
   "source": [
    "X = np.random.random(size=(10, 2, 200))\n",
    "has_missing(X)"
   ],
   "metadata": {
    "collapsed": false
   }
  },
  {
   "cell_type": "code",
   "execution_count": 27,
   "outputs": [
    {
     "data": {
      "text/plain": "True"
     },
     "execution_count": 27,
     "metadata": {},
     "output_type": "execute_result"
    }
   ],
   "source": [
    "X[5][0][55] = np.NAN\n",
    "has_missing(X)"
   ],
   "metadata": {
    "collapsed": false
   }
  },
  {
   "cell_type": "markdown",
   "source": [
    "There are a range of strategies for handling missing values. These include:\n",
    "\n",
    "1. Use an estimator that internally handles missing values. It is fairly easy for\n",
    "some algorithms (such as decision trees) to internally deal with missing values,\n",
    "usually be using it as a distinct series value after discretisation.\n",
    "2. Removing series with missing: this is often desirable if the train set size is\n",
    "large, the number of series with missing is small and the proportion of missing\n",
    "values for these series is high.\n",
    "3. Interpolating: estimating the missing values from the other series values. This is\n",
    " often desirable if the train set size is small and the proportion of missing values\n",
    " is low.\n",
    "\n",
    "Some forecasters can internally handle missing values, but there is very little\n",
    "support as yet for internally dealing with missing."
   ],
   "metadata": {
    "collapsed": false
   }
  },
  {
   "cell_type": "code",
   "execution_count": 29,
   "outputs": [
    {
     "data": {
      "text/plain": "                                         name  \\\n0                                       ARIMA   \n1                                   AutoARIMA   \n2                                     AutoETS   \n3           DirRecTabularRegressionForecaster   \n4        DirRecTimeSeriesRegressionForecaster   \n5           DirectTabularRegressionForecaster   \n6        DirectTimeSeriesRegressionForecaster   \n7                             DummyClassifier   \n8                              DummyRegressor   \n9                               DynamicFactor   \n10                            ForecastByLevel   \n11                        ForecastingPipeline   \n12     MultioutputTabularRegressionForecaster   \n13  MultioutputTimeSeriesRegressionForecaster   \n14                            NaiveForecaster   \n15                                    Permute   \n16       RecursiveTabularRegressionForecaster   \n17    RecursiveTimeSeriesRegressionForecaster   \n18                   SklearnRegressorPipeline   \n19                         StackingForecaster   \n20                TransformedTargetForecaster   \n\n                                            estimator  \n0              <class 'aeon.forecasting.arima.ARIMA'>  \n1          <class 'aeon.forecasting.arima.AutoARIMA'>  \n2              <class 'aeon.forecasting.ets.AutoETS'>  \n3   <class 'aeon.forecasting.compose._reduce.DirRe...  \n4   <class 'aeon.forecasting.compose._reduce.DirRe...  \n5   <class 'aeon.forecasting.compose._reduce.Direc...  \n6   <class 'aeon.forecasting.compose._reduce.Direc...  \n7   <class 'aeon.classification._dummy.DummyClassi...  \n8     <class 'aeon.regression._dummy.DummyRegressor'>  \n9   <class 'aeon.forecasting.dynamic_factor.Dynami...  \n10  <class 'aeon.forecasting.compose._grouped.Fore...  \n11  <class 'aeon.forecasting.compose._pipeline.For...  \n12  <class 'aeon.forecasting.compose._reduce.Multi...  \n13  <class 'aeon.forecasting.compose._reduce.Multi...  \n14   <class 'aeon.forecasting.naive.NaiveForecaster'>  \n15  <class 'aeon.forecasting.compose._pipeline.Per...  \n16  <class 'aeon.forecasting.compose._reduce.Recur...  \n17  <class 'aeon.forecasting.compose._reduce.Recur...  \n18  <class 'aeon.regression.compose._pipeline.Skle...  \n19  <class 'aeon.forecasting.compose._stack.Stacki...  \n20  <class 'aeon.forecasting.compose._pipeline.Tra...  ",
      "text/html": "<div>\n<style scoped>\n    .dataframe tbody tr th:only-of-type {\n        vertical-align: middle;\n    }\n\n    .dataframe tbody tr th {\n        vertical-align: top;\n    }\n\n    .dataframe thead th {\n        text-align: right;\n    }\n</style>\n<table border=\"1\" class=\"dataframe\">\n  <thead>\n    <tr style=\"text-align: right;\">\n      <th></th>\n      <th>name</th>\n      <th>estimator</th>\n    </tr>\n  </thead>\n  <tbody>\n    <tr>\n      <th>0</th>\n      <td>ARIMA</td>\n      <td>&lt;class 'aeon.forecasting.arima.ARIMA'&gt;</td>\n    </tr>\n    <tr>\n      <th>1</th>\n      <td>AutoARIMA</td>\n      <td>&lt;class 'aeon.forecasting.arima.AutoARIMA'&gt;</td>\n    </tr>\n    <tr>\n      <th>2</th>\n      <td>AutoETS</td>\n      <td>&lt;class 'aeon.forecasting.ets.AutoETS'&gt;</td>\n    </tr>\n    <tr>\n      <th>3</th>\n      <td>DirRecTabularRegressionForecaster</td>\n      <td>&lt;class 'aeon.forecasting.compose._reduce.DirRe...</td>\n    </tr>\n    <tr>\n      <th>4</th>\n      <td>DirRecTimeSeriesRegressionForecaster</td>\n      <td>&lt;class 'aeon.forecasting.compose._reduce.DirRe...</td>\n    </tr>\n    <tr>\n      <th>5</th>\n      <td>DirectTabularRegressionForecaster</td>\n      <td>&lt;class 'aeon.forecasting.compose._reduce.Direc...</td>\n    </tr>\n    <tr>\n      <th>6</th>\n      <td>DirectTimeSeriesRegressionForecaster</td>\n      <td>&lt;class 'aeon.forecasting.compose._reduce.Direc...</td>\n    </tr>\n    <tr>\n      <th>7</th>\n      <td>DummyClassifier</td>\n      <td>&lt;class 'aeon.classification._dummy.DummyClassi...</td>\n    </tr>\n    <tr>\n      <th>8</th>\n      <td>DummyRegressor</td>\n      <td>&lt;class 'aeon.regression._dummy.DummyRegressor'&gt;</td>\n    </tr>\n    <tr>\n      <th>9</th>\n      <td>DynamicFactor</td>\n      <td>&lt;class 'aeon.forecasting.dynamic_factor.Dynami...</td>\n    </tr>\n    <tr>\n      <th>10</th>\n      <td>ForecastByLevel</td>\n      <td>&lt;class 'aeon.forecasting.compose._grouped.Fore...</td>\n    </tr>\n    <tr>\n      <th>11</th>\n      <td>ForecastingPipeline</td>\n      <td>&lt;class 'aeon.forecasting.compose._pipeline.For...</td>\n    </tr>\n    <tr>\n      <th>12</th>\n      <td>MultioutputTabularRegressionForecaster</td>\n      <td>&lt;class 'aeon.forecasting.compose._reduce.Multi...</td>\n    </tr>\n    <tr>\n      <th>13</th>\n      <td>MultioutputTimeSeriesRegressionForecaster</td>\n      <td>&lt;class 'aeon.forecasting.compose._reduce.Multi...</td>\n    </tr>\n    <tr>\n      <th>14</th>\n      <td>NaiveForecaster</td>\n      <td>&lt;class 'aeon.forecasting.naive.NaiveForecaster'&gt;</td>\n    </tr>\n    <tr>\n      <th>15</th>\n      <td>Permute</td>\n      <td>&lt;class 'aeon.forecasting.compose._pipeline.Per...</td>\n    </tr>\n    <tr>\n      <th>16</th>\n      <td>RecursiveTabularRegressionForecaster</td>\n      <td>&lt;class 'aeon.forecasting.compose._reduce.Recur...</td>\n    </tr>\n    <tr>\n      <th>17</th>\n      <td>RecursiveTimeSeriesRegressionForecaster</td>\n      <td>&lt;class 'aeon.forecasting.compose._reduce.Recur...</td>\n    </tr>\n    <tr>\n      <th>18</th>\n      <td>SklearnRegressorPipeline</td>\n      <td>&lt;class 'aeon.regression.compose._pipeline.Skle...</td>\n    </tr>\n    <tr>\n      <th>19</th>\n      <td>StackingForecaster</td>\n      <td>&lt;class 'aeon.forecasting.compose._stack.Stacki...</td>\n    </tr>\n    <tr>\n      <th>20</th>\n      <td>TransformedTargetForecaster</td>\n      <td>&lt;class 'aeon.forecasting.compose._pipeline.Tra...</td>\n    </tr>\n  </tbody>\n</table>\n</div>"
     },
     "execution_count": 29,
     "metadata": {},
     "output_type": "execute_result"
    }
   ],
   "source": [
    "all_estimators(\n",
    "    estimator_types=[\"classifier\", \"regressor\", \"clusterer\", \"forecaster\"],\n",
    "    filter_tags={\"capability:missing_values\": True},\n",
    "    as_dataframe=True,\n",
    ")"
   ],
   "metadata": {
    "collapsed": false
   }
  },
  {
   "cell_type": "markdown",
   "source": [
    "Removing series with missing and interpolation is currently best done by you: there\n",
    "are no transformers to deal with at at the moment. It is on the wish list."
   ],
   "metadata": {
    "collapsed": false
   }
  },
  {
   "cell_type": "markdown",
   "source": [
    "## Unequal length series\n",
    "\n",
    "Learning from unequal length series is very common. aeon provided two baked in\n",
    "unequal length collections: the univariate PLAID dataset, and the multivariate\n",
    "JapaneseVowels dataset:\n"
   ],
   "metadata": {
    "collapsed": false
   }
  },
  {
   "cell_type": "code",
   "execution_count": 13,
   "outputs": [
    {
     "name": "stdout",
     "output_type": "stream",
     "text": [
      "PLAID is univariate = True has missing = False is equal length = False\n",
      "JapaneseVowels is univariate = False has missing = False is equal length = False\n"
     ]
    }
   ],
   "source": [
    "plaid_X, plaid_y = load_plaid(split=\"train\")\n",
    "print(\n",
    "    f\"PLAID is univariate = {is_univariate(plaid_X)} has missing =\"\n",
    "    f\"{has_missing(plaid_X)} is equal length = {is_equal_length(plaid_X)}\"\n",
    ")\n",
    "vowels_X, vowels_y = load_japanese_vowels(split=\"train\")\n",
    "print(\n",
    "    f\"JapaneseVowels is univariate = {is_univariate(vowels_X)} \"\n",
    "    f\"has missing = {has_missing(vowels_X)} is \"\n",
    "    f\"equal length = {is_equal_length(vowels_X)}\"\n",
    ")"
   ],
   "metadata": {
    "collapsed": false
   }
  },
  {
   "cell_type": "markdown",
   "source": [
    "### Handling unequal length\n",
    "\n",
    "There are two basic strategies for unequal length problems\n",
    "1. Use an estimator that can internally handle missing values\n",
    "2. Transform the data to be equal length by, for example, truncating or padding series\n",
    "\n",
    "At the time of writing, functionality for handling unequal length series is limited.\n",
    "Estimators with the tag `\"capability:unequal_length\": True` have the capability to\n",
    "handle unequal length series. For classification, regression and\n",
    "clusterign, the\n",
    "current list is"
   ],
   "metadata": {
    "collapsed": false
   }
  },
  {
   "cell_type": "code",
   "execution_count": 14,
   "outputs": [
    {
     "data": {
      "text/plain": "                             name  \\\n0               Catch22Classifier   \n1                Catch22Regressor   \n2                 DummyClassifier   \n3                 ElasticEnsemble   \n4  KNeighborsTimeSeriesClassifier   \n5   KNeighborsTimeSeriesRegressor   \n\n                                           estimator  \n0  <class 'aeon.classification.feature_based._cat...  \n1  <class 'aeon.regression.feature_based._catch22...  \n2  <class 'aeon.classification._dummy.DummyClassi...  \n3  <class 'aeon.classification.distance_based._el...  \n4  <class 'aeon.classification.distance_based._ti...  \n5  <class 'aeon.regression.distance_based._time_s...  ",
      "text/html": "<div>\n<style scoped>\n    .dataframe tbody tr th:only-of-type {\n        vertical-align: middle;\n    }\n\n    .dataframe tbody tr th {\n        vertical-align: top;\n    }\n\n    .dataframe thead th {\n        text-align: right;\n    }\n</style>\n<table border=\"1\" class=\"dataframe\">\n  <thead>\n    <tr style=\"text-align: right;\">\n      <th></th>\n      <th>name</th>\n      <th>estimator</th>\n    </tr>\n  </thead>\n  <tbody>\n    <tr>\n      <th>0</th>\n      <td>Catch22Classifier</td>\n      <td>&lt;class 'aeon.classification.feature_based._cat...</td>\n    </tr>\n    <tr>\n      <th>1</th>\n      <td>Catch22Regressor</td>\n      <td>&lt;class 'aeon.regression.feature_based._catch22...</td>\n    </tr>\n    <tr>\n      <th>2</th>\n      <td>DummyClassifier</td>\n      <td>&lt;class 'aeon.classification._dummy.DummyClassi...</td>\n    </tr>\n    <tr>\n      <th>3</th>\n      <td>ElasticEnsemble</td>\n      <td>&lt;class 'aeon.classification.distance_based._el...</td>\n    </tr>\n    <tr>\n      <th>4</th>\n      <td>KNeighborsTimeSeriesClassifier</td>\n      <td>&lt;class 'aeon.classification.distance_based._ti...</td>\n    </tr>\n    <tr>\n      <th>5</th>\n      <td>KNeighborsTimeSeriesRegressor</td>\n      <td>&lt;class 'aeon.regression.distance_based._time_s...</td>\n    </tr>\n  </tbody>\n</table>\n</div>"
     },
     "execution_count": 14,
     "metadata": {},
     "output_type": "execute_result"
    }
   ],
   "source": [
    "all_estimators(\n",
    "    estimator_types=[\"classifier\", \"regressor\", \"clusterer\"],\n",
    "    filter_tags={\"capability:unequal_length\": True},\n",
    "    as_dataframe=True,\n",
    ")"
   ],
   "metadata": {
    "collapsed": false
   }
  },
  {
   "cell_type": "markdown",
   "source": [
    "You can pass these estimators unequal length series and they will work as expected."
   ],
   "metadata": {
    "collapsed": false
   }
  },
  {
   "cell_type": "code",
   "execution_count": 15,
   "outputs": [
    {
     "data": {
      "text/plain": "KNeighborsTimeSeriesClassifier()",
      "text/html": "<style>#sk-container-id-2 {color: black;background-color: white;}#sk-container-id-2 pre{padding: 0;}#sk-container-id-2 div.sk-toggleable {background-color: white;}#sk-container-id-2 label.sk-toggleable__label {cursor: pointer;display: block;width: 100%;margin-bottom: 0;padding: 0.3em;box-sizing: border-box;text-align: center;}#sk-container-id-2 label.sk-toggleable__label-arrow:before {content: \"▸\";float: left;margin-right: 0.25em;color: #696969;}#sk-container-id-2 label.sk-toggleable__label-arrow:hover:before {color: black;}#sk-container-id-2 div.sk-estimator:hover label.sk-toggleable__label-arrow:before {color: black;}#sk-container-id-2 div.sk-toggleable__content {max-height: 0;max-width: 0;overflow: hidden;text-align: left;background-color: #f0f8ff;}#sk-container-id-2 div.sk-toggleable__content pre {margin: 0.2em;color: black;border-radius: 0.25em;background-color: #f0f8ff;}#sk-container-id-2 input.sk-toggleable__control:checked~div.sk-toggleable__content {max-height: 200px;max-width: 100%;overflow: auto;}#sk-container-id-2 input.sk-toggleable__control:checked~label.sk-toggleable__label-arrow:before {content: \"▾\";}#sk-container-id-2 div.sk-estimator input.sk-toggleable__control:checked~label.sk-toggleable__label {background-color: #d4ebff;}#sk-container-id-2 div.sk-label input.sk-toggleable__control:checked~label.sk-toggleable__label {background-color: #d4ebff;}#sk-container-id-2 input.sk-hidden--visually {border: 0;clip: rect(1px 1px 1px 1px);clip: rect(1px, 1px, 1px, 1px);height: 1px;margin: -1px;overflow: hidden;padding: 0;position: absolute;width: 1px;}#sk-container-id-2 div.sk-estimator {font-family: monospace;background-color: #f0f8ff;border: 1px dotted black;border-radius: 0.25em;box-sizing: border-box;margin-bottom: 0.5em;}#sk-container-id-2 div.sk-estimator:hover {background-color: #d4ebff;}#sk-container-id-2 div.sk-parallel-item::after {content: \"\";width: 100%;border-bottom: 1px solid gray;flex-grow: 1;}#sk-container-id-2 div.sk-label:hover label.sk-toggleable__label {background-color: #d4ebff;}#sk-container-id-2 div.sk-serial::before {content: \"\";position: absolute;border-left: 1px solid gray;box-sizing: border-box;top: 0;bottom: 0;left: 50%;z-index: 0;}#sk-container-id-2 div.sk-serial {display: flex;flex-direction: column;align-items: center;background-color: white;padding-right: 0.2em;padding-left: 0.2em;position: relative;}#sk-container-id-2 div.sk-item {position: relative;z-index: 1;}#sk-container-id-2 div.sk-parallel {display: flex;align-items: stretch;justify-content: center;background-color: white;position: relative;}#sk-container-id-2 div.sk-item::before, #sk-container-id-2 div.sk-parallel-item::before {content: \"\";position: absolute;border-left: 1px solid gray;box-sizing: border-box;top: 0;bottom: 0;left: 50%;z-index: -1;}#sk-container-id-2 div.sk-parallel-item {display: flex;flex-direction: column;z-index: 1;position: relative;background-color: white;}#sk-container-id-2 div.sk-parallel-item:first-child::after {align-self: flex-end;width: 50%;}#sk-container-id-2 div.sk-parallel-item:last-child::after {align-self: flex-start;width: 50%;}#sk-container-id-2 div.sk-parallel-item:only-child::after {width: 0;}#sk-container-id-2 div.sk-dashed-wrapped {border: 1px dashed gray;margin: 0 0.4em 0.5em 0.4em;box-sizing: border-box;padding-bottom: 0.4em;background-color: white;}#sk-container-id-2 div.sk-label label {font-family: monospace;font-weight: bold;display: inline-block;line-height: 1.2em;}#sk-container-id-2 div.sk-label-container {text-align: center;}#sk-container-id-2 div.sk-container {/* jupyter's `normalize.less` sets `[hidden] { display: none; }` but bootstrap.min.css set `[hidden] { display: none !important; }` so we also need the `!important` here to be able to override the default hidden behavior on the sphinx rendered scikit-learn.org. See: https://github.com/scikit-learn/scikit-learn/issues/21755 */display: inline-block !important;position: relative;}#sk-container-id-2 div.sk-text-repr-fallback {display: none;}</style><div id=\"sk-container-id-2\" class=\"sk-top-container\"><div class=\"sk-text-repr-fallback\"><pre>KNeighborsTimeSeriesClassifier()</pre><b>In a Jupyter environment, please rerun this cell to show the HTML representation or trust the notebook. <br />On GitHub, the HTML representation is unable to render, please try loading this page with nbviewer.org.</b></div><div class=\"sk-container\" hidden><div class=\"sk-item\"><div class=\"sk-estimator sk-toggleable\"><input class=\"sk-toggleable__control sk-hidden--visually\" id=\"sk-estimator-id-2\" type=\"checkbox\" checked><label for=\"sk-estimator-id-2\" class=\"sk-toggleable__label sk-toggleable__label-arrow\">KNeighborsTimeSeriesClassifier</label><div class=\"sk-toggleable__content\"><pre>KNeighborsTimeSeriesClassifier()</pre></div></div></div></div></div>"
     },
     "execution_count": 15,
     "metadata": {},
     "output_type": "execute_result"
    }
   ],
   "source": [
    "knn = KNeighborsTimeSeriesClassifier()\n",
    "knn.fit(plaid_X, plaid_y)"
   ],
   "metadata": {
    "collapsed": false
   }
  },
  {
   "cell_type": "markdown",
   "source": [
    "The alternative is to transform your data so that it becomes equal length, and can\n",
    "then be used with any time series estimator. Two simple examples are tpo pad the\n",
    "series to the longest series length, or to truncate to the shortest series length. By\n",
    " default, padding pads with zeros. Be careful if your data is not normalised, because\n",
    "  this could then effect the classifier."
   ],
   "metadata": {
    "collapsed": false
   }
  },
  {
   "cell_type": "code",
   "execution_count": 17,
   "outputs": [
    {
     "data": {
      "text/plain": "(537, 1, 1344)"
     },
     "execution_count": 17,
     "metadata": {},
     "output_type": "execute_result"
    }
   ],
   "source": [
    "from aeon.transformations.collection import PaddingTransformer\n",
    "\n",
    "pt = PaddingTransformer()\n",
    "plaid_equal = pt.fit_transform(plaid_X)\n",
    "plaid_equal.shape"
   ],
   "metadata": {
    "collapsed": false
   }
  },
  {
   "cell_type": "code",
   "execution_count": 21,
   "outputs": [
    {
     "data": {
      "text/plain": "[<matplotlib.lines.Line2D at 0x235ecdc37f0>]"
     },
     "execution_count": 21,
     "metadata": {},
     "output_type": "execute_result"
    },
    {
     "data": {
      "text/plain": "<Figure size 640x480 with 1 Axes>",
      "image/png": "[encoded data removed]"
     },
     "metadata": {},
     "output_type": "display_data"
    }
   ],
   "source": [
    "import matplotlib.pyplot as plt\n",
    "\n",
    "plt.title(\"Before and after padding: PLAID first case (shifted up for unpadded)\")\n",
    "plt.plot(plaid_X[0][0] + 10)\n",
    "plt.plot(plaid_equal[0][0])"
   ],
   "metadata": {
    "collapsed": false
   }
  },
  {
   "cell_type": "markdown",
   "source": [
    "## Coming soon\n",
    "\n",
    "Unequally spaced samples\n",
    "Streaming series: windowing and segmenting\n",
    "Channel selection for multivariate series\n",
    "Channel selection for multivariate series"
   ],
   "metadata": {
    "collapsed": false
   }
  }
 ],
 "metadata": {
  "kernelspec": {
   "display_name": "Python 3",
   "language": "python",
   "name": "python3"
  },
  "language_info": {
   "codemirror_mode": {
    "name": "ipython",
    "version": 2
   },
   "file_extension": ".py",
   "mimetype": "text/x-python",
   "name": "python",
   "nbconvert_exporter": "python",
   "pygments_lexer": "ipython2",
   "version": "2.7.6"
  }
 },
 "nbformat": 4,
 "nbformat_minor": 0
}
