{
 "cells": [
  {
   "cell_type": "markdown",
   "metadata": {},
   "source": [
    "# A Deep Learning Demo for time series data\n",
    "\n",
    "#### including Classification and Regression"
   ]
  },
  {
   "cell_type": "markdown",
   "metadata": {},
   "source": [
    "### Overview\n",
    "\n",
    "Deep learning is proven to be very effective for Time Series Classification (TSC) tasks after the extensive experiments done in [1], especially Convolution based architectures i.e. FCN and ResNet [2]. A while later, InceptionTime (Convolution based) was proposed to become the new state-of-the-art deep learning model for TSC [3]. In [4], new hand-crafted convolution filters were proposed to boost InceptionTime. The model proposed in [4], Hybrid InceptionTime (H-InceptionTime) is currently the state-of-the-art deep learning model for TSC.\n",
    "\n",
    "More recently, in the latest Time Series Regression (TSR) review [5], the deep learning model InceptionTime is seen to be the state-of-the-art deep learning model.\n",
    "\n",
    "In this demo, we cover the usage of the deep learning models for both TSC and TSR"
   ]
  },
  {
   "cell_type": "markdown",
   "metadata": {},
   "source": [
    "##### References\n",
    "\n",
    "- [1] Ismail Fawaz, Hassan, et al. \"Deep learning for time series classification: a\n",
    "    review.\" Data mining and knowledge discovery 33.4 (2019): 917-963.\n",
    "- [2] Wang, Zhiguang et al. \"Time series classification from scratch with deep neural\n",
    "    networks: A strong baseline.\" 2017 International joint conference on neural networks (IJCNN). IEEE, 2017.\n",
    "- [3] Ismail Fawaz, Hassan, et al. \"Inceptiontime: Finding alexnet for time series\n",
    "    classification.\" Data Mining and Knowledge Discovery 34.6 (2020): 1936-1962.\n",
    "- [4] Ismail-Fawaz, Ali, et al. \"Deep Learning For Time Series Classification Using New\n",
    "    Hand-Crafted Convolution Filters.\" International Conference on Big Data. IEEE, (2022).\n",
    "[5] Guijo-Rubio, David, et al. \"Unsupervised Feature Based Algorithms for Time Series\n",
    "    Extrinsic Regression.\" arXiv preprint arXiv:2305.01429 (2023)."
   ]
  },
  {
   "cell_type": "markdown",
   "metadata": {},
   "source": [
    "### Contents\n",
    "\n",
    "1. Imports\n",
    "2. Classification\n",
    "    - InceptionTime\n",
    "    - H-InceptionTime\n",
    "    - Saving model\n",
    "3. Regression\n",
    "    - InceptionTime\n",
    "    - Saving and Loading model\n",
    "4. Deep Learning for any time series task"
   ]
  },
  {
   "cell_type": "markdown",
   "metadata": {},
   "source": [
    "### 1. Imports"
   ]
  },
  {
   "cell_type": "markdown",
   "metadata": {},
   "source": [
    "Import the deep learning models for classification and regression, and import data loader."
   ]
  },
  {
   "cell_type": "code",
   "execution_count": 14,
   "metadata": {},
   "outputs": [],
   "source": [
    "import os\n",
    "\n",
    "import matplotlib.pyplot as plt\n",
    "import numpy as np\n",
    "import tensorflow as tf\n",
    "from sklearn.decomposition import PCA\n",
    "from tensorflow.keras import backend as k\n",
    "\n",
    "from aeon.classification.deep_learning.fcn import FCNClassifier\n",
    "from aeon.classification.deep_learning.inception_time import InceptionTimeClassifier\n",
    "from aeon.datasets import load_arrow_head\n",
    "from aeon.networks.inception import InceptionNetwork\n",
    "from aeon.regression.deep_learning.inception_time import InceptionTimeRegressor"
   ]
  },
  {
   "cell_type": "markdown",
   "metadata": {},
   "source": [
    "### 2. Classification\n",
    "\n",
    "#### InceptionTime\n",
    "\n",
    "The InceptionTime model is an ensemble of multiple (by default five) Inception models. Each Inception model is a Convolutional Neural Network made of six Inception modules as seen in the Figure below. Each Inception module is composed of multiple (by default three) convolution layer in parallel and a max-pooling operation as well.\n",
    "![InceptionTime](img/Inception.png)"
   ]
  },
  {
   "cell_type": "code",
   "execution_count": 2,
   "metadata": {},
   "outputs": [
    {
     "name": "stderr",
     "output_type": "stream",
     "text": [
      "/home/afawaz/phd/venvs/aeon-dev/lib/python3.8/site-packages/sklearn/preprocessing/_encoders.py:868: FutureWarning: `sparse` was renamed to `sparse_output` in version 1.2 and will be removed in 1.4. `sparse_output` is ignored unless you leave `sparse` to its default value.\n",
      "  warnings.warn(\n",
      "/home/afawaz/phd/venvs/aeon-dev/lib/python3.8/site-packages/sklearn/preprocessing/_encoders.py:868: FutureWarning: `sparse` was renamed to `sparse_output` in version 1.2 and will be removed in 1.4. `sparse_output` is ignored unless you leave `sparse` to its default value.\n",
      "  warnings.warn(\n",
      "/home/afawaz/phd/venvs/aeon-dev/lib/python3.8/site-packages/sklearn/preprocessing/_encoders.py:868: FutureWarning: `sparse` was renamed to `sparse_output` in version 1.2 and will be removed in 1.4. `sparse_output` is ignored unless you leave `sparse` to its default value.\n",
      "  warnings.warn(\n",
      "/home/afawaz/phd/venvs/aeon-dev/lib/python3.8/site-packages/sklearn/preprocessing/_encoders.py:868: FutureWarning: `sparse` was renamed to `sparse_output` in version 1.2 and will be removed in 1.4. `sparse_output` is ignored unless you leave `sparse` to its default value.\n",
      "  warnings.warn(\n",
      "/home/afawaz/phd/venvs/aeon-dev/lib/python3.8/site-packages/sklearn/preprocessing/_encoders.py:868: FutureWarning: `sparse` was renamed to `sparse_output` in version 1.2 and will be removed in 1.4. `sparse_output` is ignored unless you leave `sparse` to its default value.\n",
      "  warnings.warn(\n"
     ]
    },
    {
     "name": "stdout",
     "output_type": "stream",
     "text": [
      "WARNING:tensorflow:5 out of the last 13 calls to <function Model.make_train_function.<locals>.train_function at 0x7f940a81bca0> triggered tf.function retracing. Tracing is expensive and the excessive number of tracings could be due to (1) creating @tf.function repeatedly in a loop, (2) passing tensors with different shapes, (3) passing Python objects instead of tensors. For (1), please define your @tf.function outside of the loop. For (2), @tf.function has reduce_retracing=True option that can avoid unnecessary retracing. For (3), please refer to https://www.tensorflow.org/guide/function#controlling_retracing and https://www.tensorflow.org/api_docs/python/tf/function for  more details.\n",
      "3/3 [==============================] - 1s 85ms/step\n",
      "3/3 [==============================] - 1s 67ms/step\n",
      "3/3 [==============================] - 1s 62ms/step\n",
      "3/3 [==============================] - 1s 92ms/step\n",
      "WARNING:tensorflow:5 out of the last 13 calls to <function Model.make_predict_function.<locals>.predict_function at 0x7f9409c68f70> triggered tf.function retracing. Tracing is expensive and the excessive number of tracings could be due to (1) creating @tf.function repeatedly in a loop, (2) passing tensors with different shapes, (3) passing Python objects instead of tensors. For (1), please define your @tf.function outside of the loop. For (2), @tf.function has reduce_retracing=True option that can avoid unnecessary retracing. For (3), please refer to https://www.tensorflow.org/guide/function#controlling_retracing and https://www.tensorflow.org/api_docs/python/tf/function for  more details.\n",
      "3/3 [==============================] - 1s 92ms/step\n"
     ]
    }
   ],
   "source": [
    "xtrain, ytrain = load_arrow_head(split=\"train\")\n",
    "xtest, ytest = load_arrow_head(split=\"test\")\n",
    "\n",
    "inc = InceptionTimeClassifier(n_classifiers=5, use_custom_filters=False, n_epochs=3)\n",
    "inc.fit(X=xtrain, y=ytrain)\n",
    "ypred = inc.predict(X=xtest)"
   ]
  },
  {
   "cell_type": "markdown",
   "metadata": {},
   "source": [
    "#### H-InceptionTime\n",
    "\n",
    "Just as InceptionTime, H-InceptionTime is an ensemble of multiple H-Inception models. The model can be seen in the figure below, where the additional custom filters are added in parallel to the first Inception module.\n",
    "![H-InceptionTime](img/H-Inception.png)"
   ]
  },
  {
   "cell_type": "markdown",
   "metadata": {},
   "source": [
    "The usage of H-InceptionTime can be done by setting the ```use_custom_filters``` flag to True. This is the default setup, not setting this flag to True will results in using the H-InceptionTime by default and only by setting it to False that InceptionTime is used."
   ]
  },
  {
   "cell_type": "code",
   "execution_count": 3,
   "metadata": {},
   "outputs": [
    {
     "name": "stderr",
     "output_type": "stream",
     "text": [
      "/home/afawaz/phd/venvs/aeon-dev/lib/python3.8/site-packages/sklearn/preprocessing/_encoders.py:868: FutureWarning: `sparse` was renamed to `sparse_output` in version 1.2 and will be removed in 1.4. `sparse_output` is ignored unless you leave `sparse` to its default value.\n",
      "  warnings.warn(\n"
     ]
    },
    {
     "name": "stdout",
     "output_type": "stream",
     "text": [
      "WARNING:tensorflow:5 out of the last 13 calls to <function Model.make_train_function.<locals>.train_function at 0x7f9409a9de50> triggered tf.function retracing. Tracing is expensive and the excessive number of tracings could be due to (1) creating @tf.function repeatedly in a loop, (2) passing tensors with different shapes, (3) passing Python objects instead of tensors. For (1), please define your @tf.function outside of the loop. For (2), @tf.function has reduce_retracing=True option that can avoid unnecessary retracing. For (3), please refer to https://www.tensorflow.org/guide/function#controlling_retracing and https://www.tensorflow.org/api_docs/python/tf/function for  more details.\n"
     ]
    },
    {
     "name": "stderr",
     "output_type": "stream",
     "text": [
      "/home/afawaz/phd/venvs/aeon-dev/lib/python3.8/site-packages/sklearn/preprocessing/_encoders.py:868: FutureWarning: `sparse` was renamed to `sparse_output` in version 1.2 and will be removed in 1.4. `sparse_output` is ignored unless you leave `sparse` to its default value.\n",
      "  warnings.warn(\n",
      "/home/afawaz/phd/venvs/aeon-dev/lib/python3.8/site-packages/sklearn/preprocessing/_encoders.py:868: FutureWarning: `sparse` was renamed to `sparse_output` in version 1.2 and will be removed in 1.4. `sparse_output` is ignored unless you leave `sparse` to its default value.\n",
      "  warnings.warn(\n",
      "/home/afawaz/phd/venvs/aeon-dev/lib/python3.8/site-packages/sklearn/preprocessing/_encoders.py:868: FutureWarning: `sparse` was renamed to `sparse_output` in version 1.2 and will be removed in 1.4. `sparse_output` is ignored unless you leave `sparse` to its default value.\n",
      "  warnings.warn(\n",
      "/home/afawaz/phd/venvs/aeon-dev/lib/python3.8/site-packages/sklearn/preprocessing/_encoders.py:868: FutureWarning: `sparse` was renamed to `sparse_output` in version 1.2 and will be removed in 1.4. `sparse_output` is ignored unless you leave `sparse` to its default value.\n",
      "  warnings.warn(\n"
     ]
    },
    {
     "name": "stdout",
     "output_type": "stream",
     "text": [
      "WARNING:tensorflow:5 out of the last 13 calls to <function Model.make_predict_function.<locals>.predict_function at 0x7f940b426550> triggered tf.function retracing. Tracing is expensive and the excessive number of tracings could be due to (1) creating @tf.function repeatedly in a loop, (2) passing tensors with different shapes, (3) passing Python objects instead of tensors. For (1), please define your @tf.function outside of the loop. For (2), @tf.function has reduce_retracing=True option that can avoid unnecessary retracing. For (3), please refer to https://www.tensorflow.org/guide/function#controlling_retracing and https://www.tensorflow.org/api_docs/python/tf/function for  more details.\n",
      "3/3 [==============================] - 1s 104ms/step\n",
      "3/3 [==============================] - 1s 100ms/step\n",
      "3/3 [==============================] - 1s 108ms/step\n",
      "3/3 [==============================] - 1s 93ms/step\n",
      "3/3 [==============================] - 1s 115ms/step\n"
     ]
    }
   ],
   "source": [
    "xtrain, ytrain = load_arrow_head(split=\"train\")\n",
    "xtest, ytest = load_arrow_head(split=\"test\")\n",
    "\n",
    "inc = InceptionTimeClassifier(n_classifiers=5, use_custom_filters=True, n_epochs=3)\n",
    "inc.fit(X=xtrain, y=ytrain)\n",
    "ypred = inc.predict(X=xtest)"
   ]
  },
  {
   "cell_type": "markdown",
   "metadata": {},
   "source": [
    "#### Saving model\n",
    "\n",
    "While training a deep learning model with `aeon`, a default callback is used to save the best model during training based on the training loss. This saved model is then loaded to use for evaluation and deleted once no longer used. This intermediate step is to avoid saving the model to file when the user is not in need for it later. This however can be changed by setting the `save_best_model` flag to True. The default name for the model is \"best_model\" with a `.hdf5` extension and will be saved in the default working directory. To change this, simply change the `file_path` and `best_file_name` parameters to your preference. \n",
    "\n",
    "The same setting can be done if the user is in need to save the last model during training as well, this is done by simply setting the flag `save_last_model` to True. The name of this saved model can be set by changing the `last_file_name` parameter and the `file_path` as well.\n",
    "\n",
    "Here is an example on saving the best and last models of an FCN model:"
   ]
  },
  {
   "cell_type": "code",
   "execution_count": 4,
   "metadata": {},
   "outputs": [],
   "source": [
    "xtrain, ytrain = load_arrow_head(split=\"train\")\n",
    "xtest, ytest = load_arrow_head(split=\"test\")\n",
    "\n",
    "fcn = FCNClassifier(\n",
    "    save_best_model=True,\n",
    "    save_last_model=True,\n",
    "    file_path=\"./\",\n",
    "    best_file_name=\"best_fcn\",\n",
    "    last_file_name=\"last_fcn\",\n",
    "    n_epochs=2,\n",
    ")\n",
    "\n",
    "# The following is commented to avoid CI doing the saving for no reason\n",
    "\n",
    "# fcn.fit(X=xtrain, y=ytrain)\n",
    "# ypred = fcn.predict(X=xtest)"
   ]
  },
  {
   "cell_type": "markdown",
   "metadata": {},
   "source": [
    "### 3. Regression\n",
    "\n",
    "#### InceptionTime\n",
    "\n",
    "As for classification, the InceptionTime model for TSR tasks is an ensemble of five different Inception models. The difference here is just in the last layer where the number of output neurons is one and no activation is used. The loss function used in this case is the Mean Squared Error."
   ]
  },
  {
   "cell_type": "code",
   "execution_count": 5,
   "metadata": {},
   "outputs": [
    {
     "name": "stdout",
     "output_type": "stream",
     "text": [
      "3/3 [==============================] - 1s 64ms/step\n",
      "3/3 [==============================] - 1s 64ms/step\n",
      "3/3 [==============================] - 1s 74ms/step\n",
      "3/3 [==============================] - 1s 60ms/step\n",
      "3/3 [==============================] - 1s 66ms/step\n"
     ]
    }
   ],
   "source": [
    "xtrain, ytrain = load_arrow_head(split=\"train\")\n",
    "xtest, ytest = load_arrow_head(split=\"test\")\n",
    "\n",
    "inc = InceptionTimeRegressor(n_regressors=5, n_epochs=1, use_custom_filters=False)\n",
    "inc.fit(X=xtrain, y=ytrain)\n",
    "\n",
    "ypred = inc.predict(X=xtest)"
   ]
  },
  {
   "cell_type": "markdown",
   "metadata": {},
   "source": [
    "The model saving technique for regression models is the same as for classification ones."
   ]
  },
  {
   "cell_type": "markdown",
   "metadata": {},
   "source": [
    "### 4. Deep Learning for any time series task\n",
    "\n",
    "Lets suppose the user wants to use the Inception Network (single one) to do some self-supervised learning.\n",
    "The availability of the Network module in `aeon` would facilitate this to be done by the user manually choose the task needed to be done."
   ]
  },
  {
   "cell_type": "code",
   "execution_count": 6,
   "metadata": {},
   "outputs": [],
   "source": [
    "# define self-supervised space dimension\n",
    "\n",
    "n_dim = 16\n",
    "\n",
    "# load the data\n",
    "\n",
    "xtrain, ytrain = load_arrow_head(split=\"train\")\n",
    "xtest, ytest = load_arrow_head(split=\"test\")\n",
    "\n",
    "# Flip axis to be handled correctly in tensorflow\n",
    "\n",
    "xtrain = np.transpose(xtrain, axes=(0, 2, 1))\n",
    "xtest = np.transpose(xtest, axes=(0, 2, 1))"
   ]
  },
  {
   "cell_type": "markdown",
   "metadata": {},
   "source": [
    "Now define the triplet loss needed for the SSL model. Taken from Ismail-Fawaz et al. \"Enhancing Time Series Classification with Self-Supervised Learning\" ICAART 2023."
   ]
  },
  {
   "cell_type": "code",
   "execution_count": 7,
   "metadata": {},
   "outputs": [],
   "source": [
    "def triplet_loss_function(alpha):\n",
    "    def temp(ytrue, ypred):\n",
    "        ref = ypred[:, :, 0]\n",
    "        pos = ypred[:, :, 1]\n",
    "        neg = ypred[:, :, 2]\n",
    "\n",
    "        ref = k.cast(ref, dtype=ref.dtype)\n",
    "        pos = k.cast(pos, dtype=ref.dtype)\n",
    "        neg = k.cast(neg, dtype=ref.dtype)\n",
    "\n",
    "        loss = k.maximum(\n",
    "            k.sum(\n",
    "                tf.math.subtract(\n",
    "                    tf.math.add(k.square(ref - pos), alpha), k.square(ref - neg)\n",
    "                ),\n",
    "                axis=1,\n",
    "            ),\n",
    "            0,\n",
    "        )\n",
    "\n",
    "        return loss\n",
    "\n",
    "    return temp"
   ]
  },
  {
   "cell_type": "markdown",
   "metadata": {},
   "source": [
    "Now define the network with the output self-supervised projection layer."
   ]
  },
  {
   "cell_type": "code",
   "execution_count": 8,
   "metadata": {},
   "outputs": [],
   "source": [
    "# Define the triplets input layers\n",
    "\n",
    "input_ref_layer = tf.keras.layers.Input(xtrain.shape[1:])\n",
    "input_pos_layer = tf.keras.layers.Input(xtrain.shape[1:])\n",
    "input_neg_layer = tf.keras.layers.Input(xtrain.shape[1:])\n",
    "\n",
    "inc_network = InceptionNetwork()\n",
    "input_layer, gap_layer = inc_network.build_network(input_shape=xtrain.shape[1:])\n",
    "\n",
    "encoder = tf.keras.models.Model(inputs=input_layer, outputs=gap_layer)\n",
    "\n",
    "output_layer_ref = tf.keras.layers.Reshape(target_shape=(-1, 1))(\n",
    "    tf.keras.layers.Dense(units=n_dim)(encoder(input_ref_layer))\n",
    ")\n",
    "output_layer_pos = tf.keras.layers.Reshape(target_shape=(-1, 1))(\n",
    "    tf.keras.layers.Dense(units=n_dim)(encoder(input_pos_layer))\n",
    ")\n",
    "output_layer_neg = tf.keras.layers.Reshape(target_shape=(-1, 1))(\n",
    "    tf.keras.layers.Dense(units=n_dim)(encoder(input_neg_layer))\n",
    ")\n",
    "\n",
    "output_layer = tf.keras.layers.Concatenate(axis=-1)(\n",
    "    [output_layer_ref, output_layer_pos, output_layer_neg]\n",
    ")\n",
    "\n",
    "SSL_model = tf.keras.models.Model(\n",
    "    inputs=[input_ref_layer, input_pos_layer, input_neg_layer], outputs=output_layer\n",
    ")\n",
    "\n",
    "SSL_model.compile(loss=triplet_loss_function(alpha=1e-5))"
   ]
  },
  {
   "cell_type": "markdown",
   "metadata": {},
   "source": [
    "Define your triplets beforehand"
   ]
  },
  {
   "cell_type": "code",
   "execution_count": 9,
   "metadata": {},
   "outputs": [],
   "source": [
    "def triplet_generation(x):\n",
    "    w1 = np.random.choice(np.linspace(start=0.6, stop=1, num=1000), size=1)\n",
    "    w2 = (1 - w1) / 2\n",
    "\n",
    "    ref = np.random.permutation(x[:])\n",
    "\n",
    "    n = int(ref.shape[0])\n",
    "\n",
    "    pos = np.zeros(shape=ref.shape)\n",
    "    neg = np.zeros(shape=ref.shape)\n",
    "\n",
    "    all_indices = np.arange(start=0, stop=n)\n",
    "\n",
    "    for i in range(n):\n",
    "        temp_indices = np.delete(arr=all_indices, obj=i)\n",
    "        indice_neg = int(np.random.choice(temp_indices, size=1))\n",
    "\n",
    "        temp_indices = np.delete(arr=all_indices, obj=[i, indice_neg])\n",
    "        indice_b = int(np.random.choice(temp_indices, size=1))\n",
    "\n",
    "        indice_c = int(np.random.choice(temp_indices, size=1))\n",
    "\n",
    "        indice_b2 = int(np.random.choice(temp_indices, size=1))\n",
    "\n",
    "        indice_c2 = int(np.random.choice(temp_indices, size=1))\n",
    "\n",
    "        a = ref[i].copy()\n",
    "\n",
    "        nota = ref[indice_neg].copy()\n",
    "\n",
    "        b = ref[indice_b].copy()\n",
    "        c = ref[indice_c].copy()\n",
    "\n",
    "        b2 = ref[indice_b2].copy()\n",
    "        c2 = ref[indice_c2].copy()\n",
    "\n",
    "        # MixingUp\n",
    "\n",
    "        pos[i] = w1 * a + w2 * b + w2 * c\n",
    "        neg[i] = w1 * nota + w2 * b2 + w2 * c2\n",
    "\n",
    "    return ref, pos, neg"
   ]
  },
  {
   "cell_type": "markdown",
   "metadata": {},
   "source": [
    "Generate the triplets"
   ]
  },
  {
   "cell_type": "code",
   "execution_count": 10,
   "metadata": {},
   "outputs": [],
   "source": [
    "xtrain_ref, xtrain_pos, xtrain_neg = triplet_generation(x=xtrain)"
   ]
  },
  {
   "cell_type": "markdown",
   "metadata": {},
   "source": [
    "Set the model's callbacks"
   ]
  },
  {
   "cell_type": "code",
   "execution_count": 11,
   "metadata": {},
   "outputs": [],
   "source": [
    "reduce_lr = tf.keras.callbacks.ReduceLROnPlateau(\n",
    "    monitor=\"loss\", factor=0.5, patience=50, min_lr=0.0001\n",
    ")\n",
    "\n",
    "file_path = \"./best_ssl_model.hdf5\"\n",
    "\n",
    "model_checkpoint = tf.keras.callbacks.ModelCheckpoint(\n",
    "    filepath=file_path, monitor=\"loss\", save_best_only=True\n",
    ")\n",
    "\n",
    "callbacks = [reduce_lr, model_checkpoint]"
   ]
  },
  {
   "cell_type": "markdown",
   "metadata": {},
   "source": [
    "Train your model"
   ]
  },
  {
   "cell_type": "code",
   "execution_count": 12,
   "metadata": {},
   "outputs": [
    {
     "data": {
      "image/png": "[encoded data removed]",
      "text/plain": [
       "<Figure size 640x480 with 1 Axes>"
      ]
     },
     "metadata": {},
     "output_type": "display_data"
    }
   ],
   "source": [
    "history = SSL_model.fit(\n",
    "    [xtrain_ref, xtrain_pos, xtrain_neg],\n",
    "    np.zeros(shape=len(xtrain)),\n",
    "    epochs=20,\n",
    "    callbacks=callbacks,\n",
    "    verbose=False,\n",
    ")\n",
    "\n",
    "plt.figure()\n",
    "plt.plot(history.history[\"loss\"], lw=3, color=\"blue\", label=\"training loss\")\n",
    "plt.legend()\n",
    "plt.show()"
   ]
  },
  {
   "cell_type": "markdown",
   "metadata": {},
   "source": [
    "Plot the 2D representation of the train data now"
   ]
  },
  {
   "cell_type": "code",
   "execution_count": 13,
   "metadata": {},
   "outputs": [
    {
     "name": "stdout",
     "output_type": "stream",
     "text": [
      "2/2 [==============================] - 1s 26ms/step\n"
     ]
    },
    {
     "data": {
      "image/png": "[encoded data removed]",
      "text/plain": [
       "<Figure size 640x480 with 1 Axes>"
      ]
     },
     "metadata": {},
     "output_type": "display_data"
    }
   ],
   "source": [
    "plt.cla()\n",
    "plt.clf()\n",
    "plt.close()\n",
    "plt.figure()\n",
    "\n",
    "pca = PCA(n_components=2)\n",
    "\n",
    "# load best model\n",
    "model = tf.keras.models.load_model(\"./best_ssl_model.hdf5\", compile=False)\n",
    "latent_space = model.predict([xtrain, xtrain, xtrain])\n",
    "latent_space = latent_space[:, :, 0]\n",
    "\n",
    "pca.fit(latent_space)\n",
    "latent_space_2d = pca.transform(latent_space)\n",
    "\n",
    "colors = [\"blue\", \"red\", \"green\"]\n",
    "\n",
    "for c in range(len(np.unique(ytrain))):\n",
    "    plt.scatter(\n",
    "        latent_space_2d[ytrain.astype(np.int64) == c][:, 0],\n",
    "        latent_space_2d[ytrain.astype(np.int64) == c][:, 1],\n",
    "        color=colors[c],\n",
    "        label=\"class-\" + str(c),\n",
    "    )\n",
    "\n",
    "\n",
    "plt.legend()\n",
    "plt.show()"
   ]
  },
  {
   "cell_type": "code",
   "execution_count": 15,
   "metadata": {},
   "outputs": [],
   "source": [
    "os.remove(\"./best_ssl_model.hdf5\")"
   ]
  }
 ],
 "metadata": {
  "kernelspec": {
   "display_name": "Python 3.8.10 ('aeon-dev')",
   "language": "python",
   "name": "python3"
  },
  "language_info": {
   "codemirror_mode": {
    "name": "ipython",
    "version": 3
   },
   "file_extension": ".py",
   "mimetype": "text/x-python",
   "name": "python",
   "nbconvert_exporter": "python",
   "pygments_lexer": "ipython3",
   "version": "3.8.10"
  },
  "orig_nbformat": 4,
  "vscode": {
   "interpreter": {
    "hash": "8cab4a84a7e2d58e8dd6743083175e639fa658fd5115758e2b424950b9bcc46f"
   }
  }
 },
 "nbformat": 4,
 "nbformat_minor": 2
}
