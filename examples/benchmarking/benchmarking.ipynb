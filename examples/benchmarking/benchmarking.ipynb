{
 "cells": [
  {
   "cell_type": "markdown",
   "id": "74db3693",
   "metadata": {},
   "source": [
    "# Benchmarking - comparing estimator performance\n",
    "\n",
    "The `benchmarking` modules allows you to easily orchestrate benchmarking experiments in which you want to\n",
    "compare the performance of one or more algorithms over one or more datasets and\n",
    "benchmark configurations. This module is still in development.\n",
    "\n",
    "Benchmarking in general is very easy to get wrong, giving false conclusions about estimator\n",
    "performance - see this [2022 research from Princeton](https://reproducible.cs.princeton.edu/)\n",
    "for numerous examples of such mistakes in peer reviewed academic papers as evidence of this.\n",
    "\n",
    "`aeon`'s `benchmarking` module is designed to provide benchmarking functionality while enforcing best\n",
    "practices and structure to help users avoid making mistakes (such as data leakage, etc.) which invalidate\n",
    "their results. The `benchmarking` module is designed for easy usage in mind, as such it interfaces\n",
    "directly with `aeon` objects and classes. Previously developed estimator should be usable as they are without\n",
    "alterations.\n",
    "\n",
    "We also include tools for comparing your results to published work and for testing\n",
    "and visualising relative performance of algorithms. See\n",
    "\n",
    "- [Comparing performance of forecasters](./forecasting.ipynb)\n",
    "- [Loading results from timeseriesclassification.com](./results_loading_and_plotting.ipynb)\n",
    "- [Comparing outputs for regressors](./regression_results_per_dataset.ipynb)\n",
    "\n",
    "\n",
    "These notebooks demonstrate usage of the `benchmarking` module."
   ]
  }
 ],
 "metadata": {
  "kernelspec": {
   "display_name": "Python 3 (ipykernel)",
   "language": "python",
   "name": "python3"
  },
  "language_info": {
   "codemirror_mode": {
    "name": "ipython",
    "version": 3
   },
   "file_extension": ".py",
   "mimetype": "text/x-python",
   "name": "python",
   "nbconvert_exporter": "python",
   "pygments_lexer": "ipython3",
   "version": "3.10.6"
  }
 },
 "nbformat": 4,
 "nbformat_minor": 5
}
