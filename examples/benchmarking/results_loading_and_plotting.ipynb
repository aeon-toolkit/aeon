{
 "cells": [
  {
   "cell_type": "markdown",
   "metadata": {
    "collapsed": false
   },
   "source": [
    "# Benchmarking: retrieving and comparing against reference results\n",
    "\n",
    "You can access all the latest results for classification, clustering and\n",
    "regression directly with aeon. These results are all stored on the website\n",
    "\n",
    "[timeseriesclassification.com](https://timeseriesclassification.com). These\n",
    "results were presented in three bake offs for classification [1],\n",
    "regression [2] and clustering [3]. We use three aeon classifiers for\n",
    "our examples.\n",
    "\n",
    "FreshPRINCE [4] is a pipeline of TSFresh transform followed by a rotation forest classifier.\n",
    "InceptionTimeClassifier [5] is a deep learning ensemble. HIVECOTEV2 [6] is a meta\n",
    "ensemble of four different ensembles built on different representations. WEASEL2 [7] \n",
    "overhauls original WEASEL using dilation and ensembling randomized hyper-parameter \n",
    "settings.\n",
    "\n",
    "See [1] for an overview of recent advances in time series classification."
   ]
  },
  {
   "cell_type": "code",
   "execution_count": 1,
   "metadata": {
    "collapsed": false
   },
   "outputs": [
    {
     "name": "stdout",
     "output_type": "stream",
     "text": [
      " Returns an array with each column an estimator, shape (data_names, classifiers)\n",
      "By default recovers the default test split results for 112 equal length UCR datasets.\n",
      "Or specify datasets for result recovery. For example, 4 datasets. HIVECOTEV2 accuracy ItalyPowerDemand = 0.9698736637512148\n"
     ]
    }
   ],
   "source": [
    "from aeon.benchmarking import plot_critical_difference\n",
    "from aeon.benchmarking.results_loaders import (\n",
    "    get_estimator_results,\n",
    "    get_estimator_results_as_array,\n",
    ")\n",
    "from aeon.benchmarking.results_plotting import plot_boxplot_median, plot_scatter\n",
    "\n",
    "classifiers = [\n",
    "    \"FreshPRINCEClassifier\",\n",
    "    \"HIVECOTEV2\",\n",
    "    \"InceptionTimeClassifier\",\n",
    "    \"WEASEL-Dilation\",\n",
    "]\n",
    "datasets = [\"ACSF1\", \"ArrowHead\", \"GunPoint\", \"ItalyPowerDemand\"]\n",
    "# get results. To read locally, set the path variable.\n",
    "# If you do not set path, results are loaded from\n",
    "# https://timeseriesclassification.com/results/ReferenceResults.\n",
    "# You can download the files directly from there\n",
    "default_split_all, data_names = get_estimator_results_as_array(estimators=classifiers)\n",
    "print(\n",
    "    \" Returns an array with each column an estimator, shape (data_names, classifiers)\"\n",
    ")\n",
    "print(\n",
    "    f\"By default recovers the default test split results for {len(data_names)} \"\n",
    "    f\"equal length UCR datasets.\"\n",
    ")\n",
    "default_split_some, names = get_estimator_results_as_array(\n",
    "    estimators=classifiers, datasets=datasets\n",
    ")\n",
    "print(\n",
    "    f\"Or specify datasets for result recovery. For example, {len(names)} datasets. \"\n",
    "    f\"HIVECOTEV2 accuracy {names[3]} = {default_split_some[3][1]}\"\n",
    ")"
   ]
  },
  {
   "cell_type": "markdown",
   "metadata": {
    "collapsed": false
   },
   "source": [
    "If you have any questions about these results or the datasets, please raise an issue\n",
    "on the associated [repo](https://github.com/time-series-machine-learning/tsml-repo). You can also recover\n",
    "results in a dictionary, where each key is a classifier name, and the values is a\n",
    "dictionary of problems/results.\n"
   ]
  },
  {
   "cell_type": "code",
   "execution_count": 2,
   "metadata": {
    "collapsed": false
   },
   "outputs": [
    {
     "name": "stdout",
     "output_type": "stream",
     "text": [
      "Keys =  dict_keys(['FreshPRINCEClassifier', 'HIVECOTEV2', 'InceptionTimeClassifier', 'WEASEL-Dilation'])\n",
      "Accuracy of HIVECOTEV2 on ItalyPowerDemand =  0.9698736637512148\n"
     ]
    }
   ],
   "source": [
    "hash_table = get_estimator_results(estimators=classifiers)\n",
    "print(\"Keys = \", hash_table.keys())\n",
    "print(\n",
    "    \"Accuracy of HIVECOTEV2 on ItalyPowerDemand = \",\n",
    "    hash_table[\"HIVECOTEV2\"][\"ItalyPowerDemand\"],\n",
    ")"
   ]
  },
  {
   "cell_type": "markdown",
   "metadata": {
    "collapsed": false
   },
   "source": [
    "The results recovered so far have all been on the default train/test split. If we\n",
    "merge train and test data and resample, you can get very different results. To allow\n",
    "for this, we average results over 30 resamples. You can recover these\n",
    "averages by setting the `default_only` parameter to `False`."
   ]
  },
  {
   "cell_type": "code",
   "execution_count": 3,
   "metadata": {
    "collapsed": false
   },
   "outputs": [
    {
     "name": "stdout",
     "output_type": "stream",
     "text": [
      "Results are averaged over 30 stratified resamples.\n",
      " HIVECOTEV2 default train test partition of PhalangesOutlinesCorrect = 0.8344988344988346 and averaged over 30 resamples = 0.8437062937062937\n"
     ]
    }
   ],
   "source": [
    "resamples_all, data_names = get_estimator_results_as_array(\n",
    "    estimators=classifiers, default_only=False\n",
    ")\n",
    "print(\"Results are averaged over 30 stratified resamples.\")\n",
    "print(\n",
    "    f\" HIVECOTEV2 default train test partition of {data_names[3]} = \"\n",
    "    f\"{default_split_all[3][1]} and averaged over 30 resamples = \"\n",
    "    f\"{resamples_all[3][1]}\"\n",
    ")"
   ]
  },
  {
   "cell_type": "markdown",
   "metadata": {
    "collapsed": false
   },
   "source": [
    "So once you have the results you want, you can compare classifiers with built in aeon\n",
    " tools. For example, you can draw a critical difference diagram [7]. This displays\n",
    " the average rank of each estimator over all datasets. It then groups estimators for\n",
    " which there is no significant difference in rank into cliques, shown with a solid\n",
    " bar. So in the example below with the default train test splits,\n",
    " FreshPRINCEClassifier and WEASEL-Dilation are not significantly different in ranks to\n",
    " InceptionTimeClassifier, but HIVECOTEV2 is significantly better. \n",
    " The diagram below has been performed using pairwise Wilcoxon signed-rank tests and forms cliques using the Holm correction for multiple\n",
    "testing as described in [8, 9]. Alpha value is 0.05 (default value).\n"
   ]
  },
  {
   "cell_type": "code",
   "execution_count": 4,
   "metadata": {
    "collapsed": false
   },
   "outputs": [
    {
     "ename": "AttributeError",
     "evalue": "'tuple' object has no attribute 'show'",
     "output_type": "error",
     "traceback": [
      "\u001B[1;31m---------------------------------------------------------------------------\u001B[0m",
      "\u001B[1;31mAttributeError\u001B[0m                            Traceback (most recent call last)",
      "Cell \u001B[1;32mIn[4], line 2\u001B[0m\n\u001B[0;32m      1\u001B[0m plot \u001B[38;5;241m=\u001B[39m plot_critical_difference(default_split_all, classifiers)\n\u001B[1;32m----> 2\u001B[0m \u001B[43mplot\u001B[49m\u001B[38;5;241;43m.\u001B[39;49m\u001B[43mshow\u001B[49m()\n",
      "\u001B[1;31mAttributeError\u001B[0m: 'tuple' object has no attribute 'show'"
     ]
    },
    {
     "data": {
      "text/plain": "<Figure size 600x230 with 1 Axes>",
      "image/png": "[encoded data removed]"
     },
     "metadata": {},
     "output_type": "display_data"
    }
   ],
   "source": [
    "plot = plot_critical_difference(default_split_all, classifiers)\n",
    "plot.show()"
   ]
  },
  {
   "cell_type": "markdown",
   "metadata": {
    "collapsed": false
   },
   "source": [
    "If we use the data averaged over resamples, we can detect differences more clearly.\n",
    "Now we see WEASEL-Dilation and InceptionTimeClassifier are significantly better than the\n",
    "FreshPRINCEClassifier."
   ]
  },
  {
   "cell_type": "code",
   "execution_count": null,
   "metadata": {},
   "outputs": [],
   "source": [
    "plot = plot_critical_difference(resamples_all, classifiers, clique_method=\"holm\")\n",
    "plot.show()"
   ]
  },
  {
   "cell_type": "markdown",
   "metadata": {},
   "source": [
    "If we want to highlight a specific classifier, we have the `highlight` parameter, which is a dict including the classifier that we would like to highlight and the colour selected, such as: `highlight={HIVECOTEV2: \"#8a9bf8\"}`"
   ]
  },
  {
   "cell_type": "code",
   "execution_count": null,
   "metadata": {},
   "outputs": [],
   "source": [
    "plot = plot_critical_difference(\n",
    "    resamples_all,\n",
    "    classifiers,\n",
    "    clique_method=\"holm\",\n",
    "    highlight={\"HIVECOTEV2\": \"#8a9bf8\"},\n",
    ")\n",
    "plot.show()"
   ]
  },
  {
   "cell_type": "markdown",
   "metadata": {},
   "source": [
    "Besides plotting differences using the critical difference diagrams, different versions of boxplots can be plotted. Boxplots graphically demonstrates the locality, spread and skewness of the results. In this case, it plot a boxplot of distributions from the median. A value above 0.5 means the algorithm is better than the median accuracy for that particular problem."
   ]
  },
  {
   "cell_type": "code",
   "execution_count": null,
   "metadata": {},
   "outputs": [],
   "source": [
    "plot = plot_boxplot_median(\n",
    "    resamples_all,\n",
    "    classifiers,\n",
    "    plot_type=\"boxplot\",\n",
    "    outliers=True,\n",
    ")\n",
    "\n",
    "plot.show()"
   ]
  },
  {
   "cell_type": "markdown",
   "metadata": {},
   "source": [
    "As can be observed, the results achieved by the FreshPRINCEClassifier are more spreaded than the rest. Furthermore, it can be seen that most results for HC2 are above 0.5, which indicates that for most datasets, HC2 is better. \n",
    "\n",
    "There are some more options to play with in this function. For example, to specify the values for the y-axis:"
   ]
  },
  {
   "cell_type": "code",
   "execution_count": null,
   "metadata": {},
   "outputs": [],
   "source": [
    "plot = plot_boxplot_median(\n",
    "    resamples_all,\n",
    "    classifiers,\n",
    "    plot_type=\"boxplot\",\n",
    "    outliers=True,\n",
    "    y_min=0.4,\n",
    "    y_max=0.6,\n",
    ")\n",
    "\n",
    "plot.show()"
   ]
  },
  {
   "cell_type": "markdown",
   "metadata": {},
   "source": [
    "Apart from well-known boxplots, different versions can be plotted, depending on the purpose of the user:\n",
    "- `violin` is a hybrid of a boxplot and a kernel density plot, showing peaks in the data.\n",
    "- `swarm` is a scatterplot with points adjusted to be non-overlapping.\n",
    "- `strip` is similar to `swarm` but uses jitter to reduce overplotting.\n",
    "\n",
    "Below, we show an example of the `violin` one, including a title."
   ]
  },
  {
   "cell_type": "code",
   "execution_count": null,
   "metadata": {},
   "outputs": [],
   "source": [
    "plot = plot_boxplot_median(\n",
    "    resamples_all,\n",
    "    classifiers,\n",
    "    plot_type=\"violin\",\n",
    "    title=\"Violin plot\",\n",
    ")\n",
    "\n",
    "plot.show()"
   ]
  },
  {
   "cell_type": "markdown",
   "metadata": {},
   "source": [
    "From the critical difference diagram above, we showed that InceptionTimeClassifier is not significantly better than WEASEL-Dilation. Now, if we want to specifically compare the results of these two approaches, we can plot a scatter in which each point is a pair of accuracies of both approaches. The number of W, T, and L is also included per approach in the legend. "
   ]
  },
  {
   "cell_type": "code",
   "execution_count": null,
   "metadata": {},
   "outputs": [],
   "source": [
    "methods = [\"InceptionTimeClassifier\", \"WEASEL-Dilation\"]\n",
    "\n",
    "results = get_estimator_results_as_array(estimators=methods)\n",
    "\n",
    "plot = plot_scatter(\n",
    "    results[0],\n",
    "    methods[0],\n",
    "    methods[1],\n",
    "    title=\"Comparison of IT and WEASEL2\",\n",
    ")\n",
    "plot.show()"
   ]
  },
  {
   "cell_type": "markdown",
   "metadata": {
    "collapsed": false
   },
   "source": [
    "[timeseriesclassification.com](https://timeseriesclassification.com) has results for classification, clustering and regression. We are constantly\n",
    "updating the results as we generate them. To find out which estimators have results\n",
    " `get_available_estimators`"
   ]
  },
  {
   "cell_type": "code",
   "execution_count": null,
   "metadata": {
    "collapsed": false
   },
   "outputs": [],
   "source": [
    "from aeon.benchmarking import get_available_estimators\n",
    "\n",
    "print(get_available_estimators(task=\"Classification\"))\n",
    "\n",
    "print(get_available_estimators(task=\"Regression\"))\n",
    "\n",
    "print(get_available_estimators(task=\"Clustering\"))"
   ]
  },
  {
   "cell_type": "markdown",
   "metadata": {
    "collapsed": false
   },
   "source": [
    "# References\n",
    "[1] Middlehurst et al. \"Bake off redux: a review and experimental evaluation of\n",
    "recent time series classification algorithms\", 2023, [arXiv](https://arxiv.org/abs/2304.13029)\n",
    "\n",
    "[2] Holder et al.  \"A Review and Evaluation of Elastic Distance Functions for Time Series Clustering\", 2023, [arXiv](https://arxiv.org/abs/2205.15181) [KAIS](https://link.springer.com/article/10.1007/s10115-023-01952-0)\n",
    "\n",
    "[3] Guijo-Rubio et al. \"Unsupervised Feature Based Algorithms for Time Series\n",
    "Extrinsic Regression\", 2023 [arXiv](https://arxiv.org/abs/2305.01429)\n",
    "\n",
    "[4] Middlehurst and Bagnall, \"The FreshPRINCE: A Simple Transformation Based Pipeline\n",
    " Time Series Classifier\", 2022 [arXiv](https://arxiv.org/abs/2201.12048)\n",
    "\n",
    "[5] Fawaz et al. \"InceptionTime: Finding AlexNet for time series classification\", 2020\n",
    "[DAMI](https://link.springer.com/article/10.1007/s10618-020-00710-y)\n",
    "\n",
    "[6] Middlehurst et al. \"HIVE-COTE 2.0: a new meta ensemble for time series\n",
    "classification\", [MACH](https://link.springer.com/article/10.1007/s10994-021-06057-9)\n",
    "\n",
    "[7] Schäfer and Leser, \"WEASEL 2.0 - A Random Dilated Dictionary Transform for Fast, Accurate and Memory Constrained Time Series Classification\", 2023 [arXiv](https://arxiv.org/abs/2301.10194)\n",
    "\n",
    "[8] García and Herrera, \"An extension on 'statistical comparisons of classifiers over multiple data sets' for all pairwise comparisons\", 2008 [JMLR](https://www.jmlr.org/papers/volume9/garcia08a/garcia08a.pdf)\n",
    "\n",
    "[9] Benavoli et al. \"Should We Really Use Post-Hoc Tests Based on Mean-Ranks?\", 2016 [JMLR](https://jmlr.org/papers/v17/benavoli16a.html)\n",
    "\n",
    "[10] Demsar, \"Statistical Comparisons of Classifiers\n",
    "over Multiple Data Sets\" [JMLR](https://www.jmlr.org/papers/volume7/demsar06a/demsar06a.pdf)\n"
   ]
  }
 ],
 "metadata": {
  "kernelspec": {
   "display_name": "Python 3",
   "language": "python",
   "name": "python3"
  },
  "language_info": {
   "codemirror_mode": {
    "name": "ipython",
    "version": 3
   },
   "file_extension": ".py",
   "mimetype": "text/x-python",
   "name": "python",
   "nbconvert_exporter": "python",
   "pygments_lexer": "ipython3",
   "version": "3.11.5"
  }
 },
 "nbformat": 4,
 "nbformat_minor": 0
}
