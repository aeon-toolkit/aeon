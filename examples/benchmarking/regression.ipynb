{
 "cells": [
  {
   "cell_type": "markdown",
   "source": [
    "# Benchmarking time series regression models\n",
    "\n",
    "Time series extrinsic regression, first properly defined in [1] then recently\n",
    "extended in [2], involves predicting a continuous target variable based on a time\n",
    "series. It differs from time series forecasting regression in that the target is\n",
    "not formed from a sliding window, but is some external variable.\n",
    "\n",
    "This notebook shows you how to use aeon to get benchmarking datasets with aeon and how\n",
    " to compare results on these datasets with those published in [2]."
   ],
   "metadata": {
    "collapsed": false
   }
  },
  {
   "cell_type": "markdown",
   "source": [
    "## Loading/Downloading data\n",
    "\n",
    "aeon comes with two regression problems in the datasets module. You can load these\n",
    "with single problem loaders or the more general load_regression function."
   ],
   "metadata": {
    "collapsed": false
   }
  },
  {
   "cell_type": "code",
   "execution_count": 3,
   "outputs": [
    {
     "name": "stdout",
     "output_type": "stream",
     "text": [
      "(140, 1, 84) (61, 1, 84) (107, 2, 24)\n"
     ]
    }
   ],
   "source": [
    "from aeon.datasets import load_cardano_sentiment, load_covid_3month, load_regression\n",
    "\n",
    "trainX, trainy = load_covid_3month(split=\"train\")\n",
    "testX, testy = load_regression(split=\"test\", name=\"Covid3Month\")\n",
    "X, y = load_cardano_sentiment()  # Combines train and test splits\n",
    "print(trainX.shape, testX.shape, X.shape)"
   ],
   "metadata": {
    "collapsed": false
   }
  },
  {
   "cell_type": "markdown",
   "source": [
    "there are currently 63 problems in the TSER archive hosted on\n",
    "timeseriesclassification.com. These are listed in the file datasets.tser_data_lists"
   ],
   "metadata": {
    "collapsed": false
   }
  },
  {
   "cell_type": "code",
   "execution_count": 4,
   "outputs": [
    {
     "name": "stdout",
     "output_type": "stream",
     "text": [
      "['AcousticContaminationMadrid', 'AluminiumConcentration', 'AppliancesEnergy', 'AustraliaRainfall', 'BIDMC32HR', 'BIDMC32RR', 'BIDMC32SpO2', 'BarCrawl6min', 'BeijingIntAirportPM25Quality', 'BeijingPM10Quality', 'BeijingPM25Quality', 'BenzeneConcentration', 'BinanceCoinSentiment', 'BitcoinSentiment', 'BoronConcentration', 'CalciumConcentration', 'CardanoSentiment', 'ChilledWaterPredictor', 'CopperConcentration', 'Covid19Andalusia', 'Covid3Month', 'DailyOilGasPrices', 'DailyTemperatureLatitude', 'DhakaHourlyAirQuality', 'ElectricMotorTemperature', 'ElectricityPredictor', 'EthereumSentiment', 'FloodModeling1', 'FloodModeling2', 'FloodModeling3', 'GasSensorArrayAcetone', 'GasSensorArrayEthanol', 'HotwaterPredictor', 'HouseholdPowerConsumption1', 'HouseholdPowerConsumption2', 'IEEEPPG', 'IronConcentration', 'LPGasMonitoringHomeActivity', 'LiveFuelMoistureContent', 'MadridPM10Quality', 'MagnesiumConcentration', 'ManganeseConcentration', 'MethaneMonitoringHomeActivity', 'MetroInterstateTrafficVolume', 'NaturalGasPricesSentiment', 'NewsHeadlineSentiment', 'NewsTitleSentiment', 'OccupancyDetectionLight', 'PPGDalia', 'ParkingBirmingham', 'PhosphorusConcentration', 'PotassiumConcentration', 'PrecipitationAndalusia', 'SierraNevadaMountainsSnow', 'SodiumConcentration', 'SolarRadiationAndalusia', 'SteamPredictor', 'SulphurConcentration', 'TetuanEnergyConsumption', 'VentilatorPressure', 'WaveDataTension', 'WindTurbinePower', 'ZincConcentration']\n"
     ]
    }
   ],
   "source": [
    "from aeon.datasets.tser_data_lists import tser_soton\n",
    "\n",
    "print(sorted(list(tser_soton)))"
   ],
   "metadata": {
    "collapsed": false
   }
  },
  {
   "cell_type": "markdown",
   "source": [
    "You can download these datasets directly with aeon load_regression function. By\n",
    "default it will store the data in a directory called \"local_data\" in the datasets\n",
    "module. Set extract pathto specify a different location.\n"
   ],
   "metadata": {
    "collapsed": false
   }
  },
  {
   "cell_type": "code",
   "execution_count": 5,
   "outputs": [
    {
     "name": "stdout",
     "output_type": "stream",
     "text": [
      "CardanoSentiment (107, 2, 24) (107,)\n",
      "NaturalGasPricesSentiment (93, 1, 20) (93,)\n",
      "Covid3Month (201, 1, 84) (201,)\n",
      "DailyOilGasPrices (191, 2, 30) (191,)\n",
      "BinanceCoinSentiment (263, 2, 24) (263,)\n",
      "Covid19Andalusia (204, 1, 91) (204,)\n"
     ]
    }
   ],
   "source": [
    "small_problems = [\n",
    "    \"CardanoSentiment\",\n",
    "    \"NaturalGasPricesSentiment\",\n",
    "    \"Covid3Month\",\n",
    "    \"DailyOilGasPrices\",\n",
    "    \"BinanceCoinSentiment\",\n",
    "    \"Covid19Andalusia\",\n",
    "]\n",
    "\n",
    "for problem in small_problems:\n",
    "    X, y = load_regression(name=problem)\n",
    "    print(problem, X.shape, y.shape)"
   ],
   "metadata": {
    "collapsed": false
   }
  },
  {
   "cell_type": "markdown",
   "source": [
    "If you call the function again, it will load from disk rather than downloading again.\n",
    " You can specify train/test splits."
   ],
   "metadata": {
    "collapsed": false
   }
  },
  {
   "cell_type": "code",
   "execution_count": 6,
   "outputs": [
    {
     "name": "stdout",
     "output_type": "stream",
     "text": [
      "CardanoSentiment (204, 1, 91) (204,)\n",
      "NaturalGasPricesSentiment (204, 1, 91) (204,)\n",
      "Covid3Month (204, 1, 91) (204,)\n",
      "DailyOilGasPrices (204, 1, 91) (204,)\n",
      "BinanceCoinSentiment (204, 1, 91) (204,)\n",
      "Covid19Andalusia (204, 1, 91) (204,)\n"
     ]
    }
   ],
   "source": [
    "for problem in small_problems:\n",
    "    trainX, trainy = load_regression(name=problem, split=\"train\")\n",
    "    print(problem, X.shape, y.shape)"
   ],
   "metadata": {
    "collapsed": false
   }
  },
  {
   "cell_type": "markdown",
   "source": [
    "## Evaluating a regressor on benchmark data\n",
    "\n",
    "With the data, it is easy to assess an algorithm performance. We will use the\n",
    "DummyRegressor as a baseline, and the default scoring\n",
    "\n"
   ],
   "metadata": {
    "collapsed": false
   }
  },
  {
   "cell_type": "code",
   "execution_count": 18,
   "outputs": [
    {
     "name": "stdout",
     "output_type": "stream",
     "text": [
      "BinanceCoinSentiment  Dummy score =  0.1317760422312482\n",
      "CardanoSentiment  Dummy score =  0.09015657223327135\n",
      "Covid19Andalusia  Dummy score =  0.0009514194090128098\n",
      "Covid3Month  Dummy score =  0.0019998715745554777\n",
      "DailyOilGasPrices  Dummy score =  3.243472060265722\n",
      "NaturalGasPricesSentiment  Dummy score =  0.008141822846139452\n"
     ]
    }
   ],
   "source": [
    "from sklearn.metrics import mean_squared_error\n",
    "\n",
    "from aeon.regression import DummyRegressor\n",
    "\n",
    "dummy = DummyRegressor()\n",
    "performance = []\n",
    "for problem in small_problems:\n",
    "    trainX, trainy = load_regression(name=problem, split=\"train\")\n",
    "    dummy.fit(trainX, trainy)\n",
    "    testX, testy = load_regression(name=problem, split=\"test\")\n",
    "    predictions = dummy.predict(testX)\n",
    "    mse = mean_squared_error(testy, predictions)\n",
    "    performance.append(mse)\n",
    "    print(problem, \" Dummy score = \", mse)"
   ],
   "metadata": {
    "collapsed": false
   }
  },
  {
   "cell_type": "markdown",
   "source": [
    "## Comparing to published results\n",
    "\n",
    "How does the dummy compare to the published results in [2]? We can use the method\n",
    "get_estimator_results to obtain published results."
   ],
   "metadata": {
    "collapsed": false
   }
  },
  {
   "cell_type": "code",
   "execution_count": 19,
   "outputs": [
    {
     "name": "stdout",
     "output_type": "stream",
     "text": [
      "                1NN-DTW\n",
      "0                1NN-ED\n",
      "1               5NN-DTW\n",
      "2                5NN-ED\n",
      "3                   CNN\n",
      "4                 DrCIF\n",
      "5                   FCN\n",
      "6                  FPCR\n",
      "7         FPCR-b-spline\n",
      "8           FreshPRINCE\n",
      "9               GridSVR\n",
      "10        InceptionTime\n",
      "11                RandF\n",
      "12               ResNet\n",
      "13                Ridge\n",
      "14               ROCKET\n",
      "15                 RotF\n",
      "16  SingleInceptionTime\n",
      "17              XGBoost\n",
      "{'DrCIF': {'BinanceCoinSentiment': 0.1147393141970096, 'CardanoSentiment': 0.0982120290102569, 'Covid19Andalusia': 0.0002131578438176, 'Covid3Month': 0.0018498023495186, 'DailyOilGasPrices': 1.0949503838264991, 'NaturalGasPricesSentiment': 0.0028579077510607}, 'InceptionTime': {'BinanceCoinSentiment': 0.1453576133389811, 'CardanoSentiment': 0.1436599010092788, 'Covid19Andalusia': 0.0002619962000609, 'Covid3Month': 0.0029974128154996, 'DailyOilGasPrices': 2.378411239715724, 'NaturalGasPricesSentiment': 0.0579133105251111}}\n"
     ]
    }
   ],
   "source": [
    "from aeon.benchmarking import get_available_estimators, get_estimator_results\n",
    "\n",
    "print(get_available_estimators(task=\"regression\"))\n",
    "results = get_estimator_results(\n",
    "    estimators=[\"DrCIF\", \"InceptionTime\"],\n",
    "    task=\"regression\",\n",
    "    datasets=small_problems,\n",
    "    measure=\"mse\",\n",
    ")\n",
    "print(results)"
   ],
   "metadata": {
    "collapsed": false
   }
  },
  {
   "cell_type": "markdown",
   "source": [
    "this is organised as a dictionary of dictionaries. because we cannot be sure all\n",
    "results are present for all datasets."
   ],
   "metadata": {
    "collapsed": false
   }
  },
  {
   "cell_type": "code",
   "execution_count": 20,
   "outputs": [
    {
     "name": "stdout",
     "output_type": "stream",
     "text": [
      "[[1.14739314e-01 1.45357613e-01]\n",
      " [9.82120290e-02 1.43659901e-01]\n",
      " [2.13157844e-04 2.61996200e-04]\n",
      " [1.84980235e-03 2.99741282e-03]\n",
      " [1.09495038e+00 2.37841124e+00]\n",
      " [2.85790775e-03 5.79133105e-02]]\n",
      "['BinanceCoinSentiment', 'CardanoSentiment', 'Covid19Andalusia', 'Covid3Month', 'DailyOilGasPrices', 'NaturalGasPricesSentiment']\n"
     ]
    }
   ],
   "source": [
    "from aeon.benchmarking import get_estimator_results_as_array\n",
    "\n",
    "results, names = get_estimator_results_as_array(\n",
    "    estimators=[\"DrCIF\", \"InceptionTime\"],\n",
    "    task=\"regression\",\n",
    "    datasets=small_problems,\n",
    "    measure=\"mse\",\n",
    ")\n",
    "print(results)\n",
    "print(names)"
   ],
   "metadata": {
    "collapsed": false
   }
  },
  {
   "cell_type": "markdown",
   "source": [
    "we just need to align our results from the website so they are aligned with the\n",
    "results from our dummy regressor"
   ],
   "metadata": {
    "collapsed": false
   }
  },
  {
   "cell_type": "code",
   "execution_count": 23,
   "outputs": [
    {
     "name": "stdout",
     "output_type": "stream",
     "text": [
      "('BinanceCoinSentiment', 'CardanoSentiment', 'Covid19Andalusia', 'Covid3Month', 'DailyOilGasPrices', 'NaturalGasPricesSentiment')\n",
      "[[1.14739314e-01 1.45357613e-01]\n",
      " [9.82120290e-02 1.43659901e-01]\n",
      " [2.13157844e-04 2.61996200e-04]\n",
      " [1.84980235e-03 2.99741282e-03]\n",
      " [1.09495038e+00 2.37841124e+00]\n",
      " [2.85790775e-03 5.79133105e-02]]\n"
     ]
    }
   ],
   "source": [
    "import numpy as np\n",
    "\n",
    "paired_sorted = sorted(zip(names, results))\n",
    "names, _ = zip(*paired_sorted)\n",
    "sorted_rows = [row for _, row in paired_sorted]\n",
    "sorted_results = np.array(sorted_rows)\n",
    "print(names)\n",
    "print(sorted_results)"
   ],
   "metadata": {
    "collapsed": false
   }
  },
  {
   "cell_type": "markdown",
   "source": [
    "Do the same for our dummy regressor results"
   ],
   "metadata": {
    "collapsed": false
   }
  },
  {
   "cell_type": "code",
   "execution_count": 26,
   "outputs": [
    {
     "name": "stdout",
     "output_type": "stream",
     "text": [
      "('BinanceCoinSentiment', 'CardanoSentiment', 'Covid19Andalusia', 'Covid3Month', 'DailyOilGasPrices', 'NaturalGasPricesSentiment')\n",
      "(0.1317760422312482, 0.09015657223327135, 0.0009514194090128098, 0.0019998715745554777, 3.243472060265722, 0.008141822846139452)\n",
      "[[1.14739314e-01 1.45357613e-01 1.31776042e-01]\n",
      " [9.82120290e-02 1.43659901e-01 9.01565722e-02]\n",
      " [2.13157844e-04 2.61996200e-04 9.51419409e-04]\n",
      " [1.84980235e-03 2.99741282e-03 1.99987157e-03]\n",
      " [1.09495038e+00 2.37841124e+00 3.24347206e+00]\n",
      " [2.85790775e-03 5.79133105e-02 8.14182285e-03]]\n"
     ]
    }
   ],
   "source": [
    "paired = sorted(zip(small_problems, performance))\n",
    "small_problems, performance = zip(*paired)\n",
    "print(small_problems)\n",
    "print(performance)\n",
    "all_results = np.column_stack((sorted_results, performance))\n",
    "print(all_results)\n",
    "regressors = [\"DrCIF\", \"InceptionTime\", \"Dummy\"]"
   ],
   "metadata": {
    "collapsed": false
   }
  },
  {
   "cell_type": "markdown",
   "source": [
    "## Comparing Regressors\n",
    "\n",
    "aeon provides visualisation tools to compare regressors. We can plot the results\n",
    "against each other."
   ],
   "metadata": {
    "collapsed": false
   }
  },
  {
   "cell_type": "code",
   "execution_count": null,
   "outputs": [],
   "source": [
    "# from aeon.visualisation import plot_scatter"
   ],
   "metadata": {
    "collapsed": false
   }
  }
 ],
 "metadata": {
  "kernelspec": {
   "display_name": "Python 3",
   "language": "python",
   "name": "python3"
  },
  "language_info": {
   "codemirror_mode": {
    "name": "ipython",
    "version": 2
   },
   "file_extension": ".py",
   "mimetype": "text/x-python",
   "name": "python",
   "nbconvert_exporter": "python",
   "pygments_lexer": "ipython2",
   "version": "2.7.6"
  }
 },
 "nbformat": 4,
 "nbformat_minor": 0
}
