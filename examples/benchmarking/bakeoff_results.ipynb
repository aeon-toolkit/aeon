{
 "cells": [
  {
   "cell_type": "markdown",
   "metadata": {
    "collapsed": false
   },
   "source": [
    "# Benchmarking: retrieving and comparing against published results\n",
    "\n",
    "You can access all archived published results for time series classification (TSC)\n",
    "directly with aeon. These results are all stored on the website\n",
    "[timeseriesclassification.com](https://timeseriesclassification.com). Coming soon,\n",
    "equivalent results for clustering and classification. These are reference results and\n",
    " will not change. The mechanism for recovering these results is intentionally hard\n",
    " coded and not generalised, to remove any potential for confusion. To more flexibly\n",
    " load the latest results for classification, clustering and regression, see the\n",
    " notebook [Loading reference results](./reference_results.ipynb).\n",
    "\n",
    "These results were presented in three bake offs for classification: The first bake\n",
    "off [1] used 85 UCR univariate TSC datasets. The second bake off [2] introduced the\n",
    "multivariate TSC archive, and compared classifier performance. The third bake off [3],\n",
    "the bake off redux, compared univariate classifiers on 112 UCR datasets. Note the\n",
    "third bake off, or bake off redux as we call it, introduced 30 new datasets.\n",
    "These data and results for them will be available if the paper is accepted for\n",
    "publication.\n",
    "\n",
    "We provide dictionary of classifier/index in results used in each bake off in\n",
    "the file ``aeon.benchmarking.results_loaders``.\n",
    "\n",
    "We compare results with the critical difference graph described in the benchmarking\n",
    "documentation. Note that\n",
    "the way we group classifiers has slightly changed and hence there may be small\n",
    "variation in cliques from published results.\n",
    "\n",
    "The published results for two bake offs can be recovered from [time series\n",
    "repo](https://timeseriesclassification.com/results/PublishedResults/) directly or\n",
    "with aeon."
   ]
  },
  {
   "cell_type": "markdown",
   "source": [
    "## [The great time series classification bake off, 2017](https://link.springer.com/article/10.1007/s10618-016-0483-9)\n",
    "\n",
    "The first TSC bake off, conducted in 2015 and published in 2017 compared 25\n",
    "classifiers on the 85 UCR data that were released in 2015. The classifiers used are:"
   ],
   "metadata": {
    "collapsed": false
   }
  },
  {
   "cell_type": "code",
   "execution_count": 2,
   "metadata": {
    "collapsed": false
   },
   "outputs": [
    {
     "name": "stdout",
     "output_type": "stream",
     "text": [
      "dict_keys(['ACF', 'BOSS', 'CID_DTW', 'CID_ED', 'DDTW_R1_1NN', 'DDTW_Rn_1NN', 'DTW_F', 'EE', 'ERP_1NN', 'Euclidean_1NN', 'FlatCOTE', 'FS', 'LCSS_1NN', 'LPS', 'LS', 'MSM_1NN', 'PS', 'RotF', 'SAXVSM', 'ST', 'TSBF', 'TSF', 'TWE_1NN', 'WDDTW_1NN', 'WDTW_1NN'])\n"
     ]
    }
   ],
   "source": [
    "from aeon.benchmarking.results_loaders import uni_classifiers_2017\n",
    "\n",
    "print(uni_classifiers_2017.keys())"
   ]
  },
  {
   "cell_type": "markdown",
   "source": [
    "The dataset used for the first bake off [1] are described in [4] and listed as\n",
    "``uni_classifiers_2017``. They are listed as:"
   ],
   "metadata": {
    "collapsed": false
   }
  },
  {
   "cell_type": "code",
   "execution_count": 4,
   "outputs": [
    {
     "name": "stdout",
     "output_type": "stream",
     "text": [
      "The 85 UCR univariate datasets described in [4] and used in 2017 bakeoff [1]:\n",
      "{'LargeKitchenAppliances', 'SmallKitchenAppliances', 'OSULeaf', 'TwoPatterns', 'FaceFour', 'Wafer', 'Plane', 'RefrigerationDevices', 'ProximalPhalanxTW', 'TwoLeadECG', 'ProximalPhalanxOutlineCorrect', 'DiatomSizeReduction', 'DistalPhalanxOutlineCorrect', 'Beef', 'WormsTwoClass', 'OliveOil', 'MoteStrain', 'ToeSegmentation1', 'MiddlePhalanxOutlineAgeGroup', 'Worms', 'ArrowHead', 'Lightning2', 'ShapeletSim', 'ElectricDevices', 'Adiac', 'ProximalPhalanxOutlineAgeGroup', 'ECGFiveDays', 'Trace', 'ItalyPowerDemand', 'UWaveGestureLibraryX', 'Computers', 'Ham', 'DistalPhalanxTW', 'Wine', 'FiftyWords', 'BeetleFly', 'CricketZ', 'FordA', 'FordB', 'CricketY', 'GunPoint', 'Coffee', 'FacesUCR', 'UWaveGestureLibraryZ', 'Strawberry', 'UWaveGestureLibraryAll', 'ToeSegmentation2', 'DistalPhalanxOutlineAgeGroup', 'Earthquakes', 'FaceAll', 'NonInvasiveFetalECGThorax2', 'MiddlePhalanxOutlineCorrect', 'CricketX', 'CBF', 'SonyAIBORobotSurface2', 'PhalangesOutlinesCorrect', 'Lightning7', 'ShapesAll', 'ScreenType', 'ChlorineConcentration', 'SyntheticControl', 'InlineSkate', 'ECG200', 'InsectWingbeatSound', 'Car', 'WordSynonyms', 'Fish', 'HandOutlines', 'NonInvasiveFetalECGThorax1', 'SonyAIBORobotSurface1', 'Meat', 'UWaveGestureLibraryY', 'Herring', 'Symbols', 'MedicalImages', 'SwedishLeaf', 'Phoneme', 'Yoga', 'ECG5000', 'MiddlePhalanxTW', 'StarlightCurves', 'Mallat', 'CinCECGTorso', 'Haptics', 'BirdChicken'}\n"
     ]
    }
   ],
   "source": [
    "from aeon.datasets.tsc_data_lists import univariate2015\n",
    "\n",
    "print(\n",
    "    f\"The {len(univariate2015)} UCR univariate datasets described in [4] and used in \"\n",
    "    f\"2017 bakeoff [1]:\\n{univariate2015}\"\n",
    ")"
   ],
   "metadata": {
    "collapsed": false
   }
  },
  {
   "cell_type": "markdown",
   "metadata": {
    "collapsed": false
   },
   "source": [
    "You can pull down results for the original bake off for either the default train/test\n",
    "split and for results averaged over 100 resamples."
   ]
  },
  {
   "cell_type": "code",
   "execution_count": 5,
   "metadata": {
    "collapsed": false
   },
   "outputs": [
    {
     "name": "stdout",
     "output_type": "stream",
     "text": [
      "85 datasets in rows, 25 classifiers in columns\n"
     ]
    }
   ],
   "source": [
    "from aeon.benchmarking.results_loaders import get_bake_off_2017_results\n",
    "\n",
    "default = get_bake_off_2017_results()\n",
    "averaged = get_bake_off_2017_results(default_only=False)\n",
    "print(\n",
    "    f\"{len(univariate2015)} datasets in rows, {len(uni_classifiers_2017)} classifiers \"\n",
    "    f\"in columns\"\n",
    ")"
   ]
  },
  {
   "cell_type": "markdown",
   "metadata": {
    "collapsed": false
   },
   "source": [
    "Once you have the results you want, you can compare classifiers with built in aeon\n",
    " tools.\n",
    "\n",
    "\n",
    "Suppose we want to recreate the critical difference diagram\n",
    " published in [1]:\n",
    "\n",
    "<img src=\"img/bakeoff2015.png\" width=\"1000\" alt=\"bake off 2015\">\n",
    "\n",
    "This displays the critical difference diagram [6] for comparing classifiers. It shows\n",
    " the average rank of each estimator over all datasets. It then groups estimators for\n",
    " which there is no significant difference in rank into cliques, shown with a solid\n",
    " bar. The published results used the original method for finding cliques called the\n",
    " post hoc Nemenyi test. Our plotting tool offers this as an alternative. See the docs\n",
    "  for ``aeon.benchmarking.plot_critical_difference`` for more details. To recreate the\n",
    " above, we can do this (note slight difference in names, ``MSM_1NN`` is `MSM` and\n",
    " ``FlatCOTE`` is ``COTE``."
   ]
  },
  {
   "cell_type": "code",
   "execution_count": null,
   "metadata": {
    "collapsed": false
   },
   "outputs": [],
   "source": [
    "from aeon.benchmarking import plot_critical_difference\n",
    "\n",
    "classifiers = [\"MSM_1NN\", \"LPS\", \"TSBF\", \"TSF\", \"DTW_F\", \"EE\", \"BOSS\", \"ST\", \"FlatCOTE\"]\n",
    "# Get columm positions of classifiers in results\n",
    "indx = [uni_classifiers_2017[key] for key in classifiers if key in uni_classifiers_2017]\n",
    "plot = plot_critical_difference(averaged[:, indx], classifiers, test=\"Nemenyi\")\n",
    "plot.show()"
   ]
  },
  {
   "cell_type": "markdown",
   "metadata": {
    "collapsed": false
   },
   "source": [
    "Note there are some  small differences in averaged rank. This may be due to\n",
    "differences in how ties in rank were handled. The cliques are identical. Given that\n",
    "these results were generated in 2014/2015 and matlab was used to draw the diagrams, we think this\n",
    "is an acceptable reproduction. Subsequent to the 2015 bake off we switched to using\n",
    "pairwise Wilcoxon sign rank tests with the Holm correction. This creates slightly\n",
    "different cliques."
   ]
  },
  {
   "cell_type": "markdown",
   "source": [
    "## The great multivariate time series classification bake off [2], 2021\n",
    "[Link to paper](https://link.springer.com/article/10.1007/s10618-020-00727-3)\n",
    "\n",
    "The multivariate bake off [2] launched a new archive and compared 11 classifiers on 26\n",
    "multivariate TSC problems"
   ],
   "metadata": {
    "collapsed": false
   },
   "outputs": []
  },
  {
   "cell_type": "code",
   "execution_count": null,
   "outputs": [],
   "source": [
    "from aeon.benchmarking.results_loaders import multi_classifiers_2021\n",
    "from aeon.datasets.tsc_data_lists import multivariate_equal_length\n",
    "\n",
    "print(multi_classifiers_2021.keys())\n",
    "print(\n",
    "    f\"The {len(multivariate_equal_length)} TSML multivariate datasets described in \"\n",
    "    f\"and used in the 2021 multivariate bakeoff [1]:\\n{multivariate_equal_length}\"\n",
    ")"
   ],
   "metadata": {
    "collapsed": false
   }
  },
  {
   "cell_type": "markdown",
   "source": [
    "The results table below shows the performance figures for accuracy, balanced\n",
    "accuracy, AUROC and F1.\n",
    "\n",
    "<img src=\"img/bakeoff2021.png\" width=\"1000\" alt=\"bake off 2021\">\n",
    "\n",
    "We can recreate the accuracy graph by loading the results from tsc.com and plotting\n",
    "like so:"
   ],
   "metadata": {
    "collapsed": false
   }
  },
  {
   "cell_type": "code",
   "execution_count": null,
   "outputs": [],
   "source": [
    "from aeon.benchmarking.results_loaders import get_bake_off_2021_results\n",
    "\n",
    "default = get_bake_off_2021_results()\n",
    "averaged = get_bake_off_2021_results(default_only=False)\n",
    "print(\"Shape of results = \", averaged.shape)"
   ],
   "metadata": {
    "collapsed": false
   }
  },
  {
   "cell_type": "code",
   "execution_count": null,
   "outputs": [],
   "source": [
    "plot = plot_critical_difference(averaged, list(multi_classifiers_2021.keys()))"
   ],
   "metadata": {
    "collapsed": false
   }
  },
  {
   "cell_type": "markdown",
   "source": [
    "Note there are some differences in cliques due to slightly different methodology.\n",
    "This will be explained in more detail in a technical document soon. We will also\n",
    "add more reference results in due course."
   ],
   "metadata": {
    "collapsed": false
   }
  }
 ],
 "metadata": {
  "kernelspec": {
   "display_name": "Python 3",
   "language": "python",
   "name": "python3"
  },
  "language_info": {
   "codemirror_mode": {
    "name": "ipython",
    "version": 3
   },
   "file_extension": ".py",
   "mimetype": "text/x-python",
   "name": "python",
   "nbconvert_exporter": "python",
   "pygments_lexer": "ipython3",
   "version": "3.11.5"
  }
 },
 "nbformat": 4,
 "nbformat_minor": 0
}
