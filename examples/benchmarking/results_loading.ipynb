{
 "cells": [
  {
   "cell_type": "markdown",
   "source": [
    "You can access all the latest results for classification, clustering and regression\n",
    "directly with aeon. These results are all stored on the website\n",
    "[timeseriesclassification.com](https://timeseriesclassification.com). These results\n",
    "were presented in three bake offs for classification [1], regression [2] and\n",
    "clustering [3]."
   ],
   "metadata": {
    "collapsed": false
   }
  },
  {
   "cell_type": "code",
   "execution_count": 2,
   "outputs": [
    {
     "ename": "NameError",
     "evalue": "name '__all__' is not defined",
     "output_type": "error",
     "traceback": [
      "\u001B[1;31m---------------------------------------------------------------------------\u001B[0m",
      "\u001B[1;31mNameError\u001B[0m                                 Traceback (most recent call last)",
      "Cell \u001B[1;32mIn[2], line 1\u001B[0m\n\u001B[1;32m----> 1\u001B[0m \u001B[38;5;28;01mfrom\u001B[39;00m \u001B[38;5;21;01maeon\u001B[39;00m\u001B[38;5;21;01m.\u001B[39;00m\u001B[38;5;21;01mbenchmarking\u001B[39;00m\u001B[38;5;21;01m.\u001B[39;00m\u001B[38;5;21;01mresults_loaders\u001B[39;00m \u001B[38;5;28;01mimport\u001B[39;00m get_results_from_tsc_com, get_array_from_tsc_com\n\u001B[0;32m      2\u001B[0m \u001B[38;5;28;01mfrom\u001B[39;00m \u001B[38;5;21;01maeon\u001B[39;00m\u001B[38;5;21;01m.\u001B[39;00m\u001B[38;5;21;01mbenchmarking\u001B[39;00m\u001B[38;5;21;01m.\u001B[39;00m\u001B[38;5;21;01mcritical_difference\u001B[39;00m \u001B[38;5;28;01mimport\u001B[39;00m plot_critical_difference\n\u001B[0;32m      3\u001B[0m classifiers \u001B[38;5;241m=\u001B[39m [\u001B[38;5;124m\"\u001B[39m\u001B[38;5;124mFreshPRINCE\u001B[39m\u001B[38;5;124m\"\u001B[39m, \u001B[38;5;124m\"\u001B[39m\u001B[38;5;124mHC2\u001B[39m\u001B[38;5;124m\"\u001B[39m, \u001B[38;5;124m\"\u001B[39m\u001B[38;5;124mHydra-MR\u001B[39m\u001B[38;5;124m\"\u001B[39m,\u001B[38;5;124m\"\u001B[39m\u001B[38;5;124mInceptionT\u001B[39m\u001B[38;5;124m\"\u001B[39m,\u001B[38;5;124m\"\u001B[39m\u001B[38;5;124mPF\u001B[39m\u001B[38;5;124m\"\u001B[39m,\u001B[38;5;124m\"\u001B[39m\u001B[38;5;124mRDST\u001B[39m\u001B[38;5;124m\"\u001B[39m,]\n",
      "File \u001B[1;32mC:\\Code\\aeon\\aeon\\benchmarking\\results_loaders.py:3\u001B[0m\n\u001B[0;32m      1\u001B[0m \u001B[38;5;66;03m# -*- coding: utf-8 -*-\u001B[39;00m\n\u001B[0;32m      2\u001B[0m \u001B[38;5;124;03m\"\"\"Functions to load and collate results from timeseriesclassification.com.\"\"\"\u001B[39;00m\n\u001B[1;32m----> 3\u001B[0m \u001B[43m__all__\u001B[49m[\u001B[38;5;124m\"\u001B[39m\u001B[38;5;124mget_results_from_tsc_com\u001B[39m\u001B[38;5;124m\"\u001B[39m,\u001B[38;5;124m\"\u001B[39m\u001B[38;5;124mget_array_from_tsc_com\u001B[39m\u001B[38;5;124m\"\u001B[39m]\n\u001B[0;32m      5\u001B[0m \u001B[38;5;28;01mfrom\u001B[39;00m \u001B[38;5;21;01murllib\u001B[39;00m \u001B[38;5;28;01mimport\u001B[39;00m request\n\u001B[0;32m      7\u001B[0m \u001B[38;5;28;01mimport\u001B[39;00m \u001B[38;5;21;01mnumpy\u001B[39;00m \u001B[38;5;28;01mas\u001B[39;00m \u001B[38;5;21;01mnp\u001B[39;00m\n",
      "\u001B[1;31mNameError\u001B[0m: name '__all__' is not defined"
     ]
    }
   ],
   "source": [
    "from aeon.benchmarking.critical_difference import plot_critical_difference\n",
    "from aeon.benchmarking.results_loaders import get_array_from_tsc_com\n",
    "\n",
    "classifiers = [\n",
    "    \"FreshPRINCE\",\n",
    "    \"HC2\",\n",
    "    \"Hydra-MR\",\n",
    "    \"InceptionT\",\n",
    "    \"PF\",\n",
    "    \"RDST\",\n",
    "]\n",
    "arr, data_names = get_array_from_tsc_com(classifiers=classifiers)\n",
    "plot_critical_difference(1 - arr, classifiers)"
   ],
   "metadata": {
    "collapsed": false
   }
  },
  {
   "cell_type": "markdown",
   "source": [],
   "metadata": {
    "collapsed": false
   }
  }
 ],
 "metadata": {
  "kernelspec": {
   "display_name": "Python 3",
   "language": "python",
   "name": "python3"
  },
  "language_info": {
   "codemirror_mode": {
    "name": "ipython",
    "version": 2
   },
   "file_extension": ".py",
   "mimetype": "text/x-python",
   "name": "python",
   "nbconvert_exporter": "python",
   "pygments_lexer": "ipython2",
   "version": "2.7.6"
  }
 },
 "nbformat": 4,
 "nbformat_minor": 0
}
