{
 "cells": [
  {
   "cell_type": "markdown",
   "source": [
    "# Benchmarking: retrieving and comparing against reference results\n",
    "\n",
    "You can access all  the latest results for classification, clustering and\n",
    "regression directly with aeon. These results are all stored on the website\n",
    "\n",
    "[timeseriesclassification.com](https://timeseriesclassification.com). These\n",
    "results were presented in three bake offs for classification [1],\n",
    "regression [2] and clustering [3]. We use three aeon classifiers for\n",
    "our examples.\n",
    "\n",
    "FreshPRINCE [4] (located in classification/feature_based) is a\n",
    "pipeline of TSFresh transform followed by a rotation forest classifier.\n",
    "InceptionTimeClassifier [5] is a deep learning ensemble.\n",
    "\n",
    "HIVECOTEV2 [6] is a meta\n",
    "ensemble of four different ensembles built on different representations.\n",
    "See [1] for an overview of recent advances in time series  classification."
   ],
   "metadata": {
    "collapsed": false
   }
  },
  {
   "cell_type": "code",
   "execution_count": 1,
   "outputs": [
    {
     "ename": "ModuleNotFoundError",
     "evalue": "No module named 'aeon.datasets.tsc_dataset_names'",
     "output_type": "error",
     "traceback": [
      "\u001B[1;31m---------------------------------------------------------------------------\u001B[0m",
      "\u001B[1;31mModuleNotFoundError\u001B[0m                       Traceback (most recent call last)",
      "Cell \u001B[1;32mIn[1], line 1\u001B[0m\n\u001B[1;32m----> 1\u001B[0m \u001B[38;5;28;01mfrom\u001B[39;00m \u001B[38;5;21;01maeon\u001B[39;00m\u001B[38;5;21;01m.\u001B[39;00m\u001B[38;5;21;01mbenchmarking\u001B[39;00m \u001B[38;5;28;01mimport\u001B[39;00m plot_critical_difference\n\u001B[0;32m      2\u001B[0m \u001B[38;5;28;01mfrom\u001B[39;00m \u001B[38;5;21;01maeon\u001B[39;00m\u001B[38;5;21;01m.\u001B[39;00m\u001B[38;5;21;01mbenchmarking\u001B[39;00m\u001B[38;5;21;01m.\u001B[39;00m\u001B[38;5;21;01mresults_loaders\u001B[39;00m \u001B[38;5;28;01mimport\u001B[39;00m (\n\u001B[0;32m      3\u001B[0m     get_estimator_results,\n\u001B[0;32m      4\u001B[0m     get_estimator_results_as_array,\n\u001B[0;32m      5\u001B[0m )\n\u001B[0;32m      7\u001B[0m classifiers \u001B[38;5;241m=\u001B[39m [\n\u001B[0;32m      8\u001B[0m     \u001B[38;5;124m\"\u001B[39m\u001B[38;5;124mFreshPRINCEClassifier\u001B[39m\u001B[38;5;124m\"\u001B[39m,\n\u001B[0;32m      9\u001B[0m     \u001B[38;5;124m\"\u001B[39m\u001B[38;5;124mHIVECOTEV2\u001B[39m\u001B[38;5;124m\"\u001B[39m,\n\u001B[0;32m     10\u001B[0m     \u001B[38;5;124m\"\u001B[39m\u001B[38;5;124mInceptionTimeClassifier\u001B[39m\u001B[38;5;124m\"\u001B[39m,\n\u001B[0;32m     11\u001B[0m ]\n",
      "File \u001B[1;32mC:\\Code\\aeon\\aeon\\benchmarking\\__init__.py:11\u001B[0m\n\u001B[0;32m      3\u001B[0m __all__ \u001B[38;5;241m=\u001B[39m [\n\u001B[0;32m      4\u001B[0m     \u001B[38;5;124m\"\u001B[39m\u001B[38;5;124mplot_critical_difference\u001B[39m\u001B[38;5;124m\"\u001B[39m,\n\u001B[0;32m      5\u001B[0m     \u001B[38;5;124m\"\u001B[39m\u001B[38;5;124mget_available_estimators\u001B[39m\u001B[38;5;124m\"\u001B[39m,\n\u001B[0;32m      6\u001B[0m     \u001B[38;5;124m\"\u001B[39m\u001B[38;5;124mget_estimator_results\u001B[39m\u001B[38;5;124m\"\u001B[39m,\n\u001B[0;32m      7\u001B[0m     \u001B[38;5;124m\"\u001B[39m\u001B[38;5;124mget_estimator_results_as_array\u001B[39m\u001B[38;5;124m\"\u001B[39m,\n\u001B[0;32m      8\u001B[0m ]\n\u001B[0;32m     10\u001B[0m \u001B[38;5;28;01mfrom\u001B[39;00m \u001B[38;5;21;01maeon\u001B[39;00m\u001B[38;5;21;01m.\u001B[39;00m\u001B[38;5;21;01mbenchmarking\u001B[39;00m\u001B[38;5;21;01m.\u001B[39;00m\u001B[38;5;21;01m_critical_difference\u001B[39;00m \u001B[38;5;28;01mimport\u001B[39;00m plot_critical_difference\n\u001B[1;32m---> 11\u001B[0m \u001B[38;5;28;01mfrom\u001B[39;00m \u001B[38;5;21;01maeon\u001B[39;00m\u001B[38;5;21;01m.\u001B[39;00m\u001B[38;5;21;01mbenchmarking\u001B[39;00m\u001B[38;5;21;01m.\u001B[39;00m\u001B[38;5;21;01mresults_loaders\u001B[39;00m \u001B[38;5;28;01mimport\u001B[39;00m (\n\u001B[0;32m     12\u001B[0m     get_available_estimators,\n\u001B[0;32m     13\u001B[0m     get_estimator_results,\n\u001B[0;32m     14\u001B[0m     get_estimator_results_as_array,\n\u001B[0;32m     15\u001B[0m )\n",
      "File \u001B[1;32mC:\\Code\\aeon\\aeon\\benchmarking\\results_loaders.py:14\u001B[0m\n\u001B[0;32m     11\u001B[0m \u001B[38;5;28;01mimport\u001B[39;00m \u001B[38;5;21;01mnumpy\u001B[39;00m \u001B[38;5;28;01mas\u001B[39;00m \u001B[38;5;21;01mnp\u001B[39;00m\n\u001B[0;32m     12\u001B[0m \u001B[38;5;28;01mimport\u001B[39;00m \u001B[38;5;21;01mpandas\u001B[39;00m \u001B[38;5;28;01mas\u001B[39;00m \u001B[38;5;21;01mpd\u001B[39;00m\n\u001B[1;32m---> 14\u001B[0m \u001B[38;5;28;01mfrom\u001B[39;00m \u001B[38;5;21;01maeon\u001B[39;00m\u001B[38;5;21;01m.\u001B[39;00m\u001B[38;5;21;01mdatasets\u001B[39;00m\u001B[38;5;21;01m.\u001B[39;00m\u001B[38;5;21;01mtsc_dataset_names\u001B[39;00m \u001B[38;5;28;01mimport\u001B[39;00m univariate \u001B[38;5;28;01mas\u001B[39;00m UCR\n\u001B[0;32m     16\u001B[0m VALID_RESULT_TYPES \u001B[38;5;241m=\u001B[39m [\u001B[38;5;124m\"\u001B[39m\u001B[38;5;124maccuracy\u001B[39m\u001B[38;5;124m\"\u001B[39m, \u001B[38;5;124m\"\u001B[39m\u001B[38;5;124mauroc\u001B[39m\u001B[38;5;124m\"\u001B[39m, \u001B[38;5;124m\"\u001B[39m\u001B[38;5;124mbalancedaccuracy\u001B[39m\u001B[38;5;124m\"\u001B[39m]\n\u001B[0;32m     17\u001B[0m VALID_TASK_TYPES \u001B[38;5;241m=\u001B[39m [\u001B[38;5;124m\"\u001B[39m\u001B[38;5;124mclassification\u001B[39m\u001B[38;5;124m\"\u001B[39m, \u001B[38;5;124m\"\u001B[39m\u001B[38;5;124mclustering\u001B[39m\u001B[38;5;124m\"\u001B[39m, \u001B[38;5;124m\"\u001B[39m\u001B[38;5;124mregression\u001B[39m\u001B[38;5;124m\"\u001B[39m]\n",
      "\u001B[1;31mModuleNotFoundError\u001B[0m: No module named 'aeon.datasets.tsc_dataset_names'"
     ]
    }
   ],
   "source": [
    "from aeon.benchmarking import plot_critical_difference\n",
    "from aeon.benchmarking.results_loaders import (\n",
    "    get_estimator_results,\n",
    "    get_estimator_results_as_array,\n",
    ")\n",
    "\n",
    "classifiers = [\n",
    "    \"FreshPRINCEClassifier\",\n",
    "    \"HIVECOTEV2\",\n",
    "    \"InceptionTimeClassifier\",\n",
    "]\n",
    "datasets = [\"ACSF1\", \"ArrowHead\", \"GunPoint\", \"ItalyPowerDemand\"]\n",
    "# get results. To read locally, set the path variable.\n",
    "# If you do not set path, results are loaded from\n",
    "# https://timeseriesclassification.com/results/ReferenceResults.\n",
    "# You can download the files directly from there\n",
    "default_split_all, data_names = get_estimator_results_as_array(estimators=classifiers)\n",
    "print(\n",
    "    \" Returns an array with each column an estimator, shape (data_names, classifiers)\"\n",
    ")\n",
    "print(\n",
    "    f\" By default recovers the default test split results for {len(data_names)} \"\n",
    "    f\"equal length UCR datasets from {data_names[0]} to {data_names[-1]}\"\n",
    ")\n",
    "default_split_some, names = get_estimator_results_as_array(\n",
    "    estimators=classifiers, datasets=datasets\n",
    ")\n",
    "print(\n",
    "    f\" Or specify data sets for result recovery. {len(names)} For example, \"\n",
    "    f\"HIVECOTEV2 accuracy {names[3]} = {default_split_some[3][1]}\"\n",
    ")"
   ],
   "metadata": {
    "collapsed": false
   }
  },
  {
   "cell_type": "markdown",
   "source": [
    "If you have any questions about these results or the datasets, please raise an issue\n",
    "on the associated [repo](https://github.com/time-series-machine-learning/tsml-repo). You can also recover\n",
    "results in a dictionary, where each key is a classifier name, and the values is a\n",
    "dictionary of problems/results.\n"
   ],
   "metadata": {
    "collapsed": false
   }
  },
  {
   "cell_type": "code",
   "execution_count": null,
   "outputs": [],
   "source": [
    "hash_table = get_estimator_results(estimators=classifiers)\n",
    "print(\"Keys = \", hash_table.keys())\n",
    "print(\n",
    "    \" Accuracy of HIVECOTEV2 on ItalyPowerDemand = \",\n",
    "    hash_table[\"HIVECOTEV2\"][\"ItalyPowerDemand\"],\n",
    ")"
   ],
   "metadata": {
    "collapsed": false
   }
  },
  {
   "cell_type": "markdown",
   "source": [
    "The results recovered so far have all been on the default train/test split. If we\n",
    "merge train and test data and resample, you can get very different results. To allow\n",
    "for this, we average results over 30 resamples. You can recover these\n",
    "averages by setting the `default_only` parameter to `False`."
   ],
   "metadata": {
    "collapsed": false
   }
  },
  {
   "cell_type": "code",
   "execution_count": null,
   "outputs": [],
   "source": [
    "resamples_all, data_names = get_estimator_results_as_array(\n",
    "    estimators=classifiers, default_only=False\n",
    ")\n",
    "print(\" Results are averaged over 30 stratified resamples. \")\n",
    "print(\n",
    "    f\" HIVECOTEV2 train test of  {data_names[3]} = \"\n",
    "    f\"{default_split_all[3][1]} and averaged over 30 resamples = \"\n",
    "    f\"{resamples_all[3][1]}\"\n",
    ")"
   ],
   "metadata": {
    "collapsed": false
   }
  },
  {
   "cell_type": "markdown",
   "source": [
    "So once you have the results you want, you can compare classifiers with built in aeon\n",
    " tools. For example, you can draw a critical difference diagram [7]. This displays\n",
    " the average rank of each estimator over all datasets. It then groups estimators for\n",
    " which there is no significant difference in rank into cliques, shown with a solid\n",
    " bar. So in the example below with the default train test splits,\n",
    " FreshPRINCEClassifier is not significantly different in ranks to\n",
    " InceptionTimeClassifier, but HIVECOTEV2 is significantly better.\n"
   ],
   "metadata": {
    "collapsed": false
   }
  },
  {
   "cell_type": "code",
   "execution_count": null,
   "outputs": [],
   "source": [
    "plot_critical_difference(default_split_all, classifiers)"
   ],
   "metadata": {
    "collapsed": false
   }
  },
  {
   "cell_type": "markdown",
   "source": [
    "If we use the data averaged over resamples, we can detect differences more clearly.\n",
    "Now we see InceptionTimeClassifier is significantly better than the\n",
    "FreshPRINCEClassifier."
   ],
   "metadata": {
    "collapsed": false
   }
  },
  {
   "cell_type": "markdown",
   "source": [
    "plot_critical_difference(resamples_all, classifiers)"
   ],
   "metadata": {
    "collapsed": false
   }
  },
  {
   "cell_type": "markdown",
   "source": [
    "tsc.com has results for classification, clustering and regression. We are constantly\n",
    "updating the results as we generate them. To find out which estimators have results\n",
    " `get_available_estimators`"
   ],
   "metadata": {
    "collapsed": false
   }
  },
  {
   "cell_type": "code",
   "execution_count": null,
   "outputs": [],
   "source": [
    "from aeon.benchmarking import get_available_estimators\n",
    "\n",
    "print(get_available_estimators(task=\"Classification\"))\n",
    "# print(get_available_estimators(task=\"Regression\"))\n",
    "# print(get_available_estimators(task=\"Clustering\"))"
   ],
   "metadata": {
    "collapsed": false
   }
  },
  {
   "cell_type": "markdown",
   "source": [
    "Other tools are available for comparing classifiers.\n",
    "1. Boxplot of deviations from the median\n",
    "2. Pairwise scatter plots\n",
    "3. Perform all pairwise tests\n",
    "4."
   ],
   "metadata": {
    "collapsed": false
   }
  },
  {
   "cell_type": "markdown",
   "source": [
    "# References\n",
    "[1] Middlehurst et al. \"Bake off redux: a review and experimental evaluation of\n",
    "recent time series classification algorithms\", 2023, [arXiv](https://arxiv.org/abs/2304.13029)\n",
    "[2] Holder et al.  \"A Review and Evaluation of Elastic Distance Functions for Time Series Clustering\", 2022, [arXiv](https://arxiv.org/abs/2205.15181)\n",
    "[3] Guijo-Rubio et al. \"Unsupervised Feature Based Algorithms for Time Series\n",
    "Extrinsic Regression\", 2023 [arXiv](https://arxiv.org/abs/2305.01429)\n",
    "[4] Middlehurst and Bagnall, \"The FreshPRINCE: A Simple Transformation Based Pipeline\n",
    " Time Series Classifier\", 2022 [arXiv](https://arxiv.org/abs/2201.12048)\n",
    "[5] Fawaz et al. \"InceptionTime: Finding AlexNet for time series classification\", 2020\n",
    "[DAMI](https://link.springer.com/article/10.1007/s10618-020-00710-y)\n",
    "[6] Middlehurst et al. \"HIVE-COTE 2.0: a new meta ensemble for time series\n",
    "classification\", [MACH](https://link.springer.com/article/10.1007/s10994-021-06057-9)\n",
    "[7] Demsar, \"Statistical Comparisons of Classifiers\n",
    "over Multiple Data Sets\" [JMLR](https://www.jmlr.org/papers/volume7/demsar06a/demsar06a.pdf)"
   ],
   "metadata": {
    "collapsed": false
   }
  }
 ],
 "metadata": {
  "kernelspec": {
   "display_name": "Python 3",
   "language": "python",
   "name": "python3"
  },
  "language_info": {
   "codemirror_mode": {
    "name": "ipython",
    "version": 2
   },
   "file_extension": ".py",
   "mimetype": "text/x-python",
   "name": "python",
   "nbconvert_exporter": "python",
   "pygments_lexer": "ipython2",
   "version": "2.7.6"
  }
 },
 "nbformat": 4,
 "nbformat_minor": 0
}
