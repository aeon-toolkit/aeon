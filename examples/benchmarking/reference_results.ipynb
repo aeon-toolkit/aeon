{
 "cells": [
  {
   "cell_type": "markdown",
   "metadata": {
    "collapsed": false
   },
   "source": [
    "# Benchmarking: retrieving and comparing against reference results\n",
    "\n",
    "You can access all the latest results for classification, clustering and\n",
    "regression directly with ``aeon``. These results are all stored on the website\n",
    "[timeseriesclassification.com](https://timeseriesclassification.com). This notebook\n",
    "is about recovering the latest results. Because of software changes, these may vary\n",
    "slightly from published results. If you want to recover published results, see the notebook \n",
    "on [loading published results](./published_results.ipynb). We update the results as we \n",
    "get them. If you want to see the latest results, they are listed \n",
    "[here](https://timeseriesclassification.com/).\n",
    "\n",
    "These are the current estimators with results available:"
   ]
  },
  {
   "cell_type": "code",
   "metadata": {
    "collapsed": false,
    "ExecuteTime": {
     "end_time": "2024-10-29T13:24:12.148869Z",
     "start_time": "2024-10-29T13:24:11.817726Z"
    }
   },
   "source": [
    "from aeon.benchmarking.results_loaders import get_available_estimators\n",
    "\n",
    "get_available_estimators(task=\"classification\")"
   ],
   "outputs": [
    {
     "data": {
      "text/plain": [
       "     classification\n",
       "0           1NN-DTW\n",
       "1           Arsenal\n",
       "2              BOSS\n",
       "3               CIF\n",
       "4               CNN\n",
       "5           Catch22\n",
       "6             DrCIF\n",
       "7                EE\n",
       "8       FreshPRINCE\n",
       "9             GRAIL\n",
       "10  H-InceptionTime\n",
       "11              HC1\n",
       "12              HC2\n",
       "13            Hydra\n",
       "14    InceptionTime\n",
       "15         LiteTime\n",
       "16               MR\n",
       "17         MR-Hydra\n",
       "18       MiniROCKET\n",
       "19            MrSQM\n",
       "20               PF\n",
       "21            QUANT\n",
       "22           R-STSF\n",
       "23             RDST\n",
       "24             RISE\n",
       "25             RIST\n",
       "26           ROCKET\n",
       "27              RSF\n",
       "28           ResNet\n",
       "29              STC\n",
       "30             STSF\n",
       "31         ShapeDTW\n",
       "32       Signatures\n",
       "33              TDE\n",
       "34         TS-CHIEF\n",
       "35              TSF\n",
       "36          TSFresh\n",
       "37       WEASEL-1.0\n",
       "38       WEASEL-2.0\n",
       "39            cBOSS"
      ],
      "text/html": [
       "<div>\n",
       "<style scoped>\n",
       "    .dataframe tbody tr th:only-of-type {\n",
       "        vertical-align: middle;\n",
       "    }\n",
       "\n",
       "    .dataframe tbody tr th {\n",
       "        vertical-align: top;\n",
       "    }\n",
       "\n",
       "    .dataframe thead th {\n",
       "        text-align: right;\n",
       "    }\n",
       "</style>\n",
       "<table border=\"1\" class=\"dataframe\">\n",
       "  <thead>\n",
       "    <tr style=\"text-align: right;\">\n",
       "      <th></th>\n",
       "      <th>classification</th>\n",
       "    </tr>\n",
       "  </thead>\n",
       "  <tbody>\n",
       "    <tr>\n",
       "      <th>0</th>\n",
       "      <td>1NN-DTW</td>\n",
       "    </tr>\n",
       "    <tr>\n",
       "      <th>1</th>\n",
       "      <td>Arsenal</td>\n",
       "    </tr>\n",
       "    <tr>\n",
       "      <th>2</th>\n",
       "      <td>BOSS</td>\n",
       "    </tr>\n",
       "    <tr>\n",
       "      <th>3</th>\n",
       "      <td>CIF</td>\n",
       "    </tr>\n",
       "    <tr>\n",
       "      <th>4</th>\n",
       "      <td>CNN</td>\n",
       "    </tr>\n",
       "    <tr>\n",
       "      <th>5</th>\n",
       "      <td>Catch22</td>\n",
       "    </tr>\n",
       "    <tr>\n",
       "      <th>6</th>\n",
       "      <td>DrCIF</td>\n",
       "    </tr>\n",
       "    <tr>\n",
       "      <th>7</th>\n",
       "      <td>EE</td>\n",
       "    </tr>\n",
       "    <tr>\n",
       "      <th>8</th>\n",
       "      <td>FreshPRINCE</td>\n",
       "    </tr>\n",
       "    <tr>\n",
       "      <th>9</th>\n",
       "      <td>GRAIL</td>\n",
       "    </tr>\n",
       "    <tr>\n",
       "      <th>10</th>\n",
       "      <td>H-InceptionTime</td>\n",
       "    </tr>\n",
       "    <tr>\n",
       "      <th>11</th>\n",
       "      <td>HC1</td>\n",
       "    </tr>\n",
       "    <tr>\n",
       "      <th>12</th>\n",
       "      <td>HC2</td>\n",
       "    </tr>\n",
       "    <tr>\n",
       "      <th>13</th>\n",
       "      <td>Hydra</td>\n",
       "    </tr>\n",
       "    <tr>\n",
       "      <th>14</th>\n",
       "      <td>InceptionTime</td>\n",
       "    </tr>\n",
       "    <tr>\n",
       "      <th>15</th>\n",
       "      <td>LiteTime</td>\n",
       "    </tr>\n",
       "    <tr>\n",
       "      <th>16</th>\n",
       "      <td>MR</td>\n",
       "    </tr>\n",
       "    <tr>\n",
       "      <th>17</th>\n",
       "      <td>MR-Hydra</td>\n",
       "    </tr>\n",
       "    <tr>\n",
       "      <th>18</th>\n",
       "      <td>MiniROCKET</td>\n",
       "    </tr>\n",
       "    <tr>\n",
       "      <th>19</th>\n",
       "      <td>MrSQM</td>\n",
       "    </tr>\n",
       "    <tr>\n",
       "      <th>20</th>\n",
       "      <td>PF</td>\n",
       "    </tr>\n",
       "    <tr>\n",
       "      <th>21</th>\n",
       "      <td>QUANT</td>\n",
       "    </tr>\n",
       "    <tr>\n",
       "      <th>22</th>\n",
       "      <td>R-STSF</td>\n",
       "    </tr>\n",
       "    <tr>\n",
       "      <th>23</th>\n",
       "      <td>RDST</td>\n",
       "    </tr>\n",
       "    <tr>\n",
       "      <th>24</th>\n",
       "      <td>RISE</td>\n",
       "    </tr>\n",
       "    <tr>\n",
       "      <th>25</th>\n",
       "      <td>RIST</td>\n",
       "    </tr>\n",
       "    <tr>\n",
       "      <th>26</th>\n",
       "      <td>ROCKET</td>\n",
       "    </tr>\n",
       "    <tr>\n",
       "      <th>27</th>\n",
       "      <td>RSF</td>\n",
       "    </tr>\n",
       "    <tr>\n",
       "      <th>28</th>\n",
       "      <td>ResNet</td>\n",
       "    </tr>\n",
       "    <tr>\n",
       "      <th>29</th>\n",
       "      <td>STC</td>\n",
       "    </tr>\n",
       "    <tr>\n",
       "      <th>30</th>\n",
       "      <td>STSF</td>\n",
       "    </tr>\n",
       "    <tr>\n",
       "      <th>31</th>\n",
       "      <td>ShapeDTW</td>\n",
       "    </tr>\n",
       "    <tr>\n",
       "      <th>32</th>\n",
       "      <td>Signatures</td>\n",
       "    </tr>\n",
       "    <tr>\n",
       "      <th>33</th>\n",
       "      <td>TDE</td>\n",
       "    </tr>\n",
       "    <tr>\n",
       "      <th>34</th>\n",
       "      <td>TS-CHIEF</td>\n",
       "    </tr>\n",
       "    <tr>\n",
       "      <th>35</th>\n",
       "      <td>TSF</td>\n",
       "    </tr>\n",
       "    <tr>\n",
       "      <th>36</th>\n",
       "      <td>TSFresh</td>\n",
       "    </tr>\n",
       "    <tr>\n",
       "      <th>37</th>\n",
       "      <td>WEASEL-1.0</td>\n",
       "    </tr>\n",
       "    <tr>\n",
       "      <th>38</th>\n",
       "      <td>WEASEL-2.0</td>\n",
       "    </tr>\n",
       "    <tr>\n",
       "      <th>39</th>\n",
       "      <td>cBOSS</td>\n",
       "    </tr>\n",
       "  </tbody>\n",
       "</table>\n",
       "</div>"
      ]
     },
     "execution_count": 1,
     "metadata": {},
     "output_type": "execute_result"
    }
   ],
   "execution_count": 1
  },
  {
   "cell_type": "code",
   "metadata": {
    "collapsed": false,
    "ExecuteTime": {
     "end_time": "2024-10-29T13:24:12.206687Z",
     "start_time": "2024-10-29T13:24:12.179759Z"
    }
   },
   "source": [
    "get_available_estimators(task=\"regression\")"
   ],
   "outputs": [
    {
     "data": {
      "text/plain": [
       "             regression\n",
       "0               1NN-DTW\n",
       "1                1NN-ED\n",
       "2               5NN-DTW\n",
       "3                5NN-ED\n",
       "4                   CNN\n",
       "5                 DrCIF\n",
       "6                   FCN\n",
       "7                  FPCR\n",
       "8         FPCR-b-spline\n",
       "9           FreshPRINCE\n",
       "10              GridSVR\n",
       "11        InceptionTime\n",
       "12                RandF\n",
       "13               ResNet\n",
       "14                Ridge\n",
       "15               ROCKET\n",
       "16                 RotF\n",
       "17  SingleInceptionTime\n",
       "18              XGBoost"
      ],
      "text/html": [
       "<div>\n",
       "<style scoped>\n",
       "    .dataframe tbody tr th:only-of-type {\n",
       "        vertical-align: middle;\n",
       "    }\n",
       "\n",
       "    .dataframe tbody tr th {\n",
       "        vertical-align: top;\n",
       "    }\n",
       "\n",
       "    .dataframe thead th {\n",
       "        text-align: right;\n",
       "    }\n",
       "</style>\n",
       "<table border=\"1\" class=\"dataframe\">\n",
       "  <thead>\n",
       "    <tr style=\"text-align: right;\">\n",
       "      <th></th>\n",
       "      <th>regression</th>\n",
       "    </tr>\n",
       "  </thead>\n",
       "  <tbody>\n",
       "    <tr>\n",
       "      <th>0</th>\n",
       "      <td>1NN-DTW</td>\n",
       "    </tr>\n",
       "    <tr>\n",
       "      <th>1</th>\n",
       "      <td>1NN-ED</td>\n",
       "    </tr>\n",
       "    <tr>\n",
       "      <th>2</th>\n",
       "      <td>5NN-DTW</td>\n",
       "    </tr>\n",
       "    <tr>\n",
       "      <th>3</th>\n",
       "      <td>5NN-ED</td>\n",
       "    </tr>\n",
       "    <tr>\n",
       "      <th>4</th>\n",
       "      <td>CNN</td>\n",
       "    </tr>\n",
       "    <tr>\n",
       "      <th>5</th>\n",
       "      <td>DrCIF</td>\n",
       "    </tr>\n",
       "    <tr>\n",
       "      <th>6</th>\n",
       "      <td>FCN</td>\n",
       "    </tr>\n",
       "    <tr>\n",
       "      <th>7</th>\n",
       "      <td>FPCR</td>\n",
       "    </tr>\n",
       "    <tr>\n",
       "      <th>8</th>\n",
       "      <td>FPCR-b-spline</td>\n",
       "    </tr>\n",
       "    <tr>\n",
       "      <th>9</th>\n",
       "      <td>FreshPRINCE</td>\n",
       "    </tr>\n",
       "    <tr>\n",
       "      <th>10</th>\n",
       "      <td>GridSVR</td>\n",
       "    </tr>\n",
       "    <tr>\n",
       "      <th>11</th>\n",
       "      <td>InceptionTime</td>\n",
       "    </tr>\n",
       "    <tr>\n",
       "      <th>12</th>\n",
       "      <td>RandF</td>\n",
       "    </tr>\n",
       "    <tr>\n",
       "      <th>13</th>\n",
       "      <td>ResNet</td>\n",
       "    </tr>\n",
       "    <tr>\n",
       "      <th>14</th>\n",
       "      <td>Ridge</td>\n",
       "    </tr>\n",
       "    <tr>\n",
       "      <th>15</th>\n",
       "      <td>ROCKET</td>\n",
       "    </tr>\n",
       "    <tr>\n",
       "      <th>16</th>\n",
       "      <td>RotF</td>\n",
       "    </tr>\n",
       "    <tr>\n",
       "      <th>17</th>\n",
       "      <td>SingleInceptionTime</td>\n",
       "    </tr>\n",
       "    <tr>\n",
       "      <th>18</th>\n",
       "      <td>XGBoost</td>\n",
       "    </tr>\n",
       "  </tbody>\n",
       "</table>\n",
       "</div>"
      ]
     },
     "execution_count": 2,
     "metadata": {},
     "output_type": "execute_result"
    }
   ],
   "execution_count": 2
  },
  {
   "cell_type": "code",
   "metadata": {
    "collapsed": false,
    "ExecuteTime": {
     "end_time": "2024-10-29T13:24:12.261540Z",
     "start_time": "2024-10-29T13:24:12.234612Z"
    }
   },
   "source": [
    "get_available_estimators(task=\"clustering\")"
   ],
   "outputs": [
    {
     "data": {
      "text/plain": [
       "        clustering\n",
       "0          dtw-dba\n",
       "1      kmeans-ddtw\n",
       "2       kmeans-dtw\n",
       "3        kmeans-ed\n",
       "4       kmeans-edr\n",
       "5       kmeans-erp\n",
       "6      kmeans-lcss\n",
       "7       kmeans-msm\n",
       "8       kmeans-twe\n",
       "9     kmeans-wddtw\n",
       "10     kmeans-wdtw\n",
       "11   kmedoids-ddtw\n",
       "12    kmedoids-dtw\n",
       "13     kmedoids-ed\n",
       "14    kmedoids-edr\n",
       "15    kmedoids-erp\n",
       "16   kmedoids-lcss\n",
       "17    kmedoids-msm\n",
       "18    kmedoids-twe\n",
       "19  kmedoids-wddtw\n",
       "20   kmedoids-wdtw"
      ],
      "text/html": [
       "<div>\n",
       "<style scoped>\n",
       "    .dataframe tbody tr th:only-of-type {\n",
       "        vertical-align: middle;\n",
       "    }\n",
       "\n",
       "    .dataframe tbody tr th {\n",
       "        vertical-align: top;\n",
       "    }\n",
       "\n",
       "    .dataframe thead th {\n",
       "        text-align: right;\n",
       "    }\n",
       "</style>\n",
       "<table border=\"1\" class=\"dataframe\">\n",
       "  <thead>\n",
       "    <tr style=\"text-align: right;\">\n",
       "      <th></th>\n",
       "      <th>clustering</th>\n",
       "    </tr>\n",
       "  </thead>\n",
       "  <tbody>\n",
       "    <tr>\n",
       "      <th>0</th>\n",
       "      <td>dtw-dba</td>\n",
       "    </tr>\n",
       "    <tr>\n",
       "      <th>1</th>\n",
       "      <td>kmeans-ddtw</td>\n",
       "    </tr>\n",
       "    <tr>\n",
       "      <th>2</th>\n",
       "      <td>kmeans-dtw</td>\n",
       "    </tr>\n",
       "    <tr>\n",
       "      <th>3</th>\n",
       "      <td>kmeans-ed</td>\n",
       "    </tr>\n",
       "    <tr>\n",
       "      <th>4</th>\n",
       "      <td>kmeans-edr</td>\n",
       "    </tr>\n",
       "    <tr>\n",
       "      <th>5</th>\n",
       "      <td>kmeans-erp</td>\n",
       "    </tr>\n",
       "    <tr>\n",
       "      <th>6</th>\n",
       "      <td>kmeans-lcss</td>\n",
       "    </tr>\n",
       "    <tr>\n",
       "      <th>7</th>\n",
       "      <td>kmeans-msm</td>\n",
       "    </tr>\n",
       "    <tr>\n",
       "      <th>8</th>\n",
       "      <td>kmeans-twe</td>\n",
       "    </tr>\n",
       "    <tr>\n",
       "      <th>9</th>\n",
       "      <td>kmeans-wddtw</td>\n",
       "    </tr>\n",
       "    <tr>\n",
       "      <th>10</th>\n",
       "      <td>kmeans-wdtw</td>\n",
       "    </tr>\n",
       "    <tr>\n",
       "      <th>11</th>\n",
       "      <td>kmedoids-ddtw</td>\n",
       "    </tr>\n",
       "    <tr>\n",
       "      <th>12</th>\n",
       "      <td>kmedoids-dtw</td>\n",
       "    </tr>\n",
       "    <tr>\n",
       "      <th>13</th>\n",
       "      <td>kmedoids-ed</td>\n",
       "    </tr>\n",
       "    <tr>\n",
       "      <th>14</th>\n",
       "      <td>kmedoids-edr</td>\n",
       "    </tr>\n",
       "    <tr>\n",
       "      <th>15</th>\n",
       "      <td>kmedoids-erp</td>\n",
       "    </tr>\n",
       "    <tr>\n",
       "      <th>16</th>\n",
       "      <td>kmedoids-lcss</td>\n",
       "    </tr>\n",
       "    <tr>\n",
       "      <th>17</th>\n",
       "      <td>kmedoids-msm</td>\n",
       "    </tr>\n",
       "    <tr>\n",
       "      <th>18</th>\n",
       "      <td>kmedoids-twe</td>\n",
       "    </tr>\n",
       "    <tr>\n",
       "      <th>19</th>\n",
       "      <td>kmedoids-wddtw</td>\n",
       "    </tr>\n",
       "    <tr>\n",
       "      <th>20</th>\n",
       "      <td>kmedoids-wdtw</td>\n",
       "    </tr>\n",
       "  </tbody>\n",
       "</table>\n",
       "</div>"
      ]
     },
     "execution_count": 3,
     "metadata": {},
     "output_type": "execute_result"
    }
   ],
   "execution_count": 3
  },
  {
   "cell_type": "markdown",
   "metadata": {
    "collapsed": false
   },
   "source": [
    "## Loading results (classification example)\n",
    "\n",
    "We will use the classification task as an example. We will recover the results for\n",
    "FreshPRINCE [[4]](#references) a pipeline of TSFresh transform followed by a rotation forest classifier.\n",
    "InceptionTimeClassifier [[5]](#references) is a deep learning ensemble. HIVECOTEV2 [[6]](#references) is a meta\n",
    "ensemble of four different ensembles built on different representations. RDST [[7]](#references)\n",
    "extracts random shalepets with dilation to form a pipeline.\n",
    "\n",
    "See [[1]](#references) for an overview of recent advances in time series classification. We also store \n",
    "results for other learning tasks, such as regression [[2]](#references) and clustering [[3]](#references).\n",
    "\n",
    "If you do not set `path`, results are loaded from https://timeseriesclassification.com/results/ReferenceResults.\n",
    "You can download the files directly from there. To read locally, set the `path` variable.\n",
    "While we don't show this here, the `task` parameter can be set to `regression` or \n",
    "`clustering` to recover those results."
   ]
  },
  {
   "metadata": {
    "ExecuteTime": {
     "end_time": "2024-10-29T13:24:12.440063Z",
     "start_time": "2024-10-29T13:24:12.436074Z"
    }
   },
   "cell_type": "code",
   "source": [
    "classifiers = [\n",
    "    \"FreshPRINCEClassifier\",\n",
    "    \"HIVECOTEV2\",\n",
    "    \"InceptionTimeClassifier\",\n",
    "    \"RDSTClassifier\",\n",
    "]\n",
    "datasets = [\"ACSF1\", \"ArrowHead\", \"GunPoint\", \"ItalyPowerDemand\"]"
   ],
   "outputs": [],
   "execution_count": 4
  },
  {
   "metadata": {},
   "cell_type": "markdown",
   "source": [
    "The `get_estimator_results` function returns the resutls as a dictionary of dictionaries, where the first key is the classifier name and the second key is the dataset name."
   ]
  },
  {
   "metadata": {
    "ExecuteTime": {
     "end_time": "2024-10-29T13:24:12.649503Z",
     "start_time": "2024-10-29T13:24:12.493919Z"
    }
   },
   "cell_type": "code",
   "source": [
    "from aeon.benchmarking.results_loaders import get_estimator_results\n",
    "\n",
    "results_dict = get_estimator_results(estimators=classifiers, datasets=datasets)\n",
    "results_dict[\"HIVECOTEV2\"][\"ItalyPowerDemand\"]"
   ],
   "outputs": [
    {
     "data": {
      "text/plain": [
       "0.9698736637512148"
      ]
     },
     "execution_count": 5,
     "metadata": {},
     "output_type": "execute_result"
    }
   ],
   "execution_count": 5
  },
  {
   "metadata": {},
   "cell_type": "markdown",
   "source": [
    "Most results files have multiple resamples. These can be returned as an array using the `num_resamples` parameter."
   ]
  },
  {
   "cell_type": "code",
   "metadata": {
    "collapsed": false,
    "ExecuteTime": {
     "end_time": "2024-10-29T13:24:12.797109Z",
     "start_time": "2024-10-29T13:24:12.653493Z"
    }
   },
   "source": [
    "results_dict = get_estimator_results(\n",
    "    estimators=classifiers, datasets=datasets, num_resamples=30\n",
    ")\n",
    "results_dict[\"HIVECOTEV2\"][\"ItalyPowerDemand\"]"
   ],
   "outputs": [
    {
     "data": {
      "text/plain": [
       "array([0.96987366, 0.96987366, 0.9494655 , 0.96793003, 0.96015549,\n",
       "       0.96793003, 0.96793003, 0.95626822, 0.96695821, 0.96695821,\n",
       "       0.96793003, 0.96695821, 0.95724004, 0.94557823, 0.96987366,\n",
       "       0.96598639, 0.96501458, 0.96015549, 0.9718173 , 0.96793003,\n",
       "       0.96598639, 0.95626822, 0.96112731, 0.96695821, 0.96209913,\n",
       "       0.95918367, 0.96209913, 0.95918367, 0.95043732, 0.96598639])"
      ]
     },
     "execution_count": 6,
     "metadata": {},
     "output_type": "execute_result"
    }
   ],
   "execution_count": 6
  },
  {
   "metadata": {},
   "cell_type": "markdown",
   "source": [
    "Different measures can be recovered, such as accuracy, F1, AUROC, and logloss \n",
    "using the `measure` parameter. The default is accuracy."
   ]
  },
  {
   "metadata": {
    "ExecuteTime": {
     "end_time": "2024-10-29T13:24:13.152370Z",
     "start_time": "2024-10-29T13:24:12.998570Z"
    }
   },
   "cell_type": "code",
   "source": [
    "results_dict = get_estimator_results(\n",
    "    estimators=classifiers, datasets=datasets, measure=\"logloss\"\n",
    ")\n",
    "results_dict[\"HIVECOTEV2\"][\"ItalyPowerDemand\"]"
   ],
   "outputs": [
    {
     "data": {
      "text/plain": [
       "0.1217826955959029"
      ]
     },
     "execution_count": 7,
     "metadata": {},
     "output_type": "execute_result"
    }
   ],
   "execution_count": 7
  },
  {
   "metadata": {},
   "cell_type": "markdown",
   "source": [
    "Results can also be returned as an array using the `get_estimator_results_as_array` function. \n",
    "This function shares the same parameters as `get_estimator_results`.\n",
    "\n",
    "This function returns the results as a numpy array, where the first dimension is the dataset and \n",
    "the second dimension is the estimator. The datasets used in the array are returned as a list \n",
    "alongside the results. \n",
    "\n",
    "Multiple resamples will be averaged instead of returned as separate arrays."
   ]
  },
  {
   "metadata": {
    "ExecuteTime": {
     "end_time": "2024-10-29T13:24:13.457526Z",
     "start_time": "2024-10-29T13:24:13.252075Z"
    }
   },
   "cell_type": "code",
   "source": [
    "from aeon.benchmarking.results_loaders import get_estimator_results_as_array\n",
    "\n",
    "results_arr, datasets = get_estimator_results_as_array(\n",
    "    estimators=classifiers, datasets=datasets\n",
    ")\n",
    "results_arr"
   ],
   "outputs": [
    {
     "data": {
      "text/plain": [
       "array([[0.89      , 0.91      , 0.91      , 0.9       ],\n",
       "       [0.62857143, 0.86857143, 0.86285714, 0.85714286],\n",
       "       [0.94      , 1.        , 1.        , 1.        ],\n",
       "       [0.89795918, 0.96987366, 0.96598639, 0.93974733]])"
      ]
     },
     "execution_count": 8,
     "metadata": {},
     "output_type": "execute_result"
    }
   ],
   "execution_count": 8
  },
  {
   "metadata": {
    "ExecuteTime": {
     "end_time": "2024-10-29T13:24:13.498441Z",
     "start_time": "2024-10-29T13:24:13.493454Z"
    }
   },
   "cell_type": "code",
   "source": [
    "datasets"
   ],
   "outputs": [
    {
     "data": {
      "text/plain": [
       "['ACSF1', 'ArrowHead', 'GunPoint', 'ItalyPowerDemand']"
      ]
     },
     "execution_count": 9,
     "metadata": {},
     "output_type": "execute_result"
    }
   ],
   "execution_count": 9
  },
  {
   "metadata": {},
   "cell_type": "markdown",
   "source": [
    "By default if a dataset is missing for any estimator, the dataset is removed\n",
    "from the results and list of datasets. If you want to keep the dataset, use the\n",
    "`include_missing` parameter. Missing results will be filled with a NaN value."
   ]
  },
  {
   "metadata": {
    "ExecuteTime": {
     "end_time": "2024-10-29T13:24:13.686913Z",
     "start_time": "2024-10-29T13:24:13.550278Z"
    }
   },
   "cell_type": "code",
   "source": [
    "from aeon.benchmarking.results_loaders import get_estimator_results_as_array\n",
    "\n",
    "results_arr_miss, datasets = get_estimator_results_as_array(\n",
    "    estimators=classifiers, datasets=datasets + [\"invalid\"], include_missing=True\n",
    ")\n",
    "results_arr_miss"
   ],
   "outputs": [
    {
     "data": {
      "text/plain": [
       "array([[0.89      , 0.91      , 0.91      , 0.9       ],\n",
       "       [0.62857143, 0.86857143, 0.86285714, 0.85714286],\n",
       "       [0.94      , 1.        , 1.        , 1.        ],\n",
       "       [0.89795918, 0.96987366, 0.96598639, 0.93974733],\n",
       "       [       nan,        nan,        nan,        nan]])"
      ]
     },
     "execution_count": 10,
     "metadata": {},
     "output_type": "execute_result"
    }
   ],
   "execution_count": 10
  },
  {
   "metadata": {},
   "cell_type": "markdown",
   "source": [
    "For both methods, the default value for `datasets` will load all available datasets for the estimators. We will use this for our later examples."
   ]
  },
  {
   "metadata": {
    "ExecuteTime": {
     "end_time": "2024-10-29T13:24:14.044956Z",
     "start_time": "2024-10-29T13:24:13.887377Z"
    }
   },
   "cell_type": "code",
   "source": [
    "results_arr, datasets = get_estimator_results_as_array(\n",
    "    estimators=classifiers, num_resamples=30\n",
    ")\n",
    "results_arr"
   ],
   "outputs": [
    {
     "data": {
      "text/plain": [
       "array([[0.72683761, 0.84384615, 0.85982906, 0.84709402],\n",
       "       [0.93189143, 0.9551145 , 0.95808312, 0.92726039],\n",
       "       [0.77272727, 0.74848485, 0.78095238, 0.72251082],\n",
       "       [0.91486486, 0.93774775, 0.94297297, 0.94738739],\n",
       "       [0.92333333, 0.94833333, 0.95166667, 0.91333333],\n",
       "       [0.87177849, 0.92846113, 0.88056443, 0.93176251],\n",
       "       [0.95555556, 0.99844444, 0.99511111, 0.99488889],\n",
       "       [0.99388186, 0.99978903, 0.99831224, 0.99978903],\n",
       "       [0.75083933, 0.74676259, 0.73117506, 0.73884892],\n",
       "       [0.71570513, 0.92964744, 0.90528846, 0.90721154],\n",
       "       [0.96077098, 0.96303855, 0.96034985, 0.95118238],\n",
       "       [1.        , 1.        , 1.        , 1.        ],\n",
       "       [0.83345411, 0.8281401 , 0.81533816, 0.81594203],\n",
       "       [0.77762889, 0.80081891, 0.77321794, 0.79669645],\n",
       "       [0.79111111, 0.72111111, 0.68222222, 0.74222222],\n",
       "       [0.9952381 , 1.        , 0.9968254 , 1.        ],\n",
       "       [0.76872325, 0.78963335, 0.77076121, 0.77374837],\n",
       "       [0.89691358, 0.94135802, 0.88703704, 0.94753086],\n",
       "       [0.97155556, 0.98022222, 0.98466667, 0.99222222],\n",
       "       [0.99981481, 1.        , 0.92351852, 0.99703704],\n",
       "       [0.84113821, 0.85707317, 0.82211382, 0.84552846],\n",
       "       [0.35571378, 0.39694093, 0.33444093, 0.3410865 ],\n",
       "       [0.79350649, 0.8030303 , 0.8025974 , 0.77835498],\n",
       "       [0.9448855 , 0.96430874, 0.9621883 , 0.942324  ],\n",
       "       [0.45384615, 0.95689103, 0.92211538, 0.78092949],\n",
       "       [0.74746667, 0.8168    , 0.75893333, 0.75022222],\n",
       "       [0.89843299, 0.95437801, 0.91333333, 0.95641237],\n",
       "       [0.57987013, 0.56991342, 0.52748918, 0.5547619 ],\n",
       "       [0.67244444, 0.75395556, 0.70604444, 0.64622222],\n",
       "       [0.50400433, 0.55335498, 0.53701299, 0.570671  ],\n",
       "       [0.82897778, 0.8424    , 0.77075556, 0.82435556],\n",
       "       [0.94133333, 0.95503704, 0.76288889, 0.88674074],\n",
       "       [0.99588889, 0.99866667, 0.99577778, 0.99244444],\n",
       "       [0.80383693, 0.81342926, 0.76570743, 0.80431655],\n",
       "       [0.97881253, 0.98193298, 0.97812854, 0.98103448],\n",
       "       [0.73333333, 0.79315068, 0.82054795, 0.73561644],\n",
       "       [0.73487179, 0.86683761, 0.86094017, 0.85555556],\n",
       "       [0.99986613, 1.        , 1.        , 0.96519411],\n",
       "       [0.84581901, 0.83058419, 0.83424971, 0.82646048],\n",
       "       [0.94181919, 0.95013866, 0.95418747, 0.93716029],\n",
       "       [0.64801347, 0.65671717, 0.6273569 , 0.65996633],\n",
       "       [0.94982818, 0.97469416, 0.96637801, 0.97943643],\n",
       "       [0.84770785, 0.84304584, 0.86134421, 0.82909868],\n",
       "       [0.8       , 0.848     , 0.82666667, 0.83266667],\n",
       "       [0.98766667, 0.99848148, 0.99611111, 0.99096296],\n",
       "       [0.78838095, 0.8992381 , 0.88038095, 0.87828571],\n",
       "       [0.99998378, 1.        , 0.99862643, 0.99991348],\n",
       "       [0.77746032, 0.85968254, 0.85047619, 0.84825397],\n",
       "       [0.87051282, 0.98237179, 0.93333333, 0.93237179],\n",
       "       [0.87888889, 0.88777778, 0.87444444, 0.9       ],\n",
       "       [0.93336831, 0.94039874, 0.95127667, 0.91514516],\n",
       "       [0.80530702, 0.81105263, 0.79635965, 0.77434211],\n",
       "       [0.96410803, 0.97663113, 0.96260128, 0.95515281],\n",
       "       [0.85438596, 0.95540936, 0.95307018, 0.94912281],\n",
       "       [0.76830601, 0.76994536, 0.81693989, 0.76120219],\n",
       "       [0.96704712, 0.99818554, 0.99482002, 0.99514194],\n",
       "       [0.97278912, 0.96890185, 0.96482021, 0.96841594],\n",
       "       [0.99911111, 0.99866667, 0.99644444, 0.98222222],\n",
       "       [0.71765568, 0.8221978 , 0.82673993, 0.8378022 ],\n",
       "       [0.77500868, 0.76340278, 0.86361111, 0.76003472],\n",
       "       [0.94311558, 0.97283082, 0.96958124, 0.96566164],\n",
       "       [0.94319527, 0.98682446, 0.98319527, 0.98601578],\n",
       "       [0.89297778, 0.93928889, 0.95253333, 0.91848889],\n",
       "       [1.        , 0.95520202, 0.9590404 , 0.94924242],\n",
       "       [0.94488889, 0.94844444, 0.94211852, 0.94685185],\n",
       "       [0.89105556, 0.93094444, 0.93805556, 0.93966667],\n",
       "       [0.95833333, 0.97574074, 0.9862963 , 0.98018519],\n",
       "       [0.62910136, 0.76677116, 0.75208986, 0.77105538],\n",
       "       [0.89846154, 0.96384615, 0.96358974, 0.94692308],\n",
       "       [0.76850829, 0.81777164, 0.8835175 , 0.77946593],\n",
       "       [0.94929972, 0.98403361, 0.95322129, 0.97422969],\n",
       "       [0.81300813, 0.81317073, 0.78162602, 0.79707317],\n",
       "       [0.94842667, 0.96154667, 0.96976   , 0.96346667],\n",
       "       [0.98055556, 0.98444444, 0.98444444, 0.98166667],\n",
       "       [0.96177182, 0.9752466 , 0.95119114, 0.98203983],\n",
       "       [0.84733333, 0.87733333, 0.628     , 0.872     ],\n",
       "       [0.92069959, 0.93386831, 0.94065844, 0.92860082],\n",
       "       [0.92394444, 0.92925556, 0.91241111, 0.92954444],\n",
       "       [0.53393939, 0.52624242, 0.53442424, 0.45884848],\n",
       "       [0.99383626, 0.99935673, 0.99574269, 0.99707602],\n",
       "       [0.8374651 , 0.86315838, 0.83353806, 0.85799367],\n",
       "       [0.69856115, 0.70935252, 0.66546763, 0.70527578],\n",
       "       [0.80835465, 0.79445865, 0.82208014, 0.7398977 ],\n",
       "       [0.83068182, 0.97916667, 0.93863636, 0.99090909],\n",
       "       [0.88614815, 0.90348148, 0.55155556, 0.69525926],\n",
       "       [0.82333333, 0.86186667, 0.86586667, 0.8216    ],\n",
       "       [0.91699346, 0.92908497, 0.95087146, 0.94498911],\n",
       "       [0.67640693, 0.68939394, 0.59437229, 0.67207792],\n",
       "       [0.97827004, 0.99651899, 0.98407173, 0.9914557 ],\n",
       "       [0.57346667, 0.81553333, 0.87513333, 0.7384    ],\n",
       "       [0.99706667, 1.        , 1.        , 0.99998333],\n",
       "       [0.96594595, 0.98027027, 0.9754955 , 0.97927928],\n",
       "       [0.86969697, 0.96859504, 0.95247934, 0.9707989 ],\n",
       "       [0.89553265, 0.89175258, 0.90630011, 0.87938144],\n",
       "       [0.6015625 , 0.61927083, 0.625     , 0.63802083],\n",
       "       [0.79611111, 0.92055556, 0.90111111, 0.93777778],\n",
       "       [0.9654152 , 0.99445614, 0.94883041, 0.97963743],\n",
       "       [0.85333333, 0.89633333, 0.89666667, 0.88866667],\n",
       "       [0.94937198, 0.99301932, 0.8321256 , 0.9821256 ],\n",
       "       [0.69604052, 0.78093923, 0.81473297, 0.7267035 ],\n",
       "       [0.90833874, 0.9017421 , 0.89016989, 0.896572  ],\n",
       "       [0.88923577, 0.9742439 , 0.97695935, 0.97630894],\n",
       "       [0.98928571, 1.        , 0.99880952, 0.9952381 ],\n",
       "       [1.        , 1.        , 1.        , 1.        ],\n",
       "       [0.88166667, 0.92333333, 0.89333333, 0.92666667],\n",
       "       [0.99969028, 0.99179249, 0.99585753, 0.99330236],\n",
       "       [0.88628571, 0.98209524, 0.9727619 , 0.98419048],\n",
       "       [0.96022222, 0.97266667, 0.88466667, 0.92066667],\n",
       "       [0.98240741, 0.98611111, 0.97986111, 0.97476852],\n",
       "       [1.        , 0.99989418, 1.        , 1.        ],\n",
       "       [0.76791468, 0.76196627, 0.79325595, 0.76810913],\n",
       "       [0.72358974, 0.84111111, 0.85333333, 0.83529915]])"
      ]
     },
     "execution_count": 11,
     "metadata": {},
     "output_type": "execute_result"
    }
   ],
   "execution_count": 11
  },
  {
   "cell_type": "markdown",
   "metadata": {
    "collapsed": false
   },
   "source": [
    "If you have any questions about these results or the datasets, the best place to \n",
    "raise an issue is on the associated [repo](https://github.com/time-series-machine-learning/tsml-repo).\n"
   ]
  },
  {
   "cell_type": "markdown",
   "metadata": {
    "collapsed": false
   },
   "source": [
    "## Plotting results\n",
    "\n",
    "Once you have the results you want, you can compare classifiers with built-in `aeon` tools. \n",
    " \n",
    "For example, you can draw a critical difference diagram [[8]](#references). This displays\n",
    "the average rank of each estimator over all datasets. It then groups estimators for\n",
    "which there is no significant difference in rank into cliques, shown with a solid\n",
    "bar. The diagram below has been performed using pairwise Wilcoxon signed-rank tests and \n",
    "forms cliques using the Holm correction for multiple testing as described in [[9, 10]](#references). Alpha value \n",
    "is 0.05 (default value).\n",
    "\n",
    "In the example below using our data loaded above, InceptionTimeClassifier and RDSTClassifier \n",
    "are not significantly different in ranking. FreshPRINCEClassifier is signigicantly worse than all \n",
    "classifiers, while HIVECOTEV2 is significantly better than all."
   ]
  },
  {
   "cell_type": "code",
   "metadata": {
    "collapsed": false,
    "ExecuteTime": {
     "end_time": "2024-10-29T13:24:18.284158Z",
     "start_time": "2024-10-29T13:24:14.076870Z"
    }
   },
   "source": [
    "from aeon.visualisation import plot_critical_difference\n",
    "\n",
    "plot_critical_difference(results_arr, classifiers, test=\"wilcoxon\", correction=\"holm\")"
   ],
   "outputs": [
    {
     "data": {
      "text/plain": [
       "(<Figure size 600x230 with 1 Axes>, <Axes: >)"
      ]
     },
     "execution_count": 12,
     "metadata": {},
     "output_type": "execute_result"
    },
    {
     "data": {
      "text/plain": [
       "<Figure size 600x230 with 1 Axes>"
      ],
      "image/png": "[encoded data removed]"
     },
     "metadata": {},
     "output_type": "display_data"
    }
   ],
   "execution_count": 12
  },
  {
   "cell_type": "markdown",
   "metadata": {},
   "source": [
    "Besides plotting differences using the critical difference diagrams, different versions of boxplots can be plotted. Boxplots graphically demonstrates the locality, spread and skewness of the results."
   ]
  },
  {
   "cell_type": "code",
   "metadata": {
    "ExecuteTime": {
     "end_time": "2024-10-29T13:24:19.368696Z",
     "start_time": "2024-10-29T13:24:18.313044Z"
    }
   },
   "source": [
    "from aeon.visualisation import plot_boxplot\n",
    "\n",
    "plot_boxplot(\n",
    "    results_arr,\n",
    "    classifiers,\n",
    "    plot_type=\"boxplot\",\n",
    ")"
   ],
   "outputs": [
    {
     "data": {
      "text/plain": [
       "(<Figure size 1000x600 with 1 Axes>, <Axes: >)"
      ]
     },
     "execution_count": 13,
     "metadata": {},
     "output_type": "execute_result"
    },
    {
     "data": {
      "text/plain": [
       "<Figure size 1000x600 with 1 Axes>"
      ],
      "image/png": "[encoded data removed]"
     },
     "metadata": {},
     "output_type": "display_data"
    }
   ],
   "execution_count": 13
  },
  {
   "metadata": {},
   "cell_type": "markdown",
   "source": [
    "From the critical difference diagram above, we showed that InceptionTimeClassifier is not significantly better than RDSTClassifier. Now, if we want to specifically compare the results of these two approaches, we can plot a scatter in which each point is a pair of accuracies of both approaches. The number of W, T, and L is also included per approach in the legend."
   ]
  },
  {
   "metadata": {
    "ExecuteTime": {
     "end_time": "2024-10-29T13:24:19.685876Z",
     "start_time": "2024-10-29T13:24:19.398616Z"
    }
   },
   "cell_type": "code",
   "source": [
    "from aeon.visualisation import plot_pairwise_scatter\n",
    "\n",
    "plot_pairwise_scatter(\n",
    "    results_arr[:, 2],\n",
    "    results_arr[:, 3],\n",
    "    classifiers[2],\n",
    "    classifiers[3],\n",
    ")"
   ],
   "outputs": [
    {
     "data": {
      "text/plain": [
       "(<Figure size 800x800 with 1 Axes>,\n",
       " <Axes: xlabel='InceptionTimeClassifier accuracy\\n(mean: 0.8743)', ylabel='RDSTClassifier accuracy\\n(mean: 0.8763)'>)"
      ]
     },
     "execution_count": 14,
     "metadata": {},
     "output_type": "execute_result"
    },
    {
     "data": {
      "text/plain": [
       "<Figure size 800x800 with 1 Axes>"
      ],
      "image/png": "[encoded data removed]"
     },
     "metadata": {},
     "output_type": "display_data"
    }
   ],
   "execution_count": 14
  },
  {
   "cell_type": "markdown",
   "metadata": {
    "collapsed": false
   },
   "source": [
    "## References\n",
    "\n",
    "[1] Middlehurst, M., Schäfer, P. and Bagnall, A., 2024. Bake off redux: a review and experimental evaluation of recent time series classification algorithms. Data Mining and Knowledge Discovery, pp.1-74.\n",
    "\n",
    "[2] Holder, C., Middlehurst, M. and Bagnall, A., 2024. A review and evaluation of elastic distance functions for time series clustering. Knowledge and Information Systems, 66(2), pp.765-809.\n",
    "\n",
    "[3] Guijo-Rubio, D., Middlehurst, M., Arcencio, G., Silva, D.F. and Bagnall, A., 2024. Unsupervised feature based algorithms for time series extrinsic regression. Data Mining and Knowledge Discovery, pp.1-45.\n",
    "\n",
    "[4] Middlehurst, M. and Bagnall, A., 2022, May. The freshprince: A simple transformation based pipeline time series classifier. In International Conference on Pattern Recognition and Artificial Intelligence (pp. 150-161). Cham: Springer International Publishing.\n",
    "\n",
    "[5] Ismail Fawaz, H., Lucas, B., Forestier, G., Pelletier, C., Schmidt, D.F., Weber, J., Webb, G.I., Idoumghar, L., Muller, P.A. and Petitjean, F., 2020. Inceptiontime: Finding alexnet for time series classification. Data Mining and Knowledge Discovery, 34(6), pp.1936-1962.\n",
    "\n",
    "[6] Middlehurst, M., Large, J., Flynn, M., Lines, J., Bostrom, A. and Bagnall, A., 2021. HIVE-COTE 2.0: a new meta ensemble for time series classification. Machine Learning, 110(11), pp.3211-3243.\n",
    "\n",
    "[7] Guillaume, A., Vrain, C. and Elloumi, W., 2022, June. Random dilated shapelet transform: A new approach for time series shapelets. In International Conference on Pattern Recognition and Artificial Intelligence (pp. 653-664). Cham: Springer International Publishing.\n",
    "\n",
    "[8] Garcia, S. and Herrera, F., 2008. An Extension on\" Statistical Comparisons of Classifiers over Multiple Data Sets\" for all Pairwise Comparisons. Journal of machine learning research, 9(12).\n",
    "\n",
    "[9] Benavoli, A., Corani, G. and Mangili, F., 2016. Should we really use post-hoc tests based on mean-ranks?. The Journal of Machine Learning Research, 17(1), pp.152-161.\n",
    "\n",
    "[10] Demšar, J., 2006. Statistical comparisons of classifiers over multiple data sets. The Journal of Machine learning research, 7, pp.1-30.\n"
   ]
  }
 ],
 "metadata": {
  "kernelspec": {
   "display_name": "Python 3",
   "language": "python",
   "name": "python3"
  },
  "language_info": {
   "codemirror_mode": {
    "name": "ipython",
    "version": 3
   },
   "file_extension": ".py",
   "mimetype": "text/x-python",
   "name": "python",
   "nbconvert_exporter": "python",
   "pygments_lexer": "ipython3",
   "version": "3.11.5"
  }
 },
 "nbformat": 4,
 "nbformat_minor": 0
}
