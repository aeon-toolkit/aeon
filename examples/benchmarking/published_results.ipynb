{
 "cells": [
  {
   "cell_type": "markdown",
   "metadata": {
    "collapsed": false
   },
   "source": [
    "# Benchmarking: retrieving and comparing against published results\n",
    "\n",
    "You can access all archived published results for time series classification (TSC)\n",
    "directly with ``aeon``. These results are all stored on the website\n",
    "[timeseriesclassification.com](https://timeseriesclassification.com). \n",
    "\n",
    "These are reference results tied to publications and will not change. The datasets and \n",
    "estimators for recovering these results are intentionally hard coded and not generalised, \n",
    "to remove any potential for confusion. To more flexibly load the latest results for \n",
    "classification, clustering and regression, see the notebook on\n",
    "[loading reference results](./reference_results.ipynb).\n",
    "\n",
    "We compare results with the critical difference graph described in \n",
    "[this notebook](./plotting_results.ipynb). Note that the way we group classifiers \n",
    "has slightly changed and hence there may be small variation in cliques from published \n",
    "results.\n",
    "\n",
    "The published results can be recovered from the [time series classifcation\n",
    "website](https://timeseriesclassification.com/results/PublishedResults/) directly or\n",
    "with ``aeon``."
   ]
  },
  {
   "cell_type": "markdown",
   "source": [
    "## Classification\n",
    "\n",
    "These results were presented in three bake offs for classification: The first bake\n",
    "off [[1]](#references) used 85 UCR univariate TSC datasets. The second bake off [[2]](#references) introduced the\n",
    "multivariate TSC archive, and compared classifier performance. The third bake off [[3]](#references),\n",
    "the bake off redux, compared univariate classifiers on 112 UCR datasets. \n",
    "\n",
    "### The great time series classification bake off, 2017\n",
    "\n",
    "The first TSC bake off [[1]](#references), conducted in 2015 and published in 2017 compared 25\n",
    "classifiers on the 85 UCR data that were released in 2015. The publication is\n",
    "available [here](https://link.springer.com/article/10.1007/s10618-016-0483-9).\n",
    "\n",
    "You can pull down results for the original bake off using the following function. \n",
    "The default train/test split is returned as the first resample, and there are\n",
    "100 resamples available for most experiments. The data resampling function used is \n",
    "not the same as the one available in ``aeon``."
   ],
   "metadata": {
    "collapsed": false
   }
  },
  {
   "cell_type": "code",
   "metadata": {
    "collapsed": false,
    "ExecuteTime": {
     "end_time": "2024-10-29T13:24:19.629001Z",
     "start_time": "2024-10-29T13:24:17.516939Z"
    }
   },
   "source": [
    "from aeon.benchmarking.published_results import (\n",
    "    load_classification_bake_off_2017_results,\n",
    ")\n",
    "\n",
    "results_dict = load_classification_bake_off_2017_results(num_resamples=10)\n",
    "results_dict[\"FlatCOTE\"][\"GunPoint\"]"
   ],
   "outputs": [
    {
     "data": {
      "text/plain": [
       "array([1.        , 0.98666667, 0.99333333, 1.        , 1.        ,\n",
       "       0.97333333, 0.98      , 0.99333333, 1.        , 1.        ])"
      ]
     },
     "execution_count": 1,
     "metadata": {},
     "output_type": "execute_result"
    }
   ],
   "execution_count": 1
  },
  {
   "metadata": {},
   "cell_type": "markdown",
   "source": [
    "We were unable to recover experiment resamples past a certain point for some \n",
    "classifier/dataset combinations. Missing resamples will return a NaN"
   ]
  },
  {
   "metadata": {
    "ExecuteTime": {
     "end_time": "2024-10-29T13:24:19.658921Z",
     "start_time": "2024-10-29T13:24:19.653934Z"
    }
   },
   "cell_type": "code",
   "source": [
    "results_dict[\"DTW_F\"][\"FordB\"]"
   ],
   "outputs": [
    {
     "data": {
      "text/plain": [
       "array([0.74938272, 0.88888889, 0.78765432, 0.88148148, 0.87407407,\n",
       "       0.87654321,        nan,        nan,        nan,        nan])"
      ]
     },
     "execution_count": 2,
     "metadata": {},
     "output_type": "execute_result"
    }
   ],
   "execution_count": 2
  },
  {
   "metadata": {
    "ExecuteTime": {
     "end_time": "2024-10-29T13:24:21.433202Z",
     "start_time": "2024-10-29T13:24:19.859384Z"
    }
   },
   "cell_type": "code",
   "source": [
    "results_arr, datasets, classifiers = load_classification_bake_off_2017_results(\n",
    "    num_resamples=100, as_array=True, ignore_nan=True\n",
    ")\n",
    "results_arr.shape"
   ],
   "outputs": [
    {
     "data": {
      "text/plain": [
       "(85, 25)"
      ]
     },
     "execution_count": 3,
     "metadata": {},
     "output_type": "execute_result"
    }
   ],
   "execution_count": 3
  },
  {
   "metadata": {},
   "cell_type": "markdown",
   "source": "The dataset used for the first bake off are described in [[4]](#references):"
  },
  {
   "metadata": {
    "ExecuteTime": {
     "end_time": "2024-10-29T13:24:21.449136Z",
     "start_time": "2024-10-29T13:24:21.443151Z"
    }
   },
   "cell_type": "code",
   "source": [
    "datasets"
   ],
   "outputs": [
    {
     "data": {
      "text/plain": [
       "['Adiac',\n",
       " 'ArrowHead',\n",
       " 'Beef',\n",
       " 'BeetleFly',\n",
       " 'BirdChicken',\n",
       " 'Car',\n",
       " 'CBF',\n",
       " 'ChlorineConcentration',\n",
       " 'CinCECGTorso',\n",
       " 'Coffee',\n",
       " 'Computers',\n",
       " 'CricketX',\n",
       " 'CricketY',\n",
       " 'CricketZ',\n",
       " 'DiatomSizeReduction',\n",
       " 'DistalPhalanxOutlineCorrect',\n",
       " 'DistalPhalanxOutlineAgeGroup',\n",
       " 'DistalPhalanxTW',\n",
       " 'Earthquakes',\n",
       " 'ECG200',\n",
       " 'ECG5000',\n",
       " 'ECGFiveDays',\n",
       " 'ElectricDevices',\n",
       " 'FaceAll',\n",
       " 'FaceFour',\n",
       " 'FacesUCR',\n",
       " 'FiftyWords',\n",
       " 'Fish',\n",
       " 'FordA',\n",
       " 'FordB',\n",
       " 'GunPoint',\n",
       " 'Ham',\n",
       " 'HandOutlines',\n",
       " 'Haptics',\n",
       " 'Herring',\n",
       " 'InlineSkate',\n",
       " 'InsectWingbeatSound',\n",
       " 'ItalyPowerDemand',\n",
       " 'LargeKitchenAppliances',\n",
       " 'Lightning2',\n",
       " 'Lightning7',\n",
       " 'Mallat',\n",
       " 'Meat',\n",
       " 'MedicalImages',\n",
       " 'MiddlePhalanxOutlineCorrect',\n",
       " 'MiddlePhalanxOutlineAgeGroup',\n",
       " 'MiddlePhalanxTW',\n",
       " 'MoteStrain',\n",
       " 'NonInvasiveFetalECGThorax1',\n",
       " 'NonInvasiveFetalECGThorax2',\n",
       " 'OliveOil',\n",
       " 'OSULeaf',\n",
       " 'PhalangesOutlinesCorrect',\n",
       " 'Phoneme',\n",
       " 'Plane',\n",
       " 'ProximalPhalanxOutlineCorrect',\n",
       " 'ProximalPhalanxOutlineAgeGroup',\n",
       " 'ProximalPhalanxTW',\n",
       " 'RefrigerationDevices',\n",
       " 'ScreenType',\n",
       " 'ShapeletSim',\n",
       " 'ShapesAll',\n",
       " 'SmallKitchenAppliances',\n",
       " 'SonyAIBORobotSurface1',\n",
       " 'SonyAIBORobotSurface2',\n",
       " 'StarLightCurves',\n",
       " 'Strawberry',\n",
       " 'SwedishLeaf',\n",
       " 'Symbols',\n",
       " 'SyntheticControl',\n",
       " 'ToeSegmentation1',\n",
       " 'ToeSegmentation2',\n",
       " 'Trace',\n",
       " 'TwoLeadECG',\n",
       " 'TwoPatterns',\n",
       " 'UWaveGestureLibraryX',\n",
       " 'UWaveGestureLibraryY',\n",
       " 'UWaveGestureLibraryZ',\n",
       " 'UWaveGestureLibraryAll',\n",
       " 'Wafer',\n",
       " 'Wine',\n",
       " 'WordSynonyms',\n",
       " 'Worms',\n",
       " 'WormsTwoClass',\n",
       " 'Yoga']"
      ]
     },
     "execution_count": 4,
     "metadata": {},
     "output_type": "execute_result"
    }
   ],
   "execution_count": 4
  },
  {
   "metadata": {},
   "cell_type": "markdown",
   "source": "The classifiers used are as follows: "
  },
  {
   "metadata": {
    "ExecuteTime": {
     "end_time": "2024-10-29T13:24:21.484041Z",
     "start_time": "2024-10-29T13:24:21.478059Z"
    }
   },
   "cell_type": "code",
   "source": [
    "classifiers"
   ],
   "outputs": [
    {
     "data": {
      "text/plain": [
       "['ACF',\n",
       " 'BOSS',\n",
       " 'CID_DTW',\n",
       " 'CID_ED',\n",
       " 'DDTW_R1_1NN',\n",
       " 'DDTW_Rn_1NN',\n",
       " 'DTW_F',\n",
       " 'EE',\n",
       " 'ERP_1NN',\n",
       " 'Euclidean_1NN',\n",
       " 'FlatCOTE',\n",
       " 'FS',\n",
       " 'LCSS_1NN',\n",
       " 'LPS',\n",
       " 'LS',\n",
       " 'MSM_1NN',\n",
       " 'PS',\n",
       " 'RotF',\n",
       " 'SAXVSM',\n",
       " 'ST',\n",
       " 'TSBF',\n",
       " 'TSF',\n",
       " 'TWE_1NN',\n",
       " 'WDDTW_1NN',\n",
       " 'WDTW_1NN']"
      ]
     },
     "execution_count": 5,
     "metadata": {},
     "output_type": "execute_result"
    }
   ],
   "execution_count": 5
  },
  {
   "cell_type": "markdown",
   "metadata": {
    "collapsed": false
   },
   "source": [
    "Once you have the results you want, you can compare classifiers with built in \n",
    "``aeon`` tools.\n",
    "\n",
    "Suppose we want to recreate the critical difference diagram published in [1]:"
   ]
  },
  {
   "metadata": {},
   "cell_type": "markdown",
   "source": "<img src=\"img/bakeoff2015.png\" width=\"600\" alt=\"bake off 2015\">"
  },
  {
   "metadata": {},
   "cell_type": "markdown",
   "source": [
    "This displays the critical difference diagram [[6]](#references) for comparing classifiers. It shows\n",
    " the average rank of each estimator over all datasets. It then groups estimators for\n",
    " which there is no significant difference in rank into cliques, shown with a solid\n",
    " bar. The published results used the original method for finding cliques called the\n",
    " post hoc Nemenyi test. Our plotting tool offers this as an alternative. See the docs\n",
    "  for ``aeon.visualisation.plot_critical_difference`` for more details. To recreate the\n",
    " above, we can do this (note slight difference in names, ``MSM_1NN`` is `MSM` and\n",
    " ``FlatCOTE`` is ``COTE``."
   ]
  },
  {
   "cell_type": "code",
   "metadata": {
    "collapsed": false,
    "ExecuteTime": {
     "end_time": "2024-10-29T13:24:22.786587Z",
     "start_time": "2024-10-29T13:24:21.510970Z"
    }
   },
   "source": [
    "from aeon.visualisation import plot_critical_difference\n",
    "\n",
    "subsample = [\"MSM_1NN\", \"LPS\", \"TSBF\", \"TSF\", \"DTW_F\", \"EE\", \"BOSS\", \"ST\", \"FlatCOTE\"]\n",
    "idx = [classifiers.index(key) for key in subsample if key in classifiers]\n",
    "\n",
    "plot_critical_difference(results_arr[:, idx], subsample, test=\"Nemenyi\")"
   ],
   "outputs": [
    {
     "data": {
      "text/plain": [
       "(<Figure size 600x280 with 1 Axes>, <Axes: >)"
      ]
     },
     "execution_count": 6,
     "metadata": {},
     "output_type": "execute_result"
    },
    {
     "data": {
      "text/plain": [
       "<Figure size 600x280 with 1 Axes>"
      ],
      "image/png": "[encoded data removed]"
     },
     "metadata": {},
     "output_type": "display_data"
    }
   ],
   "execution_count": 6
  },
  {
   "cell_type": "markdown",
   "metadata": {
    "collapsed": false
   },
   "source": [
    "Note there are some  small differences in averaged rank. This may be due to differences \n",
    "in how ties in rank were handled and missing resamples. The cliques are identical. Given that\n",
    "these results were generated in 2014/2015 using Java and Matlab was used to draw the diagrams, we think this\n",
    "is an acceptable reproduction. Subsequent to the 2015 bake off we switched to using\n",
    "pairwise Wilcoxon sign rank tests with the Holm correction. This creates slightly\n",
    "different cliques."
   ]
  },
  {
   "cell_type": "markdown",
   "source": [
    "### The great multivariate time series classification bake off, 2021\n",
    "\n",
    "The multivariate bake off [[2]](#references) launched a new archive and compared 11 classifiers on 26\n",
    "multivariate TSC problems [[5]](#references) over 30 resamples. The publication is available\n",
    "[here](https://link.springer.com/article/10.1007/s10618-020-00727-3)"
   ],
   "metadata": {
    "collapsed": false
   }
  },
  {
   "metadata": {
    "ExecuteTime": {
     "end_time": "2024-10-29T13:24:23.263259Z",
     "start_time": "2024-10-29T13:24:22.794538Z"
    }
   },
   "cell_type": "code",
   "source": [
    "from aeon.benchmarking.published_results import (\n",
    "    load_classification_bake_off_2021_results,\n",
    ")\n",
    "\n",
    "results_arr, datasets, classifiers = load_classification_bake_off_2021_results(\n",
    "    num_resamples=30, as_array=True\n",
    ")\n",
    "results_arr.shape"
   ],
   "outputs": [
    {
     "data": {
      "text/plain": [
       "(26, 11)"
      ]
     },
     "execution_count": 7,
     "metadata": {},
     "output_type": "execute_result"
    }
   ],
   "execution_count": 7
  },
  {
   "metadata": {},
   "cell_type": "markdown",
   "source": "The datasets used in the 2021 bake off are as follows:"
  },
  {
   "metadata": {
    "ExecuteTime": {
     "end_time": "2024-10-29T13:24:23.286171Z",
     "start_time": "2024-10-29T13:24:23.281185Z"
    }
   },
   "cell_type": "code",
   "source": [
    "datasets"
   ],
   "outputs": [
    {
     "data": {
      "text/plain": [
       "['ArticularyWordRecognition',\n",
       " 'AtrialFibrillation',\n",
       " 'BasicMotions',\n",
       " 'Cricket',\n",
       " 'DuckDuckGeese',\n",
       " 'EigenWorms',\n",
       " 'Epilepsy',\n",
       " 'EthanolConcentration',\n",
       " 'ERing',\n",
       " 'FaceDetection',\n",
       " 'FingerMovements',\n",
       " 'HandMovementDirection',\n",
       " 'Handwriting',\n",
       " 'Heartbeat',\n",
       " 'Libras',\n",
       " 'LSST',\n",
       " 'MotorImagery',\n",
       " 'NATOPS',\n",
       " 'PenDigits',\n",
       " 'PEMS-SF',\n",
       " 'PhonemeSpectra',\n",
       " 'RacketSports',\n",
       " 'SelfRegulationSCP1',\n",
       " 'SelfRegulationSCP2',\n",
       " 'StandWalkJump',\n",
       " 'UWaveGestureLibrary']"
      ]
     },
     "execution_count": 8,
     "metadata": {},
     "output_type": "execute_result"
    }
   ],
   "execution_count": 8
  },
  {
   "metadata": {},
   "cell_type": "markdown",
   "source": "The classifiers used as follow:"
  },
  {
   "metadata": {
    "ExecuteTime": {
     "end_time": "2024-10-29T13:24:23.368014Z",
     "start_time": "2024-10-29T13:24:23.363027Z"
    }
   },
   "cell_type": "code",
   "source": [
    "classifiers"
   ],
   "outputs": [
    {
     "data": {
      "text/plain": [
       "['CBOSS',\n",
       " 'CIF',\n",
       " 'DTW_D',\n",
       " 'DTW_I',\n",
       " 'gRSF',\n",
       " 'HIVE-COTEv1',\n",
       " 'ResNet',\n",
       " 'RISE',\n",
       " 'ROCKET',\n",
       " 'STC',\n",
       " 'TSF']"
      ]
     },
     "execution_count": 9,
     "metadata": {},
     "output_type": "execute_result"
    }
   ],
   "execution_count": 9
  },
  {
   "cell_type": "markdown",
   "source": [
    "The results figures below shows the performance figures for accuracy, balanced\n",
    "accuracy, AUROC and F1."
   ],
   "metadata": {
    "collapsed": false
   }
  },
  {
   "metadata": {},
   "cell_type": "markdown",
   "source": "<img src=\"img/bakeoff2021.png\" width=\"600\" alt=\"bake off 2021\">"
  },
  {
   "metadata": {},
   "cell_type": "markdown",
   "source": "We can recreate the accuracy graph by plotting the loaded results like so:"
  },
  {
   "metadata": {
    "collapsed": false,
    "ExecuteTime": {
     "end_time": "2024-10-29T13:24:23.621021Z",
     "start_time": "2024-10-29T13:24:23.454440Z"
    }
   },
   "cell_type": "code",
   "source": [
    "plot_critical_difference(results_arr, classifiers)"
   ],
   "outputs": [
    {
     "name": "stderr",
     "output_type": "stream",
     "text": [
      "D:\\CMP_Machine_Learning\\Repositories\\aeon\\.venv\\lib\\site-packages\\scipy\\stats\\_axis_nan_policy.py:600: UserWarning: Exact p-value calculation does not work if there are zeros. Switching to normal approximation.\n",
      "  return result_to_tuple(hypotest_fun_out(*samples, **kwds))\n"
     ]
    },
    {
     "data": {
      "text/plain": [
       "(<Figure size 600x300 with 1 Axes>, <Axes: >)"
      ]
     },
     "execution_count": 10,
     "metadata": {},
     "output_type": "execute_result"
    },
    {
     "data": {
      "text/plain": [
       "<Figure size 600x300 with 1 Axes>"
      ],
      "image/png": "[encoded data removed]"
     },
     "metadata": {},
     "output_type": "display_data"
    }
   ],
   "execution_count": 10
  },
  {
   "metadata": {},
   "cell_type": "markdown",
   "source": [
    "Note there are some differences in cliques due to slightly different methodology\n",
    "and tools used as mentioned previously."
   ]
  },
  {
   "metadata": {},
   "cell_type": "markdown",
   "source": [
    "### Univariate bake off redux, 2023\n",
    "\n",
    "In 2023 an update to the original 2017 bake off was produced, including the state of the art for the time [[3]](#references). This is the first bake off produced using the tools and estimators available in ``aeon``. Published in 2024, the article is available [here](https://link.springer.com/article/10.1007/s10618-024-01022-1)\n",
    "\n",
    "34 algorithms were evaluated in total. 142 datasets were used for the top performing classifiers, and 112 for others. All results were averaged over 30 resamples. \n",
    "\n",
    "Currently some estimators are missing. Only 112 datasets are available for all estimators, but in time we will upload the remaining datasets where applicable."
   ]
  },
  {
   "metadata": {
    "ExecuteTime": {
     "end_time": "2024-10-29T13:24:25.702338Z",
     "start_time": "2024-10-29T13:24:23.630967Z"
    }
   },
   "cell_type": "code",
   "source": [
    "from aeon.benchmarking.published_results import (\n",
    "    load_classification_bake_off_2023_results,\n",
    ")\n",
    "\n",
    "results_arr, datasets, classifiers = load_classification_bake_off_2023_results(\n",
    "    num_resamples=30, as_array=True\n",
    ")\n",
    "results_arr.shape"
   ],
   "outputs": [
    {
     "data": {
      "text/plain": [
       "(112, 34)"
      ]
     },
     "execution_count": 11,
     "metadata": {},
     "output_type": "execute_result"
    }
   ],
   "execution_count": 11
  },
  {
   "metadata": {
    "ExecuteTime": {
     "end_time": "2024-10-29T13:24:25.718296Z",
     "start_time": "2024-10-29T13:24:25.711315Z"
    }
   },
   "cell_type": "code",
   "source": [
    "datasets"
   ],
   "outputs": [
    {
     "data": {
      "text/plain": [
       "['ACSF1',\n",
       " 'Adiac',\n",
       " 'ArrowHead',\n",
       " 'Beef',\n",
       " 'BeetleFly',\n",
       " 'BirdChicken',\n",
       " 'BME',\n",
       " 'Car',\n",
       " 'CBF',\n",
       " 'Chinatown',\n",
       " 'ChlorineConcentration',\n",
       " 'CinCECGTorso',\n",
       " 'Coffee',\n",
       " 'Computers',\n",
       " 'CricketX',\n",
       " 'CricketY',\n",
       " 'CricketZ',\n",
       " 'Crop',\n",
       " 'DiatomSizeReduction',\n",
       " 'DistalPhalanxOutlineCorrect',\n",
       " 'DistalPhalanxOutlineAgeGroup',\n",
       " 'DistalPhalanxTW',\n",
       " 'Earthquakes',\n",
       " 'ECG200',\n",
       " 'ECG5000',\n",
       " 'ECGFiveDays',\n",
       " 'ElectricDevices',\n",
       " 'EOGHorizontalSignal',\n",
       " 'EOGVerticalSignal',\n",
       " 'EthanolLevel',\n",
       " 'FaceAll',\n",
       " 'FaceFour',\n",
       " 'FacesUCR',\n",
       " 'FiftyWords',\n",
       " 'Fish',\n",
       " 'FordA',\n",
       " 'FordB',\n",
       " 'FreezerRegularTrain',\n",
       " 'FreezerSmallTrain',\n",
       " 'GunPoint',\n",
       " 'GunPointAgeSpan',\n",
       " 'GunPointMaleVersusFemale',\n",
       " 'GunPointOldVersusYoung',\n",
       " 'Ham',\n",
       " 'HandOutlines',\n",
       " 'Haptics',\n",
       " 'Herring',\n",
       " 'HouseTwenty',\n",
       " 'InlineSkate',\n",
       " 'InsectEPGRegularTrain',\n",
       " 'InsectEPGSmallTrain',\n",
       " 'InsectWingbeatSound',\n",
       " 'ItalyPowerDemand',\n",
       " 'LargeKitchenAppliances',\n",
       " 'Lightning2',\n",
       " 'Lightning7',\n",
       " 'Mallat',\n",
       " 'Meat',\n",
       " 'MedicalImages',\n",
       " 'MiddlePhalanxOutlineCorrect',\n",
       " 'MiddlePhalanxOutlineAgeGroup',\n",
       " 'MiddlePhalanxTW',\n",
       " 'MixedShapesRegularTrain',\n",
       " 'MixedShapesSmallTrain',\n",
       " 'MoteStrain',\n",
       " 'NonInvasiveFetalECGThorax1',\n",
       " 'NonInvasiveFetalECGThorax2',\n",
       " 'OliveOil',\n",
       " 'OSULeaf',\n",
       " 'PhalangesOutlinesCorrect',\n",
       " 'Phoneme',\n",
       " 'PigAirwayPressure',\n",
       " 'PigArtPressure',\n",
       " 'PigCVP',\n",
       " 'Plane',\n",
       " 'PowerCons',\n",
       " 'ProximalPhalanxOutlineCorrect',\n",
       " 'ProximalPhalanxOutlineAgeGroup',\n",
       " 'ProximalPhalanxTW',\n",
       " 'RefrigerationDevices',\n",
       " 'Rock',\n",
       " 'ScreenType',\n",
       " 'SemgHandGenderCh2',\n",
       " 'SemgHandMovementCh2',\n",
       " 'SemgHandSubjectCh2',\n",
       " 'ShapeletSim',\n",
       " 'ShapesAll',\n",
       " 'SmallKitchenAppliances',\n",
       " 'SmoothSubspace',\n",
       " 'SonyAIBORobotSurface1',\n",
       " 'SonyAIBORobotSurface2',\n",
       " 'StarLightCurves',\n",
       " 'Strawberry',\n",
       " 'SwedishLeaf',\n",
       " 'Symbols',\n",
       " 'SyntheticControl',\n",
       " 'ToeSegmentation1',\n",
       " 'ToeSegmentation2',\n",
       " 'Trace',\n",
       " 'TwoLeadECG',\n",
       " 'TwoPatterns',\n",
       " 'UMD',\n",
       " 'UWaveGestureLibraryAll',\n",
       " 'UWaveGestureLibraryX',\n",
       " 'UWaveGestureLibraryY',\n",
       " 'UWaveGestureLibraryZ',\n",
       " 'Wafer',\n",
       " 'Wine',\n",
       " 'WordSynonyms',\n",
       " 'Worms',\n",
       " 'WormsTwoClass',\n",
       " 'Yoga']"
      ]
     },
     "execution_count": 12,
     "metadata": {},
     "output_type": "execute_result"
    }
   ],
   "execution_count": 12
  },
  {
   "metadata": {
    "ExecuteTime": {
     "end_time": "2024-10-29T13:24:25.746250Z",
     "start_time": "2024-10-29T13:24:25.742232Z"
    }
   },
   "cell_type": "code",
   "source": [
    "classifiers"
   ],
   "outputs": [
    {
     "data": {
      "text/plain": [
       "['Arsenal',\n",
       " 'BOSS',\n",
       " 'CIF',\n",
       " 'CNN',\n",
       " 'Catch22',\n",
       " 'DrCIF',\n",
       " 'EE',\n",
       " 'FreshPRINCE',\n",
       " 'HC1',\n",
       " 'HC2',\n",
       " 'Hydra-MR',\n",
       " 'Hydra',\n",
       " 'InceptionT',\n",
       " 'Mini-R',\n",
       " 'MrSQM',\n",
       " 'Multi-R',\n",
       " 'PF',\n",
       " 'RDST',\n",
       " 'RISE',\n",
       " 'ROCKET',\n",
       " 'RSF',\n",
       " 'RSTSF',\n",
       " 'ResNet',\n",
       " 'STC',\n",
       " 'ShapeDTW',\n",
       " 'Signatures',\n",
       " 'TDE',\n",
       " 'TS-CHIEF',\n",
       " 'TSF',\n",
       " 'TSFresh',\n",
       " 'WEASEL-D',\n",
       " 'WEASEL',\n",
       " 'cBOSS',\n",
       " '1NN-DTW']"
      ]
     },
     "execution_count": 13,
     "metadata": {},
     "output_type": "execute_result"
    }
   ],
   "execution_count": 13
  },
  {
   "metadata": {
    "ExecuteTime": {
     "end_time": "2024-10-29T13:24:25.855957Z",
     "start_time": "2024-10-29T13:24:25.766193Z"
    }
   },
   "cell_type": "code",
   "source": [
    "subsample = [\"PF\", \"FreshPRINCE\", \"WEASEL-D\", \"RDST\", \"Hydra-MR\", \"HC2\"]\n",
    "idx = [classifiers.index(key) for key in subsample if key in classifiers]\n",
    "\n",
    "plot_critical_difference(results_arr[:, idx], subsample)"
   ],
   "outputs": [
    {
     "data": {
      "text/plain": [
       "(<Figure size 600x250 with 1 Axes>, <Axes: >)"
      ]
     },
     "execution_count": 14,
     "metadata": {},
     "output_type": "execute_result"
    },
    {
     "data": {
      "text/plain": [
       "<Figure size 600x250 with 1 Axes>"
      ],
      "image/png": "[encoded data removed]"
     },
     "metadata": {},
     "output_type": "display_data"
    }
   ],
   "execution_count": 14
  },
  {
   "metadata": {},
   "cell_type": "markdown",
   "source": [
    "## References <a id='references'></a>\n",
    "\n",
    "[1] Bagnall, A., Lines, J., Bostrom, A., Large, J. and Keogh, E., 2017. The great time series classification bake off: a review and experimental evaluation of recent algorithmic advances. Data mining and knowledge discovery, 31, pp.606-660.\n",
    "\n",
    "[2] Ruiz, A.P., Flynn, M., Large, J., Middlehurst, M. and Bagnall, A., 2021. The great multivariate time series classification bake off: a review and experimental evaluation of recent algorithmic advances. Data Mining and Knowledge Discovery, 35(2), pp.401-449.\n",
    "\n",
    "[3] Middlehurst, M., Schäfer, P. and Bagnall, A., 2024. Bake off redux: a review and experimental evaluation of recent time series classification algorithms. Data Mining and Knowledge Discovery, pp.1-74.\n",
    "\n",
    "[4] Dau, H.A., Bagnall, A., Kamgar, K., Yeh, C.C.M., Zhu, Y., Gharghabi, S., Ratanamahatana, C.A. and Keogh, E., 2019. The UCR time series archive. IEEE/CAA Journal of Automatica Sinica, 6(6), pp.1293-1305.\n",
    "\n",
    "[5] Bagnall, A., Dau, H.A., Lines, J., Flynn, M., Large, J., Bostrom, A., Southam, P. and Keogh, E., 2018. The UEA multivariate time series classification archive, 2018. arXiv preprint arXiv:1811.00075.\n",
    "\n",
    "[6] Garcia, S. and Herrera, F., 2008. An Extension on\" Statistical Comparisons of Classifiers over Multiple Data Sets\" for all Pairwise Comparisons. Journal of machine learning research, 9(12).\n"
   ]
  }
 ],
 "metadata": {
  "kernelspec": {
   "display_name": "Python 3",
   "language": "python",
   "name": "python3"
  },
  "language_info": {
   "codemirror_mode": {
    "name": "ipython",
    "version": 3
   },
   "file_extension": ".py",
   "mimetype": "text/x-python",
   "name": "python",
   "nbconvert_exporter": "python",
   "pygments_lexer": "ipython3",
   "version": "3.11.5"
  }
 },
 "nbformat": 4,
 "nbformat_minor": 0
}
