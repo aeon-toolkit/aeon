{
 "cells": [
  {
   "cell_type": "markdown",
   "source": [
    "# Storing and Loading data in `aeon`\n",
    "\n",
    "Getting data into the correct data structure is fundamental. This notebook\n",
    "describes the datastructures used in `aeon` and links to more complex use cases.\n",
    "models two types of abstract data. Single series and collections of series.\n",
    "\n",
    "A single time series can be univariate (each observation is a single value) or\n",
    "multivariate (each observation is a vector). We say that the length of the vector\n",
    "(its dimension) is the number of channels, which in code we denote `n_channels`.\n",
    "The length of the series is called  the number of timepoints, or `n_timepoints` in\n",
    "code. We generally store a single series\n",
    "in a 2D numpy array with shape ``(n_channels, n_timepoints)``. Series estimators\n",
    "should work with a univariate series stored as a 1D numpy array, but will internally convert to 2D.\n",
    "\n",
    "A collection consists of a group of time series, ideally assumed to be independent of\n",
    " each other. Each is also called a case or instance, and a collection contains a\n",
    " number of cases, denoted ``n_cases``. A  collection of equal length time series is\n",
    " internally stored in a 3D numpy array of shape ``(n_cases, n_channels, n_timepoints)\n",
    " ``. Collection estimators will work with a univariate collection of shape ``\n",
    " (n_cases, n_timepoints)`` which internally is converted to ``(n_cases, 1,\n",
    " n_timepoints)``.  Like ``scikit-learn``, we refer to a\n",
    " collection of cases as ``X``. Supervised learners (e.g. classifiers and regressors)\n",
    " require a target variable for training."
   ],
   "metadata": {
    "collapsed": false
   },
   "outputs": []
  },
  {
   "cell_type": "markdown",
   "source": [
    "## Why this shape?\n",
    "\n",
    "We get asked this a lot. Packages like tensorflow assume  ``(n_cases, n_timepoints,\n",
    "n_channels)`` rather than ``(n_cases, n_channels, n_timepoints)``. tl;dr: its a\n",
    "decision we made early on because many estimators iterate over channels, and we are\n",
    "not changing it now. Its simple to reshape.\n",
    "\n",
    "If your collection of series are unequal length, we store them in a list of 2D numpy\n",
    "arrays. See the [unequal length collections](provided_unequal.ipynb). aeon does not\n",
    "currently support single series with unequal length channels.\n",
    "\n",
    "`aeon` ships with a range of datasets used in examples and testing. The [provided\n",
    "datasets notebook](provided_data.ipynb) describes all these datasets.\n",
    "\n",
    "`aeon` provides functions to load data directly from text files in several formats.\n",
    "The [data loading notebook](data_loading.ipynb) describes the formats of our\n",
    "supported files and how to load them into aeon data structures.\n",
    "\n",
    "You can load data directly from the [Time Series Machine Learning\n",
    "archive](https://timeseriesclassification.com/) and the\n",
    "[Monash time series forecasting](https://forecastingdata.org/)\n",
    "sites. More details in the [load from web notebook](load_data_from_web.ipynb).\n"
   ],
   "metadata": {
    "collapsed": false
   }
  }
 ],
 "metadata": {
  "kernelspec": {
   "display_name": "Python 3",
   "language": "python",
   "name": "python3"
  },
  "language_info": {
   "codemirror_mode": {
    "name": "ipython",
    "version": 2
   },
   "file_extension": ".py",
   "mimetype": "text/x-python",
   "name": "python",
   "nbconvert_exporter": "python",
   "pygments_lexer": "ipython2",
   "version": "2.7.6"
  }
 },
 "nbformat": 4,
 "nbformat_minor": 0
}
