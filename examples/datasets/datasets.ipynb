{
 "cells": [
  {
   "cell_type": "markdown",
   "source": [
    "# Storing and Loading data in `aeon`\n",
    "\n",
    "Getting data into the correct data structure is fundamental. This notebook describes\n",
    "the data structures used in `aeon` and links to more complex use cases. `aeon` models\n",
    "abstract data types: single series and collections of series.\n",
    "\n",
    "A single time series can be univariate (each observation is a single value) or\n",
    "multivariate (each observation is a vector). We say that the length of the vector\n",
    "(its dimension) is the number of channels, which in code we denote `n_channels`.\n",
    "The length of the series is called  the number of timepoints, or `n_timepoints` in\n",
    "code. We generally store a single series\n",
    "in a 2D numpy array with shape ``(n_channels, n_timepoints)``. Series estimators\n",
    "should work with a univariate series stored as a 1D numpy array, but will internally convert to 2D."
   ],
   "metadata": {
    "collapsed": false
   }
  },
  {
   "cell_type": "code",
   "execution_count": 1,
   "outputs": [
    {
     "name": "stdout",
     "output_type": "stream",
     "text": [
      "(1, 100)\n",
      "(3, 200)\n",
      "(10, 1, 50)\n",
      "(5, 26, 100)\n"
     ]
    }
   ],
   "source": [
    "import numpy as np\n",
    "\n",
    "X = np.random.random((1, 100))  # Univariate series length 100\n",
    "print(X.shape)\n",
    "X = np.random.random((3, 200))  # three channel multivariate series length 200\n",
    "print(X.shape)\n",
    "X = np.random.random((10, 1, 50))  # Collection of 10 univariate series of length 50\n",
    "print(X.shape)\n",
    "X = np.random.random((5, 26, 100))  # Collection of 5 multivariate time series with 26\n",
    "# channels, length 100\n",
    "print(X.shape)"
   ],
   "metadata": {
    "collapsed": false
   }
  },
  {
   "cell_type": "markdown",
   "source": [
    "## Why this shape?\n",
    "\n",
    "We get asked this a lot. Packages like tensorflow assume  ``(n_cases, n_timepoints,\n",
    "n_channels)`` rather than ``(n_cases, n_channels, n_timepoints)``. tl;dr: its a\n",
    "decision we made early on because many estimators iterate over channels, and we are\n",
    "not changing it now. It is simple to reshape.\n"
   ],
   "metadata": {
    "collapsed": false
   }
  },
  {
   "cell_type": "markdown",
   "source": [
    "Supervised collection algorithms (e.g. classifiers , regressors and some collection\n",
    "transformers) require a target variable for training. In keeping with\n",
    "`scikit-learn`, we denote the target `y`. For classification, `y` should be a numpy\n",
    "array of strings or integers. For regression, `y` should be a numpy array of integers\n",
    " or floats. The `DummyClassifier` used below simply predicts the majority class in\n",
    " the train data. The `DummyRegressor` predicts the mean of the training target variable."
   ],
   "metadata": {
    "collapsed": false
   }
  },
  {
   "cell_type": "code",
   "execution_count": 2,
   "outputs": [
    {
     "name": "stdout",
     "output_type": "stream",
     "text": [
      "['run' 'run' 'run' 'run' 'run']\n",
      "[1 1 1 1 1]\n",
      "[0.6 0.6 0.6 0.6 0.6]\n",
      "[0.8899 0.8899 0.8899 0.8899 0.8899]\n"
     ]
    }
   ],
   "source": [
    "import numpy as np\n",
    "\n",
    "from aeon.classification import DummyClassifier\n",
    "from aeon.regression import DummyRegressor\n",
    "\n",
    "X = np.random.random((5, 1, 10))  # Collection of five series\n",
    "y1 = np.array([\"run\", \"walk\", \"run\", \"run\", \"walk\"])\n",
    "y2 = np.array([1, 0, 1, 1, 0])\n",
    "y3 = np.array([0.5, 1.11, 0.545, -0.3675, 2.662])\n",
    "cls = DummyClassifier()\n",
    "reg = DummyRegressor()\n",
    "cls.fit(X, y1)\n",
    "print(cls.predict(X))\n",
    "cls.fit(X, y2)\n",
    "print(cls.predict(X))\n",
    "reg.fit(X, y2)\n",
    "print(reg.predict(X))\n",
    "reg.fit(X, y3)\n",
    "print(reg.predict(X))"
   ],
   "metadata": {
    "collapsed": false
   }
  },
  {
   "cell_type": "markdown",
   "source": [
    "\n",
    "If your collection of series are unequal length, we store them in a list of 2D numpy\n",
    "arrays. See the [unequal length collections](data_unequal.ipynb). aeon does not\n",
    "currently support single series with unequal length channels.\n",
    "\n",
    "`aeon` ships with a range of datasets used in examples and testing. The [provided\n",
    "datasets notebook](provided_data.ipynb) describes all these datasets.\n",
    "\n",
    "`aeon` provides functions to load data directly from text files in several formats.\n",
    "The [data loading notebook](data_loading.ipynb) describes the formats of our\n",
    "supported files and how to load them into aeon data structures.\n",
    "\n",
    "You can load data directly from the [Time Series Machine Learning\n",
    "archive](https://timeseriesclassification.com/) and the\n",
    "[Monash time series forecasting](https://forecastingdata.org/)\n",
    "sites. More details in the [load from web notebook](load_data_from_web.ipynb)."
   ],
   "metadata": {
    "collapsed": false
   }
  },
  {
   "cell_type": "markdown",
   "source": [],
   "metadata": {
    "collapsed": false
   }
  }
 ],
 "metadata": {
  "kernelspec": {
   "display_name": "Python 3",
   "language": "python",
   "name": "python3"
  },
  "language_info": {
   "codemirror_mode": {
    "name": "ipython",
    "version": 2
   },
   "file_extension": ".py",
   "mimetype": "text/x-python",
   "name": "python",
   "nbconvert_exporter": "python",
   "pygments_lexer": "ipython2",
   "version": "2.7.6"
  }
 },
 "nbformat": 4,
 "nbformat_minor": 0
}
