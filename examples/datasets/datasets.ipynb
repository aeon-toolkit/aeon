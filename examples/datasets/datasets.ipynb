{
 "cells": [
  {
   "cell_type": "markdown",
   "source": [
    "# Loading/storing/converting data in aeon\n",
    "\n",
    "Getting data into the correct data structure is fundamental. These notebooks cover:\n",
    "\n",
    "[Data structures and containers for aeon estimators](data_structures.ipynb)\n",
    "\n",
    "aeon includes algorithms for time series forecasting and machine learning. These two\n",
    "communities have different conventions on how to store data and what to call data\n",
    "structures. The [data structures and containers notebook](data_structures.ipynb) goes\n",
    "into more detail as\n",
    "to how we store data, with recommendations on what to use for different learning tasks.\n",
    "\n",
    "[Converting from one data structure to another](data_conversions.ipynb)\n",
    "\n",
    "aeon provides tools from converting from one data structure to another. Estimators\n",
    "internally handle conversion to the one they need internally. The [data conversions\n",
    "notebook](data_conversions.ipynb) provides an overview of these conversions.\n",
    "\n",
    "[Loading data from file](data_loading.ipynb)\n",
    "\n",
    "aeon provides functions to load data directly from text files in several formats. The\n",
    "[data loading notebook](data_loading.ipynb) describes the formats of our\n",
    "supported files and how to load them into aeon data structures.\n",
    "\n",
    "\n",
    "[Provided datasets](provided_data.ipynb)\n",
    "\n",
    "aeon ships with a range of datasets used in examples and testing. The [provided\n",
    "datasets notebook](provided_data.ipynb) describes all these datasets.\n",
    "\n",
    "[Loading data from online repositories](benchmarking_data.ipynb).\n",
    "\n",
    "You can load data directly from our sister websites [Time Series Machine Learning\n",
    "archive](https://timeseriesclassification.com/) and the [Monash time series forecasting]\n",
    "(https://forecastingdata.org/) sites. More details in the [load from web notebook](load_data_from_web.ipynb)\n",
    "\n"
   ],
   "metadata": {
    "collapsed": false
   }
  },
  {
   "cell_type": "code",
   "execution_count": null,
   "outputs": [],
   "source": [],
   "metadata": {
    "collapsed": false
   }
  }
 ],
 "metadata": {
  "kernelspec": {
   "display_name": "Python 3",
   "language": "python",
   "name": "python3"
  },
  "language_info": {
   "codemirror_mode": {
    "name": "ipython",
    "version": 2
   },
   "file_extension": ".py",
   "mimetype": "text/x-python",
   "name": "python",
   "nbconvert_exporter": "python",
   "pygments_lexer": "ipython2",
   "version": "2.7.6"
  }
 },
 "nbformat": 4,
 "nbformat_minor": 0
}
