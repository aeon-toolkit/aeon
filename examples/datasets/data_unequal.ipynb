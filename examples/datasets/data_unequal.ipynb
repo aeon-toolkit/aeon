{
 "cells": [
  {
   "cell_type": "markdown",
   "source": [
    "# Loading data with unequal length series or missing values\n",
    "\n",
    "Some of the archive datasets have variable length series or missing values.\n",
    "Some algorithms can handle this type of data internally, but many cannot. You can\n",
    "find out\n",
    " estimator capabilities through the tags. For example, the ability to handle unequal\n",
    " length series internally is indicated by the tag ``capability:unequal_length``. You\n",
    " can find out which estimators have this capability by using ``all_estimators``.\n"
   ],
   "metadata": {
    "collapsed": false
   }
  },
  {
   "cell_type": "code",
   "execution_count": 1,
   "outputs": [
    {
     "data": {
      "text/plain": "[('Catch22Classifier',\n  aeon.classification.feature_based._catch22.Catch22Classifier),\n ('DummyClassifier', aeon.classification._dummy.DummyClassifier),\n ('ElasticEnsemble',\n  aeon.classification.distance_based._elastic_ensemble.ElasticEnsemble),\n ('KNeighborsTimeSeriesClassifier',\n  aeon.classification.distance_based._time_series_neighbors.KNeighborsTimeSeriesClassifier),\n ('MockClassifierFullTags',\n  aeon.testing.mock_estimators._mock_classifiers.MockClassifierFullTags),\n ('RDSTClassifier', aeon.classification.shapelet_based._rdst.RDSTClassifier)]"
     },
     "execution_count": 1,
     "metadata": {},
     "output_type": "execute_result"
    }
   ],
   "source": [
    "from aeon.registry import all_estimators\n",
    "\n",
    "all_estimators(\n",
    "    estimator_types=\"classifier\", filter_tags={\"capability:unequal_length\": True}\n",
    ")"
   ],
   "metadata": {
    "collapsed": false
   }
  },
  {
   "cell_type": "markdown",
   "source": [
    "Collections of unequal length series are stored as a list of 2D arrays. There are two\n",
    " unequal length example problems in ``aeon``"
   ],
   "metadata": {
    "collapsed": false
   }
  },
  {
   "cell_type": "code",
   "execution_count": 2,
   "outputs": [
    {
     "name": "stdout",
     "output_type": "stream",
     "text": [
      "<class 'tuple'>    <class 'tuple'>\n",
      "shape first = (12, 20) shape 11th = (12, 23)\n"
     ]
    }
   ],
   "source": [
    "from aeon.datasets import load_japanese_vowels, load_plaid\n",
    "\n",
    "j_vowels, j_labels = load_japanese_vowels()\n",
    "p_vowels, p_labels = load_plaid()\n",
    "print(type(j_vowels[0].shape), \"  \", type(p_vowels[0].shape))\n",
    "print(\"shape first =\", j_vowels[0].shape, \"shape 11th =\", j_vowels[10].shape)"
   ],
   "metadata": {
    "collapsed": false
   }
  },
  {
   "cell_type": "markdown",
   "source": [
    "The TSML archive [TSC.com](timeseriesclassification.com) contains several unequal\n",
    "length series, including 11 from the UCR univariate archive and seven from the\n",
    "multivariate archive."
   ],
   "metadata": {
    "collapsed": false
   }
  },
  {
   "cell_type": "code",
   "execution_count": 3,
   "outputs": [
    {
     "name": "stdout",
     "output_type": "stream",
     "text": [
      "{'PickupGestureWiimoteZ', 'GestureMidAirD2', 'ShakeGestureWiimoteZ', 'PLAID', 'GesturePebbleZ1', 'AllGestureWiimoteZ', 'GestureMidAirD1', 'GestureMidAirD3', 'GesturePebbleZ2', 'AllGestureWiimoteY', 'AllGestureWiimoteX'}\n",
      "{'AsphaltObstaclesCoordinates', 'SpokenArabicDigits', 'InsectWingbeat', 'CharacterTrajectories', 'JapaneseVowels', 'AsphaltPavementTypeCoordinates', 'AsphaltRegularityCoordinates'}\n"
     ]
    }
   ],
   "source": [
    "from aeon.datasets.tsc_datasets import (\n",
    "    multivariate_unequal_length,\n",
    "    univariate_variable_length,\n",
    ")\n",
    "\n",
    "print(univariate_variable_length)\n",
    "print(multivariate_unequal_length)"
   ],
   "metadata": {
    "collapsed": false
   }
  },
  {
   "cell_type": "markdown",
   "source": [
    "It is commonplace to preprocess variable length series prior to\n",
    "classification/regression/clustering. There are tools to do this in `aeon`\n",
    "directly. For example, you can pad series to the longest length or you can truncate\n",
    "them to the shortest length series in the collection if unequal length:"
   ],
   "metadata": {
    "collapsed": false
   }
  },
  {
   "cell_type": "code",
   "execution_count": 4,
   "outputs": [
    {
     "name": "stdout",
     "output_type": "stream",
     "text": [
      "(640, 12, 29) (640, 12, 7)\n"
     ]
    }
   ],
   "source": [
    "from aeon.transformations.collection import PaddingTransformer, TruncationTransformer\n",
    "\n",
    "padder = PaddingTransformer()\n",
    "truncator = TruncationTransformer()\n",
    "padded_j_vowels = padder.fit_transform(j_vowels)\n",
    "truncated_j_vowels = truncator.fit_transform(j_vowels)\n",
    "print(padded_j_vowels.shape, truncated_j_vowels.shape)"
   ],
   "metadata": {
    "collapsed": false
   }
  },
  {
   "cell_type": "markdown",
   "source": [
    "There is not one best way of dealing with unequal length series. TSC has equal length\n",
    "version of all unequal length datasets and you can load these directly with\n",
    "`load_classification` and `load_regression` functions where the equalising operation\n",
    "is bespoke to the problem. For the classification problems, the data was padded\n",
    "with the series mean with low level Gaussian noise added. Loading equal length\n",
    " is the default behaviour"
   ],
   "metadata": {
    "collapsed": false
   }
  },
  {
   "cell_type": "code",
   "execution_count": 14,
   "outputs": [
    {
     "name": "stdout",
     "output_type": "stream",
     "text": [
      "<class 'numpy.ndarray'>\n",
      "(640, 12, 25)\n",
      "<class 'list'>\n"
     ]
    }
   ],
   "source": [
    "from aeon.datasets import load_classification\n",
    "\n",
    "j_equal, _ = load_classification(\"JapaneseVowels\")\n",
    "j_unequal, _ = load_classification(\"JapaneseVowels\", load_equal_length=False)\n",
    "print(type(j_equal))\n",
    "print(j_equal.shape)\n",
    "print(type(j_unequal))"
   ],
   "metadata": {
    "collapsed": false
   }
  },
  {
   "cell_type": "markdown",
   "source": [
    "This is the case for both the classification and regression problems. When\n",
    "downloaded, it copies a zip file containing both versions.\n",
    "\n",
    "<img src=\"img/download3.png\"/>\n",
    "\n",
    "Unequal length problems made equal length have a suffix `_eq` and those with missing values imputed have suffix `_nmv`. At the moment we do not have any problems with both missing and unequal length."
   ],
   "metadata": {
    "collapsed": false
   }
  },
  {
   "cell_type": "code",
   "execution_count": null,
   "outputs": [],
   "source": [],
   "metadata": {
    "collapsed": false
   }
  }
 ],
 "metadata": {
  "kernelspec": {
   "display_name": "Python 3",
   "language": "python",
   "name": "python3"
  },
  "language_info": {
   "codemirror_mode": {
    "name": "ipython",
    "version": 2
   },
   "file_extension": ".py",
   "mimetype": "text/x-python",
   "name": "python",
   "nbconvert_exporter": "python",
   "pygments_lexer": "ipython2",
   "version": "2.7.6"
  }
 },
 "nbformat": 4,
 "nbformat_minor": 0
}
