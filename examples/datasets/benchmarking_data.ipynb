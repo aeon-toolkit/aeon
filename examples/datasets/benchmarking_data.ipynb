{
 "cells": [
  {
   "cell_type": "markdown",
   "source": [
    "# Getting and using benchmarking data archives\n",
    "\n",
    "Collections of data sets are an important component of evaluating and comparing time\n",
    "series algorithms. There are standard dataset collections that are commonly used in\n",
    "time series research. aeon provides tools for downloading this data and loading it\n",
    "into data structures compatible with aeon estimators."
   ],
   "metadata": {
    "collapsed": false
   }
  },
  {
   "cell_type": "markdown",
   "source": [
    "\n",
    "## Forecasting\n",
    "\n",
    "the Makridarkis forecasting competitions\n",
    "\n",
    "M4 data\n",
    "M5 data"
   ],
   "metadata": {
    "collapsed": false
   }
  },
  {
   "cell_type": "markdown",
   "source": [
    "\n",
    "## Machine Learning\n",
    "\n",
    "Thre time series classification archive contains UCR etc [2], time series regression\n",
    "archive [3] lala\n",
    "\n",
    "Other archives?"
   ],
   "metadata": {
    "collapsed": false
   }
  },
  {
   "cell_type": "code",
   "execution_count": 3,
   "outputs": [
    {
     "name": "stdout",
     "output_type": "stream",
     "text": [
      "There are 127 univariate datasets in the UCR archive. First = ACSF1 last = WormsTwoClass\n"
     ]
    }
   ],
   "source": [
    "import aeon.datasets.tsc_dataset_names\n",
    "from aeon.datasets import load_from_tsc\n",
    "\n",
    "uni = aeon.datasets.tsc_dataset_names.univariate\n",
    "print(\n",
    "    f\"There are {len(uni)} univariate \"\n",
    "    f\"datasets in the UCR archive. First = {uni[0]} last = {uni[-1]}\"\n",
    ")"
   ],
   "metadata": {
    "collapsed": false
   }
  },
  {
   "cell_type": "code",
   "execution_count": 4,
   "outputs": [
    {
     "name": "stdout",
     "output_type": "stream",
     "text": [
      "There are 33 multivariate datasets in the TSC archive. First = ArticularyWordRecognition last = UWaveGestureLibrary\n"
     ]
    }
   ],
   "source": [
    "multi = aeon.datasets.tsc_dataset_names.multivariate\n",
    "print(\n",
    "    f\"There are {len(multi)} multivariate datasets in the TSC archive. First = \"\n",
    "    f\"{multi[0]} last = {multi[-1]}\"\n",
    ")"
   ],
   "metadata": {
    "collapsed": false
   }
  },
  {
   "cell_type": "code",
   "execution_count": null,
   "outputs": [],
   "source": [
    "reg = aeon.datasets.tsc_dataset_names.regression\n",
    "print(\n",
    "    f\"There are {len(reg)} regression datasets in the Monash archive. First = \"\n",
    "    f\"{reg[0]} last = {reg[-1]}\"\n",
    ")"
   ],
   "metadata": {
    "collapsed": false
   }
  },
  {
   "cell_type": "markdown",
   "source": [
    "You can download all of these three archives as zip files\n",
    "univariate\n",
    "multivariate\n",
    "regression.\n",
    "\n",
    "Individual problems through the dataset links, e.g.\n",
    "\n",
    "or you can download data directly in code and load into memory with the function"
   ],
   "metadata": {
    "collapsed": false
   }
  },
  {
   "cell_type": "code",
   "execution_count": null,
   "outputs": [],
   "source": [
    "import matplotlib.pyplot as plt\n",
    "\n",
    "china, y = load_from_tsc(name=\"Chinatown\", extract_path=\"./Temp/\")\n",
    "plt.title(\n",
    "    f\"First case (class {y[0]} of Chinatown data set from \"\n",
    "    f\"http://timeseriesclassification.com/description.php?Dataset=Chinatown\"\n",
    ")\n",
    "plt.plot(china[0])"
   ],
   "metadata": {
    "collapsed": false
   }
  }
 ],
 "metadata": {
  "kernelspec": {
   "display_name": "Python 3",
   "language": "python",
   "name": "python3"
  },
  "language_info": {
   "codemirror_mode": {
    "name": "ipython",
    "version": 2
   },
   "file_extension": ".py",
   "mimetype": "text/x-python",
   "name": "python",
   "nbconvert_exporter": "python",
   "pygments_lexer": "ipython2",
   "version": "2.7.6"
  }
 },
 "nbformat": 4,
 "nbformat_minor": 0
}
