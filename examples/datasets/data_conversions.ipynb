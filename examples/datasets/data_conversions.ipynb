{
 "cells": [
  {
   "cell_type": "markdown",
   "source": [
    "# Data conversions in aeon\n",
    "\n",
    "We recommend you follow the data storage described in the [data storage notebook](examples/datasets/data_storage.ipynb)\n",
    "which can be summarised as follows: Use `pd.Series` or `pd.DataFrame` for forecasting\n",
    " and for classification, clustering and regression, use 3D numpy of shape `(n_cases,\n",
    " n_channels, n_timepoints)` if your collection of time series are equal length, or a\n",
    "  list of 2D numpy of length `[n_cases]` if not equal length. All are [data loaders]\n",
    "  (examples/datasets/data_loading.ipynb)  use this format.\n",
    "\n",
    "However, `aeon` provides a range of converters in the `datatypes` package. These are\n",
    "grouped into converters for single series and converters for collections of series"
   ],
   "metadata": {
    "collapsed": false
   }
  },
  {
   "cell_type": "markdown",
   "source": [
    "# Series Converters\n",
    "\n",
    "Single time series can be stored in the following data structures\n",
    "\n",
    "- \"pd.Series\": Pandas Series storing a univariate time series\n",
    "- \"pd.DataFrame\": Pandas DataFrame storing a univariate or multivariate time series\n",
    "- \"np.ndarray\": numpy 2d array for series of shape `(n_timepoints, n_channels)`.\n",
    "- \"xr.DataArray\": xarray DataArray a for a univariate or multivariate time series\n",
    "- \"dask_series\": Dask DataFrame for a univariate or multivariate time series\n",
    "\n",
    "The above strings are used to internally specify each different data structure. NOTE the\n",
    " 2D numpy array representation is not consistent with that used in\n",
    "collections. This is an unfortunate difference that is a result of legacy design and\n",
    "norms in different research fields.\n",
    "\n",
    "Conversion to and from these data structures is fairly straightforward, but we\n",
    "provide tools to help. `aeon` contains converters that are wrapped by the method\n",
    "`convert`. This method will attempt to convert from one of the five types to another,\n",
    " and raise an exception if the conversion is invalid (e.g. if the object is not in\n",
    " fact of type \"from_type\"). Note that series estimators will attempt to automatically\n",
    "  perform this conversion to the specified internal type of that estimator."
   ],
   "metadata": {
    "collapsed": false
   }
  },
  {
   "cell_type": "code",
   "execution_count": 27,
   "outputs": [
    {
     "data": {
      "text/plain": "xarray.core.dataarray.DataArray"
     },
     "execution_count": 27,
     "metadata": {},
     "output_type": "execute_result"
    }
   ],
   "source": [
    "import numpy as np\n",
    "\n",
    "from aeon.datatypes import convert\n",
    "\n",
    "numpyarray = np.random.random(size=(100, 1))\n",
    "series = convert(numpyarray, from_type=\"np.ndarray\", to_type=\"xr.DataArray\")\n",
    "type(series)"
   ],
   "metadata": {
    "collapsed": false
   }
  },
  {
   "cell_type": "markdown",
   "source": [
    "the method `convert` wraps actual converter functions in the file `aeon.datatypes\n",
    "._series._convert`. Some examples below"
   ],
   "metadata": {
    "collapsed": false
   }
  },
  {
   "cell_type": "code",
   "execution_count": 28,
   "outputs": [
    {
     "data": {
      "text/plain": "pandas.core.frame.DataFrame"
     },
     "execution_count": 28,
     "metadata": {},
     "output_type": "execute_result"
    }
   ],
   "source": [
    "from aeon.datatypes._series._convert import (\n",
    "    convert_mvs_to_dask_as_series,\n",
    "    convert_Mvs_to_xrdatarray_as_Series,\n",
    "    convert_np_to_MvS_as_Series,\n",
    ")\n",
    "\n",
    "pd_dataframe = convert_np_to_MvS_as_Series(numpyarray)\n",
    "type(pd_dataframe)"
   ],
   "metadata": {
    "collapsed": false
   }
  },
  {
   "cell_type": "code",
   "execution_count": 29,
   "outputs": [
    {
     "data": {
      "text/plain": "dask.dataframe.core.DataFrame"
     },
     "execution_count": 29,
     "metadata": {},
     "output_type": "execute_result"
    }
   ],
   "source": [
    "dask_dataframe = convert_mvs_to_dask_as_series(pd_dataframe)\n",
    "type(dask_dataframe)"
   ],
   "metadata": {
    "collapsed": false
   }
  },
  {
   "cell_type": "code",
   "execution_count": 30,
   "outputs": [
    {
     "data": {
      "text/plain": "xarray.core.dataarray.DataArray"
     },
     "execution_count": 30,
     "metadata": {},
     "output_type": "execute_result"
    }
   ],
   "source": [
    "xrarray = convert_Mvs_to_xrdatarray_as_Series(pd_dataframe)\n",
    "type(xrarray)"
   ],
   "metadata": {
    "collapsed": false
   }
  },
  {
   "cell_type": "markdown",
   "source": [
    "# Collections Converters\n",
    "\n",
    "Previously, collections of time series were called panels (a term from econometrics,\n",
    "not machine learning), and there are still references to panel. The main\n",
    "data structures for storing collections are as follows\n",
    "\n",
    "- \"numpy3D\": 3D np.ndarray of format `(n_cases, n_channels, n_timepoints)`\n",
    "- \"np-list\": python list of 2D numpy array of length `[n_cases]`, each of shape\n",
    "`(n_channels, n_timepoints_i)`\n",
    "- \"df-list\": python list of 2D pd.DataFrames of length `[n_cases]`, each a of shape\n",
    "`(n_timepoints_i, n_channels)`\n",
    "- \"numpyflat\": 2D np.ndarray of format `(n_cases, n_channels*n_timepoints)`\n",
    "\n",
    "Other supported types which may be useful in forecasting are\n",
    "\n",
    "- \"nested_univ\": a pd.DataFrame of shape `(n_cases, n_channels)` where each cell is a\n",
    " pd.Series of length `(n_timepoints)`\n",
    " - \"pd-multiindex\": pd.DataFrame with multi-index `(cases, timepoints)`\n",
    " - \"pd-wide\": pd.DataFrame in wide format, `cols = (instance*timepoints)`\n",
    " - \"dask_panel\": dask frame with one instance and one time index\n",
    "\n",
    "As with series, conversion is performed with the method `convert` and auto conversion\n",
    " happens in estimator base classes. These wrap methods in `aeon.datatypes\n",
    "._panel._convert`"
   ],
   "metadata": {
    "collapsed": false
   }
  },
  {
   "cell_type": "code",
   "execution_count": 35,
   "outputs": [
    {
     "name": "stdout",
     "output_type": "stream",
     "text": [
      " Type = <class 'list'>, type first <class 'numpy.ndarray'> shape first (3, 100)\n"
     ]
    }
   ],
   "source": [
    "# 10 multivariate time series with 3 channels of length 100 in \"numpy3D\" format\n",
    "multi = np.random.random(size=(10, 3, 100))\n",
    "np_list = convert(multi, from_type=\"numpy3D\", to_type=\"np-list\")\n",
    "print(\n",
    "    f\" Type = {type(np_list)}, type first {type(np_list[0])} shape first \"\n",
    "    f\"{np_list[0].shape}\"\n",
    ")"
   ],
   "metadata": {
    "collapsed": false
   }
  },
  {
   "cell_type": "code",
   "execution_count": 36,
   "outputs": [
    {
     "name": "stdout",
     "output_type": "stream",
     "text": [
      " Type = <class 'list'>, type first <class 'pandas.core.frame.DataFrame'> shape first (100, 3)\n"
     ]
    }
   ],
   "source": [
    "df_list = convert(multi, from_type=\"numpy3D\", to_type=\"df-list\")\n",
    "print(\n",
    "    f\" Type = {type(df_list)}, type first {type(df_list[0])} shape first \"\n",
    "    f\"{df_list[0].shape}\"\n",
    ")"
   ],
   "metadata": {
    "collapsed": false
   }
  },
  {
   "cell_type": "markdown",
   "source": [
    "Note again the difference in storage convention: series in 2D numpy are stored in `\n",
    "(n_channels, n_timepoints)`, whereas with dataframes, they are in shape `\n",
    "(n_timepoints, n_channels)`. We know this is confusing, and are thinking about the\n",
    "best way of reconciling this distinction. See [this issue](https://github\n",
    ".com/aeon-toolkit/aeon/issues/537). The actual converter functions are here\n"
   ],
   "metadata": {
    "collapsed": false
   }
  },
  {
   "cell_type": "code",
   "execution_count": 39,
   "outputs": [
    {
     "name": "stdout",
     "output_type": "stream",
     "text": [
      " Type = <class 'pandas.core.frame.DataFrame'>,shape (3000, 4)\n"
     ]
    }
   ],
   "source": [
    "from aeon.datatypes._panel._convert import (\n",
    "    from_3d_numpy_to_long,\n",
    "    from_3d_numpy_to_multi_index,\n",
    ")\n",
    "\n",
    "long = from_3d_numpy_to_long(multi)\n",
    "print(f\" Type = {type(long)},shape {long.shape}\")"
   ],
   "metadata": {
    "collapsed": false
   }
  },
  {
   "cell_type": "code",
   "execution_count": 40,
   "outputs": [
    {
     "name": "stdout",
     "output_type": "stream",
     "text": [
      " Type = <class 'pandas.core.frame.DataFrame'>,shape (1000, 3)\n"
     ]
    }
   ],
   "source": [
    "mi = from_3d_numpy_to_multi_index(multi)\n",
    "print(f\" Type = {type(mi)},shape {mi.shape}\")"
   ],
   "metadata": {
    "collapsed": false
   }
  }
 ],
 "metadata": {
  "kernelspec": {
   "display_name": "Python 3",
   "language": "python",
   "name": "python3"
  },
  "language_info": {
   "codemirror_mode": {
    "name": "ipython",
    "version": 2
   },
   "file_extension": ".py",
   "mimetype": "text/x-python",
   "name": "python",
   "nbconvert_exporter": "python",
   "pygments_lexer": "ipython2",
   "version": "2.7.6"
  }
 },
 "nbformat": 4,
 "nbformat_minor": 0
}
