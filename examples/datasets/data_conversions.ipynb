{
 "cells": [
  {
   "cell_type": "markdown",
   "source": [
    "# Data conversions in aeon\n",
    "\n",
    "We recommend you follow the data storage described in the [data storage notebook](examples/datasets/data_storage.ipynb)\n",
    "which can be summarised as follows: Use `pd.Series` or `pd.DataFrame` for forecasting\n",
    " and for classification, clustering and regression, use 3D numpy of shape `(n_cases,\n",
    " n_channels, n_timepoints)` if your collection of time series are equal length, or a\n",
    "  list of 2D numpy of length `[n_cases]` if not equal length. All are [data loaders]\n",
    "  (examples/datasets/data_loading.ipynb)  use this format.\n",
    "\n",
    "However, `aeon` provides a range of converters in the `datatypes` package. These are\n",
    "grouped into converters for single series and converters for collections of series"
   ],
   "metadata": {
    "collapsed": false
   }
  },
  {
   "cell_type": "markdown",
   "source": [
    "# Series Converters\n",
    "\n",
    "Single time series can be stored in the following data structures\n",
    "\n",
    "pd.Series: a univariate time series\n",
    "pd.DataFrame: a univariate or multivariate time series\n",
    "np.ndarray: 2D numpy.ndarray of shape `(n_timepoints, n_channels)`.\n",
    "xr.DataArray: a univariate or multivariate time series\n",
    "dask_series: Dask DataFrame: a univariate or multivariate time series\n",
    "\n",
    "NOTE the 2D numpy array representation is not consistent with that used in\n",
    "collections. This is an unfortunate difference that is a result of legacy design and\n",
    "norms in different research fields. We recommend not using numpy arrays with\n",
    "forecasting.\n",
    "\n",
    "Conversion to and from these data structures is fairly straightforward. `aeon` contains\n",
    "converters that are part of the legacy code base. There is a wrapper to hide all this\n",
    " code, but we also show under the hood. This code is not likely to be maintained."
   ],
   "metadata": {
    "collapsed": false
   }
  },
  {
   "cell_type": "code",
   "execution_count": 8,
   "outputs": [
    {
     "data": {
      "text/plain": "xarray.core.dataarray.DataArray"
     },
     "execution_count": 8,
     "metadata": {},
     "output_type": "execute_result"
    }
   ],
   "source": [
    "import numpy as np\n",
    "\n",
    "from aeon.datatypes import convert\n",
    "\n",
    "numpyarray = np.random.random(size=(100, 1))\n",
    "series = convert(numpyarray, from_type=\"np.ndarray\", to_type=\"xr.DataArray\")\n",
    "type(series)"
   ],
   "metadata": {
    "collapsed": false
   }
  },
  {
   "cell_type": "markdown",
   "source": [
    "All the actual converter functions for series are in the following file `aeon.datatypes._series._convert`. We stress,\n",
    "this is legacy code. `aeon` thinks it better the user is responsible for getting the\n",
    "data into the best format for the estimators."
   ],
   "metadata": {
    "collapsed": false
   }
  },
  {
   "cell_type": "code",
   "execution_count": 9,
   "outputs": [
    {
     "data": {
      "text/plain": "pandas.core.frame.DataFrame"
     },
     "execution_count": 9,
     "metadata": {},
     "output_type": "execute_result"
    }
   ],
   "source": [
    "from aeon.datatypes._series._convert import (\n",
    "    convert_mvs_to_dask_as_series,\n",
    "    convert_Mvs_to_xrdatarray_as_Series,\n",
    "    convert_np_to_MvS_as_Series,\n",
    ")\n",
    "\n",
    "pd_dataframe = convert_np_to_MvS_as_Series(numpyarray)\n",
    "type(pd_dataframe)"
   ],
   "metadata": {
    "collapsed": false
   }
  },
  {
   "cell_type": "code",
   "execution_count": 10,
   "outputs": [
    {
     "data": {
      "text/plain": "dask.dataframe.core.DataFrame"
     },
     "execution_count": 10,
     "metadata": {},
     "output_type": "execute_result"
    }
   ],
   "source": [
    "dask_dataframe = convert_mvs_to_dask_as_series(pd_dataframe)\n",
    "type(dask_dataframe)"
   ],
   "metadata": {
    "collapsed": false
   }
  },
  {
   "cell_type": "code",
   "execution_count": 11,
   "outputs": [
    {
     "data": {
      "text/plain": "xarray.core.dataarray.DataArray"
     },
     "execution_count": 11,
     "metadata": {},
     "output_type": "execute_result"
    }
   ],
   "source": [
    "xrarray = convert_Mvs_to_xrdatarray_as_Series(pd_dataframe)\n",
    "type(xrarray)"
   ],
   "metadata": {
    "collapsed": false
   }
  },
  {
   "cell_type": "code",
   "execution_count": 11,
   "outputs": [],
   "source": [],
   "metadata": {
    "collapsed": false
   }
  },
  {
   "cell_type": "markdown",
   "source": [
    "# Collections Converters\n",
    "\n",
    "Previously, collections of time series were called panels (a term from econometrics,\n",
    "not machine learning), and there are still references to panel. Collections can be\n",
    "stored as follows\n",
    "\n",
    "numpy3D: 3D np.array of format (n_instances, n_channels, n_timepoints)\n",
    "np-list:\n",
    "\n",
    "\n",
    "MTYPE_REGISTER_PANEL = [\n",
    "    (\n",
    "        \"nested_univ\",\n",
    "        \"Panel\",\n",
    "        \"pd.DataFrame with one column per channel, pd.Series in cells\",\n",
    "    ),\n",
    "    (\n",
    "        \"numpy3D\",\n",
    "        \"Panel\",\n",
    "        \"3D np.array of format (n_instances, n_channels, n_timepoints)\",\n",
    "    ),\n",
    "    (\n",
    "        \"numpyflat\",\n",
    "        \"Panel\",\n",
    "        \"2D np.array of format (n_instances, n_columns*n_timepoints)\",\n",
    "    ),\n",
    "    (\"pd-multiindex\", \"Panel\", \"pd.DataFrame with multi-index (instances, timepoints)\"),\n",
    "    (\"pd-wide\", \"Panel\", \"pd.DataFrame in wide format, cols = (instance*timepoints)\"),\n",
    "    (\n",
    "        \"pd-long\",\n",
    "        \"Panel\",\n",
    "        \"pd.DataFrame in long format, cols = (index, time_index, column)\",\n",
    "    ),\n",
    "    (\"df-list\", \"Panel\", \"list of pd.DataFrame\"),\n",
    "    (\n",
    "        \"dask_panel\",\n",
    "        \"Panel\",\n",
    "        \"dask frame with one instance and one time index, as per dask_to_pd convention\",\n",
    "    ),\n",
    "    (\n",
    "        \"np-list\",\n",
    "        \"Panel\",\n",
    "        \"list of n_cases, each case a 2D np.array of shape (n_channels, series_length)\",\n",
    "    ),\n",
    "]\n"
   ],
   "metadata": {
    "collapsed": false
   }
  }
 ],
 "metadata": {
  "kernelspec": {
   "display_name": "Python 3",
   "language": "python",
   "name": "python3"
  },
  "language_info": {
   "codemirror_mode": {
    "name": "ipython",
    "version": 2
   },
   "file_extension": ".py",
   "mimetype": "text/x-python",
   "name": "python",
   "nbconvert_exporter": "python",
   "pygments_lexer": "ipython2",
   "version": "2.7.6"
  }
 },
 "nbformat": 4,
 "nbformat_minor": 0
}
