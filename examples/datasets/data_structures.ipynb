{
 "cells": [
  {
   "cell_type": "markdown",
   "source": [
    "# Storing data to use for aeon estimators\n",
    "\n",
    "`aeon` includes multiple time series tasks such as forecasting and machine learning\n",
    "(i.e. classification, regression and clustering). These two communities have different\n",
    "conventions and requirements for storing data and what to call data structures. We try\n",
    "to accommodate for both, which leads to some differences between `aeon` packages. Some\n",
    "differences are:\n",
    "\n",
    "1. Forecasters almost always store data in pandas data structures internally, whereas machine\n",
    " learners use numpy arrays almost exclusively.\n",
    "2. Most forecasting estimators (but not all) will take a single series as a 1D or 2D array-like\n",
    " as the data to learn from, whereas machine learning estimators will take a collection of series\n",
    " as a 3D or 2D array-like.\n",
    "3. In forecasting 2D arrays are almost always single series of shape `(n_timepoints, n_channels)`\n",
    " whereas in machine learning we would tend to store data in a `(n_cases, n_timepoints)`\n",
    " collection of series.\n",
    "4. In forecasting, a variable `y` refers to a time series for which we are attempting\n",
    " to make a forecast, hence `y` is assumed to be ordered. In machine learning,\n",
    " `y` is a list of either class labels (for classification) or observations of a\n",
    " response variables (for regression). The ordering of values in `y` is determined by\n",
    " the ordering of the `X` input.\n",
    "\n",
    "Because of these sources of confusion, we recommend carefully reading the documentation for the task\n",
    "prior to usage to ensure you are using the correct input data type. We also recommend that you store\n",
    "data in pandas data structures for forecasting and numpy arrays for machine learning tasks. All of\n",
    "our accepted input types can be used given they are compatible with the algorithms (see the\n",
    "[data conversions notebook](examples/datasets/data_conversions.ipynb) for more accepted types), but\n",
    "keeping to the recommended types is likely to reduce the number of data conversions and make finding help\n",
    "easier.\n",
    "\n",
    "In the following, we provide guidance and examples for storing data for forecasting and machine learning\n",
    "using our recommended data types.\n",
    "\n",
    "## Forecasting data\n",
    "\n",
    "The `aeon` forecasting module primarily uses pd.Series, pd.DataFrame and pd.Multiindex to store data.\n",
    "It has some built in forecasting datasets and tools for downloading commonly used benchmarks, see the\n",
    "[data loading notebook](examples/datasets/loading_data.ipynb.ipynb) forecasting section. For details of\n",
    "the forecasting functionality, see the [forecasting user guide](examples/forecasting/forecasting.ipynb)\n",
    "and the numerous forecasting notebooks on the [examples page](examples).\n",
    "\n",
    "`pd.Series` are used to store a univariate time series with entries corresponding to\n",
    "different time points."
   ],
   "metadata": {
    "collapsed": false
   }
  },
  {
   "cell_type": "code",
   "execution_count": 19,
   "outputs": [
    {
     "data": {
      "text/plain": "0     20.0\n1     40.0\n2     60.0\n3     80.0\n4    100.0\ndtype: float64"
     },
     "execution_count": 19,
     "metadata": {},
     "output_type": "execute_result"
    }
   ],
   "source": [
    "# Forecasting data in a pandas.Series\n",
    "import numpy as np\n",
    "import pandas as pd\n",
    "\n",
    "y = pd.Series([20.0, 40.0, 60.0, 80.0, 100.0])\n",
    "y"
   ],
   "metadata": {
    "collapsed": false,
    "ExecuteTime": {
     "end_time": "2023-07-24T11:45:57.192506600Z",
     "start_time": "2023-07-24T11:45:57.132654400Z"
    }
   }
  },
  {
   "cell_type": "code",
   "execution_count": 20,
   "outputs": [
    {
     "data": {
      "text/plain": "5    120.0\n6    140.0\n7    160.0\ndtype: float64"
     },
     "execution_count": 20,
     "metadata": {},
     "output_type": "execute_result"
    }
   ],
   "source": [
    "from aeon.forecasting.trend import TrendForecaster\n",
    "\n",
    "tf = TrendForecaster()\n",
    "tf.fit(y)  # fit the forecaster\n",
    "tf.predict(fh=[1, 2, 3])  # forecast the next 3 values"
   ],
   "metadata": {
    "collapsed": false,
    "ExecuteTime": {
     "end_time": "2023-07-24T11:45:57.194505900Z",
     "start_time": "2023-07-24T11:45:57.140619300Z"
    }
   }
  },
  {
   "cell_type": "markdown",
   "source": [
    "`pd.DataFrame` are used to store multiple time series, where each column is a time\n",
    "series, and each row corresponds to a different, distinct time point. The index\n",
    "is the time point and should be monotonic. This creates two series called Sales and\n",
    "Temperature, and stores observations for time points 0,1,2,3,4,5."
   ],
   "metadata": {
    "collapsed": false
   }
  },
  {
   "cell_type": "code",
   "execution_count": 21,
   "outputs": [
    {
     "data": {
      "text/plain": "   Sales  Temperature\n0    111           26\n1    100           21\n2     90           19\n3     80           14\n4     65           12\n5     89           22",
      "text/html": "<div>\n<style scoped>\n    .dataframe tbody tr th:only-of-type {\n        vertical-align: middle;\n    }\n\n    .dataframe tbody tr th {\n        vertical-align: top;\n    }\n\n    .dataframe thead th {\n        text-align: right;\n    }\n</style>\n<table border=\"1\" class=\"dataframe\">\n  <thead>\n    <tr style=\"text-align: right;\">\n      <th></th>\n      <th>Sales</th>\n      <th>Temperature</th>\n    </tr>\n  </thead>\n  <tbody>\n    <tr>\n      <th>0</th>\n      <td>111</td>\n      <td>26</td>\n    </tr>\n    <tr>\n      <th>1</th>\n      <td>100</td>\n      <td>21</td>\n    </tr>\n    <tr>\n      <th>2</th>\n      <td>90</td>\n      <td>19</td>\n    </tr>\n    <tr>\n      <th>3</th>\n      <td>80</td>\n      <td>14</td>\n    </tr>\n    <tr>\n      <th>4</th>\n      <td>65</td>\n      <td>12</td>\n    </tr>\n    <tr>\n      <th>5</th>\n      <td>89</td>\n      <td>22</td>\n    </tr>\n  </tbody>\n</table>\n</div>"
     },
     "execution_count": 21,
     "metadata": {},
     "output_type": "execute_result"
    }
   ],
   "source": [
    "ice_creams = {\n",
    "    \"Sales\": [111, 100, 90, 80, 65, 89],\n",
    "    \"Temperature\": [26, 21, 19, 14, 12, 22],\n",
    "}\n",
    "# Create DataFrame\n",
    "ice_creams = pd.DataFrame(ice_creams)\n",
    "ice_creams"
   ],
   "metadata": {
    "collapsed": false,
    "ExecuteTime": {
     "end_time": "2023-07-24T11:45:57.245339100Z",
     "start_time": "2023-07-24T11:45:57.148598Z"
    }
   }
  },
  {
   "cell_type": "code",
   "execution_count": 22,
   "outputs": [
    {
     "data": {
      "text/plain": "   Sales  Temperature\n6   89.0         22.0\n7   89.0         22.0\n8   89.0         22.0",
      "text/html": "<div>\n<style scoped>\n    .dataframe tbody tr th:only-of-type {\n        vertical-align: middle;\n    }\n\n    .dataframe tbody tr th {\n        vertical-align: top;\n    }\n\n    .dataframe thead th {\n        text-align: right;\n    }\n</style>\n<table border=\"1\" class=\"dataframe\">\n  <thead>\n    <tr style=\"text-align: right;\">\n      <th></th>\n      <th>Sales</th>\n      <th>Temperature</th>\n    </tr>\n  </thead>\n  <tbody>\n    <tr>\n      <th>6</th>\n      <td>89.0</td>\n      <td>22.0</td>\n    </tr>\n    <tr>\n      <th>7</th>\n      <td>89.0</td>\n      <td>22.0</td>\n    </tr>\n    <tr>\n      <th>8</th>\n      <td>89.0</td>\n      <td>22.0</td>\n    </tr>\n  </tbody>\n</table>\n</div>"
     },
     "execution_count": 22,
     "metadata": {},
     "output_type": "execute_result"
    }
   ],
   "source": [
    "from aeon.forecasting.exp_smoothing import ExponentialSmoothing\n",
    "\n",
    "es = ExponentialSmoothing()\n",
    "es.fit(ice_creams)\n",
    "es.predict(fh=[1, 2, 3])"
   ],
   "metadata": {
    "collapsed": false,
    "ExecuteTime": {
     "end_time": "2023-07-24T11:45:57.256309400Z",
     "start_time": "2023-07-24T11:45:57.156602400Z"
    }
   }
  },
  {
   "cell_type": "markdown",
   "source": [
    "You can add a date-time index, and this is required by some forecasters (e.g. Prophet)."
   ],
   "metadata": {
    "collapsed": false
   }
  },
  {
   "cell_type": "code",
   "execution_count": 23,
   "outputs": [
    {
     "data": {
      "text/plain": "                     Sales  Temperature\ndatetime                               \n2018-01-06 23:15:00    111           26\n2019-02-09 01:48:00    100           21\n2020-08-06 13:20:00     90           19\n2021-07-03 14:50:00     80           14\n2022-07-06 11:50:00     65           12\n2023-03-05 16:50:00     89           22",
      "text/html": "<div>\n<style scoped>\n    .dataframe tbody tr th:only-of-type {\n        vertical-align: middle;\n    }\n\n    .dataframe tbody tr th {\n        vertical-align: top;\n    }\n\n    .dataframe thead th {\n        text-align: right;\n    }\n</style>\n<table border=\"1\" class=\"dataframe\">\n  <thead>\n    <tr style=\"text-align: right;\">\n      <th></th>\n      <th>Sales</th>\n      <th>Temperature</th>\n    </tr>\n    <tr>\n      <th>datetime</th>\n      <th></th>\n      <th></th>\n    </tr>\n  </thead>\n  <tbody>\n    <tr>\n      <th>2018-01-06 23:15:00</th>\n      <td>111</td>\n      <td>26</td>\n    </tr>\n    <tr>\n      <th>2019-02-09 01:48:00</th>\n      <td>100</td>\n      <td>21</td>\n    </tr>\n    <tr>\n      <th>2020-08-06 13:20:00</th>\n      <td>90</td>\n      <td>19</td>\n    </tr>\n    <tr>\n      <th>2021-07-03 14:50:00</th>\n      <td>80</td>\n      <td>14</td>\n    </tr>\n    <tr>\n      <th>2022-07-06 11:50:00</th>\n      <td>65</td>\n      <td>12</td>\n    </tr>\n    <tr>\n      <th>2023-03-05 16:50:00</th>\n      <td>89</td>\n      <td>22</td>\n    </tr>\n  </tbody>\n</table>\n</div>"
     },
     "execution_count": 23,
     "metadata": {},
     "output_type": "execute_result"
    }
   ],
   "source": [
    "ice_creams[\"datetime\"] = pd.to_datetime(\n",
    "    [\n",
    "        \"01-06-2018 23:15:00\",  # Creating data\n",
    "        \"02-09-2019 01:48:00\",\n",
    "        \"08-06-2020 13:20:00\",\n",
    "        \"07-03-2021 14:50:00\",\n",
    "        \"07-06-2022 11:50:00\",\n",
    "        \"03-05-2023 16:50:00\",\n",
    "    ]\n",
    ")\n",
    "ice_creams = ice_creams.set_index(\"datetime\")\n",
    "ice_creams"
   ],
   "metadata": {
    "collapsed": false,
    "ExecuteTime": {
     "end_time": "2023-07-24T11:45:57.257307Z",
     "start_time": "2023-07-24T11:45:57.179516200Z"
    }
   }
  },
  {
   "cell_type": "markdown",
   "source": [
    "`pd.DataFrame` also have the capability to store multiple indexes, which can be used\n",
    "to represent what's called Panel data in forecasting hierarchical data. A Panel is a\n",
    "collection of (possibly) multivariate data."
   ],
   "metadata": {
    "collapsed": false
   }
  },
  {
   "cell_type": "code",
   "execution_count": 24,
   "outputs": [
    {
     "data": {
      "text/plain": "                            c0\nh0   h1   time                \nh0_0 h1_0 2000-01-01  4.249534\n          2000-01-02  2.899939\n          2000-01-03  2.671320\n          2000-01-04  4.380220\n          2000-01-05  5.538047\n...                        ...\nh0_1 h1_3 2000-01-08  3.658460\n          2000-01-09  3.672319\n          2000-01-10  2.938018\n          2000-01-11  2.902982\n          2000-01-12  2.871146\n\n[96 rows x 1 columns]",
      "text/html": "<div>\n<style scoped>\n    .dataframe tbody tr th:only-of-type {\n        vertical-align: middle;\n    }\n\n    .dataframe tbody tr th {\n        vertical-align: top;\n    }\n\n    .dataframe thead th {\n        text-align: right;\n    }\n</style>\n<table border=\"1\" class=\"dataframe\">\n  <thead>\n    <tr style=\"text-align: right;\">\n      <th></th>\n      <th></th>\n      <th></th>\n      <th>c0</th>\n    </tr>\n    <tr>\n      <th>h0</th>\n      <th>h1</th>\n      <th>time</th>\n      <th></th>\n    </tr>\n  </thead>\n  <tbody>\n    <tr>\n      <th rowspan=\"5\" valign=\"top\">h0_0</th>\n      <th rowspan=\"5\" valign=\"top\">h1_0</th>\n      <th>2000-01-01</th>\n      <td>4.249534</td>\n    </tr>\n    <tr>\n      <th>2000-01-02</th>\n      <td>2.899939</td>\n    </tr>\n    <tr>\n      <th>2000-01-03</th>\n      <td>2.671320</td>\n    </tr>\n    <tr>\n      <th>2000-01-04</th>\n      <td>4.380220</td>\n    </tr>\n    <tr>\n      <th>2000-01-05</th>\n      <td>5.538047</td>\n    </tr>\n    <tr>\n      <th>...</th>\n      <th>...</th>\n      <th>...</th>\n      <td>...</td>\n    </tr>\n    <tr>\n      <th rowspan=\"5\" valign=\"top\">h0_1</th>\n      <th rowspan=\"5\" valign=\"top\">h1_3</th>\n      <th>2000-01-08</th>\n      <td>3.658460</td>\n    </tr>\n    <tr>\n      <th>2000-01-09</th>\n      <td>3.672319</td>\n    </tr>\n    <tr>\n      <th>2000-01-10</th>\n      <td>2.938018</td>\n    </tr>\n    <tr>\n      <th>2000-01-11</th>\n      <td>2.902982</td>\n    </tr>\n    <tr>\n      <th>2000-01-12</th>\n      <td>2.871146</td>\n    </tr>\n  </tbody>\n</table>\n<p>96 rows × 1 columns</p>\n</div>"
     },
     "execution_count": 24,
     "metadata": {},
     "output_type": "execute_result"
    }
   ],
   "source": [
    "from aeon.utils._testing.hierarchical import _make_hierarchical\n",
    "\n",
    "y = _make_hierarchical()\n",
    "y"
   ],
   "metadata": {
    "collapsed": false,
    "ExecuteTime": {
     "end_time": "2023-07-24T11:45:57.258304600Z",
     "start_time": "2023-07-24T11:45:57.188516600Z"
    }
   }
  },
  {
   "cell_type": "code",
   "execution_count": 25,
   "outputs": [
    {
     "data": {
      "text/plain": "                            c0\nh0   h1   time                \nh0_0 h1_0 2000-01-13  4.200625\n          2000-01-14  4.200625\n     h1_1 2000-01-13  3.714500\n          2000-01-14  3.714500\n     h1_2 2000-01-13  3.982618\n          2000-01-14  3.982618\n     h1_3 2000-01-13  3.911963\n          2000-01-14  3.911963\nh0_1 h1_0 2000-01-13  3.627664\n          2000-01-14  3.627664\n     h1_1 2000-01-13  3.844651\n          2000-01-14  3.844651\n     h1_2 2000-01-13  3.889248\n          2000-01-14  3.889248\n     h1_3 2000-01-13  3.119286\n          2000-01-14  3.119286",
      "text/html": "<div>\n<style scoped>\n    .dataframe tbody tr th:only-of-type {\n        vertical-align: middle;\n    }\n\n    .dataframe tbody tr th {\n        vertical-align: top;\n    }\n\n    .dataframe thead th {\n        text-align: right;\n    }\n</style>\n<table border=\"1\" class=\"dataframe\">\n  <thead>\n    <tr style=\"text-align: right;\">\n      <th></th>\n      <th></th>\n      <th></th>\n      <th>c0</th>\n    </tr>\n    <tr>\n      <th>h0</th>\n      <th>h1</th>\n      <th>time</th>\n      <th></th>\n    </tr>\n  </thead>\n  <tbody>\n    <tr>\n      <th rowspan=\"8\" valign=\"top\">h0_0</th>\n      <th rowspan=\"2\" valign=\"top\">h1_0</th>\n      <th>2000-01-13</th>\n      <td>4.200625</td>\n    </tr>\n    <tr>\n      <th>2000-01-14</th>\n      <td>4.200625</td>\n    </tr>\n    <tr>\n      <th rowspan=\"2\" valign=\"top\">h1_1</th>\n      <th>2000-01-13</th>\n      <td>3.714500</td>\n    </tr>\n    <tr>\n      <th>2000-01-14</th>\n      <td>3.714500</td>\n    </tr>\n    <tr>\n      <th rowspan=\"2\" valign=\"top\">h1_2</th>\n      <th>2000-01-13</th>\n      <td>3.982618</td>\n    </tr>\n    <tr>\n      <th>2000-01-14</th>\n      <td>3.982618</td>\n    </tr>\n    <tr>\n      <th rowspan=\"2\" valign=\"top\">h1_3</th>\n      <th>2000-01-13</th>\n      <td>3.911963</td>\n    </tr>\n    <tr>\n      <th>2000-01-14</th>\n      <td>3.911963</td>\n    </tr>\n    <tr>\n      <th rowspan=\"8\" valign=\"top\">h0_1</th>\n      <th rowspan=\"2\" valign=\"top\">h1_0</th>\n      <th>2000-01-13</th>\n      <td>3.627664</td>\n    </tr>\n    <tr>\n      <th>2000-01-14</th>\n      <td>3.627664</td>\n    </tr>\n    <tr>\n      <th rowspan=\"2\" valign=\"top\">h1_1</th>\n      <th>2000-01-13</th>\n      <td>3.844651</td>\n    </tr>\n    <tr>\n      <th>2000-01-14</th>\n      <td>3.844651</td>\n    </tr>\n    <tr>\n      <th rowspan=\"2\" valign=\"top\">h1_2</th>\n      <th>2000-01-13</th>\n      <td>3.889248</td>\n    </tr>\n    <tr>\n      <th>2000-01-14</th>\n      <td>3.889248</td>\n    </tr>\n    <tr>\n      <th rowspan=\"2\" valign=\"top\">h1_3</th>\n      <th>2000-01-13</th>\n      <td>3.119286</td>\n    </tr>\n    <tr>\n      <th>2000-01-14</th>\n      <td>3.119286</td>\n    </tr>\n  </tbody>\n</table>\n</div>"
     },
     "execution_count": 25,
     "metadata": {},
     "output_type": "execute_result"
    }
   ],
   "source": [
    "es.fit(y, fh=[1, 2]).predict()"
   ],
   "metadata": {
    "collapsed": false,
    "ExecuteTime": {
     "end_time": "2023-07-24T11:45:57.418875200Z",
     "start_time": "2023-07-24T11:45:57.200459Z"
    }
   }
  },
  {
   "cell_type": "markdown",
   "source": [
    "`np.ndarray` can be used with the forecasters in aeon, although we recommend using\n",
    "pandas. One-dimensional np.ndarray are treated as a single time series. 2D numpy\n",
    "arrays are treated as multiple series of shape `(n_timeseries, n_timepoints)`."
   ],
   "metadata": {
    "collapsed": false
   }
  },
  {
   "cell_type": "code",
   "execution_count": 26,
   "outputs": [
    {
     "data": {
      "text/plain": "array([[120.],\n       [140.],\n       [160.]])"
     },
     "execution_count": 26,
     "metadata": {},
     "output_type": "execute_result"
    }
   ],
   "source": [
    "y = np.array([20.0, 40.0, 60.0, 80.0, 100.0])\n",
    "forecaster = TrendForecaster()\n",
    "forecaster.fit(y)  # fit the forecaster\n",
    "forecaster.predict(fh=[1, 2, 3])  # forecast the next 3 values"
   ],
   "metadata": {
    "collapsed": false,
    "ExecuteTime": {
     "end_time": "2023-07-24T11:45:57.420869900Z",
     "start_time": "2023-07-24T11:45:57.299224700Z"
    }
   }
  },
  {
   "cell_type": "code",
   "execution_count": 27,
   "outputs": [
    {
     "data": {
      "text/plain": "array([[120.,  50.],\n       [140.,  40.],\n       [160.,  30.]])"
     },
     "execution_count": 27,
     "metadata": {},
     "output_type": "execute_result"
    }
   ],
   "source": [
    "y = np.array([[20.0, 40.0, 60.0, 80.0, 100.0], [100.0, 90.0, 80.0, 70.0, 60.0]])\n",
    "y = y.transpose()\n",
    "forecaster = TrendForecaster()\n",
    "forecaster.fit(y)  # fit the forecaster\n",
    "forecaster.predict(fh=[1, 2, 3])  # forecast the next 3 values"
   ],
   "metadata": {
    "collapsed": false,
    "ExecuteTime": {
     "end_time": "2023-07-24T11:45:57.444806900Z",
     "start_time": "2023-07-24T11:45:57.308171700Z"
    }
   }
  },
  {
   "cell_type": "markdown",
   "source": [
    "## Machine learning data\n",
    "\n",
    "Machine learning algorithms generally use collections of instances or cases stored as\n",
    " numpy arrays. Like scikit-learn, pytorch and keras, we primarily use numpy arrays.\n",
    " A collection contains a number of time series cases (or just cases) which we refer\n",
    " to in code as `n_cases`. Each case contains a number of time series observations,\n",
    " which we denote `n_timepoints`."
   ],
   "metadata": {
    "collapsed": false
   }
  },
  {
   "cell_type": "code",
   "execution_count": 28,
   "outputs": [
    {
     "name": "stdout",
     "output_type": "stream",
     "text": [
      "X shape =  (2, 1, 5)  First series = [[ 20.  40.  60.  80. 100.]] second series =  [[100.  90.  80.  70.  60.]]\n"
     ]
    }
   ],
   "source": [
    "X = np.array(\n",
    "    [\n",
    "        [[20.0, 40.0, 60.0, 80.0, 100.0]],  # Univariate series as 3D array\n",
    "        [[100.0, 90.0, 80.0, 70.0, 60.0]],\n",
    "    ]\n",
    ")  # n_cases = 2, n_channels =1, n_timepoints = 5\n",
    "print(\"X shape = \", X.shape, \" First series =\", X[0], \"second series = \", X[1])"
   ],
   "metadata": {
    "collapsed": false,
    "ExecuteTime": {
     "end_time": "2023-07-24T11:45:57.445803400Z",
     "start_time": "2023-07-24T11:45:57.324129700Z"
    }
   }
  },
  {
   "cell_type": "code",
   "execution_count": 29,
   "outputs": [
    {
     "name": "stdout",
     "output_type": "stream",
     "text": [
      "X shape =  (4, 3, 4) \n",
      " First series =\n",
      " [[ 20.   40.  600.   55. ]\n",
      " [ 10.   11.   12.   11. ]\n",
      " [ -4.    1.    6.6   2. ]] \n",
      "second series = \n",
      " [[ 10.  90.  80. 100.]\n",
      " [ 14.  70.  60.  22.]\n",
      " [ 49.  49.  66.   9.]]\n"
     ]
    }
   ],
   "source": [
    "X = np.array(\n",
    "    [\n",
    "        [[20, 40, 600, 55], [10, 11, 12, 11], [-4, 1, 6.6, 2]],\n",
    "        [[10, 90, 80, 100], [14, 70, 60, 22], [49, 49, 66, 9]],\n",
    "        [[14, 6, 10, -401], [44, 70, 60, 22], [49, 52, 33, 49]],\n",
    "        [[22, 93, 18, 100], [34, 170, 0, 87], [49, 49, 33, 49]],\n",
    "    ]\n",
    ")\n",
    "# n_cases = 4, n_channels =3, n_timepoints = 4\n",
    "print(\"X shape = \", X.shape, \"\\n First series =\\n\", X[0], \"\\nsecond series = \\n\", X[1])"
   ],
   "metadata": {
    "collapsed": false,
    "ExecuteTime": {
     "end_time": "2023-07-24T11:45:57.446800500Z",
     "start_time": "2023-07-24T11:45:57.330112900Z"
    }
   }
  },
  {
   "cell_type": "code",
   "execution_count": 30,
   "outputs": [
    {
     "data": {
      "text/plain": "array([0, 1, 1, 1], dtype=int64)"
     },
     "execution_count": 30,
     "metadata": {},
     "output_type": "execute_result"
    }
   ],
   "source": [
    "from aeon.clustering.k_means import TimeSeriesKMeans\n",
    "\n",
    "kmeans = TimeSeriesKMeans(metric=\"euclidean\", n_clusters=2)\n",
    "kmeans.fit(X)\n",
    "kmeans.predict(X)"
   ],
   "metadata": {
    "collapsed": false,
    "ExecuteTime": {
     "end_time": "2023-07-24T11:45:57.473727600Z",
     "start_time": "2023-07-24T11:45:57.337094Z"
    }
   }
  },
  {
   "cell_type": "markdown",
   "source": [
    "The target variable for classification should be stored as a np.ndarray of integers\n",
    "or strings"
   ],
   "metadata": {
    "collapsed": false
   }
  },
  {
   "cell_type": "code",
   "execution_count": 31,
   "outputs": [
    {
     "data": {
      "text/plain": "array(['pass', 'pass', 'fail', 'fail'], dtype='<U4')"
     },
     "execution_count": 31,
     "metadata": {},
     "output_type": "execute_result"
    }
   ],
   "source": [
    "y = np.array([1, 1, 0, 0])\n",
    "y2 = np.array([\"pass\", \"pass\", \"fail\", \"fail\"])\n",
    "y2"
   ],
   "metadata": {
    "collapsed": false,
    "ExecuteTime": {
     "end_time": "2023-07-24T11:45:57.496701Z",
     "start_time": "2023-07-24T11:45:57.346070900Z"
    }
   }
  },
  {
   "cell_type": "code",
   "execution_count": 32,
   "outputs": [
    {
     "data": {
      "text/plain": "array(['pass', 'pass', 'fail', 'fail'], dtype='<U4')"
     },
     "execution_count": 32,
     "metadata": {},
     "output_type": "execute_result"
    }
   ],
   "source": [
    "from aeon.classification.distance_based import KNeighborsTimeSeriesClassifier\n",
    "\n",
    "knn = KNeighborsTimeSeriesClassifier(distance=\"dtw\")\n",
    "knn.fit(X, y2)\n",
    "knn.predict(X)"
   ],
   "metadata": {
    "collapsed": false,
    "ExecuteTime": {
     "end_time": "2023-07-24T11:45:57.497692900Z",
     "start_time": "2023-07-24T11:45:57.353051100Z"
    }
   }
  },
  {
   "cell_type": "markdown",
   "source": [
    "For regression, the target variable should be of type float\n"
   ],
   "metadata": {
    "collapsed": false
   }
  },
  {
   "cell_type": "code",
   "execution_count": 33,
   "outputs": [
    {
     "data": {
      "text/plain": "array([ 1.5,  4.3, -2. , 10. ])"
     },
     "execution_count": 33,
     "metadata": {},
     "output_type": "execute_result"
    }
   ],
   "source": [
    "y3 = np.array([1.5, 4.3, -2.0, 10])\n",
    "y3"
   ],
   "metadata": {
    "collapsed": false,
    "ExecuteTime": {
     "end_time": "2023-07-24T11:45:57.516613700Z",
     "start_time": "2023-07-24T11:45:57.360032Z"
    }
   }
  },
  {
   "cell_type": "code",
   "execution_count": 34,
   "outputs": [
    {
     "data": {
      "text/plain": "array([1., 1., 0., 0.])"
     },
     "execution_count": 34,
     "metadata": {},
     "output_type": "execute_result"
    }
   ],
   "source": [
    "from aeon.regression.distance_based import KNeighborsTimeSeriesRegressor\n",
    "\n",
    "knn_r = KNeighborsTimeSeriesRegressor(distance=\"dtw\")\n",
    "knn_r.fit(X, y)\n",
    "knn_r.predict(X)"
   ],
   "metadata": {
    "collapsed": false,
    "ExecuteTime": {
     "end_time": "2023-07-24T11:45:57.547556200Z",
     "start_time": "2023-07-24T11:45:57.367014200Z"
    }
   }
  },
  {
   "cell_type": "markdown",
   "source": [
    "If the time series are not all equal length, they should be stored as a list of 2D\n",
    "numpy arrays. Some estimators can deal with unequal length series. Those that can't\n",
    "will raise an exception if passed unequal length series. Note we assume that channels\n",
    "are all the same length for any given series."
   ],
   "metadata": {
    "collapsed": false
   }
  },
  {
   "cell_type": "code",
   "execution_count": 35,
   "outputs": [
    {
     "data": {
      "text/plain": "[array([[20. , 40. , 60. , 55. , 66. ],\n        [10. , 11. , 12. , 11. , 66. ],\n        [-4. , 15. ,  6.6, 12. , 44. ]]),\n array([[10, 90, 80],\n        [70, 60, 22],\n        [49, 66,  9]]),\n array([[ 22,  93,  18, 100],\n        [ 34, 170,   0,  87],\n        [ 49,  49,  33,  49]])]"
     },
     "execution_count": 35,
     "metadata": {},
     "output_type": "execute_result"
    }
   ],
   "source": [
    "x0 = np.array([[20, 40, 60, 55, 66], [10, 11, 12, 11, 66], [-4, 15, 6.6, 12, 44]])\n",
    "x1 = np.array([[10, 90, 80], [70, 60, 22], [49, 66, 9]])\n",
    "x2 = np.array([[22, 93, 18, 100], [34, 170, 0, 87], [49, 49, 33, 49]])\n",
    "X_uneq = []\n",
    "X_uneq.append(x0)\n",
    "X_uneq.append(x1)\n",
    "X_uneq.append(x2)\n",
    "\n",
    "X_uneq"
   ],
   "metadata": {
    "collapsed": false,
    "ExecuteTime": {
     "end_time": "2023-07-24T11:45:57.548553800Z",
     "start_time": "2023-07-24T11:45:57.372997800Z"
    }
   }
  },
  {
   "cell_type": "code",
   "execution_count": 36,
   "outputs": [
    {
     "data": {
      "text/plain": "array([0, 0, 1])"
     },
     "execution_count": 36,
     "metadata": {},
     "output_type": "execute_result"
    }
   ],
   "source": [
    "y = np.array([0, 0, 1])\n",
    "knn.fit(X_uneq, y)\n",
    "knn.predict(X_uneq)"
   ],
   "metadata": {
    "collapsed": false,
    "ExecuteTime": {
     "end_time": "2023-07-24T11:45:57.548553800Z",
     "start_time": "2023-07-24T11:45:57.379979300Z"
    }
   }
  },
  {
   "cell_type": "markdown",
   "source": [
    "`aeon` has several standard problems baked in, and facilities for loading data from\n",
    "external sources. Please see the [provided data notebook](examples/datasets/provided_data.ipynb)\n",
    "and [data loading notebook](examples/datasets/data_loading.ipynb)."
   ],
   "metadata": {
    "collapsed": false
   }
  }
 ],
 "metadata": {
  "kernelspec": {
   "display_name": "Python 3",
   "language": "python",
   "name": "python3"
  },
  "language_info": {
   "codemirror_mode": {
    "name": "ipython",
    "version": 2
   },
   "file_extension": ".py",
   "mimetype": "text/x-python",
   "name": "python",
   "nbconvert_exporter": "python",
   "pygments_lexer": "ipython2",
   "version": "2.7.6"
  }
 },
 "nbformat": 4,
 "nbformat_minor": 0
}
