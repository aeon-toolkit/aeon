{
 "cells": [
  {
   "cell_type": "markdown",
   "source": [
    "# Data structures and containers to use for aeon estimators\n",
    "\n",
    "aeon includes algorithms for time series forecasting and machine learning. These two\n",
    "communities have different conventions on how to store data and what to call data\n",
    "structures. Some of the differences are\n",
    "\n",
    "1. Forecasters almost always stores data in pandas data structures, whereas machine\n",
    "learners use numpy arrays almost exclusively.\n",
    "2. n forecasting a 2 dimensional data is almost always shape `(n_timepoints, n_timeseries)` whereas in\n",
    "machine learning we would tend to store data in a `(n_timeseries, n_timepoints)`  array.\n",
    "3. In forecasting, a variable `y` refers to a time series for which we are attempting\n",
    " to make a forecast, hence `y` is assumed to be ordered. In machine learning,\n",
    " `y` is a list of either class labels (for classification) or observations of a\n",
    " response vairable (for regression). The ordering of values in `y` is determined by\n",
    " the ordering of the `X` input.\n",
    "\n",
    "Because of these sources of confusion, we recommend that you store data in\n",
    "pandas data structures for forecasting and numpy arrays for machine learning. We\n",
    "support other data containers, see the [data conversion page](data_conversions.ipynb)\n",
    " for more info."
   ],
   "metadata": {
    "collapsed": false
   }
  },
  {
   "cell_type": "markdown",
   "source": [
    "## Forecasting data\n",
    "\n",
    "aeon forecasting uses `pd.Series`, `pd.DataFrame` and `pd.Multiindex` to store data.\n",
    "`pd.Series` are used to store a univariate time series with entries corresponding to\n",
    "different time points."
   ],
   "metadata": {
    "collapsed": false
   }
  },
  {
   "cell_type": "code",
   "execution_count": 1,
   "outputs": [
    {
     "data": {
      "text/plain": "5    120.0\n6    140.0\n7    160.0\ndtype: float64"
     },
     "execution_count": 1,
     "metadata": {},
     "output_type": "execute_result"
    }
   ],
   "source": [
    "# Forecasting data in a pandas.Series\n",
    "import numpy as np\n",
    "import pandas as pd\n",
    "\n",
    "from aeon.forecasting.trend import TrendForecaster\n",
    "\n",
    "y = pd.Series([20.0, 40.0, 60.0, 80.0, 100.0])\n",
    "forecaster = TrendForecaster()\n",
    "forecaster.fit(y)  # fit the forecaster\n",
    "forecaster.predict(fh=[1, 2, 3])  # forecast the next 3 values"
   ],
   "metadata": {
    "collapsed": false
   }
  },
  {
   "cell_type": "markdown",
   "source": [
    "`pd.DataFrame` are used to store multiple time series, where each column is a time\n",
    "series, and each row corresponds to a different, distinct time point. The index\n",
    "is the time point and should be monotonic. This creates two series called Sales and\n",
    "Temperature, and stores observations for time points 0,1,2,3,4,5."
   ],
   "metadata": {
    "collapsed": false
   }
  },
  {
   "cell_type": "code",
   "execution_count": 2,
   "outputs": [
    {
     "name": "stdout",
     "output_type": "stream",
     "text": [
      "   Sales  Temperature\n",
      "0    111           26\n",
      "1    100           21\n",
      "2     90           19\n",
      "3     80           14\n",
      "4     65           12\n",
      "5     89           22\n"
     ]
    },
    {
     "data": {
      "text/plain": "   Sales  Temperature\n6   89.0         22.0\n7   89.0         22.0\n8   89.0         22.0",
      "text/html": "<div>\n<style scoped>\n    .dataframe tbody tr th:only-of-type {\n        vertical-align: middle;\n    }\n\n    .dataframe tbody tr th {\n        vertical-align: top;\n    }\n\n    .dataframe thead th {\n        text-align: right;\n    }\n</style>\n<table border=\"1\" class=\"dataframe\">\n  <thead>\n    <tr style=\"text-align: right;\">\n      <th></th>\n      <th>Sales</th>\n      <th>Temperature</th>\n    </tr>\n  </thead>\n  <tbody>\n    <tr>\n      <th>6</th>\n      <td>89.0</td>\n      <td>22.0</td>\n    </tr>\n    <tr>\n      <th>7</th>\n      <td>89.0</td>\n      <td>22.0</td>\n    </tr>\n    <tr>\n      <th>8</th>\n      <td>89.0</td>\n      <td>22.0</td>\n    </tr>\n  </tbody>\n</table>\n</div>"
     },
     "execution_count": 2,
     "metadata": {},
     "output_type": "execute_result"
    }
   ],
   "source": [
    "ice_creams = {\n",
    "    \"Sales\": [111, 100, 90, 80, 65, 89],\n",
    "    \"Temperature\": [26, 21, 19, 14, 12, 22],\n",
    "}\n",
    "# Create DataFrame\n",
    "ice_creams = pd.DataFrame(ice_creams)\n",
    "print(ice_creams)\n",
    "from aeon.forecasting.exp_smoothing import ExponentialSmoothing\n",
    "\n",
    "forecaster = ExponentialSmoothing()\n",
    "forecaster.fit(ice_creams)\n",
    "forecaster.predict(fh=[1, 2, 3])"
   ],
   "metadata": {
    "collapsed": false
   }
  },
  {
   "cell_type": "markdown",
   "source": [
    "You can add a date-time index, and this is required by some forecasters (e.g. Prophet)."
   ],
   "metadata": {
    "collapsed": false
   }
  },
  {
   "cell_type": "code",
   "execution_count": 3,
   "outputs": [
    {
     "name": "stdout",
     "output_type": "stream",
     "text": [
      "                     Sales  Temperature\n",
      "datetime                               \n",
      "2018-01-06 23:15:00    111           26\n",
      "2019-02-09 01:48:00    100           21\n",
      "2020-08-06 13:20:00     90           19\n",
      "2021-07-03 14:50:00     80           14\n",
      "2022-07-06 11:50:00     65           12\n",
      "2023-03-05 16:50:00     89           22\n"
     ]
    }
   ],
   "source": [
    "ice_creams[\"datetime\"] = pd.to_datetime(\n",
    "    [\n",
    "        \"01-06-2018 23:15:00\",  # Creating data\n",
    "        \"02-09-2019 01:48:00\",\n",
    "        \"08-06-2020 13:20:00\",\n",
    "        \"07-03-2021 14:50:00\",\n",
    "        \"07-06-2022 11:50:00\",\n",
    "        \"03-05-2023 16:50:00\",\n",
    "    ]\n",
    ")\n",
    "ice_creams = ice_creams.set_index(\"datetime\")\n",
    "print(ice_creams)"
   ],
   "metadata": {
    "collapsed": false
   }
  },
  {
   "cell_type": "markdown",
   "source": [
    "`pd.DataFrame` also have the capability to store multiple indexes, which can be used\n",
    "to represent whats called Panel data in forecasting hierarchical data. A Panel is a\n",
    "collection of (possibly) multivariate data."
   ],
   "metadata": {
    "collapsed": false
   }
  },
  {
   "cell_type": "code",
   "execution_count": 4,
   "outputs": [
    {
     "data": {
      "text/plain": "                            c0\nh0   h1   time                \nh0_0 h1_0 2000-01-01  2.199534\n          2000-01-02  5.267746\n          2000-01-03  4.792742\n          2000-01-04  3.115800\n          2000-01-05  5.581822",
      "text/html": "<div>\n<style scoped>\n    .dataframe tbody tr th:only-of-type {\n        vertical-align: middle;\n    }\n\n    .dataframe tbody tr th {\n        vertical-align: top;\n    }\n\n    .dataframe thead th {\n        text-align: right;\n    }\n</style>\n<table border=\"1\" class=\"dataframe\">\n  <thead>\n    <tr style=\"text-align: right;\">\n      <th></th>\n      <th></th>\n      <th></th>\n      <th>c0</th>\n    </tr>\n    <tr>\n      <th>h0</th>\n      <th>h1</th>\n      <th>time</th>\n      <th></th>\n    </tr>\n  </thead>\n  <tbody>\n    <tr>\n      <th rowspan=\"5\" valign=\"top\">h0_0</th>\n      <th rowspan=\"5\" valign=\"top\">h1_0</th>\n      <th>2000-01-01</th>\n      <td>2.199534</td>\n    </tr>\n    <tr>\n      <th>2000-01-02</th>\n      <td>5.267746</td>\n    </tr>\n    <tr>\n      <th>2000-01-03</th>\n      <td>4.792742</td>\n    </tr>\n    <tr>\n      <th>2000-01-04</th>\n      <td>3.115800</td>\n    </tr>\n    <tr>\n      <th>2000-01-05</th>\n      <td>5.581822</td>\n    </tr>\n  </tbody>\n</table>\n</div>"
     },
     "execution_count": 4,
     "metadata": {},
     "output_type": "execute_result"
    }
   ],
   "source": [
    "from aeon.utils._testing.hierarchical import _make_hierarchical\n",
    "\n",
    "y = _make_hierarchical()\n",
    "y.head()"
   ],
   "metadata": {
    "collapsed": false
   }
  },
  {
   "cell_type": "code",
   "execution_count": 5,
   "outputs": [
    {
     "data": {
      "text/plain": "                            c0\nh0   h1   time                \nh0_0 h1_0 2000-01-13  4.076904\n          2000-01-14  4.076904\n     h1_1 2000-01-13  5.185745\n          2000-01-14  5.185745\n     h1_2 2000-01-13  3.773312\n          2000-01-14  3.773312\n     h1_3 2000-01-13  2.851027\n          2000-01-14  2.851027\nh0_1 h1_0 2000-01-13  3.468474\n          2000-01-14  3.468474\n     h1_1 2000-01-13  4.421536\n          2000-01-14  4.421536\n     h1_2 2000-01-13  3.791238\n          2000-01-14  3.791238\n     h1_3 2000-01-13  4.026049\n          2000-01-14  4.026049",
      "text/html": "<div>\n<style scoped>\n    .dataframe tbody tr th:only-of-type {\n        vertical-align: middle;\n    }\n\n    .dataframe tbody tr th {\n        vertical-align: top;\n    }\n\n    .dataframe thead th {\n        text-align: right;\n    }\n</style>\n<table border=\"1\" class=\"dataframe\">\n  <thead>\n    <tr style=\"text-align: right;\">\n      <th></th>\n      <th></th>\n      <th></th>\n      <th>c0</th>\n    </tr>\n    <tr>\n      <th>h0</th>\n      <th>h1</th>\n      <th>time</th>\n      <th></th>\n    </tr>\n  </thead>\n  <tbody>\n    <tr>\n      <th rowspan=\"8\" valign=\"top\">h0_0</th>\n      <th rowspan=\"2\" valign=\"top\">h1_0</th>\n      <th>2000-01-13</th>\n      <td>4.076904</td>\n    </tr>\n    <tr>\n      <th>2000-01-14</th>\n      <td>4.076904</td>\n    </tr>\n    <tr>\n      <th rowspan=\"2\" valign=\"top\">h1_1</th>\n      <th>2000-01-13</th>\n      <td>5.185745</td>\n    </tr>\n    <tr>\n      <th>2000-01-14</th>\n      <td>5.185745</td>\n    </tr>\n    <tr>\n      <th rowspan=\"2\" valign=\"top\">h1_2</th>\n      <th>2000-01-13</th>\n      <td>3.773312</td>\n    </tr>\n    <tr>\n      <th>2000-01-14</th>\n      <td>3.773312</td>\n    </tr>\n    <tr>\n      <th rowspan=\"2\" valign=\"top\">h1_3</th>\n      <th>2000-01-13</th>\n      <td>2.851027</td>\n    </tr>\n    <tr>\n      <th>2000-01-14</th>\n      <td>2.851027</td>\n    </tr>\n    <tr>\n      <th rowspan=\"8\" valign=\"top\">h0_1</th>\n      <th rowspan=\"2\" valign=\"top\">h1_0</th>\n      <th>2000-01-13</th>\n      <td>3.468474</td>\n    </tr>\n    <tr>\n      <th>2000-01-14</th>\n      <td>3.468474</td>\n    </tr>\n    <tr>\n      <th rowspan=\"2\" valign=\"top\">h1_1</th>\n      <th>2000-01-13</th>\n      <td>4.421536</td>\n    </tr>\n    <tr>\n      <th>2000-01-14</th>\n      <td>4.421536</td>\n    </tr>\n    <tr>\n      <th rowspan=\"2\" valign=\"top\">h1_2</th>\n      <th>2000-01-13</th>\n      <td>3.791238</td>\n    </tr>\n    <tr>\n      <th>2000-01-14</th>\n      <td>3.791238</td>\n    </tr>\n    <tr>\n      <th rowspan=\"2\" valign=\"top\">h1_3</th>\n      <th>2000-01-13</th>\n      <td>4.026049</td>\n    </tr>\n    <tr>\n      <th>2000-01-14</th>\n      <td>4.026049</td>\n    </tr>\n  </tbody>\n</table>\n</div>"
     },
     "execution_count": 5,
     "metadata": {},
     "output_type": "execute_result"
    }
   ],
   "source": [
    "forecaster.fit(y, fh=[1, 2]).predict()"
   ],
   "metadata": {
    "collapsed": false
   }
  },
  {
   "cell_type": "markdown",
   "source": [
    "`np.ndarray` can be used with the forecasters in aeon, although we recommend using\n",
    "pandas. One dimensional np.ndarray are treated as a single time series. 2D numpy\n",
    "array are treated as multiple series of shape `(n_timeseries, n_timepoints)`.\n",
    "Forecasters fit independently on each series."
   ],
   "metadata": {
    "collapsed": false
   }
  },
  {
   "cell_type": "code",
   "execution_count": 6,
   "outputs": [
    {
     "data": {
      "text/plain": "array([[120.],\n       [140.],\n       [160.]])"
     },
     "execution_count": 6,
     "metadata": {},
     "output_type": "execute_result"
    }
   ],
   "source": [
    "y = np.array([20.0, 40.0, 60.0, 80.0, 100.0])\n",
    "forecaster = TrendForecaster()\n",
    "forecaster.fit(y)  # fit the forecaster\n",
    "forecaster.predict(fh=[1, 2, 3])  # forecast the next 3 values"
   ],
   "metadata": {
    "collapsed": false
   }
  },
  {
   "cell_type": "code",
   "execution_count": 7,
   "outputs": [
    {
     "data": {
      "text/plain": "array([[120.,  50.],\n       [140.,  40.],\n       [160.,  30.]])"
     },
     "execution_count": 7,
     "metadata": {},
     "output_type": "execute_result"
    }
   ],
   "source": [
    "y = np.array([[20.0, 40.0, 60.0, 80.0, 100.0], [100.0, 90.0, 80.0, 70.0, 60.0]])\n",
    "y = y.transpose()\n",
    "forecaster = TrendForecaster()\n",
    "forecaster.fit(y)  # fit the forecaster\n",
    "forecaster.predict(fh=[1, 2, 3])  # forecast the next 3 values"
   ],
   "metadata": {
    "collapsed": false
   }
  },
  {
   "cell_type": "markdown",
   "source": [
    "## Machine learning data\n",
    "\n",
    "Machine learning algorithms generally use collections of instances or cases stored as\n",
    " numpy arrays. Like scikit-learn, pytorch and keras, we primarily use numpy arrays.\n",
    " A collection contains a number of time series cases (or just cases) which we refer\n",
    " to in code as `n_cases`. Each case contains a number of time series observations,\n",
    " which we denote `n_timepoints`."
   ],
   "metadata": {
    "collapsed": false
   }
  },
  {
   "cell_type": "code",
   "execution_count": 8,
   "outputs": [
    {
     "name": "stdout",
     "output_type": "stream",
     "text": [
      "X shape =  (2, 1, 5)  First series = [[ 20.  40.  60.  80. 100.]] second series =  [[100.  90.  80.  70.  60.]]\n"
     ]
    }
   ],
   "source": [
    "X = np.array(\n",
    "    [\n",
    "        [[20.0, 40.0, 60.0, 80.0, 100.0]],  # Univariate series as 3D array\n",
    "        [[100.0, 90.0, 80.0, 70.0, 60.0]],\n",
    "    ]\n",
    ")  # n_cases = 2, n_channels =1, n_timepoints = 5\n",
    "print(\"X shape = \", X.shape, \" First series =\", X[0], \"second series = \", X[1])"
   ],
   "metadata": {
    "collapsed": false
   }
  },
  {
   "cell_type": "code",
   "execution_count": 9,
   "outputs": [
    {
     "name": "stdout",
     "output_type": "stream",
     "text": [
      "X shape =  (4, 3, 4) \n",
      " First series =\n",
      " [[ 20.   40.  600.   55. ]\n",
      " [ 10.   11.   12.   11. ]\n",
      " [ -4.    1.    6.6   2. ]] \n",
      "second series = \n",
      " [[ 10.  90.  80. 100.]\n",
      " [ 14.  70.  60.  22.]\n",
      " [ 49.  49.  66.   9.]]\n"
     ]
    },
    {
     "data": {
      "text/plain": "array([0, 1, 1, 1], dtype=int64)"
     },
     "execution_count": 9,
     "metadata": {},
     "output_type": "execute_result"
    }
   ],
   "source": [
    "X = np.array(\n",
    "    [\n",
    "        [[20, 40, 600, 55], [10, 11, 12, 11], [-4, 1, 6.6, 2]],\n",
    "        [[10, 90, 80, 100], [14, 70, 60, 22], [49, 49, 66, 9]],\n",
    "        [[14, 6, 10, -401], [44, 70, 60, 22], [49, 52, 33, 49]],\n",
    "        [[22, 93, 18, 100], [34, 170, 0, 87], [49, 49, 33, 49]],\n",
    "    ]\n",
    ")\n",
    "# n_cases = 4, n_channels =3, n_timepoints = 4\n",
    "print(\"X shape = \", X.shape, \"\\n First series =\\n\", X[0], \"\\nsecond series = \\n\", X[1])\n",
    "from aeon.clustering.k_means import TimeSeriesKMeans\n",
    "\n",
    "kmeans = TimeSeriesKMeans(metric=\"euclidean\", n_clusters=2)\n",
    "kmeans.fit(X)\n",
    "kmeans.predict(X)"
   ],
   "metadata": {
    "collapsed": false
   }
  },
  {
   "cell_type": "markdown",
   "source": [
    "The target variable for classification should be stored as a np.ndarray of integers\n",
    "or strings"
   ],
   "metadata": {
    "collapsed": false
   }
  },
  {
   "cell_type": "code",
   "execution_count": 10,
   "outputs": [
    {
     "data": {
      "text/plain": "array(['pass', 'pass', 'fail', 'fail'], dtype='<U4')"
     },
     "execution_count": 10,
     "metadata": {},
     "output_type": "execute_result"
    }
   ],
   "source": [
    "y = np.array([1, 1, 0, 0])\n",
    "y2 = np.array([\"pass\", \"pass\", \"fail\", \"fail\"])\n",
    "from aeon.classification.distance_based import KNeighborsTimeSeriesClassifier\n",
    "\n",
    "knn = KNeighborsTimeSeriesClassifier(distance=\"dtw\")\n",
    "knn.fit(X, y)\n",
    "knn.fit(X, y2)\n",
    "knn.predict(X)"
   ],
   "metadata": {
    "collapsed": false
   }
  },
  {
   "cell_type": "markdown",
   "source": [
    "For regression, the target variable should be of type float\n"
   ],
   "metadata": {
    "collapsed": false
   }
  },
  {
   "cell_type": "code",
   "execution_count": 11,
   "outputs": [
    {
     "data": {
      "text/plain": "array([ 1.5,  4.3, -2. , 10. ])"
     },
     "execution_count": 11,
     "metadata": {},
     "output_type": "execute_result"
    }
   ],
   "source": [
    "y = np.array([1.5, 4.3, -2.0, 10])\n",
    "from aeon.regression.distance_based import KNeighborsTimeSeriesRegressor\n",
    "\n",
    "knn_r = KNeighborsTimeSeriesRegressor(distance=\"dtw\")\n",
    "knn_r.fit(X, y)\n",
    "knn_r.predict(X)"
   ],
   "metadata": {
    "collapsed": false
   }
  },
  {
   "cell_type": "markdown",
   "source": [
    "If the time series are not all equal length, they should be stored as a list of 2D\n",
    "numpy arrays. Some estimators can deal with unequal length series. Those that can't\n",
    "will raise an exception if passed unequal length series. Note we assume that channels\n",
    " are all the same length for any given series."
   ],
   "metadata": {
    "collapsed": false
   }
  },
  {
   "cell_type": "code",
   "execution_count": 12,
   "outputs": [
    {
     "data": {
      "text/plain": "array([0, 0, 1])"
     },
     "execution_count": 12,
     "metadata": {},
     "output_type": "execute_result"
    }
   ],
   "source": [
    "x0 = np.array([[20, 40, 60, 55, 66], [10, 11, 12, 11, 66], [-4, 15, 6.6, 12, 44]])\n",
    "x1 = np.array([[10, 90, 80], [70, 60, 22], [49, 66, 9]])\n",
    "x2 = np.array([[22, 93, 18, 100], [34, 170, 0, 87], [49, 49, 33, 49]])\n",
    "X_uneq = []\n",
    "X_uneq.append(x0)\n",
    "X_uneq.append(x1)\n",
    "X_uneq.append(x2)\n",
    "y = np.array([0, 0, 1])\n",
    "knn.fit(X_uneq, y)\n",
    "knn.predict(X_uneq)"
   ],
   "metadata": {
    "collapsed": false
   }
  },
  {
   "cell_type": "markdown",
   "source": [
    "aeon has several standard problems baked in, and facilities for loading data from\n",
    "external sources. Please see [the data loading notebook](data_loading.ipynb)"
   ],
   "metadata": {
    "collapsed": false
   }
  },
  {
   "cell_type": "markdown",
   "source": [],
   "metadata": {
    "collapsed": false
   }
  }
 ],
 "metadata": {
  "kernelspec": {
   "display_name": "Python 3",
   "language": "python",
   "name": "python3"
  },
  "language_info": {
   "codemirror_mode": {
    "name": "ipython",
    "version": 2
   },
   "file_extension": ".py",
   "mimetype": "text/x-python",
   "name": "python",
   "nbconvert_exporter": "python",
   "pygments_lexer": "ipython2",
   "version": "2.7.6"
  }
 },
 "nbformat": 4,
 "nbformat_minor": 0
}
