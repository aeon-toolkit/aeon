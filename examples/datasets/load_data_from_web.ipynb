{
 "cells": [
  {
   "cell_type": "markdown",
   "source": [
    "# Downloading and loading benchmarking datasets\n",
    "\n",
    "It is common to use standard collections of data to compare different estimators for\n",
    "classification, clustering, regression and forecasting. Some of the smaller datasets from\n",
    "these datasets included with `aeon` in the `aeon/datasets/data` directory. However,\n",
    "there is way to many datasets to include them all, and some of the files are far too big\n",
    "to consider including in the package. `aeon` provides tools to download these data to use\n",
    "in benchmarking experiments. Classification and regression data are stored in .ts format.\n",
    "Forecasting data are stored in the equivalent .tsf format. See the\n",
    "[data loading notebook](examples/data_loading.ipynb) for more info.\n",
    "\n",
    "Classification and regression are loaded into 3D numpy arrays of shape\n",
    "`(n_cases, n_channels, n_timepoints)` if equal length or a list of length\n",
    "`n_cases` of 2D numpy arrays of shape `(n_channels, n_timepoints)` if\n",
    "`n_timepoints` is different between cases. Forecasting data are loaded into\n",
    "pd.DataFrame. For more information on aeon data types see the\n",
    "[data storage notebook](examples/data_storage.ipynb).\n",
    "\n",
    "Note that this notebook is dependent on external websites, so will not function if\n",
    "you are not online or the associated website is down. We use the following three\n",
    "functions"
   ],
   "metadata": {
    "collapsed": false
   }
  },
  {
   "cell_type": "code",
   "execution_count": 9,
   "outputs": [],
   "source": [
    "from aeon.datasets import load_classification, load_forecasting, load_regression"
   ],
   "metadata": {
    "collapsed": false,
    "ExecuteTime": {
     "end_time": "2023-07-24T15:29:38.987856700Z",
     "start_time": "2023-07-24T15:29:38.941979900Z"
    }
   }
  },
  {
   "cell_type": "markdown",
   "source": [
    "## Time Series Classification Archive\n",
    "\n",
    "The [UCR/TSML Time Series Classification Archive](https://timeseriesclassification.com)\n",
    "hosts the UCR univariate TSC archive (also available from\n",
    "[UCR](https://www.cs.ucr.edu/%7Eeamonn/time_series_data_2018/)) [1], and\n",
    "the multivariate archive [2] (previously called the UEA archive, soon to change). We\n",
    "provide seven of these in the datasets/data directory: ACSF1, ArrowHead, BasicMotions,\n",
    "GunPoint, ItalyPowerDemand, JapaneseVowels and PLAID. The archive is much bigger. The\n",
    "last batch release was for 128 univariate [1] and 33 multivariate [2] datasets. If you just\n",
    "want to download them all, please go to the [website](https://timeseriesclassification.com)."
   ],
   "metadata": {
    "collapsed": false
   }
  },
  {
   "cell_type": "code",
   "execution_count": 10,
   "outputs": [
    {
     "name": "stdout",
     "output_type": "stream",
     "text": [
      "Univariate length =  128\n",
      "Multivariate length =  33\n"
     ]
    }
   ],
   "source": [
    "from aeon.datasets.tsc_data_lists import multivariate, univariate\n",
    "\n",
    "# This file also contains sub lists by type, e.g. unequal length\n",
    "print(\"Univariate length = \", len(univariate))\n",
    "print(\"Multivariate length = \", len(multivariate))"
   ],
   "metadata": {
    "collapsed": false,
    "ExecuteTime": {
     "end_time": "2023-07-24T15:29:38.988882400Z",
     "start_time": "2023-07-24T15:29:38.949956800Z"
    }
   }
  },
  {
   "cell_type": "markdown",
   "source": [
    "A default train and test split is provided for this data. The file structure for a\n",
    "problem such as Chinatown is\n",
    "\n",
    "        <extract_path>/Chinatown/Chinatown_TRAIN.ts\n",
    "        <extract_path>/Chinatown/Chinatown_TEST.ts\n",
    "\n",
    "You can load these problems directly from\n",
    "[https://timeseriesclassification.com](https://timeseriesclassification.com) and load\n",
    "them into memory. Note by default, these functions return the data and associated metadata.\n",
    "This usage combines the train and test splits and loads them into one `X` and one `y` array."
   ],
   "metadata": {
    "collapsed": false
   }
  },
  {
   "cell_type": "code",
   "execution_count": 11,
   "outputs": [
    {
     "name": "stdout",
     "output_type": "stream",
     "text": [
      "Shape of X =  (363, 1, 24)\n",
      "First case =  [ 573.  375.  301.  212.   55.   34.   25.   33.  113.  143.  303.  615.\n",
      " 1226. 1281. 1221. 1081.  866. 1096. 1039.  975.  746.  581.  409.  182.]  has label =  1\n",
      "\n",
      "Meta data =  {'problemname': 'chinatown', 'timestamps': False, 'missing': False, 'univariate': True, 'equallength': True, 'classlabel': True, 'targetlabel': False, 'class_values': ['1', '2']}\n"
     ]
    }
   ],
   "source": [
    "X, y, meta = load_classification(\"Chinatown\")\n",
    "print(\"Shape of X = \", X.shape)\n",
    "print(\"First case = \", X[0][0], \" has label = \", y[0])\n",
    "print(\"\\nMeta data = \", meta)"
   ],
   "metadata": {
    "collapsed": false,
    "ExecuteTime": {
     "end_time": "2023-07-24T15:29:39.067643100Z",
     "start_time": "2023-07-24T15:29:38.954944100Z"
    }
   }
  },
  {
   "cell_type": "markdown",
   "source": [
    "If you look in `aeon/datasets/local_data/` you should see a directory called `Chinatown`\n",
    "containing the Chinatown datasets. All of the zips have `.ts` files. Some also have\n",
    "`.arff` and `.txt` files. If you load again, it will not download again if the file is\n",
    "already there. If you want to store data somewhere else, you can specify a file path\n",
    "using the `extract_path` parameter. Additionally, you can load the train and test\n",
    "separately as shown below.\n",
    "\n",
    "This code will download the data and load into separate train/test splits. The split argument is not\n",
    "case sensitive. Once downloaded, `load_classification` is a equivalent to a call to `load_from_tsfile`."
   ],
   "metadata": {
    "collapsed": false
   }
  },
  {
   "cell_type": "code",
   "execution_count": 12,
   "outputs": [
    {
     "name": "stdout",
     "output_type": "stream",
     "text": [
      "Train shape =  (20, 1, 512)\n",
      "Test shape =  (20, 1, 512)\n"
     ]
    }
   ],
   "source": [
    "X_train, y_train = load_classification(\n",
    "    \"BeetleFly\", split=\"TRAIN\", return_metadata=False\n",
    ")\n",
    "X_test, y_test = load_classification(\"BeetleFly\", split=\"test\", return_metadata=False)\n",
    "print(\"Train shape = \", X_train.shape)\n",
    "print(\"Test shape = \", X_test.shape)"
   ],
   "metadata": {
    "collapsed": false,
    "ExecuteTime": {
     "end_time": "2023-07-24T15:29:39.229225500Z",
     "start_time": "2023-07-24T15:29:39.068640Z"
    }
   }
  },
  {
   "cell_type": "markdown",
   "source": [
    "## Time Series (Extrinsic) Regression\n",
    "\n",
    "The [Monash Time Series Extrinsic Regression Archive](http://tseregression.org/) [3] repo\n",
    "(called extrinsic to differentiate if from sliding window based regression) currently\n",
    "contains 19 regression problems in `.ts` format. One of these, Covid3Month, is in\n",
    "`datasets\\data`. The usage of `load_regression` is identical to `load_classification`\n"
   ],
   "metadata": {
    "collapsed": false
   }
  },
  {
   "cell_type": "code",
   "execution_count": 13,
   "outputs": [
    {
     "data": {
      "text/plain": "['AppliancesEnergy',\n 'AustraliaRainfall',\n 'BIDMCHR',\n 'BIDMCRR',\n 'BIDMCSpO2',\n 'BeijingPM10Quality',\n 'BeijingPM25Quality',\n 'BenzeneConcentration',\n 'Covid3Month',\n 'FloodModeling1',\n 'FloodModeling2',\n 'FloodModeling3',\n 'HouseholdPowerConsumption1',\n 'HouseholdPowerConsumption2',\n 'IEEEPPG',\n 'LiveFuelMoistureContent',\n 'NewsHeadlineSentiment',\n 'NewsTitleSentiment',\n 'PPGDalia']"
     },
     "execution_count": 13,
     "metadata": {},
     "output_type": "execute_result"
    }
   ],
   "source": [
    "from aeon.datasets.dataset_collections import list_available_tser_datasets\n",
    "\n",
    "list_available_tser_datasets()"
   ],
   "metadata": {
    "collapsed": false,
    "ExecuteTime": {
     "end_time": "2023-07-24T15:29:39.237204700Z",
     "start_time": "2023-07-24T15:29:39.230223400Z"
    }
   }
  },
  {
   "cell_type": "code",
   "execution_count": 14,
   "outputs": [
    {
     "name": "stdout",
     "output_type": "stream",
     "text": [
      "Shape of X =  (673, 1, 266)\n"
     ]
    }
   ],
   "source": [
    "X, y, meta = load_regression(\"FloodModeling1\")\n",
    "print(\"Shape of X = \", X.shape)"
   ],
   "metadata": {
    "collapsed": false,
    "ExecuteTime": {
     "end_time": "2023-07-24T15:29:42.341536600Z",
     "start_time": "2023-07-24T15:29:39.237204700Z"
    }
   }
  },
  {
   "cell_type": "markdown",
   "source": [
    "## Time Series Forecasting\n",
    "\n",
    "The [Monash time series forecasting](https://forecastingdata.org/) repo contains a\n",
    "large number of forecasting data, including competition data such as M1, M3 and M4.\n",
    "Usage is the same as the other problems, although there is no provided train/test\n",
    "splits.\n"
   ],
   "metadata": {
    "collapsed": false
   }
  },
  {
   "cell_type": "code",
   "execution_count": 15,
   "outputs": [
    {
     "data": {
      "text/plain": "['australian_electricity_demand_dataset',\n 'car_parts_dataset_with_missing_values',\n 'car_parts_dataset_without_missing_values',\n 'cif_2016_dataset',\n 'covid_deaths_dataset',\n 'covid_mobility_dataset_with_missing_values',\n 'covid_mobility_dataset_without_missing_values',\n 'dominick_dataset',\n 'elecdemand_dataset',\n 'electricity_hourly_dataset',\n 'electricity_weekly_dataset',\n 'fred_md_dataset',\n 'hospital_dataset',\n 'kaggle_web_traffic_dataset_with_missing_values',\n 'kaggle_web_traffic_dataset_without_missing_values',\n 'kaggle_web_traffic_weekly_dataset',\n 'kdd_cup_2018_dataset_with_missing_values',\n 'kdd_cup_2018_dataset_without_missing_values',\n 'london_smart_meters_dataset_with_missing_values',\n 'london_smart_meters_dataset_without_missing_values',\n 'm1_monthly_dataset',\n 'm1_quarterly_dataset',\n 'm1_yearly_dataset',\n 'm3_monthly_dataset',\n 'm3_other_dataset',\n 'm3_quarterly_dataset',\n 'm3_yearly_dataset',\n 'm4_daily_dataset',\n 'm4_hourly_dataset',\n 'm4_monthly_dataset',\n 'm4_quarterly_dataset',\n 'm4_weekly_dataset',\n 'm4_yearly_dataset',\n 'nn5_daily_dataset_with_missing_values',\n 'nn5_daily_dataset_without_missing_values',\n 'nn5_weekly_dataset',\n 'pedestrian_counts_dataset',\n 'saugeenday_dataset',\n 'solar_10_minutes_dataset',\n 'solar_4_seconds_dataset',\n 'solar_weekly_dataset',\n 'sunspot_dataset_with_missing_values',\n 'sunspot_dataset_without_missing_values',\n 'tourism_monthly_dataset',\n 'tourism_quarterly_dataset',\n 'tourism_yearly_dataset',\n 'traffic_hourly_dataset',\n 'traffic_weekly_dataset',\n 'us_births_dataset',\n 'weather_dataset',\n 'wind_4_seconds_dataset',\n 'wind_farms_minutely_dataset_with_missing_values',\n 'wind_farms_minutely_dataset_without_missing_values']"
     },
     "execution_count": 15,
     "metadata": {},
     "output_type": "execute_result"
    }
   ],
   "source": [
    "from aeon.datasets.dataset_collections import list_available_tsf_datasets\n",
    "\n",
    "list_available_tsf_datasets()"
   ],
   "metadata": {
    "collapsed": false,
    "ExecuteTime": {
     "end_time": "2023-07-24T15:29:42.347519900Z",
     "start_time": "2023-07-24T15:29:42.341536600Z"
    }
   }
  },
  {
   "cell_type": "code",
   "execution_count": 16,
   "outputs": [
    {
     "name": "stdout",
     "output_type": "stream",
     "text": [
      "(23000, 3)\n",
      "{'frequency': 'yearly', 'forecast_horizon': 6, 'contain_missing_values': False, 'contain_equal_length': False}\n",
      "  series_name     start_timestamp  \\\n",
      "0          T1 1979-01-01 12:00:00   \n",
      "1          T2 1979-01-01 12:00:00   \n",
      "2          T3 1979-01-01 12:00:00   \n",
      "3          T4 1979-01-01 12:00:00   \n",
      "4          T5 1979-01-01 12:00:00   \n",
      "\n",
      "                                        series_value  \n",
      "0  [5172.1, 5133.5, 5186.9, 5084.6, 5182.0, 5414....  \n",
      "1  [2070.0, 2104.0, 2394.0, 1651.0, 1492.0, 1348....  \n",
      "2  [2760.0, 2980.0, 3200.0, 3450.0, 3670.0, 3850....  \n",
      "3  [3380.0, 3670.0, 3960.0, 4190.0, 4440.0, 4700....  \n",
      "4  [1980.0, 2030.0, 2220.0, 2530.0, 2610.0, 2720....  \n"
     ]
    }
   ],
   "source": [
    "X, metadata = load_forecasting(\"m4_yearly_dataset\")\n",
    "print(X.shape)\n",
    "print(metadata)\n",
    "data = X.head()\n",
    "print(data)"
   ],
   "metadata": {
    "collapsed": false,
    "ExecuteTime": {
     "end_time": "2023-07-24T15:29:49.815481300Z",
     "start_time": "2023-07-24T15:29:42.347519900Z"
    }
   }
  },
  {
   "cell_type": "markdown",
   "source": [
    "## References\n",
    "\n",
    "[1] Dau et. al, The UCR time series archive, IEEE/CAA Journal of Automatica Sinica, 2019\n",
    "\n",
    "[2] Ruiz et. al, The great multivariate time series classification bake off: a review\n",
    " and experimental evaluation of recent algorithmic advances, Data Mining and\n",
    " Knowledge Discovery 35(2), 2021\n",
    "\n",
    "[3] Tan et. al, Time Series Extrinsic Regression, Data Mining and Knowledge\n",
    " Discovery, 2021\n",
    "\n",
    "[4] Godahewa et. al, Monash Time Series Forecasting Archive, Neural Information\n",
    " Processing Systems Track on Datasets and Benchmarks, 2021\n"
   ],
   "metadata": {
    "collapsed": false
   }
  }
 ],
 "metadata": {
  "kernelspec": {
   "display_name": "Python 3",
   "language": "python",
   "name": "python3"
  },
  "language_info": {
   "codemirror_mode": {
    "name": "ipython",
    "version": 2
   },
   "file_extension": ".py",
   "mimetype": "text/x-python",
   "name": "python",
   "nbconvert_exporter": "python",
   "pygments_lexer": "ipython2",
   "version": "2.7.6"
  }
 },
 "nbformat": 4,
 "nbformat_minor": 0
}
