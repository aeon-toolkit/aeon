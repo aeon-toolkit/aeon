{
 "cells": [
  {
   "cell_type": "markdown",
   "source": [
    "<h1>Lets do the time warp again: time series machine learning with distance functions</h1>"
   ],
   "metadata": {
    "collapsed": false
   }
  },
  {
   "cell_type": "markdown",
   "source": [
    "# Distance module overview\n",
    "\n",
    "## Avaliable distances\n",
    "| Metric | Distance Function       |\n",
    "|--------|-------------------------|\n",
    "| dtw    | distance.dtw_distance   |\n",
    "| ddtw   | distance.ddtw_distance  |\n",
    "| wdtw   | distance.wdtw_distance  |\n",
    "| wddtw  | distance.wddtw_distance |\n",
    "| erp    | distance.erp_distance   |\n",
    "| edr    | distance.edr_distance   |\n",
    "| msm    | distance.msm_distance   |\n",
    "| twe    | distance.twe_distance   |\n",
    "| lcss   | distance.lcss_distance  |\n",
    "\n",
    "## Calling a distance function"
   ],
   "metadata": {
    "collapsed": false
   }
  },
  {
   "cell_type": "code",
   "execution_count": 9,
   "outputs": [
    {
     "data": {
      "text/plain": "108.0"
     },
     "execution_count": 9,
     "metadata": {},
     "output_type": "execute_result"
    }
   ],
   "source": [
    "import numpy as np\n",
    "# These can be 1d or 2d arrays and in addition they do not have to be equal length\n",
    "x = np.array([1, 2, 3, 4, 5])\n",
    "y = np.array([6, 7, 8, 9, 10])\n",
    "\n",
    "# Calling a distance directly\n",
    "from aeon.distances import dtw_distance\n",
    "dtw_distance(x, y)\n",
    "\n",
    "# Calling a distance using utility function\n",
    "from aeon.distances import distance\n",
    "# Any value in the table above is a valid metric string\n",
    "distance(x, y, metric='dtw')"
   ],
   "metadata": {
    "collapsed": false,
    "ExecuteTime": {
     "end_time": "2023-09-14T14:17:50.143506048Z",
     "start_time": "2023-09-14T14:17:50.134226179Z"
    }
   }
  },
  {
   "cell_type": "markdown",
   "source": [
    "## Distance function parameters\n",
    "\n",
    "You pass parameters as kwargs to a distance. The parameters for each distance\n",
    "is documented at https://www.aeon-toolkit.org/en/latest/api_reference/distances.html.\n",
    "\n",
    "To pass parameters to utility function just specify the kwargs after the metric\n",
    "parameter.\n",
    "\n",
    "Below shows using the window parameter for DTW."
   ],
   "metadata": {
    "collapsed": false
   }
  },
  {
   "cell_type": "code",
   "execution_count": 10,
   "outputs": [
    {
     "data": {
      "text/plain": "2.0"
     },
     "execution_count": 10,
     "metadata": {},
     "output_type": "execute_result"
    }
   ],
   "source": [
    "# Calling a distance directly\n",
    "from aeon.distances import msm_distance\n",
    "msm_distance(x, y, window=0.2)\n",
    "\n",
    "# Calling a distance using utility function\n",
    "distance(x, y, metric='msm', window=0.2)"
   ],
   "metadata": {
    "collapsed": false,
    "ExecuteTime": {
     "end_time": "2023-09-14T14:17:51.370458353Z",
     "start_time": "2023-09-14T14:17:51.367301839Z"
    }
   }
  },
  {
   "cell_type": "markdown",
   "source": [
    "# Other distance module functionality\n",
    "\n",
    "## Pairwise distance\n",
    "If we have a collection of time series (or dataset) and we want to find the distance\n",
    "between each pair of time series we can use the pairwise distance function."
   ],
   "metadata": {
    "collapsed": false
   }
  },
  {
   "cell_type": "code",
   "execution_count": 11,
   "outputs": [
    {
     "data": {
      "text/plain": "array([[ 0.   , 21.008, 26.008],\n       [21.008,  0.   , 21.008],\n       [26.008, 21.008,  0.   ]])"
     },
     "execution_count": 11,
     "metadata": {},
     "output_type": "execute_result"
    }
   ],
   "source": [
    "X = np.array([[1, 2, 3, 4, 5],\n",
    "              [6, 7, 8, 9, 10],\n",
    "              [11, 12, 13, 14, 15]])\n",
    "\n",
    "# Calling a distance directly\n",
    "from aeon.distances import twe_pairwise_distance\n",
    "twe_pairwise_distance(X)\n",
    "\n",
    "# Using utility function\n",
    "from aeon.distances import pairwise_distance\n",
    "pairwise_distance(X, metric='twe')"
   ],
   "metadata": {
    "collapsed": false,
    "ExecuteTime": {
     "end_time": "2023-09-14T14:17:52.354991220Z",
     "start_time": "2023-09-14T14:17:52.351512672Z"
    }
   }
  },
  {
   "cell_type": "markdown",
   "source": [
    "We can also compute the pairwise distance between two different collections of time series."
   ],
   "metadata": {
    "collapsed": false
   }
  },
  {
   "cell_type": "code",
   "execution_count": 44,
   "outputs": [
    {
     "name": "stdout",
     "output_type": "stream",
     "text": [
      "[[ 75. 100.]\n",
      " [ 50.  75.]\n",
      " [ 25.  50.]]\n"
     ]
    }
   ],
   "source": [
    "y = np.array([[16, 17, 18, 19, 20],\n",
    "              [21, 22, 23, 24, 25]])\n",
    "\n",
    "# Calling a distance directly\n",
    "from aeon.distances import erp_pairwise_distance\n",
    "erp_pairwise_distance(X, y)\n",
    "\n",
    "# Using utility function\n",
    "pairwise_distance(X, y, metric='erp')"
   ],
   "metadata": {
    "collapsed": false,
    "ExecuteTime": {
     "end_time": "2023-09-14T16:49:12.048294766Z",
     "start_time": "2023-09-14T16:49:12.041397215Z"
    }
   }
  },
  {
   "cell_type": "markdown",
   "source": [
    "## Pairwise distance parameters\n",
    "\n",
    "Pairwise distance functions take the same parameters as the distance functions and\n",
    "you pass them in the same way. They MUST be passed by kwargs."
   ],
   "metadata": {
    "collapsed": false
   }
  },
  {
   "cell_type": "code",
   "execution_count": 13,
   "outputs": [
    {
     "data": {
      "text/plain": "array([[527.38945495, 937.58125325],\n       [234.39531331, 527.38945495],\n       [ 54.24009352, 234.39531331]])"
     },
     "execution_count": 13,
     "metadata": {},
     "output_type": "execute_result"
    }
   ],
   "source": [
    "# Calling a distance directly\n",
    "from aeon.distances import wdtw_pairwise_distance\n",
    "wdtw_pairwise_distance(X, y, window=0.2)\n",
    "\n",
    "# Using utility function\n",
    "pairwise_distance(X, y, metric='wdtw', window=0.2)"
   ],
   "metadata": {
    "collapsed": false,
    "ExecuteTime": {
     "end_time": "2023-09-14T14:17:55.291506461Z",
     "start_time": "2023-09-14T14:17:55.255776740Z"
    }
   }
  },
  {
   "cell_type": "markdown",
   "source": [
    "# Using distances with Sklearn"
   ],
   "metadata": {
    "collapsed": false
   }
  },
  {
   "cell_type": "code",
   "execution_count": 30,
   "outputs": [],
   "source": [
    "from aeon.datasets import load_gunpoint as load_data\n",
    "X_train, y_train = load_data(split=\"TRAIN\", return_type=\"numpy2D\")\n",
    "X_test, y_test = load_data(split=\"TEST\", return_type=\"numpy2D\")"
   ],
   "metadata": {
    "collapsed": false,
    "ExecuteTime": {
     "end_time": "2023-09-14T14:28:00.258611467Z",
     "start_time": "2023-09-14T14:28:00.217222845Z"
    }
   }
  },
  {
   "cell_type": "markdown",
   "source": [
    "# Clustering"
   ],
   "metadata": {
    "collapsed": false
   }
  },
  {
   "cell_type": "code",
   "execution_count": 31,
   "outputs": [
    {
     "name": "stdout",
     "output_type": "stream",
     "text": [
      "DBSCAN with twe distance labels:  [1 1 1 1 1 1 0 0 1 1 1 1 0 1 1 1 1 1 1 0 1 1 1 0 1 1 1 1 0 0 1 0 1 1 1 1 0\n",
      " 1 0 0 1 1 1 1 0 1 1 1 1 0]\n",
      "DBSCAN with precomputed labels:  [1 1 1 1 1 1 0 0 1 1 1 1 0 1 1 1 1 1 1 0 1 1 1 0 1 1 1 1 0 0 1 0 1 1 1 1 0\n",
      " 1 0 0 1 1 1 1 0 1 1 1 1 0]\n"
     ]
    }
   ],
   "source": [
    "from sklearn.cluster import AgglomerativeClustering\n",
    "from aeon.distances import twe_pairwise_distance, pairwise_distance\n",
    "\n",
    "model_precomputed = AgglomerativeClustering(metric=\"precomputed\", linkage=\"complete\")\n",
    "model_distance = AgglomerativeClustering(metric=twe_pairwise_distance, linkage=\"complete\")\n",
    "\n",
    "# Precompute pairwise twe distances\n",
    "train_pw_distance = pairwise_distance(X_train, metric=\"twe\")\n",
    "\n",
    "# Fit model using precomputed\n",
    "model_precomputed.fit(train_pw_distance)\n",
    "# Fit model using distance function\n",
    "model_distance.fit(X_train)\n",
    "#\n",
    "# Score models on training data\n",
    "print(\"DBSCAN with twe distance labels: \", model_distance.labels_)\n",
    "print(\"DBSCAN with precomputed labels: \", model_precomputed.labels_)"
   ],
   "metadata": {
    "collapsed": false,
    "ExecuteTime": {
     "end_time": "2023-09-14T14:28:19.372119421Z",
     "start_time": "2023-09-14T14:28:19.331480414Z"
    }
   }
  },
  {
   "cell_type": "markdown",
   "source": [
    "## Classification"
   ],
   "metadata": {
    "collapsed": false
   }
  },
  {
   "cell_type": "code",
   "execution_count": 34,
   "outputs": [
    {
     "name": "stdout",
     "output_type": "stream",
     "text": [
      "SVM with twe distance score:  0.38666666666666666\n",
      "SVM with precomputed score:  0.38666666666666666\n"
     ]
    }
   ],
   "source": [
    "from sklearn.svm import SVC\n",
    "from aeon.distances import msm_pairwise_distance,  pairwise_distance\n",
    "model_precomputed = SVC(kernel=\"precomputed\")\n",
    "model_distance = SVC(kernel=msm_pairwise_distance)\n",
    "\n",
    "\n",
    "# Precompute pairwise twe distances\n",
    "train_pw_distance = pairwise_distance(X_train, metric=\"msm\")\n",
    "test_pw_distance = pairwise_distance(X_test, X_train, metric=\"msm\")\n",
    "\n",
    "# Fit model using precomputed\n",
    "model_precomputed.fit(train_pw_distance, y_train)\n",
    "# Fit model using distance function\n",
    "model_distance.fit(X_train, y_train)\n",
    "\n",
    "# Score models on training data\n",
    "print(\"SVM with twe distance score: \", model_distance.score(X_test, y_test))\n",
    "print(\"SVM with precomputed score: \", model_precomputed.score(test_pw_distance, y_test))"
   ],
   "metadata": {
    "collapsed": false,
    "ExecuteTime": {
     "end_time": "2023-09-14T14:45:46.617592010Z",
     "start_time": "2023-09-14T14:45:45.825348388Z"
    }
   }
  },
  {
   "cell_type": "markdown",
   "source": [
    "# Performance"
   ],
   "metadata": {
    "collapsed": false
   }
  },
  {
   "cell_type": "code",
   "execution_count": 42,
   "outputs": [
    {
     "name": "stdout",
     "output_type": "stream",
     "text": [
      "     dtw_distance  ddtw_distance  erp_distance  edr_distance  twe_distance  \\\n",
      "100      0.000223       0.000333      0.000249      0.000202      0.000855   \n",
      "200      0.000939       0.000887      0.000824      0.000808      0.003283   \n",
      "300      0.002959       0.001958      0.001758      0.001826      0.007376   \n",
      "\n",
      "     msm_distance  wdtw_distance  wddtw_distance  lcss_distance  \\\n",
      "100      0.000037       0.000250        0.000239       0.000264   \n",
      "200      0.000151       0.000866        0.000849       0.001095   \n",
      "300      0.000368       0.001876        0.001861       0.002175   \n",
      "\n",
      "     euclidean_distance  \n",
      "100        9.536743e-07  \n",
      "200        5.245209e-07  \n",
      "300        4.768372e-07  \n"
     ]
    }
   ],
   "source": [
    "import numpy as np\n",
    "import time\n",
    "import pandas as pd\n",
    "N_VALUES = [1000, 5000, 10000, 50000, 100000]\n",
    "# N_VALUES = [100, 200, 300]\n",
    "def time_distance(dist_func, dist_name, num_reruns=10, store_dict=None):\n",
    "    \"\"\"Time a distance function.\"\"\"\n",
    "    if dist_name not in store_dict.keys():\n",
    "        if store_dict is None:\n",
    "            store_dict = {}\n",
    "        store_dict[dist_name] = []\n",
    "\n",
    "    for n in N_VALUES:\n",
    "        curr_x = np.random.rand(1, n)\n",
    "        curr_y = np.random.rand(1, n)\n",
    "        times = []\n",
    "        for _ in range(num_reruns):\n",
    "            start = time.time()\n",
    "            dist_func(curr_x, curr_y)\n",
    "            end = time.time()\n",
    "            times.append(end - start)\n",
    "        store_dict[dist_name].append(np.mean(times))\n",
    "    return store_dict\n",
    "\n",
    "from aeon.distances import (\n",
    "    dtw_distance,\n",
    "    ddtw_distance,\n",
    "    erp_distance,\n",
    "    edr_distance,\n",
    "    twe_distance,\n",
    "    msm_distance,\n",
    "    wdtw_distance,\n",
    "    wddtw_distance,\n",
    "    lcss_distance,\n",
    "    euclidean_distance\n",
    ")\n",
    "\n",
    "dists = [\n",
    "    (dtw_distance, \"dtw_distance\"),\n",
    "    (ddtw_distance, \"ddtw_distance\"),\n",
    "    (erp_distance, \"erp_distance\"),\n",
    "    (edr_distance, \"edr_distance\"),\n",
    "    (twe_distance, \"twe_distance\"),\n",
    "    (msm_distance, \"msm_distance\"),\n",
    "    (wdtw_distance, \"wdtw_distance\"),\n",
    "    (wddtw_distance, \"wddtw_distance\"),\n",
    "    (lcss_distance, \"lcss_distance\"),\n",
    "    (euclidean_distance, \"euclidean_distance\")\n",
    "]\n",
    "\n",
    "store_dict = {}\n",
    "for dist in dists:\n",
    "    store_dict = time_distance(dist[0], dist[1], store_dict=store_dict)\n",
    "\n",
    "df = pd.DataFrame(store_dict)\n",
    "df.index = N_VALUES\n",
    "print(df)"
   ],
   "metadata": {
    "collapsed": false,
    "ExecuteTime": {
     "end_time": "2023-09-14T15:28:19.566962280Z",
     "start_time": "2023-09-14T15:28:19.179917450Z"
    }
   }
  },
  {
   "cell_type": "code",
   "execution_count": 37,
   "outputs": [],
   "source": [],
   "metadata": {
    "collapsed": false,
    "ExecuteTime": {
     "end_time": "2023-09-14T15:27:05.658905922Z",
     "start_time": "2023-09-14T15:27:05.641439022Z"
    }
   }
  },
  {
   "cell_type": "code",
   "execution_count": null,
   "outputs": [],
   "source": [],
   "metadata": {
    "collapsed": false
   }
  }
 ],
 "metadata": {
  "kernelspec": {
   "display_name": "Python 3",
   "language": "python",
   "name": "python3"
  },
  "language_info": {
   "codemirror_mode": {
    "name": "ipython",
    "version": 2
   },
   "file_extension": ".py",
   "mimetype": "text/x-python",
   "name": "python",
   "nbconvert_exporter": "python",
   "pygments_lexer": "ipython2",
   "version": "2.7.6"
  }
 },
 "nbformat": 4,
 "nbformat_minor": 0
}
