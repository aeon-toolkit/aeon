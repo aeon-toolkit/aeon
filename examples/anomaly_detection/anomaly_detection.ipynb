{
 "cells": [
  {
   "cell_type": "markdown",
   "id": "36c7dcfec1245abe",
   "metadata": {},
   "source": [
    "# Time Series Anomaly Detection with aeon\n",
    "\n",
    "The aim of Time Series Anomaly Detection is to discover regions of a time series that in some way are not representative of the underlying generative process. An anomaly in time series can be a single point or a subsequence that deviates from the regular patterns of the sequence with respect to some measure, model or embedding. This notebook gives an overview of anomaly detection module and the available detectors.\n",
    "\n",
    "<img src=\"img/anomaly_detection.png\" width=\"600\" alt=\"time series anomalies\">"
   ]
  },
  {
   "cell_type": "markdown",
   "id": "9673b594-aad1-46f3-bba9-158def0578fa",
   "metadata": {},
   "source": [
    "## Data Storage and Problem types\n",
    "\n",
    "The anomaly detectors implemented in `aeon.anomaly_detection` module have different capabilities and can be grouped according to the following categories.\n",
    "\n",
    "<img src=\"img/detector_classification.png\" width=600 alt=\"taxonomy of outlier detectors in aeon\">"
   ]
  },
  {
   "cell_type": "markdown",
   "id": "d6701c2c-fcbd-46f0-90dd-3077337123a3",
   "metadata": {},
   "source": [
    "## Anomaly Detection in aeon"
   ]
  },
  {
   "cell_type": "code",
   "execution_count": 2,
   "id": "88276e2b-149a-4d32-aa4e-e15400c1086b",
   "metadata": {},
   "outputs": [
    {
     "data": {
      "text/html": [
       "<div>\n",
       "<style scoped>\n",
       "    .dataframe tbody tr th:only-of-type {\n",
       "        vertical-align: middle;\n",
       "    }\n",
       "\n",
       "    .dataframe tbody tr th {\n",
       "        vertical-align: top;\n",
       "    }\n",
       "\n",
       "    .dataframe thead th {\n",
       "        text-align: right;\n",
       "    }\n",
       "</style>\n",
       "<table border=\"1\" class=\"dataframe\">\n",
       "  <thead>\n",
       "    <tr style=\"text-align: right;\">\n",
       "      <th></th>\n",
       "      <th>name</th>\n",
       "      <th>estimator</th>\n",
       "    </tr>\n",
       "  </thead>\n",
       "  <tbody>\n",
       "    <tr>\n",
       "      <th>0</th>\n",
       "      <td>DWT_MLEAD</td>\n",
       "      <td>&lt;class 'aeon.anomaly_detection._dwt_mlead.DWT_...</td>\n",
       "    </tr>\n",
       "    <tr>\n",
       "      <th>1</th>\n",
       "      <td>KMeansAD</td>\n",
       "      <td>&lt;class 'aeon.anomaly_detection._kmeans.KMeansAD'&gt;</td>\n",
       "    </tr>\n",
       "    <tr>\n",
       "      <th>2</th>\n",
       "      <td>MERLIN</td>\n",
       "      <td>&lt;class 'aeon.anomaly_detection._merlin.MERLIN'&gt;</td>\n",
       "    </tr>\n",
       "    <tr>\n",
       "      <th>3</th>\n",
       "      <td>PyODAdapter</td>\n",
       "      <td>&lt;class 'aeon.anomaly_detection._pyodadapter.Py...</td>\n",
       "    </tr>\n",
       "    <tr>\n",
       "      <th>4</th>\n",
       "      <td>STOMP</td>\n",
       "      <td>&lt;class 'aeon.anomaly_detection._stomp.STOMP'&gt;</td>\n",
       "    </tr>\n",
       "    <tr>\n",
       "      <th>5</th>\n",
       "      <td>STRAY</td>\n",
       "      <td>&lt;class 'aeon.anomaly_detection._stray.STRAY'&gt;</td>\n",
       "    </tr>\n",
       "  </tbody>\n",
       "</table>\n",
       "</div>"
      ],
      "text/plain": [
       "          name                                          estimator\n",
       "0    DWT_MLEAD  <class 'aeon.anomaly_detection._dwt_mlead.DWT_...\n",
       "1     KMeansAD  <class 'aeon.anomaly_detection._kmeans.KMeansAD'>\n",
       "2       MERLIN    <class 'aeon.anomaly_detection._merlin.MERLIN'>\n",
       "3  PyODAdapter  <class 'aeon.anomaly_detection._pyodadapter.Py...\n",
       "4        STOMP      <class 'aeon.anomaly_detection._stomp.STOMP'>\n",
       "5        STRAY      <class 'aeon.anomaly_detection._stray.STRAY'>"
      ]
     },
     "execution_count": 2,
     "metadata": {},
     "output_type": "execute_result"
    }
   ],
   "source": [
    "from aeon.registry import all_estimators\n",
    "\n",
    "all_estimators(\"anomaly-detector\", as_dataframe=True)"
   ]
  },
  {
   "cell_type": "code",
   "execution_count": null,
   "id": "d5333c9a-6acb-4c8a-8145-72a949c89bc1",
   "metadata": {},
   "outputs": [],
   "source": []
  }
 ],
 "metadata": {
  "kernelspec": {
   "display_name": "Python 3 (ipykernel)",
   "language": "python",
   "name": "python3"
  },
  "language_info": {
   "codemirror_mode": {
    "name": "ipython",
    "version": 3
   },
   "file_extension": ".py",
   "mimetype": "text/x-python",
   "name": "python",
   "nbconvert_exporter": "python",
   "pygments_lexer": "ipython3",
   "version": "3.12.5"
  }
 },
 "nbformat": 4,
 "nbformat_minor": 5
}
