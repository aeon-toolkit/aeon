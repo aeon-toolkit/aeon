{
 "cells": [
  {
   "metadata": {},
   "cell_type": "markdown",
   "source": [
    "# Anomaly Detection\n",
    "\n",
    "This notebook is currently under construction! Please check back later.\n",
    "\n",
    "If you have any questions about the `aeon` anomaly detection module in the mean time, please ask us on Slack!"
   ],
   "id": "36c7dcfec1245abe"
  }
 ],
 "metadata": {
  "kernelspec": {
   "display_name": "Python 3",
   "language": "python",
   "name": "python3"
  },
  "language_info": {
   "codemirror_mode": {
    "name": "ipython",
    "version": 2
   },
   "file_extension": ".py",
   "mimetype": "text/x-python",
   "name": "python",
   "nbconvert_exporter": "python",
   "pygments_lexer": "ipython2",
   "version": "2.7.6"
  }
 },
 "nbformat": 4,
 "nbformat_minor": 5
}
