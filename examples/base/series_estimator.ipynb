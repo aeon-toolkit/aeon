{
 "cells": [
  {
   "cell_type": "markdown",
   "source": [
    "# BaseSeriesEstimator\n",
    "\n",
    "The ``BaseSeriesEstimator``class is a base class for estimators that take a single\n",
    "series as input rather than a collection of time series (see\n",
    "``BaseCollectionEstimator``). This notebook describes the major design issues to bare\n",
    " in mind if using any class that inherits from ``BaseSeriesEstimator``. To use any\n",
    " base estimator all you need to understand is the meaning of ``axis`` and the capability\n",
    "  tags.\n",
    "\n",
    "``BaseSeriesEstimator`` handles the preprocessing required for a single before being\n",
    "used in a method such as ``fit``. These are used in base classes by\n",
    "applying the protected method ``preprocess_series``. The key steps to note are:\n",
    "1. Input data type should be a ``np.ndarray``, a ``pd.Series`` or a ``pd.DataFrame``.\n",
    "2. The input data will be transformed into the type required by the estimator as\n",
    "determined by the tag ``X_inner_type``.\n",
    "3. If the estimator can only work with univariate time series\n",
    "(``capability:multivariate`` set to False) then the input data will be converted to a\n",
    " 1D numpy array or a pandas Series.\n",
    "4. If the estimator has the ability to handle multivariate time series as determined\n",
    " by the tag ``capability:multivariate``, then the input data will stored in either a 2\n",
    "  D numpy array or a pandas DataFrames.\n",
    "5. If the data is multivariate, then the ``axis`` varaible of the estimator controls\n",
    "how it is interpreted. If ``axis==0`` then each column is a time series, and\n",
    "each row is a time point: i.e. the shape of the data is ``(n_timepoints,n_channels)``\n",
    ". If ``axis == 1`` indicates the time series are in rows, i.e. the shape of the data\n",
    "is ``(n_channels, n_timepoints)``.\n",
    "\n",
    "We demonstrate this with calls to private methods. This is purely to aide understanding\n",
    " and should not be used in practice."
   ],
   "metadata": {
    "collapsed": false
   }
  },
  {
   "cell_type": "code",
   "execution_count": 28,
   "outputs": [
    {
     "name": "stdout",
     "output_type": "stream",
     "text": [
      "1. Input shape =  (100,)  output type =  <class 'numpy.ndarray'>  output shape =  (100,)\n",
      "2. Input shape =  (1, 100)  output type =  <class 'numpy.ndarray'>  output shape =  (100,)\n",
      "3. Input shape =  (100,)  output type =  <class 'numpy.ndarray'>  output shape =  (100,)\n",
      "4. Input shape =  (100,)  output type =  <class 'numpy.ndarray'>  output shape =  (100,)\n",
      "5. Input shape =  (100, 1)  output type =  <class 'numpy.ndarray'>  output shape =  (100,)\n"
     ]
    }
   ],
   "source": [
    "# Univariate examples\n",
    "import numpy as np\n",
    "import pandas as pd\n",
    "import pytest\n",
    "\n",
    "from aeon.base import BaseSeriesEstimator\n",
    "\n",
    "bs = BaseSeriesEstimator()\n",
    "# By default, \"capability:multivariate\" is False, axis is 0 and\n",
    "# X_inner_type is np.ndarray\n",
    "d1 = np.random.random(size=(100))\n",
    "# With this config, the output should always be an np.ndarray\n",
    "# shape (100,)\n",
    "d2 = bs._preprocess_series(d1, axis=0)\n",
    "print(\n",
    "    \"1. Input shape = \",\n",
    "    d1.shape,\n",
    "    \" output type = \",\n",
    "    type(d2),\n",
    "    \" output shape = \",\n",
    "    d2.shape,\n",
    ")\n",
    "# 2D numpy shape (m,1) or (1,m) get converted to 1D numpy array\n",
    "# if multivariate is False\n",
    "d1 = np.random.random(size=(1, 100))\n",
    "d2 = bs._preprocess_series(d1, axis=0)\n",
    "print(\n",
    "    \"2. Input shape = \",\n",
    "    d1.shape,\n",
    "    \" output type = \",\n",
    "    type(d2),\n",
    "    \" output shape = \",\n",
    "    d2.shape,\n",
    ")\n",
    "d1 = pd.Series(np.random.random(size=(100)))\n",
    "d2 = bs._preprocess_series(d1, axis=0)\n",
    "print(\n",
    "    \"3. Input shape = \",\n",
    "    d1.shape,\n",
    "    \" output type = \",\n",
    "    type(d2),\n",
    "    \" output shape = \",\n",
    "    d2.shape,\n",
    ")\n",
    "# Axis is irrelevant for univariate data\n",
    "d2 = bs._preprocess_series(d1, axis=1)\n",
    "print(\n",
    "    \"4. Input shape = \",\n",
    "    d1.shape,\n",
    "    \" output type = \",\n",
    "    type(d2),\n",
    "    \" output shape = \",\n",
    "    d2.shape,\n",
    ")\n",
    "d1 = pd.DataFrame(np.random.random(size=(100, 1)))\n",
    "d2 = bs._preprocess_series(d1, axis=0)\n",
    "print(\n",
    "    \"5. Input shape = \",\n",
    "    d1.shape,\n",
    "    \" output type = \",\n",
    "    type(d2),\n",
    "    \" output shape = \",\n",
    "    d2.shape,\n",
    ")\n",
    "\n",
    "# Passing a multivariate array will raise an error\n",
    "with pytest.raises(ValueError, match=r\"Multivariate data not supported\"):\n",
    "    bs._check_X(np.random.random(size=(4, 100)))"
   ],
   "metadata": {
    "collapsed": false
   }
  },
  {
   "cell_type": "code",
   "execution_count": 25,
   "outputs": [
    {
     "name": "stdout",
     "output_type": "stream",
     "text": [
      "1. Input shape =  (4, 100)  output type =  <class 'numpy.ndarray'>  output shape =  (4, 100)\n",
      "2. Input shape =  (4, 100)  output type =  <class 'numpy.ndarray'>  output shape =  (100, 4)\n",
      "2. Input type = <class 'pandas.core.frame.DataFrame'> Input shape =  (4, 100)  output type =  <class 'numpy.ndarray'> output shape =  (100, 4)\n"
     ]
    }
   ],
   "source": [
    "# Multivariate examples\n",
    "# Set tags\n",
    "bs.set_tags(**{\"capability:multivariate\": True})\n",
    "d1 = np.random.random(size=(4, 100))\n",
    "# Axis 0 means each row is a time series\n",
    "d2 = bs._preprocess_series(d1, axis=0)\n",
    "print(\n",
    "    \"1. Input shape = \",\n",
    "    d1.shape,\n",
    "    \" output type = \",\n",
    "    type(d2),\n",
    "    \" output shape = \",\n",
    "    d2.shape,\n",
    ")\n",
    "# Axis 1 means each column is a time series\n",
    "d2 = bs._preprocess_series(d1, axis=1)\n",
    "print(\n",
    "    \"2. Input shape = \",\n",
    "    d1.shape,\n",
    "    \" output type = \",\n",
    "    type(d2),\n",
    "    \" output shape = \",\n",
    "    d2.shape,\n",
    ")\n",
    "d1 = pd.DataFrame(d1)\n",
    "d2 = bs._preprocess_series(d1, axis=1)\n",
    "print(\n",
    "    \"2. Input type =\",\n",
    "    type(d1),\n",
    "    \"Input shape = \",\n",
    "    d1.shape,\n",
    "    \" output type = \",\n",
    "    type(d2),\n",
    "    \"output shape = \",\n",
    "    d2.shape,\n",
    ")"
   ],
   "metadata": {
    "collapsed": false
   }
  },
  {
   "cell_type": "markdown",
   "source": [
    "If implementing a new estimator that extends ``BaseSeriesEstimator`` then just set\n",
    "the ``axis`` to the shape you want to work with by passing it to the\n",
    "``BaseSeriesEstimator`` constructor. If your estimator can handle\n",
    "multivariate series, set the tag and set the ``capability:multivariate`` tag to True.\n",
    " The data will always then be passed to your estimator in ``(n_channels,\n",
    " n_timepoints)`` if axis is 1, or ``(n_timepoints, n_channels)``\n",
    " if axis is 0, either\n",
    "  in numpy arrays or pandas DataFrame, dependning on ``X_inner_type`` tag. If\n",
    " a univariate series is passed  it will be passed in ``(1, n_timepoints)`` if axis is\n",
    "  0, or ``(n_timepoints, 1)`` if the estimator axis is 0."
   ],
   "metadata": {
    "collapsed": false
   }
  }
 ],
 "metadata": {
  "kernelspec": {
   "display_name": "Python 3",
   "language": "python",
   "name": "python3"
  },
  "language_info": {
   "codemirror_mode": {
    "name": "ipython",
    "version": 2
   },
   "file_extension": ".py",
   "mimetype": "text/x-python",
   "name": "python",
   "nbconvert_exporter": "python",
   "pygments_lexer": "ipython2",
   "version": "2.7.6"
  }
 },
 "nbformat": 4,
 "nbformat_minor": 0
}
