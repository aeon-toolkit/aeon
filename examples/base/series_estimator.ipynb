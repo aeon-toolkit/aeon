{
 "cells": [
  {
   "cell_type": "markdown",
   "source": [
    "# BaseSeriesEstimator\n",
    "\n",
    "The `BaseSeriesEstimator` class is a base class for estimators that take a single series (both univariate and multivariate) as input rather than a collection of time series (see `BaseCollectionEstimator`). This notebook describes the major design issues to keep in mind if using any class that inherits from `BaseSeriesEstimator`. These are:\n",
    "- `BaseSeriesTransformer` for single series transformations\n",
    "- `BaseSegmenter` for segmentation\n",
    "- `BaseAnomalyDetector` for anomaly detection\n",
    "\n",
    "To use any algorithms extending the base estimator all you need to understand is the meaning of the `axis` parameter and the capability tags. `BaseSeriesEstimator` handles the preprocessing required before being used in methods such as `fit` and `predict`. These are used in inheriting base classes by applying the protected method `_preprocess_series`. The key steps to note are:\n",
    "1. Input data type should be a `np.ndarray`, a `pd.Series` or a `pd.DataFrame`.\n",
    "2. The `axis` function parameter describes the direction of time. If `axis==0` then each column is a time series, and each row is a time point: i.e. the shape of the input data is `(n_timepoints, n_channels)`. `axis==1` indicates the time series are in rows, i.e. the shape of the data is `(n_channels, n_timepoints)`. It is important to set this correctly or check the default used, otherwise your data may be processed incorrectly. \n",
    "3. The `axis` class attribute of an estimator controls how the input data is interpreted in methods such as `fit`, `predict` and `transform`. The input data will be transformed into the type required by the estimator as determined by the tag `X_inner_type`, which should be a string, either `\"np.ndarray\"` or `\"pd.DataFrame\"`. 1D input data is converted to 2D in the `BaseSeriesEstimator` with the axis determined by the estimator `axis` attribute.\n",
    "4. If the estimator can only work with univariate time series (`capability:multivariate` set to False), then the input data shape must be 1D or 2D with the selected channel axis being size 1.\n",
    "5. If the estimator can only work with multivariate time series (`capability:univariate` set to False), then the input data must be 2D, with the selected channel `axis` greater than 1. `pd.Series` input is not supported in this case. \n",
    "\n",
    "We demonstrate this with calls to private methods. This is purely to aid understanding and should not be used in practice."
   ],
   "metadata": {
    "collapsed": false
   }
  },
  {
   "metadata": {
    "pycharm": {
     "is_executing": true
    },
    "ExecuteTime": {
     "end_time": "2024-05-08T20:55:49.240785Z",
     "start_time": "2024-05-08T20:55:49.235422Z"
    }
   },
   "cell_type": "code",
   "source": [
    "import numpy as np\n",
    "import pandas as pd\n",
    "\n",
    "from aeon.base import BaseSeriesEstimator\n",
    "\n",
    "# We use the abstract base class for example purposes, regular classes will not\n",
    "# have a class axis parameter.\n",
    "bs = BaseSeriesEstimator(axis=0)"
   ],
   "outputs": [],
   "execution_count": 14
  },
  {
   "metadata": {},
   "cell_type": "markdown",
   "source": [
    "## Univariate examples"
   ]
  },
  {
   "metadata": {
    "ExecuteTime": {
     "end_time": "2024-05-08T20:55:49.247753Z",
     "start_time": "2024-05-08T20:55:49.242766Z"
    }
   },
   "cell_type": "code",
   "source": [
    "# By default, \"capability:multivariate\" is False, axis is 0 and X_inner_type is\n",
    "# np.ndarray\n",
    "# With this config, the output should always be an np.ndarray shape (100, 1)\n",
    "d1 = np.random.random(size=(100))\n",
    "d2 = bs._preprocess_series(d1, axis=0, store_metadata=True)\n",
    "print(\n",
    "    f\"1. Input type = {type(d1)}, input shape = {d1.shape}, \"\n",
    "    f\"output type = {type(d2)}, output shape = {d2.shape}\"\n",
    ")"
   ],
   "outputs": [
    {
     "name": "stdout",
     "output_type": "stream",
     "text": [
      "1. Input type = <class 'numpy.ndarray'>, input shape = (100,), output type = <class 'numpy.ndarray'>, output shape = (100, 1)\n"
     ]
    }
   ],
   "execution_count": 15
  },
  {
   "metadata": {
    "ExecuteTime": {
     "end_time": "2024-05-08T20:55:49.269694Z",
     "start_time": "2024-05-08T20:55:49.262713Z"
    }
   },
   "cell_type": "code",
   "source": [
    "# The axis parameter will not change the output shape of 1D inputs such as pd.Series\n",
    "# or univariate np.ndarray\n",
    "d1 = np.random.random(size=(100))\n",
    "d2 = bs._preprocess_series(d1, axis=1, store_metadata=True)\n",
    "print(\n",
    "    f\"2. Input type = {type(d1)}, input shape = {d1.shape}, \"\n",
    "    f\"output type = {type(d2)}, output shape = {d2.shape}\"\n",
    ")"
   ],
   "outputs": [
    {
     "name": "stdout",
     "output_type": "stream",
     "text": [
      "2. Input type = <class 'numpy.ndarray'>, input shape = (100,), output type = <class 'numpy.ndarray'>, output shape = (100, 1)\n"
     ]
    }
   ],
   "execution_count": 16
  },
  {
   "metadata": {
    "ExecuteTime": {
     "end_time": "2024-05-08T20:55:49.278670Z",
     "start_time": "2024-05-08T20:55:49.271689Z"
    }
   },
   "cell_type": "code",
   "source": [
    "# A 2D array with the channel axis of size 1 will produce the same result\n",
    "d1 = np.random.random(size=(100, 1))\n",
    "d2 = bs._preprocess_series(d1, axis=0, store_metadata=True)\n",
    "print(\n",
    "    f\"3. Input type = {type(d1)}, input shape = {d1.shape}, \"\n",
    "    f\"output type = {type(d2)}, output shape = {d2.shape}\"\n",
    ")"
   ],
   "outputs": [
    {
     "name": "stdout",
     "output_type": "stream",
     "text": [
      "3. Input type = <class 'numpy.ndarray'>, input shape = (100, 1), output type = <class 'numpy.ndarray'>, output shape = (100, 1)\n"
     ]
    }
   ],
   "execution_count": 17
  },
  {
   "metadata": {
    "ExecuteTime": {
     "end_time": "2024-05-08T20:55:49.289640Z",
     "start_time": "2024-05-08T20:55:49.280665Z"
    }
   },
   "cell_type": "code",
   "source": [
    "# The shape used can be swapped, but the axis parameter must be set correctly\n",
    "d1 = np.random.random(size=(1, 100))\n",
    "d2 = bs._preprocess_series(d1, axis=1, store_metadata=True)\n",
    "print(\n",
    "    f\"4. Input type = {type(d1)}, input shape = {d1.shape}, \"\n",
    "    f\"output type = {type(d2)}, output shape = {d2.shape}\"\n",
    ")"
   ],
   "outputs": [
    {
     "name": "stdout",
     "output_type": "stream",
     "text": [
      "4. Input type = <class 'numpy.ndarray'>, input shape = (1, 100), output type = <class 'numpy.ndarray'>, output shape = (100, 1)\n"
     ]
    }
   ],
   "execution_count": 18
  },
  {
   "metadata": {
    "ExecuteTime": {
     "end_time": "2024-05-08T20:55:49.298616Z",
     "start_time": "2024-05-08T20:55:49.291635Z"
    }
   },
   "cell_type": "code",
   "source": [
    "# Other types will be converted to X_inner_type\n",
    "d1 = pd.Series(np.random.random(size=(100)))\n",
    "d2 = bs._preprocess_series(d1, axis=0, store_metadata=True)\n",
    "print(\n",
    "    f\"5. Input type = {type(d1)}, input shape = {d1.shape}, \"\n",
    "    f\"output type = {type(d2)}, output shape = {d2.shape}\"\n",
    ")"
   ],
   "outputs": [
    {
     "name": "stdout",
     "output_type": "stream",
     "text": [
      "5. Input type = <class 'pandas.core.series.Series'>, input shape = (100,), output type = <class 'numpy.ndarray'>, output shape = (100, 1)\n"
     ]
    }
   ],
   "execution_count": 19
  },
  {
   "metadata": {
    "ExecuteTime": {
     "end_time": "2024-05-08T20:55:49.333523Z",
     "start_time": "2024-05-08T20:55:49.326542Z"
    }
   },
   "cell_type": "code",
   "source": [
    "d1 = pd.DataFrame(np.random.random(size=(100, 1)))\n",
    "d2 = bs._preprocess_series(d1, axis=0, store_metadata=True)\n",
    "print(\n",
    "    f\"6. Input type = {type(d1)}, input shape = {d1.shape}, \"\n",
    "    f\"output type = {type(d2)}, output shape = {d2.shape}\"\n",
    ")"
   ],
   "outputs": [
    {
     "name": "stdout",
     "output_type": "stream",
     "text": [
      "6. Input type = <class 'pandas.core.frame.DataFrame'>, input shape = (100, 1), output type = <class 'numpy.ndarray'>, output shape = (100, 1)\n"
     ]
    }
   ],
   "execution_count": 20
  },
  {
   "metadata": {
    "ExecuteTime": {
     "end_time": "2024-05-08T20:55:49.352472Z",
     "start_time": "2024-05-08T20:55:49.346489Z"
    }
   },
   "cell_type": "code",
   "source": [
    "# Passing a multivariate array will raise an error if capability:multivariate is False\n",
    "d1 = np.random.random(size=(100, 5))\n",
    "try:\n",
    "    bs._preprocess_series(d1, axis=0, store_metadata=True)\n",
    "except ValueError as e:\n",
    "    print(f\"7. {e}\")"
   ],
   "outputs": [
    {
     "name": "stdout",
     "output_type": "stream",
     "text": [
      "7. Multivariate data not supported by BaseSeriesEstimator\n"
     ]
    }
   ],
   "execution_count": 21
  },
  {
   "metadata": {},
   "cell_type": "markdown",
   "source": [
    "## Multivariate examples"
   ]
  },
  {
   "metadata": {
    "ExecuteTime": {
     "end_time": "2024-05-08T20:55:49.389374Z",
     "start_time": "2024-05-08T20:55:49.384387Z"
    }
   },
   "cell_type": "code",
   "source": [
    "# The capability:multivariate tag must be set to True to work with multivariate series\n",
    "# If the estimator does not have this tag, then the implementation cannot handle the\n",
    "# input\n",
    "bs = bs.set_tags(**{\"capability:multivariate\": True})\n",
    "# Both of these can be True at the same time, but for examples sake we disable\n",
    "# univariate\n",
    "bs = bs.set_tags(**{\"capability:univariate\": False})"
   ],
   "outputs": [],
   "execution_count": 22
  },
  {
   "cell_type": "code",
   "source": [
    "# axis 0 means each row is a time series\n",
    "d1 = np.random.random(size=(100, 5))\n",
    "d2 = bs._preprocess_series(d1, axis=0, store_metadata=True)\n",
    "print(\n",
    "    f\"1. Input type = {type(d1)}, input shape = {d1.shape}, \"\n",
    "    f\"output type = {type(d2)}, output shape = {d2.shape}\"\n",
    ")\n",
    "n_channels = bs.metadata_[\"n_channels\"]\n",
    "print(f\"n_channels: {n_channels}\")"
   ],
   "metadata": {
    "collapsed": false,
    "ExecuteTime": {
     "end_time": "2024-05-08T20:55:49.396359Z",
     "start_time": "2024-05-08T20:55:49.391369Z"
    }
   },
   "outputs": [
    {
     "name": "stdout",
     "output_type": "stream",
     "text": [
      "1. Input type = <class 'numpy.ndarray'>, input shape = (100, 5), output type = <class 'numpy.ndarray'>, output shape = (100, 5)\n",
      "n_channels: 5\n"
     ]
    }
   ],
   "execution_count": 23
  },
  {
   "metadata": {
    "ExecuteTime": {
     "end_time": "2024-05-08T20:55:49.411316Z",
     "start_time": "2024-05-08T20:55:49.405331Z"
    }
   },
   "cell_type": "code",
   "source": [
    "# axis 1 means each column is a time series. If the axis is set incorrectly, the\n",
    "# output shape will be wrong\n",
    "d1 = np.random.random(size=(100, 5))\n",
    "d2 = bs._preprocess_series(d1, axis=1, store_metadata=True)\n",
    "print(\n",
    "    f\"2. Input type = {type(d1)}, input shape = {d1.shape}, \"\n",
    "    f\"output type = {type(d2)}, output shape = {d2.shape}\"\n",
    ")\n",
    "n_channels = bs.metadata_[\"n_channels\"]\n",
    "print(f\"n_channels: {n_channels}\")"
   ],
   "outputs": [
    {
     "name": "stdout",
     "output_type": "stream",
     "text": [
      "2. Input type = <class 'numpy.ndarray'>, input shape = (100, 5), output type = <class 'numpy.ndarray'>, output shape = (5, 100)\n",
      "n_channels: 100\n"
     ]
    }
   ],
   "execution_count": 24
  },
  {
   "metadata": {
    "ExecuteTime": {
     "end_time": "2024-05-08T20:55:49.451208Z",
     "start_time": "2024-05-08T20:55:49.444227Z"
    }
   },
   "cell_type": "code",
   "source": [
    "# Conversions work similar to univariate series, but there is more emphasis on correctly\n",
    "# setting the axis parameter\n",
    "d1 = pd.DataFrame(np.random.random(size=(100, 5)))\n",
    "d2 = bs._preprocess_series(d1, axis=0, store_metadata=True)\n",
    "print(\n",
    "    f\"3. Input type = {type(d1)}, input shape = {d1.shape}, \"\n",
    "    f\"output type = {type(d2)}, output shape = {d2.shape}\"\n",
    ")\n",
    "n_channels = bs.metadata_[\"n_channels\"]\n",
    "print(f\"n_channels: {n_channels}\")"
   ],
   "outputs": [
    {
     "name": "stdout",
     "output_type": "stream",
     "text": [
      "3. Input type = <class 'pandas.core.frame.DataFrame'>, input shape = (100, 5), output type = <class 'numpy.ndarray'>, output shape = (100, 5)\n",
      "n_channels: 5\n"
     ]
    }
   ],
   "execution_count": 25
  },
  {
   "metadata": {
    "ExecuteTime": {
     "end_time": "2024-05-08T20:55:49.466168Z",
     "start_time": "2024-05-08T20:55:49.460184Z"
    }
   },
   "cell_type": "code",
   "source": [
    "# Passing a univariate array will raise an error if capability:univariate is False\n",
    "d1 = pd.Series(np.random.random(size=(100,)))\n",
    "try:\n",
    "    d2 = bs._preprocess_series(d1, axis=0, store_metadata=True)\n",
    "except ValueError as e:\n",
    "    print(f\"4. {e}\")"
   ],
   "outputs": [
    {
     "name": "stdout",
     "output_type": "stream",
     "text": [
      "4. Univariate data not supported by BaseSeriesEstimator\n"
     ]
    }
   ],
   "execution_count": 26
  },
  {
   "cell_type": "markdown",
   "source": [
    "If implementing a new estimator that extends `BaseSeriesEstimator` then just set the `axis` to the shape you want to work with by passing it to the `BaseSeriesEstimator` constructor. If your estimator can handle multivariate series, set the tag and set the `capability:multivariate` tag to `True`.  Set the `X_inner_type` tag if you wish to use a datatype other than `np.ndarray`."
   ],
   "metadata": {
    "collapsed": false
   }
  }
 ],
 "metadata": {
  "kernelspec": {
   "display_name": "Python 3",
   "language": "python",
   "name": "python3"
  },
  "language_info": {
   "codemirror_mode": {
    "name": "ipython",
    "version": 2
   },
   "file_extension": ".py",
   "mimetype": "text/x-python",
   "name": "python",
   "nbconvert_exporter": "python",
   "pygments_lexer": "ipython2",
   "version": "2.7.6"
  }
 },
 "nbformat": 4,
 "nbformat_minor": 0
}
