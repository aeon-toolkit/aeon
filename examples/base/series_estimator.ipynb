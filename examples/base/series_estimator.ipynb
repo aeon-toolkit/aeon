{
 "cells": [
  {
   "cell_type": "markdown",
   "source": [
    "# BaseSeriesEstimator\n",
    "\n",
    "The `BaseSeriesEstimator` class is a base class for estimators that take a single series (both univariate and multivariate) as input rather than a collection of time series (see `BaseCollectionEstimator`). This notebook describes the major design issues to keep in mind if using any class that inherits from `BaseSeriesEstimator`. These are:\n",
    "- `BaseSeriesTransformer` for single series transformations\n",
    "- `BaseSegmenter` for segmentation\n",
    "- `BaseAnomalyDetector` for anomaly detection\n",
    "\n",
    "To use any algorithms extending the base estimator all you need to understand is the meaning of the `axis` parameter and the capability tags. `BaseSeriesEstimator` handles the preprocessing required before being used in methods such as `fit` and `predict`. These are used in inheriting base classes by applying the protected method `_preprocess_series`. The key steps to note are:\n",
    "1. Input data type should be a `np.ndarray`, a `pd.Series` or a `pd.DataFrame`.\n",
    "2. Unless the `X_inner_type` of the estimator is `pd.Series`, the `axis` variable of the estimator controls how the input data is interpreted in methods such as `fit`, `predict` and `transform`. If `axis==0` then each column is a time series, and each row is a time point: i.e. the shape of the input data is `(n_timepoints, n_channels)`. If `axis==1` indicates the time series are in rows, i.e. the shape of the data is `(n_channels, n_timepoints)`. It is important to set this correctly or check the default used, otherwise your data may be processed incorrectly.\n",
    "3. The input data will be transformed into the type required by the estimator as determined by the tag `X_inner_type`. This will also reshape the array to use the correct time point `axis` and expand the input to 2D if it is a 1D `np.ndarray`.\n",
    "4. If the estimator can only work with univariate time series (`capability:multivariate` set to False) then the input data shape must be 1D or 2D with the selected channel `axis` being size 1.\n",
    "5. If the estimator can only work with multivariate time series (`capability:univariate` set to False), then the input data must be 2D, with the selected channel `axis` greater than 1. `pd.Series` is not supported in this case.\n",
    "\n",
    "We demonstrate this with calls to private methods. This is purely to aid understanding and should not be used in practice."
   ],
   "metadata": {
    "collapsed": false
   }
  },
  {
   "metadata": {
    "ExecuteTime": {
     "end_time": "2024-04-10T15:04:57.444241Z",
     "start_time": "2024-04-10T15:04:55.744636Z"
    }
   },
   "cell_type": "code",
   "source": [
    "import numpy as np\n",
    "import pandas as pd\n",
    "\n",
    "from aeon.base import BaseSeriesEstimator\n",
    "\n",
    "# We use the abstract base class for example purposes, regular classes will not\n",
    "# have a class axis parameter.\n",
    "bs = BaseSeriesEstimator(axis=0)"
   ],
   "outputs": [],
   "execution_count": 1
  },
  {
   "metadata": {},
   "cell_type": "markdown",
   "source": "## Univariate examples"
  },
  {
   "metadata": {
    "ExecuteTime": {
     "end_time": "2024-04-10T15:04:57.453217Z",
     "start_time": "2024-04-10T15:04:57.445239Z"
    }
   },
   "cell_type": "code",
   "source": [
    "# By default, \"capability:multivariate\" is False, axis is 0 and X_inner_type is\n",
    "# np.ndarray\n",
    "# With this config, the output should always be an np.ndarray shape (100, 1)\n",
    "d1 = np.random.random(size=(100))\n",
    "d2 = bs._preprocess_series(d1, axis=0, store_metadata=True)\n",
    "print(\n",
    "    f\"1. Input type = {type(d1)}, input shape = {d1.shape}, \"\n",
    "    f\"output type = {type(d2)}, output shape = {d2.shape}\"\n",
    ")"
   ],
   "outputs": [
    {
     "name": "stdout",
     "output_type": "stream",
     "text": [
      "1. Input type = <class 'numpy.ndarray'>, input shape = (100,), output type = <class 'numpy.ndarray'>, output shape = (100, 1)\n"
     ]
    }
   ],
   "execution_count": 2
  },
  {
   "metadata": {
    "ExecuteTime": {
     "end_time": "2024-04-10T15:04:57.461197Z",
     "start_time": "2024-04-10T15:04:57.455212Z"
    }
   },
   "cell_type": "code",
   "source": [
    "# The axis parameter will not change the output shape of 1D inputs such as pd.Series\n",
    "# or univariate np.ndarray\n",
    "d1 = np.random.random(size=(100))\n",
    "d2 = bs._preprocess_series(d1, axis=1, store_metadata=True)\n",
    "print(\n",
    "    f\"2. Input type = {type(d1)}, input shape = {d1.shape}, \"\n",
    "    f\"output type = {type(d2)}, output shape = {d2.shape}\"\n",
    ")"
   ],
   "outputs": [
    {
     "name": "stdout",
     "output_type": "stream",
     "text": [
      "2. Input type = <class 'numpy.ndarray'>, input shape = (100,), output type = <class 'numpy.ndarray'>, output shape = (100, 1)\n"
     ]
    }
   ],
   "execution_count": 3
  },
  {
   "metadata": {
    "ExecuteTime": {
     "end_time": "2024-04-10T15:04:57.468177Z",
     "start_time": "2024-04-10T15:04:57.462193Z"
    }
   },
   "cell_type": "code",
   "source": [
    "# A 2D array with the channel axis of size 1 will produce the same result\n",
    "d1 = np.random.random(size=(100, 1))\n",
    "d2 = bs._preprocess_series(d1, axis=0, store_metadata=True)\n",
    "print(\n",
    "    f\"3. Input type = {type(d1)}, input shape = {d1.shape}, \"\n",
    "    f\"output type = {type(d2)}, output shape = {d2.shape}\"\n",
    ")"
   ],
   "outputs": [
    {
     "name": "stdout",
     "output_type": "stream",
     "text": [
      "3. Input type = <class 'numpy.ndarray'>, input shape = (100, 1), output type = <class 'numpy.ndarray'>, output shape = (100, 1)\n"
     ]
    }
   ],
   "execution_count": 4
  },
  {
   "metadata": {
    "ExecuteTime": {
     "end_time": "2024-04-10T15:04:57.474979Z",
     "start_time": "2024-04-10T15:04:57.470430Z"
    }
   },
   "cell_type": "code",
   "source": [
    "# The shape used can be swapped, but the axis parameter must be set correctly\n",
    "d1 = np.random.random(size=(1, 100))\n",
    "d2 = bs._preprocess_series(d1, axis=1, store_metadata=True)\n",
    "print(\n",
    "    f\"4. Input type = {type(d1)}, input shape = {d1.shape}, \"\n",
    "    f\"output type = {type(d2)}, output shape = {d2.shape}\"\n",
    ")"
   ],
   "outputs": [
    {
     "name": "stdout",
     "output_type": "stream",
     "text": [
      "4. Input type = <class 'numpy.ndarray'>, input shape = (1, 100), output type = <class 'numpy.ndarray'>, output shape = (100, 1)\n"
     ]
    }
   ],
   "execution_count": 5
  },
  {
   "metadata": {
    "ExecuteTime": {
     "end_time": "2024-04-10T15:04:57.481960Z",
     "start_time": "2024-04-10T15:04:57.475976Z"
    }
   },
   "cell_type": "code",
   "source": [
    "# Other types will be converted to X_inner_type\n",
    "d1 = pd.Series(np.random.random(size=(100)))\n",
    "d2 = bs._preprocess_series(d1, axis=0, store_metadata=True)\n",
    "print(\n",
    "    f\"5. Input type = {type(d1)}, input shape = {d1.shape}, \"\n",
    "    f\"output type = {type(d2)}, output shape = {d2.shape}\"\n",
    ")"
   ],
   "outputs": [
    {
     "name": "stdout",
     "output_type": "stream",
     "text": [
      "5. Input type = <class 'pandas.core.series.Series'>, input shape = (100,), output type = <class 'numpy.ndarray'>, output shape = (100, 1)\n"
     ]
    }
   ],
   "execution_count": 6
  },
  {
   "metadata": {
    "ExecuteTime": {
     "end_time": "2024-04-10T15:04:57.489939Z",
     "start_time": "2024-04-10T15:04:57.482958Z"
    }
   },
   "cell_type": "code",
   "source": [
    "d1 = pd.DataFrame(np.random.random(size=(100, 1)))\n",
    "d2 = bs._preprocess_series(d1, axis=0, store_metadata=True)\n",
    "print(\n",
    "    f\"6. Input type = {type(d1)}, input shape = {d1.shape}, \"\n",
    "    f\"output type = {type(d2)}, output shape = {d2.shape}\"\n",
    ")"
   ],
   "outputs": [
    {
     "name": "stdout",
     "output_type": "stream",
     "text": [
      "6. Input type = <class 'pandas.core.frame.DataFrame'>, input shape = (100, 1), output type = <class 'numpy.ndarray'>, output shape = (100, 1)\n"
     ]
    }
   ],
   "execution_count": 7
  },
  {
   "metadata": {
    "ExecuteTime": {
     "end_time": "2024-04-10T15:04:57.497917Z",
     "start_time": "2024-04-10T15:04:57.490936Z"
    }
   },
   "cell_type": "code",
   "source": [
    "bs = bs.set_tags(**{\"X_inner_type\": \"pd.Series\"})\n",
    "d1 = np.random.random(size=(100))\n",
    "d2 = bs._preprocess_series(d1, axis=0, store_metadata=True)\n",
    "print(\n",
    "    f\"7. Input type = {type(d1)}, input shape = {d1.shape}, \"\n",
    "    f\"output type = {type(d2)}, output shape = {d2.shape}\"\n",
    ")\n",
    "bs = bs.set_tags(**{\"X_inner_type\": \"np.ndarray\"})"
   ],
   "outputs": [
    {
     "name": "stdout",
     "output_type": "stream",
     "text": [
      "7. Input type = <class 'numpy.ndarray'>, input shape = (100,), output type = <class 'pandas.core.series.Series'>, output shape = (100,)\n"
     ]
    }
   ],
   "execution_count": 8
  },
  {
   "cell_type": "code",
   "source": [
    "# Passing a multivariate array will raise an error if capability:multivariate is False\n",
    "d1 = np.random.random(size=(100, 5))\n",
    "try:\n",
    "    bs._preprocess_series(d1, axis=0, store_metadata=True)\n",
    "except ValueError as e:\n",
    "    print(f\"8. {e}\")"
   ],
   "metadata": {
    "collapsed": false,
    "ExecuteTime": {
     "end_time": "2024-04-10T15:04:57.504899Z",
     "start_time": "2024-04-10T15:04:57.498915Z"
    }
   },
   "outputs": [
    {
     "name": "stdout",
     "output_type": "stream",
     "text": [
      "8. Multivariate data not supported by BaseSeriesEstimator\n"
     ]
    }
   ],
   "execution_count": 9
  },
  {
   "metadata": {},
   "cell_type": "markdown",
   "source": "## Multivariate examples"
  },
  {
   "metadata": {
    "ExecuteTime": {
     "end_time": "2024-04-10T15:04:57.510883Z",
     "start_time": "2024-04-10T15:04:57.505896Z"
    }
   },
   "cell_type": "code",
   "source": [
    "# The capability:multivariate tag must be set to True to work with multivariate series\n",
    "# If the estimator does not have this tag, then the implementation cannot handle the\n",
    "# input\n",
    "bs = bs.set_tags(**{\"capability:multivariate\": True})\n",
    "# Both of these can be True at the same time, but for examples sake we disable\n",
    "# univariate\n",
    "bs = bs.set_tags(**{\"capability:univariate\": False})"
   ],
   "outputs": [],
   "execution_count": 10
  },
  {
   "cell_type": "code",
   "source": [
    "# axis 0 means each row is a time series\n",
    "d1 = np.random.random(size=(100, 5))\n",
    "d2 = bs._preprocess_series(d1, axis=0, store_metadata=True)\n",
    "print(\n",
    "    f\"1. Input type = {type(d1)}, input shape = {d1.shape}, \"\n",
    "    f\"output type = {type(d2)}, output shape = {d2.shape}\"\n",
    ")\n",
    "n_channels = bs.metadata_[\"n_channels\"]\n",
    "print(f\"n_channels: {n_channels}\")"
   ],
   "metadata": {
    "collapsed": false,
    "ExecuteTime": {
     "end_time": "2024-04-10T15:04:57.517865Z",
     "start_time": "2024-04-10T15:04:57.511880Z"
    }
   },
   "outputs": [
    {
     "name": "stdout",
     "output_type": "stream",
     "text": [
      "1. Input type = <class 'numpy.ndarray'>, input shape = (100, 5), output type = <class 'numpy.ndarray'>, output shape = (100, 5)\n",
      "n_channels: 5\n"
     ]
    }
   ],
   "execution_count": 11
  },
  {
   "metadata": {
    "ExecuteTime": {
     "end_time": "2024-04-10T15:04:57.524846Z",
     "start_time": "2024-04-10T15:04:57.518861Z"
    }
   },
   "cell_type": "code",
   "source": [
    "# axis 1 means each column is a time series. If the axis is set incorrectly, the\n",
    "# output shape will be wrong\n",
    "d1 = np.random.random(size=(100, 5))\n",
    "d2 = bs._preprocess_series(d1, axis=1, store_metadata=True)\n",
    "print(\n",
    "    f\"2. Input type = {type(d1)}, input shape = {d1.shape}, \"\n",
    "    f\"output type = {type(d2)}, output shape = {d2.shape}\"\n",
    ")\n",
    "n_channels = bs.metadata_[\"n_channels\"]\n",
    "print(f\"n_channels: {n_channels}\")"
   ],
   "outputs": [
    {
     "name": "stdout",
     "output_type": "stream",
     "text": [
      "2. Input type = <class 'numpy.ndarray'>, input shape = (100, 5), output type = <class 'numpy.ndarray'>, output shape = (5, 100)\n",
      "n_channels: 100\n"
     ]
    }
   ],
   "execution_count": 12
  },
  {
   "metadata": {
    "ExecuteTime": {
     "end_time": "2024-04-10T15:04:57.532825Z",
     "start_time": "2024-04-10T15:04:57.525844Z"
    }
   },
   "cell_type": "code",
   "source": [
    "# Conversions work similar to univariate series, but there is more emphasis on correctly\n",
    "# setting the axis parameter\n",
    "d1 = pd.DataFrame(np.random.random(size=(100, 5)))\n",
    "d2 = bs._preprocess_series(d1, axis=0, store_metadata=True)\n",
    "print(\n",
    "    f\"3. Input type = {type(d1)}, input shape = {d1.shape}, \"\n",
    "    f\"output type = {type(d2)}, output shape = {d2.shape}\"\n",
    ")\n",
    "n_channels = bs.metadata_[\"n_channels\"]\n",
    "print(f\"n_channels: {n_channels}\")"
   ],
   "outputs": [
    {
     "name": "stdout",
     "output_type": "stream",
     "text": [
      "3. Input type = <class 'pandas.core.frame.DataFrame'>, input shape = (100, 5), output type = <class 'numpy.ndarray'>, output shape = (100, 5)\n",
      "n_channels: 5\n"
     ]
    }
   ],
   "execution_count": 13
  },
  {
   "metadata": {
    "ExecuteTime": {
     "end_time": "2024-04-10T15:04:57.540803Z",
     "start_time": "2024-04-10T15:04:57.535816Z"
    }
   },
   "cell_type": "code",
   "source": [
    "# As pd.Series is univariate only, it is not allowed as an inner type for multivariate\n",
    "# This should not be an issue for usage, just for development\n",
    "bs = bs.set_tags(**{\"X_inner_type\": \"pd.Series\"})\n",
    "d1 = np.random.random(size=(100, 5))\n",
    "try:\n",
    "    d2 = bs._preprocess_series(d1, axis=1, store_metadata=True)\n",
    "except ValueError as e:\n",
    "    print(f\"4. {e}\")\n",
    "bs = bs.set_tags(**{\"X_inner_type\": \"np.ndarray\"})"
   ],
   "outputs": [
    {
     "name": "stdout",
     "output_type": "stream",
     "text": [
      "4. Cannot convert to pd.Series for multivariate capable estimators\n"
     ]
    }
   ],
   "execution_count": 14
  },
  {
   "metadata": {
    "ExecuteTime": {
     "end_time": "2024-04-10T15:04:57.547785Z",
     "start_time": "2024-04-10T15:04:57.541801Z"
    }
   },
   "cell_type": "code",
   "source": [
    "# Passing a univariate array will raise an error if capability:univariate is False\n",
    "d1 = pd.Series(np.random.random(size=(100,)))\n",
    "try:\n",
    "    d2 = bs._preprocess_series(d1, axis=0, store_metadata=True)\n",
    "except ValueError as e:\n",
    "    print(f\"5. {e}\")"
   ],
   "outputs": [
    {
     "name": "stdout",
     "output_type": "stream",
     "text": [
      "5. Univariate data not supported by BaseSeriesEstimator\n"
     ]
    }
   ],
   "execution_count": 15
  },
  {
   "cell_type": "markdown",
   "source": "If implementing a new estimator that extends `BaseSeriesEstimator` then just set the `axis` to the shape you want to work with by passing it to the `BaseSeriesEstimator` constructor. If your estimator can handle multivariate series, set the tag and set the `capability:multivariate` tag to `True`.  Set the `X_inner_type` tag if you wish to use a datatype other than `np.ndarray`.",
   "metadata": {
    "collapsed": false
   }
  }
 ],
 "metadata": {
  "kernelspec": {
   "display_name": "Python 3",
   "language": "python",
   "name": "python3"
  },
  "language_info": {
   "codemirror_mode": {
    "name": "ipython",
    "version": 2
   },
   "file_extension": ".py",
   "mimetype": "text/x-python",
   "name": "python",
   "nbconvert_exporter": "python",
   "pygments_lexer": "ipython2",
   "version": "2.7.6"
  }
 },
 "nbformat": 4,
 "nbformat_minor": 0
}
