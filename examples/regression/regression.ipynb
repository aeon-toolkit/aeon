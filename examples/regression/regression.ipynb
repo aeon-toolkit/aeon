{
 "cells": [
  {
   "cell_type": "markdown",
   "source": [
    "# Time Series Regression (TSR) with aeon\n",
    "\n",
    "Time Series Classification (TSR) involves training a model from a collection of time\n",
    "series (real valued, ordered, data) in order to predict a continuous target variable.\n",
    " Ther are two types of TSR. Time Series Extrinsic Regression [1]\n",
    "For example, we might want to build a model that can predict whether a patient is sick based on their ECG reading, or a persons type of movement based on the trace of the position of their hand. This notebook gives a quick guide to TSC get you started using the TSC specific classifiers in this toolkit. If you can use scikit-learn, it should be easy.\n"
   ],
   "metadata": {
    "collapsed": false
   }
  }
 ],
 "metadata": {
  "kernelspec": {
   "display_name": "Python 3",
   "language": "python",
   "name": "python3"
  },
  "language_info": {
   "codemirror_mode": {
    "name": "ipython",
    "version": 2
   },
   "file_extension": ".py",
   "mimetype": "text/x-python",
   "name": "python",
   "nbconvert_exporter": "python",
   "pygments_lexer": "ipython2",
   "version": "2.7.6"
  }
 },
 "nbformat": 4,
 "nbformat_minor": 0
}
