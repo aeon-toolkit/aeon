{
 "cells": [
  {
   "cell_type": "markdown",
   "source": [
    "# Time Series Regression (TSR) with aeon\n",
    "\n",
    "Time Series Classification (TSR) involves training a model from a collection of time\n",
    "series (real valued, ordered, data) in order to predict a continuous target variable.\n",
    " Ther are two types of TSR. Time\n",
    " Series Forecasting Regression (TSFR) relates to forecasting reduced to regression\n",
    " through a sliding window. This type of regression is covered in  detail elsewhere.\n",
    "Tan et al. [1] formally specified a related, but distinct, type of\n",
    " time series regression problem: Time Series {\\bf Extrinsic} Regression (TSER). Rather than being derived from a forecasting problem, TSER involves a predictive model built on time series to predict a real-valued variable distinct from the training input series. For example, Figure \\ref{fig:datasetafricasoil} shows soil spectrograms which can be used to estimate the potassium concentration. Ground truth is found through expensive lab based experiments that take some time. Spectrograms (ordered data series we treat as time series) are cheap to obtain and the data can be collected in any environment. An accurate regressor from spectrogram to concentration would make land and crop management more efficient.\n",
    "\n",
    "TSER algorithms in aeon work exactly like classifiers, except the target variable is\n",
    "now a float rather than categorical. Many of the regressors are direct adaptations of\n",
    " the classifiers. The taxonomy of algorithms also matches classification.Current list of regressors\n",
    "\n"
   ],
   "metadata": {
    "collapsed": false
   }
  },
  {
   "cell_type": "code",
   "execution_count": 1,
   "outputs": [
    {
     "data": {
      "text/plain": "[('CNNRegressor', aeon.regression.deep_learning.cnn.CNNRegressor),\n ('DummyRegressor', aeon.regression.dummy._dummy.DummyRegressor),\n ('FreshPRINCERegressor',\n  aeon.regression.feature_based._fresh_prince.FreshPRINCERegressor),\n ('InceptionTimeRegressor',\n  aeon.regression.deep_learning.inception_time.InceptionTimeRegressor),\n ('IndividualInceptionRegressor',\n  aeon.regression.deep_learning.inception_time.IndividualInceptionRegressor),\n ('KNeighborsTimeSeriesRegressor',\n  aeon.regression.distance_based._time_series_neighbors.KNeighborsTimeSeriesRegressor),\n ('RegressorPipeline', aeon.regression.compose._pipeline.RegressorPipeline),\n ('RocketRegressor',\n  aeon.regression.convolution_based._rocket_regressor.RocketRegressor),\n ('SklearnRegressorPipeline',\n  aeon.regression.compose._pipeline.SklearnRegressorPipeline),\n ('TapNetRegressor', aeon.regression.deep_learning.tapnet.TapNetRegressor),\n ('TimeSeriesForestRegressor',\n  aeon.regression.interval_based._tsf.TimeSeriesForestRegressor)]"
     },
     "execution_count": 1,
     "metadata": {},
     "output_type": "execute_result"
    }
   ],
   "source": [
    "import warnings\n",
    "\n",
    "warnings.filterwarnings(\"ignore\")\n",
    "from aeon.registry import all_estimators\n",
    "\n",
    "all_estimators(\"regressor\")"
   ],
   "metadata": {
    "collapsed": false
   }
  },
  {
   "cell_type": "code",
   "execution_count": 7,
   "outputs": [],
   "source": [
    "from aeon.datasets import load_covid_3month\n",
    "\n",
    "trainX, trainy = load_covid_3month(split=\"train\")\n",
    "testX, testy = load_covid_3month(split=\"test\")\n",
    "from aeon.regression.distance_based import KNeighborsTimeSeriesRegressor\n",
    "\n",
    "print(trainX.size)\n",
    "knn = KNeighborsTimeSeriesRegressor()\n",
    "knn.fit(trainX, trainy)\n",
    "p = knn.predict(testX)\n",
    "print(p)"
   ],
   "metadata": {
    "collapsed": false
   }
  },
  {
   "cell_type": "markdown",
   "source": [
    "References\n",
    "[1] Tan et al. \"Time series extrinsic regression\", Data Mining and Knowledge\n",
    "Discovery, 35(3), 2021\n",
    "[2] Guijo-Rubio et al. \"Unsupervised Feature Based Algorithms for Time Series\n",
    "Extrinsic Regression\", ArXiv, 2023\n",
    "\n"
   ],
   "metadata": {
    "collapsed": false
   }
  }
 ],
 "metadata": {
  "kernelspec": {
   "display_name": "Python 3",
   "language": "python",
   "name": "python3"
  },
  "language_info": {
   "codemirror_mode": {
    "name": "ipython",
    "version": 2
   },
   "file_extension": ".py",
   "mimetype": "text/x-python",
   "name": "python",
   "nbconvert_exporter": "python",
   "pygments_lexer": "ipython2",
   "version": "2.7.6"
  }
 },
 "nbformat": 4,
 "nbformat_minor": 0
}
