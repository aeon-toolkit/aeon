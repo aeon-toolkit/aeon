{
 "cells": [
  {
   "cell_type": "markdown",
   "metadata": {
    "collapsed": false
   },
   "source": [
    "# Using `aeon` distances with `scikit-learn`\n",
    "\n",
    "`scikit-learn` has a range of algorithms based on distances, including classifiers,\n",
    "regressors and clusterers. These can generally all be used with `aeon` distances\n",
    "in two ways:\n",
    "\n",
    "1. Pass the distance function as a callable to the `metric` or `kernel` parameter\n",
    "in the constructor or\n",
    "2. Set the `metric` or `kernel` to precomputed in the constructor and pass a\n",
    "pairwise distance matrix to `fit` and `predict`."
   ]
  },
  {
   "cell_type": "markdown",
   "metadata": {
    "collapsed": false
   },
   "source": [
    "## K-Nearest Neighbour Univariate Classification in sklearn.neighbors"
   ]
  },
  {
   "cell_type": "code",
   "execution_count": 1,
   "metadata": {
    "ExecuteTime": {
     "end_time": "2024-06-17T23:21:23.882870Z",
     "start_time": "2024-06-17T23:21:23.055803Z"
    },
    "collapsed": false
   },
   "outputs": [],
   "source": [
    "from sklearn.neighbors import KNeighborsClassifier, KNeighborsTransformer\n",
    "\n",
    "from aeon.datasets import load_gunpoint\n",
    "\n",
    "# Load the gunpoint dataset as a 2D numpy array\n",
    "train_x_2D, train_y_2D = load_gunpoint(split=\"TRAIN\", return_type=\"numpy2D\")\n",
    "test_x_2D, test_y_2D = load_gunpoint(split=\"TEST\", return_type=\"numpy2D\")\n",
    "\n",
    "# Load the gunpoint dataset as a 3D numpy array\n",
    "train_x_3D, train_y_3D = load_gunpoint(split=\"TRAIN\")\n",
    "test_x_3D, test_y_3D = load_gunpoint(split=\"TEST\")"
   ]
  },
  {
   "cell_type": "markdown",
   "metadata": {
    "collapsed": false
   },
   "source": [
    "If we have a univariate problem stored as a 2D numpy shape\n",
    "`(n_cases,n_timepoints)`, we can apply these estimators directly,\n",
    "but it is treating the data as vector rather than as time series.\n",
    "\n",
    "If we try and use with an `aeon` style 3D numpy\n",
    "`(n_cases, n_channels, n_timepoints)`, they will crash as `scikit-learn` expect a 2D \n",
    "numpy array. See the [data_formats](../datasets/data_structures.ipynb) for details on \n",
    "data storage."
   ]
  },
  {
   "cell_type": "code",
   "execution_count": 30,
   "metadata": {
    "ExecuteTime": {
     "end_time": "2024-06-17T23:21:24.416318Z",
     "start_time": "2024-06-17T23:21:23.884866Z"
    },
    "collapsed": false
   },
   "outputs": [
    {
     "name": "stdout",
     "output_type": "stream",
     "text": [
      "Training set shape = (50, 1, 150) -> this works with sklearn\n",
      "kNN with manhattan distance on 2D time series data ['1' '2' '2' '1' '1']\n",
      "\n",
      "Training set shape = (50, 1, 150) -> sklearn will crash as is a 3D array\n",
      "Raises this ValueError:\n",
      "\tFound array with dim 3. KNeighborsClassifier expected <= 2.\n"
     ]
    }
   ],
   "source": [
    "# Using the 2D array format\n",
    "print(f\"Training set shape = {train_x_3D.shape} -> this works with sklearn\")\n",
    "\n",
    "# Apply a sklearn kNN classifier on the 2D time series data using a standard distance\n",
    "knn = KNeighborsClassifier(metric=\"manhattan\")\n",
    "knn.fit(train_x_2D, train_y_2D)\n",
    "predictions_2D = knn.predict(test_x_2D[:5])\n",
    "print(f\"kNN with manhattan distance on 2D time series data {predictions_2D}\\n\")\n",
    "\n",
    "\n",
    "# Now using the 3D array format\n",
    "print(f\"Training set shape = {train_x_3D.shape} -> sklearn will crash as is a 3D array\")\n",
    "\n",
    "# Apply a sklearn kNN classifier on the 3D time series data using a standard distance\n",
    "# This will raise a ValueError as sklearn does not support 3D arrays\n",
    "try:\n",
    "    knn.fit(train_x_3D, train_y_3D)\n",
    "except ValueError as e:\n",
    "    print(f\"Raises this ValueError:\\n\\t{e}\")"
   ]
  },
  {
   "cell_type": "markdown",
   "metadata": {
    "collapsed": false
   },
   "source": [
    "We can use `KNeighborsClassifier` with a callable `aeon` distance function, but the \n",
    "input must still be 2D numpy array. "
   ]
  },
  {
   "cell_type": "code",
   "execution_count": 29,
   "metadata": {
    "ExecuteTime": {
     "end_time": "2024-06-17T23:21:26.806946Z",
     "start_time": "2024-06-17T23:21:24.417316Z"
    },
    "collapsed": false
   },
   "outputs": [
    {
     "name": "stdout",
     "output_type": "stream",
     "text": [
      "kNN with DTW distance on 2D time series data ['1' '2' '2' '1' '2']\n",
      "\n",
      "kNN with DTW distance on 3D time series data...\n",
      "...raises this ValueError:\n",
      "\tFound array with dim 3. KNeighborsClassifier expected <= 2.\n"
     ]
    }
   ],
   "source": [
    "from aeon.distances import dtw_distance, edr_distance, msm_distance, twe_distance\n",
    "\n",
    "# Apply a sklearn kNN classifier on the 2D time series data using the DTW distance\n",
    "knn = KNeighborsClassifier(metric=dtw_distance)\n",
    "knn.fit(train_x_2D, train_y_2D)\n",
    "predictions_2D_DTW = knn.predict(test_x_2D[:5])\n",
    "\n",
    "print(f\"kNN with DTW distance on 2D time series data {predictions_2D_DTW}\\n\")\n",
    "\n",
    "\n",
    "# Apply a sklearn kNN classifier on the 3D time series data using the DTW distance\n",
    "# This will still raise a ValueError as sklearn does not support 3D arrays\n",
    "print(\"kNN with DTW distance on 3D time series data...\")\n",
    "try:\n",
    "    knn.fit(train_x_3D, train_y_3D)\n",
    "except ValueError as e:\n",
    "    print(f\"...raises this ValueError:\\n\\t{e}\")"
   ]
  },
  {
   "cell_type": "markdown",
   "metadata": {},
   "source": [
    "We can also use `aeon` distance functions as callables in other `sklearn.neighbors`\n",
    "estimators:"
   ]
  },
  {
   "cell_type": "code",
   "execution_count": 31,
   "metadata": {},
   "outputs": [
    {
     "name": "stdout",
     "output_type": "stream",
     "text": [
      "Graph of neighbors for the first pattern in testing set with EDR distance on 2Dtime series data:\n",
      "[[0.         0.         0.         0.         0.         0.\n",
      "  0.         0.         0.         0.         0.         0.\n",
      "  0.         0.         0.         0.         0.         0.\n",
      "  0.         0.         0.         0.         0.         0.\n",
      "  0.         0.         0.         0.         0.         0.\n",
      "  0.         0.         0.         0.         0.00666667 0.00666667\n",
      "  0.00666667 0.         0.         0.         0.         0.\n",
      "  0.         0.         0.         0.         0.         0.\n",
      "  0.         0.        ]]\n",
      "Note that [i,j] has the weight of edge that connects i to j.\n",
      "\n",
      "Again, transforming 3D time series data into a graph of neighbors...\n",
      "...raises this ValueError:\n",
      "\tFound array with dim 3. KNeighborsTransformer expected <= 2.\n"
     ]
    }
   ],
   "source": [
    "# Transform X into a graph of k nearest neighbors on the 2D time series data using the\n",
    "# EDR distance\n",
    "kt = KNeighborsTransformer(\n",
    "    metric=edr_distance,\n",
    "    metric_params={\"itakura_max_slope\": 0.5},\n",
    ")\n",
    "\n",
    "kt.fit(train_x_2D, train_y_2D)\n",
    "kgraph = kt.transform(test_x_2D[:1]).toarray()  # Convert the sparse matrix to an array\n",
    "\n",
    "print(\n",
    "    \"Graph of neighbors for the first pattern in testing set with EDR distance on 2D\"\n",
    "    f\"time series data:\\n{kgraph}\\nNote that [i,j] has the weight of edge that \"\n",
    "    \"connects i to j.\\n\"\n",
    ")\n",
    "\n",
    "# Again, using a 3D array will raise a ValueError\n",
    "print(\"Again, transforming 3D time series data into a graph of neighbors...\")\n",
    "try:\n",
    "    kt.fit(train_x_3D, train_y_3D)\n",
    "except ValueError as e:\n",
    "    print(f\"...raises this ValueError:\\n\\t{e}\")"
   ]
  },
  {
   "cell_type": "markdown",
   "metadata": {
    "collapsed": false
   },
   "source": [
    "Also note that using an `aeon` distance function as callable does not will not work with \n",
    "some kNN options such as [`KDTree`](https://scikit-learn.org/stable/modules/generated/sklearn.neighbors.KDTree.html) \n",
    "class or [`BallTree`](https://scikit-learn.org/stable/modules/generated/sklearn.neighbors.BallTree.html),\n",
    "as stated in the scikit-learn doc of these classes:\n",
    "\n",
    "_Note: Callable functions in the metric parameter are NOT supported for KDTree_\n",
    "_and Ball Tree. Function call overhead will result in very poor performance._\n",
    "\n",
    "Because of these problems, we have implemented a KNN classifier and regressor to use \n",
    "with our distance functions.\n",
    "\n",
    "The `aeon` kNN classifier using a 3D numpy array achieves the same performance than the \n",
    "`sklearn` one using the 2D numpy array even using time series specific distance \n",
    "functions. The results achieved are the same as time series are univariate and hence,\n",
    "the data can be formatted as a 2D array:"
   ]
  },
  {
   "cell_type": "code",
   "execution_count": 68,
   "metadata": {
    "ExecuteTime": {
     "end_time": "2024-06-17T23:21:31.418483Z",
     "start_time": "2024-06-17T23:21:26.808941Z"
    },
    "collapsed": false
   },
   "outputs": [
    {
     "name": "stdout",
     "output_type": "stream",
     "text": [
      "aeon kNN with MSM distance on 3D time series data ['1' '2' '2' '1' '1']\n",
      "sklearn kNN with MSM distance on 2D time series data ['1' '2' '2' '1' '1']\n"
     ]
    }
   ],
   "source": [
    "from aeon.classification.distance_based import KNeighborsTimeSeriesClassifier\n",
    "\n",
    "# Apply the aeon kNN classifier on the 3D time series data using the MSM distance\n",
    "knn_aeon = KNeighborsTimeSeriesClassifier(distance=\"msm\")\n",
    "knn_aeon.fit(train_x_3D, train_y_3D)\n",
    "\n",
    "predictions_3D_aeon = knn_aeon.predict(test_x_3D[:5])\n",
    "\n",
    "print(f\"aeon kNN with MSM distance on 3D time series data {predictions_3D_aeon}\")\n",
    "\n",
    "# Apply a sklearn kNN classifier on the 2D time series data using the MSM distance\n",
    "knn = KNeighborsClassifier(metric=msm_distance)\n",
    "knn.fit(train_x_2D, train_y_2D)\n",
    "predictions_2D_sklearn = knn.predict(test_x_2D[:5])\n",
    "\n",
    "print(f\"sklearn kNN with MSM distance on 2D time series data {predictions_2D_sklearn}\")"
   ]
  },
  {
   "cell_type": "markdown",
   "metadata": {},
   "source": [
    "## K-Nearest Neighbour Multivariate Classification in sklearn.neighbors"
   ]
  },
  {
   "cell_type": "markdown",
   "metadata": {},
   "source": [
    "However, if the time series dataset is a multivariate one, data has to be represented \n",
    "using a 3D numpy array. In this case, to use the `sklearn` knn approach, channels have\n",
    "to be concatenated, and therefore, specific edit time series distances may compute the\n",
    "distance between values of different channels, and the results may be biased by these\n",
    "misleading implementation:"
   ]
  },
  {
   "cell_type": "code",
   "execution_count": 69,
   "metadata": {},
   "outputs": [
    {
     "name": "stdout",
     "output_type": "stream",
     "text": [
      "3D training set shape = (40, 6, 100) -> does not work with sklearn\n",
      "2D Training set shape = (40, 600) -> works with sklearn\n"
     ]
    }
   ],
   "source": [
    "from aeon.datasets import load_basic_motions\n",
    "\n",
    "# Load the basic_motions multivariate (MTSC) dataset as a 3D numpy array\n",
    "train_x_3D_mtsc, train_y_mtsc = load_basic_motions(split=\"TRAIN\")\n",
    "test_x_3D_mtsc, test_y_mtsc = load_basic_motions(split=\"TEST\")\n",
    "\n",
    "print(f\"3D training set shape = {train_x_3D_mtsc.shape} -> does not work with sklearn\")\n",
    "\n",
    "# Transform the 3D numpy array to 2D concatenating the time series\n",
    "# This time, the loader does not return the dataset as a 2D array as this is not an\n",
    "# intended way of working with time series. We need to reshape it ourselves.\n",
    "train_x_2D_mtsc = train_x_3D_mtsc.reshape(train_x_3D_mtsc.shape[0], -1)\n",
    "test_x_2D_mtsc = test_x_3D_mtsc.reshape(test_x_3D_mtsc.shape[0], -1)\n",
    "\n",
    "# shuffle test datasets\n",
    "from sklearn.utils import shuffle\n",
    "\n",
    "train_x_3D_mtsc, test_y_mtsc = shuffle(train_x_3D_mtsc, test_y_mtsc, random_state=0)\n",
    "test_x_2D_mtsc, test_y_mtsc = shuffle(test_x_2D_mtsc, test_y_mtsc, random_state=0)\n",
    "\n",
    "print(f\"2D Training set shape = {train_x_2D_mtsc.shape} -> works with sklearn\")"
   ]
  },
  {
   "cell_type": "code",
   "execution_count": 70,
   "metadata": {},
   "outputs": [
    {
     "name": "stdout",
     "output_type": "stream",
     "text": [
      "aeon kNN with MSM distance on 3D MTSC time series data ['walking' 'standing' 'walking' 'standing' 'walking']\n",
      "sklearn kNN with MSM distance on 2D MTSC time series data ['walking' 'walking' 'walking' 'standing' 'running']\n"
     ]
    }
   ],
   "source": [
    "# Apply the aeon kNN classifier on the 3D MTSC time series data using the MSM distance\n",
    "knn_aeon = KNeighborsTimeSeriesClassifier(distance=\"msm\")\n",
    "knn_aeon.fit(train_x_3D_mtsc, train_y_mtsc)\n",
    "\n",
    "predictions_3D_aeon = knn_aeon.predict(test_x_3D_mtsc[:5])\n",
    "\n",
    "print(f\"aeon kNN with MSM distance on 3D MTSC time series data {predictions_3D_aeon}\")\n",
    "\n",
    "# Apply a sklearn kNN classifier on the concatenated 2D MTSC time series data using the\n",
    "# MSM distance\n",
    "knn = KNeighborsClassifier(metric=msm_distance)\n",
    "knn.fit(train_x_2D_mtsc, train_y_mtsc)\n",
    "predictions_2D_sk = knn.predict(test_x_2D_mtsc[:5])\n",
    "\n",
    "print(f\"sklearn kNN with MSM distance on 2D MTSC time series data {predictions_2D_sk}\")"
   ]
  },
  {
   "cell_type": "markdown",
   "metadata": {},
   "source": [
    "## K-Nearest Neighbour Univariate Regression in sklearn.neighbors"
   ]
  },
  {
   "cell_type": "markdown",
   "metadata": {},
   "source": [
    "Similar conclusions can be drawn for the kNN regressor. First of all, we load the \n",
    "TSER dataset."
   ]
  },
  {
   "cell_type": "code",
   "execution_count": 76,
   "metadata": {},
   "outputs": [],
   "source": [
    "from sklearn.neighbors import KNeighborsRegressor\n",
    "\n",
    "from aeon.datasets import load_covid_3month\n",
    "from aeon.regression.distance_based import KNeighborsTimeSeriesRegressor\n",
    "\n",
    "# Load the Covid3Month dataset as a 3D numpy array\n",
    "train_x_3D_reg, train_y_3D_reg = load_covid_3month(split=\"train\")\n",
    "test_x_3D_reg, test_y_3D_reg = load_covid_3month(split=\"test\")\n",
    "\n",
    "# Load the Covid3Month dataset as a 2D numpy array\n",
    "train_x_2D_reg, train_y_2D_reg = load_covid_3month(split=\"train\", return_type=\"numpy2D\")\n",
    "test_x_2D_reg, test_y_2D_reg = load_covid_3month(split=\"test\", return_type=\"numpy2D\")"
   ]
  },
  {
   "cell_type": "markdown",
   "metadata": {},
   "source": [
    "Now, we compare the prediction of the `aeon` and `scikit-learn` versions. As the \n",
    "Covid3Month dataset is univariate, the results of both libraries should be the same.\n",
    "\n",
    "With respect to multivariate TSER datasets, same conclusions are obtained. **We do not\n",
    "recommend concatenating channels as a regular practice.**"
   ]
  },
  {
   "cell_type": "code",
   "execution_count": 78,
   "metadata": {},
   "outputs": [
    {
     "name": "stdout",
     "output_type": "stream",
     "text": [
      "aeon kNN with MSM distance on 3D TSER time series data [0.02558824 0.00877193 0.01960784 0.03533314 0.00805611]\n",
      "sklearn kNN with MSM distance on 2D TSER time series data [0.02558824 0.00877193 0.01960784 0.03533314 0.00805611]\n"
     ]
    }
   ],
   "source": [
    "knn_aeon_reg = KNeighborsTimeSeriesRegressor(distance=\"twe\", n_neighbors=1)\n",
    "knn_aeon_reg.fit(train_x_3D_reg, train_y_3D_reg)\n",
    "\n",
    "predictions_3D_reg_aeon = knn_aeon_reg.predict(test_x_3D_reg[:5])\n",
    "\n",
    "print(\n",
    "    f\"aeon kNN with MSM distance on 3D TSER time series data {predictions_3D_reg_aeon}\"\n",
    ")\n",
    "\n",
    "knn_sklearn = KNeighborsRegressor(metric=twe_distance, n_neighbors=1)\n",
    "knn_sklearn.fit(train_x_2D_reg, train_y_2D_reg)\n",
    "\n",
    "predictions_2D_reg_sk = knn_aeon_reg.predict(test_x_2D_reg[:5])\n",
    "\n",
    "print(\n",
    "    f\"sklearn kNN with MSM distance on 2D TSER time series data {predictions_2D_reg_sk}\"\n",
    ")"
   ]
  },
  {
   "cell_type": "markdown",
   "metadata": {},
   "source": [
    "## K-Nearest Neighbour Classification and Regression in sklearn.neighbors with precomputed distances"
   ]
  },
  {
   "cell_type": "markdown",
   "metadata": {
    "collapsed": false
   },
   "source": [
    "Another alternative is to pass the distance measures as precomputed.\n",
    "Note that this requires the calculation of the full distance matrices,\n",
    "and still cannot be used with some other `scikit-learn` knn options."
   ]
  },
  {
   "cell_type": "code",
   "execution_count": 93,
   "metadata": {
    "ExecuteTime": {
     "end_time": "2024-06-17T23:21:32.354262Z",
     "start_time": "2024-06-17T23:21:31.419481Z"
    },
    "collapsed": false
   },
   "outputs": [
    {
     "name": "stdout",
     "output_type": "stream",
     "text": [
      "sklearn kNN with precomputed ADTW distance ['1' '2' '2' '1' '1']\n",
      "aeon kNN with ADTW distance ['1' '2' '2' '1' '1']\n",
      "CCR_precomputed=0.9133333333333333\n",
      "CCR_aeon=0.9133333333333333\n"
     ]
    }
   ],
   "source": [
    "from sklearn.metrics import accuracy_score\n",
    "\n",
    "from aeon.distances import adtw_pairwise_distance\n",
    "\n",
    "# Compute the distances between all pairs of time series in the training set\n",
    "# and between the testing set and the training set for the testing set\n",
    "train_dists = adtw_pairwise_distance(train_x_3D)\n",
    "test_dists = adtw_pairwise_distance(test_x_3D, train_x_3D)\n",
    "\n",
    "# scikit-learn KNN classifier with precomputed distances\n",
    "knn = KNeighborsClassifier(metric=\"precomputed\", n_neighbors=1)\n",
    "knn.fit(train_dists, train_y_3D)\n",
    "predictions_precomputed = knn.predict(test_dists)\n",
    "\n",
    "print(f\"sklearn kNN with precomputed ADTW distance {predictions_precomputed[:5]}\")\n",
    "\n",
    "# aeon KNN classifier with ADTW distance (not precomputed)\n",
    "knn_aeon = KNeighborsTimeSeriesClassifier(distance=\"adtw\", n_neighbors=1)\n",
    "knn_aeon.fit(train_x_3D, train_y_3D)\n",
    "predictions_aeon = knn_aeon.predict(test_x_3D)\n",
    "\n",
    "print(f\"aeon kNN with ADTW distance {predictions_aeon[:5]}\")\n",
    "\n",
    "# Compute the CCR on both experiments\n",
    "CCR_precomputed = accuracy_score(test_y_3D, predictions_precomputed)\n",
    "CCR_aeon = accuracy_score(test_y_3D, predictions_aeon)\n",
    "\n",
    "print(f\"{CCR_precomputed=}\\n{CCR_aeon=}\")"
   ]
  },
  {
   "cell_type": "markdown",
   "metadata": {},
   "source": [
    "Same conclusions can be obtained when dealing with a TSER dataset. "
   ]
  },
  {
   "cell_type": "code",
   "execution_count": 96,
   "metadata": {},
   "outputs": [
    {
     "name": "stdout",
     "output_type": "stream",
     "text": [
      "sklearn kNN with precomputed ERP distance [0.02558824 0.05594406 0.01449275 0.03533314 0.12759489]\n",
      "aeon kNN with ERP distance [0.02558824 0.05594406 0.01449275 0.03533314 0.12759489]\n",
      "MSE_precomputed=0.002247674986547397\n",
      "MSE_aeon=0.002247674986547397\n"
     ]
    }
   ],
   "source": [
    "from sklearn.metrics import mean_squared_error\n",
    "\n",
    "from aeon.distances import erp_pairwise_distance\n",
    "\n",
    "# Compute the distances between all pairs of time series in the training set\n",
    "# and between the testing set and the training set for the testing set\n",
    "train_dists = erp_pairwise_distance(train_x_3D_reg)\n",
    "test_dists = erp_pairwise_distance(test_x_3D_reg, train_x_3D_reg)\n",
    "\n",
    "# scikit-learn KNN regressor with precomputed distances\n",
    "knn = KNeighborsRegressor(metric=\"precomputed\", n_neighbors=1)\n",
    "knn.fit(train_dists, train_y_3D_reg)\n",
    "predictions_precomputed = knn.predict(test_dists)\n",
    "\n",
    "print(f\"sklearn kNN with precomputed ERP distance {predictions_precomputed[:5]}\")\n",
    "\n",
    "# aeon KNN regressor with ERP distance (not precomputed)\n",
    "knn_aeon = KNeighborsTimeSeriesRegressor(distance=\"erp\", n_neighbors=1)\n",
    "knn_aeon.fit(train_x_3D_reg, train_y_3D_reg)\n",
    "predictions_aeon = knn_aeon.predict(test_x_3D_reg)\n",
    "\n",
    "print(f\"aeon kNN with ERP distance {predictions_aeon[:5]}\")\n",
    "\n",
    "# Compute the CCR on both experiments\n",
    "MSE_precomputed = mean_squared_error(test_y_3D_reg, predictions_precomputed)\n",
    "MSE_aeon = mean_squared_error(test_y_3D_reg, predictions_aeon)\n",
    "\n",
    "print(f\"{MSE_precomputed=}\\n{MSE_aeon=}\")"
   ]
  },
  {
   "cell_type": "markdown",
   "metadata": {
    "collapsed": false
   },
   "source": [
    "## Support Vector Machine Classification in sklearn.svm"
   ]
  },
  {
   "cell_type": "code",
   "execution_count": 97,
   "metadata": {
    "ExecuteTime": {
     "end_time": "2024-06-17T23:21:32.360245Z",
     "start_time": "2024-06-17T23:21:32.355286Z"
    },
    "collapsed": false
   },
   "outputs": [],
   "source": [
    "from sklearn.svm import SVC, NuSVC"
   ]
  },
  {
   "cell_type": "markdown",
   "metadata": {
    "collapsed": false
   },
   "source": [
    "The SVM estimators in `scikit-learn` can be used with pairwise distance matrices. Please \n",
    "note that not all elastic distance functions are kernels, and it is desirable that they \n",
    "are for SVM. DTW is not a metric, but MSM and TWE are."
   ]
  },
  {
   "cell_type": "code",
   "execution_count": 99,
   "metadata": {
    "ExecuteTime": {
     "end_time": "2024-06-17T23:21:39.997149Z",
     "start_time": "2024-06-17T23:21:32.361244Z"
    },
    "collapsed": false
   },
   "outputs": [
    {
     "name": "stdout",
     "output_type": "stream",
     "text": [
      "SVC with TWE first five predictions=  ['1' '2' '1' '2' '2']\n",
      "NuSVC with MSM first five predictions=  ['1' '2' '2' '1' '2']\n"
     ]
    }
   ],
   "source": [
    "from aeon.distances import msm_pairwise_distance, twe_distance, twe_pairwise_distance\n",
    "\n",
    "svc = SVC(kernel=\"precomputed\")\n",
    "nsvc = NuSVC(kernel=\"precomputed\")\n",
    "train_m1 = twe_pairwise_distance(train_x_2D)\n",
    "test_m1 = twe_pairwise_distance(test_x_2D, train_x_2D)\n",
    "svc.fit(train_m1, train_y_2D)\n",
    "print(\"SVC with TWE first five predictions= \", svc.predict(test_m1)[:5])\n",
    "train_m2 = msm_pairwise_distance(train_x_3D)\n",
    "test_m2 = msm_pairwise_distance(test_x_3D, train_x_3D)\n",
    "nsvc.fit(train_m2, train_y_3D)\n",
    "print(\"NuSVC with MSM first five predictions= \", nsvc.predict(test_m2)[:5])"
   ]
  },
  {
   "cell_type": "markdown",
   "metadata": {},
   "source": [
    "## Support Vector Machine Regression in sklearn.svm"
   ]
  },
  {
   "cell_type": "code",
   "execution_count": null,
   "metadata": {},
   "outputs": [],
   "source": [
    "from sklearn.svm import SVR, NuSVR"
   ]
  },
  {
   "cell_type": "markdown",
   "metadata": {},
   "source": []
  },
  {
   "cell_type": "code",
   "execution_count": 100,
   "metadata": {},
   "outputs": [
    {
     "name": "stdout",
     "output_type": "stream",
     "text": [
      "SVR with DTW first five predictions=  [0.08823529 0.08823529 0.08823529 0.08823529 0.08823529]\n"
     ]
    }
   ],
   "source": [
    "from aeon.distances import dtw_pairwise_distance\n",
    "\n",
    "svr = SVR(kernel=\"precomputed\")\n",
    "nsvr = NuSVR(kernel=twe_distance)\n",
    "\n",
    "train_m3 = dtw_pairwise_distance(train_x_3D_reg)\n",
    "test_m3 = dtw_pairwise_distance(test_x_3D_reg, train_x_3D_reg)\n",
    "svr.fit(train_m3, train_y_3D_reg)\n",
    "print(\"SVR with DTW first five predictions= \", svr.predict(test_m3)[:5])"
   ]
  },
  {
   "cell_type": "markdown",
   "metadata": {
    "collapsed": false
   },
   "source": [
    "# Clustering with sklearn.cluster"
   ]
  },
  {
   "cell_type": "code",
   "execution_count": 102,
   "metadata": {
    "ExecuteTime": {
     "end_time": "2024-06-17T23:21:40.488336Z",
     "start_time": "2024-06-17T23:21:39.998146Z"
    },
    "collapsed": false
   },
   "outputs": [],
   "source": [
    "from sklearn.cluster import DBSCAN"
   ]
  },
  {
   "cell_type": "markdown",
   "metadata": {
    "collapsed": false
   },
   "source": [
    "Some sklearn clustering algorithms accept callable distances or precomputed distance\n",
    "matrices, and these can be used with aeon distance functions.\n",
    "\n",
    "Note that DBSCAN can only make predictions on the train data, so it has no predict\n",
    "function.\n"
   ]
  },
  {
   "cell_type": "code",
   "execution_count": 103,
   "metadata": {
    "ExecuteTime": {
     "end_time": "2024-06-17T23:21:41.393371Z",
     "start_time": "2024-06-17T23:21:40.489328Z"
    },
    "collapsed": false
   },
   "outputs": [
    {
     "name": "stdout",
     "output_type": "stream",
     "text": [
      "[-1  0  0  0  0]\n",
      "[-1  0  0  0  0]\n",
      "[-1  0  0  0  0]\n"
     ]
    }
   ],
   "source": [
    "db1 = DBSCAN(eps=2.5)\n",
    "preds1 = db1.fit_predict(train_x_2D)\n",
    "print(preds1[:5])\n",
    "db2 = DBSCAN(metric=msm_distance, eps=2.5)\n",
    "db3 = DBSCAN(metric=\"precomputed\", eps=2.5)\n",
    "preds2 = db2.fit_predict(train_x_2D)\n",
    "print(preds1[:5])\n",
    "preds3 = db3.fit_predict(train_m2)\n",
    "print(preds1[:5])"
   ]
  },
  {
   "cell_type": "markdown",
   "metadata": {
    "collapsed": false
   },
   "source": [
    "You can use pairwise distance functions within the scikit learn `FunctionTransformer`\n",
    " wrapper"
   ]
  },
  {
   "cell_type": "code",
   "execution_count": 104,
   "metadata": {
    "ExecuteTime": {
     "end_time": "2024-06-17T23:21:41.472132Z",
     "start_time": "2024-06-17T23:21:41.395337Z"
    },
    "collapsed": false
   },
   "outputs": [
    {
     "name": "stdout",
     "output_type": "stream",
     "text": [
      " Shape =  (67, 67)\n",
      "These should be the same 7.595223506000001 and 7.595223506000001\n"
     ]
    }
   ],
   "source": [
    "from sklearn.preprocessing import FunctionTransformer\n",
    "\n",
    "from aeon.datasets import load_italy_power_demand\n",
    "from aeon.distances import msm_distance, msm_pairwise_distance\n",
    "\n",
    "X, y = load_italy_power_demand(split=\"TRAIN\")\n",
    "ft = FunctionTransformer(msm_pairwise_distance)\n",
    "X2 = ft.transform(X)\n",
    "print(\" Shape = \", X2.shape)\n",
    "d = msm_distance(X[0], X[1])\n",
    "print(f\"These should be the same {d} and {X2[0][1]}\")"
   ]
  },
  {
   "cell_type": "markdown",
   "metadata": {
    "collapsed": false
   },
   "source": [
    "This makes it easy to use distances as features in an a scikit-learn pipeline.\n",
    "Whether it is a good idea to do this is a separate question.\n"
   ]
  },
  {
   "cell_type": "code",
   "execution_count": 105,
   "metadata": {
    "ExecuteTime": {
     "end_time": "2024-06-17T23:21:41.503125Z",
     "start_time": "2024-06-17T23:21:41.473128Z"
    },
    "collapsed": false
   },
   "outputs": [
    {
     "data": {
      "text/plain": [
       "array(['1', '1', '2', '2', '1', '2', '2', '1', '1', '2', '2', '1', '1',\n",
       "       '2', '1', '2', '1', '1', '2', '1', '1', '2', '1', '1', '1', '1',\n",
       "       '1', '2', '2', '1', '1', '2', '2', '1', '2', '2', '1', '2', '1',\n",
       "       '2', '1', '1', '2', '2', '1', '2', '2', '2', '2', '1', '1', '2',\n",
       "       '2', '2', '1', '2', '2', '1', '1', '2', '2', '1', '1', '2', '1',\n",
       "       '2', '2'], dtype='<U1')"
      ]
     },
     "execution_count": 105,
     "metadata": {},
     "output_type": "execute_result"
    }
   ],
   "source": [
    "from sklearn.pipeline import Pipeline\n",
    "\n",
    "X, y = load_italy_power_demand(split=\"TRAIN\")\n",
    "\n",
    "pipe = Pipeline(steps=[(\"FunctionTransformer\", ft), (\"SVM\", SVC())])\n",
    "pipe.fit(X, y)\n",
    "pipe.predict(X)"
   ]
  },
  {
   "cell_type": "code",
   "execution_count": null,
   "metadata": {},
   "outputs": [],
   "source": []
  }
 ],
 "metadata": {
  "kernelspec": {
   "display_name": "Python 3",
   "language": "python",
   "name": "python3"
  },
  "language_info": {
   "codemirror_mode": {
    "name": "ipython",
    "version": 3
   },
   "file_extension": ".py",
   "mimetype": "text/x-python",
   "name": "python",
   "nbconvert_exporter": "python",
   "pygments_lexer": "ipython3",
   "version": "3.11.5"
  }
 },
 "nbformat": 4,
 "nbformat_minor": 0
}
