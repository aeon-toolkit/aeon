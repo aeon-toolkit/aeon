{
 "cells": [
  {
   "cell_type": "markdown",
   "metadata": {
    "collapsed": false
   },
   "source": [
    "# Using `aeon` distances with `scikit-learn`\n",
    "\n",
    "`scikit-learn` has a range of algorithms based on distances, including classifiers,\n",
    "regressors and clusterers. These can generally all be used with `aeon` distances\n",
    "in two ways:\n",
    "\n",
    "1. Pass the distance function as a callable to the `metric` or `kernel` parameter\n",
    "in the constructor or\n",
    "2. Set the `metric` or `kernel` to precomputed in the constructor and pass a\n",
    "pairwise distance matrix to `fit` and `predict`."
   ]
  },
  {
   "cell_type": "markdown",
   "metadata": {
    "collapsed": false
   },
   "source": [
    "## K-Nearest Neighbour Univariate Classification in sklearn.neighbors"
   ]
  },
  {
   "cell_type": "code",
   "execution_count": 23,
   "metadata": {
    "ExecuteTime": {
     "end_time": "2024-06-17T23:21:23.882870Z",
     "start_time": "2024-06-17T23:21:23.055803Z"
    },
    "collapsed": false
   },
   "outputs": [],
   "source": [
    "from sklearn.neighbors import KNeighborsClassifier, KNeighborsTransformer\n",
    "\n",
    "from aeon.datasets import load_gunpoint\n",
    "\n",
    "# Load the gunpoint dataset as a 2D numpy array\n",
    "X_train_2D, y_train_2D = load_gunpoint(split=\"TRAIN\", return_type=\"numpy2D\")\n",
    "X_test_2D, y_test_2D = load_gunpoint(split=\"TEST\", return_type=\"numpy2D\")\n",
    "\n",
    "# Load the gunpoint dataset as a 3D numpy array\n",
    "X_train_3D, y_train_3D = load_gunpoint(split=\"TRAIN\")\n",
    "X_test_3D, y_test_3D = load_gunpoint(split=\"TEST\")"
   ]
  },
  {
   "cell_type": "markdown",
   "metadata": {
    "collapsed": false
   },
   "source": [
    "If we have a univariate problem stored as a 2D numpy shape\n",
    "`(n_cases,n_timepoints)`, we can apply these estimators directly,\n",
    "but it is treating the data as vector rather than as time series.\n",
    "\n",
    "If we try and use with an `aeon` style 3D numpy\n",
    "`(n_cases, n_channels, n_timepoints)`, they will crash as `scikit-learn` expect a 2D\n",
    "numpy array. See the [data_formats](../datasets/datasets.ipynb) for details on\n",
    "data storage."
   ]
  },
  {
   "cell_type": "code",
   "execution_count": 24,
   "metadata": {
    "ExecuteTime": {
     "end_time": "2024-06-17T23:21:24.416318Z",
     "start_time": "2024-06-17T23:21:23.884866Z"
    },
    "collapsed": false
   },
   "outputs": [
    {
     "name": "stdout",
     "output_type": "stream",
     "text": [
      "Training set shape = (50, 1, 150) -> this works with sklearn\n",
      "kNN with manhattan distance on 2D time series data ['1' '2' '2' '1' '1']\n",
      "\n",
      "Training set shape = (50, 1, 150) -> sklearn will crash as is a 3D array\n",
      "Raises this ValueError:\n",
      "\tFound array with dim 3. KNeighborsClassifier expected <= 2.\n"
     ]
    }
   ],
   "source": [
    "# Using the 2D array format\n",
    "print(f\"Training set shape = {X_train_2D.shape} -> this works with sklearn\")\n",
    "\n",
    "# Apply a sklearn kNN classifier on the 2D\n",
    "#  time series data using a standard distance\n",
    "knn = KNeighborsClassifier(metric=\"manhattan\")\n",
    "knn.fit(X_train_2D, y_train_2D)\n",
    "predictions_2D = knn.predict(X_test_2D[:5])\n",
    "print(f\"kNN with manhattan distance on 2D time series data {predictions_2D}\\n\")\n",
    "\n",
    "\n",
    "# Now using the 3D array format\n",
    "print(f\"Training set shape = {X_train_3D.shape} -> sklearn will crash as is a 3D array\")\n",
    "\n",
    "# Apply a sklearn kNN classifier on the 3D time series data using a standard distance\n",
    "# This will raise a ValueError as sklearn does not support 3D arrays\n",
    "try:\n",
    "    knn.fit(X_train_3D, y_train_3D)\n",
    "except ValueError as e:\n",
    "    print(f\"Raises this ValueError:\\n\\t{e}\")"
   ]
  },
  {
   "cell_type": "markdown",
   "metadata": {
    "collapsed": false
   },
   "source": [
    "We can use `KNeighborsClassifier` with a callable `aeon` distance function, but the\n",
    "input must still be 2D numpy array."
   ]
  },
  {
   "cell_type": "code",
   "execution_count": 25,
   "metadata": {
    "ExecuteTime": {
     "end_time": "2024-06-17T23:21:26.806946Z",
     "start_time": "2024-06-17T23:21:24.417316Z"
    },
    "collapsed": false
   },
   "outputs": [
    {
     "name": "stdout",
     "output_type": "stream",
     "text": [
      "kNN with DTW distance on 2D time series data ['1' '2' '2' '1' '2']\n",
      "\n",
      "kNN with DTW distance on 3D time series data...\n",
      "...raises this ValueError:\n",
      "\tFound array with dim 3. KNeighborsClassifier expected <= 2.\n"
     ]
    }
   ],
   "source": [
    "from aeon.distances import (\n",
    "    adtw_distance,\n",
    "    dtw_distance,\n",
    "    edr_distance,\n",
    "    msm_distance,\n",
    "    twe_distance,\n",
    ")\n",
    "\n",
    "# Apply a sklearn kNN classifier on the 2D time series data using the DTW distance\n",
    "knn = KNeighborsClassifier(metric=dtw_distance)\n",
    "knn.fit(X_train_2D, y_train_2D)\n",
    "predictions_2D_DTW = knn.predict(X_test_2D[:5])\n",
    "\n",
    "print(f\"kNN with DTW distance on 2D time series data {predictions_2D_DTW}\\n\")\n",
    "\n",
    "\n",
    "# Apply a sklearn kNN classifier on the 3D time series data using the DTW distance\n",
    "# This will still raise a ValueError as sklearn does not support 3D arrays\n",
    "print(\"kNN with DTW distance on 3D time series data...\")\n",
    "try:\n",
    "    knn.fit(X_train_3D, y_train_3D)\n",
    "except ValueError as e:\n",
    "    print(f\"...raises this ValueError:\\n\\t{e}\")"
   ]
  },
  {
   "cell_type": "markdown",
   "metadata": {},
   "source": [
    "We can also use `aeon` distance functions as callables in other `sklearn.neighbors`\n",
    "estimators:"
   ]
  },
  {
   "cell_type": "code",
   "execution_count": 26,
   "metadata": {},
   "outputs": [
    {
     "name": "stdout",
     "output_type": "stream",
     "text": [
      "Graph of neighbors for the first pattern in testing set with EDR distance on 2Dtime series data:\n",
      "[[0.         0.         0.         0.         0.         0.\n",
      "  0.         0.         0.         0.         0.         0.\n",
      "  0.         0.         0.         0.         0.         0.\n",
      "  0.         0.         0.         0.         0.         0.\n",
      "  0.         0.         0.         0.         0.         0.\n",
      "  0.         0.         0.         0.         0.00666667 0.00666667\n",
      "  0.00666667 0.         0.         0.         0.         0.\n",
      "  0.         0.         0.         0.         0.         0.\n",
      "  0.         0.        ]]\n",
      "Note that [i,j] has the weight of edge that connects i to j.\n",
      "\n",
      "Again, transforming 3D time series data into a graph of neighbors...\n",
      "...raises this ValueError:\n",
      "\tFound array with dim 3. KNeighborsTransformer expected <= 2.\n"
     ]
    }
   ],
   "source": [
    "# Transform X into a graph of k nearest neighbors on the 2D time series data using the\n",
    "# EDR distance\n",
    "kt = KNeighborsTransformer(\n",
    "    metric=edr_distance,\n",
    "    metric_params={\"itakura_max_slope\": 0.5},\n",
    ")\n",
    "\n",
    "kt.fit(X_train_2D, y_train_2D)\n",
    "kgraph = kt.transform(X_test_2D[:1]).toarray()  # Convert the sparse matrix to an array\n",
    "\n",
    "print(\n",
    "    \"Graph of neighbors for the first pattern in testing set with EDR distance on 2D\"\n",
    "    f\"time series data:\\n{kgraph}\\nNote that [i,j] has the weight of edge that \"\n",
    "    \"connects i to j.\\n\"\n",
    ")\n",
    "\n",
    "# Again, using a 3D array will raise a ValueError\n",
    "print(\"Again, transforming 3D time series data into a graph of neighbors...\")\n",
    "try:\n",
    "    kt.fit(X_train_3D, y_train_3D)\n",
    "except ValueError as e:\n",
    "    print(f\"...raises this ValueError:\\n\\t{e}\")"
   ]
  },
  {
   "cell_type": "markdown",
   "metadata": {
    "collapsed": false
   },
   "source": [
    "Also note that using an `aeon` distance function as callable does not will not work with\n",
    "some kNN options such as [`KDTree`](https://scikit-learn.org/stable/modules/generated/sklearn.neighbors.KDTree.html)\n",
    "class or [`BallTree`](https://scikit-learn.org/stable/modules/generated/sklearn.neighbors.BallTree.html),\n",
    "as stated in the scikit-learn doc of these classes:\n",
    "\n",
    "_Note: Callable functions in the metric parameter are NOT supported for KDTree_\n",
    "_and Ball Tree. Function call overhead will result in very poor performance._\n",
    "\n",
    "Because of these problems, we have implemented a KNN classifier and regressor to use\n",
    "with our distance functions.\n",
    "\n",
    "The `aeon` kNN classifier using a 3D numpy array achieves the same performance than the\n",
    "`sklearn` one using the 2D numpy array even using time series specific distance\n",
    "functions. The results achieved are the same as time series are univariate and hence,\n",
    "the data can be formatted as a 2D array:"
   ]
  },
  {
   "cell_type": "code",
   "execution_count": 27,
   "metadata": {
    "ExecuteTime": {
     "end_time": "2024-06-17T23:21:31.418483Z",
     "start_time": "2024-06-17T23:21:26.808941Z"
    },
    "collapsed": false
   },
   "outputs": [
    {
     "name": "stdout",
     "output_type": "stream",
     "text": [
      "aeon kNN with MSM distance on 3D time series data ['1' '2' '2' '1' '1']\n",
      "sklearn kNN with MSM distance on 2D time series data ['1' '2' '2' '1' '1']\n"
     ]
    }
   ],
   "source": [
    "from aeon.classification.distance_based import KNeighborsTimeSeriesClassifier\n",
    "\n",
    "# Apply the aeon kNN classifier on the 3D time series data using the MSM distance\n",
    "knn_aeon = KNeighborsTimeSeriesClassifier(distance=\"msm\")\n",
    "knn_aeon.fit(X_train_3D, y_train_3D)\n",
    "\n",
    "predictions_3D_aeon = knn_aeon.predict(X_test_3D[:5])\n",
    "\n",
    "print(f\"aeon kNN with MSM distance on 3D time series data {predictions_3D_aeon}\")\n",
    "\n",
    "# Apply a sklearn kNN classifier on the 2D time series data using the MSM distance\n",
    "knn = KNeighborsClassifier(metric=msm_distance)\n",
    "knn.fit(X_train_2D, y_train_2D)\n",
    "predictions_2D_sklearn = knn.predict(X_test_2D[:5])\n",
    "\n",
    "print(f\"sklearn kNN with MSM distance on 2D time series data {predictions_2D_sklearn}\")"
   ]
  },
  {
   "cell_type": "markdown",
   "metadata": {},
   "source": [
    "## K-Nearest Neighbour Multivariate Regression in sklearn.neighbors"
   ]
  },
  {
   "cell_type": "markdown",
   "metadata": {},
   "source": [
    "However, if the time series dataset is a multivariate one, data has to be represented\n",
    "using a 3D numpy array. In this case, to use the `sklearn` knn approach, channels have\n",
    "to be concatenated, and therefore, specific edit time series distances may compute the\n",
    "distance between values of different channels, and the results may be biased by these\n",
    "misleading implementation:"
   ]
  },
  {
   "cell_type": "code",
   "execution_count": 29,
   "metadata": {},
   "outputs": [
    {
     "name": "stdout",
     "output_type": "stream",
     "text": [
      "3D training set shape = (40, 6, 100) -> does not work with sklearn\n",
      "2D Training set shape = (40, 600) -> works with sklearn\n"
     ]
    }
   ],
   "source": [
    "import numpy as np\n",
    "\n",
    "from aeon.datasets import load_basic_motions\n",
    "\n",
    "# Load the basic_motions multivariate (MTSC) dataset as a 3D numpy array\n",
    "X_train_3D_mtsc, y_train_mtsc = load_basic_motions(split=\"TRAIN\")\n",
    "X_test_3D_mtsc, y_test_mtsc = load_basic_motions(split=\"TEST\")\n",
    "\n",
    "print(f\"3D training set shape = {X_train_3D_mtsc.shape} -> does not work with sklearn\")\n",
    "\n",
    "# Transform the 3D numpy array to 2D concatenating the time series\n",
    "# This time, the loader does not return the dataset as a 2D array as this is not an\n",
    "# intended way of working with time series. We need to reshape it ourselves.\n",
    "X_train_2D_mtsc = X_train_3D_mtsc.reshape(X_train_3D_mtsc.shape[0], -1)\n",
    "X_test_2D_mtsc = X_test_3D_mtsc.reshape(X_test_3D_mtsc.shape[0], -1)\n",
    "\n",
    "print(f\"2D Training set shape = {X_train_2D_mtsc.shape} -> works with sklearn\")\n",
    "\n",
    "# selects some patterns from the dataset to speed up the example\n",
    "indices = np.random.RandomState(1234).choice(len(y_test_mtsc), 5, replace=False)\n",
    "\n",
    "X_test_2D_mtsc = X_test_2D_mtsc[indices]\n",
    "X_test_3D_mtsc = X_test_3D_mtsc[indices]\n",
    "y_test_mtsc = y_test_mtsc[indices]"
   ]
  },
  {
   "cell_type": "code",
   "execution_count": 30,
   "metadata": {},
   "outputs": [
    {
     "name": "stdout",
     "output_type": "stream",
     "text": [
      "aeon kNN with MSM distance on 3D MTSC time series data ['standing' 'walking' 'running' 'standing' 'standing']\n",
      "sklearn kNN with MSM distance on 2D MTSC time series data ['standing' 'badminton' 'running' 'standing' 'standing']\n"
     ]
    }
   ],
   "source": [
    "# Apply the aeon kNN classifier on the 3D MTSC time series data using the ADTW distance\n",
    "knn_aeon = KNeighborsTimeSeriesClassifier(distance=\"adtw\")\n",
    "knn_aeon.fit(X_train_3D_mtsc, y_train_mtsc)\n",
    "\n",
    "predictions_3D_aeon = knn_aeon.predict(X_test_3D_mtsc)\n",
    "\n",
    "print(f\"aeon kNN with MSM distance on 3D MTSC time series data {predictions_3D_aeon}\")\n",
    "\n",
    "# Apply a sklearn kNN classifier on the concatenated 2D MTSC time series data using the\n",
    "# ADTW distance\n",
    "knn = KNeighborsClassifier(metric=adtw_distance)\n",
    "knn.fit(X_train_2D_mtsc, y_train_mtsc)\n",
    "predictions_2D_sk = knn.predict(X_test_2D_mtsc)\n",
    "\n",
    "print(f\"sklearn kNN with MSM distance on 2D MTSC time series data {predictions_2D_sk}\")"
   ]
  },
  {
   "cell_type": "markdown",
   "metadata": {},
   "source": [
    "## K-Nearest Neighbour Univariate Regression in sklearn.neighbors"
   ]
  },
  {
   "cell_type": "markdown",
   "metadata": {},
   "source": [
    "Similar conclusions can be drawn for the kNN regressor. First of all, we load the\n",
    "TSER dataset."
   ]
  },
  {
   "cell_type": "code",
   "execution_count": 31,
   "metadata": {},
   "outputs": [],
   "source": [
    "from sklearn.neighbors import KNeighborsRegressor\n",
    "\n",
    "from aeon.datasets import load_covid_3month\n",
    "from aeon.regression.distance_based import KNeighborsTimeSeriesRegressor\n",
    "\n",
    "# Load the Covid3Month dataset as a 3D numpy array\n",
    "X_train_3D_reg, y_train_3D_reg = load_covid_3month(split=\"train\")\n",
    "X_test_3D_reg, y_test_3D_reg = load_covid_3month(split=\"test\")\n",
    "\n",
    "# Load the Covid3Month dataset as a 2D numpy array\n",
    "X_train_2D_reg, y_train_2D_reg = load_covid_3month(split=\"train\", return_type=\"numpy2D\")\n",
    "X_test_2D_reg, y_test_2D_reg = load_covid_3month(split=\"test\", return_type=\"numpy2D\")"
   ]
  },
  {
   "cell_type": "markdown",
   "metadata": {},
   "source": [
    "Now, we compare the prediction of the `aeon` and `scikit-learn` versions. As the\n",
    "Covid3Month dataset is univariate, the results of both libraries should be the same."
   ]
  },
  {
   "cell_type": "code",
   "execution_count": 32,
   "metadata": {},
   "outputs": [
    {
     "name": "stdout",
     "output_type": "stream",
     "text": [
      "aeon kNN with MSM distance on 3D TSER time series data [0.02558824 0.00877193 0.01960784 0.03533314 0.00805611]\n",
      "sklearn kNN with MSM distance on 2D TSER time series data [0.02558824 0.00877193 0.01960784 0.03533314 0.00805611]\n"
     ]
    }
   ],
   "source": [
    "knn_aeon_reg = KNeighborsTimeSeriesRegressor(distance=\"twe\", n_neighbors=1)\n",
    "knn_aeon_reg.fit(X_train_3D_reg, y_train_3D_reg)\n",
    "\n",
    "predictions_3D_reg_aeon = knn_aeon_reg.predict(X_test_3D_reg[:5])\n",
    "\n",
    "print(\n",
    "    f\"aeon kNN with MSM distance on 3D TSER time series data {predictions_3D_reg_aeon}\"\n",
    ")\n",
    "\n",
    "knn_sklearn = KNeighborsRegressor(metric=twe_distance, n_neighbors=1)\n",
    "knn_sklearn.fit(X_train_2D_reg, y_train_2D_reg)\n",
    "\n",
    "predictions_2D_reg_sk = knn_aeon_reg.predict(X_test_2D_reg[:5])\n",
    "\n",
    "print(\n",
    "    f\"sklearn kNN with MSM distance on 2D TSER time series data {predictions_2D_reg_sk}\"\n",
    ")"
   ]
  },
  {
   "cell_type": "markdown",
   "metadata": {},
   "source": [
    "With respect to multivariate TSER datasets, same conclusions are obtained. **We do not\n",
    "recommend concatenating channels as a regular practice.**"
   ]
  },
  {
   "cell_type": "markdown",
   "metadata": {},
   "source": [
    "## K-Nearest Neighbour Classification and Regression in sklearn.neighbors with precomputed distances"
   ]
  },
  {
   "cell_type": "markdown",
   "metadata": {
    "collapsed": false
   },
   "source": [
    "Another alternative is to pass the distance measures as precomputed.\n",
    "Note that this requires the calculation of the full distance matrices,\n",
    "and still cannot be used with some other `scikit-learn` knn options."
   ]
  },
  {
   "cell_type": "code",
   "execution_count": 33,
   "metadata": {
    "ExecuteTime": {
     "end_time": "2024-06-17T23:21:32.354262Z",
     "start_time": "2024-06-17T23:21:31.419481Z"
    },
    "collapsed": false
   },
   "outputs": [
    {
     "name": "stdout",
     "output_type": "stream",
     "text": [
      "sklearn kNN with precomputed ADTW distance ['1' '2' '2' '1' '1']\n",
      "aeon kNN with ADTW distance ['1' '2' '2' '1' '1']\n",
      "CCR_precomputed=0.9133333333333333\n",
      "CCR_aeon=0.9133333333333333\n"
     ]
    }
   ],
   "source": [
    "from sklearn.metrics import accuracy_score\n",
    "\n",
    "from aeon.distances import adtw_pairwise_distance\n",
    "\n",
    "# Compute the distances between all pairs of time series in the training set\n",
    "# and between the testing set and the training set for the testing set\n",
    "train_dists = adtw_pairwise_distance(X_train_3D)\n",
    "test_dists = adtw_pairwise_distance(X_test_3D, X_train_3D)\n",
    "\n",
    "# scikit-learn KNN classifier with precomputed distances\n",
    "knn = KNeighborsClassifier(metric=\"precomputed\", n_neighbors=1)\n",
    "knn.fit(train_dists, y_train_3D)\n",
    "predictions_precomputed = knn.predict(test_dists)\n",
    "\n",
    "print(f\"sklearn kNN with precomputed ADTW distance {predictions_precomputed[:5]}\")\n",
    "\n",
    "# aeon KNN classifier with ADTW distance (not precomputed)\n",
    "knn_aeon = KNeighborsTimeSeriesClassifier(distance=\"adtw\", n_neighbors=1)\n",
    "knn_aeon.fit(X_train_3D, y_train_3D)\n",
    "predictions_aeon = knn_aeon.predict(X_test_3D)\n",
    "\n",
    "print(f\"aeon kNN with ADTW distance {predictions_aeon[:5]}\")\n",
    "\n",
    "# Compute the CCR on both experiments\n",
    "CCR_precomputed = accuracy_score(y_test_3D, predictions_precomputed)\n",
    "CCR_aeon = accuracy_score(y_test_3D, predictions_aeon)\n",
    "\n",
    "print(f\"{CCR_precomputed=}\\n{CCR_aeon=}\")"
   ]
  },
  {
   "cell_type": "markdown",
   "metadata": {},
   "source": [
    "Same conclusions can be obtained when dealing with a TSER dataset."
   ]
  },
  {
   "cell_type": "code",
   "execution_count": 34,
   "metadata": {},
   "outputs": [
    {
     "name": "stdout",
     "output_type": "stream",
     "text": [
      "sklearn kNN with precomputed ERP distance [0.02558824 0.05594406 0.01449275 0.03533314 0.12759489]\n",
      "aeon kNN with ERP distance [0.02558824 0.05594406 0.01449275 0.03533314 0.12759489]\n",
      "MSE_precomputed=0.002247674986547397\n",
      "MSE_aeon=0.002247674986547397\n"
     ]
    }
   ],
   "source": [
    "from sklearn.metrics import mean_squared_error\n",
    "\n",
    "from aeon.distances import erp_pairwise_distance\n",
    "\n",
    "# Compute the distances between all pairs of time series in the training set\n",
    "# and between the testing set and the training set for the testing set\n",
    "train_dists_erp = erp_pairwise_distance(X_train_3D_reg)\n",
    "test_dists_erp = erp_pairwise_distance(X_test_3D_reg, X_train_3D_reg)\n",
    "\n",
    "# scikit-learn KNN regressor with precomputed distances\n",
    "knn = KNeighborsRegressor(metric=\"precomputed\", n_neighbors=1)\n",
    "knn.fit(train_dists_erp, y_train_3D_reg)\n",
    "predictions_precomputed = knn.predict(test_dists_erp)\n",
    "\n",
    "print(f\"sklearn kNN with precomputed ERP distance {predictions_precomputed[:5]}\")\n",
    "\n",
    "# aeon KNN regressor with ERP distance (not precomputed)\n",
    "knn_aeon = KNeighborsTimeSeriesRegressor(distance=\"erp\", n_neighbors=1)\n",
    "knn_aeon.fit(X_train_3D_reg, y_train_3D_reg)\n",
    "predictions_aeon = knn_aeon.predict(X_test_3D_reg)\n",
    "\n",
    "print(f\"aeon kNN with ERP distance {predictions_aeon[:5]}\")\n",
    "\n",
    "# Compute the CCR on both experiments\n",
    "MSE_precomputed = mean_squared_error(y_test_3D_reg, predictions_precomputed)\n",
    "MSE_aeon = mean_squared_error(y_test_3D_reg, predictions_aeon)\n",
    "\n",
    "print(f\"{MSE_precomputed=}\\n{MSE_aeon=}\")"
   ]
  },
  {
   "cell_type": "markdown",
   "metadata": {
    "collapsed": false
   },
   "source": [
    "## Support Vector Machine Classification in sklearn.svm"
   ]
  },
  {
   "cell_type": "code",
   "execution_count": 38,
   "metadata": {},
   "outputs": [],
   "source": [
    "from sklearn.svm import SVC\n",
    "\n",
    "from aeon.distances import twe_pairwise_distance"
   ]
  },
  {
   "cell_type": "markdown",
   "metadata": {
    "collapsed": false
   },
   "source": [
    "The SVM estimators in `scikit-learn` can be used with pairwise distance matrices. Please\n",
    "note that not all elastic distance functions are kernels, and it is desirable that they\n",
    "are for SVM. DTW is not a metric, but MSM and TWE are."
   ]
  },
  {
   "cell_type": "code",
   "execution_count": 42,
   "metadata": {
    "ExecuteTime": {
     "end_time": "2024-06-17T23:21:32.360245Z",
     "start_time": "2024-06-17T23:21:32.355286Z"
    },
    "collapsed": false
   },
   "outputs": [
    {
     "name": "stdout",
     "output_type": "stream",
     "text": [
      "SVC with TWE first five predictions =  ['2' '1' '1' '2' '1']\n",
      "Time with callable function: 2.102813597768545\n"
     ]
    }
   ],
   "source": [
    "# Select 25 patterns from the dataset to speed up the example\n",
    "indices = np.random.RandomState(1234).choice(len(y_train_3D), 25, replace=False)\n",
    "\n",
    "# Fit the SVC model with the TWE distance as callable function.\n",
    "svc = SVC(kernel=twe_pairwise_distance)\n",
    "svc.fit(X_train_2D[indices], y_train_2D[indices])\n",
    "\n",
    "print(\"SVC with TWE first five predictions = \", svc.predict(X_test_2D)[:5])"
   ]
  },
  {
   "cell_type": "markdown",
   "metadata": {},
   "source": [
    "The same results can be obtained if the distances are precomputed."
   ]
  },
  {
   "cell_type": "code",
   "execution_count": 43,
   "metadata": {},
   "outputs": [
    {
     "name": "stdout",
     "output_type": "stream",
     "text": [
      "SVC with precomputed TWE first five predictions =  ['2' '1' '1' '2' '1']\n",
      "Time with precomputed distances: 12.786979459226131\n"
     ]
    }
   ],
   "source": [
    "# Fit the SVC model with precomputed distances\n",
    "svc = SVC(kernel=\"precomputed\")\n",
    "train_dists_twe = twe_pairwise_distance(X_train_3D[indices])\n",
    "test_dists_twe = twe_pairwise_distance(X_test_3D, X_train_3D[indices])\n",
    "svc.fit(train_dists_twe, y_train_3D[indices])\n",
    "\n",
    "print(\n",
    "    \"SVC with precomputed TWE first five predictions = \",\n",
    "    svc.predict(test_dists_twe)[:5],\n",
    ")"
   ]
  },
  {
   "cell_type": "markdown",
   "metadata": {},
   "source": [
    "## Support Vector Machine Regression in sklearn.svm"
   ]
  },
  {
   "cell_type": "code",
   "execution_count": 45,
   "metadata": {},
   "outputs": [],
   "source": [
    "from sklearn.svm import NuSVR\n",
    "\n",
    "from aeon.distances import msm_pairwise_distance"
   ]
  },
  {
   "cell_type": "markdown",
   "metadata": {},
   "source": [
    "SVR and NuSVR also allow to use the distance function as callable as previously\n",
    "aforementioned. As can be observed, the results are the same:"
   ]
  },
  {
   "cell_type": "code",
   "execution_count": 50,
   "metadata": {},
   "outputs": [
    {
     "name": "stdout",
     "output_type": "stream",
     "text": [
      "NuSVR with MSM first five predictions =  [ 3315.08833625 -3035.91166375 -3196.91166375   827.08833625\n",
      " 12771.08833625]\n",
      "NuSVR with precomputed MSM first five predictions =  [ 3315.08833625 -3035.91166375 -3196.91166375   827.08833625\n",
      " 12771.08833625]\n"
     ]
    }
   ],
   "source": [
    "# Select 25 patterns from the dataset to speed up the example\n",
    "indices = np.random.RandomState(1234).choice(len(y_train_3D_reg), 25, replace=False)\n",
    "\n",
    "# Fit the NuSVR model with the MSM distance as callable function.\n",
    "nusvr = NuSVR(kernel=msm_pairwise_distance)\n",
    "nusvr.fit(X_train_2D_reg[indices], y_train_2D_reg[indices])\n",
    "\n",
    "print(\"NuSVR with MSM first five predictions = \", nusvr.predict(X_test_2D_reg)[:5])\n",
    "\n",
    "# Fit the NuSVR model with precomputed distances\n",
    "nusvr = NuSVR(kernel=\"precomputed\")\n",
    "train_dists_msm = msm_pairwise_distance(X_train_3D_reg[indices])\n",
    "test_dists_msm = msm_pairwise_distance(X_test_3D_reg, X_train_3D_reg[indices])\n",
    "nusvr.fit(train_dists_msm, y_train_3D_reg[indices])\n",
    "\n",
    "print(\n",
    "    \"NuSVR with precomputed MSM first five predictions = \",\n",
    "    nusvr.predict(test_dists_msm)[:5],\n",
    ")"
   ]
  },
  {
   "cell_type": "markdown",
   "metadata": {
    "collapsed": false
   },
   "source": [
    "## Clustering with sklearn.cluster"
   ]
  },
  {
   "cell_type": "code",
   "execution_count": 55,
   "metadata": {
    "ExecuteTime": {
     "end_time": "2024-06-17T23:21:40.488336Z",
     "start_time": "2024-06-17T23:21:39.998146Z"
    },
    "collapsed": false
   },
   "outputs": [],
   "source": [
    "from sklearn.cluster import DBSCAN\n",
    "\n",
    "from aeon.distances import euclidean_pairwise_distance"
   ]
  },
  {
   "cell_type": "markdown",
   "metadata": {
    "collapsed": false
   },
   "source": [
    "Some `scikit-learn` clustering algorithms accept callable distances or precomputed distance\n",
    "matrices as well, and these can be used with `aeon` distance functions.\n",
    "\n",
    "Note that DBSCAN can only make predictions on the train data, so it has no predict\n",
    "function.\n"
   ]
  },
  {
   "cell_type": "code",
   "execution_count": 60,
   "metadata": {
    "ExecuteTime": {
     "end_time": "2024-06-17T23:21:41.393371Z",
     "start_time": "2024-06-17T23:21:40.489328Z"
    },
    "collapsed": false
   },
   "outputs": [
    {
     "name": "stdout",
     "output_type": "stream",
     "text": [
      "DBSCAN with euclidean distance on 2D time series data =  [-1  0  0  0  0]\n",
      "DBSCAN with precomputed euclidean distance on 3D time series data =  [-1  0  0  0  0]\n",
      "DBSCAN with MSM distance on 2D time series data =  [-1 -1 -1 -1 -1]\n",
      "DBSCAN with precomputed MSM distance on 3D time series data =  [-1 -1 -1 -1 -1]\n"
     ]
    }
   ],
   "source": [
    "# Fit the DBSCAN model with the euclidean distance (default).\n",
    "db1 = DBSCAN(eps=2.5)\n",
    "preds1 = db1.fit_predict(X_train_2D)\n",
    "print(\"DBSCAN with euclidean distance on 2D time series data = \", preds1[:5])\n",
    "\n",
    "# Fit the DBSCAN model with precomputed distances\n",
    "db2 = DBSCAN(metric=\"precomputed\", eps=2.5)\n",
    "preds2 = db2.fit_predict(euclidean_pairwise_distance(X_train_3D))\n",
    "print(\n",
    "    \"DBSCAN with precomputed euclidean distance on 3D time series data = \",\n",
    "    preds2[:5],\n",
    ")\n",
    "\n",
    "\n",
    "# Fit the DBSCAN model with the MSM distance as callable function.\n",
    "db3 = DBSCAN(metric=msm_distance, eps=2.5)\n",
    "preds3 = db3.fit_predict(X_train_2D)\n",
    "print(\"DBSCAN with MSM distance on 2D time series data = \", preds3[:5])\n",
    "\n",
    "# Fit the DBSCAN model with precomputed distances on the MSM distance\n",
    "db4 = DBSCAN(metric=\"precomputed\", eps=2.5)\n",
    "preds4 = db4.fit_predict(msm_pairwise_distance(X_train_3D))\n",
    "print(\n",
    "    \"DBSCAN with precomputed MSM distance on 3D time series data = \",\n",
    "    preds4[:5],\n",
    ")"
   ]
  },
  {
   "cell_type": "markdown",
   "metadata": {},
   "source": [
    "## Using distances coupled with FunctionTransformer wrapper"
   ]
  },
  {
   "cell_type": "markdown",
   "metadata": {
    "collapsed": false
   },
   "source": [
    "You can use pairwise distance functions within the `scikit-learn` FunctionTransformer\n",
    "wrapper"
   ]
  },
  {
   "cell_type": "code",
   "execution_count": 65,
   "metadata": {
    "ExecuteTime": {
     "end_time": "2024-06-17T23:21:41.472132Z",
     "start_time": "2024-06-17T23:21:41.395337Z"
    },
    "collapsed": false
   },
   "outputs": [
    {
     "name": "stdout",
     "output_type": "stream",
     "text": [
      "Shape (FunctionTransformer) = (67, 67)\n",
      "Shape (msm_pairwise_distance) = (67, 67)\n",
      "These values are the same 7.595223506000001,  7.595223506000001 and 7.595223506000001.\n"
     ]
    }
   ],
   "source": [
    "from sklearn.preprocessing import FunctionTransformer\n",
    "\n",
    "from aeon.datasets import load_italy_power_demand\n",
    "from aeon.distances import msm_distance, msm_pairwise_distance\n",
    "\n",
    "X, y = load_italy_power_demand(split=\"TRAIN\")\n",
    "\n",
    "# Create a FunctionTransformer to apply the MSM pairwise distance\n",
    "ft = FunctionTransformer(msm_pairwise_distance)\n",
    "X2 = ft.transform(X)\n",
    "print(f\"Shape (FunctionTransformer) = {X2.shape}\")\n",
    "\n",
    "# Compute the MSM pairwise distance\n",
    "X2_bis = msm_pairwise_distance(X)\n",
    "print(f\"Shape (msm_pairwise_distance) = {X2_bis.shape}\")\n",
    "\n",
    "# Check that the three results are the same\n",
    "d = msm_distance(X[0], X[1])\n",
    "print(f\"These values are the same {d}, {X2[0][1]} and {X2_bis[0][1]}.\")"
   ]
  },
  {
   "cell_type": "markdown",
   "metadata": {
    "collapsed": false
   },
   "source": [
    "This makes it easy to use distances as features in an a `scikit-learn` pipeline.\n",
    "Whether it is a good idea to do this is a separate question.\n"
   ]
  },
  {
   "cell_type": "code",
   "execution_count": 68,
   "metadata": {
    "ExecuteTime": {
     "end_time": "2024-06-17T23:21:41.503125Z",
     "start_time": "2024-06-17T23:21:41.473128Z"
    },
    "collapsed": false
   },
   "outputs": [
    {
     "name": "stdout",
     "output_type": "stream",
     "text": [
      "Pipeline with SVM and MSM distance works! First five predictions =  ['1' '1' '2' '2' '1']\n"
     ]
    }
   ],
   "source": [
    "from sklearn.pipeline import Pipeline\n",
    "\n",
    "# Fit a pipeline with the FunctionTransformer (using the msm_pairwise_distance) and the\n",
    "# SVM classifier\n",
    "pipe = Pipeline(steps=[(\"FunctionTransformer\", ft), (\"SVM\", SVC())])\n",
    "pipe.fit(X, y)\n",
    "\n",
    "print(\n",
    "    \"Pipeline with SVM and MSM distance works! First five predictions = \",\n",
    "    pipe.predict(X)[:5],\n",
    ")"
   ]
  }
 ],
 "metadata": {
  "kernelspec": {
   "display_name": "Python 3",
   "language": "python",
   "name": "python3"
  },
  "language_info": {
   "codemirror_mode": {
    "name": "ipython",
    "version": 3
   },
   "file_extension": ".py",
   "mimetype": "text/x-python",
   "name": "python",
   "nbconvert_exporter": "python",
   "pygments_lexer": "ipython3",
   "version": "3.11.5"
  }
 },
 "nbformat": 4,
 "nbformat_minor": 0
}
