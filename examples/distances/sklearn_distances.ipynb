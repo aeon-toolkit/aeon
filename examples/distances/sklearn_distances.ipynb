{
 "cells": [
  {
   "cell_type": "markdown",
   "source": [
    "## Using aeon distances with scikit learn\n",
    "\n",
    "Scikit learn has a range of algorithms based on distances, including classifiers,\n",
    "regressors and clusterers. These can (mostly) all be used with aeon distances in two\n",
    "ways.\n",
    "\n",
    "1. Pass the distance function as a callable to the `metric` parameter in\n",
    "constructor or\n",
    "2. Set the `metric` to precomputed in the constructor and pass a pairwise distance\n",
    "matrix to `fit` and `predict`.\n",
    "\n",
    "Please note that the SVM classifiers and regressors work differently:\n",
    "\n",
    "1. If you pass a distance function as the `kernel`, then you also need to pass the\n",
    "pairwise distance to `fit`. The callable , then you can only use the\n",
    "estimator with univariate time series stored as 2D numpy.\n",
    "2. Not all elastic distance functions are kernels. This included DTW."
   ],
   "metadata": {
    "collapsed": false
   }
  },
  {
   "cell_type": "code",
   "execution_count": 7,
   "outputs": [
    {
     "name": "stdout",
     "output_type": "stream",
     "text": [
      "SVM with polynomial kernel on 2D time series data =  ['1' '1' '1' '1' '1' '1' '1' '1' '1' '1' '1' '1' '2' '2' '1' '2' '2' '1'\n",
      " '2' '2' '2' '2']\n",
      "KNN with manhatttan distance on 2D time series data =  ['1' '1' '1' '1' '1' '1' '1' '1' '1' '1' '1' '1' '2' '2' '1' '2' '2' '1'\n",
      " '2' '2' '2' '1']\n",
      "KNN with on 2D time series data =  ['1' '1' '1' '1' '1' '1' '1' '1' '1' '1' '1' '1' '2' '2' '1' '2' '2' '1'\n",
      " '2' '2' '2' '2']\n"
     ]
    }
   ],
   "source": [
    "# Classifiers and regressors: KNN and support vector machine\n",
    "from sklearn.neighbors import KNeighborsClassifier  # KNeighborsRegressor\n",
    "from sklearn.svm import SVC  # SVR\n",
    "\n",
    "from aeon.datasets import load_unit_test\n",
    "from aeon.distances import dtw_distance, dtw_pairwise_distance\n",
    "\n",
    "trainx, trainy = load_unit_test(split=\"TRAIN\", return_type=\"numpy2D\")\n",
    "testx, testy = load_unit_test(split=\"TEST\", return_type=\"numpy2D\")\n",
    "\n",
    "# Use directly on TSC data with standard scikit functionality/distances etc\n",
    "svm = SVC(kernel=\"poly\")\n",
    "knn = KNeighborsClassifier(metric=\"manhattan\")\n",
    "trainx, trainy = load_unit_test(return_type=\"numpy2D\", split=\"train\")\n",
    "testx, testy = load_unit_test(return_type=\"numpy2D\", split=\"test\")\n",
    "svm.fit(trainx, trainy)\n",
    "print(\"SVM with polynomial kernel on 2D time series data = \", svm.predict(testx))\n",
    "knn.fit(trainx, trainy)\n",
    "print(\"KNN with manhatttan distance on 2D time series data = \", knn.predict(testx))\n",
    "\n",
    "# Use case 1: KNN. pass a callable. 2D univariate equal length TSC only,\n",
    "# Requires 2D numpy input of equal length series shape (n_cases, series_length)\n",
    "\n",
    "knn = KNeighborsClassifier(metric=dtw_distance)\n",
    "knn.fit(trainx, trainy)\n",
    "print(\"KNN with on 2D time series data = \", knn.predict(testx))\n",
    "\n",
    "# Use case 1: set precomputed, pass distances matrix to train and test.\n",
    "# Can use any input compatible with pairwise_distance\n",
    "\n",
    "trainx, trainy = load_unit_test(split=\"train\")\n",
    "testx, testy = load_unit_test(split=\"test\")\n",
    "matrix_train = dtw_pairwise_distance(trainx, trainx)\n",
    "matrix_test = dtw_pairwise_distance(testx, trainx)\n",
    "\n",
    "svm = SVC(kernel=\"precomputed\")\n",
    "knn = KNeighborsClassifier(metric=\"precomputed\")\n",
    "# svm.fit(matrix_test, trainy)\n",
    "# print(\"SVM with ERP distance matrix = \", svm.predict(testx))\n",
    "# knn.fit(matrix_test, trainy)\n",
    "# print(\"KNN with ERP distance matrix = \", knn.predict(testx))"
   ],
   "metadata": {
    "collapsed": false
   }
  },
  {
   "cell_type": "markdown",
   "source": [],
   "metadata": {
    "collapsed": false
   }
  }
 ],
 "metadata": {
  "kernelspec": {
   "display_name": "Python 3",
   "language": "python",
   "name": "python3"
  },
  "language_info": {
   "codemirror_mode": {
    "name": "ipython",
    "version": 2
   },
   "file_extension": ".py",
   "mimetype": "text/x-python",
   "name": "python",
   "nbconvert_exporter": "python",
   "pygments_lexer": "ipython2",
   "version": "2.7.6"
  }
 },
 "nbformat": 4,
 "nbformat_minor": 0
}
