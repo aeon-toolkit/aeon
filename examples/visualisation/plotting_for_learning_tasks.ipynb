{
 "cells": [
  {
   "cell_type": "markdown",
   "source": [
    "## Learning Task Plotting\n",
    "\n",
    "This is simple notebook displaying some of the learning task specific visualisation functionalities available in aeon.\n",
    "\n",
    "This is in-progress, and does not contain detailed descriptions and documentation yet."
   ],
   "metadata": {
    "collapsed": false
   },
   "id": "f8b6a3a90da2cea7"
  },
  {
   "cell_type": "code",
   "outputs": [],
   "source": [
    "from aeon.datasets import load_airline\n",
    "\n",
    "airline = load_airline()"
   ],
   "metadata": {
    "collapsed": false
   },
   "id": "46abb028f2ff78da"
  },
  {
   "cell_type": "markdown",
   "source": [
    "## Forecasting"
   ],
   "metadata": {
    "collapsed": false
   },
   "id": "3cd90576d36a186c"
  },
  {
   "cell_type": "code",
   "outputs": [],
   "source": [
    "from aeon.forecasting.model_selection import SlidingWindowSplitter\n",
    "from aeon.visualisation import plot_series_windows"
   ],
   "metadata": {
    "collapsed": false
   },
   "id": "5c2fbda61a9871a3"
  },
  {
   "cell_type": "code",
   "execution_count": null,
   "id": "initial_id",
   "metadata": {
    "collapsed": true
   },
   "outputs": [],
   "source": [
    "fh = list(range(1, 13))\n",
    "_ = plot_series_windows(\n",
    "    airline, SlidingWindowSplitter(fh=fh, window_length=60, step_length=len(fh))\n",
    ")"
   ]
  },
  {
   "cell_type": "markdown",
   "source": [
    "## Segmentation"
   ],
   "metadata": {
    "collapsed": false
   },
   "id": "a9ed5b9d52252c82"
  },
  {
   "cell_type": "code",
   "outputs": [],
   "source": [
    "from aeon.visualisation import plot_series_with_change_points"
   ],
   "metadata": {
    "collapsed": false
   },
   "id": "413d8a53642b1e0"
  },
  {
   "cell_type": "code",
   "outputs": [],
   "source": [
    "_ = plot_series_with_change_points(airline, [20, 50, 70])"
   ],
   "metadata": {
    "collapsed": false
   },
   "id": "6a23323763ee62a3"
  }
 ],
 "metadata": {
  "kernelspec": {
   "display_name": "Python 3",
   "language": "python",
   "name": "python3"
  },
  "language_info": {
   "codemirror_mode": {
    "name": "ipython",
    "version": 2
   },
   "file_extension": ".py",
   "mimetype": "text/x-python",
   "name": "python",
   "nbconvert_exporter": "python",
   "pygments_lexer": "ipython2",
   "version": "2.7.6"
  }
 },
 "nbformat": 4,
 "nbformat_minor": 5
}
