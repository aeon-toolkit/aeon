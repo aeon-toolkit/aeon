{
 "cells": [
  {
   "attachments": {},
   "cell_type": "markdown",
   "id": "dcbe2174-a691-4093-ab80-d796edb5121d",
   "metadata": {},
   "source": []
  },
  {
   "cell_type": "code",
   "execution_count": 19,
   "id": "d1779970-eefb-4577-9c4e-e0a19ceadcc1",
   "metadata": {},
   "outputs": [
    {
     "data": {
      "text/plain": "((40, 6, 100), (40, 6, 100))"
     },
     "execution_count": 19,
     "metadata": {},
     "output_type": "execute_result"
    }
   ],
   "source": [
    "import warnings\n",
    "\n",
    "warnings.filterwarnings(\"ignore\")\n",
    "from sklearn.linear_model import RidgeClassifierCV\n",
    "from sklearn.pipeline import make_pipeline\n",
    "\n",
    "from aeon.datasets import load_basic_motions\n",
    "from aeon.transformations.panel import channel_selection\n",
    "from aeon.transformations.panel.rocket import Rocket\n",
    "\n",
    "X_train, y_train = load_basic_motions(split=\"train\")\n",
    "X_test, y_test = load_basic_motions(split=\"test\")\n",
    "X_train.shape, X_test.shape"
   ]
  },
  {
   "cell_type": "markdown",
   "id": "0437ca7a-5b5a-4e28-b565-0b2df4eac60d",
   "metadata": {},
   "source": [
    "## 1 Channel Selection in a Pipeline\n",
    "\n",
    "``ElbowClassPairwise`` and ``ElbowClassSum`` are aeon transformers, so can be used in\n",
    " a pipeline with other transformers and suitable classifiers."
   ]
  },
  {
   "cell_type": "code",
   "execution_count": 15,
   "id": "830137a3-10c3-49b9-9a98-7062dc7ab1d8",
   "metadata": {},
   "outputs": [],
   "source": [
    "# cs = channel_selection.ElbowClassSum()  # ECS\n",
    "cs = channel_selection.ElbowClassPairwise(prototype_type=\"mad\")  # ECP\n",
    "rocket_pipeline = make_pipeline(cs, Rocket(), RidgeClassifierCV())"
   ]
  },
  {
   "cell_type": "code",
   "execution_count": 16,
   "outputs": [
    {
     "data": {
      "text/plain": "1.0"
     },
     "execution_count": 16,
     "metadata": {},
     "output_type": "execute_result"
    }
   ],
   "source": [
    "rocket_pipeline.fit(X_train, y_train)\n",
    "rocket_pipeline.score(X_test, y_test)"
   ],
   "metadata": {
    "collapsed": false
   }
  },
  {
   "cell_type": "markdown",
   "id": "d18ac8bc-a83a-4dd7-b577-aefc25d7bed6",
   "metadata": {},
   "source": [
    "## 4 Identify channels selected\n",
    "We can recover the selected channels from the transformer, and recover the centroids\n",
    "uses in the selection process. We can of course do this directly from the transform"
   ]
  },
  {
   "cell_type": "code",
   "execution_count": 17,
   "id": "35a44d68-7bce-44b0-baf3-e4f11606001c",
   "metadata": {},
   "outputs": [
    {
     "data": {
      "text/plain": "[0, 1]"
     },
     "execution_count": 17,
     "metadata": {},
     "output_type": "execute_result"
    }
   ],
   "source": [
    "X_selected = cs.fit(X_train, y_train)\n",
    "cs.channels_selected_idx"
   ]
  },
  {
   "cell_type": "code",
   "execution_count": 18,
   "outputs": [
    {
     "data": {
      "text/plain": "   Centroid_badminton_running  Centroid_badminton_standing  \\\n0                   72.883920                    37.486167   \n1                   82.974076                    19.586588   \n2                   21.381712                    18.196532   \n3                   11.289843                     9.402970   \n4                    8.140510                     6.623146   \n5                   29.041896                     9.025905   \n\n   Centroid_badminton_walking  Centroid_running_standing  \\\n0                   32.843063                  95.139594   \n1                   28.068407                  87.661718   \n2                   17.131596                  26.885354   \n3                    9.932407                   7.750558   \n4                    6.877631                   6.112858   \n5                   12.876751                  27.785727   \n\n   Centroid_running_walking  Centroid_standing_walking  \n0                 89.360656                   9.786164  \n1                 89.326726                  21.778564  \n2                 24.524588                   4.834320  \n3                  8.613671                   3.744539  \n4                  6.304372                   1.546983  \n5                 28.527294                   9.650223  ",
      "text/html": "<div>\n<style scoped>\n    .dataframe tbody tr th:only-of-type {\n        vertical-align: middle;\n    }\n\n    .dataframe tbody tr th {\n        vertical-align: top;\n    }\n\n    .dataframe thead th {\n        text-align: right;\n    }\n</style>\n<table border=\"1\" class=\"dataframe\">\n  <thead>\n    <tr style=\"text-align: right;\">\n      <th></th>\n      <th>Centroid_badminton_running</th>\n      <th>Centroid_badminton_standing</th>\n      <th>Centroid_badminton_walking</th>\n      <th>Centroid_running_standing</th>\n      <th>Centroid_running_walking</th>\n      <th>Centroid_standing_walking</th>\n    </tr>\n  </thead>\n  <tbody>\n    <tr>\n      <th>0</th>\n      <td>72.883920</td>\n      <td>37.486167</td>\n      <td>32.843063</td>\n      <td>95.139594</td>\n      <td>89.360656</td>\n      <td>9.786164</td>\n    </tr>\n    <tr>\n      <th>1</th>\n      <td>82.974076</td>\n      <td>19.586588</td>\n      <td>28.068407</td>\n      <td>87.661718</td>\n      <td>89.326726</td>\n      <td>21.778564</td>\n    </tr>\n    <tr>\n      <th>2</th>\n      <td>21.381712</td>\n      <td>18.196532</td>\n      <td>17.131596</td>\n      <td>26.885354</td>\n      <td>24.524588</td>\n      <td>4.834320</td>\n    </tr>\n    <tr>\n      <th>3</th>\n      <td>11.289843</td>\n      <td>9.402970</td>\n      <td>9.932407</td>\n      <td>7.750558</td>\n      <td>8.613671</td>\n      <td>3.744539</td>\n    </tr>\n    <tr>\n      <th>4</th>\n      <td>8.140510</td>\n      <td>6.623146</td>\n      <td>6.877631</td>\n      <td>6.112858</td>\n      <td>6.304372</td>\n      <td>1.546983</td>\n    </tr>\n    <tr>\n      <th>5</th>\n      <td>29.041896</td>\n      <td>9.025905</td>\n      <td>12.876751</td>\n      <td>27.785727</td>\n      <td>28.527294</td>\n      <td>9.650223</td>\n    </tr>\n  </tbody>\n</table>\n</div>"
     },
     "execution_count": 18,
     "metadata": {},
     "output_type": "execute_result"
    }
   ],
   "source": [
    "cs.distance_frame"
   ],
   "metadata": {
    "collapsed": false
   }
  },
  {
   "cell_type": "code",
   "execution_count": null,
   "outputs": [],
   "source": [],
   "metadata": {
    "collapsed": false
   }
  }
 ],
 "metadata": {
  "kernelspec": {
   "display_name": "scikit-time",
   "language": "python",
   "name": "python3"
  },
  "language_info": {
   "codemirror_mode": {
    "name": "ipython",
    "version": 3
   },
   "file_extension": ".py",
   "mimetype": "text/x-python",
   "name": "python",
   "nbconvert_exporter": "python",
   "pygments_lexer": "ipython3",
   "version": "3.8.10"
  },
  "vscode": {
   "interpreter": {
    "hash": "04fbf2253f801b9d5f79ca2a9215a392f8b9939aef93f798bf18c76a1d7818db"
   }
  }
 },
 "nbformat": 4,
 "nbformat_minor": 5
}
