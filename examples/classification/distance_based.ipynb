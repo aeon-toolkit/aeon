{
 "cells": [
  {
   "cell_type": "markdown",
   "metadata": {},
   "source": [
    "# Distance based time series classification in aeon\n",
    "\n",
    "Distance based classifiers use a time series specific distance function to measure the\n",
    "similarity between time series. Time series distance functions are\n",
    "often called elastic distances, since they compensate for possible misalignment\n",
    "between series by shifting or editing the series.\n",
    "\n",
    "Dynamic time warping is the best known elastic distance measure. This image\n",
    "demonstrates how a warping path is found between two series\n",
    "<img src=\"./img/dtw.png\" width=\"400\" alt=\"A visualisation of dynamic time warping\">\n",
    "\n",
    "We have a range of elastic distance functions in the distances module. Please see the\n",
    " distances notebook for more information. Distance functions have been mostly used\n",
    " with a nearest neighbour (NN) classifier."
   ]
  },
  {
   "cell_type": "markdown",
   "metadata": {},
   "source": [
    "## Load data and list distance based classifiers"
   ]
  },
  {
   "cell_type": "code",
   "execution_count": 2,
   "metadata": {
    "execution": {
     "iopub.execute_input": "2020-12-19T14:30:11.686582Z",
     "iopub.status.busy": "2020-12-19T14:30:11.686095Z",
     "iopub.status.idle": "2020-12-19T14:30:12.406787Z",
     "shell.execute_reply": "2020-12-19T14:30:12.407326Z"
    }
   },
   "outputs": [
    {
     "name": "stdout",
     "output_type": "stream",
     "text": [
      "(67, 1) (67,) (50, 1) (50,)\n",
      "(20, 6) (20,) (20, 6) (20,)\n"
     ]
    }
   ],
   "source": [
    "from sktime.datasets import load_basic_motions, load_italy_power_demand\n",
    "\n",
    "X_train, y_train = load_italy_power_demand(split=\"train\", return_X_y=True)\n",
    "X_test, y_test = load_italy_power_demand(split=\"test\", return_X_y=True)\n",
    "X_test = X_test[:50]\n",
    "y_test = y_test[:50]\n",
    "\n",
    "print(X_train.shape, y_train.shape, X_test.shape, y_test.shape)\n",
    "\n",
    "X_train_mv, y_train_mv = load_basic_motions(split=\"train\", return_X_y=True)\n",
    "X_test_mv, y_test_mv = load_basic_motions(split=\"test\", return_X_y=True)\n",
    "\n",
    "X_train_mv = X_train_mv[:20]\n",
    "y_train_mv = y_train_mv[:20]\n",
    "X_test_mv = X_test_mv[:20]\n",
    "y_test_mv = y_test_mv[:20]\n",
    "\n",
    "print(X_train_mv.shape, y_train_mv.shape, X_test_mv.shape, y_test_mv.shape)"
   ]
  },
  {
   "cell_type": "markdown",
   "source": [
    "## Distance based classifiers\n",
    "\n",
    "We have a range of distance based"
   ],
   "metadata": {
    "collapsed": false
   }
  },
  {
   "cell_type": "code",
   "execution_count": 3,
   "outputs": [
    {
     "data": {
      "text/plain": "[('ElasticEnsemble',\n  sktime.classification.distance_based._elastic_ensemble.ElasticEnsemble),\n ('MatrixProfileClassifier',\n  sktime.classification.feature_based._matrix_profile_classifier.MatrixProfileClassifier),\n ('ShapeDTW', sktime.classification.distance_based._shape_dtw.ShapeDTW)]"
     },
     "execution_count": 3,
     "metadata": {},
     "output_type": "execute_result"
    }
   ],
   "source": [
    "from sktime.registry import all_estimators\n",
    "\n",
    "# search for all classifiers that can handle multivariate time series. This will\n",
    "# give some UserWarnings if soft dependencies are not installed.\n",
    "all_estimators(\n",
    "    filter_tags={\"classifier_type\": \"distance\"}, estimator_types=\"classifier\"\n",
    ")"
   ],
   "metadata": {
    "collapsed": false
   }
  },
  {
   "cell_type": "markdown",
   "source": [
    "\n",
    "\n"
   ],
   "metadata": {
    "collapsed": false
   }
  },
  {
   "cell_type": "code",
   "execution_count": null,
   "outputs": [],
   "source": [
    "from sktime.classification.distance_based import (\n",
    "    ElasticEnsemble,\n",
    "    KNeighborsTimeSeriesClassifier,\n",
    "    ShapeDTW,\n",
    ")\n",
    "\n",
    "shape = ShapeDTW()\n",
    "ee = ElasticEnsemble()"
   ],
   "metadata": {
    "collapsed": false
   }
  },
  {
   "cell_type": "markdown",
   "source": [
    "## K-NN\n",
    "k-NN is often called a lazy classifier, because there is little work done in\n",
    "the fit operation. The fit operation simply stores the training data. When we want to\n",
    "make a prediction for a new time series, k-NN measures the distance between the new\n",
    "time series and all the series in the training data and records the class of the\n",
    "closest k train series. The class labels of these nearest neighbours are used to make\n",
    " a prediction: if they are all the same label, then that is the prediction. If they\n",
    " differ, then some form of voting mechanism is required. For example, we may predict\n",
    " the most common class label amongst the nearest neighbours for the test instance.\n",
    "\n",
    "KNeighborsTimeSeriesClassifier in aeon is configurable to use any of the distances\n",
    "functions in the distance module, or it can be passed a bespoke callable. You can set\n",
    " the number of neighbours and the weights. Weights are used in the prediction\n",
    " process when neightbours differ in class values. By default all neighbours have an\n",
    " equal vote. There is an option to weight by distance, meaning closer neighbours have\n",
    "  more weight in the vote."
   ],
   "metadata": {
    "collapsed": false
   }
  },
  {
   "cell_type": "code",
   "execution_count": null,
   "outputs": [],
   "source": [
    "knn = KNeighborsTimeSeriesClassifier(distance=\"msm\", n_neighbors=3, weights=\"distance\")\n"
   ],
   "metadata": {
    "collapsed": false
   }
  },
  {
   "cell_type": "markdown",
   "source": [
    "## Elastic Ensemble\n"
   ],
   "metadata": {
    "collapsed": false
   }
  },
  {
   "cell_type": "code",
   "execution_count": null,
   "outputs": [],
   "source": [],
   "metadata": {
    "collapsed": false
   }
  },
  {
   "cell_type": "markdown",
   "source": [
    "## References\n",
    "\n"
   ],
   "metadata": {
    "collapsed": false
   }
  }
 ],
 "metadata": {
  "kernelspec": {
   "display_name": "Python 3",
   "language": "python",
   "name": "python3"
  },
  "language_info": {
   "codemirror_mode": {
    "name": "ipython",
    "version": 3
   },
   "file_extension": ".py",
   "mimetype": "text/x-python",
   "name": "python",
   "nbconvert_exporter": "python",
   "pygments_lexer": "ipython3",
   "version": "3.7.8"
  }
 },
 "nbformat": 4,
 "nbformat_minor": 2
}
