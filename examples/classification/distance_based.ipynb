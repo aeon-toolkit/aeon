{
 "cells": [
  {
   "cell_type": "markdown",
   "metadata": {},
   "source": [
    "# Distance based time series classification in aeon\n",
    "\n",
    "\\emph{Distance based} classifiers use a distance function to measure the similarity\n",
    "between time series. Aeon provides a range of time series specific distance measures\n",
    "in the distances module (see LINK distances notebook).\n",
    "\n",
    "\n",
    "\n",
    "\n",
    "## 1. Imports"
   ]
  },
  {
   "cell_type": "code",
   "execution_count": 1,
   "metadata": {
    "execution": {
     "iopub.execute_input": "2020-12-19T14:30:10.723956Z",
     "iopub.status.busy": "2020-12-19T14:30:10.723432Z",
     "iopub.status.idle": "2020-12-19T14:30:11.681151Z",
     "shell.execute_reply": "2020-12-19T14:30:11.681692Z"
    }
   },
   "outputs": [],
   "source": [
    "from sktime.datasets import load_basic_motions, load_italy_power_demand"
   ]
  },
  {
   "cell_type": "markdown",
   "metadata": {},
   "source": [
    "## 2. Load data"
   ]
  },
  {
   "cell_type": "code",
   "execution_count": 2,
   "metadata": {
    "execution": {
     "iopub.execute_input": "2020-12-19T14:30:11.686582Z",
     "iopub.status.busy": "2020-12-19T14:30:11.686095Z",
     "iopub.status.idle": "2020-12-19T14:30:12.406787Z",
     "shell.execute_reply": "2020-12-19T14:30:12.407326Z"
    }
   },
   "outputs": [
    {
     "name": "stdout",
     "output_type": "stream",
     "text": [
      "(67, 1) (67,) (50, 1) (50,)\n",
      "(20, 6) (20,) (20, 6) (20,)\n"
     ]
    }
   ],
   "source": [
    "X_train, y_train = load_italy_power_demand(split=\"train\", return_X_y=True)\n",
    "X_test, y_test = load_italy_power_demand(split=\"test\", return_X_y=True)\n",
    "X_test = X_test[:50]\n",
    "y_test = y_test[:50]\n",
    "\n",
    "print(X_train.shape, y_train.shape, X_test.shape, y_test.shape)\n",
    "\n",
    "X_train_mv, y_train_mv = load_basic_motions(split=\"train\", return_X_y=True)\n",
    "X_test_mv, y_test_mv = load_basic_motions(split=\"test\", return_X_y=True)\n",
    "\n",
    "X_train_mv = X_train_mv[:20]\n",
    "y_train_mv = y_train_mv[:20]\n",
    "X_test_mv = X_test_mv[:20]\n",
    "y_test_mv = y_test_mv[:20]\n",
    "\n",
    "print(X_train_mv.shape, y_train_mv.shape, X_test_mv.shape, y_test_mv.shape)"
   ]
  }
 ],
 "metadata": {
  "kernelspec": {
   "display_name": "Python 3",
   "language": "python",
   "name": "python3"
  },
  "language_info": {
   "codemirror_mode": {
    "name": "ipython",
    "version": 3
   },
   "file_extension": ".py",
   "mimetype": "text/x-python",
   "name": "python",
   "nbconvert_exporter": "python",
   "pygments_lexer": "ipython3",
   "version": "3.7.8"
  }
 },
 "nbformat": 4,
 "nbformat_minor": 2
}
