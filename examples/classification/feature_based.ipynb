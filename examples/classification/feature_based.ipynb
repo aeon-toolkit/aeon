{
 "cells": [
  {
   "cell_type": "code",
   "execution_count": null,
   "outputs": [],
   "source": [],
   "metadata": {
    "collapsed": false
   }
  },
  {
   "cell_type": "markdown",
   "source": [
    "# Feature based time series classification in aeon\n",
    "\n",
    "Feature based classifiers are a popular recent theme in TSC. The feature\n",
    "based classifiers we provide are simply pipelines of transform and classifier. They\n",
    "extract descriptive statistics as features from time series to be used in\n",
    "classifiers. Several tool-kits exist for extracting features.\n",
    "\n",
    "\n",
    "## Imports and Load Data"
   ],
   "metadata": {
    "collapsed": false
   }
  },
  {
   "cell_type": "code",
   "execution_count": 2,
   "outputs": [
    {
     "name": "stdout",
     "output_type": "stream",
     "text": [
      "(67, 1, 24) (67,) (50, 1, 24) (50,)\n",
      "(20, 6, 100) (20,) (20, 6, 100) (20,)\n"
     ]
    }
   ],
   "source": [
    "from sktime.datasets import load_basic_motions, load_italy_power_demand\n",
    "\n",
    "X_train, y_train = load_italy_power_demand(split=\"train\")\n",
    "X_test, y_test = load_italy_power_demand(split=\"test\")\n",
    "X_test = X_test[:50]\n",
    "y_test = y_test[:50]\n",
    "\n",
    "print(X_train.shape, y_train.shape, X_test.shape, y_test.shape)\n",
    "\n",
    "X_train_mv, y_train_mv = load_basic_motions(split=\"train\")\n",
    "X_test_mv, y_test_mv = load_basic_motions(split=\"test\")\n",
    "\n",
    "X_train_mv = X_train_mv[:20]\n",
    "y_train_mv = y_train_mv[:20]\n",
    "X_test_mv = X_test_mv[:20]\n",
    "y_test_mv = y_test_mv[:20]\n",
    "\n",
    "print(X_train_mv.shape, y_train_mv.shape, X_test_mv.shape, y_test_mv.shape)"
   ],
   "metadata": {
    "collapsed": false
   }
  }
 ],
 "metadata": {
  "kernelspec": {
   "display_name": "Python 3",
   "language": "python",
   "name": "python3"
  },
  "language_info": {
   "codemirror_mode": {
    "name": "ipython",
    "version": 3
   },
   "file_extension": ".py",
   "mimetype": "text/x-python",
   "name": "python",
   "nbconvert_exporter": "python",
   "pygments_lexer": "ipython3",
   "version": "3.7.8"
  }
 },
 "nbformat": 4,
 "nbformat_minor": 2
}
