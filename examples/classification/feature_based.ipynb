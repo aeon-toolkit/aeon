{
 "cells": [
  {
   "cell_type": "markdown",
   "metadata": {
    "collapsed": false
   },
   "source": [
    "# Feature based time series classification in aeon\n",
    "\n",
    "Feature based classifiers are a popular recent theme in TSC. The feature\n",
    "based classifiers we provide are simply pipelines of transform and classifier. They\n",
    "extract descriptive statistics as features from time series to be used in\n",
    "classifiers. Several tool-kits exist for extracting features.\n",
    "\n",
    "\n",
    "<img src=\"./img/pipeline.png\" width=\"800\" alt=\"Pipeline classifier.\">\n",
    "\n",
    "\n",
    "## Imports and Load Data"
   ]
  },
  {
   "cell_type": "code",
   "execution_count": 5,
   "metadata": {
    "collapsed": false
   },
   "outputs": [
    {
     "data": {
      "text/plain": [
       "[('Catch22Classifier',\n",
       "  aeon.classification.feature_based._catch22_classifier.Catch22Classifier),\n",
       " ('FreshPRINCE', aeon.classification.feature_based._fresh_prince.FreshPRINCE),\n",
       " ('SignatureClassifier',\n",
       "  aeon.classification.feature_based._signature_classifier.SignatureClassifier),\n",
       " ('SummaryClassifier',\n",
       "  aeon.classification.feature_based._summary_classifier.SummaryClassifier),\n",
       " ('TSFreshClassifier',\n",
       "  aeon.classification.feature_based._tsfresh_classifier.TSFreshClassifier)]"
      ]
     },
     "execution_count": 5,
     "metadata": {},
     "output_type": "execute_result"
    }
   ],
   "source": [
    "import warnings\n",
    "\n",
    "from sklearn import metrics\n",
    "\n",
    "from aeon.classification.feature_based import Catch22Classifier, FreshPRINCEClassifier\n",
    "from aeon.datasets import load_basic_motions, load_italy_power_demand\n",
    "from aeon.registry import all_estimators\n",
    "from aeon.transformations.panel.catch22 import Catch22\n",
    "\n",
    "warnings.filterwarnings(\"ignore\")\n",
    "\n",
    "X_train, y_train = load_italy_power_demand(split=\"train\")\n",
    "X_test, y_test = load_italy_power_demand(split=\"test\")\n",
    "X_test = X_test[:50]\n",
    "y_test = y_test[:50]\n",
    "\n",
    "print(X_train.shape, y_train.shape, X_test.shape, y_test.shape)\n",
    "\n",
    "X_train_mv, y_train_mv = load_basic_motions(split=\"train\")\n",
    "X_test_mv, y_test_mv = load_basic_motions(split=\"test\")\n",
    "\n",
    "X_train_mv = X_train_mv[:20]\n",
    "y_train_mv = y_train_mv[:20]\n",
    "X_test_mv = X_test_mv[:20]\n",
    "y_test_mv = y_test_mv[:20]\n",
    "\n",
    "print(X_train_mv.shape, y_train_mv.shape, X_test_mv.shape, y_test_mv.shape)\n",
    "all_estimators(\"classifier\", filter_tags={\"algorithm_type\": \"feature\"})"
   ]
  },
  {
   "cell_type": "markdown",
   "metadata": {
    "collapsed": false
   },
   "source": [
    "### Catch22 and the Catch22Classifier\n",
    "\n",
    "The highly comparative time-series analysis (hctsa) [1] toolbox can create over 7700\n",
    "features for exploratory time series analysis. The canonical time series\n",
    "characteristics (catch22) [2] are 22 hctsa features determined to be the most\n",
    "discriminatory of the full  set. The catch22 were chosen by an evaluation on the UCR\n",
    "datasets. The hctsa features were initially pruned, removing those which are\n",
    "sensitive to mean and variance and any which could not be calculated on over 80\\% of\n",
    "the UCR  datasets. A feature evaluation was then performed based on predictive\n",
    "performance. Any features which performed below a threshold were removed. For the\n",
    "remaining features, a hierarchical clustering was performed on the correlation matrix\n",
    " to remove redundancy. From each of the 22 clusters formed, a single feature was\n",
    " selected, taking into account balanced accuracy, computational efficiency and\n",
    " interpretability. The catch22 features cover a wide range of concepts such as basic\n",
    " statistics of data series values, linear correlations, and entropy. Reported results\n",
    "  for catch22 build a decision tree classifier after applying the transform to each\n",
    "  data series.\n",
    "\n",
    "The Catch22Classifier is simply a convenient wrapper for a pipelin of a Catch22\n",
    "transformation and a sklearn random forest classifier by default."
   ]
  },
  {
   "cell_type": "code",
   "execution_count": 6,
   "metadata": {
    "collapsed": false
   },
   "outputs": [
    {
     "data": {
      "text/html": [
       "<div>\n",
       "<style scoped>\n",
       "    .dataframe tbody tr th:only-of-type {\n",
       "        vertical-align: middle;\n",
       "    }\n",
       "\n",
       "    .dataframe tbody tr th {\n",
       "        vertical-align: top;\n",
       "    }\n",
       "\n",
       "    .dataframe thead th {\n",
       "        text-align: right;\n",
       "    }\n",
       "</style>\n",
       "<table border=\"1\" class=\"dataframe\">\n",
       "  <thead>\n",
       "    <tr style=\"text-align: right;\">\n",
       "      <th></th>\n",
       "      <th>0</th>\n",
       "      <th>1</th>\n",
       "      <th>2</th>\n",
       "      <th>3</th>\n",
       "      <th>4</th>\n",
       "      <th>5</th>\n",
       "      <th>6</th>\n",
       "      <th>7</th>\n",
       "      <th>8</th>\n",
       "      <th>9</th>\n",
       "      <th>...</th>\n",
       "      <th>12</th>\n",
       "      <th>13</th>\n",
       "      <th>14</th>\n",
       "      <th>15</th>\n",
       "      <th>16</th>\n",
       "      <th>17</th>\n",
       "      <th>18</th>\n",
       "      <th>19</th>\n",
       "      <th>20</th>\n",
       "      <th>21</th>\n",
       "    </tr>\n",
       "  </thead>\n",
       "  <tbody>\n",
       "    <tr>\n",
       "      <th>0</th>\n",
       "      <td>1.158630</td>\n",
       "      <td>-0.217227</td>\n",
       "      <td>8.0</td>\n",
       "      <td>0.291667</td>\n",
       "      <td>-0.625000</td>\n",
       "      <td>3.0</td>\n",
       "      <td>6.0</td>\n",
       "      <td>0.468052</td>\n",
       "      <td>0.589049</td>\n",
       "      <td>0.836755</td>\n",
       "      <td>...</td>\n",
       "      <td>3.0</td>\n",
       "      <td>1.000000</td>\n",
       "      <td>5.0</td>\n",
       "      <td>1.778748</td>\n",
       "      <td>0.750000</td>\n",
       "      <td>0.240598</td>\n",
       "      <td>NaN</td>\n",
       "      <td>NaN</td>\n",
       "      <td>0.040000</td>\n",
       "      <td>0.0</td>\n",
       "    </tr>\n",
       "    <tr>\n",
       "      <th>1</th>\n",
       "      <td>0.918162</td>\n",
       "      <td>-0.214762</td>\n",
       "      <td>15.0</td>\n",
       "      <td>0.208333</td>\n",
       "      <td>-0.666667</td>\n",
       "      <td>4.0</td>\n",
       "      <td>8.0</td>\n",
       "      <td>0.702775</td>\n",
       "      <td>0.196350</td>\n",
       "      <td>0.666160</td>\n",
       "      <td>...</td>\n",
       "      <td>4.0</td>\n",
       "      <td>0.869565</td>\n",
       "      <td>5.0</td>\n",
       "      <td>1.730238</td>\n",
       "      <td>0.500000</td>\n",
       "      <td>0.388217</td>\n",
       "      <td>NaN</td>\n",
       "      <td>NaN</td>\n",
       "      <td>0.111111</td>\n",
       "      <td>0.0</td>\n",
       "    </tr>\n",
       "    <tr>\n",
       "      <th>2</th>\n",
       "      <td>-0.273180</td>\n",
       "      <td>-0.085856</td>\n",
       "      <td>4.0</td>\n",
       "      <td>0.875000</td>\n",
       "      <td>0.250000</td>\n",
       "      <td>2.0</td>\n",
       "      <td>5.0</td>\n",
       "      <td>0.310567</td>\n",
       "      <td>0.589049</td>\n",
       "      <td>0.865073</td>\n",
       "      <td>...</td>\n",
       "      <td>2.0</td>\n",
       "      <td>0.913043</td>\n",
       "      <td>5.0</td>\n",
       "      <td>1.836012</td>\n",
       "      <td>0.666667</td>\n",
       "      <td>0.089104</td>\n",
       "      <td>NaN</td>\n",
       "      <td>NaN</td>\n",
       "      <td>0.034014</td>\n",
       "      <td>0.0</td>\n",
       "    </tr>\n",
       "    <tr>\n",
       "      <th>3</th>\n",
       "      <td>0.048411</td>\n",
       "      <td>-0.450080</td>\n",
       "      <td>13.0</td>\n",
       "      <td>0.166667</td>\n",
       "      <td>-0.625000</td>\n",
       "      <td>4.0</td>\n",
       "      <td>10.0</td>\n",
       "      <td>0.804047</td>\n",
       "      <td>0.196350</td>\n",
       "      <td>0.648309</td>\n",
       "      <td>...</td>\n",
       "      <td>4.0</td>\n",
       "      <td>0.869565</td>\n",
       "      <td>6.0</td>\n",
       "      <td>1.605420</td>\n",
       "      <td>0.666667</td>\n",
       "      <td>0.332436</td>\n",
       "      <td>NaN</td>\n",
       "      <td>NaN</td>\n",
       "      <td>0.111111</td>\n",
       "      <td>0.0</td>\n",
       "    </tr>\n",
       "    <tr>\n",
       "      <th>4</th>\n",
       "      <td>0.426379</td>\n",
       "      <td>0.572566</td>\n",
       "      <td>16.0</td>\n",
       "      <td>0.291667</td>\n",
       "      <td>-0.666667</td>\n",
       "      <td>4.0</td>\n",
       "      <td>7.0</td>\n",
       "      <td>0.675485</td>\n",
       "      <td>0.196350</td>\n",
       "      <td>0.657946</td>\n",
       "      <td>...</td>\n",
       "      <td>4.0</td>\n",
       "      <td>0.913043</td>\n",
       "      <td>6.0</td>\n",
       "      <td>1.730238</td>\n",
       "      <td>0.500000</td>\n",
       "      <td>0.318405</td>\n",
       "      <td>NaN</td>\n",
       "      <td>NaN</td>\n",
       "      <td>0.111111</td>\n",
       "      <td>0.0</td>\n",
       "    </tr>\n",
       "  </tbody>\n",
       "</table>\n",
       "<p>5 rows × 22 columns</p>\n",
       "</div>"
      ],
      "text/plain": [
       "         0         1     2         3         4    5     6         7   \\\n",
       "0  1.158630 -0.217227   8.0  0.291667 -0.625000  3.0   6.0  0.468052   \n",
       "1  0.918162 -0.214762  15.0  0.208333 -0.666667  4.0   8.0  0.702775   \n",
       "2 -0.273180 -0.085856   4.0  0.875000  0.250000  2.0   5.0  0.310567   \n",
       "3  0.048411 -0.450080  13.0  0.166667 -0.625000  4.0  10.0  0.804047   \n",
       "4  0.426379  0.572566  16.0  0.291667 -0.666667  4.0   7.0  0.675485   \n",
       "\n",
       "         8         9   ...   12        13   14        15        16        17  \\\n",
       "0  0.589049  0.836755  ...  3.0  1.000000  5.0  1.778748  0.750000  0.240598   \n",
       "1  0.196350  0.666160  ...  4.0  0.869565  5.0  1.730238  0.500000  0.388217   \n",
       "2  0.589049  0.865073  ...  2.0  0.913043  5.0  1.836012  0.666667  0.089104   \n",
       "3  0.196350  0.648309  ...  4.0  0.869565  6.0  1.605420  0.666667  0.332436   \n",
       "4  0.196350  0.657946  ...  4.0  0.913043  6.0  1.730238  0.500000  0.318405   \n",
       "\n",
       "   18  19        20   21  \n",
       "0 NaN NaN  0.040000  0.0  \n",
       "1 NaN NaN  0.111111  0.0  \n",
       "2 NaN NaN  0.034014  0.0  \n",
       "3 NaN NaN  0.111111  0.0  \n",
       "4 NaN NaN  0.111111  0.0  \n",
       "\n",
       "[5 rows x 22 columns]"
      ]
     },
     "execution_count": 6,
     "metadata": {},
     "output_type": "execute_result"
    }
   ],
   "source": [
    "c22 = Catch22()\n",
    "x_trans = c22.fit_transform(X_train)\n",
    "x_trans.head()"
   ]
  },
  {
   "cell_type": "markdown",
   "metadata": {
    "collapsed": false
   },
   "source": []
  },
  {
   "cell_type": "code",
   "execution_count": 7,
   "metadata": {
    "collapsed": false
   },
   "outputs": [
    {
     "data": {
      "text/plain": [
       "0.9"
      ]
     },
     "execution_count": 7,
     "metadata": {},
     "output_type": "execute_result"
    }
   ],
   "source": [
    "c22cls = Catch22Classifier()\n",
    "c22cls.fit(X_train, y_train)\n",
    "c22_preds = c22cls.predict(X_test)\n",
    "metrics.accuracy_score(y_test, c22_preds)"
   ]
  },
  {
   "attachments": {},
   "cell_type": "markdown",
   "metadata": {
    "collapsed": false
   },
   "source": [
    "### TSFresh and the FreshPRINCEClassifier\n",
    "\n",
    "Time Series Feature Extraction based on Scalable Hypothesis Tests (TSFresh) is a\n",
    "collection of just under 800 features extracted from time series. An extensive\n",
    "comparison of feature based pipelines [3] found that TSFresh followed by a rotation\n",
    "forest classifier [4] was significantly more accurate than other combinations. This\n",
    "pipeline is hard coded into an aeon classifier called the FreshPRINCEClassifier."
   ]
  },
  {
   "cell_type": "code",
   "execution_count": 8,
   "metadata": {
    "collapsed": false
   },
   "outputs": [
    {
     "data": {
      "text/plain": [
       "0.9"
      ]
     },
     "execution_count": 8,
     "metadata": {},
     "output_type": "execute_result"
    }
   ],
   "source": [
    "fp = FreshPRINCEClassifier()\n",
    "fp.fit(X_train, y_train)\n",
    "fp_preds = c22cls.predict(X_test)\n",
    "metrics.accuracy_score(y_test, fp_preds)"
   ]
  },
  {
   "cell_type": "markdown",
   "metadata": {
    "collapsed": false
   },
   "source": [
    "### Signatures and the SignatureClassifier\n",
    "\n",
    "Generalised signatures are a set of feature extraction techniques primarily for\n",
    "multivariate time series based on rough path theory. We specifically look at the\n",
    "generalised signature method [5] and the accompanying canonical signature pipeline.\n",
    "Signatures are collections of ordered cross-moments. The pipeline begins by applying\n",
    "two augmentations by default. The basepoint\n",
    "augmentation simply adds a zero at the beginning of the time series, making the\n",
    "signature sensitive to translations of the time series. The time augmentation adds\n",
    "the series timestamps as an extra coordinate to guarantee each signature is unique\n",
    "and obtain information about the parameterisation of the time series. A hierarchical\n",
    "dyadic window is run over the series, with the signature transform being applied to\n",
    "each window. The output for each window is then concatenated into a feature vector.\n",
    "Signatures requires the installation of the soft dependency esig."
   ]
  },
  {
   "cell_type": "markdown",
   "metadata": {
    "collapsed": false
   },
   "source": [
    "### Comparing performance: coming soon"
   ]
  },
  {
   "cell_type": "markdown",
   "metadata": {
    "collapsed": false
   },
   "source": [
    "## References\n",
    "\n",
    "[1]htsc repo https://github.com/benfulcher/hctsa\n",
    "[2] Christ,  et al.  (2018) \"Time series feature extraction on basis of scalable\n",
    "hypothesis tests (tsfresh–a python package).\" Neurocomputing 307: 72-77.\n",
    "        https://www.sciencedirect.com/science/article/pii/S0925231218304843\n",
    "[3] Midddlehurst and Bagnall (2022) \"The FreshPRINCE: A Simple Transformation Based\n",
    "Pipeline Time Series Classifier\" https://arxiv.org/abs/2201.12048\n",
    "[4] Rodriguez et al. (2006) \"Rotation Forest: A New Classifier Ensemble Method\" IEEE\n",
    "Transactions on Pattern Analysis and Machine Intelligence, 28(10): 1619--1630.\n",
    "[5] Morrill et al. (2020) \"A generalised signature method for multivariate time series\n",
    "feature extraction\" https://arxiv.org/abs/2006.00873\n",
    "\n",
    "\n"
   ]
  }
 ],
 "metadata": {
  "kernelspec": {
   "display_name": "Python 3",
   "language": "python",
   "name": "python3"
  },
  "language_info": {
   "codemirror_mode": {
    "name": "ipython",
    "version": 3
   },
   "file_extension": ".py",
   "mimetype": "text/x-python",
   "name": "python",
   "nbconvert_exporter": "python",
   "pygments_lexer": "ipython3",
   "version": "3.7.8"
  }
 },
 "nbformat": 4,
 "nbformat_minor": 2
}
