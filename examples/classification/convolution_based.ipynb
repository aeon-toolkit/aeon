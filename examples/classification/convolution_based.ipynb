{
 "cells": [
  {
   "cell_type": "markdown",
   "metadata": {
    "collapsed": false,
    "jupyter": {
     "outputs_hidden": false
    }
   },
   "source": [
    "# Convolution based time series classification in aeon\n",
    "\n",
    "This notebook is a high level introduction to using and configuring convolution based\n",
    "classifiers in aeon. Convolution based classifiers are based on the ROCKET transform\n",
    "[1] and the subsequent extensions MiniROCKET [2], MultiROCKET [3], HYDRA [4] \n",
    "a combination of ROCKET and HYDRA. These\n",
    "transforms can be used in pipelines, but we provide convolution based classifiers\n",
    " based on ROCKET variants for ease of use and reproducibility. These are the \n",
    " RocketClassifier, MiniRocketClassifier, MultiRocketClassifier, MultiRocketHydraClassifier [4] and an ensemble of \n",
    "ROCKET classifiers called the Arsenal. The RocketClassifier \n",
    " combines the ROCKET transform with a scikit-learn RidgeClassifierCV classifier, while \n",
    " Hydra and MultiRocketHydra further extend this approach by enhancing feature \n",
    " extraction and handling multiple feature maps more effectively.The term\n",
    " convolution and kernel are  used interchangably in this notebook. A convolution is a\n",
    "  subseries that is used to create features for a time series. To do this, a\n",
    "  convolution is run along a series, and the dot product is calculated. This creates a\n",
    "   new series (often called an activation map or feature map) where large values\n",
    "   correspond to a close correlation to the convolution.\n",
    "\n",
    "<img src=\"./img/convolution.png\" width=\"600\" alt=\"Windowing.\">\n",
    "\n",
    "ROCKET computes two features from the resulting feature maps: the maximum value\n",
    "(sometimes called a max pooling operation), and the proportion of positive values (or\n",
    " ppv). In the above example the first entry of the activation map is the result of a\n",
    " dot-product between $T_{1:3} * \\omega = T_{1:3} \\cdot \\omega = 0 + 0 + 3 = 3$. Max\n",
    " pooling extracts the maximum from the activation map as feature. The proportion of\n",
    " positive values (PPV) is $8 / 11$ in this example.\n",
    "\n",
    "A large number of random convolutions are generated, and the two features are\n",
    "combined to produce a transformed train data set. This is used to train a linear\n",
    "classifier. [1] reccomend a RIDGE Regression Classifier using cross-validation to\n",
    "train the $L_2$-regularisation parameter $\\alpha$. A logistic regression classifier\n",
    "is suggested as a replacement for larger datasets.\n",
    "<img src=\"./img/rocket2.png\" width=\"600\" alt=\"ROCKET.\">\n",
    "\n",
    "ROCKET employs dilation. Dilation is a form of down sampling, in that it defines\n",
    "spaces between time points. Hence, a convolution with dilation $d$ is compared to\n",
    "time points $d$ steps apart when calculating the distance."
   ]
  },
  {
   "cell_type": "code",
   "execution_count": 1,
   "metadata": {
    "collapsed": false,
    "jupyter": {
     "outputs_hidden": false
    }
   },
   "outputs": [
    {
     "data": {
      "text/plain": [
       "[('Arsenal', aeon.classification.convolution_based._arsenal.Arsenal),\n",
       " ('HydraClassifier',\n",
       "  aeon.classification.convolution_based._hydra.HydraClassifier),\n",
       " ('MiniRocketClassifier',\n",
       "  aeon.classification.convolution_based._minirocket.MiniRocketClassifier),\n",
       " ('MultiRocketClassifier',\n",
       "  aeon.classification.convolution_based._multirocket.MultiRocketClassifier),\n",
       " ('MultiRocketHydraClassifier',\n",
       "  aeon.classification.convolution_based._mr_hydra.MultiRocketHydraClassifier),\n",
       " ('RocketClassifier',\n",
       "  aeon.classification.convolution_based._rocket.RocketClassifier)]"
      ]
     },
     "execution_count": 1,
     "metadata": {},
     "output_type": "execute_result"
    }
   ],
   "source": [
    "import warnings\n",
    "\n",
    "from aeon.utils.discovery import all_estimators\n",
    "\n",
    "warnings.filterwarnings(\"ignore\")\n",
    "all_estimators(\"classifier\", tag_filter={\"algorithm_type\": \"convolution\"})"
   ]
  },
  {
   "cell_type": "code",
   "execution_count": 2,
   "metadata": {
    "collapsed": false,
    "jupyter": {
     "outputs_hidden": false
    }
   },
   "outputs": [
    {
     "data": {
      "text/plain": [
       "(67, 1, 24)"
      ]
     },
     "execution_count": 2,
     "metadata": {},
     "output_type": "execute_result"
    }
   ],
   "source": [
    "from sklearn.metrics import accuracy_score\n",
    "\n",
    "from aeon.classification.convolution_based import (\n",
    "    Arsenal,\n",
    "    HydraClassifier,\n",
    "    MiniRocketClassifier,\n",
    "    MultiRocketClassifier,\n",
    "    MultiRocketHydraClassifier,\n",
    "    RocketClassifier,\n",
    ")\n",
    "from aeon.datasets import load_basic_motions  # multivariate dataset\n",
    "from aeon.datasets import load_italy_power_demand  # univariate dataset\n",
    "\n",
    "italy, italy_labels = load_italy_power_demand(split=\"train\")\n",
    "italy_test, italy_test_labels = load_italy_power_demand(split=\"test\")\n",
    "motions, motions_labels = load_basic_motions(split=\"train\")\n",
    "motions_test, motions_test_labels = load_basic_motions(split=\"test\")\n",
    "italy.shape"
   ]
  },
  {
   "cell_type": "markdown",
   "metadata": {
    "collapsed": false,
    "jupyter": {
     "outputs_hidden": false
    }
   },
   "source": [
    "The ROCKET transform compiles on import via ``numba``, which may take a few seconds. \n",
    "``RocketClassifier`` does not produce estimates of class probabilities. Because of this, \n",
    "the Arsenal was developed to use with the HIVE-COTE meta-ensemble (in the hybrid \n",
    "package). The Arsenal is an\n",
    "ensemble of ``RocketClassifier`` estimators that is no more accurate than \n",
    "``RocketClassifier``, but gives better probability estimates.\n",
    "\n",
    "<img src=\"./img/rocket.png\" width=\"600\" alt=\"Rocket overview.\">\n"
   ]
  },
  {
   "cell_type": "code",
   "execution_count": 3,
   "metadata": {
    "collapsed": false,
    "jupyter": {
     "outputs_hidden": false
    }
   },
   "outputs": [
    {
     "data": {
      "text/plain": [
       "0.9708454810495627"
      ]
     },
     "execution_count": 3,
     "metadata": {},
     "output_type": "execute_result"
    }
   ],
   "source": [
    "rocket = RocketClassifier()\n",
    "rocket.fit(italy, italy_labels)\n",
    "y_pred = rocket.predict(italy_test)\n",
    "accuracy_score(italy_test_labels, y_pred)"
   ]
  },
  {
   "cell_type": "code",
   "execution_count": 4,
   "metadata": {
    "collapsed": false,
    "jupyter": {
     "outputs_hidden": false
    }
   },
   "outputs": [
    {
     "data": {
      "text/plain": [
       "0.967930029154519"
      ]
     },
     "execution_count": 4,
     "metadata": {},
     "output_type": "execute_result"
    }
   ],
   "source": [
    "afc = Arsenal()\n",
    "afc.fit(italy, italy_labels)\n",
    "y_pred = afc.predict(italy_test)\n",
    "accuracy_score(italy_test_labels, y_pred)"
   ]
  },
  {
   "cell_type": "markdown",
   "metadata": {
    "collapsed": false,
    "jupyter": {
     "outputs_hidden": false
    }
   },
   "source": [
    "The ``MiniRocketClassifier`` [2] uses the ``MiniRocket`` transform a fast version of \n",
    "``Rocket`` that uses hard coded convolutions and only uses PPV. MultiROCKET [3] \n",
    "adds three new pooling operations extracted from each\n",
    " kernel: mean of positive values (MPV), mean of indices of positive values (MIPV) and\n",
    "  longest stretch of positive values (LSPV). ``MultiRocket`` generates a total of 50k\n",
    "  features from 10k kernels and 5 pooling operations. It also extracts features from\n",
    "  first order differences. There are separate classifiers for ``MiniRocket`` and\n",
    "  ``MultiRocket``. The ``Arsenal`` can be configured to use\n",
    "  the ``MiniRocket`` or ``MultiRocket`` by setting the ``rocket_transform`` parameter to\n",
    "  \"minirocket\" or \"multirocket\". Both work on multivariate series."
   ]
  },
  {
   "cell_type": "code",
   "execution_count": 5,
   "metadata": {
    "collapsed": false,
    "jupyter": {
     "outputs_hidden": false
    }
   },
   "outputs": [
    {
     "data": {
      "text/plain": [
       "0.9698736637512148"
      ]
     },
     "execution_count": 5,
     "metadata": {},
     "output_type": "execute_result"
    }
   ],
   "source": [
    "multi_arsenal = Arsenal(rocket_transform=\"multirocket\")\n",
    "multi_arsenal.fit(italy, italy_labels)\n",
    "y_pred = multi_arsenal.predict(italy_test)\n",
    "accuracy_score(italy_test_labels, y_pred)"
   ]
  },
  {
   "cell_type": "code",
   "execution_count": 6,
   "metadata": {
    "collapsed": false,
    "jupyter": {
     "outputs_hidden": false
    }
   },
   "outputs": [
    {
     "name": "stdout",
     "output_type": "stream",
     "text": [
      " mini acc = 1.0\n",
      " multi acc = 1.0\n"
     ]
    }
   ],
   "source": [
    "mini_r = MiniRocketClassifier(num_kernels=100)\n",
    "multi_r = MultiRocketClassifier(num_kernels=100)\n",
    "mini_r.fit(motions, motions_labels)\n",
    "y_pred = mini_r.predict(motions_test)\n",
    "print(\" mini acc =\", accuracy_score(motions_test_labels, y_pred))\n",
    "multi_r.fit(motions, motions_labels)\n",
    "y_pred = multi_r.predict(motions_test)\n",
    "print(\" multi acc =\", accuracy_score(motions_test_labels, y_pred))"
   ]
  },
  {
   "cell_type": "markdown",
   "metadata": {},
   "source": [
    "The HYDRA transform [4] (for HYbrid Dictionary-Rocket Architecture) is a dictionary \n",
    "method for time series classification using competing convolutional kernels, incorporating aspects \n",
    "of both Rocket and conventional dictionary methods. Hydra involves transforming \n",
    "the input time series using a set of random convolutional kernels, arranged into `g`\n",
    "groups with `k` kernels per group, and then at each timepoint counting the kernels \n",
    "representing the closest match with the input time series for each group."
   ]
  },
  {
   "cell_type": "code",
   "execution_count": 7,
   "metadata": {},
   "outputs": [
    {
     "data": {
      "text/plain": [
       "0.966958211856171"
      ]
     },
     "execution_count": 7,
     "metadata": {},
     "output_type": "execute_result"
    }
   ],
   "source": [
    "hydra_clf = HydraClassifier()\n",
    "hydra_clf.fit(italy, italy_labels)\n",
    "y_pred = hydra_clf.predict(italy_test)\n",
    "accuracy_score(italy_test_labels, y_pred)"
   ]
  },
  {
   "cell_type": "markdown",
   "metadata": {},
   "source": [
    "``MultiRocketHydra`` concatenates the results of the ``Hydra`` and ``MultiRocket`` \n",
    "transform and trains RidgeClassifierCV on the combined features."
   ]
  },
  {
   "cell_type": "code",
   "execution_count": 8,
   "metadata": {},
   "outputs": [
    {
     "data": {
      "text/plain": [
       "0.9689018464528668"
      ]
     },
     "execution_count": 8,
     "metadata": {},
     "output_type": "execute_result"
    }
   ],
   "source": [
    "mr_hydra = MultiRocketHydraClassifier()\n",
    "mr_hydra.fit(italy, italy_labels)\n",
    "y_pred = mr_hydra.predict(italy_test)\n",
    "accuracy_score(italy_test_labels, y_pred)"
   ]
  },
  {
   "cell_type": "markdown",
   "metadata": {
    "collapsed": false,
    "jupyter": {
     "outputs_hidden": false
    }
   },
   "source": [
    "Convolutional classifiers have three other parameters that may affect performance.\n",
    "`num_kernels` (default 10,000) determines the number of convolutions/kernels generated\n",
    " and will influence the memory usage. `max_dilations_per_kernel` (default=32) and\n",
    "`n_features_per_kernel` (default=4) are used in 'MiniROCKET' and 'MultiROCKET'. For\n",
    "each candidate convolution, `max_dilations_per_kernel` are assessed and\n",
    "`n_features_per_kernel` are retained.\n"
   ]
  },
  {
   "cell_type": "markdown",
   "metadata": {
    "collapsed": false,
    "jupyter": {
     "outputs_hidden": false
    }
   },
   "source": [
    "## Performance on the UCR univariate datasets\n",
    "\n",
    "You can find the convolution based classifiers as follows"
   ]
  },
  {
   "cell_type": "code",
   "execution_count": 9,
   "metadata": {
    "collapsed": false,
    "jupyter": {
     "outputs_hidden": false
    }
   },
   "outputs": [
    {
     "name": "stdout",
     "output_type": "stream",
     "text": [
      "('Arsenal', <class 'aeon.classification.convolution_based._arsenal.Arsenal'>)\n",
      "('HydraClassifier', <class 'aeon.classification.convolution_based._hydra.HydraClassifier'>)\n",
      "('MiniRocketClassifier', <class 'aeon.classification.convolution_based._minirocket.MiniRocketClassifier'>)\n",
      "('MultiRocketClassifier', <class 'aeon.classification.convolution_based._multirocket.MultiRocketClassifier'>)\n",
      "('MultiRocketHydraClassifier', <class 'aeon.classification.convolution_based._mr_hydra.MultiRocketHydraClassifier'>)\n",
      "('RocketClassifier', <class 'aeon.classification.convolution_based._rocket.RocketClassifier'>)\n"
     ]
    }
   ],
   "source": [
    "from aeon.utils.discovery import all_estimators\n",
    "\n",
    "est = all_estimators(\"classifier\", tag_filter={\"algorithm_type\": \"convolution\"})\n",
    "for c in est:\n",
    "    print(c)"
   ]
  },
  {
   "cell_type": "markdown",
   "metadata": {
    "collapsed": false,
    "jupyter": {
     "outputs_hidden": false
    }
   },
   "source": [
    "We can recover the results and compare the classifier performance as follows:\n"
   ]
  },
  {
   "cell_type": "code",
   "execution_count": 10,
   "metadata": {
    "collapsed": false,
    "jupyter": {
     "outputs_hidden": false
    }
   },
   "outputs": [
    {
     "data": {
      "text/plain": [
       "(112, 7)"
      ]
     },
     "execution_count": 10,
     "metadata": {},
     "output_type": "execute_result"
    }
   ],
   "source": [
    "from aeon.benchmarking.results_loaders import get_estimator_results_as_array\n",
    "from aeon.datasets.tsc_datasets import univariate\n",
    "\n",
    "names = [t[0].replace(\"Classifier\", \"\") for t in est]\n",
    "names.append(\"MiniROCKET\")  # Alternatve configuration of the RocketClassifier\n",
    "results, present_names = get_estimator_results_as_array(\n",
    "    names, univariate, include_missing=False\n",
    ")\n",
    "results.shape"
   ]
  },
  {
   "cell_type": "code",
   "execution_count": 11,
   "metadata": {
    "collapsed": false,
    "jupyter": {
     "outputs_hidden": false
    }
   },
   "outputs": [
    {
     "data": {
      "text/plain": [
       "(<Figure size 600x260 with 1 Axes>, <Axes: >)"
      ]
     },
     "execution_count": 11,
     "metadata": {},
     "output_type": "execute_result"
    },
    {
     "data": {
      "image/png": "[encoded data removed]",
      "text/plain": [
       "<Figure size 600x260 with 1 Axes>"
      ]
     },
     "metadata": {},
     "output_type": "display_data"
    }
   ],
   "source": [
    "from aeon.visualisation import plot_boxplot, plot_critical_difference\n",
    "\n",
    "plot_critical_difference(results, names)"
   ]
  },
  {
   "cell_type": "code",
   "execution_count": 12,
   "metadata": {
    "collapsed": false,
    "jupyter": {
     "outputs_hidden": false
    }
   },
   "outputs": [
    {
     "data": {
      "text/plain": [
       "(<Figure size 1000x600 with 1 Axes>, <Axes: >)"
      ]
     },
     "execution_count": 12,
     "metadata": {},
     "output_type": "execute_result"
    },
    {
     "data": {
      "image/png": "[encoded data removed]",
      "text/plain": [
       "<Figure size 1000x600 with 1 Axes>"
      ]
     },
     "metadata": {},
     "output_type": "display_data"
    }
   ],
   "source": [
    "plot_boxplot(results, names, relative=True)"
   ]
  },
  {
   "cell_type": "markdown",
   "metadata": {
    "collapsed": false,
    "jupyter": {
     "outputs_hidden": false
    }
   },
   "source": [
    "## References\n",
    "\n",
    "[1] Dempster A, Petitjean F and Webb GI (2019) ROCKET: Exceptionally fast\n",
    "and accurate time series classification using random convolutional kernels.\n",
    "[arXiv:1910.13051](https://arxiv.org/abs/1910.13051),\n",
    "[Journal Paper](https://link.springer.com/article/10.1007/s10618-020-00701-z)\n",
    "\n",
    "[2]  Dempster A, Schmidt D and Webb G (2021) MINIROCKET: A Very Fast (Almost)\n",
    "Deterministic Transform for Time Series Classification\n",
    "[arXiv:2012.08791](https://arxiv.org/abs/2012.08791)\n",
    "[Conference Paper](https://dl.acm.org/doi/abs/10.1145/3447548.3467231)\n",
    "\n",
    "[3] Cahng Wei T, Dempster A, Bergmeir C and Webb G (2022) MultiRocket: multiple pooling\n",
    "operators and transformations for fast and effective time series classification\n",
    "[Journal Paper](https://link.springer.com/article/10.1007/s10618-022-00844-1)\n",
    "\n",
    "[4] Dempster, A., Schmidt, D.F. and Webb, G.I. (2023) Hydra: Competing convolutional \n",
    "kernels for fast and accurate time series classification.\n",
    "[arXiv:2203.13652](https://arxiv.org/abs/2203.13652),\n",
    "[Journal Paper](https://link.springer.com/article/10.1007/s10618-023-00939-3)\n"
   ]
  },
  {
   "cell_type": "code",
   "execution_count": null,
   "metadata": {
    "collapsed": false,
    "jupyter": {
     "outputs_hidden": false
    }
   },
   "outputs": [],
   "source": []
  }
 ],
 "metadata": {
  "kernelspec": {
   "display_name": "Python 3 (ipykernel)",
   "language": "python",
   "name": "python3"
  },
  "language_info": {
   "codemirror_mode": {
    "name": "ipython",
    "version": 3
   },
   "file_extension": ".py",
   "mimetype": "text/x-python",
   "name": "python",
   "nbconvert_exporter": "python",
   "pygments_lexer": "ipython3",
   "version": "3.11.10"
  }
 },
 "nbformat": 4,
 "nbformat_minor": 4
}
