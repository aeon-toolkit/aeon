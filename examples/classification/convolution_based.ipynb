{
 "cells": [
  {
   "cell_type": "markdown",
   "source": [
    "# Convolution base classification\n",
    "\n",
    "Convolution based classifiers are based on The ROCKET transform [1] and the\n",
    "subsequent extensions MiniROCKET [2] and MultiROCKET [3]. These transforms can be\n",
    "used in pipelines, but we provide two convolution based classifiers based on Rocket\n",
    "for ease of use and reproducability. The RocketClassifier combines the transform with\n",
    " a scikitlearn RidgeClassifierCV classifier.  Ther term convolution and kernel are\n",
    " used interchangably in this work."
   ],
   "metadata": {
    "collapsed": false
   }
  },
  {
   "cell_type": "code",
   "execution_count": 5,
   "outputs": [
    {
     "data": {
      "text/plain": "[('Arsenal', sktime.classification.convolution_based._arsenal.Arsenal),\n ('RocketClassifier',\n  sktime.classification.convolution_based._rocket_classifier.RocketClassifier)]"
     },
     "execution_count": 5,
     "metadata": {},
     "output_type": "execute_result"
    }
   ],
   "source": [
    "from sktime.registry import all_estimators\n",
    "\n",
    "# search for all classifiers of type \"kernel\". This will give some\n",
    "# UserWarnings if soft dependencies are not installed.\n",
    "all_estimators(filter_tags={\"classifier_type\": \"kernel\"}, estimator_types=\"classifier\")"
   ],
   "metadata": {
    "collapsed": false
   }
  },
  {
   "cell_type": "code",
   "execution_count": 9,
   "outputs": [
    {
     "data": {
      "text/plain": "(67, 1, 24)"
     },
     "execution_count": 9,
     "metadata": {},
     "output_type": "execute_result"
    }
   ],
   "source": [
    "from sklearn.metrics import accuracy_score\n",
    "\n",
    "from sktime.classification.convolution_based import Arsenal, RocketClassifier\n",
    "from sktime.datasets import load_basic_motions  # multivariate dataset\n",
    "from sktime.datasets import load_italy_power_demand  # univariate dataset\n",
    "\n",
    "italy, italy_labels = load_italy_power_demand(split=\"train\")\n",
    "italy_test, italy_test_labels = load_italy_power_demand(split=\"test\")\n",
    "motions, motions_labels = load_basic_motions(split=\"train\")\n",
    "motions_test, motions_test_labels = load_basic_motions(split=\"train\")\n",
    "italy.shape"
   ],
   "metadata": {
    "collapsed": false
   }
  },
  {
   "cell_type": "markdown",
   "source": [
    "ROCKET [1] is a transformation that uses random convolutional kernels (random length,\n",
    "weights, bias, dilation, and padding). ROCKET computes two features from the\n",
    "resulting feature maps: the max, and the proportion of positive values (or ppv). The\n",
    "transformed features are used to train a linear classifier. ROCKET compiles (via\n",
    "Numba) on import, which may take a few seconds. This\n",
    "notebook is a high level introduction to using and configuring convolution based\n",
    "classifiers. Details on the algorithm are given in the related [transformation\n",
    "notebook]().\n"
   ],
   "metadata": {
    "collapsed": false
   }
  },
  {
   "cell_type": "code",
   "execution_count": 18,
   "outputs": [
    {
     "data": {
      "text/plain": "0.9689018464528668"
     },
     "execution_count": 18,
     "metadata": {},
     "output_type": "execute_result"
    }
   ],
   "source": [
    "rocket = RocketClassifier()\n",
    "rocket.fit(italy, italy_labels)\n",
    "y_pred = rocket.predict(italy_test)\n",
    "accuracy_score(italy_test_labels, y_pred)"
   ],
   "metadata": {
    "collapsed": false
   }
  },
  {
   "cell_type": "code",
   "execution_count": 19,
   "outputs": [
    {
     "data": {
      "text/plain": "0.9698736637512148"
     },
     "execution_count": 19,
     "metadata": {},
     "output_type": "execute_result"
    }
   ],
   "source": [
    "afc = Arsenal()\n",
    "afc.fit(italy, italy_labels)\n",
    "y_pred = afc.predict(italy_test)\n",
    "accuracy_score(italy_test_labels, y_pred)"
   ],
   "metadata": {
    "collapsed": false
   }
  },
  {
   "cell_type": "markdown",
   "source": [
    "RocketClassifier and Arsenal can be configured to use MiniROCKET, MultiROCKET. Simply\n",
    " set with rocket_transform as \"minirocket\" or \"multirocket\". Both work on multivariate"
   ],
   "metadata": {
    "collapsed": false
   }
  },
  {
   "cell_type": "code",
   "execution_count": 17,
   "outputs": [
    {
     "data": {
      "text/plain": "0.9698736637512148"
     },
     "execution_count": 15,
     "metadata": {},
     "output_type": "execute_result"
    },
    {
     "data": {
      "text/plain": "0.9708454810495627"
     },
     "execution_count": 16,
     "metadata": {},
     "output_type": "execute_result"
    },
    {
     "data": {
      "text/plain": "0.9708454810495627"
     },
     "execution_count": 17,
     "metadata": {},
     "output_type": "execute_result"
    }
   ],
   "source": [
    "multi_r = Arsenal(rocket_transform=\"multirocket\")\n",
    "multi_r.fit(italy, italy_labels)\n",
    "y_pred = multi_r.predict(italy_test)\n",
    "accuracy_score(italy_test_labels, y_pred)"
   ],
   "metadata": {
    "collapsed": false
   }
  },
  {
   "cell_type": "code",
   "execution_count": 14,
   "outputs": [
    {
     "data": {
      "text/plain": "1.0"
     },
     "execution_count": 14,
     "metadata": {},
     "output_type": "execute_result"
    }
   ],
   "source": [
    "mini_r = RocketClassifier(rocket_transform=\"minirocket\")\n",
    "mini_r.fit(motions, motions_labels)\n",
    "y_pred = mini_r.predict(motions_test)\n",
    "accuracy_score(motions_test_labels, y_pred)"
   ],
   "metadata": {
    "collapsed": false
   }
  },
  {
   "cell_type": "markdown",
   "source": [
    "RocketClassifier has three other parameters that may effect performance.\n",
    "`num_kernels` (default 10,000) determines the number of convolutions/kernels generated\n",
    " and will influence the memory usage. `max_dilations_per_kernel` (default=32) and\n",
    "`n_features_per_kernel` (default=4) are used in 'MiniROCKET' and 'MultiROCKET. For\n",
    "each candidate convolution, `max_dilations_per_kernel` are assessed and\n",
    "`n_features_per_kernel` are retained.\n"
   ],
   "metadata": {
    "collapsed": false
   }
  },
  {
   "cell_type": "markdown",
   "source": [
    "## References\n",
    "\n",
    "[1] Dempster A, Petitjean F and Webb GI (2019) ROCKET: Exceptionally fast\n",
    "and accurate\n",
    "time series classification using random convolutional kernels. [arXiv:1910.13051]\n",
    "(https://arxiv.org/abs/1910.13051, [Journal Paper](https://link.springer.com/article/10\n",
    ".1007/s10618-020-00701-z)\n",
    "[2]  Dempster A, Schmidt D and Webb G (2021) MINIROCKET: A Very Fast (Almost)\n",
    "Deterministic Transform for Time Series Classification [arXiv:2012.08791](https://arxiv\n",
    ".org/abs/2012.08791) [Conference Paper](https://dl.acm.org/doi/abs/10.1145/3447548.3467231)\n",
    "[3] Cahng Wei T, Dempster A, Bergmeir C and Webb G (2022) MultiRocket: multiple pooling\n",
    "operators and transformations for fast and effective time series classification\n",
    "[Journal Paper](https://link.springer.com/article/10.1007/s10618-022-00844-1)\n"
   ],
   "metadata": {
    "collapsed": false
   }
  }
 ],
 "metadata": {
  "kernelspec": {
   "display_name": "Python 3",
   "language": "python",
   "name": "python3"
  },
  "language_info": {
   "codemirror_mode": {
    "name": "ipython",
    "version": 2
   },
   "file_extension": ".py",
   "mimetype": "text/x-python",
   "name": "python",
   "nbconvert_exporter": "python",
   "pygments_lexer": "ipython2",
   "version": "2.7.6"
  }
 },
 "nbformat": 4,
 "nbformat_minor": 0
}
