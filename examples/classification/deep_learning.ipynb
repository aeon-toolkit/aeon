{
 "cells": [
  {
   "cell_type": "markdown",
   "metadata": {},
   "source": [
    "# Deep learning based time series classification in aeon\n",
    "\n",
    "There are a range of deep learning based classification algorithms in the toolkit.\n",
    "The networks that are common to classification, regression and clustering are in the\n",
    "`networks` module. Our deep learning classifiers are based those used in deep\n",
    "learning bake off [1] and recent experimentation [2]. [3] provides an extensive recent\n",
    "review of related deep learning work."
   ]
  },
  {
   "cell_type": "markdown",
   "metadata": {},
   "source": [
    "\n",
    "A list of all deep learning classifiers"
   ]
  },
  {
   "cell_type": "code",
   "execution_count": 3,
   "metadata": {},
   "outputs": [
    {
     "data": {
      "text/plain": "[('CNNClassifier', aeon.classification.deep_learning.cnn.CNNClassifier),\n ('EncoderClassifier',\n  aeon.classification.deep_learning.encoder.EncoderClassifier),\n ('FCNClassifier', aeon.classification.deep_learning.fcn.FCNClassifier),\n ('IndividualInceptionClassifier',\n  aeon.classification.deep_learning.inception_time.IndividualInceptionClassifier),\n ('MLPClassifier', aeon.classification.deep_learning.mlp.MLPClassifier),\n ('ResNetClassifier',\n  aeon.classification.deep_learning.resnet.ResNetClassifier),\n ('TapNetClassifier',\n  aeon.classification.deep_learning.tapnet.TapNetClassifier)]"
     },
     "execution_count": 3,
     "metadata": {},
     "output_type": "execute_result"
    }
   ],
   "source": [
    "import warnings\n",
    "\n",
    "from aeon.registry import all_estimators\n",
    "\n",
    "warnings.filterwarnings(\"ignore\")\n",
    "all_estimators(\"classifier\", filter_tags={\"algorithm_type\": \"deeplearning\"})"
   ]
  },
  {
   "cell_type": "markdown",
   "source": [
    "he use case for deep learning classifiers is identical to that of all classifiers.\n",
    "However, you need to have tensorflow and tensorflow-probability installed in your\n",
    "environment. If you have a GPU correctly installed the classifiers should use them,\n",
    "although it is worth checking the output.\n"
   ],
   "metadata": {
    "collapsed": false
   }
  },
  {
   "cell_type": "markdown",
   "metadata": {},
   "source": []
  },
  {
   "cell_type": "code",
   "execution_count": 2,
   "metadata": {},
   "outputs": [
    {
     "data": {
      "text/plain": "(67, 1, 24)"
     },
     "execution_count": 2,
     "metadata": {},
     "output_type": "execute_result"
    }
   ],
   "source": [
    "from sklearn.metrics import accuracy_score\n",
    "\n",
    "from aeon.classification.deep_learning import CNNClassifier\n",
    "from aeon.datasets import load_basic_motions  # multivariate dataset\n",
    "from aeon.datasets import load_italy_power_demand  # univariate dataset\n",
    "\n",
    "italy, italy_labels = load_italy_power_demand(split=\"train\")\n",
    "italy_test, italy_test_labels = load_italy_power_demand(split=\"test\")\n",
    "motions, motions_labels = load_basic_motions(split=\"train\")\n",
    "motions_test, motions_test_labels = load_basic_motions(split=\"train\")\n",
    "cnn = CNNClassifier()\n",
    "cnn.fit(italy, italy_labels)\n",
    "y_pred = cnn.predict(italy_test)\n",
    "accuracy_score(italy_test_labels, y_pred)"
   ]
  },
  {
   "cell_type": "markdown",
   "source": [],
   "metadata": {
    "collapsed": false
   }
  },
  {
   "cell_type": "markdown",
   "source": [
    "### Classifier Details\n",
    "\n",
    "The deep learning bake off [1] found that the Residual Network (ResNet) was the best\n",
    "performing architecture for TSC. ResNet has the following network structure.\n",
    "\n",
    "\n",
    "<img src=\"./img/resnet.png\" width=\"600\" alt=\"ROCKET.\">\n",
    "\n",
    "The InceptionTime deep learning algorithm Subsequent to [1],\n",
    "InceptionTime is an ensemble of five SingleInceptionTime deep learning\n",
    "classifiers. Each base classifier shares the same architecture based on\n",
    "Inception modules. Diversity is achieved through randomly intialising weights.\n",
    "A SingleInceptionTimeClassifier has the following structure.\n",
    "\n",
    "<img src=\"./img/inception_module.png\" width=\"600\" alt=\"ROCKET.\">\n",
    "\n",
    "A SingleInceptionTimeClassifier is structured as follows.\n",
    "\n",
    "<img src=\"./img/inception.png\" width=\"600\" alt=\"ROCKET.\">"
   ],
   "metadata": {
    "collapsed": false
   }
  },
  {
   "cell_type": "markdown",
   "source": [
    "## References\n",
    "\n",
    "[1] Fawaz et al. (2019) \"Deep learning for time series classification: a review\" Data\n",
    " Mining and Knowledge Discovery. 33(4): 917-963\n",
    "[2] Fawaz et al. (2020) \"InceptionTime: finding AlexNet for time series classification.\n",
    "Data Mining and Knowledge Discovery. 34(6): 1936-1962\n",
    "[3] Foumani et al. (2023) \"Deep Learning for Time Series Classification and Extrinsic\n",
    "Regression: A Current Survey\" ArXiv https://arxiv.org/pdf/2302.02515.pdf\n",
    "[4]  https://github.com/MSD-IRIMAS/CF-4-TSC"
   ],
   "metadata": {
    "collapsed": false
   }
  },
  {
   "cell_type": "markdown",
   "source": [],
   "metadata": {
    "collapsed": false
   }
  }
 ],
 "metadata": {
  "file_extension": ".py",
  "kernelspec": {
   "display_name": "Python 3 (ipykernel)",
   "language": "python",
   "name": "python3"
  },
  "language_info": {
   "codemirror_mode": {
    "name": "ipython",
    "version": 3
   },
   "file_extension": ".py",
   "mimetype": "text/x-python",
   "name": "python",
   "nbconvert_exporter": "python",
   "pygments_lexer": "ipython3",
   "version": "3.7.5"
  },
  "mimetype": "text/x-python",
  "name": "python",
  "npconvert_exporter": "python",
  "pygments_lexer": "ipython3",
  "version": 3
 },
 "nbformat": 4,
 "nbformat_minor": 2
}
