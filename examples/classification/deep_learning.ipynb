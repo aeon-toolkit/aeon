{
 "cells": [
  {
   "cell_type": "markdown",
   "metadata": {},
   "source": [
    "# Deep learning based classification\n",
    "\n",
    "There are a range of deep learning based classification algorithms in the toolkit.\n",
    "The networks that are common to classification, regression and clustering are in the\n",
    "`networks` module."
   ]
  },
  {
   "cell_type": "markdown",
   "metadata": {},
   "source": [
    "\n",
    "A list of all deep learning classifiers"
   ]
  },
  {
   "cell_type": "code",
   "execution_count": 2,
   "metadata": {},
   "outputs": [
    {
     "name": "stderr",
     "output_type": "stream",
     "text": [
      "C:\\Code\\scikit-time\\sktime\\utils\\validation\\_dependencies.py:143: UserWarning: No module named 'pyod'. 'pyod' is a soft dependency and not included in the base sktime installation. Please run: `pip install pyod` to install the pyod package. To install all soft dependencies, run: `pip install sktime[all_extras]`\n",
      "  warnings.warn(msg)\n",
      "C:\\Code\\scikit-time\\sktime\\utils\\validation\\_dependencies.py:143: UserWarning: No module named 'hmmlearn'. 'hmmlearn.hmm' is a soft dependency and not included in the base sktime installation. Please run: `pip install hmmlearn.hmm` to install the hmmlearn.hmm package. To install all soft dependencies, run: `pip install sktime[all_extras]`\n",
      "  warnings.warn(msg)\n",
      "C:\\Code\\scikit-time\\sktime\\utils\\validation\\_dependencies.py:226: UserWarning: tensorflow and tensorflow-probability are required for deep learning and probabilistic functionality in `sktime`. To install these dependencies, run: `pip install sktime[dl]`\n",
      "  warnings.warn(msg)\n",
      "C:\\Code\\scikit-time\\sktime\\utils\\validation\\_dependencies.py:143: UserWarning: No module named 'keras_self_attention'. 'keras-self-attention' is a soft dependency and not included in the base sktime installation. Please run: `pip install keras-self-attention` to install the keras-self-attention package. To install all soft dependencies, run: `pip install sktime[all_extras]`\n",
      "  warnings.warn(msg)\n",
      "C:\\Code\\scikit-time\\sktime\\utils\\validation\\_dependencies.py:143: UserWarning: No module named 'tsfresh'. 'tsfresh' is a soft dependency and not included in the base sktime installation. Please run: `pip install tsfresh` to install the tsfresh package. To install all soft dependencies, run: `pip install sktime[all_extras]`\n",
      "  warnings.warn(msg)\n",
      "C:\\Code\\scikit-time\\sktime\\utils\\validation\\_dependencies.py:143: UserWarning: No module named 'esig'. 'esig' is a soft dependency and not included in the base sktime installation. Please run: `pip install esig` to install the esig package. To install all soft dependencies, run: `pip install sktime[all_extras]`\n",
      "  warnings.warn(msg)\n",
      "C:\\Code\\scikit-time\\sktime\\utils\\validation\\_dependencies.py:143: UserWarning: No module named 'tslearn'. 'tslearn' is a soft dependency and not included in the base sktime installation. Please run: `pip install tslearn` to install the tslearn package. To install all soft dependencies, run: `pip install sktime[all_extras]`\n",
      "  warnings.warn(msg)\n",
      "C:\\Code\\scikit-time\\sktime\\utils\\validation\\_dependencies.py:143: UserWarning: No module named 'pmdarima'. 'pmdarima' is a soft dependency and not included in the base sktime installation. Please run: `pip install pmdarima` to install the pmdarima package. To install all soft dependencies, run: `pip install sktime[all_extras]`\n",
      "  warnings.warn(msg)\n",
      "C:\\Code\\scikit-time\\sktime\\utils\\validation\\_dependencies.py:143: UserWarning: No module named 'tbats'. 'tbats' is a soft dependency and not included in the base sktime installation. Please run: `pip install tbats` to install the tbats package. To install all soft dependencies, run: `pip install sktime[all_extras]`\n",
      "  warnings.warn(msg)\n",
      "C:\\Code\\scikit-time\\sktime\\utils\\validation\\_dependencies.py:143: UserWarning: No module named 'prophet'. 'prophet' is a soft dependency and not included in the base sktime installation. Please run: `pip install prophet` to install the prophet package. To install all soft dependencies, run: `pip install sktime[all_extras]`\n",
      "  warnings.warn(msg)\n",
      "C:\\Code\\scikit-time\\sktime\\utils\\validation\\_dependencies.py:143: UserWarning: No module named 'statsforecast'. 'statsforecast' is a soft dependency and not included in the base sktime installation. Please run: `pip install statsforecast` to install the statsforecast package. To install all soft dependencies, run: `pip install sktime[all_extras]`\n",
      "  warnings.warn(msg)\n",
      "C:\\Code\\scikit-time\\sktime\\utils\\validation\\_dependencies.py:226: UserWarning: tensorflow and tensorflow-probability are required for deep learning and probabilistic functionality in `sktime`. To install these dependencies, run: `pip install sktime[dl]`\n",
      "  warnings.warn(msg)\n",
      "C:\\Code\\scikit-time\\sktime\\utils\\validation\\_dependencies.py:143: UserWarning: No module named 'pycatch22'. 'pycatch22' is a soft dependency and not included in the base sktime installation. Please run: `pip install pycatch22` to install the pycatch22 package. To install all soft dependencies, run: `pip install sktime[all_extras]`\n",
      "  warnings.warn(msg)\n",
      "C:\\Code\\scikit-time\\sktime\\utils\\validation\\_dependencies.py:143: UserWarning: No module named 'statsmodels'. 'statsmodels' is a soft dependency and not included in the base sktime installation. Please run: `pip install statsmodels` to install the statsmodels package. To install all soft dependencies, run: `pip install sktime[all_extras]`\n",
      "  warnings.warn(msg)\n",
      "C:\\Code\\scikit-time\\sktime\\utils\\validation\\_dependencies.py:143: UserWarning: No module named 'mne'. 'mne' is a soft dependency and not included in the base sktime installation. Please run: `pip install mne` to install the mne package. To install all soft dependencies, run: `pip install sktime[all_extras]`\n",
      "  warnings.warn(msg)\n",
      "C:\\Code\\scikit-time\\sktime\\utils\\validation\\_dependencies.py:143: UserWarning: No module named 'pykalman'. 'pykalman' is a soft dependency and not included in the base sktime installation. Please run: `pip install pykalman` to install the pykalman package. To install all soft dependencies, run: `pip install sktime[all_extras]`\n",
      "  warnings.warn(msg)\n",
      "C:\\Code\\scikit-time\\sktime\\utils\\validation\\_dependencies.py:143: UserWarning: No module named 'filterpy'. 'filterpy' is a soft dependency and not included in the base sktime installation. Please run: `pip install filterpy` to install the filterpy package. To install all soft dependencies, run: `pip install sktime[all_extras]`\n",
      "  warnings.warn(msg)\n",
      "C:\\Code\\scikit-time\\sktime\\utils\\validation\\_dependencies.py:143: UserWarning: No module named 'stumpy'. 'stumpy' is a soft dependency and not included in the base sktime installation. Please run: `pip install stumpy` to install the stumpy package. To install all soft dependencies, run: `pip install sktime[all_extras]`\n",
      "  warnings.warn(msg)\n"
     ]
    },
    {
     "data": {
      "text/plain": "[]"
     },
     "execution_count": 2,
     "metadata": {},
     "output_type": "execute_result"
    }
   ],
   "source": [
    "from sktime.registry import all_estimators\n",
    "\n",
    "# search for all classifiers of type \"deeplearning\". This will give\n",
    "# UserWarnings if soft dependencies are not installed.\n",
    "all_estimators(\n",
    "    filter_tags={\"classifier_type\": \"deeplearning\"}, estimator_types=\"classifier\"\n",
    ")"
   ]
  },
  {
   "cell_type": "markdown",
   "metadata": {},
   "source": []
  },
  {
   "cell_type": "code",
   "execution_count": 4,
   "metadata": {},
   "outputs": [
    {
     "data": {
      "text/plain": "(67, 1, 24)"
     },
     "execution_count": 4,
     "metadata": {},
     "output_type": "execute_result"
    }
   ],
   "source": [
    "from sklearn.metrics import accuracy_score\n",
    "from sktime.classification.deep_learning import CNNClassifier\n",
    "from sktime.datasets import load_basic_motions  # multivariate dataset\n",
    "from sktime.datasets import load_italy_power_demand  # univariate dataset\n",
    "\n",
    "italy, italy_labels = load_italy_power_demand(split=\"train\")\n",
    "italy_test, italy_test_labels = load_italy_power_demand(split=\"test\")\n",
    "motions, motions_labels = load_basic_motions(split=\"train\")\n",
    "motions_test, motions_test_labels = load_basic_motions(split=\"train\")\n",
    "italy.shape"
   ]
  },
  {
   "cell_type": "markdown",
   "source": [
    "The use case for deep learning classifiers is identical to that of all classifiers.\n",
    "However, you need to have tensorflow and tensorflow-probability installed in your\n",
    "environment. If you have a GPU correctly installed the classifiers should use them,\n",
    "although it is worth checking the output."
   ],
   "metadata": {
    "collapsed": false
   }
  },
  {
   "cell_type": "code",
   "execution_count": 6,
   "outputs": [
    {
     "name": "stderr",
     "output_type": "stream",
     "text": [
      "C:\\Code\\scikit-time\\venv\\lib\\site-packages\\sklearn\\preprocessing\\_encoders.py:828: FutureWarning: `sparse` was renamed to `sparse_output` in version 1.2 and will be removed in 1.4. `sparse_output` is ignored unless you leave `sparse` to its default value.\n",
      "  warnings.warn(\n"
     ]
    },
    {
     "data": {
      "text/plain": "0.9523809523809523"
     },
     "execution_count": 6,
     "metadata": {},
     "output_type": "execute_result"
    }
   ],
   "source": [
    "cnn = CNNClassifier()\n",
    "cnn.fit(italy, italy_labels)\n",
    "y_pred = cnn.predict(italy_test)\n",
    "accuracy_score(italy_test_labels, y_pred)"
   ],
   "metadata": {
    "collapsed": false
   }
  },
  {
   "cell_type": "markdown",
   "source": [],
   "metadata": {
    "collapsed": false
   }
  },
  {
   "cell_type": "markdown",
   "source": [
    "Something on parameters\n"
   ],
   "metadata": {
    "collapsed": false
   }
  },
  {
   "cell_type": "markdown",
   "source": [
    "## References\n",
    "\n",
    "Deep learning refs here"
   ],
   "metadata": {
    "collapsed": false
   }
  }
 ],
 "metadata": {
  "file_extension": ".py",
  "kernelspec": {
   "display_name": "Python 3 (ipykernel)",
   "language": "python",
   "name": "python3"
  },
  "language_info": {
   "codemirror_mode": {
    "name": "ipython",
    "version": 3
   },
   "file_extension": ".py",
   "mimetype": "text/x-python",
   "name": "python",
   "nbconvert_exporter": "python",
   "pygments_lexer": "ipython3",
   "version": "3.7.5"
  },
  "mimetype": "text/x-python",
  "name": "python",
  "npconvert_exporter": "python",
  "pygments_lexer": "ipython3",
  "version": 3
 },
 "nbformat": 4,
 "nbformat_minor": 2
}
