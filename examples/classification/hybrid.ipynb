{
 "cells": [
  {
   "cell_type": "markdown",
   "metadata": {},
   "source": [
    "# Hybrid time series classification in aeon\n",
    "\n",
    "The nature of the data and the problem dictate which category of algorithm is most appropriate. The most accurate algorithms on average, with no apriori knowledge of the best approach, combine multiple transformation types in a hybrid algorithm. We define a hybrid algorithm as one which by design encompasses or ensembles multiple of the discriminatory representations we have previously described. Some algorithms will naturally include multiple transformation characteristics, but are not classified as hybrid approaches. For example, many interval approaches extract unsupervised summary statistics from the intervals they select, but as the focus of the algorithm is on generating features from intervals we would not consider it a hybrid.\n"
   ]
  },
  {
   "cell_type": "code",
   "execution_count": 2,
   "metadata": {
    "execution": {
     "iopub.execute_input": "2020-12-19T14:32:05.919120Z",
     "iopub.status.busy": "2020-12-19T14:32:05.918629Z",
     "iopub.status.idle": "2020-12-19T14:32:06.041420Z",
     "shell.execute_reply": "2020-12-19T14:32:06.040742Z"
    }
   },
   "outputs": [
    {
     "name": "stdout",
     "output_type": "stream",
     "text": [
      "(67, 1, 24) (67,) (50, 1, 24) (50,)\n",
      "(40, 6, 100) (40,) (40, 6, 100) (40,)\n"
     ]
    }
   ],
   "source": [
    "from aeon.datasets import load_basic_motions, load_italy_power_demand\n",
    "\n",
    "X_train, y_train = load_italy_power_demand(split=\"train\")\n",
    "X_test, y_test = load_italy_power_demand(split=\"test\")\n",
    "X_test = X_test[:50]\n",
    "y_test = y_test[:50]\n",
    "\n",
    "print(X_train.shape, y_train.shape, X_test.shape, y_test.shape)\n",
    "\n",
    "X_train_mv, y_train_mv = load_basic_motions(split=\"train\")\n",
    "X_test_mv, y_test_mv = load_basic_motions(split=\"test\")\n",
    "\n",
    "print(X_train_mv.shape, y_train_mv.shape, X_test_mv.shape, y_test_mv.shape)"
   ]
  },
  {
   "cell_type": "markdown",
   "source": [
    "## The Hierarchical Vote Collective of Transformation Ensembles (HIVE-COTE)\n",
    "\n",
    "HIVE-COTE are a family of algorithms that have been consistently the most\n",
    "accurate approaches for TSC with the UCR data [1,2,3,4]. This first version of\n",
    "HIVE-COTE, subsequently called HIVE-COTE$_\\alpha$ (HC$_\\alpha$) [2], is a heterogeneous\n",
    "ensemble containing five modules each from a different representation: the Elastic\n",
    "Ensemble from the distance based representation; Time Series Forest from interval based\n",
    "methods; BOSS from dictionary based approaches, a version of the shapelet\n",
    "transform classifier, ST-HESCA, from shapelet based techniques and the spectral based\n",
    "RISE. The five modules are ensembled using the Cross-validation Accuracy Weighted\n",
    "Probabilistic Ensemble (CAWPE, known at the time as HESCA) [5]. CAWPE employs a tilted\n",
    "probability distribution using exponential weighing of probabilities estimated for\n",
    "each module found through cross-validation on the train data. The weighted\n",
    "probabilities from each module are summed and standardised to produce the HIVE-COTE\n",
    "probability prediction. HC$_\\alpha$ is not currently available in aeon, since it has\n",
    "been superseeded by later versions.\n"
   ],
   "metadata": {
    "collapsed": false
   }
  },
  {
   "cell_type": "markdown",
   "source": [
    "## HIVE-COTE 1 (HC1)\n",
    "\n",
    "Whilst state-of-the-art in terms of accuracy, HC$_\\alpha$ scales poorly. A range of\n",
    "improvements to make HIVE-COTE more usable were introduced in HIVE-COTE v1.0 (HC1) [3].\n",
    " HC1 has four modules: it drops the computationally intensive EE algorithm without\n",
    " loss of accuracy. BOSS is replaced by the more configurable cBOSS. The improved\n",
    " randomised version of STC is included with a default one hour shapelet search and\n",
    " the Rotation Forest classifier. TSF and RISE had usability improvements. HC1 is designed to be contractable, in that you can specify a maximum train time.\n",
    "\n",
    "HC1 is available in aeon, but is only usable for univariate equal length problems,\n",
    "and is not contractable, which makes it poor for small examples. We recommend using\n",
    "HIVE-COTE v2, the latest version.\n"
   ],
   "metadata": {
    "collapsed": false
   }
  },
  {
   "cell_type": "markdown",
   "source": [
    "## HIVE-COTE V2\n",
    "In 2021, HIVE-COTE was again updated to further address scalability issues and\n",
    "reflect recent innovations to individual TSC representations and HIVE-COTE v2.0 (HC2)\n",
    "[4] was proposed. In HC2, RISE, TSF and cBOSS are replaced,\n",
    "with only STC retained. TDE replaces cBOSS as the\n",
    "dictionary classifier. DrCIF replaces both TSF and RISE for the interval and\n",
    "frequency representations. An ensemble of ROCKET classifiers called the Arsenal is\n",
    "introduced as a new convolutional based approach. Estimation of test accuracy via\n",
    "cross-validation is replaced by an adapted form of out-of-bag error, although the\n",
    "final model is still built using all training data. Unlike previous versions, HC2 is\n",
    "capable of classifying multivariate time series. HC2 is not designed to work really\n",
    "quickly with small problems\n",
    "\n",
    "<img src=\"./img/hc2.png\" width=\"700\" alt=\"HC2.\">\n"
   ],
   "metadata": {
    "collapsed": false
   }
  },
  {
   "cell_type": "code",
   "execution_count": 4,
   "outputs": [
    {
     "data": {
      "text/plain": "1.0"
     },
     "execution_count": 4,
     "metadata": {},
     "output_type": "execute_result"
    }
   ],
   "source": [
    "from sklearn.metrics import accuracy_score\n",
    "\n",
    "from aeon.classification.hybrid import HIVECOTEV1, HIVECOTEV2\n",
    "\n",
    "hc1 = HIVECOTEV1()\n",
    "hc2 = HIVECOTEV2(time_limit_in_minutes=0.2)\n",
    "hc2.fit(X_train, y_train)\n",
    "y_pred = hc2.predict(X_test)\n",
    "accuracy_score(y_test, y_pred)"
   ],
   "metadata": {
    "collapsed": false
   }
  },
  {
   "cell_type": "code",
   "execution_count": null,
   "outputs": [],
   "source": [
    "hc2.fit(X_train_mv, y_train_mv)\n",
    "y_pred = hc2.predict(X_test_mv)\n",
    "\n",
    "accuracy_score(y_test_mv, y_pred)"
   ],
   "metadata": {
    "collapsed": false
   }
  },
  {
   "cell_type": "markdown",
   "source": [
    "## References\n",
    "[1] Bagnall, Anthony, Jason Lines, Jon Hills and Aaron Bostrom. \"Time-Series\n",
    "Classification with COTE: The Collective of Transformation-Based Ensembles\", in IEEE Transactions on Knowledge and Data Engineering, vol. 27, no. 9, 2015\n",
    "[2] Lines, Jason, Sarqah Taylor and A. Bagnall. \"Time Series Classification with\n",
    "HIVE-COTE: The Hierarchical Vote Collective of Transformation-Based Ensembles\". ACM\n",
    "Transactions on Knowledge Discovery from Data. Volume 12 Issue 5, 2018\n",
    "[ACM Trans] (https://dl.acm.org/doi/10.1145/3182382)\n",
    "[3] Bagnall, Anthony, Michael Flynn, James Large, Jason Lines and Matthew Middlehurst\n",
    ". \"On the usage and performance of the Hierarchical Vote Collective of\n",
    "Transformation-based Ensembles version 1.0 (hive-cote v1.0)\" International Workshop\n",
    "on Advanced Analytics and Learning on Temporal Data, 2020\n",
    "[LNCS](https://link.springer.com/chapter/10.1007/978-3-030-65742-0_1)\n",
    "[4] Middlehurst, Matthew, James Large, Michael Flynn, Jason Lines, Aaron Bostrom, and\n",
    " Anthony Bagnall. \"HIVE-COTE 2.0: a new meta ensemble for time series classification\n",
    " .\" Machine Learning, 2021\n",
    "[ML 2021](https://link.springer.com/article/10.1007/s10994-021-06057-9)\n",
    "[5] Large, James, Lines, Jason and Bagnall, Anthony. A probabilistic classifier\n",
    "ensemble weighting scheme based on cross-validated accuracy estimates. Data Mining\n",
    "and Knowledge Discovery volume 33, pages1674–1709, 2019\n",
    "[DAMI](https://link.springer.com/article/10.1007/s10618-019-00638-y)\n",
    "\n"
   ],
   "metadata": {
    "collapsed": false
   }
  }
 ],
 "metadata": {
  "kernelspec": {
   "display_name": "Python 3",
   "language": "python",
   "name": "python3"
  },
  "language_info": {
   "codemirror_mode": {
    "name": "ipython",
    "version": 3
   },
   "file_extension": ".py",
   "mimetype": "text/x-python",
   "name": "python",
   "nbconvert_exporter": "python",
   "pygments_lexer": "ipython3",
   "version": "3.9.9"
  }
 },
 "nbformat": 4,
 "nbformat_minor": 2
}
