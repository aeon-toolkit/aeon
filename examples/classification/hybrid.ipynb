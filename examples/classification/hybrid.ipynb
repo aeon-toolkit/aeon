{
 "cells": [
  {
   "cell_type": "markdown",
   "metadata": {},
   "source": [
    "## 2. Load data"
   ]
  },
  {
   "cell_type": "code",
   "execution_count": 1,
   "metadata": {
    "execution": {
     "iopub.execute_input": "2020-12-19T14:32:05.919120Z",
     "iopub.status.busy": "2020-12-19T14:32:05.918629Z",
     "iopub.status.idle": "2020-12-19T14:32:06.041420Z",
     "shell.execute_reply": "2020-12-19T14:32:06.040742Z"
    }
   },
   "outputs": [
    {
     "name": "stdout",
     "output_type": "stream",
     "text": [
      "(67, 1, 24) (67,) (50, 1, 24) (50,)\n",
      "(40, 6, 100) (40,) (40, 6, 100) (40,)\n"
     ]
    }
   ],
   "source": [
    "from aeon.classification.hybrid import HIVECOTEV1, HIVECOTEV2\n",
    "from aeon.datasets import load_basic_motions, load_italy_power_demand\n",
    "\n",
    "X_train, y_train = load_italy_power_demand(split=\"train\")\n",
    "X_test, y_test = load_italy_power_demand(split=\"test\")\n",
    "X_test = X_test[:50]\n",
    "y_test = y_test[:50]\n",
    "\n",
    "print(X_train.shape, y_train.shape, X_test.shape, y_test.shape)\n",
    "\n",
    "X_train_mv, y_train_mv = load_basic_motions(split=\"train\")\n",
    "X_test_mv, y_test_mv = load_basic_motions(split=\"test\")\n",
    "\n",
    "X_train_mv = X_train_mv[:50]\n",
    "y_train_mv = y_train_mv[:50]\n",
    "X_test_mv = X_test_mv[:50]\n",
    "y_test_mv = y_test_mv[:50]\n",
    "\n",
    "print(X_train_mv.shape, y_train_mv.shape, X_test_mv.shape, y_test_mv.shape)"
   ]
  },
  {
   "cell_type": "markdown",
   "source": [
    "## HIVE-COTE V2\n",
    "\n",
    "<img src=\"./img/hc2.png\" width=\"700\" alt=\"HC2.\">\n"
   ],
   "metadata": {
    "collapsed": false
   }
  },
  {
   "cell_type": "code",
   "execution_count": 2,
   "outputs": [],
   "source": [
    "hc1 = HIVECOTEV1()\n",
    "hc2 = HIVECOTEV2()"
   ],
   "metadata": {
    "collapsed": false
   }
  }
 ],
 "metadata": {
  "kernelspec": {
   "display_name": "Python 3",
   "language": "python",
   "name": "python3"
  },
  "language_info": {
   "codemirror_mode": {
    "name": "ipython",
    "version": 3
   },
   "file_extension": ".py",
   "mimetype": "text/x-python",
   "name": "python",
   "nbconvert_exporter": "python",
   "pygments_lexer": "ipython3",
   "version": "3.9.9"
  }
 },
 "nbformat": 4,
 "nbformat_minor": 2
}
