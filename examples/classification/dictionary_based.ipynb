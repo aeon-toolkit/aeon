{
 "cells": [
  {
   "cell_type": "markdown",
   "metadata": {},
   "source": [
    "# Dictionary based time series classification in aeon\n",
    "\n",
    "Dictionary based approaches adapt the bag of words model commonly used in signal processing, computer vision and audio processing for time series classification. Like shapelet based algorithms, dictionary approaches use phase-independent subsequences by sliding a window over time series. However, rather than to measure the distance to a subsequence, as in shapelets, each window is transformed into a word, and the frequency of occurrence of repeating patterns is recorded. Algorithms following the dictionary model build a classifier by:\n",
    "1. Extracting subseries, aka windows, from a time series:\n",
    "2. Transforming each window of real values into a discrete-valued word (a sequence of\n",
    "symbols over a fixed alphabet);\n",
    "3. Building a sparse feature vector of histograms of word counts; and\n",
    "3. Finally using a classification method from the machine learning repertoire on these feature vectors.\n",
    "The figure illustrates these steps from a raw time series to a dictionary model using overlapping windows.\n",
    "\n",
    "<img src=\"./img/dictionary.png\" width=\"800\" alt=\"Dictionary based time series\n",
    "classification\"> [<i>&#x200B;</i>](./img/dictionary.png)\n",
    "\n",
    "Dictionary-based methods differ in the way they transform a window of real-valued\n",
    "measurements into discrete words (a process commonly called discretisation) in Step 2.\n",
    "Many methods are based on a representation called Symbolic Fourier Approximation\n",
    "(SFA). To create a discrete word from a window of continuous values in a series, SFA\n",
    "follows the following steps:\n",
    "1. Values in each window are normalized to have standard deviation of 1.\n",
    "2. The dimensionality of each normalized window is reduced by the use of the truncated\n",
    "Fourier transform: the window subseries is transformed using as fast Fourier transform,\n",
    "and only the first few coefficients are retained.\n",
    "3. Each coefficient is discretised into a symbol from an alphabet a fixed size to\n",
    "form a word.\n",
    "\n",
    "Creating words from windows requires three parameters:\n",
    "1. 'window_size' specifies how long each window is;\n",
    "2. 'length' specifies the reduced series length used in reducing the length of the\n",
    "real valued window; and\n",
    "3. 'alphabet_size' is the number of letters in the alphabet used in the discretisation.\n",
    "\n",
    "These core parameters are often fixed internally. There are currently four dictionary based classifiers implemented in aeon, all making use of the Symbolic Fourier Approximation (SFA) \\[1\\] transform to discretise into words. These are the Bag of SFA Symbols (BOSS) \\[2\\], the Contractable Bag of SFA Symbols (cBOSS) \\[3\\], Word Extraction for Time Series Classification  (WEASEL) \\[4\\] and the Temporal Dictionary Ensemble (TDE) \\[5\\]. WEASEL has a multivariate extension called MUSE \\[7\\] and TDE has multivariate capability. We summarise their characteristics and give example usage in this notebook. More technical details are available in \\[8\\].\n",
    "\n",
    "\n",
    "## Imports and Load Data"
   ]
  },
  {
   "cell_type": "code",
   "execution_count": 1,
   "metadata": {
    "execution": {
     "iopub.execute_input": "2020-12-19T14:30:11.686582Z",
     "iopub.status.busy": "2020-12-19T14:30:11.686095Z",
     "iopub.status.idle": "2020-12-19T14:30:12.406787Z",
     "shell.execute_reply": "2020-12-19T14:30:12.407326Z"
    }
   },
   "outputs": [
    {
     "data": {
      "text/plain": "[('BOSSEnsemble', aeon.classification.dictionary_based._boss.BOSSEnsemble),\n ('ContractableBOSS',\n  aeon.classification.dictionary_based._cboss.ContractableBOSS),\n ('MUSE', aeon.classification.dictionary_based._muse.MUSE),\n ('TemporalDictionaryEnsemble',\n  aeon.classification.dictionary_based._tde.TemporalDictionaryEnsemble),\n ('WEASEL', aeon.classification.dictionary_based._weasel.WEASEL),\n ('WEASEL_V2', aeon.classification.dictionary_based._weasel_v2.WEASEL_V2)]"
     },
     "execution_count": 1,
     "metadata": {},
     "output_type": "execute_result"
    }
   ],
   "source": [
    "import warnings\n",
    "\n",
    "from sklearn import metrics\n",
    "\n",
    "from aeon.classification.dictionary_based import (\n",
    "    MUSE,\n",
    "    WEASEL,\n",
    "    BOSSEnsemble,\n",
    "    ContractableBOSS,\n",
    "    IndividualBOSS,\n",
    "    TemporalDictionaryEnsemble,\n",
    ")\n",
    "from aeon.datasets import load_basic_motions, load_italy_power_demand\n",
    "from aeon.registry import all_estimators\n",
    "\n",
    "warnings.filterwarnings(\"ignore\")\n",
    "all_estimators(\"classifier\", filter_tags={\"algorithm_type\": \"dictionary\"})"
   ]
  },
  {
   "cell_type": "code",
   "execution_count": 13,
   "outputs": [
    {
     "data": {
      "text/plain": "[('BOSSEnsemble', aeon.classification.dictionary_based._boss.BOSSEnsemble),\n ('ContractableBOSS',\n  aeon.classification.dictionary_based._cboss.ContractableBOSS),\n ('MUSE', aeon.classification.dictionary_based._muse.MUSE),\n ('TemporalDictionaryEnsemble',\n  aeon.classification.dictionary_based._tde.TemporalDictionaryEnsemble),\n ('WEASEL', aeon.classification.dictionary_based._weasel.WEASEL),\n ('WEASEL_V2', aeon.classification.dictionary_based._weasel_v2.WEASEL_V2)]"
     },
     "execution_count": 13,
     "metadata": {},
     "output_type": "execute_result"
    }
   ],
   "source": [
    "X_train, y_train = load_italy_power_demand(split=\"train\")\n",
    "X_test, y_test = load_italy_power_demand(split=\"test\")\n",
    "X_test = X_test[:50]\n",
    "y_test = y_test[:50]\n",
    "\n",
    "print(X_train.shape, y_train.shape, X_test.shape, y_test.shape)\n",
    "\n",
    "X_train_mv, y_train_mv = load_basic_motions(split=\"train\")\n",
    "X_test_mv, y_test_mv = load_basic_motions(split=\"test\")\n",
    "\n",
    "X_train_mv = X_train_mv[:20]\n",
    "y_train_mv = y_train_mv[:20]\n",
    "X_test_mv = X_test_mv[:20]\n",
    "y_test_mv = y_test_mv[:20]\n",
    "\n",
    "print(X_train_mv.shape, y_train_mv.shape, X_test_mv.shape, y_test_mv.shape)"
   ],
   "metadata": {
    "collapsed": false
   }
  },
  {
   "cell_type": "markdown",
   "metadata": {},
   "source": [
    "## Bag of SFA Symbols (BOSS): `IndividualBOSS`, `BOSSEnsemble` and `cBOSS`\n",
    "\n",
    "BOSS is an ensemble of individual BOSS classifiers making use of the SFA transform. `IndividualBOSS` has arguments for `window_size` ($w$) default 10, `word_length` ($l$), default 8, and `alphabet_size` ($\\alpha$), default 4. Algorithms that use the `IndividualBOSS` classifier use ensembles that diversify their members through changing their parameters.\n",
    "\n",
    "The `BOSSEnsemble` classifier is an ensemble of `IndividualBOSS` classifiers. It performs grid-search through a large number of combinations of `window_size` (default 10), `word_length` (default 8) and `alphabet_size`(boolean normalise each window) parameters. Of the classifiers searched only those within 92\\% accuracy of the best classifier are retained. Individual BOSS classifiers use a non-symmetric distance function, BOSS distance, in conjunction with a nearest neighbour classifier. BOSS internally tunes so there are few parameters to be altered. Generally it should be run using default settings.\n",
    "\n",
    "cBOSS significantly speeds up BOSS with no significant difference in accuracy by improving how the ensemble is formed. cBOSS randomly selects a set parameters for $w$, $l$ and $\\alpha$, and keeps the best `max_ensemble_size` `IndividualBOSS` classifiers in the ensemble, where best means highest is estimated accuracy on the train data. The number of `IndividualBOSS` classifiers to keep in the ensemble and the number of randomly generated parameters to test are parameters `max_ensemble_size` (default 50) and `n_parameter_samples` (default 250). The `n_parameter_samples` parameter can be replaced with a maximum run time limit with the parameter `time_limit_in_minutes`. Setting this parameter will make the classifier randomly sample parameters for the specified amount of time. We call this capability contracting."
   ]
  },
  {
   "cell_type": "code",
   "execution_count": 14,
   "metadata": {
    "execution": {
     "iopub.execute_input": "2020-12-19T14:30:12.411079Z",
     "iopub.status.busy": "2020-12-19T14:30:12.410605Z",
     "iopub.status.idle": "2020-12-19T14:30:13.198883Z",
     "shell.execute_reply": "2020-12-19T14:30:13.199360Z"
    }
   },
   "outputs": [],
   "source": [
    "one_boss = IndividualBOSS(window_size=8, word_length=4, alphabet_size=6)\n",
    "boss = BOSSEnsemble(random_state=47)\n",
    "boss.fit(X_train, y_train)\n",
    "\n",
    "boss_preds = boss.predict(X_test)\n",
    "print(\"BOSS Accuracy: \" + str(metrics.accuracy_score(y_test, boss_preds)))\n",
    "cboss = ContractableBOSS(n_parameter_samples=250, max_ensemble_size=50, random_state=47)\n",
    "cboss.fit(X_train, y_train)\n",
    "\n",
    "cboss_preds = cboss.predict(X_test)\n",
    "print(\"cBOSS Accuracy: \" + str(metrics.accuracy_score(y_test, cboss_preds)))"
   ]
  },
  {
   "cell_type": "markdown",
   "metadata": {},
   "source": [
    "## Word Extraction for Time Series Classification (WEASEL)\n",
    "\n",
    "WEASEL transforms time series into feature vectors, using a sliding-window approach, which are then analyzed through a machine learning classifier. The novelty of WEASEL lies in its specific method for deriving features, resulting in a much smaller yet much more discriminative feature set than BOSS. It extends SFA by bigrams, feature selection using Anova-f-test and Information Gain Binning (IGB).\n"
   ]
  },
  {
   "cell_type": "code",
   "execution_count": 15,
   "metadata": {
    "execution": {
     "iopub.execute_input": "2020-12-19T14:30:14.656633Z",
     "iopub.status.busy": "2020-12-19T14:30:14.656058Z",
     "iopub.status.idle": "2020-12-19T14:30:15.042508Z",
     "shell.execute_reply": "2020-12-19T14:30:15.042998Z"
    }
   },
   "outputs": [],
   "source": [
    "weasel = WEASEL(binning_strategy=\"equi-depth\", anova=False, random_state=47)\n",
    "weasel.fit(X_train, y_train)\n",
    "\n",
    "weasel_preds = weasel.predict(X_test)\n",
    "print(\n",
    "    f\"Univariate WEASEL Accuracy on ItalyPowerDemand: \"\n",
    "    f\"{metrics.accuracy_score(y_test, weasel_preds)}\"\n",
    ")\n",
    "\n",
    "muse = MUSE()\n",
    "muse.fit(X_train_mv, y_train_mv)\n",
    "\n",
    "muse_preds = muse.predict(X_test_mv)\n",
    "print(\n",
    "    f\"Multivariate MUSE Accuracy on BasicMotions: \"\n",
    "    f\"{metrics.accuracy_score(y_test_mv, muse_preds)}\"\n",
    ")"
   ]
  },
  {
   "cell_type": "markdown",
   "metadata": {},
   "source": [
    "## Temporal Dictionary Ensemble (TDE)\n",
    "\n",
    "The `TemporalDictionaryEnsemble` (TDE) aggregates the best components of cBOSS and WEASEL with the concept of Spatial Pyramids used in computer vision, first used in this context in an algorithm called Spatial BOSS \\[6\\]. Spatial pyramids split the time series up in to contiguous segments and construct dictionary\n",
    "\n",
    "<img src=\"./img/spatial_pyramids.png\" width=\"1000\" alt=\"Spatial pyramids used in\n",
    "TDE to capture location information.\"> [<i>&#x200B;</i>](./img/spatial_pyramids.png)\n",
    "\n",
    "At the top level of the pyramid, the whole series is used. cBOSS classifiers are\n",
    "built on the whole series that use bigrams and Information Gain Binning (IGB)\n",
    "proposed for WEASEL. At the next level, cBOSS classifiers are built independently on\n",
    "each half of the series. At the third level, quarters of the series are used. Once at\n",
    " the final level, all the histograms are concatenated.\n",
    "\n",
    "The parameter space for the search for the TDE model is much larger, because of the extra parameters. Rather than random search of parameter combinations, after `randomly_selected_params` model evaluations, a Gaussian process regressor is used to select new parameter sets to evaluate for the ensemble, predicting the accuracy of a set of parameter values using past classifier performances. This improves overall performance. Like cBOSS, TDE is contractable, i.e. you can specify the approximate maximum train time with the `time_limit_in_minutes` argument."
   ]
  },
  {
   "cell_type": "code",
   "execution_count": 16,
   "metadata": {
    "execution": {
     "iopub.execute_input": "2020-12-19T14:30:15.049119Z",
     "iopub.status.busy": "2020-12-19T14:30:15.048625Z",
     "iopub.status.idle": "2020-12-19T14:30:24.886051Z",
     "shell.execute_reply": "2020-12-19T14:30:24.886568Z"
    }
   },
   "outputs": [],
   "source": [
    "# Recommended non-contract TDE parameters\n",
    "tde = TemporalDictionaryEnsemble(\n",
    "    n_parameter_samples=250,\n",
    "    max_ensemble_size=50,\n",
    "    randomly_selected_params=50,\n",
    "    random_state=47,\n",
    ")\n",
    "\n",
    "# If you wish to set a time contract to, for example, 5 minutes,\n",
    "# set time_limit_in_minutes = 5 in the constructor\n",
    "# Univariate\n",
    "tde.fit(X_train, y_train)\n",
    "\n",
    "tde_preds = tde.predict(X_test)\n",
    "print(\n",
    "    \"TDE Accuracy on ItalyPowerDemand: \"\n",
    "    + str(metrics.accuracy_score(y_test, tde_preds))\n",
    ")\n",
    "tde.fit(X_train_mv, y_train_mv)\n",
    "\n",
    "tde_preds = tde.predict(X_test_mv)\n",
    "print(\n",
    "    f\"TDE Accuracy on BasicMotions: \" f\"{metrics.accuracy_score(y_test_mv, tde_preds)}\"\n",
    ")"
   ]
  },
  {
   "cell_type": "markdown",
   "source": [
    "## Performance comparison: Coming soon\n",
    "\n",
    "we will show you how to load the benchmark results for these classifiers\n",
    " and compare performance"
   ],
   "metadata": {
    "collapsed": false
   }
  },
  {
   "cell_type": "markdown",
   "source": [
    "#### References:\n",
    "\n",
    "\\[1\\] Schäfer, P., & Högqvist, M. (2012). SFA: a symbolic fourier approximation and index for similarity search in high dimensional datasets. In Proceedings of the 15th International Conference on Extending Database Technology (pp. 516-527).\n",
    "\n",
    "\\[2\\] Schäfer, P. (2015). The BOSS is concerned with time series classification in the presence of noise. Data Mining and Knowledge Discovery, 29(6), 1505-1530.\n",
    "\n",
    "\\[3\\] Middlehurst, M., Vickers, W., & Bagnall, A. (2019). Scalable dictionary classifiers for time series classification. In International Conference on Intelligent Data Engineering and Automated Learning (pp. 11-19). Springer, Cham.\n",
    "\n",
    "\\[4\\] Schäfer, P., & Leser, U. (2017). Fast and accurate time series classification with WEASEL. In Proceedings of the 2017 ACM on Conference on Information and Knowledge Management (pp. 637-646).\n",
    "\n",
    "\\[5\\] Middlehurst, M., Large, J., Cawley, G., & Bagnall, A. (2020). The Temporal Dictionary Ensemble (TDE) Classifier for Time Series Classification. In The European Conference on Machine Learning and Principles and Practice of Knowledge Discovery in Databases.\n",
    "\n",
    "\\[6\\] Large, J., Bagnall, A., Malinowski, S., & Tavenard, R. (2019). On time series classification with dictionary-based classifiers. Intelligent Data Analysis, 23(5), 1073-1089.\n",
    "\n",
    "\\[7\\] Schäfer, P., & Leser, U. (2018). Multivariate time series classification with WEASEL+MUSE. 3rd ECML/PKDD Workshop on AALTD.\n",
    "\n",
    "\\[8\\] Middlehurst, M., Schäfer, P., & Bagnall, A. (2023). Bake off redux. COMING SOON TO AN ARXIV NEAR YOU!."
   ],
   "metadata": {
    "collapsed": false
   }
  }
 ],
 "metadata": {
  "kernelspec": {
   "display_name": "Python 3",
   "language": "python",
   "name": "python3"
  },
  "language_info": {
   "codemirror_mode": {
    "name": "ipython",
    "version": 3
   },
   "file_extension": ".py",
   "mimetype": "text/x-python",
   "name": "python",
   "nbconvert_exporter": "python",
   "pygments_lexer": "ipython3",
   "version": "3.7.8"
  }
 },
 "nbformat": 4,
 "nbformat_minor": 2
}
