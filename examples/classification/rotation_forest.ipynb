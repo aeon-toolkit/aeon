{
 "cells": [
  {
   "cell_type": "markdown",
   "metadata": {},
   "source": [
    "# Rotation Forest Classifier\n",
    "\n",
    "RotationForest is an ensemble learning algorithm designed to improve the accuracy and diversity of decision tree-based classifiers. It was introduced as an extension of the popular RandomForest algorithm. The key idea behind RotationForest is to apply **Principal Component Analysis (PCA)** to rotate the feature space for each tree in the ensemble, creating diverse and accurate base classifiers.\n",
    "\n",
    "Unlike RandomForest, which selects a random subset of features at each node, RotationForest:\n",
    "\n",
    "- Divides features into random subsets and applies PCA transformation to each subset.\n",
    "- Ensures all original features are used for each tree (instead of random feature selection).\n",
    "- Uses a C4.5 decision tree (this implementation uses the scikit-learn CART).\n",
    "\n",
    "Rotation Forest is relevant for **Time Series Classification (TSC)** because it effectively captures complex feature interactions and correlations which are often critical in time series data using PCA-based rotations. It works well with feature extraction methods (e.g., **TSFresh**) and is used in TSC pipelines like **FreshPRINCE** and **STC**, making it robust for both **univariate** and **multivariate** time series data.\n",
    "\n",
    "In this notebook, we will see how to use the `RotationForestClassifier` algorithm for time series classification."
   ]
  },
  {
   "cell_type": "code",
   "execution_count": 1,
   "metadata": {},
   "outputs": [],
   "source": [
    "# Import necessary libraries\n",
    "import matplotlib.pyplot as plt\n",
    "from sklearn.metrics import (\n",
    "    ConfusionMatrixDisplay,\n",
    "    accuracy_score,\n",
    "    classification_report,\n",
    "    confusion_matrix,\n",
    ")\n",
    "\n",
    "from aeon.classification.sklearn import RotationForestClassifier\n",
    "from aeon.datasets import load_italy_power_demand  # univariate dataset"
   ]
  },
  {
   "cell_type": "code",
   "execution_count": 2,
   "metadata": {},
   "outputs": [],
   "source": [
    "italy, italy_labels = load_italy_power_demand(split=\"train\")\n",
    "italy_test, italy_test_labels = load_italy_power_demand(split=\"test\")"
   ]
  },
  {
   "cell_type": "code",
   "execution_count": 3,
   "metadata": {},
   "outputs": [
    {
     "data": {
      "text/plain": [
       "((67, 1, 24), (67,))"
      ]
     },
     "execution_count": 3,
     "metadata": {},
     "output_type": "execute_result"
    }
   ],
   "source": [
    "italy.shape, italy_labels.shape"
   ]
  },
  {
   "cell_type": "markdown",
   "metadata": {},
   "source": [
    "RotationForestClassifier is not a time series classifier. \n",
    "A valid sklearn input such as a 2d numpy array is required."
   ]
  },
  {
   "cell_type": "code",
   "execution_count": 4,
   "metadata": {},
   "outputs": [],
   "source": [
    "# Convert 3D array to 2D array\n",
    "italy = italy.reshape(italy.shape[0], -1)"
   ]
  },
  {
   "cell_type": "code",
   "execution_count": 5,
   "metadata": {},
   "outputs": [
    {
     "data": {
      "text/plain": [
       "(67, 24)"
      ]
     },
     "execution_count": 5,
     "metadata": {},
     "output_type": "execute_result"
    }
   ],
   "source": [
    "italy.shape"
   ]
  },
  {
   "cell_type": "code",
   "execution_count": 6,
   "metadata": {},
   "outputs": [
    {
     "name": "stdout",
     "output_type": "stream",
     "text": [
      "Accuracy:  0.9708454810495627 \n",
      "\n",
      "Classification Report:\n",
      "               precision    recall  f1-score   support\n",
      "\n",
      "           1       0.97      0.97      0.97       513\n",
      "           2       0.97      0.97      0.97       516\n",
      "\n",
      "    accuracy                           0.97      1029\n",
      "   macro avg       0.97      0.97      0.97      1029\n",
      "weighted avg       0.97      0.97      0.97      1029\n",
      "\n"
     ]
    }
   ],
   "source": [
    "rotation = RotationForestClassifier()\n",
    "rotation.fit(italy, italy_labels)\n",
    "y_pred = rotation.predict(italy_test)\n",
    "\n",
    "accuracy = accuracy_score(italy_test_labels, y_pred)\n",
    "print(\"Accuracy: \", accuracy, \"\\n\")\n",
    "\n",
    "report = classification_report(italy_test_labels, y_pred)\n",
    "print(\"Classification Report:\\n\", report)"
   ]
  },
  {
   "cell_type": "code",
   "execution_count": 7,
   "metadata": {},
   "outputs": [
    {
     "data": {
      "image/png": "[encoded data removed]",
      "text/plain": [
       "<Figure size 640x480 with 2 Axes>"
      ]
     },
     "metadata": {},
     "output_type": "display_data"
    }
   ],
   "source": [
    "# Plot confusion matrix\n",
    "cm = confusion_matrix(italy_test_labels, y_pred)\n",
    "disp = ConfusionMatrixDisplay(confusion_matrix=cm, display_labels=rotation.classes_)\n",
    "disp.plot(cmap=\"YlOrRd\")\n",
    "plt.title(\"Confusion Matrix\")\n",
    "plt.show()"
   ]
  },
  {
   "cell_type": "markdown",
   "metadata": {},
   "source": [
    "#### References:\n",
    "\n",
    "\\[1\\] J. J. Rodriguez, L. I. Kuncheva and C. J. Alonso, \"Rotation Forest: A New Classifier Ensemble Method,\" in IEEE Transactions on Pattern Analysis and Machine Intelligence, vol. 28, no. 10, pp. 1619-1630, Oct. 2006, doi: 10.1109/TPAMI.2006.211.\n",
    "\n",
    "\\[2\\] Bagnall, A., Flynn, M., Large, J., Line, J., Bostrom, A., & Cawley, G. (2018). Is rotation forest the best classifier for problems with continuous features? ArXiv. https://arxiv.org/abs/1809.06705"
   ]
  }
 ],
 "metadata": {
  "kernelspec": {
   "display_name": "myaeon",
   "language": "python",
   "name": "python3"
  },
  "language_info": {
   "codemirror_mode": {
    "name": "ipython",
    "version": 3
   },
   "file_extension": ".py",
   "mimetype": "text/x-python",
   "name": "python",
   "nbconvert_exporter": "python",
   "pygments_lexer": "ipython3",
   "version": "3.12.2"
  }
 },
 "nbformat": 4,
 "nbformat_minor": 2
}
