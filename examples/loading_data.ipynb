{
 "cells": [
  {
   "cell_type": "markdown",
   "metadata": {},
   "source": [
    "# Loading data into aeon\n",
    "\n",
    "This tutorial outlines time series related file formats and how to load data into aeon.\n",
    "\n",
    "Users can load or convert data into aeon compatible formats in two main ways:\n",
    "\n",
    "* pathway 1: direct loading from time series formats. Data can be loaded directly from a bespoke time series storage format, for instance `.ts` ([see Representing data with .ts files](#ts_files)) or other supported file formats, such as Weka `ARFF` and `.tsv` (see [other existing data sources](#other_file_types)).\n",
    "* pathway 2: loading in-memory, then conversion. aeon provides functions to convert between common in-memory representations, see `AA_datatypes_and_datasets` tutorial. Hence, data can be loaded via any loader utility (e.g., `pandas.read_csv`) first, then converted manually into one of the aeon compatible specifications, and then converted between specifications using the aeon `convert` or `convert_to` utility.\n",
    "\n",
    "The rest of this tutorial provides descriptions of pathway 1, i.e., how to load data from supported file formats.\n",
    "\n",
    "<a id=\"ts_files\"></a>\n",
    "## The .ts file format\n",
    "One common use case is to load locally stored data. To make this easy, the `.ts` file format has been created for representing problems in a standard format for use with aeon.\n",
    "\n",
    "### Representing data with .ts files\n",
    "A .ts file include two main parts:\n",
    "* header information\n",
    "* data\n",
    "\n",
    "The header information is used to facilitate simple representation of the data through including metadata about the structure of the problem. The header contains the following:\n",
    "\n",
    "    @problemName <problem name>\n",
    "    @timeStamps <true/false>\n",
    "    @univariate <true/false>\n",
    "    @classLabel <true/false> <space delimited list of possible class values>\n",
    "    @data\n",
    "\n",
    "The data for the problem should begin after the @data tag. In the simplest case where @timestamps is false, values for a series are expressed in a comma-separated list and the index of each value is relative to its position in the list (0, 1, ..., m). An _instance_ may contain 1 to many dimensions, where instances are line-delimited and dimensions within an instance are colon (:) delimited. For example:\n",
    "\n",
    "    2,3,2,4:4,3,2,2\n",
    "    13,12,32,12:22,23,12,32\n",
    "    4,4,5,4:3,2,3,2\n",
    "\n",
    "This example data has 3 _instances_, corresponding to the three lines shown above. Each instance has 2 _dimensions_ with 4 observations per dimension. For example, the intitial instance's first dimension has the timepoint values of 2, 3, 2, 4 and the second dimension has the values 4, 3, 2, 2.\n",
    "\n",
    "Missing readings can be specified using ?. For example,\n",
    "\n",
    "    2,?,2,4:4,3,2,2\n",
    "    13,12,32,12:22,23,12,32\n",
    "    4,4,5,4:3,2,3,2\n",
    "\n",
    "would indicate the second timepoint value of the initial instance's first dimension is missing.\n",
    "\n",
    "Alternatively, for sparse datasets, readings can be specified by setting @timestamps to true in the header and representing the data with tuples in the form of (timestamp, value) just for the obser. For example, the first instance in the example above could be specified in this representation as:\n",
    "\n",
    "    (0,2),(1,3)(2,2)(3,4):(0,4),(1,3),(2,2),(3,2)\n",
    "\n",
    "Equivalently, the sparser example\n",
    "\n",
    "    2,5,?,?,?,?,?,5,?,?,?,?,4\n",
    "\n",
    "could be represented with just the non-missing timestamps as:\n",
    "\n",
    "    (0,2),(1,5),(7,5),(12,4)\n",
    "\n",
    "When using the .ts file format to store data for timeseries classification problems, the class label for an instance should be specified in the last dimension and @classLabel should be set to true in the header information and be followed by the set of possible class values. For example, if a case consists of a single dimension and has a class value of 1 it would be specified as:\n",
    "\n",
    "     1,4,23,34:1\n",
    "\n",
    "\n",
    "### Loading from .ts file to numpy arrays\n",
    "\n",
    "A dataset can be loaded from a .ts file using the following method in aeon.datasets:\n",
    "\n",
    "    load_from_tsfile(full_file_path_and_name, replace_missing_vals_with='NaN')\n",
    "\n",
    "This can be demonstrated using the Arrow Head problem that is included in aeon under aeon/datasets/data"
   ]
  },
  {
   "cell_type": "code",
   "execution_count": 5,
   "metadata": {
    "execution": {
     "iopub.execute_input": "2020-12-19T14:32:13.134330Z",
     "iopub.status.busy": "2020-12-19T14:32:13.133562Z",
     "iopub.status.idle": "2020-12-19T14:32:13.811083Z",
     "shell.execute_reply": "2020-12-19T14:32:13.811445Z"
    }
   },
   "outputs": [],
   "source": [
    "import os\n",
    "\n",
    "import aeon\n",
    "from aeon.datasets import load_from_tsfile\n",
    "\n",
    "DATA_PATH = os.path.join(os.path.dirname(aeon.__file__), \"datasets/data\")\n",
    "\n",
    "train_x, train_y = load_from_tsfile(\n",
    "    os.path.join(DATA_PATH, \"ArrowHead/ArrowHead_TRAIN.ts\")\n",
    ")\n",
    "test_x, test_y = load_from_tsfile(\n",
    "    os.path.join(DATA_PATH, \"ArrowHead/ArrowHead_TEST.ts\")\n",
    ")"
   ]
  },
  {
   "cell_type": "markdown",
   "metadata": {},
   "source": [
    "Train and test partitions of the ArrowHead problem have been loaded into 3D numpy\n",
    "arrays with an associated array of class values. As an example, below is the first\n",
    "instance train_x and first five class values from train_y:"
   ]
  },
  {
   "cell_type": "code",
   "execution_count": 6,
   "metadata": {
    "execution": {
     "iopub.execute_input": "2020-12-19T14:32:13.828436Z",
     "iopub.status.busy": "2020-12-19T14:32:13.823584Z",
     "iopub.status.idle": "2020-12-19T14:32:13.831026Z",
     "shell.execute_reply": "2020-12-19T14:32:13.831523Z"
    }
   },
   "outputs": [
    {
     "data": {
      "text/plain": "array([[-1.9630089 , -1.9578249 , -1.9561449 , -1.9382889 , -1.8966569 ,\n        -1.8698569 , -1.8387049 , -1.8122888 , -1.7364328 , -1.6733288 ,\n        -1.6230727 , -1.5858727 , -1.5438407 , -1.4567846 , -1.3787206 ,\n        -1.2924965 , -1.2169605 , -1.1089764 , -0.96868834, -0.83160026,\n        -0.76030422, -0.59963213, -0.46625605, -0.30638396, -0.22684791,\n        -0.08975983,  0.04137625,  0.23203876,  0.38728525,  0.41471247,\n         0.51567412,  0.62614779,  0.72741025,  0.75345186,  0.78001988,\n         0.83840391,  0.88817034,  0.91981996,  0.93344237,  0.9834616 ,\n         1.04958   ,  1.1308921 ,  1.1898697 ,  1.2635882 ,  1.2976586 ,\n         1.4139322 ,  1.4014314 ,  1.4443339 ,  1.4868475 ,  1.4448603 ,\n         1.4448603 ,  1.4635131 ,  1.4635131 ,  1.4424827 ,  1.4822811 ,\n         1.5221659 ,  1.5411515 ,  1.5181995 ,  1.4952875 ,  1.4739563 ,\n         1.4479355 ,  1.3584794 ,  1.2685802 ,  1.2195033 ,  1.1558585 ,\n         1.0848617 ,  0.97762959,  0.94645038,  0.93098797,  0.80343589,\n         0.73402625,  0.67427262,  0.61799258,  0.49093171,  0.40673646,\n         0.34117002,  0.2967364 ,  0.27182598,  0.24302436,  0.25131557,\n         0.26468518,  0.28406759,  0.27179398,  0.23864996,  0.15689631,\n         0.09680028, -0.05662381, -0.16731187, -0.28022394, -0.34350398,\n        -0.41529602, -0.47657606, -0.53492809, -0.59041612, -0.57228811,\n        -0.62446414, -0.65118416, -0.67648017, -0.67852817, -0.7229122 ,\n        -0.80680025, -0.82627226, -0.82524826, -0.84297627, -0.86462428,\n        -0.84484827, -0.82256026, -0.84185627, -0.79542424, -0.74392021,\n        -0.68369618, -0.66182416, -0.62396814, -0.64110415, -0.57260811,\n        -0.53137609, -0.51996808, -0.47995206, -0.44576004, -0.37147199,\n        -0.33326397, -0.31019196, -0.40185601, -0.48315206, -0.53822409,\n        -0.62452814, -0.67971217, -0.65051216, -0.62288014, -0.5513601 ,\n        -0.50033607, -0.45872004, -0.46732805, -0.46492805, -0.50020807,\n        -0.48531206, -0.47755206, -0.48851206, -0.50958407, -0.53227209,\n        -0.57872011, -0.61390414, -0.65249616, -0.66310416, -0.67270417,\n        -0.70216019, -0.7296482 , -0.73483221, -0.74185621, -0.70041619,\n        -0.67758417, -0.67374417, -0.63001614, -0.57931212, -0.57552011,\n        -0.60944013, -0.5477921 , -0.51206408, -0.48196806, -0.44331204,\n        -0.42489602, -0.380352  , -0.32425597, -0.25411193, -0.15044786,\n        -0.13931186, -0.0467998 ,  0.04272025,  0.22662116,  0.42361647,\n         0.55557335,  0.56090295,  0.57435896,  0.53941494,  0.50561332,\n         0.49451091,  0.49604371,  0.57437016,  0.650055  ,  0.77233027,\n         0.76694467,  0.85275912,  0.86693353,  0.92638636,  0.94545038,\n         1.0648216 ,  1.1177545 ,  1.1461961 ,  1.1855593 ,  1.1950825 ,\n         1.2903274 ,  1.3201882 ,  1.3473434 ,  1.3915018 ,  1.4367611 ,\n         1.4191547 ,  1.4416795 ,  1.4416795 ,  1.4466619 ,  1.4690155 ,\n         1.5308843 ,  1.4739563 ,  1.4739563 ,  1.4397739 ,  1.3986362 ,\n         1.3962362 ,  1.3768282 ,  1.3597226 ,  1.2935594 ,  1.1855625 ,\n         1.1610233 ,  1.0883689 ,  1.0312904 ,  0.91713516,  0.79701509,\n         0.76474307,  0.67662462,  0.66052221,  0.63566299,  0.59247737,\n         0.56743895,  0.51975573,  0.43992688,  0.41277006,  0.25329957,\n         0.1350883 , -0.00903978, -0.11716785, -0.17430388, -0.31575996,\n        -0.48673606, -0.61859214, -0.68387218, -0.81899226, -0.95635234,\n        -1.0826724 , -1.1414404 , -1.2535525 , -1.3566566 , -1.4456006 ,\n        -1.5298087 , -1.5838567 , -1.6553287 , -1.7191528 , -1.7508808 ,\n        -1.7962728 , -1.8413449 , -1.8842889 , -1.9053929 , -1.9239049 ,\n        -1.9091529 ]])"
     },
     "execution_count": 6,
     "metadata": {},
     "output_type": "execute_result"
    }
   ],
   "source": [
    "train_x[0]"
   ]
  },
  {
   "cell_type": "code",
   "execution_count": 7,
   "metadata": {
    "execution": {
     "iopub.execute_input": "2020-12-19T14:32:13.834947Z",
     "iopub.status.busy": "2020-12-19T14:32:13.834437Z",
     "iopub.status.idle": "2020-12-19T14:32:13.836849Z",
     "shell.execute_reply": "2020-12-19T14:32:13.837412Z"
    }
   },
   "outputs": [
    {
     "data": {
      "text/plain": "array(['0', '1', '2', '0', '1'], dtype='<U1')"
     },
     "execution_count": 7,
     "metadata": {},
     "output_type": "execute_result"
    }
   ],
   "source": [
    "train_y[0:5]"
   ]
  },
  {
   "cell_type": "code",
   "execution_count": 8,
   "metadata": {},
   "outputs": [
    {
     "data": {
      "text/plain": "array([[[-1.9630089, -1.9578249, -1.9561449, ..., -1.9053929,\n         -1.9239049, -1.9091529]],\n\n       [[-1.7745713, -1.7740359, -1.7765863, ..., -1.7292269,\n         -1.7756704, -1.7893245]],\n\n       [[-1.8660211, -1.8419912, -1.8350253, ..., -1.8625124,\n         -1.8633682, -1.8464925]],\n\n       ...,\n\n       [[-2.1308119, -2.1044297, -2.0747549, ..., -2.0340977,\n         -2.0800313, -2.103448 ]],\n\n       [[-1.8803376, -1.8626622, -1.8496866, ..., -1.8485336,\n         -1.8640342, -1.8798851]],\n\n       [[-1.80105  , -1.7989155, -1.7783754, ..., -1.7965491,\n         -1.7985443, -1.80105  ]]])"
     },
     "execution_count": 8,
     "metadata": {},
     "output_type": "execute_result"
    }
   ],
   "source": [
    "train_x"
   ]
  },
  {
   "cell_type": "markdown",
   "metadata": {},
   "source": [
    "<a id=\"other_file_types\"></a>\n",
    "## Loading other file formats\n",
    "Researchers who have made timeseries data available have used two other common formats, including:\n",
    "\n",
    "+ Weka ARFF files\n",
    "+ UCR .tsv files\n",
    "\n",
    "\n",
    "### Loading from Weka ARFF files\n",
    "\n",
    "It is also possible to load data from Weka's attribute-relation file format (ARFF) files. Data for timeseries problems are made available in this format by researchers at the University of East Anglia (among others) at www.timeseriesclassification.com. The `load_from_arff_to_dataframe` method in `aeon.datasets` supports reading data for both univariate and multivariate timeseries problems.\n",
    "\n",
    "The univariate functionality is demonstrated below using data on the ArrowHead problem again (this time loading from ARFF file)."
   ]
  },
  {
   "cell_type": "code",
   "execution_count": 9,
   "metadata": {
    "execution": {
     "iopub.execute_input": "2020-12-19T14:32:13.840562Z",
     "iopub.status.busy": "2020-12-19T14:32:13.840050Z",
     "iopub.status.idle": "2020-12-19T14:32:13.869367Z",
     "shell.execute_reply": "2020-12-19T14:32:13.869937Z"
    }
   },
   "outputs": [
    {
     "data": {
      "text/plain": "                                               dim_0\n0  0     -1.963009\n1     -1.957825\n2     -1.95614...\n1  0     -1.774571\n1     -1.774036\n2     -1.77658...\n2  0     -1.866021\n1     -1.841991\n2     -1.83502...\n3  0     -2.073758\n1     -2.073301\n2     -2.04460...\n4  0     -1.746255\n1     -1.741263\n2     -1.72274...",
      "text/html": "<div>\n<style scoped>\n    .dataframe tbody tr th:only-of-type {\n        vertical-align: middle;\n    }\n\n    .dataframe tbody tr th {\n        vertical-align: top;\n    }\n\n    .dataframe thead th {\n        text-align: right;\n    }\n</style>\n<table border=\"1\" class=\"dataframe\">\n  <thead>\n    <tr style=\"text-align: right;\">\n      <th></th>\n      <th>dim_0</th>\n    </tr>\n  </thead>\n  <tbody>\n    <tr>\n      <th>0</th>\n      <td>0     -1.963009\n1     -1.957825\n2     -1.95614...</td>\n    </tr>\n    <tr>\n      <th>1</th>\n      <td>0     -1.774571\n1     -1.774036\n2     -1.77658...</td>\n    </tr>\n    <tr>\n      <th>2</th>\n      <td>0     -1.866021\n1     -1.841991\n2     -1.83502...</td>\n    </tr>\n    <tr>\n      <th>3</th>\n      <td>0     -2.073758\n1     -2.073301\n2     -2.04460...</td>\n    </tr>\n    <tr>\n      <th>4</th>\n      <td>0     -1.746255\n1     -1.741263\n2     -1.72274...</td>\n    </tr>\n  </tbody>\n</table>\n</div>"
     },
     "execution_count": 9,
     "metadata": {},
     "output_type": "execute_result"
    }
   ],
   "source": [
    "from aeon.datasets import load_from_arff_to_dataframe\n",
    "\n",
    "X, y = load_from_arff_to_dataframe(\n",
    "    os.path.join(DATA_PATH, \"ArrowHead/ArrowHead_TRAIN.arff\")\n",
    ")\n",
    "X.head()"
   ]
  },
  {
   "cell_type": "markdown",
   "metadata": {},
   "source": [
    "The multivariate BasicMotions problem is used below to illustrate the ability to read multivariate timeseries data from ARFF files into the aeon format."
   ]
  },
  {
   "cell_type": "code",
   "execution_count": 10,
   "metadata": {
    "execution": {
     "iopub.execute_input": "2020-12-19T14:32:13.873136Z",
     "iopub.status.busy": "2020-12-19T14:32:13.872669Z",
     "iopub.status.idle": "2020-12-19T14:32:13.946859Z",
     "shell.execute_reply": "2020-12-19T14:32:13.947377Z"
    }
   },
   "outputs": [
    {
     "data": {
      "text/plain": "                                               dim_0  \\\n0  0     0.079106\n1     0.079106\n2    -0.903497\n3...   \n1  0     0.377751\n1     0.377751\n2     2.952965\n3...   \n2  0    -0.813905\n1    -0.813905\n2    -0.424628\n3...   \n3  0     0.289855\n1     0.289855\n2    -0.669185\n3...   \n4  0    -0.123238\n1    -0.123238\n2    -0.249547\n3...   \n\n                                               dim_1  \\\n0  0     0.394032\n1     0.394032\n2    -3.666397\n3...   \n1  0    -0.610850\n1    -0.610850\n2     0.970717\n3...   \n2  0     0.825666\n1     0.825666\n2    -1.305033\n3...   \n3  0     0.284130\n1     0.284130\n2    -0.210466\n3...   \n4  0     0.379341\n1     0.379341\n2     0.541501\n3...   \n\n                                               dim_2  \\\n0  0     0.551444\n1     0.551444\n2    -0.282844\n3...   \n1  0    -0.147376\n1    -0.147376\n2    -5.962515\n3...   \n2  0     0.032712\n1     0.032712\n2     0.826170\n3...   \n3  0     0.213680\n1     0.213680\n2     0.252267\n3...   \n4  0    -0.286006\n1    -0.286006\n2     0.208420\n3...   \n\n                                               dim_3  \\\n0  0     0.351565\n1     0.351565\n2    -0.095881\n3...   \n1  0    -0.103872\n1    -0.103872\n2    -7.593275\n3...   \n2  0     0.021307\n1     0.021307\n2    -0.372872\n3...   \n3  0    -0.314278\n1    -0.314278\n2     0.018644\n3...   \n4  0    -0.098545\n1    -0.098545\n2    -0.023970\n3...   \n\n                                               dim_4  \\\n0  0     0.023970\n1     0.023970\n2    -0.319605\n3...   \n1  0    -0.109198\n1    -0.109198\n2    -0.697804\n3...   \n2  0     0.122515\n1     0.122515\n2    -0.045277\n3...   \n3  0     0.074574\n1     0.074574\n2     0.007990\n3...   \n4  0     0.058594\n1     0.058594\n2     0.175783\n3...   \n\n                                               dim_5  \n0  0     0.633883\n1     0.633883\n2     0.972131\n3...  \n1  0    -0.037287\n1    -0.037287\n2    -2.865789\n3...  \n2  0     0.775041\n1     0.775041\n2     0.383526\n3...  \n3  0    -0.079901\n1    -0.079901\n2     0.237040\n3...  \n4  0    -0.074574\n1    -0.074574\n2     0.114525\n3...  ",
      "text/html": "<div>\n<style scoped>\n    .dataframe tbody tr th:only-of-type {\n        vertical-align: middle;\n    }\n\n    .dataframe tbody tr th {\n        vertical-align: top;\n    }\n\n    .dataframe thead th {\n        text-align: right;\n    }\n</style>\n<table border=\"1\" class=\"dataframe\">\n  <thead>\n    <tr style=\"text-align: right;\">\n      <th></th>\n      <th>dim_0</th>\n      <th>dim_1</th>\n      <th>dim_2</th>\n      <th>dim_3</th>\n      <th>dim_4</th>\n      <th>dim_5</th>\n    </tr>\n  </thead>\n  <tbody>\n    <tr>\n      <th>0</th>\n      <td>0     0.079106\n1     0.079106\n2    -0.903497\n3...</td>\n      <td>0     0.394032\n1     0.394032\n2    -3.666397\n3...</td>\n      <td>0     0.551444\n1     0.551444\n2    -0.282844\n3...</td>\n      <td>0     0.351565\n1     0.351565\n2    -0.095881\n3...</td>\n      <td>0     0.023970\n1     0.023970\n2    -0.319605\n3...</td>\n      <td>0     0.633883\n1     0.633883\n2     0.972131\n3...</td>\n    </tr>\n    <tr>\n      <th>1</th>\n      <td>0     0.377751\n1     0.377751\n2     2.952965\n3...</td>\n      <td>0    -0.610850\n1    -0.610850\n2     0.970717\n3...</td>\n      <td>0    -0.147376\n1    -0.147376\n2    -5.962515\n3...</td>\n      <td>0    -0.103872\n1    -0.103872\n2    -7.593275\n3...</td>\n      <td>0    -0.109198\n1    -0.109198\n2    -0.697804\n3...</td>\n      <td>0    -0.037287\n1    -0.037287\n2    -2.865789\n3...</td>\n    </tr>\n    <tr>\n      <th>2</th>\n      <td>0    -0.813905\n1    -0.813905\n2    -0.424628\n3...</td>\n      <td>0     0.825666\n1     0.825666\n2    -1.305033\n3...</td>\n      <td>0     0.032712\n1     0.032712\n2     0.826170\n3...</td>\n      <td>0     0.021307\n1     0.021307\n2    -0.372872\n3...</td>\n      <td>0     0.122515\n1     0.122515\n2    -0.045277\n3...</td>\n      <td>0     0.775041\n1     0.775041\n2     0.383526\n3...</td>\n    </tr>\n    <tr>\n      <th>3</th>\n      <td>0     0.289855\n1     0.289855\n2    -0.669185\n3...</td>\n      <td>0     0.284130\n1     0.284130\n2    -0.210466\n3...</td>\n      <td>0     0.213680\n1     0.213680\n2     0.252267\n3...</td>\n      <td>0    -0.314278\n1    -0.314278\n2     0.018644\n3...</td>\n      <td>0     0.074574\n1     0.074574\n2     0.007990\n3...</td>\n      <td>0    -0.079901\n1    -0.079901\n2     0.237040\n3...</td>\n    </tr>\n    <tr>\n      <th>4</th>\n      <td>0    -0.123238\n1    -0.123238\n2    -0.249547\n3...</td>\n      <td>0     0.379341\n1     0.379341\n2     0.541501\n3...</td>\n      <td>0    -0.286006\n1    -0.286006\n2     0.208420\n3...</td>\n      <td>0    -0.098545\n1    -0.098545\n2    -0.023970\n3...</td>\n      <td>0     0.058594\n1     0.058594\n2     0.175783\n3...</td>\n      <td>0    -0.074574\n1    -0.074574\n2     0.114525\n3...</td>\n    </tr>\n  </tbody>\n</table>\n</div>"
     },
     "execution_count": 10,
     "metadata": {},
     "output_type": "execute_result"
    }
   ],
   "source": [
    "X, y = load_from_arff_to_dataframe(\n",
    "    os.path.join(DATA_PATH, \"BasicMotions/BasicMotions_TRAIN.arff\")\n",
    ")\n",
    "X.head()"
   ]
  },
  {
   "cell_type": "markdown",
   "metadata": {},
   "source": [
    "### Loading from UCR .tsv Format Files\n",
    "\n",
    "A further option is to load data into aeon from tab separated value (.tsv) files. Researchers at the University of Riverside, California make a variety of timeseries data available in this format at https://www.cs.ucr.edu/~eamonn/time_series_data_2018.\n",
    "\n",
    "The `load_from_ucr_tsv_to_dataframe` method in `aeon.datasets` supports reading\n",
    "univariate problems. An example with ArrowHead is given below to demonstrate equivalence with loading from the .ts and ARFF file formats."
   ]
  },
  {
   "cell_type": "code",
   "execution_count": 11,
   "metadata": {
    "execution": {
     "iopub.execute_input": "2020-12-19T14:32:13.958719Z",
     "iopub.status.busy": "2020-12-19T14:32:13.958207Z",
     "iopub.status.idle": "2020-12-19T14:32:13.991444Z",
     "shell.execute_reply": "2020-12-19T14:32:13.992003Z"
    }
   },
   "outputs": [
    {
     "data": {
      "text/plain": "                                               dim_0\n0  0     -1.963009\n1     -1.957825\n2     -1.95614...\n1  0     -1.774571\n1     -1.774036\n2     -1.77658...\n2  0     -1.866021\n1     -1.841991\n2     -1.83502...\n3  0     -2.073758\n1     -2.073301\n2     -2.04460...\n4  0     -1.746255\n1     -1.741263\n2     -1.72274...",
      "text/html": "<div>\n<style scoped>\n    .dataframe tbody tr th:only-of-type {\n        vertical-align: middle;\n    }\n\n    .dataframe tbody tr th {\n        vertical-align: top;\n    }\n\n    .dataframe thead th {\n        text-align: right;\n    }\n</style>\n<table border=\"1\" class=\"dataframe\">\n  <thead>\n    <tr style=\"text-align: right;\">\n      <th></th>\n      <th>dim_0</th>\n    </tr>\n  </thead>\n  <tbody>\n    <tr>\n      <th>0</th>\n      <td>0     -1.963009\n1     -1.957825\n2     -1.95614...</td>\n    </tr>\n    <tr>\n      <th>1</th>\n      <td>0     -1.774571\n1     -1.774036\n2     -1.77658...</td>\n    </tr>\n    <tr>\n      <th>2</th>\n      <td>0     -1.866021\n1     -1.841991\n2     -1.83502...</td>\n    </tr>\n    <tr>\n      <th>3</th>\n      <td>0     -2.073758\n1     -2.073301\n2     -2.04460...</td>\n    </tr>\n    <tr>\n      <th>4</th>\n      <td>0     -1.746255\n1     -1.741263\n2     -1.72274...</td>\n    </tr>\n  </tbody>\n</table>\n</div>"
     },
     "execution_count": 11,
     "metadata": {},
     "output_type": "execute_result"
    }
   ],
   "source": [
    "from aeon.datasets import load_from_ucr_tsv_to_dataframe\n",
    "\n",
    "X, y = load_from_ucr_tsv_to_dataframe(\n",
    "    os.path.join(DATA_PATH, \"ArrowHead/ArrowHead_TRAIN.tsv\")\n",
    ")\n",
    "X.head()"
   ]
  }
 ],
 "metadata": {
  "kernelspec": {
   "display_name": "Python 3",
   "language": "python",
   "name": "python3"
  },
  "language_info": {
   "codemirror_mode": {
    "name": "ipython",
    "version": 3
   },
   "file_extension": ".py",
   "mimetype": "text/x-python",
   "name": "python",
   "nbconvert_exporter": "python",
   "pygments_lexer": "ipython3",
   "version": "3.8.12"
  }
 },
 "nbformat": 4,
 "nbformat_minor": 4
}
