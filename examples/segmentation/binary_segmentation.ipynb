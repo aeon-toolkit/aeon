{
 "cells": [
  {
   "cell_type": "markdown",
   "metadata": {
    "id": "AddKF0mKttTq"
   },
   "source": [
    "# **Binary Segmentation in Time Series**\n",
    "The `BinSegSegmenter` class performs **binary segmentation**, a method to detect change points in a time series. It recursively finds and splits data at detected change points.\n",
    "\n",
    "\n",
    "## Parameters  \n",
    "\n",
    "### `n_cps` (`int`, default = `1`)  \n",
    "  - Specifies the number of change points to detect.  \n",
    "  - A higher value detects more segment boundaries.  \n",
    "\n",
    "\n",
    "### `model` (`str`, default = `\"l2\"`)  \n",
    "  - Determines the segmentation model for detecting changes.  \n",
    "  - Available models:  \n",
    "    - `\"l1\"` → Detects sharp, sudden changes using absolute differences.  \n",
    "    - `\"l2\"` → Measures gradual transitions using squared difference.  \n",
    "    - `\"rbf\"` → Uses a Radial Basis Function (RBF) kernel to detect complex, non-linear changes.  \n",
    "    - `\"linear\"` → Identifies changes in trends/slopes (useful for financial data).  \n",
    "    - `\"normal\"` → Assumes a normal distribution and detects changes in mean or variance.  \n",
    "\n",
    "\n",
    "### `min_size` (`int`, default = `2`)  \n",
    "  - Defines the smallest possible segment length after a change point is detected.  \n",
    "  - Helps prevent very short, unreliable segments.  \n",
    "\n",
    "\n",
    "### `jump` (`int`, default = `5`)  \n",
    "  - Determines how often the algorithm evaluates data points (subsampling).  \n",
    "  - A higher value makes detection faster but may reduce precision.  \n",
    "\n",
    "\n"
   ]
  },
  {
   "cell_type": "code",
   "execution_count": 9,
   "metadata": {
    "colab": {
     "base_uri": "https://localhost:8080/"
    },
    "id": "QXYWgJUBlBXk",
    "outputId": "1cf10182-6561-4cb3-90fd-c27728066c93"
   },
   "outputs": [
    {
     "name": "stdout",
     "output_type": "stream",
     "text": [
      "Detected change points: [50]\n"
     ]
    }
   ],
   "source": [
    "import numpy as np\n",
    "\n",
    "from aeon.segmentation import BinSegSegmenter\n",
    "\n",
    "np.random.seed(42)\n",
    "X = np.concatenate([np.random.normal(0, 1, 50), np.random.normal(5, 1, 50)])\n",
    "\n",
    "binseg = BinSegSegmenter(n_cps=1, model=\"l2\")\n",
    "\n",
    "found_cps = binseg._predict(X)\n",
    "\n",
    "print(\"Detected change points:\", found_cps)"
   ]
  },
  {
   "cell_type": "code",
   "execution_count": null,
   "metadata": {
    "id": "GvwOKNVJlKa2"
   },
   "outputs": [],
   "source": []
  }
 ],
 "metadata": {
  "colab": {
   "provenance": []
  },
  "kernelspec": {
   "display_name": "Python 3",
   "name": "python3"
  },
  "language_info": {
   "name": "python"
  }
 },
 "nbformat": 4,
 "nbformat_minor": 0
}
