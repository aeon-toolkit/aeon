{
 "cells": [
  {
   "cell_type": "markdown",
   "id": "social-laptop",
   "metadata": {},
   "source": [
    "# Time Series Segmentation with aeon and ClaSP\n",
    "\n",
    "In this notebook, we will showcase `aeon` and `ClaSP` for the task of time series segmentation. We illustrate the ease of use of ClaSP, and present the found segmentation for a show case."
   ]
  },
  {
   "cell_type": "markdown",
   "id": "palestinian-innocent",
   "metadata": {},
   "source": [
    "\n",
    "# Prerequisites"
   ]
  },
  {
   "cell_type": "code",
   "execution_count": 3,
   "id": "religious-fields",
   "metadata": {},
   "outputs": [],
   "source": [
    "import sys\n",
    "\n",
    "sys.path.insert(0, \"..\")\n",
    "\n",
    "import pandas as pd\n",
    "import seaborn as sns\n",
    "\n",
    "sns.set_theme()\n",
    "sns.set_color_codes()\n",
    "\n",
    "from aeon.annotation.plotting.utils import (\n",
    "    plot_time_series_with_change_points,\n",
    "    plot_time_series_with_profiles,\n",
    ")\n",
    "from aeon.datasets import load_electric_devices_segmentation\n",
    "from aeon.segmentation import ClaSPSegmenter, find_dominant_window_sizes"
   ]
  },
  {
   "cell_type": "markdown",
   "id": "continuing-prototype",
   "metadata": {},
   "source": [
    "The following use case shows an energy profile of electric household devices with four change points indicating different operational states or pluged household devices."
   ]
  },
  {
   "cell_type": "code",
   "execution_count": 4,
   "id": "dangerous-benefit",
   "metadata": {},
   "outputs": [
    {
     "ename": "ValueError",
     "evalue": "Multi-dimensional indexing (e.g. `obj[:, None]`) is no longer supported. Convert to a numpy array before indexing instead.",
     "output_type": "error",
     "traceback": [
      "\u001B[1;31m---------------------------------------------------------------------------\u001B[0m",
      "\u001B[1;31mValueError\u001B[0m                                Traceback (most recent call last)",
      "Cell \u001B[1;32mIn[4], line 2\u001B[0m\n\u001B[0;32m      1\u001B[0m ts, period_size, true_cps \u001B[38;5;241m=\u001B[39m load_electric_devices_segmentation()\n\u001B[1;32m----> 2\u001B[0m _ \u001B[38;5;241m=\u001B[39m \u001B[43mplot_time_series_with_change_points\u001B[49m\u001B[43m(\u001B[49m\u001B[38;5;124;43m\"\u001B[39;49m\u001B[38;5;124;43mElectric Devices\u001B[39;49m\u001B[38;5;124;43m\"\u001B[39;49m\u001B[43m,\u001B[49m\u001B[43m \u001B[49m\u001B[43mts\u001B[49m\u001B[43m,\u001B[49m\u001B[43m \u001B[49m\u001B[43mtrue_cps\u001B[49m\u001B[43m)\u001B[49m\n",
      "File \u001B[1;32mC:\\Code\\aeon\\aeon\\annotation\\plotting\\utils.py:50\u001B[0m, in \u001B[0;36mplot_time_series_with_change_points\u001B[1;34m(ts_name, ts, true_cps, font_size)\u001B[0m\n\u001B[0;32m     47\u001B[0m segments \u001B[38;5;241m=\u001B[39m [\u001B[38;5;241m0\u001B[39m] \u001B[38;5;241m+\u001B[39m \u001B[38;5;28mlist\u001B[39m(true_cps) \u001B[38;5;241m+\u001B[39m [ts\u001B[38;5;241m.\u001B[39mshape[\u001B[38;5;241m0\u001B[39m]]\n\u001B[0;32m     49\u001B[0m \u001B[38;5;28;01mfor\u001B[39;00m idx \u001B[38;5;129;01min\u001B[39;00m np\u001B[38;5;241m.\u001B[39marange(\u001B[38;5;241m0\u001B[39m, \u001B[38;5;28mlen\u001B[39m(segments) \u001B[38;5;241m-\u001B[39m \u001B[38;5;241m1\u001B[39m):\n\u001B[1;32m---> 50\u001B[0m     \u001B[43mplt\u001B[49m\u001B[38;5;241;43m.\u001B[39;49m\u001B[43mplot\u001B[49m\u001B[43m(\u001B[49m\n\u001B[0;32m     51\u001B[0m \u001B[43m        \u001B[49m\u001B[38;5;28;43mrange\u001B[39;49m\u001B[43m(\u001B[49m\u001B[43msegments\u001B[49m\u001B[43m[\u001B[49m\u001B[43midx\u001B[49m\u001B[43m]\u001B[49m\u001B[43m,\u001B[49m\u001B[43m \u001B[49m\u001B[43msegments\u001B[49m\u001B[43m[\u001B[49m\u001B[43midx\u001B[49m\u001B[43m \u001B[49m\u001B[38;5;241;43m+\u001B[39;49m\u001B[43m \u001B[49m\u001B[38;5;241;43m1\u001B[39;49m\u001B[43m]\u001B[49m\u001B[43m)\u001B[49m\u001B[43m,\u001B[49m\n\u001B[0;32m     52\u001B[0m \u001B[43m        \u001B[49m\u001B[43mts\u001B[49m\u001B[43m[\u001B[49m\u001B[43msegments\u001B[49m\u001B[43m[\u001B[49m\u001B[43midx\u001B[49m\u001B[43m]\u001B[49m\u001B[43m \u001B[49m\u001B[43m:\u001B[49m\u001B[43m \u001B[49m\u001B[43msegments\u001B[49m\u001B[43m[\u001B[49m\u001B[43midx\u001B[49m\u001B[43m \u001B[49m\u001B[38;5;241;43m+\u001B[39;49m\u001B[43m \u001B[49m\u001B[38;5;241;43m1\u001B[39;49m\u001B[43m]\u001B[49m\u001B[43m]\u001B[49m\u001B[43m,\u001B[49m\n\u001B[0;32m     53\u001B[0m \u001B[43m    \u001B[49m\u001B[43m)\u001B[49m\n\u001B[0;32m     55\u001B[0m lim1 \u001B[38;5;241m=\u001B[39m plt\u001B[38;5;241m.\u001B[39mylim()[\u001B[38;5;241m0\u001B[39m]\n\u001B[0;32m     56\u001B[0m lim2 \u001B[38;5;241m=\u001B[39m plt\u001B[38;5;241m.\u001B[39mylim()[\u001B[38;5;241m1\u001B[39m]\n",
      "File \u001B[1;32mC:\\Code\\aeon\\venv\\lib\\site-packages\\matplotlib\\pyplot.py:2757\u001B[0m, in \u001B[0;36mplot\u001B[1;34m(scalex, scaley, data, *args, **kwargs)\u001B[0m\n\u001B[0;32m   2755\u001B[0m \u001B[38;5;129m@_copy_docstring_and_deprecators\u001B[39m(Axes\u001B[38;5;241m.\u001B[39mplot)\n\u001B[0;32m   2756\u001B[0m \u001B[38;5;28;01mdef\u001B[39;00m \u001B[38;5;21mplot\u001B[39m(\u001B[38;5;241m*\u001B[39margs, scalex\u001B[38;5;241m=\u001B[39m\u001B[38;5;28;01mTrue\u001B[39;00m, scaley\u001B[38;5;241m=\u001B[39m\u001B[38;5;28;01mTrue\u001B[39;00m, data\u001B[38;5;241m=\u001B[39m\u001B[38;5;28;01mNone\u001B[39;00m, \u001B[38;5;241m*\u001B[39m\u001B[38;5;241m*\u001B[39mkwargs):\n\u001B[1;32m-> 2757\u001B[0m     \u001B[38;5;28;01mreturn\u001B[39;00m gca()\u001B[38;5;241m.\u001B[39mplot(\n\u001B[0;32m   2758\u001B[0m         \u001B[38;5;241m*\u001B[39margs, scalex\u001B[38;5;241m=\u001B[39mscalex, scaley\u001B[38;5;241m=\u001B[39mscaley,\n\u001B[0;32m   2759\u001B[0m         \u001B[38;5;241m*\u001B[39m\u001B[38;5;241m*\u001B[39m({\u001B[38;5;124m\"\u001B[39m\u001B[38;5;124mdata\u001B[39m\u001B[38;5;124m\"\u001B[39m: data} \u001B[38;5;28;01mif\u001B[39;00m data \u001B[38;5;129;01mis\u001B[39;00m \u001B[38;5;129;01mnot\u001B[39;00m \u001B[38;5;28;01mNone\u001B[39;00m \u001B[38;5;28;01melse\u001B[39;00m {}), \u001B[38;5;241m*\u001B[39m\u001B[38;5;241m*\u001B[39mkwargs)\n",
      "File \u001B[1;32mC:\\Code\\aeon\\venv\\lib\\site-packages\\matplotlib\\axes\\_axes.py:1632\u001B[0m, in \u001B[0;36mAxes.plot\u001B[1;34m(self, scalex, scaley, data, *args, **kwargs)\u001B[0m\n\u001B[0;32m   1390\u001B[0m \u001B[38;5;250m\u001B[39m\u001B[38;5;124;03m\"\"\"\u001B[39;00m\n\u001B[0;32m   1391\u001B[0m \u001B[38;5;124;03mPlot y versus x as lines and/or markers.\u001B[39;00m\n\u001B[0;32m   1392\u001B[0m \n\u001B[1;32m   (...)\u001B[0m\n\u001B[0;32m   1629\u001B[0m \u001B[38;5;124;03m(``'green'``) or hex strings (``'#008000'``).\u001B[39;00m\n\u001B[0;32m   1630\u001B[0m \u001B[38;5;124;03m\"\"\"\u001B[39;00m\n\u001B[0;32m   1631\u001B[0m kwargs \u001B[38;5;241m=\u001B[39m cbook\u001B[38;5;241m.\u001B[39mnormalize_kwargs(kwargs, mlines\u001B[38;5;241m.\u001B[39mLine2D)\n\u001B[1;32m-> 1632\u001B[0m lines \u001B[38;5;241m=\u001B[39m [\u001B[38;5;241m*\u001B[39m\u001B[38;5;28mself\u001B[39m\u001B[38;5;241m.\u001B[39m_get_lines(\u001B[38;5;241m*\u001B[39margs, data\u001B[38;5;241m=\u001B[39mdata, \u001B[38;5;241m*\u001B[39m\u001B[38;5;241m*\u001B[39mkwargs)]\n\u001B[0;32m   1633\u001B[0m \u001B[38;5;28;01mfor\u001B[39;00m line \u001B[38;5;129;01min\u001B[39;00m lines:\n\u001B[0;32m   1634\u001B[0m     \u001B[38;5;28mself\u001B[39m\u001B[38;5;241m.\u001B[39madd_line(line)\n",
      "File \u001B[1;32mC:\\Code\\aeon\\venv\\lib\\site-packages\\matplotlib\\axes\\_base.py:312\u001B[0m, in \u001B[0;36m_process_plot_var_args.__call__\u001B[1;34m(self, data, *args, **kwargs)\u001B[0m\n\u001B[0;32m    310\u001B[0m     this \u001B[38;5;241m+\u001B[39m\u001B[38;5;241m=\u001B[39m args[\u001B[38;5;241m0\u001B[39m],\n\u001B[0;32m    311\u001B[0m     args \u001B[38;5;241m=\u001B[39m args[\u001B[38;5;241m1\u001B[39m:]\n\u001B[1;32m--> 312\u001B[0m \u001B[38;5;28;01myield from\u001B[39;00m \u001B[38;5;28;43mself\u001B[39;49m\u001B[38;5;241;43m.\u001B[39;49m\u001B[43m_plot_args\u001B[49m\u001B[43m(\u001B[49m\u001B[43mthis\u001B[49m\u001B[43m,\u001B[49m\u001B[43m \u001B[49m\u001B[43mkwargs\u001B[49m\u001B[43m)\u001B[49m\n",
      "File \u001B[1;32mC:\\Code\\aeon\\venv\\lib\\site-packages\\matplotlib\\axes\\_base.py:488\u001B[0m, in \u001B[0;36m_process_plot_var_args._plot_args\u001B[1;34m(self, tup, kwargs, return_kwargs)\u001B[0m\n\u001B[0;32m    486\u001B[0m \u001B[38;5;28;01mif\u001B[39;00m \u001B[38;5;28mlen\u001B[39m(xy) \u001B[38;5;241m==\u001B[39m \u001B[38;5;241m2\u001B[39m:\n\u001B[0;32m    487\u001B[0m     x \u001B[38;5;241m=\u001B[39m _check_1d(xy[\u001B[38;5;241m0\u001B[39m])\n\u001B[1;32m--> 488\u001B[0m     y \u001B[38;5;241m=\u001B[39m \u001B[43m_check_1d\u001B[49m\u001B[43m(\u001B[49m\u001B[43mxy\u001B[49m\u001B[43m[\u001B[49m\u001B[38;5;241;43m1\u001B[39;49m\u001B[43m]\u001B[49m\u001B[43m)\u001B[49m\n\u001B[0;32m    489\u001B[0m \u001B[38;5;28;01melse\u001B[39;00m:\n\u001B[0;32m    490\u001B[0m     x, y \u001B[38;5;241m=\u001B[39m index_of(xy[\u001B[38;5;241m-\u001B[39m\u001B[38;5;241m1\u001B[39m])\n",
      "File \u001B[1;32mC:\\Code\\aeon\\venv\\lib\\site-packages\\matplotlib\\cbook\\__init__.py:1327\u001B[0m, in \u001B[0;36m_check_1d\u001B[1;34m(x)\u001B[0m\n\u001B[0;32m   1321\u001B[0m \u001B[38;5;28;01mwith\u001B[39;00m warnings\u001B[38;5;241m.\u001B[39mcatch_warnings(record\u001B[38;5;241m=\u001B[39m\u001B[38;5;28;01mTrue\u001B[39;00m) \u001B[38;5;28;01mas\u001B[39;00m w:\n\u001B[0;32m   1322\u001B[0m     warnings\u001B[38;5;241m.\u001B[39mfilterwarnings(\n\u001B[0;32m   1323\u001B[0m         \u001B[38;5;124m\"\u001B[39m\u001B[38;5;124malways\u001B[39m\u001B[38;5;124m\"\u001B[39m,\n\u001B[0;32m   1324\u001B[0m         category\u001B[38;5;241m=\u001B[39m\u001B[38;5;167;01mWarning\u001B[39;00m,\n\u001B[0;32m   1325\u001B[0m         message\u001B[38;5;241m=\u001B[39m\u001B[38;5;124m'\u001B[39m\u001B[38;5;124mSupport for multi-dimensional indexing\u001B[39m\u001B[38;5;124m'\u001B[39m)\n\u001B[1;32m-> 1327\u001B[0m     ndim \u001B[38;5;241m=\u001B[39m \u001B[43mx\u001B[49m\u001B[43m[\u001B[49m\u001B[43m:\u001B[49m\u001B[43m,\u001B[49m\u001B[43m \u001B[49m\u001B[38;5;28;43;01mNone\u001B[39;49;00m\u001B[43m]\u001B[49m\u001B[38;5;241m.\u001B[39mndim\n\u001B[0;32m   1328\u001B[0m     \u001B[38;5;66;03m# we have definitely hit a pandas index or series object\u001B[39;00m\n\u001B[0;32m   1329\u001B[0m     \u001B[38;5;66;03m# cast to a numpy array.\u001B[39;00m\n\u001B[0;32m   1330\u001B[0m     \u001B[38;5;28;01mif\u001B[39;00m \u001B[38;5;28mlen\u001B[39m(w) \u001B[38;5;241m>\u001B[39m \u001B[38;5;241m0\u001B[39m:\n",
      "File \u001B[1;32mC:\\Code\\aeon\\venv\\lib\\site-packages\\pandas\\core\\series.py:1033\u001B[0m, in \u001B[0;36mSeries.__getitem__\u001B[1;34m(self, key)\u001B[0m\n\u001B[0;32m   1030\u001B[0m     key \u001B[38;5;241m=\u001B[39m np\u001B[38;5;241m.\u001B[39masarray(key, dtype\u001B[38;5;241m=\u001B[39m\u001B[38;5;28mbool\u001B[39m)\n\u001B[0;32m   1031\u001B[0m     \u001B[38;5;28;01mreturn\u001B[39;00m \u001B[38;5;28mself\u001B[39m\u001B[38;5;241m.\u001B[39m_get_values(key)\n\u001B[1;32m-> 1033\u001B[0m \u001B[38;5;28;01mreturn\u001B[39;00m \u001B[38;5;28;43mself\u001B[39;49m\u001B[38;5;241;43m.\u001B[39;49m\u001B[43m_get_with\u001B[49m\u001B[43m(\u001B[49m\u001B[43mkey\u001B[49m\u001B[43m)\u001B[49m\n",
      "File \u001B[1;32mC:\\Code\\aeon\\venv\\lib\\site-packages\\pandas\\core\\series.py:1048\u001B[0m, in \u001B[0;36mSeries._get_with\u001B[1;34m(self, key)\u001B[0m\n\u001B[0;32m   1043\u001B[0m     \u001B[38;5;28;01mraise\u001B[39;00m \u001B[38;5;167;01mTypeError\u001B[39;00m(\n\u001B[0;32m   1044\u001B[0m         \u001B[38;5;124m\"\u001B[39m\u001B[38;5;124mIndexing a Series with DataFrame is not \u001B[39m\u001B[38;5;124m\"\u001B[39m\n\u001B[0;32m   1045\u001B[0m         \u001B[38;5;124m\"\u001B[39m\u001B[38;5;124msupported, use the appropriate DataFrame column\u001B[39m\u001B[38;5;124m\"\u001B[39m\n\u001B[0;32m   1046\u001B[0m     )\n\u001B[0;32m   1047\u001B[0m \u001B[38;5;28;01melif\u001B[39;00m \u001B[38;5;28misinstance\u001B[39m(key, \u001B[38;5;28mtuple\u001B[39m):\n\u001B[1;32m-> 1048\u001B[0m     \u001B[38;5;28;01mreturn\u001B[39;00m \u001B[38;5;28;43mself\u001B[39;49m\u001B[38;5;241;43m.\u001B[39;49m\u001B[43m_get_values_tuple\u001B[49m\u001B[43m(\u001B[49m\u001B[43mkey\u001B[49m\u001B[43m)\u001B[49m\n\u001B[0;32m   1050\u001B[0m \u001B[38;5;28;01melif\u001B[39;00m \u001B[38;5;129;01mnot\u001B[39;00m is_list_like(key):\n\u001B[0;32m   1051\u001B[0m     \u001B[38;5;66;03m# e.g. scalars that aren't recognized by lib.is_scalar, GH#32684\u001B[39;00m\n\u001B[0;32m   1052\u001B[0m     \u001B[38;5;28;01mreturn\u001B[39;00m \u001B[38;5;28mself\u001B[39m\u001B[38;5;241m.\u001B[39mloc[key]\n",
      "File \u001B[1;32mC:\\Code\\aeon\\venv\\lib\\site-packages\\pandas\\core\\series.py:1082\u001B[0m, in \u001B[0;36mSeries._get_values_tuple\u001B[1;34m(self, key)\u001B[0m\n\u001B[0;32m   1077\u001B[0m \u001B[38;5;28;01mif\u001B[39;00m com\u001B[38;5;241m.\u001B[39many_none(\u001B[38;5;241m*\u001B[39mkey):\n\u001B[0;32m   1078\u001B[0m     \u001B[38;5;66;03m# mpl compat if we look up e.g. ser[:, np.newaxis];\u001B[39;00m\n\u001B[0;32m   1079\u001B[0m     \u001B[38;5;66;03m#  see tests.series.timeseries.test_mpl_compat_hack\u001B[39;00m\n\u001B[0;32m   1080\u001B[0m     \u001B[38;5;66;03m# the asarray is needed to avoid returning a 2D DatetimeArray\u001B[39;00m\n\u001B[0;32m   1081\u001B[0m     result \u001B[38;5;241m=\u001B[39m np\u001B[38;5;241m.\u001B[39masarray(\u001B[38;5;28mself\u001B[39m\u001B[38;5;241m.\u001B[39m_values[key])\n\u001B[1;32m-> 1082\u001B[0m     \u001B[43mdisallow_ndim_indexing\u001B[49m\u001B[43m(\u001B[49m\u001B[43mresult\u001B[49m\u001B[43m)\u001B[49m\n\u001B[0;32m   1083\u001B[0m     \u001B[38;5;28;01mreturn\u001B[39;00m result\n\u001B[0;32m   1085\u001B[0m \u001B[38;5;28;01mif\u001B[39;00m \u001B[38;5;129;01mnot\u001B[39;00m \u001B[38;5;28misinstance\u001B[39m(\u001B[38;5;28mself\u001B[39m\u001B[38;5;241m.\u001B[39mindex, MultiIndex):\n",
      "File \u001B[1;32mC:\\Code\\aeon\\venv\\lib\\site-packages\\pandas\\core\\indexers\\utils.py:343\u001B[0m, in \u001B[0;36mdisallow_ndim_indexing\u001B[1;34m(result)\u001B[0m\n\u001B[0;32m    335\u001B[0m \u001B[38;5;250m\u001B[39m\u001B[38;5;124;03m\"\"\"\u001B[39;00m\n\u001B[0;32m    336\u001B[0m \u001B[38;5;124;03mHelper function to disallow multi-dimensional indexing on 1D Series/Index.\u001B[39;00m\n\u001B[0;32m    337\u001B[0m \n\u001B[1;32m   (...)\u001B[0m\n\u001B[0;32m    340\u001B[0m \u001B[38;5;124;03min GH#30588.\u001B[39;00m\n\u001B[0;32m    341\u001B[0m \u001B[38;5;124;03m\"\"\"\u001B[39;00m\n\u001B[0;32m    342\u001B[0m \u001B[38;5;28;01mif\u001B[39;00m np\u001B[38;5;241m.\u001B[39mndim(result) \u001B[38;5;241m>\u001B[39m \u001B[38;5;241m1\u001B[39m:\n\u001B[1;32m--> 343\u001B[0m     \u001B[38;5;28;01mraise\u001B[39;00m \u001B[38;5;167;01mValueError\u001B[39;00m(\n\u001B[0;32m    344\u001B[0m         \u001B[38;5;124m\"\u001B[39m\u001B[38;5;124mMulti-dimensional indexing (e.g. `obj[:, None]`) is no longer \u001B[39m\u001B[38;5;124m\"\u001B[39m\n\u001B[0;32m    345\u001B[0m         \u001B[38;5;124m\"\u001B[39m\u001B[38;5;124msupported. Convert to a numpy array before indexing instead.\u001B[39m\u001B[38;5;124m\"\u001B[39m\n\u001B[0;32m    346\u001B[0m     )\n",
      "\u001B[1;31mValueError\u001B[0m: Multi-dimensional indexing (e.g. `obj[:, None]`) is no longer supported. Convert to a numpy array before indexing instead."
     ]
    },
    {
     "data": {
      "text/plain": "<Figure size 2000x500 with 1 Axes>",
      "image/png": "[encoded data removed]"
     },
     "metadata": {},
     "output_type": "display_data"
    }
   ],
   "source": [
    "ts, period_size, true_cps = load_electric_devices_segmentation()\n",
    "_ = plot_time_series_with_change_points(\"Electric Devices\", ts, true_cps)"
   ]
  },
  {
   "cell_type": "markdown",
   "id": "provincial-comment",
   "metadata": {},
   "source": [
    "The anotated change points are around time stamps $[1090,4436,5712,7923]$, from which different electric devices are recorded."
   ]
  },
  {
   "cell_type": "markdown",
   "id": "stopped-supervisor",
   "metadata": {},
   "source": [
    "# Time Series Segmentation through ClaSP\n",
    "\n",
    "This Jupyter-Notebook illustrates the usage of the *Classification Score Profile (ClaSP)* for time series segmentation.\n",
    "\n",
    "ClaSP hierarchically splits a TS into two parts, where each split point is determined by training a binary TS classifier for each possible split point and selecting the one with highest accuracy, i.e., the one that is best at identifying subsequences to be from either of the partitions.\n",
    "\n",
    "Please refer to our paper, published at CIKM '21, for details:\n",
    "*P. Schäfer, A. Ermshaus, U. Leser, ClaSP - Time Series Segmentation, CIKM 2021*"
   ]
  },
  {
   "cell_type": "markdown",
   "id": "strange-saying",
   "metadata": {},
   "source": [
    "# Retrieve the data\n",
    "\n",
    "First lets look at and plot the time series to be segmented."
   ]
  },
  {
   "cell_type": "code",
   "execution_count": null,
   "id": "spread-slope",
   "metadata": {},
   "outputs": [],
   "source": [
    "# ts is a pd.Series\n",
    "# we convert it into a DataFrame for display purposed only\n",
    "pd.DataFrame(ts)"
   ]
  },
  {
   "cell_type": "markdown",
   "id": "unlimited-brain",
   "metadata": {},
   "source": [
    "# ClaSP - Classification Score Profile\n",
    "\n",
    "Let's run ClaSP to find the true change point.\n",
    "\n",
    "ClaSP has two hyper-parameters:\n",
    "- The period length\n",
    "- The number of change points to find\n",
    "\n",
    "The result of ClaSP is a profile in which the maximum indicates the found change points."
   ]
  },
  {
   "cell_type": "code",
   "execution_count": null,
   "id": "removed-health",
   "metadata": {},
   "outputs": [],
   "source": [
    "clasp = ClaSPSegmenter(period_length=period_size, n_cps=5)\n",
    "found_cps = clasp.fit_predict(ts)\n",
    "profiles = clasp.profiles\n",
    "scores = clasp.scores\n",
    "print(\"The found change points are\", found_cps)"
   ]
  },
  {
   "cell_type": "markdown",
   "id": "retired-sherman",
   "metadata": {},
   "source": [
    "# Visualization of segmentation\n",
    "... and we visualize the results."
   ]
  },
  {
   "cell_type": "code",
   "execution_count": null,
   "id": "miniature-wound",
   "metadata": {},
   "outputs": [],
   "source": [
    "_ = plot_time_series_with_profiles(\n",
    "    \"Electric Devices\",\n",
    "    ts,\n",
    "    profiles,\n",
    "    true_cps,\n",
    "    found_cps,\n",
    ")"
   ]
  },
  {
   "cell_type": "markdown",
   "id": "downtown-knitting",
   "metadata": {},
   "source": [
    "The predicted change points in green closely resembles the true change points in red."
   ]
  },
  {
   "cell_type": "markdown",
   "id": "naughty-gazette",
   "metadata": {},
   "source": [
    "# ClaSP - Window Size Selection\n",
    "\n",
    "ClaSP takes the window size 𝑤 as a hyper-parameter. This parameter has data-dependent effects on ClaSP’s performance. When chosen too small, all windows tend to appear similar; when chosen too large, windows have a higher chance to overlap adjacent segments, blurring their discriminative power.\n",
    "\n",
    "A simple, yet effective method for choosing the window size is the dominant frequency of the Fourier Transform."
   ]
  },
  {
   "cell_type": "code",
   "execution_count": null,
   "id": "premier-pipeline",
   "metadata": {},
   "outputs": [],
   "source": [
    "dominant_period_size = find_dominant_window_sizes(ts)\n",
    "print(\"Dominant Period\", dominant_period_size)"
   ]
  },
  {
   "cell_type": "markdown",
   "id": "chubby-following",
   "metadata": {},
   "source": [
    "Let us run ClaSP with the found dominant period length."
   ]
  },
  {
   "cell_type": "code",
   "execution_count": null,
   "id": "congressional-begin",
   "metadata": {},
   "outputs": [],
   "source": [
    "clasp = ClaSPSegmenter(period_length=dominant_period_size, n_cps=5)\n",
    "found_cps = clasp.fit_predict(ts)\n",
    "profiles = clasp.profiles\n",
    "scores = clasp.scores\n",
    "\n",
    "_ = plot_time_series_with_profiles(\n",
    "    \"ElectricDevices\",\n",
    "    ts,\n",
    "    profiles,\n",
    "    true_cps,\n",
    "    found_cps,\n",
    ")"
   ]
  },
  {
   "cell_type": "code",
   "execution_count": null,
   "id": "current-chamber",
   "metadata": {},
   "outputs": [],
   "source": []
  }
 ],
 "metadata": {
  "kernelspec": {
   "display_name": "Python 3",
   "language": "python",
   "name": "python3"
  },
  "language_info": {
   "codemirror_mode": {
    "name": "ipython",
    "version": 3
   },
   "file_extension": ".py",
   "mimetype": "text/x-python",
   "name": "python",
   "nbconvert_exporter": "python",
   "pygments_lexer": "ipython3",
   "version": "3.7.4"
  }
 },
 "nbformat": 4,
 "nbformat_minor": 5
}
