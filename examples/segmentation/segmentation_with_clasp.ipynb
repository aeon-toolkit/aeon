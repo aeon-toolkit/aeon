{
 "cells": [
  {
   "cell_type": "markdown",
   "id": "social-laptop",
   "metadata": {},
   "source": [
    "# Time Series Segmentation with aeon and ClaSP\n",
    "\n",
    "In this notebook, we will showcase `aeon` and `ClaSP` for the task of time series segmentation. We illustrate the ease of use of ClaSP, and present the found segmentation for a show case."
   ]
  },
  {
   "cell_type": "markdown",
   "id": "palestinian-innocent",
   "metadata": {},
   "source": [
    "\n",
    "# Prerequisites"
   ]
  },
  {
   "cell_type": "code",
   "execution_count": 4,
   "id": "religious-fields",
   "metadata": {},
   "outputs": [],
   "source": [
    "import sys\n",
    "\n",
    "sys.path.insert(0, \"..\")\n",
    "\n",
    "import pandas as pd\n",
    "import seaborn as sns\n",
    "\n",
    "sns.set_theme()\n",
    "sns.set_color_codes()\n",
    "\n",
    "from aeon.annotation.plotting.utils import (\n",
    "    plot_time_series_with_change_points,\n",
    "    plot_time_series_with_profiles,\n",
    ")\n",
    "from aeon.datasets import load_electric_devices_segmentation\n",
    "from aeon.segmentation._clasp import ClaSPSegmentation, find_dominant_window_sizes"
   ]
  },
  {
   "cell_type": "markdown",
   "id": "continuing-prototype",
   "metadata": {},
   "source": [
    "The following use case shows an energy profile of electric household devices with four change points indicating different operational states or pluged household devices."
   ]
  },
  {
   "cell_type": "code",
   "execution_count": null,
   "id": "dangerous-benefit",
   "metadata": {},
   "outputs": [],
   "source": [
    "ts, period_size, true_cps = load_electric_devices_segmentation()\n",
    "_ = plot_time_series_with_change_points(\"Electric Devices\", ts, true_cps)"
   ]
  },
  {
   "cell_type": "markdown",
   "id": "provincial-comment",
   "metadata": {},
   "source": [
    "The anotated change points are around time stamps $[1090,4436,5712,7923]$, from which different electric devices are recorded."
   ]
  },
  {
   "cell_type": "markdown",
   "id": "stopped-supervisor",
   "metadata": {},
   "source": [
    "# Time Series Segmentation through ClaSP\n",
    "\n",
    "This Jupyter-Notebook illustrates the usage of the *Classification Score Profile (ClaSP)* for time series segmentation. \n",
    "\n",
    "ClaSP hierarchically splits a TS into two parts, where each split point is determined by training a binary TS classifier for each possible split point and selecting the one with highest accuracy, i.e., the one that is best at identifying subsequences to be from either of the partitions. \n",
    "\n",
    "Please refer to our paper, published at CIKM '21, for details:\n",
    "*P. Schäfer, A. Ermshaus, U. Leser, ClaSP - Time Series Segmentation, CIKM 2021*"
   ]
  },
  {
   "cell_type": "markdown",
   "id": "strange-saying",
   "metadata": {},
   "source": [
    "# Retrieve the data\n",
    "\n",
    "First lets look at and plot the time series to be segmented."
   ]
  },
  {
   "cell_type": "code",
   "execution_count": null,
   "id": "spread-slope",
   "metadata": {},
   "outputs": [],
   "source": [
    "# ts is a pd.Series\n",
    "# we convert it into a DataFrame for display purposed only\n",
    "pd.DataFrame(ts)"
   ]
  },
  {
   "cell_type": "markdown",
   "id": "unlimited-brain",
   "metadata": {},
   "source": [
    "# ClaSP - Classification Score Profile\n",
    "\n",
    "Let's run ClaSP to find the true change point. \n",
    "\n",
    "ClaSP has two hyper-parameters:\n",
    "- The period length\n",
    "- The number of change points to find\n",
    "\n",
    "The result of ClaSP is a profile in which the maximum indicates the found change points."
   ]
  },
  {
   "cell_type": "code",
   "execution_count": null,
   "id": "removed-health",
   "metadata": {},
   "outputs": [],
   "source": [
    "clasp = ClaSPSegmentation(period_length=period_size, n_cps=5, fmt=\"sparse\")\n",
    "found_cps = clasp.fit_predict(ts)\n",
    "profiles = clasp.profiles\n",
    "scores = clasp.scores\n",
    "print(\"The found change points are\", found_cps.to_numpy())"
   ]
  },
  {
   "cell_type": "markdown",
   "id": "retired-sherman",
   "metadata": {},
   "source": [
    "# Visualization of segmentation\n",
    "... and we visualize the results."
   ]
  },
  {
   "cell_type": "code",
   "execution_count": null,
   "id": "miniature-wound",
   "metadata": {},
   "outputs": [],
   "source": [
    "_ = plot_time_series_with_profiles(\n",
    "    \"Electric Devices\",\n",
    "    ts,\n",
    "    profiles,\n",
    "    true_cps,\n",
    "    found_cps,\n",
    ")"
   ]
  },
  {
   "cell_type": "markdown",
   "id": "downtown-knitting",
   "metadata": {},
   "source": [
    "The predicted change points in green closely resembles the true change points in red."
   ]
  },
  {
   "cell_type": "markdown",
   "id": "interstate-delta",
   "metadata": {},
   "source": [
    "# Output formats\n",
    "\n",
    "ClaSP provides two different output formats given the `fmt` input parameter:\n",
    "- `fmt:\"sparse\"`: provides the core change points\n",
    "- `fmt:\"dense\"`: provides an inteval series giving the segmentation\n",
    "\n",
    "We have seen the output of `fmt=\"sparse\"` before. This time we return `fmt=\"dense\"`."
   ]
  },
  {
   "cell_type": "code",
   "execution_count": null,
   "id": "affecting-league",
   "metadata": {},
   "outputs": [],
   "source": [
    "clasp = ClaSPSegmentation(period_length=period_size, n_cps=5, fmt=\"dense\")\n",
    "found_segmentation = clasp.fit_predict(ts)\n",
    "print(found_segmentation)"
   ]
  },
  {
   "cell_type": "markdown",
   "id": "naughty-gazette",
   "metadata": {},
   "source": [
    "# ClaSP - Window Size Selection\n",
    "\n",
    "ClaSP takes the window size 𝑤 as a hyper-parameter. This parameter has data-dependent effects on ClaSP’s performance. When chosen too small, all windows tend to appear similar; when chosen too large, windows have a higher chance to overlap adjacent segments, blurring their discriminative power. \n",
    "\n",
    "A simple, yet effective method for choosing the window size is the dominant frequency of the Fourier Transform."
   ]
  },
  {
   "cell_type": "code",
   "execution_count": null,
   "id": "premier-pipeline",
   "metadata": {},
   "outputs": [],
   "source": [
    "dominant_period_size = find_dominant_window_sizes(ts)\n",
    "print(\"Dominant Period\", dominant_period_size)"
   ]
  },
  {
   "cell_type": "markdown",
   "id": "chubby-following",
   "metadata": {},
   "source": [
    "Let us run ClaSP with the found dominant period length."
   ]
  },
  {
   "cell_type": "code",
   "execution_count": null,
   "id": "congressional-begin",
   "metadata": {},
   "outputs": [],
   "source": [
    "clasp = ClaSPSegmentation(period_length=dominant_period_size, n_cps=5)\n",
    "found_cps = clasp.fit_predict(ts)\n",
    "profiles = clasp.profiles\n",
    "scores = clasp.scores\n",
    "\n",
    "_ = plot_time_series_with_profiles(\n",
    "    \"ElectricDevices\",\n",
    "    ts,\n",
    "    profiles,\n",
    "    true_cps,\n",
    "    found_cps,\n",
    ")"
   ]
  },
  {
   "cell_type": "code",
   "execution_count": null,
   "id": "current-chamber",
   "metadata": {},
   "outputs": [],
   "source": []
  }
 ],
 "metadata": {
  "kernelspec": {
   "display_name": "Python 3",
   "language": "python",
   "name": "python3"
  },
  "language_info": {
   "codemirror_mode": {
    "name": "ipython",
    "version": 3
   },
   "file_extension": ".py",
   "mimetype": "text/x-python",
   "name": "python",
   "nbconvert_exporter": "python",
   "pygments_lexer": "ipython3",
   "version": "3.7.4"
  }
 },
 "nbformat": 4,
 "nbformat_minor": 5
}
