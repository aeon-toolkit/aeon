{
 "cells": [
  {
   "cell_type": "markdown",
   "source": [
    "# Hidalgo segmentation"
   ],
   "metadata": {
    "collapsed": false
   }
  },
  {
   "cell_type": "code",
   "execution_count": 1,
   "outputs": [
    {
     "ename": "TypeError",
     "evalue": "Can't instantiate abstract class HidalgoSegmenter with abstract method _predict",
     "output_type": "error",
     "traceback": [
      "\u001B[1;31m---------------------------------------------------------------------------\u001B[0m",
      "\u001B[1;31mTypeError\u001B[0m                                 Traceback (most recent call last)",
      "Cell \u001B[1;32mIn[1], line 8\u001B[0m\n\u001B[0;32m      6\u001B[0m X[:\u001B[38;5;241m60\u001B[39m, \u001B[38;5;241m1\u001B[39m:] \u001B[38;5;241m+\u001B[39m\u001B[38;5;241m=\u001B[39m \u001B[38;5;241m10\u001B[39m\n\u001B[0;32m      7\u001B[0m X[\u001B[38;5;241m60\u001B[39m:, \u001B[38;5;241m1\u001B[39m:] \u001B[38;5;241m=\u001B[39m \u001B[38;5;241m0\u001B[39m\n\u001B[1;32m----> 8\u001B[0m hidalgo \u001B[38;5;241m=\u001B[39m \u001B[43mHidalgoSegmenter\u001B[49m\u001B[43m(\u001B[49m\u001B[43mK\u001B[49m\u001B[38;5;241;43m=\u001B[39;49m\u001B[38;5;241;43m2\u001B[39;49m\u001B[43m,\u001B[49m\u001B[43m \u001B[49m\u001B[43mburn_in\u001B[49m\u001B[38;5;241;43m=\u001B[39;49m\u001B[38;5;241;43m0.8\u001B[39;49m\u001B[43m,\u001B[49m\u001B[43m \u001B[49m\u001B[43mn_iter\u001B[49m\u001B[38;5;241;43m=\u001B[39;49m\u001B[38;5;241;43m1000\u001B[39;49m\u001B[43m,\u001B[49m\u001B[43m \u001B[49m\u001B[43mseed\u001B[49m\u001B[38;5;241;43m=\u001B[39;49m\u001B[38;5;241;43m10\u001B[39;49m\u001B[43m)\u001B[49m\n\u001B[0;32m     10\u001B[0m hidalgo\u001B[38;5;241m.\u001B[39mfit_predict()\n",
      "\u001B[1;31mTypeError\u001B[0m: Can't instantiate abstract class HidalgoSegmenter with abstract method _predict"
     ]
    }
   ],
   "source": [
    "import numpy as np\n",
    "\n",
    "from aeon.segmentation import HidalgoSegmenter\n",
    "\n",
    "X = np.random.rand(100, 3)\n",
    "X[:60, 1:] += 10\n",
    "X[60:, 1:] = 0\n",
    "hidalgo = HidalgoSegmenter(K=2, burn_in=0.8, n_iter=1000, seed=10)\n",
    "\n",
    "hidalgo.fit_predict()"
   ],
   "metadata": {
    "collapsed": false
   }
  },
  {
   "cell_type": "code",
   "execution_count": null,
   "outputs": [],
   "source": [],
   "metadata": {
    "collapsed": false
   }
  }
 ],
 "metadata": {
  "kernelspec": {
   "display_name": "Python 3.9.13 ('aeon-dev')",
   "language": "python",
   "name": "python3"
  },
  "language_info": {
   "codemirror_mode": {
    "name": "ipython",
    "version": 3
   },
   "file_extension": ".py",
   "mimetype": "text/x-python",
   "name": "python",
   "nbconvert_exporter": "python",
   "pygments_lexer": "ipython3",
   "version": "3.9.12"
  },
  "orig_nbformat": 4,
  "vscode": {
   "interpreter": {
    "hash": "3672c9971f48dc8b5371767a83a5c009b8758f695819d57d51811323dc5c559e"
   }
  }
 },
 "nbformat": 4,
 "nbformat_minor": 2
}
