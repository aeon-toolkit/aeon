{
 "nbformat": 4,
 "nbformat_minor": 0,
 "metadata": {
  "colab": {
   "provenance": []
  },
  "kernelspec": {
   "name": "python3",
   "display_name": "Python 3"
  },
  "language_info": {
   "name": "python"
  }
 },
 "cells": [
  {
   "cell_type": "markdown",
   "source": [
    "# **E-Agglo:  agglomerative clustering algorithm that preserves observation order.**\n",
    "\n",
    "E-Agglo is a non-parametric clustering approach for multivariate time series, where neighboring segments are sequentially merged to maximize a goodness-of-fit statistic.\n",
    "\n",
    "Unlike most general-purpose agglomerative clustering algorithms, this procedure preserves the time ordering of the observations.\n",
    "\n",
    "This method can detect distributional changes in an independent sequence and does not make any distributional assumptions beyond the existence of an alpha-th moment. It estimates both the number and locations of change points simultaneously.\n",
    "\n",
    "<br>\n",
    "\n",
    "## Parameters\n",
    "\n",
    "`member` : array_like (default=None)  \n",
    "Assigns points to the initial cluster membership. The first dimension should match the size of the input data. If set to None, each point is assigned to a separate cluster by default.\n",
    "\n",
    "`alpha` : float (default=1.0)  \n",
    "A fixed constant alpha in the range (0, 2), used in the divergence measure. It represents the alpha-th absolute moment.\n",
    "\n",
    "`penalty` : str or callable or None (default=None)  \n",
    "A function that penalizes the goodness-of-fit statistic to prevent overfitting. If None, no penalty is applied. Can also be one of the predefined penalty names:  \n",
    "- len_penalty: Penalizes based on segment length.  \n",
    "- mean_diff_penalty: Penalizes based on mean differences between segments.\n",
    "\n",
    "<br>\n",
    "\n",
    "## Attributes\n",
    "\n",
    "`merged_` : array_like\n",
    "\n",
    "A 2D array that records which clusters were merged at each step of the agglomerative process.\n",
    "\n",
    "`gof_` : float\n",
    "\n",
    "The goodness-of-fit statistic for the current segmentation result.\n",
    "\n",
    "`cluster_` : array_like\n",
    "\n",
    "A 1D array that specifies which cluster each row of input data X belongs to.\n",
    "\n"
   ],
   "metadata": {
    "id": "ok5Oes8lYsvX"
   }
  },
  {
   "cell_type": "code",
   "source": [
    "from aeon.segmentation import EAggloSegmenter\n",
    "from aeon.testing.data_generation import make_example_dataframe_series\n",
    "\n",
    "X = make_example_dataframe_series(n_channels=2, random_state=10)\n",
    "model = EAggloSegmenter()\n",
    "y = model.fit_predict(X, axis=0)\n",
    "\n",
    "print(\"Segmented clusters:\", y)"
   ],
   "metadata": {
    "colab": {
     "base_uri": "https://localhost:8080/"
    },
    "id": "nPwNRiecCysi",
    "outputId": "25741c1e-696b-465c-d1c7-979ca66777c6"
   },
   "execution_count": 2,
   "outputs": [
    {
     "output_type": "stream",
     "name": "stdout",
     "text": [
      "Segmented clusters: [0 1]\n"
     ]
    }
   ]
  },
  {
   "cell_type": "code",
   "source": [],
   "metadata": {
    "id": "wNYidqUnW7qO"
   },
   "execution_count": 2,
   "outputs": []
  }
 ]
}
